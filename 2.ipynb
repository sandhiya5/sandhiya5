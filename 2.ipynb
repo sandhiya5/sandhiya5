{
  "cells": [
    {
      "cell_type": "markdown",
      "metadata": {
        "id": "_cMXIOK3ILYh"
      },
      "source": [
        "**MODEL**-CNN-BiLSTM\n",
        "\n",
        "\n",
        "\n",
        "\n",
        "**OPTIMIZER**-Lazy Adam\n",
        "\n",
        "\n",
        "\n",
        "\n",
        "**LEARNING RATE**-10^-4\n",
        "\n",
        "\n",
        "\n",
        "\n",
        "**DROPOUT** -0.45\n",
        "\n",
        "\n",
        "\n",
        "**LSTM LAYER**-272\n",
        "\n",
        "\n",
        "\n",
        "**ACTIVATION**-swish\n",
        "\n",
        "\n",
        "\n",
        "\n",
        "**BATCH SIZE**-96\n",
        "\n",
        "\n",
        "\n",
        "\n",
        "**FILTER**-512 512\n",
        "\n",
        "\n",
        "\n",
        "---\n",
        "\n"
      ]
    },
    {
      "cell_type": "code",
      "execution_count": null,
      "metadata": {
        "colab": {
          "base_uri": "https://localhost:8080/"
        },
        "id": "NfBdoUtmsghZ",
        "outputId": "6547951c-4d81-43a5-fb69-c5c6412aaaa5"
      },
      "outputs": [
        {
          "output_type": "stream",
          "name": "stdout",
          "text": [
            "Looking in indexes: https://pypi.org/simple, https://us-python.pkg.dev/colab-wheels/public/simple/\n",
            "Requirement already satisfied: tensorflow in /usr/local/lib/python3.9/dist-packages (2.12.0)\n",
            "Collecting tensorflow-addons\n",
            "  Downloading tensorflow_addons-0.20.0-cp39-cp39-manylinux_2_17_x86_64.manylinux2014_x86_64.whl (591 kB)\n",
            "\u001b[2K     \u001b[90m━━━━━━━━━━━━━━━━━━━━━━━━━━━━━━━━━━━━━━\u001b[0m \u001b[32m591.0/591.0 kB\u001b[0m \u001b[31m14.0 MB/s\u001b[0m eta \u001b[36m0:00:00\u001b[0m\n",
            "\u001b[?25hRequirement already satisfied: gast<=0.4.0,>=0.2.1 in /usr/local/lib/python3.9/dist-packages (from tensorflow) (0.4.0)\n",
            "Requirement already satisfied: six>=1.12.0 in /usr/local/lib/python3.9/dist-packages (from tensorflow) (1.16.0)\n",
            "Requirement already satisfied: protobuf!=4.21.0,!=4.21.1,!=4.21.2,!=4.21.3,!=4.21.4,!=4.21.5,<5.0.0dev,>=3.20.3 in /usr/local/lib/python3.9/dist-packages (from tensorflow) (3.20.3)\n",
            "Requirement already satisfied: keras<2.13,>=2.12.0 in /usr/local/lib/python3.9/dist-packages (from tensorflow) (2.12.0)\n",
            "Requirement already satisfied: termcolor>=1.1.0 in /usr/local/lib/python3.9/dist-packages (from tensorflow) (2.2.0)\n",
            "Requirement already satisfied: libclang>=13.0.0 in /usr/local/lib/python3.9/dist-packages (from tensorflow) (16.0.0)\n",
            "Requirement already satisfied: typing-extensions>=3.6.6 in /usr/local/lib/python3.9/dist-packages (from tensorflow) (4.5.0)\n",
            "Requirement already satisfied: setuptools in /usr/local/lib/python3.9/dist-packages (from tensorflow) (67.6.1)\n",
            "Requirement already satisfied: tensorboard<2.13,>=2.12 in /usr/local/lib/python3.9/dist-packages (from tensorflow) (2.12.1)\n",
            "Requirement already satisfied: grpcio<2.0,>=1.24.3 in /usr/local/lib/python3.9/dist-packages (from tensorflow) (1.53.0)\n",
            "Requirement already satisfied: tensorflow-io-gcs-filesystem>=0.23.1 in /usr/local/lib/python3.9/dist-packages (from tensorflow) (0.32.0)\n",
            "Requirement already satisfied: astunparse>=1.6.0 in /usr/local/lib/python3.9/dist-packages (from tensorflow) (1.6.3)\n",
            "Requirement already satisfied: numpy<1.24,>=1.22 in /usr/local/lib/python3.9/dist-packages (from tensorflow) (1.22.4)\n",
            "Requirement already satisfied: google-pasta>=0.1.1 in /usr/local/lib/python3.9/dist-packages (from tensorflow) (0.2.0)\n",
            "Requirement already satisfied: wrapt<1.15,>=1.11.0 in /usr/local/lib/python3.9/dist-packages (from tensorflow) (1.14.1)\n",
            "Requirement already satisfied: opt-einsum>=2.3.2 in /usr/local/lib/python3.9/dist-packages (from tensorflow) (3.3.0)\n",
            "Requirement already satisfied: flatbuffers>=2.0 in /usr/local/lib/python3.9/dist-packages (from tensorflow) (23.3.3)\n",
            "Requirement already satisfied: tensorflow-estimator<2.13,>=2.12.0 in /usr/local/lib/python3.9/dist-packages (from tensorflow) (2.12.0)\n",
            "Requirement already satisfied: jax>=0.3.15 in /usr/local/lib/python3.9/dist-packages (from tensorflow) (0.4.8)\n",
            "Requirement already satisfied: h5py>=2.9.0 in /usr/local/lib/python3.9/dist-packages (from tensorflow) (3.8.0)\n",
            "Requirement already satisfied: absl-py>=1.0.0 in /usr/local/lib/python3.9/dist-packages (from tensorflow) (1.4.0)\n",
            "Requirement already satisfied: packaging in /usr/local/lib/python3.9/dist-packages (from tensorflow) (23.0)\n",
            "Collecting typeguard<3.0.0,>=2.7\n",
            "  Downloading typeguard-2.13.3-py3-none-any.whl (17 kB)\n",
            "Requirement already satisfied: wheel<1.0,>=0.23.0 in /usr/local/lib/python3.9/dist-packages (from astunparse>=1.6.0->tensorflow) (0.40.0)\n",
            "Requirement already satisfied: scipy>=1.7 in /usr/local/lib/python3.9/dist-packages (from jax>=0.3.15->tensorflow) (1.10.1)\n",
            "Requirement already satisfied: ml-dtypes>=0.0.3 in /usr/local/lib/python3.9/dist-packages (from jax>=0.3.15->tensorflow) (0.0.4)\n",
            "Requirement already satisfied: markdown>=2.6.8 in /usr/local/lib/python3.9/dist-packages (from tensorboard<2.13,>=2.12->tensorflow) (3.4.3)\n",
            "Requirement already satisfied: tensorboard-data-server<0.8.0,>=0.7.0 in /usr/local/lib/python3.9/dist-packages (from tensorboard<2.13,>=2.12->tensorflow) (0.7.0)\n",
            "Requirement already satisfied: tensorboard-plugin-wit>=1.6.0 in /usr/local/lib/python3.9/dist-packages (from tensorboard<2.13,>=2.12->tensorflow) (1.8.1)\n",
            "Requirement already satisfied: google-auth<3,>=1.6.3 in /usr/local/lib/python3.9/dist-packages (from tensorboard<2.13,>=2.12->tensorflow) (2.17.2)\n",
            "Requirement already satisfied: google-auth-oauthlib<1.1,>=0.5 in /usr/local/lib/python3.9/dist-packages (from tensorboard<2.13,>=2.12->tensorflow) (1.0.0)\n",
            "Requirement already satisfied: werkzeug>=1.0.1 in /usr/local/lib/python3.9/dist-packages (from tensorboard<2.13,>=2.12->tensorflow) (2.2.3)\n",
            "Requirement already satisfied: requests<3,>=2.21.0 in /usr/local/lib/python3.9/dist-packages (from tensorboard<2.13,>=2.12->tensorflow) (2.27.1)\n",
            "Requirement already satisfied: rsa<5,>=3.1.4 in /usr/local/lib/python3.9/dist-packages (from google-auth<3,>=1.6.3->tensorboard<2.13,>=2.12->tensorflow) (4.9)\n",
            "Requirement already satisfied: cachetools<6.0,>=2.0.0 in /usr/local/lib/python3.9/dist-packages (from google-auth<3,>=1.6.3->tensorboard<2.13,>=2.12->tensorflow) (5.3.0)\n",
            "Requirement already satisfied: pyasn1-modules>=0.2.1 in /usr/local/lib/python3.9/dist-packages (from google-auth<3,>=1.6.3->tensorboard<2.13,>=2.12->tensorflow) (0.2.8)\n",
            "Requirement already satisfied: requests-oauthlib>=0.7.0 in /usr/local/lib/python3.9/dist-packages (from google-auth-oauthlib<1.1,>=0.5->tensorboard<2.13,>=2.12->tensorflow) (1.3.1)\n",
            "Requirement already satisfied: importlib-metadata>=4.4 in /usr/local/lib/python3.9/dist-packages (from markdown>=2.6.8->tensorboard<2.13,>=2.12->tensorflow) (6.3.0)\n",
            "Requirement already satisfied: urllib3<1.27,>=1.21.1 in /usr/local/lib/python3.9/dist-packages (from requests<3,>=2.21.0->tensorboard<2.13,>=2.12->tensorflow) (1.26.15)\n",
            "Requirement already satisfied: charset-normalizer~=2.0.0 in /usr/local/lib/python3.9/dist-packages (from requests<3,>=2.21.0->tensorboard<2.13,>=2.12->tensorflow) (2.0.12)\n",
            "Requirement already satisfied: idna<4,>=2.5 in /usr/local/lib/python3.9/dist-packages (from requests<3,>=2.21.0->tensorboard<2.13,>=2.12->tensorflow) (3.4)\n",
            "Requirement already satisfied: certifi>=2017.4.17 in /usr/local/lib/python3.9/dist-packages (from requests<3,>=2.21.0->tensorboard<2.13,>=2.12->tensorflow) (2022.12.7)\n",
            "Requirement already satisfied: MarkupSafe>=2.1.1 in /usr/local/lib/python3.9/dist-packages (from werkzeug>=1.0.1->tensorboard<2.13,>=2.12->tensorflow) (2.1.2)\n",
            "Requirement already satisfied: zipp>=0.5 in /usr/local/lib/python3.9/dist-packages (from importlib-metadata>=4.4->markdown>=2.6.8->tensorboard<2.13,>=2.12->tensorflow) (3.15.0)\n",
            "Requirement already satisfied: pyasn1<0.5.0,>=0.4.6 in /usr/local/lib/python3.9/dist-packages (from pyasn1-modules>=0.2.1->google-auth<3,>=1.6.3->tensorboard<2.13,>=2.12->tensorflow) (0.4.8)\n",
            "Requirement already satisfied: oauthlib>=3.0.0 in /usr/local/lib/python3.9/dist-packages (from requests-oauthlib>=0.7.0->google-auth-oauthlib<1.1,>=0.5->tensorboard<2.13,>=2.12->tensorflow) (3.2.2)\n",
            "Installing collected packages: typeguard, tensorflow-addons\n",
            "Successfully installed tensorflow-addons-0.20.0 typeguard-2.13.3\n"
          ]
        }
      ],
      "source": [
        "pip install --upgrade tensorflow tensorflow-addons"
      ]
    },
    {
      "cell_type": "code",
      "execution_count": null,
      "metadata": {
        "id": "ZnHw5Ze_trnQ"
      },
      "outputs": [],
      "source": []
    },
    {
      "cell_type": "code",
      "execution_count": null,
      "metadata": {
        "colab": {
          "base_uri": "https://localhost:8080/"
        },
        "id": "-mqJs6ZEwYSj",
        "outputId": "c547f294-32c9-481b-e923-2ccd7e4ed579"
      },
      "outputs": [
        {
          "output_type": "stream",
          "name": "stdout",
          "text": [
            "Looking in indexes: https://pypi.org/simple, https://us-python.pkg.dev/colab-wheels/public/simple/\n",
            "Collecting chart-studio\n",
            "  Downloading chart_studio-1.1.0-py3-none-any.whl (64 kB)\n",
            "\u001b[2K     \u001b[90m━━━━━━━━━━━━━━━━━━━━━━━━━━━━━━━━━━━━━━━━\u001b[0m \u001b[32m64.4/64.4 kB\u001b[0m \u001b[31m6.0 MB/s\u001b[0m eta \u001b[36m0:00:00\u001b[0m\n",
            "\u001b[?25hRequirement already satisfied: requests in /usr/local/lib/python3.9/dist-packages (from chart-studio) (2.27.1)\n",
            "Requirement already satisfied: six in /usr/local/lib/python3.9/dist-packages (from chart-studio) (1.16.0)\n",
            "Collecting retrying>=1.3.3\n",
            "  Downloading retrying-1.3.4-py3-none-any.whl (11 kB)\n",
            "Requirement already satisfied: plotly in /usr/local/lib/python3.9/dist-packages (from chart-studio) (5.13.1)\n",
            "Requirement already satisfied: tenacity>=6.2.0 in /usr/local/lib/python3.9/dist-packages (from plotly->chart-studio) (8.2.2)\n",
            "Requirement already satisfied: certifi>=2017.4.17 in /usr/local/lib/python3.9/dist-packages (from requests->chart-studio) (2022.12.7)\n",
            "Requirement already satisfied: idna<4,>=2.5 in /usr/local/lib/python3.9/dist-packages (from requests->chart-studio) (3.4)\n",
            "Requirement already satisfied: urllib3<1.27,>=1.21.1 in /usr/local/lib/python3.9/dist-packages (from requests->chart-studio) (1.26.15)\n",
            "Requirement already satisfied: charset-normalizer~=2.0.0 in /usr/local/lib/python3.9/dist-packages (from requests->chart-studio) (2.0.12)\n",
            "Installing collected packages: retrying, chart-studio\n",
            "Successfully installed chart-studio-1.1.0 retrying-1.3.4\n"
          ]
        }
      ],
      "source": [
        "pip install chart-studio"
      ]
    },
    {
      "cell_type": "code",
      "execution_count": null,
      "metadata": {
        "id": "9-VwAkt1wig5"
      },
      "outputs": [],
      "source": [
        "pip install -q -U tensorflow-addons"
      ]
    },
    {
      "cell_type": "code",
      "execution_count": null,
      "metadata": {
        "id": "MOMIOe2Xc7Pz"
      },
      "outputs": [],
      "source": [
        "import time\n",
        "start_time=time.time()"
      ]
    },
    {
      "cell_type": "markdown",
      "metadata": {
        "id": "im7SNt_ww_Lh"
      },
      "source": [
        "Import necessary libraries\n"
      ]
    },
    {
      "cell_type": "code",
      "execution_count": null,
      "metadata": {
        "colab": {
          "base_uri": "https://localhost:8080/",
          "height": 181
        },
        "id": "rNmRWY_0VttW",
        "outputId": "e8d664d0-92ca-4508-f2a6-bdeb0286e52c"
      },
      "outputs": [
        {
          "output_type": "stream",
          "name": "stderr",
          "text": [
            "/usr/local/lib/python3.9/dist-packages/tensorflow_addons/utils/tfa_eol_msg.py:23: UserWarning: \n",
            "\n",
            "TensorFlow Addons (TFA) has ended development and introduction of new features.\n",
            "TFA has entered a minimal maintenance and release mode until a planned end of life in May 2024.\n",
            "Please modify downstream libraries to take dependencies from other repositories in our TensorFlow community (e.g. Keras, Keras-CV, and Keras-NLP). \n",
            "\n",
            "For more information see: https://github.com/tensorflow/addons/issues/2807 \n",
            "\n",
            "  warnings.warn(\n"
          ]
        },
        {
          "output_type": "display_data",
          "data": {
            "text/html": [
              "        <script type=\"text/javascript\">\n",
              "        window.PlotlyConfig = {MathJaxConfig: 'local'};\n",
              "        if (window.MathJax && window.MathJax.Hub && window.MathJax.Hub.Config) {window.MathJax.Hub.Config({SVG: {font: \"STIX-Web\"}});}\n",
              "        if (typeof require !== 'undefined') {\n",
              "        require.undef(\"plotly\");\n",
              "        requirejs.config({\n",
              "            paths: {\n",
              "                'plotly': ['https://cdn.plot.ly/plotly-2.18.2.min']\n",
              "            }\n",
              "        });\n",
              "        require(['plotly'], function(Plotly) {\n",
              "            window._Plotly = Plotly;\n",
              "        });\n",
              "        }\n",
              "        </script>\n",
              "        "
            ]
          },
          "metadata": {}
        }
      ],
      "source": [
        "import warnings\n",
        "import numpy as np\n",
        "import pandas as pd\n",
        "import tensorflow\n",
        "import tensorflow_addons as tfa\n",
        "import matplotlib.pyplot as plt\n",
        "from tensorflow_addons.optimizers import LazyAdam\n",
        "from keras.layers import Dropout\n",
        "\n",
        "from keras.models import Sequential, Model\n",
        "from keras.layers.convolutional import Conv1D, MaxPooling1D\n",
        "from keras.layers import Dense, LSTM, RepeatVector, TimeDistributed, Flatten\n",
        "from sklearn.metrics import mean_squared_error\n",
        "from sklearn.preprocessing import OneHotEncoder\n",
        "from sklearn.model_selection import train_test_split\n",
        "from chart_studio import plotly as py\n",
        "import plotly.graph_objs as go\n",
        "from plotly.offline import init_notebook_mode, iplot\n",
        "\n",
        "%matplotlib inline\n",
        "warnings.filterwarnings(\"ignore\")\n",
        "init_notebook_mode(connected=True)\n",
        "\n",
        "from numpy.random import seed\n",
        "seed(1)\n",
        "from tensorflow import random\n",
        "random.set_seed(1)"
      ]
    },
    {
      "cell_type": "markdown",
      "metadata": {
        "id": "hTnF6K8GxN8F"
      },
      "source": [
        "LOAD DATA\n"
      ]
    },
    {
      "cell_type": "code",
      "execution_count": null,
      "metadata": {
        "id": "pD1D5c0uxTD9"
      },
      "outputs": [],
      "source": [
        "train = pd.read_csv('train.csv', parse_dates=['date'])\n",
        "test = pd.read_csv('test.csv', parse_dates=['date'])"
      ]
    },
    {
      "cell_type": "markdown",
      "metadata": {
        "id": "llG5ek-HdyB2"
      },
      "source": [
        "One-hot Encoding"
      ]
    },
    {
      "cell_type": "code",
      "execution_count": null,
      "metadata": {
        "id": "KeH8xVlqANdX"
      },
      "outputs": [],
      "source": [
        "import pandas as pd\n",
        "import numpy as np\n",
        "\n",
        "train = pd.read_csv('train.csv', parse_dates=['date'])\n",
        "test = pd.read_csv('test.csv', parse_dates=['date'])\n",
        "\n",
        "# create new column weekday\n",
        "train['weekday'] = np.where(train['date'].dt.dayofweek < 5, 0, 1)\n",
        "test['weekday'] = np.where(test['date'].dt.dayofweek < 5, 0, 1)\n",
        "# perform one-hot encoding\n",
        "train = pd.get_dummies(train, columns=['weekday'])\n",
        "test = pd.get_dummies(test, columns=['weekday'])\n",
        "\n",
        "#fill sales data with 0 in test set\n",
        "test['sales'] = 0\n"
      ]
    },
    {
      "cell_type": "markdown",
      "metadata": {
        "id": "X1QRlbvmd--r"
      },
      "source": [
        "MinMax Scaling"
      ]
    },
    {
      "cell_type": "code",
      "execution_count": null,
      "metadata": {
        "id": "RH6yNo6YC5cf"
      },
      "outputs": [],
      "source": [
        "import numpy as np\n",
        "from sklearn.preprocessing import MinMaxScaler\n",
        "\n",
        "# Convert the 'date' column to datetime format\n",
        "train['date'] = pd.to_datetime(train['date'])\n",
        "\n",
        "# Create weekday and weekend indicator variables based on the 'date' column\n",
        "train['weekday_weekend'] = np.where(train['date'].dt.weekday < 5, 'weekday', 'weekend')\n",
        "\n",
        "# Select columns to be scaled\n",
        "val_cols = ['store', 'item']\n",
        "num_cols = ['sales']\n",
        "\n",
        "# Scale the numerical columns using MinMaxScaler\n",
        "scaler = MinMaxScaler(feature_range=(0, 200))\n",
        "train[num_cols] = scaler.fit_transform(train[num_cols])\n",
        "\n",
        "# Add the 'date', 'store', and 'item' columns back to the dataset\n",
        "train = train[['date'] + val_cols + num_cols + ['weekday_weekend']]"
      ]
    },
    {
      "cell_type": "markdown",
      "metadata": {
        "id": "6JgwgmgcxY0l"
      },
      "source": [
        "**Train** data description\n"
      ]
    },
    {
      "cell_type": "code",
      "execution_count": null,
      "metadata": {
        "colab": {
          "base_uri": "https://localhost:8080/"
        },
        "id": "txtidyE0cGhm",
        "outputId": "d4e628f7-a534-4405-c25b-8cc9e24f0183"
      },
      "outputs": [
        {
          "output_type": "stream",
          "name": "stdout",
          "text": [
            "               store           item          sales\n",
            "count  913000.000000  913000.000000  913000.000000\n",
            "mean        5.500000      25.500000      45.238344\n",
            "std         2.872283      14.430878      24.936055\n",
            "min         1.000000       1.000000       0.000000\n",
            "25%         3.000000      13.000000      25.974026\n",
            "50%         5.500000      25.500000      40.692641\n",
            "75%         8.000000      38.000000      60.606061\n",
            "max        10.000000      50.000000     200.000000\n",
            "        date  store  item      sales weekday_weekend\n",
            "0 2013-01-01      1     1  11.255411         weekday\n",
            "1 2013-01-02      1     1   9.523810         weekday\n",
            "2 2013-01-03      1     1  12.121212         weekday\n",
            "3 2013-01-04      1     1  11.255411         weekday\n",
            "4 2013-01-05      1     1   8.658009         weekend\n"
          ]
        }
      ],
      "source": [
        "print(train.describe())\n",
        "print(train.head())"
      ]
    },
    {
      "cell_type": "code",
      "execution_count": null,
      "metadata": {
        "id": "Ki20CvJmN54Y"
      },
      "outputs": [],
      "source": [
        "import pandas as pd\n",
        "# sort the 'date' column in each DataFrame in descending order\n",
        "train = train.sort_values('date', ascending=True)\n",
        "test = test.sort_values('date', ascending=True)\n",
        "\n",
        "# extract the latest date from each DataFrame\n",
        "train_last_date = train.iloc[-1]['date']\n",
        "test_last_date = test.iloc[-1]['date']\n",
        "\n",
        "# convert latest dates to datetime objects and format them as strings\n",
        "train_last_date = pd.to_datetime(train_last_date).strftime('%Y-%m-%d')\n",
        "test_last_date = pd.to_datetime(test_last_date).strftime('%Y-%m-%d')"
      ]
    },
    {
      "cell_type": "code",
      "execution_count": null,
      "metadata": {
        "colab": {
          "base_uri": "https://localhost:8080/"
        },
        "id": "qE3LgCxVxjg8",
        "outputId": "bb77750c-96b7-45c4-cb93-265bfa37a2f2"
      },
      "outputs": [
        {
          "output_type": "stream",
          "name": "stdout",
          "text": [
            "Train set date range: 2013-01-01 00:00:00 to 2017-12-31 00:00:00\n",
            "Test set date range: 2018-01-01 00:00:00 to 2018-03-31 00:00:00\n"
          ]
        }
      ],
      "source": [
        "# Print minimum and maximum date of train set\n",
        "print(\"Train set date range: {} to {}\".format(train['date'].min(), train['date'].max()))\n",
        "\n",
        "# Print minimum and maximum date of test set\n",
        "print(\"Test set date range: {} to {}\".format(test['date'].min(), test['date'].max()))"
      ]
    },
    {
      "cell_type": "code",
      "execution_count": null,
      "metadata": {
        "colab": {
          "base_uri": "https://localhost:8080/"
        },
        "id": "oqpx0_LwxqwM",
        "outputId": "a634ea72-f87b-41c8-e927-e39ac86cd1fd"
      },
      "outputs": [
        {
          "output_type": "stream",
          "name": "stdout",
          "text": [
            "Train last date: 2017-12-31\n",
            "Test last date: 2018-03-31\n",
            "Number of days between train and test last dates: 90\n"
          ]
        }
      ],
      "source": [
        "# print the latest dates and the number of days between them\n",
        "print(\"Train last date:\", train_last_date)\n",
        "print(\"Test last date:\", test_last_date)\n",
        "lag_size = (pd.to_datetime(test_last_date) - pd.to_datetime(train_last_date)).days\n",
        "print(\"Number of days between train and test last dates:\", lag_size)\n"
      ]
    },
    {
      "cell_type": "code",
      "execution_count": null,
      "metadata": {
        "id": "ZyHBerwAxuX0"
      },
      "outputs": [],
      "source": [
        "daily_sales = train.groupby('date', as_index=False)['sales'].sum()\n",
        "store_daily_sales = train.groupby(['store', 'date'], as_index=False)['sales'].sum()\n",
        "item_daily_sales = train.groupby(['item', 'date'], as_index=False)['sales'].sum()"
      ]
    },
    {
      "cell_type": "code",
      "execution_count": null,
      "metadata": {
        "colab": {
          "base_uri": "https://localhost:8080/",
          "height": 542
        },
        "id": "Kd_MndMUx1CM",
        "outputId": "e055f474-b10b-4011-8e70-4b2f26d5a85d"
      },
      "outputs": [
        {
          "output_type": "display_data",
          "data": {
            "text/html": [
              "<html>\n",
              "<head><meta charset=\"utf-8\" /></head>\n",
              "<body>\n",
              "    <div>            <script src=\"https://cdnjs.cloudflare.com/ajax/libs/mathjax/2.7.5/MathJax.js?config=TeX-AMS-MML_SVG\"></script><script type=\"text/javascript\">if (window.MathJax && window.MathJax.Hub && window.MathJax.Hub.Config) {window.MathJax.Hub.Config({SVG: {font: \"STIX-Web\"}});}</script>                <script type=\"text/javascript\">window.PlotlyConfig = {MathJaxConfig: 'local'};</script>\n",
              "        <script src=\"https://cdn.plot.ly/plotly-2.18.2.min.js\"></script>                <div id=\"fbe236b0-6a03-4852-9486-183e92c5bb80\" class=\"plotly-graph-div\" style=\"height:525px; width:100%;\"></div>            <script type=\"text/javascript\">                                    window.PLOTLYENV=window.PLOTLYENV || {};                                    if (document.getElementById(\"fbe236b0-6a03-4852-9486-183e92c5bb80\")) {                    Plotly.newPlot(                        \"fbe236b0-6a03-4852-9486-183e92c5bb80\",                        [{\"x\":[\"2013-01-01T00:00:00\",\"2013-01-02T00:00:00\",\"2013-01-03T00:00:00\",\"2013-01-04T00:00:00\",\"2013-01-05T00:00:00\",\"2013-01-06T00:00:00\",\"2013-01-07T00:00:00\",\"2013-01-08T00:00:00\",\"2013-01-09T00:00:00\",\"2013-01-10T00:00:00\",\"2013-01-11T00:00:00\",\"2013-01-12T00:00:00\",\"2013-01-13T00:00:00\",\"2013-01-14T00:00:00\",\"2013-01-15T00:00:00\",\"2013-01-16T00:00:00\",\"2013-01-17T00:00:00\",\"2013-01-18T00:00:00\",\"2013-01-19T00:00:00\",\"2013-01-20T00:00:00\",\"2013-01-21T00:00:00\",\"2013-01-22T00:00:00\",\"2013-01-23T00:00:00\",\"2013-01-24T00:00:00\",\"2013-01-25T00:00:00\",\"2013-01-26T00:00:00\",\"2013-01-27T00:00:00\",\"2013-01-28T00:00:00\",\"2013-01-29T00:00:00\",\"2013-01-30T00:00:00\",\"2013-01-31T00:00:00\",\"2013-02-01T00:00:00\",\"2013-02-02T00:00:00\",\"2013-02-03T00:00:00\",\"2013-02-04T00:00:00\",\"2013-02-05T00:00:00\",\"2013-02-06T00:00:00\",\"2013-02-07T00:00:00\",\"2013-02-08T00:00:00\",\"2013-02-09T00:00:00\",\"2013-02-10T00:00:00\",\"2013-02-11T00:00:00\",\"2013-02-12T00:00:00\",\"2013-02-13T00:00:00\",\"2013-02-14T00:00:00\",\"2013-02-15T00:00:00\",\"2013-02-16T00:00:00\",\"2013-02-17T00:00:00\",\"2013-02-18T00:00:00\",\"2013-02-19T00:00:00\",\"2013-02-20T00:00:00\",\"2013-02-21T00:00:00\",\"2013-02-22T00:00:00\",\"2013-02-23T00:00:00\",\"2013-02-24T00:00:00\",\"2013-02-25T00:00:00\",\"2013-02-26T00:00:00\",\"2013-02-27T00:00:00\",\"2013-02-28T00:00:00\",\"2013-03-01T00:00:00\",\"2013-03-02T00:00:00\",\"2013-03-03T00:00:00\",\"2013-03-04T00:00:00\",\"2013-03-05T00:00:00\",\"2013-03-06T00:00:00\",\"2013-03-07T00:00:00\",\"2013-03-08T00:00:00\",\"2013-03-09T00:00:00\",\"2013-03-10T00:00:00\",\"2013-03-11T00:00:00\",\"2013-03-12T00:00:00\",\"2013-03-13T00:00:00\",\"2013-03-14T00:00:00\",\"2013-03-15T00:00:00\",\"2013-03-16T00:00:00\",\"2013-03-17T00:00:00\",\"2013-03-18T00:00:00\",\"2013-03-19T00:00:00\",\"2013-03-20T00:00:00\",\"2013-03-21T00:00:00\",\"2013-03-22T00:00:00\",\"2013-03-23T00:00:00\",\"2013-03-24T00:00:00\",\"2013-03-25T00:00:00\",\"2013-03-26T00:00:00\",\"2013-03-27T00:00:00\",\"2013-03-28T00:00:00\",\"2013-03-29T00:00:00\",\"2013-03-30T00:00:00\",\"2013-03-31T00:00:00\",\"2013-04-01T00:00:00\",\"2013-04-02T00:00:00\",\"2013-04-03T00:00:00\",\"2013-04-04T00:00:00\",\"2013-04-05T00:00:00\",\"2013-04-06T00:00:00\",\"2013-04-07T00:00:00\",\"2013-04-08T00:00:00\",\"2013-04-09T00:00:00\",\"2013-04-10T00:00:00\",\"2013-04-11T00:00:00\",\"2013-04-12T00:00:00\",\"2013-04-13T00:00:00\",\"2013-04-14T00:00:00\",\"2013-04-15T00:00:00\",\"2013-04-16T00:00:00\",\"2013-04-17T00:00:00\",\"2013-04-18T00:00:00\",\"2013-04-19T00:00:00\",\"2013-04-20T00:00:00\",\"2013-04-21T00:00:00\",\"2013-04-22T00:00:00\",\"2013-04-23T00:00:00\",\"2013-04-24T00:00:00\",\"2013-04-25T00:00:00\",\"2013-04-26T00:00:00\",\"2013-04-27T00:00:00\",\"2013-04-28T00:00:00\",\"2013-04-29T00:00:00\",\"2013-04-30T00:00:00\",\"2013-05-01T00:00:00\",\"2013-05-02T00:00:00\",\"2013-05-03T00:00:00\",\"2013-05-04T00:00:00\",\"2013-05-05T00:00:00\",\"2013-05-06T00:00:00\",\"2013-05-07T00:00:00\",\"2013-05-08T00:00:00\",\"2013-05-09T00:00:00\",\"2013-05-10T00:00:00\",\"2013-05-11T00:00:00\",\"2013-05-12T00:00:00\",\"2013-05-13T00:00:00\",\"2013-05-14T00:00:00\",\"2013-05-15T00:00:00\",\"2013-05-16T00:00:00\",\"2013-05-17T00:00:00\",\"2013-05-18T00:00:00\",\"2013-05-19T00:00:00\",\"2013-05-20T00:00:00\",\"2013-05-21T00:00:00\",\"2013-05-22T00:00:00\",\"2013-05-23T00:00:00\",\"2013-05-24T00:00:00\",\"2013-05-25T00:00:00\",\"2013-05-26T00:00:00\",\"2013-05-27T00:00:00\",\"2013-05-28T00:00:00\",\"2013-05-29T00:00:00\",\"2013-05-30T00:00:00\",\"2013-05-31T00:00:00\",\"2013-06-01T00:00:00\",\"2013-06-02T00:00:00\",\"2013-06-03T00:00:00\",\"2013-06-04T00:00:00\",\"2013-06-05T00:00:00\",\"2013-06-06T00:00:00\",\"2013-06-07T00:00:00\",\"2013-06-08T00:00:00\",\"2013-06-09T00:00:00\",\"2013-06-10T00:00:00\",\"2013-06-11T00:00:00\",\"2013-06-12T00:00:00\",\"2013-06-13T00:00:00\",\"2013-06-14T00:00:00\",\"2013-06-15T00:00:00\",\"2013-06-16T00:00:00\",\"2013-06-17T00:00:00\",\"2013-06-18T00:00:00\",\"2013-06-19T00:00:00\",\"2013-06-20T00:00:00\",\"2013-06-21T00:00:00\",\"2013-06-22T00:00:00\",\"2013-06-23T00:00:00\",\"2013-06-24T00:00:00\",\"2013-06-25T00:00:00\",\"2013-06-26T00:00:00\",\"2013-06-27T00:00:00\",\"2013-06-28T00:00:00\",\"2013-06-29T00:00:00\",\"2013-06-30T00:00:00\",\"2013-07-01T00:00:00\",\"2013-07-02T00:00:00\",\"2013-07-03T00:00:00\",\"2013-07-04T00:00:00\",\"2013-07-05T00:00:00\",\"2013-07-06T00:00:00\",\"2013-07-07T00:00:00\",\"2013-07-08T00:00:00\",\"2013-07-09T00:00:00\",\"2013-07-10T00:00:00\",\"2013-07-11T00:00:00\",\"2013-07-12T00:00:00\",\"2013-07-13T00:00:00\",\"2013-07-14T00:00:00\",\"2013-07-15T00:00:00\",\"2013-07-16T00:00:00\",\"2013-07-17T00:00:00\",\"2013-07-18T00:00:00\",\"2013-07-19T00:00:00\",\"2013-07-20T00:00:00\",\"2013-07-21T00:00:00\",\"2013-07-22T00:00:00\",\"2013-07-23T00:00:00\",\"2013-07-24T00:00:00\",\"2013-07-25T00:00:00\",\"2013-07-26T00:00:00\",\"2013-07-27T00:00:00\",\"2013-07-28T00:00:00\",\"2013-07-29T00:00:00\",\"2013-07-30T00:00:00\",\"2013-07-31T00:00:00\",\"2013-08-01T00:00:00\",\"2013-08-02T00:00:00\",\"2013-08-03T00:00:00\",\"2013-08-04T00:00:00\",\"2013-08-05T00:00:00\",\"2013-08-06T00:00:00\",\"2013-08-07T00:00:00\",\"2013-08-08T00:00:00\",\"2013-08-09T00:00:00\",\"2013-08-10T00:00:00\",\"2013-08-11T00:00:00\",\"2013-08-12T00:00:00\",\"2013-08-13T00:00:00\",\"2013-08-14T00:00:00\",\"2013-08-15T00:00:00\",\"2013-08-16T00:00:00\",\"2013-08-17T00:00:00\",\"2013-08-18T00:00:00\",\"2013-08-19T00:00:00\",\"2013-08-20T00:00:00\",\"2013-08-21T00:00:00\",\"2013-08-22T00:00:00\",\"2013-08-23T00:00:00\",\"2013-08-24T00:00:00\",\"2013-08-25T00:00:00\",\"2013-08-26T00:00:00\",\"2013-08-27T00:00:00\",\"2013-08-28T00:00:00\",\"2013-08-29T00:00:00\",\"2013-08-30T00:00:00\",\"2013-08-31T00:00:00\",\"2013-09-01T00:00:00\",\"2013-09-02T00:00:00\",\"2013-09-03T00:00:00\",\"2013-09-04T00:00:00\",\"2013-09-05T00:00:00\",\"2013-09-06T00:00:00\",\"2013-09-07T00:00:00\",\"2013-09-08T00:00:00\",\"2013-09-09T00:00:00\",\"2013-09-10T00:00:00\",\"2013-09-11T00:00:00\",\"2013-09-12T00:00:00\",\"2013-09-13T00:00:00\",\"2013-09-14T00:00:00\",\"2013-09-15T00:00:00\",\"2013-09-16T00:00:00\",\"2013-09-17T00:00:00\",\"2013-09-18T00:00:00\",\"2013-09-19T00:00:00\",\"2013-09-20T00:00:00\",\"2013-09-21T00:00:00\",\"2013-09-22T00:00:00\",\"2013-09-23T00:00:00\",\"2013-09-24T00:00:00\",\"2013-09-25T00:00:00\",\"2013-09-26T00:00:00\",\"2013-09-27T00:00:00\",\"2013-09-28T00:00:00\",\"2013-09-29T00:00:00\",\"2013-09-30T00:00:00\",\"2013-10-01T00:00:00\",\"2013-10-02T00:00:00\",\"2013-10-03T00:00:00\",\"2013-10-04T00:00:00\",\"2013-10-05T00:00:00\",\"2013-10-06T00:00:00\",\"2013-10-07T00:00:00\",\"2013-10-08T00:00:00\",\"2013-10-09T00:00:00\",\"2013-10-10T00:00:00\",\"2013-10-11T00:00:00\",\"2013-10-12T00:00:00\",\"2013-10-13T00:00:00\",\"2013-10-14T00:00:00\",\"2013-10-15T00:00:00\",\"2013-10-16T00:00:00\",\"2013-10-17T00:00:00\",\"2013-10-18T00:00:00\",\"2013-10-19T00:00:00\",\"2013-10-20T00:00:00\",\"2013-10-21T00:00:00\",\"2013-10-22T00:00:00\",\"2013-10-23T00:00:00\",\"2013-10-24T00:00:00\",\"2013-10-25T00:00:00\",\"2013-10-26T00:00:00\",\"2013-10-27T00:00:00\",\"2013-10-28T00:00:00\",\"2013-10-29T00:00:00\",\"2013-10-30T00:00:00\",\"2013-10-31T00:00:00\",\"2013-11-01T00:00:00\",\"2013-11-02T00:00:00\",\"2013-11-03T00:00:00\",\"2013-11-04T00:00:00\",\"2013-11-05T00:00:00\",\"2013-11-06T00:00:00\",\"2013-11-07T00:00:00\",\"2013-11-08T00:00:00\",\"2013-11-09T00:00:00\",\"2013-11-10T00:00:00\",\"2013-11-11T00:00:00\",\"2013-11-12T00:00:00\",\"2013-11-13T00:00:00\",\"2013-11-14T00:00:00\",\"2013-11-15T00:00:00\",\"2013-11-16T00:00:00\",\"2013-11-17T00:00:00\",\"2013-11-18T00:00:00\",\"2013-11-19T00:00:00\",\"2013-11-20T00:00:00\",\"2013-11-21T00:00:00\",\"2013-11-22T00:00:00\",\"2013-11-23T00:00:00\",\"2013-11-24T00:00:00\",\"2013-11-25T00:00:00\",\"2013-11-26T00:00:00\",\"2013-11-27T00:00:00\",\"2013-11-28T00:00:00\",\"2013-11-29T00:00:00\",\"2013-11-30T00:00:00\",\"2013-12-01T00:00:00\",\"2013-12-02T00:00:00\",\"2013-12-03T00:00:00\",\"2013-12-04T00:00:00\",\"2013-12-05T00:00:00\",\"2013-12-06T00:00:00\",\"2013-12-07T00:00:00\",\"2013-12-08T00:00:00\",\"2013-12-09T00:00:00\",\"2013-12-10T00:00:00\",\"2013-12-11T00:00:00\",\"2013-12-12T00:00:00\",\"2013-12-13T00:00:00\",\"2013-12-14T00:00:00\",\"2013-12-15T00:00:00\",\"2013-12-16T00:00:00\",\"2013-12-17T00:00:00\",\"2013-12-18T00:00:00\",\"2013-12-19T00:00:00\",\"2013-12-20T00:00:00\",\"2013-12-21T00:00:00\",\"2013-12-22T00:00:00\",\"2013-12-23T00:00:00\",\"2013-12-24T00:00:00\",\"2013-12-25T00:00:00\",\"2013-12-26T00:00:00\",\"2013-12-27T00:00:00\",\"2013-12-28T00:00:00\",\"2013-12-29T00:00:00\",\"2013-12-30T00:00:00\",\"2013-12-31T00:00:00\",\"2014-01-01T00:00:00\",\"2014-01-02T00:00:00\",\"2014-01-03T00:00:00\",\"2014-01-04T00:00:00\",\"2014-01-05T00:00:00\",\"2014-01-06T00:00:00\",\"2014-01-07T00:00:00\",\"2014-01-08T00:00:00\",\"2014-01-09T00:00:00\",\"2014-01-10T00:00:00\",\"2014-01-11T00:00:00\",\"2014-01-12T00:00:00\",\"2014-01-13T00:00:00\",\"2014-01-14T00:00:00\",\"2014-01-15T00:00:00\",\"2014-01-16T00:00:00\",\"2014-01-17T00:00:00\",\"2014-01-18T00:00:00\",\"2014-01-19T00:00:00\",\"2014-01-20T00:00:00\",\"2014-01-21T00:00:00\",\"2014-01-22T00:00:00\",\"2014-01-23T00:00:00\",\"2014-01-24T00:00:00\",\"2014-01-25T00:00:00\",\"2014-01-26T00:00:00\",\"2014-01-27T00:00:00\",\"2014-01-28T00:00:00\",\"2014-01-29T00:00:00\",\"2014-01-30T00:00:00\",\"2014-01-31T00:00:00\",\"2014-02-01T00:00:00\",\"2014-02-02T00:00:00\",\"2014-02-03T00:00:00\",\"2014-02-04T00:00:00\",\"2014-02-05T00:00:00\",\"2014-02-06T00:00:00\",\"2014-02-07T00:00:00\",\"2014-02-08T00:00:00\",\"2014-02-09T00:00:00\",\"2014-02-10T00:00:00\",\"2014-02-11T00:00:00\",\"2014-02-12T00:00:00\",\"2014-02-13T00:00:00\",\"2014-02-14T00:00:00\",\"2014-02-15T00:00:00\",\"2014-02-16T00:00:00\",\"2014-02-17T00:00:00\",\"2014-02-18T00:00:00\",\"2014-02-19T00:00:00\",\"2014-02-20T00:00:00\",\"2014-02-21T00:00:00\",\"2014-02-22T00:00:00\",\"2014-02-23T00:00:00\",\"2014-02-24T00:00:00\",\"2014-02-25T00:00:00\",\"2014-02-26T00:00:00\",\"2014-02-27T00:00:00\",\"2014-02-28T00:00:00\",\"2014-03-01T00:00:00\",\"2014-03-02T00:00:00\",\"2014-03-03T00:00:00\",\"2014-03-04T00:00:00\",\"2014-03-05T00:00:00\",\"2014-03-06T00:00:00\",\"2014-03-07T00:00:00\",\"2014-03-08T00:00:00\",\"2014-03-09T00:00:00\",\"2014-03-10T00:00:00\",\"2014-03-11T00:00:00\",\"2014-03-12T00:00:00\",\"2014-03-13T00:00:00\",\"2014-03-14T00:00:00\",\"2014-03-15T00:00:00\",\"2014-03-16T00:00:00\",\"2014-03-17T00:00:00\",\"2014-03-18T00:00:00\",\"2014-03-19T00:00:00\",\"2014-03-20T00:00:00\",\"2014-03-21T00:00:00\",\"2014-03-22T00:00:00\",\"2014-03-23T00:00:00\",\"2014-03-24T00:00:00\",\"2014-03-25T00:00:00\",\"2014-03-26T00:00:00\",\"2014-03-27T00:00:00\",\"2014-03-28T00:00:00\",\"2014-03-29T00:00:00\",\"2014-03-30T00:00:00\",\"2014-03-31T00:00:00\",\"2014-04-01T00:00:00\",\"2014-04-02T00:00:00\",\"2014-04-03T00:00:00\",\"2014-04-04T00:00:00\",\"2014-04-05T00:00:00\",\"2014-04-06T00:00:00\",\"2014-04-07T00:00:00\",\"2014-04-08T00:00:00\",\"2014-04-09T00:00:00\",\"2014-04-10T00:00:00\",\"2014-04-11T00:00:00\",\"2014-04-12T00:00:00\",\"2014-04-13T00:00:00\",\"2014-04-14T00:00:00\",\"2014-04-15T00:00:00\",\"2014-04-16T00:00:00\",\"2014-04-17T00:00:00\",\"2014-04-18T00:00:00\",\"2014-04-19T00:00:00\",\"2014-04-20T00:00:00\",\"2014-04-21T00:00:00\",\"2014-04-22T00:00:00\",\"2014-04-23T00:00:00\",\"2014-04-24T00:00:00\",\"2014-04-25T00:00:00\",\"2014-04-26T00:00:00\",\"2014-04-27T00:00:00\",\"2014-04-28T00:00:00\",\"2014-04-29T00:00:00\",\"2014-04-30T00:00:00\",\"2014-05-01T00:00:00\",\"2014-05-02T00:00:00\",\"2014-05-03T00:00:00\",\"2014-05-04T00:00:00\",\"2014-05-05T00:00:00\",\"2014-05-06T00:00:00\",\"2014-05-07T00:00:00\",\"2014-05-08T00:00:00\",\"2014-05-09T00:00:00\",\"2014-05-10T00:00:00\",\"2014-05-11T00:00:00\",\"2014-05-12T00:00:00\",\"2014-05-13T00:00:00\",\"2014-05-14T00:00:00\",\"2014-05-15T00:00:00\",\"2014-05-16T00:00:00\",\"2014-05-17T00:00:00\",\"2014-05-18T00:00:00\",\"2014-05-19T00:00:00\",\"2014-05-20T00:00:00\",\"2014-05-21T00:00:00\",\"2014-05-22T00:00:00\",\"2014-05-23T00:00:00\",\"2014-05-24T00:00:00\",\"2014-05-25T00:00:00\",\"2014-05-26T00:00:00\",\"2014-05-27T00:00:00\",\"2014-05-28T00:00:00\",\"2014-05-29T00:00:00\",\"2014-05-30T00:00:00\",\"2014-05-31T00:00:00\",\"2014-06-01T00:00:00\",\"2014-06-02T00:00:00\",\"2014-06-03T00:00:00\",\"2014-06-04T00:00:00\",\"2014-06-05T00:00:00\",\"2014-06-06T00:00:00\",\"2014-06-07T00:00:00\",\"2014-06-08T00:00:00\",\"2014-06-09T00:00:00\",\"2014-06-10T00:00:00\",\"2014-06-11T00:00:00\",\"2014-06-12T00:00:00\",\"2014-06-13T00:00:00\",\"2014-06-14T00:00:00\",\"2014-06-15T00:00:00\",\"2014-06-16T00:00:00\",\"2014-06-17T00:00:00\",\"2014-06-18T00:00:00\",\"2014-06-19T00:00:00\",\"2014-06-20T00:00:00\",\"2014-06-21T00:00:00\",\"2014-06-22T00:00:00\",\"2014-06-23T00:00:00\",\"2014-06-24T00:00:00\",\"2014-06-25T00:00:00\",\"2014-06-26T00:00:00\",\"2014-06-27T00:00:00\",\"2014-06-28T00:00:00\",\"2014-06-29T00:00:00\",\"2014-06-30T00:00:00\",\"2014-07-01T00:00:00\",\"2014-07-02T00:00:00\",\"2014-07-03T00:00:00\",\"2014-07-04T00:00:00\",\"2014-07-05T00:00:00\",\"2014-07-06T00:00:00\",\"2014-07-07T00:00:00\",\"2014-07-08T00:00:00\",\"2014-07-09T00:00:00\",\"2014-07-10T00:00:00\",\"2014-07-11T00:00:00\",\"2014-07-12T00:00:00\",\"2014-07-13T00:00:00\",\"2014-07-14T00:00:00\",\"2014-07-15T00:00:00\",\"2014-07-16T00:00:00\",\"2014-07-17T00:00:00\",\"2014-07-18T00:00:00\",\"2014-07-19T00:00:00\",\"2014-07-20T00:00:00\",\"2014-07-21T00:00:00\",\"2014-07-22T00:00:00\",\"2014-07-23T00:00:00\",\"2014-07-24T00:00:00\",\"2014-07-25T00:00:00\",\"2014-07-26T00:00:00\",\"2014-07-27T00:00:00\",\"2014-07-28T00:00:00\",\"2014-07-29T00:00:00\",\"2014-07-30T00:00:00\",\"2014-07-31T00:00:00\",\"2014-08-01T00:00:00\",\"2014-08-02T00:00:00\",\"2014-08-03T00:00:00\",\"2014-08-04T00:00:00\",\"2014-08-05T00:00:00\",\"2014-08-06T00:00:00\",\"2014-08-07T00:00:00\",\"2014-08-08T00:00:00\",\"2014-08-09T00:00:00\",\"2014-08-10T00:00:00\",\"2014-08-11T00:00:00\",\"2014-08-12T00:00:00\",\"2014-08-13T00:00:00\",\"2014-08-14T00:00:00\",\"2014-08-15T00:00:00\",\"2014-08-16T00:00:00\",\"2014-08-17T00:00:00\",\"2014-08-18T00:00:00\",\"2014-08-19T00:00:00\",\"2014-08-20T00:00:00\",\"2014-08-21T00:00:00\",\"2014-08-22T00:00:00\",\"2014-08-23T00:00:00\",\"2014-08-24T00:00:00\",\"2014-08-25T00:00:00\",\"2014-08-26T00:00:00\",\"2014-08-27T00:00:00\",\"2014-08-28T00:00:00\",\"2014-08-29T00:00:00\",\"2014-08-30T00:00:00\",\"2014-08-31T00:00:00\",\"2014-09-01T00:00:00\",\"2014-09-02T00:00:00\",\"2014-09-03T00:00:00\",\"2014-09-04T00:00:00\",\"2014-09-05T00:00:00\",\"2014-09-06T00:00:00\",\"2014-09-07T00:00:00\",\"2014-09-08T00:00:00\",\"2014-09-09T00:00:00\",\"2014-09-10T00:00:00\",\"2014-09-11T00:00:00\",\"2014-09-12T00:00:00\",\"2014-09-13T00:00:00\",\"2014-09-14T00:00:00\",\"2014-09-15T00:00:00\",\"2014-09-16T00:00:00\",\"2014-09-17T00:00:00\",\"2014-09-18T00:00:00\",\"2014-09-19T00:00:00\",\"2014-09-20T00:00:00\",\"2014-09-21T00:00:00\",\"2014-09-22T00:00:00\",\"2014-09-23T00:00:00\",\"2014-09-24T00:00:00\",\"2014-09-25T00:00:00\",\"2014-09-26T00:00:00\",\"2014-09-27T00:00:00\",\"2014-09-28T00:00:00\",\"2014-09-29T00:00:00\",\"2014-09-30T00:00:00\",\"2014-10-01T00:00:00\",\"2014-10-02T00:00:00\",\"2014-10-03T00:00:00\",\"2014-10-04T00:00:00\",\"2014-10-05T00:00:00\",\"2014-10-06T00:00:00\",\"2014-10-07T00:00:00\",\"2014-10-08T00:00:00\",\"2014-10-09T00:00:00\",\"2014-10-10T00:00:00\",\"2014-10-11T00:00:00\",\"2014-10-12T00:00:00\",\"2014-10-13T00:00:00\",\"2014-10-14T00:00:00\",\"2014-10-15T00:00:00\",\"2014-10-16T00:00:00\",\"2014-10-17T00:00:00\",\"2014-10-18T00:00:00\",\"2014-10-19T00:00:00\",\"2014-10-20T00:00:00\",\"2014-10-21T00:00:00\",\"2014-10-22T00:00:00\",\"2014-10-23T00:00:00\",\"2014-10-24T00:00:00\",\"2014-10-25T00:00:00\",\"2014-10-26T00:00:00\",\"2014-10-27T00:00:00\",\"2014-10-28T00:00:00\",\"2014-10-29T00:00:00\",\"2014-10-30T00:00:00\",\"2014-10-31T00:00:00\",\"2014-11-01T00:00:00\",\"2014-11-02T00:00:00\",\"2014-11-03T00:00:00\",\"2014-11-04T00:00:00\",\"2014-11-05T00:00:00\",\"2014-11-06T00:00:00\",\"2014-11-07T00:00:00\",\"2014-11-08T00:00:00\",\"2014-11-09T00:00:00\",\"2014-11-10T00:00:00\",\"2014-11-11T00:00:00\",\"2014-11-12T00:00:00\",\"2014-11-13T00:00:00\",\"2014-11-14T00:00:00\",\"2014-11-15T00:00:00\",\"2014-11-16T00:00:00\",\"2014-11-17T00:00:00\",\"2014-11-18T00:00:00\",\"2014-11-19T00:00:00\",\"2014-11-20T00:00:00\",\"2014-11-21T00:00:00\",\"2014-11-22T00:00:00\",\"2014-11-23T00:00:00\",\"2014-11-24T00:00:00\",\"2014-11-25T00:00:00\",\"2014-11-26T00:00:00\",\"2014-11-27T00:00:00\",\"2014-11-28T00:00:00\",\"2014-11-29T00:00:00\",\"2014-11-30T00:00:00\",\"2014-12-01T00:00:00\",\"2014-12-02T00:00:00\",\"2014-12-03T00:00:00\",\"2014-12-04T00:00:00\",\"2014-12-05T00:00:00\",\"2014-12-06T00:00:00\",\"2014-12-07T00:00:00\",\"2014-12-08T00:00:00\",\"2014-12-09T00:00:00\",\"2014-12-10T00:00:00\",\"2014-12-11T00:00:00\",\"2014-12-12T00:00:00\",\"2014-12-13T00:00:00\",\"2014-12-14T00:00:00\",\"2014-12-15T00:00:00\",\"2014-12-16T00:00:00\",\"2014-12-17T00:00:00\",\"2014-12-18T00:00:00\",\"2014-12-19T00:00:00\",\"2014-12-20T00:00:00\",\"2014-12-21T00:00:00\",\"2014-12-22T00:00:00\",\"2014-12-23T00:00:00\",\"2014-12-24T00:00:00\",\"2014-12-25T00:00:00\",\"2014-12-26T00:00:00\",\"2014-12-27T00:00:00\",\"2014-12-28T00:00:00\",\"2014-12-29T00:00:00\",\"2014-12-30T00:00:00\",\"2014-12-31T00:00:00\",\"2015-01-01T00:00:00\",\"2015-01-02T00:00:00\",\"2015-01-03T00:00:00\",\"2015-01-04T00:00:00\",\"2015-01-05T00:00:00\",\"2015-01-06T00:00:00\",\"2015-01-07T00:00:00\",\"2015-01-08T00:00:00\",\"2015-01-09T00:00:00\",\"2015-01-10T00:00:00\",\"2015-01-11T00:00:00\",\"2015-01-12T00:00:00\",\"2015-01-13T00:00:00\",\"2015-01-14T00:00:00\",\"2015-01-15T00:00:00\",\"2015-01-16T00:00:00\",\"2015-01-17T00:00:00\",\"2015-01-18T00:00:00\",\"2015-01-19T00:00:00\",\"2015-01-20T00:00:00\",\"2015-01-21T00:00:00\",\"2015-01-22T00:00:00\",\"2015-01-23T00:00:00\",\"2015-01-24T00:00:00\",\"2015-01-25T00:00:00\",\"2015-01-26T00:00:00\",\"2015-01-27T00:00:00\",\"2015-01-28T00:00:00\",\"2015-01-29T00:00:00\",\"2015-01-30T00:00:00\",\"2015-01-31T00:00:00\",\"2015-02-01T00:00:00\",\"2015-02-02T00:00:00\",\"2015-02-03T00:00:00\",\"2015-02-04T00:00:00\",\"2015-02-05T00:00:00\",\"2015-02-06T00:00:00\",\"2015-02-07T00:00:00\",\"2015-02-08T00:00:00\",\"2015-02-09T00:00:00\",\"2015-02-10T00:00:00\",\"2015-02-11T00:00:00\",\"2015-02-12T00:00:00\",\"2015-02-13T00:00:00\",\"2015-02-14T00:00:00\",\"2015-02-15T00:00:00\",\"2015-02-16T00:00:00\",\"2015-02-17T00:00:00\",\"2015-02-18T00:00:00\",\"2015-02-19T00:00:00\",\"2015-02-20T00:00:00\",\"2015-02-21T00:00:00\",\"2015-02-22T00:00:00\",\"2015-02-23T00:00:00\",\"2015-02-24T00:00:00\",\"2015-02-25T00:00:00\",\"2015-02-26T00:00:00\",\"2015-02-27T00:00:00\",\"2015-02-28T00:00:00\",\"2015-03-01T00:00:00\",\"2015-03-02T00:00:00\",\"2015-03-03T00:00:00\",\"2015-03-04T00:00:00\",\"2015-03-05T00:00:00\",\"2015-03-06T00:00:00\",\"2015-03-07T00:00:00\",\"2015-03-08T00:00:00\",\"2015-03-09T00:00:00\",\"2015-03-10T00:00:00\",\"2015-03-11T00:00:00\",\"2015-03-12T00:00:00\",\"2015-03-13T00:00:00\",\"2015-03-14T00:00:00\",\"2015-03-15T00:00:00\",\"2015-03-16T00:00:00\",\"2015-03-17T00:00:00\",\"2015-03-18T00:00:00\",\"2015-03-19T00:00:00\",\"2015-03-20T00:00:00\",\"2015-03-21T00:00:00\",\"2015-03-22T00:00:00\",\"2015-03-23T00:00:00\",\"2015-03-24T00:00:00\",\"2015-03-25T00:00:00\",\"2015-03-26T00:00:00\",\"2015-03-27T00:00:00\",\"2015-03-28T00:00:00\",\"2015-03-29T00:00:00\",\"2015-03-30T00:00:00\",\"2015-03-31T00:00:00\",\"2015-04-01T00:00:00\",\"2015-04-02T00:00:00\",\"2015-04-03T00:00:00\",\"2015-04-04T00:00:00\",\"2015-04-05T00:00:00\",\"2015-04-06T00:00:00\",\"2015-04-07T00:00:00\",\"2015-04-08T00:00:00\",\"2015-04-09T00:00:00\",\"2015-04-10T00:00:00\",\"2015-04-11T00:00:00\",\"2015-04-12T00:00:00\",\"2015-04-13T00:00:00\",\"2015-04-14T00:00:00\",\"2015-04-15T00:00:00\",\"2015-04-16T00:00:00\",\"2015-04-17T00:00:00\",\"2015-04-18T00:00:00\",\"2015-04-19T00:00:00\",\"2015-04-20T00:00:00\",\"2015-04-21T00:00:00\",\"2015-04-22T00:00:00\",\"2015-04-23T00:00:00\",\"2015-04-24T00:00:00\",\"2015-04-25T00:00:00\",\"2015-04-26T00:00:00\",\"2015-04-27T00:00:00\",\"2015-04-28T00:00:00\",\"2015-04-29T00:00:00\",\"2015-04-30T00:00:00\",\"2015-05-01T00:00:00\",\"2015-05-02T00:00:00\",\"2015-05-03T00:00:00\",\"2015-05-04T00:00:00\",\"2015-05-05T00:00:00\",\"2015-05-06T00:00:00\",\"2015-05-07T00:00:00\",\"2015-05-08T00:00:00\",\"2015-05-09T00:00:00\",\"2015-05-10T00:00:00\",\"2015-05-11T00:00:00\",\"2015-05-12T00:00:00\",\"2015-05-13T00:00:00\",\"2015-05-14T00:00:00\",\"2015-05-15T00:00:00\",\"2015-05-16T00:00:00\",\"2015-05-17T00:00:00\",\"2015-05-18T00:00:00\",\"2015-05-19T00:00:00\",\"2015-05-20T00:00:00\",\"2015-05-21T00:00:00\",\"2015-05-22T00:00:00\",\"2015-05-23T00:00:00\",\"2015-05-24T00:00:00\",\"2015-05-25T00:00:00\",\"2015-05-26T00:00:00\",\"2015-05-27T00:00:00\",\"2015-05-28T00:00:00\",\"2015-05-29T00:00:00\",\"2015-05-30T00:00:00\",\"2015-05-31T00:00:00\",\"2015-06-01T00:00:00\",\"2015-06-02T00:00:00\",\"2015-06-03T00:00:00\",\"2015-06-04T00:00:00\",\"2015-06-05T00:00:00\",\"2015-06-06T00:00:00\",\"2015-06-07T00:00:00\",\"2015-06-08T00:00:00\",\"2015-06-09T00:00:00\",\"2015-06-10T00:00:00\",\"2015-06-11T00:00:00\",\"2015-06-12T00:00:00\",\"2015-06-13T00:00:00\",\"2015-06-14T00:00:00\",\"2015-06-15T00:00:00\",\"2015-06-16T00:00:00\",\"2015-06-17T00:00:00\",\"2015-06-18T00:00:00\",\"2015-06-19T00:00:00\",\"2015-06-20T00:00:00\",\"2015-06-21T00:00:00\",\"2015-06-22T00:00:00\",\"2015-06-23T00:00:00\",\"2015-06-24T00:00:00\",\"2015-06-25T00:00:00\",\"2015-06-26T00:00:00\",\"2015-06-27T00:00:00\",\"2015-06-28T00:00:00\",\"2015-06-29T00:00:00\",\"2015-06-30T00:00:00\",\"2015-07-01T00:00:00\",\"2015-07-02T00:00:00\",\"2015-07-03T00:00:00\",\"2015-07-04T00:00:00\",\"2015-07-05T00:00:00\",\"2015-07-06T00:00:00\",\"2015-07-07T00:00:00\",\"2015-07-08T00:00:00\",\"2015-07-09T00:00:00\",\"2015-07-10T00:00:00\",\"2015-07-11T00:00:00\",\"2015-07-12T00:00:00\",\"2015-07-13T00:00:00\",\"2015-07-14T00:00:00\",\"2015-07-15T00:00:00\",\"2015-07-16T00:00:00\",\"2015-07-17T00:00:00\",\"2015-07-18T00:00:00\",\"2015-07-19T00:00:00\",\"2015-07-20T00:00:00\",\"2015-07-21T00:00:00\",\"2015-07-22T00:00:00\",\"2015-07-23T00:00:00\",\"2015-07-24T00:00:00\",\"2015-07-25T00:00:00\",\"2015-07-26T00:00:00\",\"2015-07-27T00:00:00\",\"2015-07-28T00:00:00\",\"2015-07-29T00:00:00\",\"2015-07-30T00:00:00\",\"2015-07-31T00:00:00\",\"2015-08-01T00:00:00\",\"2015-08-02T00:00:00\",\"2015-08-03T00:00:00\",\"2015-08-04T00:00:00\",\"2015-08-05T00:00:00\",\"2015-08-06T00:00:00\",\"2015-08-07T00:00:00\",\"2015-08-08T00:00:00\",\"2015-08-09T00:00:00\",\"2015-08-10T00:00:00\",\"2015-08-11T00:00:00\",\"2015-08-12T00:00:00\",\"2015-08-13T00:00:00\",\"2015-08-14T00:00:00\",\"2015-08-15T00:00:00\",\"2015-08-16T00:00:00\",\"2015-08-17T00:00:00\",\"2015-08-18T00:00:00\",\"2015-08-19T00:00:00\",\"2015-08-20T00:00:00\",\"2015-08-21T00:00:00\",\"2015-08-22T00:00:00\",\"2015-08-23T00:00:00\",\"2015-08-24T00:00:00\",\"2015-08-25T00:00:00\",\"2015-08-26T00:00:00\",\"2015-08-27T00:00:00\",\"2015-08-28T00:00:00\",\"2015-08-29T00:00:00\",\"2015-08-30T00:00:00\",\"2015-08-31T00:00:00\",\"2015-09-01T00:00:00\",\"2015-09-02T00:00:00\",\"2015-09-03T00:00:00\",\"2015-09-04T00:00:00\",\"2015-09-05T00:00:00\",\"2015-09-06T00:00:00\",\"2015-09-07T00:00:00\",\"2015-09-08T00:00:00\",\"2015-09-09T00:00:00\",\"2015-09-10T00:00:00\",\"2015-09-11T00:00:00\",\"2015-09-12T00:00:00\",\"2015-09-13T00:00:00\",\"2015-09-14T00:00:00\",\"2015-09-15T00:00:00\",\"2015-09-16T00:00:00\",\"2015-09-17T00:00:00\",\"2015-09-18T00:00:00\",\"2015-09-19T00:00:00\",\"2015-09-20T00:00:00\",\"2015-09-21T00:00:00\",\"2015-09-22T00:00:00\",\"2015-09-23T00:00:00\",\"2015-09-24T00:00:00\",\"2015-09-25T00:00:00\",\"2015-09-26T00:00:00\",\"2015-09-27T00:00:00\",\"2015-09-28T00:00:00\",\"2015-09-29T00:00:00\",\"2015-09-30T00:00:00\",\"2015-10-01T00:00:00\",\"2015-10-02T00:00:00\",\"2015-10-03T00:00:00\",\"2015-10-04T00:00:00\",\"2015-10-05T00:00:00\",\"2015-10-06T00:00:00\",\"2015-10-07T00:00:00\",\"2015-10-08T00:00:00\",\"2015-10-09T00:00:00\",\"2015-10-10T00:00:00\",\"2015-10-11T00:00:00\",\"2015-10-12T00:00:00\",\"2015-10-13T00:00:00\",\"2015-10-14T00:00:00\",\"2015-10-15T00:00:00\",\"2015-10-16T00:00:00\",\"2015-10-17T00:00:00\",\"2015-10-18T00:00:00\",\"2015-10-19T00:00:00\",\"2015-10-20T00:00:00\",\"2015-10-21T00:00:00\",\"2015-10-22T00:00:00\",\"2015-10-23T00:00:00\",\"2015-10-24T00:00:00\",\"2015-10-25T00:00:00\",\"2015-10-26T00:00:00\",\"2015-10-27T00:00:00\",\"2015-10-28T00:00:00\",\"2015-10-29T00:00:00\",\"2015-10-30T00:00:00\",\"2015-10-31T00:00:00\",\"2015-11-01T00:00:00\",\"2015-11-02T00:00:00\",\"2015-11-03T00:00:00\",\"2015-11-04T00:00:00\",\"2015-11-05T00:00:00\",\"2015-11-06T00:00:00\",\"2015-11-07T00:00:00\",\"2015-11-08T00:00:00\",\"2015-11-09T00:00:00\",\"2015-11-10T00:00:00\",\"2015-11-11T00:00:00\",\"2015-11-12T00:00:00\",\"2015-11-13T00:00:00\",\"2015-11-14T00:00:00\",\"2015-11-15T00:00:00\",\"2015-11-16T00:00:00\",\"2015-11-17T00:00:00\",\"2015-11-18T00:00:00\",\"2015-11-19T00:00:00\",\"2015-11-20T00:00:00\",\"2015-11-21T00:00:00\",\"2015-11-22T00:00:00\",\"2015-11-23T00:00:00\",\"2015-11-24T00:00:00\",\"2015-11-25T00:00:00\",\"2015-11-26T00:00:00\",\"2015-11-27T00:00:00\",\"2015-11-28T00:00:00\",\"2015-11-29T00:00:00\",\"2015-11-30T00:00:00\",\"2015-12-01T00:00:00\",\"2015-12-02T00:00:00\",\"2015-12-03T00:00:00\",\"2015-12-04T00:00:00\",\"2015-12-05T00:00:00\",\"2015-12-06T00:00:00\",\"2015-12-07T00:00:00\",\"2015-12-08T00:00:00\",\"2015-12-09T00:00:00\",\"2015-12-10T00:00:00\",\"2015-12-11T00:00:00\",\"2015-12-12T00:00:00\",\"2015-12-13T00:00:00\",\"2015-12-14T00:00:00\",\"2015-12-15T00:00:00\",\"2015-12-16T00:00:00\",\"2015-12-17T00:00:00\",\"2015-12-18T00:00:00\",\"2015-12-19T00:00:00\",\"2015-12-20T00:00:00\",\"2015-12-21T00:00:00\",\"2015-12-22T00:00:00\",\"2015-12-23T00:00:00\",\"2015-12-24T00:00:00\",\"2015-12-25T00:00:00\",\"2015-12-26T00:00:00\",\"2015-12-27T00:00:00\",\"2015-12-28T00:00:00\",\"2015-12-29T00:00:00\",\"2015-12-30T00:00:00\",\"2015-12-31T00:00:00\",\"2016-01-01T00:00:00\",\"2016-01-02T00:00:00\",\"2016-01-03T00:00:00\",\"2016-01-04T00:00:00\",\"2016-01-05T00:00:00\",\"2016-01-06T00:00:00\",\"2016-01-07T00:00:00\",\"2016-01-08T00:00:00\",\"2016-01-09T00:00:00\",\"2016-01-10T00:00:00\",\"2016-01-11T00:00:00\",\"2016-01-12T00:00:00\",\"2016-01-13T00:00:00\",\"2016-01-14T00:00:00\",\"2016-01-15T00:00:00\",\"2016-01-16T00:00:00\",\"2016-01-17T00:00:00\",\"2016-01-18T00:00:00\",\"2016-01-19T00:00:00\",\"2016-01-20T00:00:00\",\"2016-01-21T00:00:00\",\"2016-01-22T00:00:00\",\"2016-01-23T00:00:00\",\"2016-01-24T00:00:00\",\"2016-01-25T00:00:00\",\"2016-01-26T00:00:00\",\"2016-01-27T00:00:00\",\"2016-01-28T00:00:00\",\"2016-01-29T00:00:00\",\"2016-01-30T00:00:00\",\"2016-01-31T00:00:00\",\"2016-02-01T00:00:00\",\"2016-02-02T00:00:00\",\"2016-02-03T00:00:00\",\"2016-02-04T00:00:00\",\"2016-02-05T00:00:00\",\"2016-02-06T00:00:00\",\"2016-02-07T00:00:00\",\"2016-02-08T00:00:00\",\"2016-02-09T00:00:00\",\"2016-02-10T00:00:00\",\"2016-02-11T00:00:00\",\"2016-02-12T00:00:00\",\"2016-02-13T00:00:00\",\"2016-02-14T00:00:00\",\"2016-02-15T00:00:00\",\"2016-02-16T00:00:00\",\"2016-02-17T00:00:00\",\"2016-02-18T00:00:00\",\"2016-02-19T00:00:00\",\"2016-02-20T00:00:00\",\"2016-02-21T00:00:00\",\"2016-02-22T00:00:00\",\"2016-02-23T00:00:00\",\"2016-02-24T00:00:00\",\"2016-02-25T00:00:00\",\"2016-02-26T00:00:00\",\"2016-02-27T00:00:00\",\"2016-02-28T00:00:00\",\"2016-02-29T00:00:00\",\"2016-03-01T00:00:00\",\"2016-03-02T00:00:00\",\"2016-03-03T00:00:00\",\"2016-03-04T00:00:00\",\"2016-03-05T00:00:00\",\"2016-03-06T00:00:00\",\"2016-03-07T00:00:00\",\"2016-03-08T00:00:00\",\"2016-03-09T00:00:00\",\"2016-03-10T00:00:00\",\"2016-03-11T00:00:00\",\"2016-03-12T00:00:00\",\"2016-03-13T00:00:00\",\"2016-03-14T00:00:00\",\"2016-03-15T00:00:00\",\"2016-03-16T00:00:00\",\"2016-03-17T00:00:00\",\"2016-03-18T00:00:00\",\"2016-03-19T00:00:00\",\"2016-03-20T00:00:00\",\"2016-03-21T00:00:00\",\"2016-03-22T00:00:00\",\"2016-03-23T00:00:00\",\"2016-03-24T00:00:00\",\"2016-03-25T00:00:00\",\"2016-03-26T00:00:00\",\"2016-03-27T00:00:00\",\"2016-03-28T00:00:00\",\"2016-03-29T00:00:00\",\"2016-03-30T00:00:00\",\"2016-03-31T00:00:00\",\"2016-04-01T00:00:00\",\"2016-04-02T00:00:00\",\"2016-04-03T00:00:00\",\"2016-04-04T00:00:00\",\"2016-04-05T00:00:00\",\"2016-04-06T00:00:00\",\"2016-04-07T00:00:00\",\"2016-04-08T00:00:00\",\"2016-04-09T00:00:00\",\"2016-04-10T00:00:00\",\"2016-04-11T00:00:00\",\"2016-04-12T00:00:00\",\"2016-04-13T00:00:00\",\"2016-04-14T00:00:00\",\"2016-04-15T00:00:00\",\"2016-04-16T00:00:00\",\"2016-04-17T00:00:00\",\"2016-04-18T00:00:00\",\"2016-04-19T00:00:00\",\"2016-04-20T00:00:00\",\"2016-04-21T00:00:00\",\"2016-04-22T00:00:00\",\"2016-04-23T00:00:00\",\"2016-04-24T00:00:00\",\"2016-04-25T00:00:00\",\"2016-04-26T00:00:00\",\"2016-04-27T00:00:00\",\"2016-04-28T00:00:00\",\"2016-04-29T00:00:00\",\"2016-04-30T00:00:00\",\"2016-05-01T00:00:00\",\"2016-05-02T00:00:00\",\"2016-05-03T00:00:00\",\"2016-05-04T00:00:00\",\"2016-05-05T00:00:00\",\"2016-05-06T00:00:00\",\"2016-05-07T00:00:00\",\"2016-05-08T00:00:00\",\"2016-05-09T00:00:00\",\"2016-05-10T00:00:00\",\"2016-05-11T00:00:00\",\"2016-05-12T00:00:00\",\"2016-05-13T00:00:00\",\"2016-05-14T00:00:00\",\"2016-05-15T00:00:00\",\"2016-05-16T00:00:00\",\"2016-05-17T00:00:00\",\"2016-05-18T00:00:00\",\"2016-05-19T00:00:00\",\"2016-05-20T00:00:00\",\"2016-05-21T00:00:00\",\"2016-05-22T00:00:00\",\"2016-05-23T00:00:00\",\"2016-05-24T00:00:00\",\"2016-05-25T00:00:00\",\"2016-05-26T00:00:00\",\"2016-05-27T00:00:00\",\"2016-05-28T00:00:00\",\"2016-05-29T00:00:00\",\"2016-05-30T00:00:00\",\"2016-05-31T00:00:00\",\"2016-06-01T00:00:00\",\"2016-06-02T00:00:00\",\"2016-06-03T00:00:00\",\"2016-06-04T00:00:00\",\"2016-06-05T00:00:00\",\"2016-06-06T00:00:00\",\"2016-06-07T00:00:00\",\"2016-06-08T00:00:00\",\"2016-06-09T00:00:00\",\"2016-06-10T00:00:00\",\"2016-06-11T00:00:00\",\"2016-06-12T00:00:00\",\"2016-06-13T00:00:00\",\"2016-06-14T00:00:00\",\"2016-06-15T00:00:00\",\"2016-06-16T00:00:00\",\"2016-06-17T00:00:00\",\"2016-06-18T00:00:00\",\"2016-06-19T00:00:00\",\"2016-06-20T00:00:00\",\"2016-06-21T00:00:00\",\"2016-06-22T00:00:00\",\"2016-06-23T00:00:00\",\"2016-06-24T00:00:00\",\"2016-06-25T00:00:00\",\"2016-06-26T00:00:00\",\"2016-06-27T00:00:00\",\"2016-06-28T00:00:00\",\"2016-06-29T00:00:00\",\"2016-06-30T00:00:00\",\"2016-07-01T00:00:00\",\"2016-07-02T00:00:00\",\"2016-07-03T00:00:00\",\"2016-07-04T00:00:00\",\"2016-07-05T00:00:00\",\"2016-07-06T00:00:00\",\"2016-07-07T00:00:00\",\"2016-07-08T00:00:00\",\"2016-07-09T00:00:00\",\"2016-07-10T00:00:00\",\"2016-07-11T00:00:00\",\"2016-07-12T00:00:00\",\"2016-07-13T00:00:00\",\"2016-07-14T00:00:00\",\"2016-07-15T00:00:00\",\"2016-07-16T00:00:00\",\"2016-07-17T00:00:00\",\"2016-07-18T00:00:00\",\"2016-07-19T00:00:00\",\"2016-07-20T00:00:00\",\"2016-07-21T00:00:00\",\"2016-07-22T00:00:00\",\"2016-07-23T00:00:00\",\"2016-07-24T00:00:00\",\"2016-07-25T00:00:00\",\"2016-07-26T00:00:00\",\"2016-07-27T00:00:00\",\"2016-07-28T00:00:00\",\"2016-07-29T00:00:00\",\"2016-07-30T00:00:00\",\"2016-07-31T00:00:00\",\"2016-08-01T00:00:00\",\"2016-08-02T00:00:00\",\"2016-08-03T00:00:00\",\"2016-08-04T00:00:00\",\"2016-08-05T00:00:00\",\"2016-08-06T00:00:00\",\"2016-08-07T00:00:00\",\"2016-08-08T00:00:00\",\"2016-08-09T00:00:00\",\"2016-08-10T00:00:00\",\"2016-08-11T00:00:00\",\"2016-08-12T00:00:00\",\"2016-08-13T00:00:00\",\"2016-08-14T00:00:00\",\"2016-08-15T00:00:00\",\"2016-08-16T00:00:00\",\"2016-08-17T00:00:00\",\"2016-08-18T00:00:00\",\"2016-08-19T00:00:00\",\"2016-08-20T00:00:00\",\"2016-08-21T00:00:00\",\"2016-08-22T00:00:00\",\"2016-08-23T00:00:00\",\"2016-08-24T00:00:00\",\"2016-08-25T00:00:00\",\"2016-08-26T00:00:00\",\"2016-08-27T00:00:00\",\"2016-08-28T00:00:00\",\"2016-08-29T00:00:00\",\"2016-08-30T00:00:00\",\"2016-08-31T00:00:00\",\"2016-09-01T00:00:00\",\"2016-09-02T00:00:00\",\"2016-09-03T00:00:00\",\"2016-09-04T00:00:00\",\"2016-09-05T00:00:00\",\"2016-09-06T00:00:00\",\"2016-09-07T00:00:00\",\"2016-09-08T00:00:00\",\"2016-09-09T00:00:00\",\"2016-09-10T00:00:00\",\"2016-09-11T00:00:00\",\"2016-09-12T00:00:00\",\"2016-09-13T00:00:00\",\"2016-09-14T00:00:00\",\"2016-09-15T00:00:00\",\"2016-09-16T00:00:00\",\"2016-09-17T00:00:00\",\"2016-09-18T00:00:00\",\"2016-09-19T00:00:00\",\"2016-09-20T00:00:00\",\"2016-09-21T00:00:00\",\"2016-09-22T00:00:00\",\"2016-09-23T00:00:00\",\"2016-09-24T00:00:00\",\"2016-09-25T00:00:00\",\"2016-09-26T00:00:00\",\"2016-09-27T00:00:00\",\"2016-09-28T00:00:00\",\"2016-09-29T00:00:00\",\"2016-09-30T00:00:00\",\"2016-10-01T00:00:00\",\"2016-10-02T00:00:00\",\"2016-10-03T00:00:00\",\"2016-10-04T00:00:00\",\"2016-10-05T00:00:00\",\"2016-10-06T00:00:00\",\"2016-10-07T00:00:00\",\"2016-10-08T00:00:00\",\"2016-10-09T00:00:00\",\"2016-10-10T00:00:00\",\"2016-10-11T00:00:00\",\"2016-10-12T00:00:00\",\"2016-10-13T00:00:00\",\"2016-10-14T00:00:00\",\"2016-10-15T00:00:00\",\"2016-10-16T00:00:00\",\"2016-10-17T00:00:00\",\"2016-10-18T00:00:00\",\"2016-10-19T00:00:00\",\"2016-10-20T00:00:00\",\"2016-10-21T00:00:00\",\"2016-10-22T00:00:00\",\"2016-10-23T00:00:00\",\"2016-10-24T00:00:00\",\"2016-10-25T00:00:00\",\"2016-10-26T00:00:00\",\"2016-10-27T00:00:00\",\"2016-10-28T00:00:00\",\"2016-10-29T00:00:00\",\"2016-10-30T00:00:00\",\"2016-10-31T00:00:00\",\"2016-11-01T00:00:00\",\"2016-11-02T00:00:00\",\"2016-11-03T00:00:00\",\"2016-11-04T00:00:00\",\"2016-11-05T00:00:00\",\"2016-11-06T00:00:00\",\"2016-11-07T00:00:00\",\"2016-11-08T00:00:00\",\"2016-11-09T00:00:00\",\"2016-11-10T00:00:00\",\"2016-11-11T00:00:00\",\"2016-11-12T00:00:00\",\"2016-11-13T00:00:00\",\"2016-11-14T00:00:00\",\"2016-11-15T00:00:00\",\"2016-11-16T00:00:00\",\"2016-11-17T00:00:00\",\"2016-11-18T00:00:00\",\"2016-11-19T00:00:00\",\"2016-11-20T00:00:00\",\"2016-11-21T00:00:00\",\"2016-11-22T00:00:00\",\"2016-11-23T00:00:00\",\"2016-11-24T00:00:00\",\"2016-11-25T00:00:00\",\"2016-11-26T00:00:00\",\"2016-11-27T00:00:00\",\"2016-11-28T00:00:00\",\"2016-11-29T00:00:00\",\"2016-11-30T00:00:00\",\"2016-12-01T00:00:00\",\"2016-12-02T00:00:00\",\"2016-12-03T00:00:00\",\"2016-12-04T00:00:00\",\"2016-12-05T00:00:00\",\"2016-12-06T00:00:00\",\"2016-12-07T00:00:00\",\"2016-12-08T00:00:00\",\"2016-12-09T00:00:00\",\"2016-12-10T00:00:00\",\"2016-12-11T00:00:00\",\"2016-12-12T00:00:00\",\"2016-12-13T00:00:00\",\"2016-12-14T00:00:00\",\"2016-12-15T00:00:00\",\"2016-12-16T00:00:00\",\"2016-12-17T00:00:00\",\"2016-12-18T00:00:00\",\"2016-12-19T00:00:00\",\"2016-12-20T00:00:00\",\"2016-12-21T00:00:00\",\"2016-12-22T00:00:00\",\"2016-12-23T00:00:00\",\"2016-12-24T00:00:00\",\"2016-12-25T00:00:00\",\"2016-12-26T00:00:00\",\"2016-12-27T00:00:00\",\"2016-12-28T00:00:00\",\"2016-12-29T00:00:00\",\"2016-12-30T00:00:00\",\"2016-12-31T00:00:00\",\"2017-01-01T00:00:00\",\"2017-01-02T00:00:00\",\"2017-01-03T00:00:00\",\"2017-01-04T00:00:00\",\"2017-01-05T00:00:00\",\"2017-01-06T00:00:00\",\"2017-01-07T00:00:00\",\"2017-01-08T00:00:00\",\"2017-01-09T00:00:00\",\"2017-01-10T00:00:00\",\"2017-01-11T00:00:00\",\"2017-01-12T00:00:00\",\"2017-01-13T00:00:00\",\"2017-01-14T00:00:00\",\"2017-01-15T00:00:00\",\"2017-01-16T00:00:00\",\"2017-01-17T00:00:00\",\"2017-01-18T00:00:00\",\"2017-01-19T00:00:00\",\"2017-01-20T00:00:00\",\"2017-01-21T00:00:00\",\"2017-01-22T00:00:00\",\"2017-01-23T00:00:00\",\"2017-01-24T00:00:00\",\"2017-01-25T00:00:00\",\"2017-01-26T00:00:00\",\"2017-01-27T00:00:00\",\"2017-01-28T00:00:00\",\"2017-01-29T00:00:00\",\"2017-01-30T00:00:00\",\"2017-01-31T00:00:00\",\"2017-02-01T00:00:00\",\"2017-02-02T00:00:00\",\"2017-02-03T00:00:00\",\"2017-02-04T00:00:00\",\"2017-02-05T00:00:00\",\"2017-02-06T00:00:00\",\"2017-02-07T00:00:00\",\"2017-02-08T00:00:00\",\"2017-02-09T00:00:00\",\"2017-02-10T00:00:00\",\"2017-02-11T00:00:00\",\"2017-02-12T00:00:00\",\"2017-02-13T00:00:00\",\"2017-02-14T00:00:00\",\"2017-02-15T00:00:00\",\"2017-02-16T00:00:00\",\"2017-02-17T00:00:00\",\"2017-02-18T00:00:00\",\"2017-02-19T00:00:00\",\"2017-02-20T00:00:00\",\"2017-02-21T00:00:00\",\"2017-02-22T00:00:00\",\"2017-02-23T00:00:00\",\"2017-02-24T00:00:00\",\"2017-02-25T00:00:00\",\"2017-02-26T00:00:00\",\"2017-02-27T00:00:00\",\"2017-02-28T00:00:00\",\"2017-03-01T00:00:00\",\"2017-03-02T00:00:00\",\"2017-03-03T00:00:00\",\"2017-03-04T00:00:00\",\"2017-03-05T00:00:00\",\"2017-03-06T00:00:00\",\"2017-03-07T00:00:00\",\"2017-03-08T00:00:00\",\"2017-03-09T00:00:00\",\"2017-03-10T00:00:00\",\"2017-03-11T00:00:00\",\"2017-03-12T00:00:00\",\"2017-03-13T00:00:00\",\"2017-03-14T00:00:00\",\"2017-03-15T00:00:00\",\"2017-03-16T00:00:00\",\"2017-03-17T00:00:00\",\"2017-03-18T00:00:00\",\"2017-03-19T00:00:00\",\"2017-03-20T00:00:00\",\"2017-03-21T00:00:00\",\"2017-03-22T00:00:00\",\"2017-03-23T00:00:00\",\"2017-03-24T00:00:00\",\"2017-03-25T00:00:00\",\"2017-03-26T00:00:00\",\"2017-03-27T00:00:00\",\"2017-03-28T00:00:00\",\"2017-03-29T00:00:00\",\"2017-03-30T00:00:00\",\"2017-03-31T00:00:00\",\"2017-04-01T00:00:00\",\"2017-04-02T00:00:00\",\"2017-04-03T00:00:00\",\"2017-04-04T00:00:00\",\"2017-04-05T00:00:00\",\"2017-04-06T00:00:00\",\"2017-04-07T00:00:00\",\"2017-04-08T00:00:00\",\"2017-04-09T00:00:00\",\"2017-04-10T00:00:00\",\"2017-04-11T00:00:00\",\"2017-04-12T00:00:00\",\"2017-04-13T00:00:00\",\"2017-04-14T00:00:00\",\"2017-04-15T00:00:00\",\"2017-04-16T00:00:00\",\"2017-04-17T00:00:00\",\"2017-04-18T00:00:00\",\"2017-04-19T00:00:00\",\"2017-04-20T00:00:00\",\"2017-04-21T00:00:00\",\"2017-04-22T00:00:00\",\"2017-04-23T00:00:00\",\"2017-04-24T00:00:00\",\"2017-04-25T00:00:00\",\"2017-04-26T00:00:00\",\"2017-04-27T00:00:00\",\"2017-04-28T00:00:00\",\"2017-04-29T00:00:00\",\"2017-04-30T00:00:00\",\"2017-05-01T00:00:00\",\"2017-05-02T00:00:00\",\"2017-05-03T00:00:00\",\"2017-05-04T00:00:00\",\"2017-05-05T00:00:00\",\"2017-05-06T00:00:00\",\"2017-05-07T00:00:00\",\"2017-05-08T00:00:00\",\"2017-05-09T00:00:00\",\"2017-05-10T00:00:00\",\"2017-05-11T00:00:00\",\"2017-05-12T00:00:00\",\"2017-05-13T00:00:00\",\"2017-05-14T00:00:00\",\"2017-05-15T00:00:00\",\"2017-05-16T00:00:00\",\"2017-05-17T00:00:00\",\"2017-05-18T00:00:00\",\"2017-05-19T00:00:00\",\"2017-05-20T00:00:00\",\"2017-05-21T00:00:00\",\"2017-05-22T00:00:00\",\"2017-05-23T00:00:00\",\"2017-05-24T00:00:00\",\"2017-05-25T00:00:00\",\"2017-05-26T00:00:00\",\"2017-05-27T00:00:00\",\"2017-05-28T00:00:00\",\"2017-05-29T00:00:00\",\"2017-05-30T00:00:00\",\"2017-05-31T00:00:00\",\"2017-06-01T00:00:00\",\"2017-06-02T00:00:00\",\"2017-06-03T00:00:00\",\"2017-06-04T00:00:00\",\"2017-06-05T00:00:00\",\"2017-06-06T00:00:00\",\"2017-06-07T00:00:00\",\"2017-06-08T00:00:00\",\"2017-06-09T00:00:00\",\"2017-06-10T00:00:00\",\"2017-06-11T00:00:00\",\"2017-06-12T00:00:00\",\"2017-06-13T00:00:00\",\"2017-06-14T00:00:00\",\"2017-06-15T00:00:00\",\"2017-06-16T00:00:00\",\"2017-06-17T00:00:00\",\"2017-06-18T00:00:00\",\"2017-06-19T00:00:00\",\"2017-06-20T00:00:00\",\"2017-06-21T00:00:00\",\"2017-06-22T00:00:00\",\"2017-06-23T00:00:00\",\"2017-06-24T00:00:00\",\"2017-06-25T00:00:00\",\"2017-06-26T00:00:00\",\"2017-06-27T00:00:00\",\"2017-06-28T00:00:00\",\"2017-06-29T00:00:00\",\"2017-06-30T00:00:00\",\"2017-07-01T00:00:00\",\"2017-07-02T00:00:00\",\"2017-07-03T00:00:00\",\"2017-07-04T00:00:00\",\"2017-07-05T00:00:00\",\"2017-07-06T00:00:00\",\"2017-07-07T00:00:00\",\"2017-07-08T00:00:00\",\"2017-07-09T00:00:00\",\"2017-07-10T00:00:00\",\"2017-07-11T00:00:00\",\"2017-07-12T00:00:00\",\"2017-07-13T00:00:00\",\"2017-07-14T00:00:00\",\"2017-07-15T00:00:00\",\"2017-07-16T00:00:00\",\"2017-07-17T00:00:00\",\"2017-07-18T00:00:00\",\"2017-07-19T00:00:00\",\"2017-07-20T00:00:00\",\"2017-07-21T00:00:00\",\"2017-07-22T00:00:00\",\"2017-07-23T00:00:00\",\"2017-07-24T00:00:00\",\"2017-07-25T00:00:00\",\"2017-07-26T00:00:00\",\"2017-07-27T00:00:00\",\"2017-07-28T00:00:00\",\"2017-07-29T00:00:00\",\"2017-07-30T00:00:00\",\"2017-07-31T00:00:00\",\"2017-08-01T00:00:00\",\"2017-08-02T00:00:00\",\"2017-08-03T00:00:00\",\"2017-08-04T00:00:00\",\"2017-08-05T00:00:00\",\"2017-08-06T00:00:00\",\"2017-08-07T00:00:00\",\"2017-08-08T00:00:00\",\"2017-08-09T00:00:00\",\"2017-08-10T00:00:00\",\"2017-08-11T00:00:00\",\"2017-08-12T00:00:00\",\"2017-08-13T00:00:00\",\"2017-08-14T00:00:00\",\"2017-08-15T00:00:00\",\"2017-08-16T00:00:00\",\"2017-08-17T00:00:00\",\"2017-08-18T00:00:00\",\"2017-08-19T00:00:00\",\"2017-08-20T00:00:00\",\"2017-08-21T00:00:00\",\"2017-08-22T00:00:00\",\"2017-08-23T00:00:00\",\"2017-08-24T00:00:00\",\"2017-08-25T00:00:00\",\"2017-08-26T00:00:00\",\"2017-08-27T00:00:00\",\"2017-08-28T00:00:00\",\"2017-08-29T00:00:00\",\"2017-08-30T00:00:00\",\"2017-08-31T00:00:00\",\"2017-09-01T00:00:00\",\"2017-09-02T00:00:00\",\"2017-09-03T00:00:00\",\"2017-09-04T00:00:00\",\"2017-09-05T00:00:00\",\"2017-09-06T00:00:00\",\"2017-09-07T00:00:00\",\"2017-09-08T00:00:00\",\"2017-09-09T00:00:00\",\"2017-09-10T00:00:00\",\"2017-09-11T00:00:00\",\"2017-09-12T00:00:00\",\"2017-09-13T00:00:00\",\"2017-09-14T00:00:00\",\"2017-09-15T00:00:00\",\"2017-09-16T00:00:00\",\"2017-09-17T00:00:00\",\"2017-09-18T00:00:00\",\"2017-09-19T00:00:00\",\"2017-09-20T00:00:00\",\"2017-09-21T00:00:00\",\"2017-09-22T00:00:00\",\"2017-09-23T00:00:00\",\"2017-09-24T00:00:00\",\"2017-09-25T00:00:00\",\"2017-09-26T00:00:00\",\"2017-09-27T00:00:00\",\"2017-09-28T00:00:00\",\"2017-09-29T00:00:00\",\"2017-09-30T00:00:00\",\"2017-10-01T00:00:00\",\"2017-10-02T00:00:00\",\"2017-10-03T00:00:00\",\"2017-10-04T00:00:00\",\"2017-10-05T00:00:00\",\"2017-10-06T00:00:00\",\"2017-10-07T00:00:00\",\"2017-10-08T00:00:00\",\"2017-10-09T00:00:00\",\"2017-10-10T00:00:00\",\"2017-10-11T00:00:00\",\"2017-10-12T00:00:00\",\"2017-10-13T00:00:00\",\"2017-10-14T00:00:00\",\"2017-10-15T00:00:00\",\"2017-10-16T00:00:00\",\"2017-10-17T00:00:00\",\"2017-10-18T00:00:00\",\"2017-10-19T00:00:00\",\"2017-10-20T00:00:00\",\"2017-10-21T00:00:00\",\"2017-10-22T00:00:00\",\"2017-10-23T00:00:00\",\"2017-10-24T00:00:00\",\"2017-10-25T00:00:00\",\"2017-10-26T00:00:00\",\"2017-10-27T00:00:00\",\"2017-10-28T00:00:00\",\"2017-10-29T00:00:00\",\"2017-10-30T00:00:00\",\"2017-10-31T00:00:00\",\"2017-11-01T00:00:00\",\"2017-11-02T00:00:00\",\"2017-11-03T00:00:00\",\"2017-11-04T00:00:00\",\"2017-11-05T00:00:00\",\"2017-11-06T00:00:00\",\"2017-11-07T00:00:00\",\"2017-11-08T00:00:00\",\"2017-11-09T00:00:00\",\"2017-11-10T00:00:00\",\"2017-11-11T00:00:00\",\"2017-11-12T00:00:00\",\"2017-11-13T00:00:00\",\"2017-11-14T00:00:00\",\"2017-11-15T00:00:00\",\"2017-11-16T00:00:00\",\"2017-11-17T00:00:00\",\"2017-11-18T00:00:00\",\"2017-11-19T00:00:00\",\"2017-11-20T00:00:00\",\"2017-11-21T00:00:00\",\"2017-11-22T00:00:00\",\"2017-11-23T00:00:00\",\"2017-11-24T00:00:00\",\"2017-11-25T00:00:00\",\"2017-11-26T00:00:00\",\"2017-11-27T00:00:00\",\"2017-11-28T00:00:00\",\"2017-11-29T00:00:00\",\"2017-11-30T00:00:00\",\"2017-12-01T00:00:00\",\"2017-12-02T00:00:00\",\"2017-12-03T00:00:00\",\"2017-12-04T00:00:00\",\"2017-12-05T00:00:00\",\"2017-12-06T00:00:00\",\"2017-12-07T00:00:00\",\"2017-12-08T00:00:00\",\"2017-12-09T00:00:00\",\"2017-12-10T00:00:00\",\"2017-12-11T00:00:00\",\"2017-12-12T00:00:00\",\"2017-12-13T00:00:00\",\"2017-12-14T00:00:00\",\"2017-12-15T00:00:00\",\"2017-12-16T00:00:00\",\"2017-12-17T00:00:00\",\"2017-12-18T00:00:00\",\"2017-12-19T00:00:00\",\"2017-12-20T00:00:00\",\"2017-12-21T00:00:00\",\"2017-12-22T00:00:00\",\"2017-12-23T00:00:00\",\"2017-12-24T00:00:00\",\"2017-12-25T00:00:00\",\"2017-12-26T00:00:00\",\"2017-12-27T00:00:00\",\"2017-12-28T00:00:00\",\"2017-12-29T00:00:00\",\"2017-12-30T00:00:00\",\"2017-12-31T00:00:00\"],\"y\":[11858.008658008657,11842.424242424242,12543.722943722943,13573.160173160173,14058.008658008657,14970.56277056277,10189.610389610389,11740.25974025974,12015.584415584415,12677.056277056277,13535.064935064935,14440.692640692641,15360.17316017316,10169.69696969697,11796.536796536797,11767.099567099567,12629.43722943723,13415.584415584415,14107.359307359307,15248.484848484848,10137.662337662337,11882.251082251083,11786.147186147185,12529.870129870129,13541.12554112554,14338.528138528138,15219.91341991342,10258.008658008657,11882.251082251081,11593.939393939394,12748.051948051949,15128.138528138528,15864.069264069263,16921.21212121212,11253.679653679654,12948.91774891775,13094.372294372295,13949.78354978355,15108.225108225108,15952.380952380952,16883.982683982686,11221.645021645021,13120.34632034632,13224.242424242424,14180.952380952382,15206.060606060606,15954.978354978355,16884.848484848484,11132.467532467532,13297.835497835498,12908.225108225108,14137.662337662337,15058.87445887446,15961.904761904761,16867.532467532466,11305.627705627705,13146.320346320346,12999.1341991342,14050.21645021645,18162.77056277056,19129.00432900433,20138.528138528138,13601.7316017316,15748.051948051949,15961.038961038961,16718.614718614717,17969.696969696968,19094.372294372293,20131.60173160173,13266.666666666666,15609.52380952381,15941.991341991341,16792.20779220779,17890.04329004329,19172.29437229437,20206.060606060604,13491.774891774892,15787.878787878788,15668.398268398269,16800.865800865802,18019.04761904762,19141.12554112554,20161.904761904763,13547.186147186147,15851.08225108225,15823.376623376624,17092.640692640693,17931.60173160173,19300.4329004329,20378.35497835498,15761.038961038961,18370.56277056277,18290.04329004329,19791.341991341993,20935.064935064936,22341.991341991343,23525.541125541127,15588.744588744588,18334.199134199134,18352.38095238095,19891.77489177489,20937.66233766234,22301.2987012987,23713.41991341991,15653.679653679654,18553.246753246753,18362.77056277056,19773.160173160173,20845.887445887445,22123.809523809523,23754.978354978353,15943.722943722943,18567.099567099565,18547.18614718615,19573.160173160173,21041.55844155844,21973.160173160173,23818.18181818182,15606.060606060606,18440.69264069264,19884.848484848484,21258.008658008657,22507.359307359307,24029.43722943723,25400.865800865802,16851.948051948053,19742.85714285714,19827.70562770563,21129.00432900433,22479.65367965368,23825.108225108226,25080.51948051948,16669.26406926407,19836.363636363636,19767.099567099565,21058.87445887446,22325.541125541124,23874.458874458873,25234.632034632035,16854.545454545456,19696.969696969696,19907.359307359307,21193.073593073594,22467.532467532466,24093.506493506495,25623.376623376622,16857.14285714286,19805.194805194806,19895.238095238095,21047.619047619046,22590.47619047619,25298.7012987013,27081.385281385283,17859.740259740258,20812.121212121212,21061.471861471862,22677.922077922078,24012.121212121212,25529.87012987013,26811.25541125541,18007.79220779221,21344.588744588746,21051.948051948053,22388.74458874459,23926.406926406926,25451.08225108225,27018.181818181816,17776.623376623378,21075.324675324675,20913.41991341991,22621.64502164502,23954.112554112555,25509.95670995671,27246.753246753247,18098.7012987013,20878.78787878788,21167.965367965367,22806.060606060604,23887.445887445887,25496.969696969696,27061.471861471862,19045.021645021643,22339.39393939394,22426.839826839827,23916.883116883117,25470.12987012987,26993.939393939392,28527.272727272728,19296.969696969696,22438.96103896104,22275.324675324675,24222.510822510823,25670.99567099567,27307.359307359307,28669.26406926407,19064.935064935064,22463.203463203463,22219.91341991342,23911.68831168831,25743.722943722943,27083.116883116883,28701.2987012987,19099.5670995671,22235.497835497834,22541.991341991343,23967.099567099565,25614.718614718615,27429.43722943723,28758.44155844156,19036.363636363636,22400.865800865802,22185.281385281385,20824.242424242424,22648.484848484848,24126.406926406926,25368.83116883117,16999.134199134198,19688.31168831169,19441.55844155844,21085.714285714286,22391.341991341993,23793.939393939392,25333.333333333332,16943.722943722943,19606.060606060604,19677.056277056276,21104.761904761905,22711.68831168831,24144.588744588746,25263.203463203463,16741.12554112554,19787.878787878788,19684.848484848484,21232.034632034633,22281.385281385283,24041.55844155844,25099.5670995671,16832.034632034633,19786.147186147187,19767.099567099565,20982.683982683982,22679.65367965368,23793.939393939392,23676.190476190477,16079.65367965368,18523.809523809523,18291.77489177489,19682.25108225108,21119.48051948052,22417.316017316018,23653.679653679654,15696.969696969696,18620.77922077922,18373.160173160173,19697.8354978355,21031.16883116883,22419.04761904762,23597.402597402597,15952.380952380952,18064.069264069265,18500.4329004329,19945.454545454544,20978.35497835498,22494.372294372293,23756.709956709958,15808.658008658009,18374.891774891774,18519.48051948052,19557.575757575756,21034.632034632035,21998.2683982684,23690.909090909092,15765.367965367965,17004.329004329004,17188.74458874459,18232.90043290043,19475.324675324675,20685.714285714286,21920.34632034632,14748.051948051949,16990.47619047619,16899.5670995671,18595.670995670996,19401.7316017316,20637.22943722944,22024.242424242424,14537.662337662337,16982.683982683982,17026.839826839827,18251.948051948053,19374.891774891774,20851.08225108225,21825.974025974025,14515.151515151516,17051.08225108225,17006.060606060604,18290.909090909092,19506.493506493505,20558.44155844156,21858.87445887446,14529.870129870129,17056.277056277057,17189.61038961039,18255.411255411254,21019.04761904762,22137.66233766234,23606.926406926406,15770.56277056277,18402.597402597403,18219.91341991342,19498.701298701297,21182.683982683982,22393.073593073594,23541.991341991343,15909.090909090908,18397.402597402597,18332.467532467534,19528.138528138526,21006.060606060604,22259.740259740258,23591.34199134199,15801.731601731602,18420.77922077922,18539.39393939394,19537.662337662336,21178.35497835498,22354.978354978353,23652.81385281385,15809.52380952381,18307.359307359307,18446.753246753247,19544.588744588746,21045.887445887445,22253.679653679654,16759.30735930736,11377.489177489177,13182.683982683982,13229.43722943723,14049.350649350648,15090.04329004329,16111.688311688311,16698.7012987013,11205.194805194806,13135.064935064935,13186.147186147185,14126.406926406926,14964.502164502164,15874.458874458875,17089.177489177488,11331.601731601731,12965.367965367965,13077.056277056277,13967.099567099567,14868.398268398269,16026.839826839827,17050.21645021645,11288.311688311689,13096.103896103896,13290.90909090909,14038.095238095239,14759.307359307359,15959.307359307359,16578.35497835498,11219.047619047618,13025.108225108224,13468.398268398269,14747.186147186147,15364.502164502164,16609.52380952381,17473.593073593074,11634.632034632035,13561.904761904761,13577.489177489177,14696.969696969696,15547.186147186147,16385.281385281385,17292.640692640693,11608.658008658009,13625.974025974027,13497.835497835498,14731.601731601731,15487.445887445887,16419.04761904762,17396.536796536795,11705.627705627705,13406.060606060606,13614.718614718615,14498.701298701299,15809.52380952381,16605.194805194806,17516.883116883117,11661.471861471862,13614.718614718615,13561.904761904761,14631.16883116883,15647.619047619048,18245.887445887445,19661.471861471862,13034.632034632035,15141.12554112554,15379.22077922078,16308.225108225108,17125.541125541124,18528.138528138526,19518.614718614717,12828.57142857143,15114.285714285714,15052.813852813853,16073.593073593074,17309.090909090908,18236.363636363636,19401.7316017316,12825.974025974027,15070.995670995671,15200.0,16238.095238095239,17205.194805194806,18238.96103896104,19493.506493506495,13096.103896103896,15081.38528138528,15309.090909090908,16105.627705627705,17285.714285714286,21857.14285714286,23338.528138528138,15569.69696969697,18320.34632034632,18265.800865800866,19362.77056277056,20881.385281385283,21881.385281385283,23369.696969696968,15478.787878787878,18103.030303030304,18006.926406926406,19417.316017316018,20845.021645021647,22239.82683982684,23341.12554112554,15484.848484848484,18074.458874458873,18064.069264069265,19190.47619047619,20645.887445887445,22041.55844155844,23367.965367965367,15493.506493506493,17892.640692640693,18200.0,19382.683982683982,20729.00432900433,22036.363636363636,23334.199134199134,15567.965367965367,20868.39826839827,21039.82683982684,22872.727272727272,23979.220779220777,25716.883116883117,27515.151515151516,18139.39393939394,21245.887445887445,21152.38095238095,22684.848484848484,24018.181818181816,25554.978354978353,27233.766233766233,18174.025974025975,21243.290043290042,21158.44155844156,22897.8354978355,23966.233766233767,25699.5670995671,27226.839826839827,18059.740259740258,21346.320346320346,21118.614718614717,22509.95670995671,24153.246753246753,25610.38961038961,27348.051948051947,18039.82683982684,21225.974025974025,21242.424242424244,24373.160173160173,26094.372294372293,27527.272727272728,29156.709956709958,19374.891774891774,22925.541125541124,22496.969696969696,24050.21645021645,25756.709956709958,27537.662337662336,29010.38961038961,19650.21645021645,22838.095238095237,22799.134199134198,24345.454545454544,25780.08658008658,27842.424242424244,29154.112554112555,19327.272727272728,22618.181818181816,22739.39393939394,24199.134199134198,25559.30735930736,27563.636363636364,29016.450216450216,19477.056277056276,22761.03896103896,22671.86147186147,24271.86147186147,26000.865800865802,27476.190476190477,31082.25108225108,20722.077922077922,23910.82251082251,24431.16883116883,25864.069264069265,27412.987012987014,28985.281385281385,30980.95238095238,20736.796536796537,24312.554112554113,24158.44155844156,25761.03896103896,27616.450216450216,29615.584415584417,31567.965367965367,20825.108225108226,24246.753246753247,24270.12987012987,26016.450216450216,27723.809523809523,29792.20779220779,30885.714285714286,20948.91774891775,23853.679653679654,24273.593073593074,26228.571428571428,27716.883116883117,29478.78787878788,31167.099567099565,20558.44155844156,25609.52380952381,25767.965367965367,27516.883116883117,29403.463203463205,31174.025974025975,33081.38528138528,22145.454545454544,25800.865800865802,25383.549783549784,27606.060606060604,29237.22943722944,31228.571428571428,32768.831168831166,21859.740259740258,25729.87012987013,25565.367965367965,27525.541125541124,29584.415584415583,31002.597402597403,33025.108225108226,22174.891774891774,25453.679653679654,25340.25974025974,27399.134199134198,29527.272727272728,31393.939393939392,33175.757575757576,21923.809523809523,25645.887445887445,25723.809523809523,27510.822510822512,25664.069264069265,27616.450216450216,28784.415584415583,19346.320346320346,22579.220779220777,22733.333333333332,24156.709956709958,25824.242424242424,27441.55844155844,29245.887445887445,19386.147186147187,22582.683982683982,22522.943722943724,24308.22510822511,25678.78787878788,27505.627705627707,29345.454545454544,19445.021645021647,22544.588744588746,22597.402597402597,24209.52380952381,25551.515151515152,27365.367965367965,29038.095238095237,19328.138528138526,22785.281385281385,22584.415584415583,24077.056277056276,25938.528138528138,27462.33766233766,29100.4329004329,17984.415584415583,21074.458874458873,21114.285714285714,22699.5670995671,24264.935064935064,25493.506493506495,27342.85714285714,18178.35497835498,21200.0,21224.242424242424,22432.034632034633,24002.597402597403,25807.79220779221,27384.415584415583,18284.848484848484,21162.77056277056,21159.30735930736,22741.12554112554,24354.978354978353,25774.891774891774,27175.757575757576,18200.865800865802,21145.454545454544,20969.696969696968,22737.662337662336,23874.458874458873,25753.246753246753,27070.12987012987,18122.943722943724,21029.43722943723,19629.43722943723,21289.177489177488,22394.805194805194,23879.65367965368,25108.22510822511,16903.030303030304,19346.320346320346,19797.402597402597,20991.341991341993,22282.25108225108,23593.939393939392,25165.367965367965,16897.8354978355,19722.077922077922,19447.619047619046,20717.74891774892,22296.969696969696,23936.796536796537,25258.008658008657,16809.52380952381,19752.38095238095,19795.670995670996,21060.60606060606,22475.324675324675,23850.21645021645,25200.865800865802,16797.402597402597,19616.450216450216,19636.363636363636,20961.904761904763,22426.839826839827,25738.528138528138,27034.632034632035,18255.411255411254,20996.536796536795,21038.96103896104,22851.948051948053,24127.272727272728,25612.121212121212,26991.34199134199,17941.12554112554,21257.14285714286,21264.935064935064,22716.883116883117,24245.021645021643,25745.454545454544,27146.320346320346,18077.922077922078,21088.31168831169,21191.34199134199,22560.17316017316,23974.025974025975,25752.38095238095,27277.056277056276,18270.99567099567,21205.194805194806,21318.614718614717,22579.220779220777,24267.532467532466,25671.86147186147,27120.34632034632,12974.891774891776,15166.233766233767,15002.597402597403,16180.952380952382,17286.580086580085,18393.939393939392,19060.60606060606,13036.363636363636,15286.580086580087,15090.04329004329,16182.683982683982,17206.926406926406,18433.766233766233,19452.81385281385,12775.757575757576,15167.099567099567,15315.151515151514,16219.047619047618,17321.21212121212,18134.199134199134,19477.922077922078,13032.034632034633,15149.78354978355,14955.844155844155,16109.95670995671,17211.25541125541,18456.277056277057,19508.22510822511,12890.04329004329,15070.995670995671,14924.675324675325,14914.285714285714,16206.926406926406,17141.12554112554,18269.26406926407,12324.675324675325,14219.91341991342,14089.17748917749,15313.419913419913,16290.90909090909,17263.203463203463,18321.21212121212,12093.506493506493,14214.718614718615,14322.077922077922,15234.632034632035,16008.658008658009,17287.445887445887,18203.463203463205,12266.666666666666,14120.34632034632,14182.683982683982,15264.069264069263,16207.792207792209,17160.17316017316,18365.367965367965,12180.952380952382,14214.718614718615,14248.484848484848,14954.112554112555,16252.813852813853,17229.43722943723,20255.411255411254,13491.774891774892,15678.787878787878,15696.103896103896,16925.541125541124,18014.718614718615,19228.571428571428,20420.77922077922,13641.558441558442,15912.554112554113,15870.12987012987,16894.372294372293,17823.376623376622,19083.116883116883,20152.38095238095,13427.705627705627,15810.38961038961,15729.004329004329,17119.48051948052,18045.887445887445,19065.800865800866,20347.18614718615,13413.852813852815,15670.995670995671,15723.809523809523,16962.77056277056,17929.87012987013,18994.805194805194,24472.727272727272,16169.69696969697,18931.60173160173,18917.74891774892,20377.489177489177,21541.991341991343,23141.991341991343,24373.160173160173,16082.251082251083,18815.584415584417,18929.87012987013,20351.515151515152,21717.74891774892,22888.31168831169,24353.246753246753,16346.320346320346,18879.65367965368,18890.909090909092,20065.800865800866,22089.177489177488,23039.82683982684,24498.701298701297,16109.090909090908,18949.78354978355,18777.489177489177,20102.1645021645,21480.51948051948,22847.619047619046,24463.203463203463,16372.294372294373,18880.51948051948,21906.493506493505,23758.44155844156,25475.324675324675,26691.77489177489,28333.333333333332,18939.39393939394,22124.675324675325,21656.277056277057,23833.766233766233,25109.090909090908,26863.203463203463,28547.18614718615,18776.623376623378,21888.31168831169,21712.554112554113,23789.61038961039,25475.324675324675,26929.00432900433,28582.683982683982,18781.81818181818,21855.411255411254,22042.424242424244,23715.151515151516,25121.21212121212,26698.701298701297,28541.12554112554,18867.532467532466,22023.376623376622,21969.696969696968,23814.718614718615,27071.86147186147,28617.316017316018,30070.99567099567,20220.77922077922,23598.2683982684,23701.2987012987,25295.238095238095,27025.108225108226,28659.740259740258,30361.03896103896,20168.83116883117,23597.402597402597,23587.878787878788,25580.08658008658,27030.303030303032,28758.44155844156,30562.77056277056,20267.532467532466,23819.91341991342,23873.593073593074,25478.78787878788,26819.91341991342,28688.31168831169,30410.38961038961,20289.177489177488,23839.82683982684,23670.99567099567,25308.22510822511,27167.965367965367,28635.497835497834,30335.064935064936,21561.904761904763,25333.333333333332,25204.329004329004,27197.402597402597,28875.324675324675,30574.891774891774,32491.77489177489,21564.502164502166,25336.796536796537,25156.709956709958,27188.74458874459,28842.424242424244,30819.91341991342,32729.00432900433,21488.31168831169,25321.21212121212,25198.2683982684,27002.597402597403,28745.454545454544,30594.805194805194,32407.79220779221,21448.484848484848,25251.08225108225,25241.55844155844,26881.385281385283,28930.73593073593,30520.34632034632,32389.61038961039,21709.090909090908,25406.926406926406,26582.683982683982,28687.445887445887,30734.199134199134,32706.493506493505,34406.92640692641,22960.17316017316,26767.099567099565,27012.987012987014,28539.39393939394,30664.935064935064,32588.74458874459,34453.679653679654,23123.809523809523,26777.489177489177,26923.809523809523,28726.406926406926,30621.64502164502,32526.406926406926,34343.72294372295,23183.549783549784,26736.796536796537,26851.08225108225,28782.683982683982,30700.4329004329,32561.03896103896,34230.30303030303,22862.33766233766,26793.073593073594,26763.636363636364,28954.978354978353,30570.56277056277,28870.12987012987,30638.095238095237,20520.34632034632,23480.51948051948,23551.515151515152,25521.21212121212,27096.103896103898,28841.55844155844,30589.61038961039,20204.329004329004,23574.025974025975,23436.363636363636,25376.623376623378,27101.2987012987,28674.458874458873,30431.16883116883,20387.012987012986,23458.008658008657,23737.662337662336,25361.904761904763,27357.575757575756,28640.69264069264,30496.103896103898,20220.77922077922,23426.839826839827,23600.865800865802,25466.666666666668,27087.445887445887,28669.26406926407,30652.81385281385,20412.987012987014,21969.696969696968,22065.800865800866,23780.95238095238,25467.532467532466,26673.593073593074,28544.588744588746,18903.030303030304,21958.44155844156,22167.965367965367,23678.78787878788,25258.008658008657,26403.463203463205,28481.385281385283,18812.121212121212,22275.324675324675,22154.978354978353,23694.372294372293,25247.619047619046,26819.04761904762,28458.008658008657,19058.008658008657,21952.38095238095,21963.636363636364,23715.151515151516,25198.2683982684,26724.675324675325,28316.017316017314,18915.151515151516,22153.246753246753,22030.303030303032,22006.060606060604,23486.580086580085,24874.458874458873,26279.65367965368,17636.363636363636,20448.484848484848,20427.70562770563,21870.12987012987,23103.896103896102,24656.277056277057,26436.363636363636,17589.61038961039,20552.38095238095,20387.878787878788,21938.528138528138,23362.77056277056,24850.21645021645,26416.450216450216,17473.593073593074,20502.1645021645,20499.5670995671,21945.454545454544,23425.974025974025,24877.056277056276,26527.272727272728,17478.78787878788,20477.056277056276,20599.134199134198,21644.155844155845,23515.151515151516,24973.160173160173,28412.987012987014,18935.930735930735,22152.38095238095,22125.541125541124,23832.034632034633,25200.865800865802,26650.21645021645,28432.034632034633,18652.81385281385,22027.70562770563,22106.493506493505,23664.069264069265,25276.190476190477,26936.796536796537,28445.021645021643,18997.402597402597,22226.839826839827,22001.7316017316,23625.108225108226,25251.08225108225,26910.822510822512,28339.39393939394,18747.18614718615,22222.510822510823,22069.26406926407,23928.138528138526,25419.04761904762,26802.597402597403,28427.70562770563,18755.844155844155,15598.268398268398,15794.805194805194,16920.34632034632,17880.51948051948,19252.81385281385,20558.44155844156,13463.203463203463,15840.692640692641,15820.77922077922,16709.090909090908,17991.341991341993,19153.246753246753,20164.502164502162,13561.038961038961,15977.489177489177,16032.034632034633,16797.402597402597,18040.69264069264,18904.761904761905,20414.718614718615,13566.233766233767,15591.341991341991,15611.255411255412,16961.904761904763,18075.324675324675,19269.26406926407,20145.454545454544,13479.65367965368,15933.333333333334,15749.78354978355,16776.623376623378,17452.81385281385,18424.242424242424,19836.363636363636,13159.307359307359,15416.450216450216,15401.731601731602,16542.85714285714,17545.454545454544,18449.35064935065,19749.78354978355,13320.34632034632,15342.857142857143,15280.51948051948,16698.7012987013,17622.510822510823,18757.575757575756,19751.515151515152,13073.593073593074,15414.718614718615,15542.857142857143,16428.571428571428,17526.406926406926,18627.70562770563,19717.74891774892,13221.645021645021,15406.060606060606,15604.329004329004,16464.069264069265,17496.969696969696,18645.021645021643,19670.12987012987,14726.406926406926,17143.722943722943,17119.48051948052,18165.367965367965,19475.324675324675,20778.35497835498,21684.848484848484,14745.454545454546,17212.121212121212,16935.064935064936,18404.329004329004,19495.238095238095,20813.852813852813,21847.619047619046,14641.558441558442,17111.68831168831,17193.073593073594,18195.670995670996,19671.86147186147,20759.30735930736,22077.922077922078,14750.64935064935,17141.12554112554,16907.359307359307,18350.64935064935,19556.709956709958,20857.14285714286,22022.510822510823,14645.887445887445,20503.896103896102,20393.073593073594,22247.619047619046,23505.627705627707,25077.922077922078,26253.679653679654,17393.939393939392,20426.839826839827,20663.203463203463,22005.194805194806,23695.238095238095,24861.471861471862,26251.948051948053,17709.090909090908,20525.541125541124,20354.978354978353,22118.614718614717,23606.926406926406,24863.203463203463,26373.160173160173,17644.155844155845,20696.969696969696,20544.588744588746,22008.658008658007,23278.78787878788,24796.536796536795,26399.134199134198,17703.896103896102,20509.090909090908,20579.220779220777,21753.246753246753,27458.87445887446,28589.61038961039,30892.640692640693,20383.549783549784,23896.969696969696,23800.865800865802,25728.138528138526,27369.696969696968,29105.627705627707,30935.930735930735,20617.316017316018,23914.285714285714,23815.584415584417,25544.588744588746,27225.108225108226,28836.363636363636,30949.78354978355,20484.848484848484,24027.70562770563,23919.48051948052,25457.142857142855,27344.588744588746,28845.021645021647,30801.7316017316,20445.021645021643,24119.48051948052,23836.363636363636,25677.056277056276,27636.363636363636,29249.35064935065,32771.42857142857,21907.359307359307,25600.0,25890.04329004329,27444.155844155845,29448.484848484848,31043.290043290042,33176.62337662338,22029.43722943723,25528.138528138526,25496.103896103898,27658.008658008657,29275.324675324675,30749.78354978355,32793.93939393939,22154.112554112555,25574.891774891774,25735.930735930735,27472.727272727272,29514.285714285714,30800.865800865802,32825.97402597403,22036.363636363636,25412.121212121212,25542.85714285714,27296.103896103898,29419.91341991342,31238.96103896104,33222.51082251082,21651.948051948053,25331.60173160173,27443.290043290042,29296.103896103894,31009.52380952381,33063.20346320346,35336.79653679654,23824.242424242424,27400.0,27325.541125541124,29420.77922077922,31187.012987012986,33190.47619047619,35245.88744588745,23430.303030303032,27432.90043290043,27329.87012987013,29340.25974025974,31360.17316017316,32928.13852813853,35030.30303030303,23397.402597402597,27166.233766233767,27670.99567099567,29386.147186147187,31296.103896103898,33215.58441558442,35429.43722943723,23276.190476190477,27306.493506493505,27392.20779220779,29291.77489177489,33405.194805194806,35094.3722943723,37318.61471861472,24928.138528138526,28910.822510822512,28819.91341991342,31334.199134199134,33057.142857142855,35249.35064935065,37599.1341991342,25027.70562770563,28911.68831168831,29438.095238095237,31035.497835497834,33190.47619047619,35136.79653679654,37443.29004329004,24896.969696969696,29317.74891774892,29193.073593073594,31426.839826839827,33370.56277056277,34755.844155844155,37126.406926406926,24904.761904761905,28972.29437229437,28945.454545454544,31086.580086580085,33148.05194805195,35374.02597402597,37483.982683982686,21948.91774891775,25750.64935064935,25549.78354978355,27380.95238095238,29393.073593073594,31541.12554112554,32800.8658008658,21984.415584415583,25629.43722943723,25544.588744588746,27287.445887445887,29196.536796536795,31143.722943722943,32991.34199134199,21981.81818181818,25500.4329004329,25779.220779220777,27326.406926406926,29408.658008658007,31103.896103896102,32949.78354978355,21994.805194805194,25579.220779220777,25708.22510822511,27508.22510822511,29297.8354978355,31175.757575757576,32754.112554112555,21963.636363636364,25574.025974025975,26029.43722943723,25952.38095238095,27389.61038961039,28828.571428571428,30781.81818181818,20416.450216450216,23826.839826839827,23793.939393939392,25400.0,27412.121212121212,28953.246753246753,30390.47619047619,20341.12554112554,23838.095238095237,23753.246753246753,25616.450216450216,27449.35064935065,28901.2987012987,30836.363636363636,20658.008658008657,23877.922077922078,23972.29437229437,25716.883116883117,27374.891774891774,28993.939393939392,30702.1645021645,20382.683982683982,23842.424242424244,24200.865800865802,25588.74458874459,27284.848484848484,26680.51948051948,28566.233766233767,19208.658008658007,22250.21645021645,22167.965367965367,23729.87012987013,25341.12554112554,27212.987012987014,28469.26406926407,18916.883116883117,22451.08225108225,22066.666666666668,23629.43722943723,25353.246753246753,27134.199134199134,28839.82683982684,19044.155844155845,22101.2987012987,22435.497835497834,24019.04761904762,25516.017316017314,27008.658008658007,28506.493506493505,19084.848484848484,22505.627705627707,21916.883116883117,23820.77922077922,25592.20779220779,26821.64502164502,28319.48051948052,19026.839826839827,23941.12554112554,24207.79220779221,25423.376623376622,27264.069264069265,29110.822510822512,30753.246753246753,20167.965367965367,23836.363636363636,23923.809523809523,25574.891774891774,27466.666666666668,29000.865800865802,30954.978354978353,20485.714285714286,23993.073593073594,23983.549783549784,25646.753246753247,27202.597402597403,29013.852813852813,30725.541125541124,20512.554112554113,23753.246753246753,23932.467532467534,25579.220779220777,27392.20779220779,28948.051948051947,30612.121212121212,20451.08225108225,24076.190476190477,23882.25108225108,18350.64935064935,19329.00432900433,20543.722943722943,21903.030303030304,14620.77922077922,16780.08658008658,16981.81818181818,18417.316017316018,19686.580086580085,20853.679653679654,21806.926406926406,14715.151515151516,17113.41991341991,17130.73593073593,18276.190476190477,19554.978354978353,20866.666666666668,21683.116883116883,14573.160173160173,17120.34632034632,16827.70562770563,18535.064935064936,19522.943722943724,20941.12554112554,21813.852813852813,14572.294372294373,16745.454545454544,16935.064935064936,18277.922077922078,19303.896103896102,20599.134199134198,20527.272727272728,13655.411255411256,16147.186147186147,16025.974025974027,17225.108225108226,18176.623376623378,19559.30735930736,20519.48051948052,13677.056277056277,16110.82251082251,16009.52380952381,17042.424242424244,18342.85714285714,19423.376623376622,20520.34632034632,13630.30303030303,16025.974025974027,16142.857142857143,16909.090909090908,18237.22943722944,19559.30735930736,20632.90043290043,13590.47619047619,16038.095238095239,15974.025974025973,16918.614718614717,18282.25108225108,19229.43722943723,20612.121212121212,13713.419913419913,16005.194805194806,17845.887445887445,18939.39393939394,20347.18614718615,21660.60606060606,22583.549783549784,15224.242424242424,17690.909090909092,17568.83116883117,18897.8354978355,20374.025974025975,21914.285714285714,22932.467532467534,15220.77922077922,17736.796536796537,17807.79220779221,18885.714285714286,20362.77056277056,21516.883116883117,22880.51948051948,15095.238095238095,17819.91341991342,17683.982683982686,19157.575757575756,20288.31168831169,21690.04329004329,23010.38961038961,15194.805194805194,17651.08225108225,21282.25108225108,22793.073593073594,24274.458874458873,25552.380952380954,27439.82683982684,18209.52380952381,21135.930735930735,21582.683982683982,22499.5670995671,24283.982683982686,25831.16883116883,27537.66233766234,18348.91774891775,21502.1645021645,21093.506493506495,22725.541125541124,24174.891774891774,25884.848484848484,27258.008658008657,18090.909090909092,21387.878787878788,21426.839826839827,22608.658008658007,24183.549783549784,25954.112554112555,27492.640692640693,18193.073593073594,21379.220779220777,21189.61038961039,22851.08225108225,24097.8354978355,30083.116883116883,31841.55844155844,21397.402597402597,24645.021645021647,24523.809523809523,26550.64935064935,28430.303030303032,30447.619047619046,31690.909090909092,21340.25974025974,24746.320346320346,24769.696969696968,26402.597402597403,28081.385281385283,30118.614718614717,31600.0,21387.878787878788,24700.4329004329,24862.33766233766,26736.796536796537,28361.904761904763,30148.051948051947,32118.614718614717,21214.718614718615,24813.852813852813,24777.489177489177,26588.74458874459,28627.70562770563,30011.25541125541,31848.484848484848,22761.904761904763,26883.116883116883,26636.363636363636,28557.575757575756,30664.935064935064,32461.471861471862,34164.50216450216,22826.839826839827,26761.03896103896,26748.91774891775,28774.025974025975,30348.051948051947,32334.199134199134,34120.34632034632,22676.190476190477,26776.623376623378,26422.510822510823,28536.796536796537,30712.554112554113,32613.852813852813,34522.943722943724,22817.316017316018,26501.2987012987,26620.77922077922,28666.666666666668,30727.272727272728,32312.554112554113,34127.27272727273,22678.78787878788,26232.90043290043,26721.21212121212,30227.70562770563,32270.99567099567,34572.294372294375,36416.45021645022,24064.069264069265,28514.285714285714,28624.242424242424,30650.21645021645,32297.8354978355,34505.6277056277,36382.683982683986,24092.640692640693,28428.571428571428,28616.450216450216,30338.528138528138,32253.679653679654,34718.61471861472,36367.09956709957,24392.20779220779,28398.2683982684,28522.077922077922,30173.160173160173,32403.463203463205,34200.0,36388.74458874459,24404.329004329004,28440.69264069264,28323.809523809523,30571.428571428572,32192.20779220779,36877.92207792208,38905.6277056277,25779.220779220777,30075.324675324675,30026.839826839827,32203.4632034632,34622.51082251082,36068.39826839827,38623.37662337662,25734.199134199134,30258.87445887446,30149.78354978355,32041.55844155844,34740.25974025974,36510.82251082251,38836.36363636363,25938.528138528138,29969.696969696968,30292.640692640693,32258.008658008657,34475.32467532467,36807.792207792205,38814.718614718615,26009.52380952381,30225.108225108226,30283.982683982686,32254.545454545456,34017.316017316014,36459.74025974026,38815.58441558442,26116.017316017314,26601.7316017316,26655.411255411254,28417.316017316018,30419.04761904762,32239.82683982684,34021.645021645025,23058.87445887446,26690.909090909092,26596.536796536795,28666.666666666668,30375.757575757576,32380.95238095238,34192.207792207795,22635.497835497834,26400.865800865802,26598.2683982684,28617.316017316018,30510.822510822512,32514.285714285714,34651.08225108225,22673.593073593074,26754.978354978353,26515.151515151516,28517.74891774892,30202.597402597403,32686.580086580085,34424.242424242424,22993.073593073594,26645.021645021643,26485.714285714286,28516.883116883117,28163.636363636364,30137.662337662336,31619.91341991342,21320.34632034632,24492.640692640693,24734.199134199134,26534.199134199134,28708.22510822511,30031.16883116883,32174.891774891774,21337.66233766234,24707.359307359307,24967.099567099565,26698.701298701297,28217.316017316018,30249.35064935065,31892.640692640693,21277.056277056276,24735.064935064936,25095.238095238095,26568.83116883117,28325.541125541127,30003.463203463205,31701.2987012987,21468.39826839827,24707.359307359307,25156.709956709958,26437.22943722944,28311.68831168831,29976.623376623378,29303.030303030304,19838.095238095237,23250.21645021645,23109.090909090908,24551.515151515152,26168.83116883117,27869.26406926407,29605.194805194806,19890.909090909092,22924.675324675325,23289.177489177488,24709.95670995671,26280.51948051948,28238.96103896104,29543.722943722943,19861.471861471862,23148.91774891775,23154.112554112555,24926.406926406926,26432.034632034633,28303.030303030304,29767.099567099565,19883.116883116883,22938.528138528138,23198.2683982684,24614.718614718615,26377.489177489177,28045.021645021643,29707.359307359307,19649.35064935065,22987.012987012986,24654.545454545456,26870.99567099567,28435.497835497834,30358.44155844156,31950.64935064935,21430.303030303032,25040.69264069264,24882.25108225108,26715.151515151516,28438.095238095237,29849.35064935065,31977.489177489177,21302.1645021645,24903.896103896102,24767.965367965367,26607.79220779221,28373.160173160173,30309.090909090908,31615.584415584417,21329.87012987013,24958.44155844156,24516.883116883117,26783.549783549784,28231.16883116883,30250.21645021645,32011.25541125541,21148.91774891775,24924.675324675325,24866.666666666668,26683.116883116883,20311.68831168831,21245.021645021643,22972.29437229437,15049.350649350648,17469.26406926407,17610.38961038961,18889.177489177488,20321.21212121212,21481.385281385283,22858.87445887446,15254.545454545454,17520.34632034632,17924.675324675325,19079.65367965368,20416.450216450216,21604.329004329004,22655.411255411254,15364.502164502164,17763.636363636364,17787.878787878788,19232.90043290043,20404.329004329004,21439.82683982684,22623.376623376622,15166.233766233767,17954.978354978353,17643.290043290042,18948.051948051947,20376.623376623378,21634.632034632035,22874.458874458873],\"type\":\"scatter\"}],                        {\"title\":{\"text\":\"Daily sales\"},\"xaxis\":{\"title\":{\"text\":\"Date\"}},\"yaxis\":{\"title\":{\"text\":\"Sales\"}},\"template\":{\"data\":{\"histogram2dcontour\":[{\"type\":\"histogram2dcontour\",\"colorbar\":{\"outlinewidth\":0,\"ticks\":\"\"},\"colorscale\":[[0.0,\"#0d0887\"],[0.1111111111111111,\"#46039f\"],[0.2222222222222222,\"#7201a8\"],[0.3333333333333333,\"#9c179e\"],[0.4444444444444444,\"#bd3786\"],[0.5555555555555556,\"#d8576b\"],[0.6666666666666666,\"#ed7953\"],[0.7777777777777778,\"#fb9f3a\"],[0.8888888888888888,\"#fdca26\"],[1.0,\"#f0f921\"]]}],\"choropleth\":[{\"type\":\"choropleth\",\"colorbar\":{\"outlinewidth\":0,\"ticks\":\"\"}}],\"histogram2d\":[{\"type\":\"histogram2d\",\"colorbar\":{\"outlinewidth\":0,\"ticks\":\"\"},\"colorscale\":[[0.0,\"#0d0887\"],[0.1111111111111111,\"#46039f\"],[0.2222222222222222,\"#7201a8\"],[0.3333333333333333,\"#9c179e\"],[0.4444444444444444,\"#bd3786\"],[0.5555555555555556,\"#d8576b\"],[0.6666666666666666,\"#ed7953\"],[0.7777777777777778,\"#fb9f3a\"],[0.8888888888888888,\"#fdca26\"],[1.0,\"#f0f921\"]]}],\"heatmap\":[{\"type\":\"heatmap\",\"colorbar\":{\"outlinewidth\":0,\"ticks\":\"\"},\"colorscale\":[[0.0,\"#0d0887\"],[0.1111111111111111,\"#46039f\"],[0.2222222222222222,\"#7201a8\"],[0.3333333333333333,\"#9c179e\"],[0.4444444444444444,\"#bd3786\"],[0.5555555555555556,\"#d8576b\"],[0.6666666666666666,\"#ed7953\"],[0.7777777777777778,\"#fb9f3a\"],[0.8888888888888888,\"#fdca26\"],[1.0,\"#f0f921\"]]}],\"heatmapgl\":[{\"type\":\"heatmapgl\",\"colorbar\":{\"outlinewidth\":0,\"ticks\":\"\"},\"colorscale\":[[0.0,\"#0d0887\"],[0.1111111111111111,\"#46039f\"],[0.2222222222222222,\"#7201a8\"],[0.3333333333333333,\"#9c179e\"],[0.4444444444444444,\"#bd3786\"],[0.5555555555555556,\"#d8576b\"],[0.6666666666666666,\"#ed7953\"],[0.7777777777777778,\"#fb9f3a\"],[0.8888888888888888,\"#fdca26\"],[1.0,\"#f0f921\"]]}],\"contourcarpet\":[{\"type\":\"contourcarpet\",\"colorbar\":{\"outlinewidth\":0,\"ticks\":\"\"}}],\"contour\":[{\"type\":\"contour\",\"colorbar\":{\"outlinewidth\":0,\"ticks\":\"\"},\"colorscale\":[[0.0,\"#0d0887\"],[0.1111111111111111,\"#46039f\"],[0.2222222222222222,\"#7201a8\"],[0.3333333333333333,\"#9c179e\"],[0.4444444444444444,\"#bd3786\"],[0.5555555555555556,\"#d8576b\"],[0.6666666666666666,\"#ed7953\"],[0.7777777777777778,\"#fb9f3a\"],[0.8888888888888888,\"#fdca26\"],[1.0,\"#f0f921\"]]}],\"surface\":[{\"type\":\"surface\",\"colorbar\":{\"outlinewidth\":0,\"ticks\":\"\"},\"colorscale\":[[0.0,\"#0d0887\"],[0.1111111111111111,\"#46039f\"],[0.2222222222222222,\"#7201a8\"],[0.3333333333333333,\"#9c179e\"],[0.4444444444444444,\"#bd3786\"],[0.5555555555555556,\"#d8576b\"],[0.6666666666666666,\"#ed7953\"],[0.7777777777777778,\"#fb9f3a\"],[0.8888888888888888,\"#fdca26\"],[1.0,\"#f0f921\"]]}],\"mesh3d\":[{\"type\":\"mesh3d\",\"colorbar\":{\"outlinewidth\":0,\"ticks\":\"\"}}],\"scatter\":[{\"fillpattern\":{\"fillmode\":\"overlay\",\"size\":10,\"solidity\":0.2},\"type\":\"scatter\"}],\"parcoords\":[{\"type\":\"parcoords\",\"line\":{\"colorbar\":{\"outlinewidth\":0,\"ticks\":\"\"}}}],\"scatterpolargl\":[{\"type\":\"scatterpolargl\",\"marker\":{\"colorbar\":{\"outlinewidth\":0,\"ticks\":\"\"}}}],\"bar\":[{\"error_x\":{\"color\":\"#2a3f5f\"},\"error_y\":{\"color\":\"#2a3f5f\"},\"marker\":{\"line\":{\"color\":\"#E5ECF6\",\"width\":0.5},\"pattern\":{\"fillmode\":\"overlay\",\"size\":10,\"solidity\":0.2}},\"type\":\"bar\"}],\"scattergeo\":[{\"type\":\"scattergeo\",\"marker\":{\"colorbar\":{\"outlinewidth\":0,\"ticks\":\"\"}}}],\"scatterpolar\":[{\"type\":\"scatterpolar\",\"marker\":{\"colorbar\":{\"outlinewidth\":0,\"ticks\":\"\"}}}],\"histogram\":[{\"marker\":{\"pattern\":{\"fillmode\":\"overlay\",\"size\":10,\"solidity\":0.2}},\"type\":\"histogram\"}],\"scattergl\":[{\"type\":\"scattergl\",\"marker\":{\"colorbar\":{\"outlinewidth\":0,\"ticks\":\"\"}}}],\"scatter3d\":[{\"type\":\"scatter3d\",\"line\":{\"colorbar\":{\"outlinewidth\":0,\"ticks\":\"\"}},\"marker\":{\"colorbar\":{\"outlinewidth\":0,\"ticks\":\"\"}}}],\"scattermapbox\":[{\"type\":\"scattermapbox\",\"marker\":{\"colorbar\":{\"outlinewidth\":0,\"ticks\":\"\"}}}],\"scatterternary\":[{\"type\":\"scatterternary\",\"marker\":{\"colorbar\":{\"outlinewidth\":0,\"ticks\":\"\"}}}],\"scattercarpet\":[{\"type\":\"scattercarpet\",\"marker\":{\"colorbar\":{\"outlinewidth\":0,\"ticks\":\"\"}}}],\"carpet\":[{\"aaxis\":{\"endlinecolor\":\"#2a3f5f\",\"gridcolor\":\"white\",\"linecolor\":\"white\",\"minorgridcolor\":\"white\",\"startlinecolor\":\"#2a3f5f\"},\"baxis\":{\"endlinecolor\":\"#2a3f5f\",\"gridcolor\":\"white\",\"linecolor\":\"white\",\"minorgridcolor\":\"white\",\"startlinecolor\":\"#2a3f5f\"},\"type\":\"carpet\"}],\"table\":[{\"cells\":{\"fill\":{\"color\":\"#EBF0F8\"},\"line\":{\"color\":\"white\"}},\"header\":{\"fill\":{\"color\":\"#C8D4E3\"},\"line\":{\"color\":\"white\"}},\"type\":\"table\"}],\"barpolar\":[{\"marker\":{\"line\":{\"color\":\"#E5ECF6\",\"width\":0.5},\"pattern\":{\"fillmode\":\"overlay\",\"size\":10,\"solidity\":0.2}},\"type\":\"barpolar\"}],\"pie\":[{\"automargin\":true,\"type\":\"pie\"}]},\"layout\":{\"autotypenumbers\":\"strict\",\"colorway\":[\"#636efa\",\"#EF553B\",\"#00cc96\",\"#ab63fa\",\"#FFA15A\",\"#19d3f3\",\"#FF6692\",\"#B6E880\",\"#FF97FF\",\"#FECB52\"],\"font\":{\"color\":\"#2a3f5f\"},\"hovermode\":\"closest\",\"hoverlabel\":{\"align\":\"left\"},\"paper_bgcolor\":\"white\",\"plot_bgcolor\":\"#E5ECF6\",\"polar\":{\"bgcolor\":\"#E5ECF6\",\"angularaxis\":{\"gridcolor\":\"white\",\"linecolor\":\"white\",\"ticks\":\"\"},\"radialaxis\":{\"gridcolor\":\"white\",\"linecolor\":\"white\",\"ticks\":\"\"}},\"ternary\":{\"bgcolor\":\"#E5ECF6\",\"aaxis\":{\"gridcolor\":\"white\",\"linecolor\":\"white\",\"ticks\":\"\"},\"baxis\":{\"gridcolor\":\"white\",\"linecolor\":\"white\",\"ticks\":\"\"},\"caxis\":{\"gridcolor\":\"white\",\"linecolor\":\"white\",\"ticks\":\"\"}},\"coloraxis\":{\"colorbar\":{\"outlinewidth\":0,\"ticks\":\"\"}},\"colorscale\":{\"sequential\":[[0.0,\"#0d0887\"],[0.1111111111111111,\"#46039f\"],[0.2222222222222222,\"#7201a8\"],[0.3333333333333333,\"#9c179e\"],[0.4444444444444444,\"#bd3786\"],[0.5555555555555556,\"#d8576b\"],[0.6666666666666666,\"#ed7953\"],[0.7777777777777778,\"#fb9f3a\"],[0.8888888888888888,\"#fdca26\"],[1.0,\"#f0f921\"]],\"sequentialminus\":[[0.0,\"#0d0887\"],[0.1111111111111111,\"#46039f\"],[0.2222222222222222,\"#7201a8\"],[0.3333333333333333,\"#9c179e\"],[0.4444444444444444,\"#bd3786\"],[0.5555555555555556,\"#d8576b\"],[0.6666666666666666,\"#ed7953\"],[0.7777777777777778,\"#fb9f3a\"],[0.8888888888888888,\"#fdca26\"],[1.0,\"#f0f921\"]],\"diverging\":[[0,\"#8e0152\"],[0.1,\"#c51b7d\"],[0.2,\"#de77ae\"],[0.3,\"#f1b6da\"],[0.4,\"#fde0ef\"],[0.5,\"#f7f7f7\"],[0.6,\"#e6f5d0\"],[0.7,\"#b8e186\"],[0.8,\"#7fbc41\"],[0.9,\"#4d9221\"],[1,\"#276419\"]]},\"xaxis\":{\"gridcolor\":\"white\",\"linecolor\":\"white\",\"ticks\":\"\",\"title\":{\"standoff\":15},\"zerolinecolor\":\"white\",\"automargin\":true,\"zerolinewidth\":2},\"yaxis\":{\"gridcolor\":\"white\",\"linecolor\":\"white\",\"ticks\":\"\",\"title\":{\"standoff\":15},\"zerolinecolor\":\"white\",\"automargin\":true,\"zerolinewidth\":2},\"scene\":{\"xaxis\":{\"backgroundcolor\":\"#E5ECF6\",\"gridcolor\":\"white\",\"linecolor\":\"white\",\"showbackground\":true,\"ticks\":\"\",\"zerolinecolor\":\"white\",\"gridwidth\":2},\"yaxis\":{\"backgroundcolor\":\"#E5ECF6\",\"gridcolor\":\"white\",\"linecolor\":\"white\",\"showbackground\":true,\"ticks\":\"\",\"zerolinecolor\":\"white\",\"gridwidth\":2},\"zaxis\":{\"backgroundcolor\":\"#E5ECF6\",\"gridcolor\":\"white\",\"linecolor\":\"white\",\"showbackground\":true,\"ticks\":\"\",\"zerolinecolor\":\"white\",\"gridwidth\":2}},\"shapedefaults\":{\"line\":{\"color\":\"#2a3f5f\"}},\"annotationdefaults\":{\"arrowcolor\":\"#2a3f5f\",\"arrowhead\":0,\"arrowwidth\":1},\"geo\":{\"bgcolor\":\"white\",\"landcolor\":\"#E5ECF6\",\"subunitcolor\":\"white\",\"showland\":true,\"showlakes\":true,\"lakecolor\":\"white\"},\"title\":{\"x\":0.05},\"mapbox\":{\"style\":\"light\"}}}},                        {\"responsive\": true}                    ).then(function(){\n",
              "                            \n",
              "var gd = document.getElementById('fbe236b0-6a03-4852-9486-183e92c5bb80');\n",
              "var x = new MutationObserver(function (mutations, observer) {{\n",
              "        var display = window.getComputedStyle(gd).display;\n",
              "        if (!display || display === 'none') {{\n",
              "            console.log([gd, 'removed!']);\n",
              "            Plotly.purge(gd);\n",
              "            observer.disconnect();\n",
              "        }}\n",
              "}});\n",
              "\n",
              "// Listen for the removal of the full notebook cells\n",
              "var notebookContainer = gd.closest('#notebook-container');\n",
              "if (notebookContainer) {{\n",
              "    x.observe(notebookContainer, {childList: true});\n",
              "}}\n",
              "\n",
              "// Listen for the clearing of the current output cell\n",
              "var outputEl = gd.closest('.output');\n",
              "if (outputEl) {{\n",
              "    x.observe(outputEl, {childList: true});\n",
              "}}\n",
              "\n",
              "                        })                };                            </script>        </div>\n",
              "</body>\n",
              "</html>"
            ]
          },
          "metadata": {}
        }
      ],
      "source": [
        "daily_sales_sc = go.Scatter(x=daily_sales['date'], y=daily_sales['sales'])\n",
        "layout = go.Layout(title='Daily sales', xaxis=dict(title='Date'), yaxis=dict(title='Sales'))\n",
        "fig = go.Figure(data=[daily_sales_sc], layout=layout)\n",
        "fig = go.Figure(data=[daily_sales_sc],layout=layout)\n",
        "fig.show(renderer=\"colab\")"
      ]
    },
    {
      "cell_type": "code",
      "execution_count": null,
      "metadata": {
        "id": "mWvEi5760qhO"
      },
      "outputs": [],
      "source": [
        "import plotly.io as pio\n",
        "pio.renderers.default='notebook'"
      ]
    },
    {
      "cell_type": "markdown",
      "metadata": {
        "id": "MQvB2lnV1YOX"
      },
      "source": [
        "Reduce training set with the last year alone"
      ]
    },
    {
      "cell_type": "code",
      "execution_count": null,
      "metadata": {
        "colab": {
          "base_uri": "https://localhost:8080/"
        },
        "id": "cudPwEdH1ioO",
        "outputId": "659c0ecf-e80f-4db6-c337-40bf503877b6"
      },
      "outputs": [
        {
          "output_type": "stream",
          "name": "stdout",
          "text": [
            "             date  store  item      sales weekday_weekend\n",
            "481699 2017-01-01      4    27  15.584416         weekend\n",
            "695341 2017-01-01      1    39  31.168831         weekend\n",
            "823161 2017-01-01      1    46  32.900433         weekend\n",
            "523697 2017-01-01      7    29  37.229437         weekend\n",
            "636909 2017-01-01      9    35  57.142857         weekend\n"
          ]
        }
      ],
      "source": [
        "train = train[(train['date'] >= '2017-01-01')]\n",
        "print(train.head())"
      ]
    },
    {
      "cell_type": "markdown",
      "metadata": {
        "id": "LhY0fm7S1nwO"
      },
      "source": [
        "Rearrange datasets to apply shift methods\n"
      ]
    },
    {
      "cell_type": "code",
      "execution_count": null,
      "metadata": {
        "colab": {
          "base_uri": "https://localhost:8080/",
          "height": 206
        },
        "id": "u1Ca3ACn1tJN",
        "outputId": "9a5e3ecd-f848-463e-bc87-4974b9271d75"
      },
      "outputs": [
        {
          "output_type": "execute_result",
          "data": {
            "text/plain": [
              "   item  store       date      sales\n",
              "0     1      1 2017-01-01  16.450216\n",
              "1     1      1 2017-01-02  12.987013\n",
              "2     1      1 2017-01-03   8.658009\n",
              "3     1      1 2017-01-04  13.852814\n",
              "4     1      1 2017-01-05  12.121212"
            ],
            "text/html": [
              "\n",
              "  <div id=\"df-94eb6fc3-d0cf-49ec-a149-2e66f52fce3f\">\n",
              "    <div class=\"colab-df-container\">\n",
              "      <div>\n",
              "<style scoped>\n",
              "    .dataframe tbody tr th:only-of-type {\n",
              "        vertical-align: middle;\n",
              "    }\n",
              "\n",
              "    .dataframe tbody tr th {\n",
              "        vertical-align: top;\n",
              "    }\n",
              "\n",
              "    .dataframe thead th {\n",
              "        text-align: right;\n",
              "    }\n",
              "</style>\n",
              "<table border=\"1\" class=\"dataframe\">\n",
              "  <thead>\n",
              "    <tr style=\"text-align: right;\">\n",
              "      <th></th>\n",
              "      <th>item</th>\n",
              "      <th>store</th>\n",
              "      <th>date</th>\n",
              "      <th>sales</th>\n",
              "    </tr>\n",
              "  </thead>\n",
              "  <tbody>\n",
              "    <tr>\n",
              "      <th>0</th>\n",
              "      <td>1</td>\n",
              "      <td>1</td>\n",
              "      <td>2017-01-01</td>\n",
              "      <td>16.450216</td>\n",
              "    </tr>\n",
              "    <tr>\n",
              "      <th>1</th>\n",
              "      <td>1</td>\n",
              "      <td>1</td>\n",
              "      <td>2017-01-02</td>\n",
              "      <td>12.987013</td>\n",
              "    </tr>\n",
              "    <tr>\n",
              "      <th>2</th>\n",
              "      <td>1</td>\n",
              "      <td>1</td>\n",
              "      <td>2017-01-03</td>\n",
              "      <td>8.658009</td>\n",
              "    </tr>\n",
              "    <tr>\n",
              "      <th>3</th>\n",
              "      <td>1</td>\n",
              "      <td>1</td>\n",
              "      <td>2017-01-04</td>\n",
              "      <td>13.852814</td>\n",
              "    </tr>\n",
              "    <tr>\n",
              "      <th>4</th>\n",
              "      <td>1</td>\n",
              "      <td>1</td>\n",
              "      <td>2017-01-05</td>\n",
              "      <td>12.121212</td>\n",
              "    </tr>\n",
              "  </tbody>\n",
              "</table>\n",
              "</div>\n",
              "      <button class=\"colab-df-convert\" onclick=\"convertToInteractive('df-94eb6fc3-d0cf-49ec-a149-2e66f52fce3f')\"\n",
              "              title=\"Convert this dataframe to an interactive table.\"\n",
              "              style=\"display:none;\">\n",
              "        \n",
              "  <svg xmlns=\"http://www.w3.org/2000/svg\" height=\"24px\"viewBox=\"0 0 24 24\"\n",
              "       width=\"24px\">\n",
              "    <path d=\"M0 0h24v24H0V0z\" fill=\"none\"/>\n",
              "    <path d=\"M18.56 5.44l.94 2.06.94-2.06 2.06-.94-2.06-.94-.94-2.06-.94 2.06-2.06.94zm-11 1L8.5 8.5l.94-2.06 2.06-.94-2.06-.94L8.5 2.5l-.94 2.06-2.06.94zm10 10l.94 2.06.94-2.06 2.06-.94-2.06-.94-.94-2.06-.94 2.06-2.06.94z\"/><path d=\"M17.41 7.96l-1.37-1.37c-.4-.4-.92-.59-1.43-.59-.52 0-1.04.2-1.43.59L10.3 9.45l-7.72 7.72c-.78.78-.78 2.05 0 2.83L4 21.41c.39.39.9.59 1.41.59.51 0 1.02-.2 1.41-.59l7.78-7.78 2.81-2.81c.8-.78.8-2.07 0-2.86zM5.41 20L4 18.59l7.72-7.72 1.47 1.35L5.41 20z\"/>\n",
              "  </svg>\n",
              "      </button>\n",
              "      \n",
              "  <style>\n",
              "    .colab-df-container {\n",
              "      display:flex;\n",
              "      flex-wrap:wrap;\n",
              "      gap: 12px;\n",
              "    }\n",
              "\n",
              "    .colab-df-convert {\n",
              "      background-color: #E8F0FE;\n",
              "      border: none;\n",
              "      border-radius: 50%;\n",
              "      cursor: pointer;\n",
              "      display: none;\n",
              "      fill: #1967D2;\n",
              "      height: 32px;\n",
              "      padding: 0 0 0 0;\n",
              "      width: 32px;\n",
              "    }\n",
              "\n",
              "    .colab-df-convert:hover {\n",
              "      background-color: #E2EBFA;\n",
              "      box-shadow: 0px 1px 2px rgba(60, 64, 67, 0.3), 0px 1px 3px 1px rgba(60, 64, 67, 0.15);\n",
              "      fill: #174EA6;\n",
              "    }\n",
              "\n",
              "    [theme=dark] .colab-df-convert {\n",
              "      background-color: #3B4455;\n",
              "      fill: #D2E3FC;\n",
              "    }\n",
              "\n",
              "    [theme=dark] .colab-df-convert:hover {\n",
              "      background-color: #434B5C;\n",
              "      box-shadow: 0px 1px 3px 1px rgba(0, 0, 0, 0.15);\n",
              "      filter: drop-shadow(0px 1px 2px rgba(0, 0, 0, 0.3));\n",
              "      fill: #FFFFFF;\n",
              "    }\n",
              "  </style>\n",
              "\n",
              "      <script>\n",
              "        const buttonEl =\n",
              "          document.querySelector('#df-94eb6fc3-d0cf-49ec-a149-2e66f52fce3f button.colab-df-convert');\n",
              "        buttonEl.style.display =\n",
              "          google.colab.kernel.accessAllowed ? 'block' : 'none';\n",
              "\n",
              "        async function convertToInteractive(key) {\n",
              "          const element = document.querySelector('#df-94eb6fc3-d0cf-49ec-a149-2e66f52fce3f');\n",
              "          const dataTable =\n",
              "            await google.colab.kernel.invokeFunction('convertToInteractive',\n",
              "                                                     [key], {});\n",
              "          if (!dataTable) return;\n",
              "\n",
              "          const docLinkHtml = 'Like what you see? Visit the ' +\n",
              "            '<a target=\"_blank\" href=https://colab.research.google.com/notebooks/data_table.ipynb>data table notebook</a>'\n",
              "            + ' to learn more about interactive tables.';\n",
              "          element.innerHTML = '';\n",
              "          dataTable['output_type'] = 'display_data';\n",
              "          await google.colab.output.renderOutput(dataTable, element);\n",
              "          const docLink = document.createElement('div');\n",
              "          docLink.innerHTML = docLinkHtml;\n",
              "          element.appendChild(docLink);\n",
              "        }\n",
              "      </script>\n",
              "    </div>\n",
              "  </div>\n",
              "  "
            ]
          },
          "metadata": {},
          "execution_count": 17
        }
      ],
      "source": [
        "train_gp = train.sort_values('date').groupby(['item', 'store', 'date'], as_index=False)\n",
        "train_gp = train_gp.agg({'sales':['mean']})\n",
        "train_gp.columns = ['item', 'store', 'date', 'sales']\n",
        "train_gp.head()"
      ]
    },
    {
      "cell_type": "markdown",
      "metadata": {
        "id": "SXoZ7S6K10xe"
      },
      "source": [
        "Conversion of pandas data into supervised data"
      ]
    },
    {
      "cell_type": "code",
      "execution_count": null,
      "metadata": {
        "id": "PME5Nj_D15f0"
      },
      "outputs": [],
      "source": [
        "def series_to_supervised(data, window=1, lag=1, dropnan=True):\n",
        "    cols, names = list(), list()\n",
        "    # Input sequence (t-n, ... t-1)\n",
        "    for i in range(window, 0, -1):\n",
        "        cols.append(data.shift(i))\n",
        "        names += [('%s(t-%d)' % (col, i)) for col in data.columns]\n",
        "    # Current timestep (t=0)\n",
        "    cols.append(data)\n",
        "    names += [('%s(t)' % (col)) for col in data.columns]\n",
        "    # Target timestep (t=lag)\n",
        "    cols.append(data.shift(-lag))\n",
        "    names += [('%s(t+%d)' % (col, lag)) for col in data.columns]\n",
        "    # Put it all together\n",
        "    agg = pd.concat(cols, axis=1)\n",
        "    agg.columns = names\n",
        "    # Drop rows with NaN values\n",
        "    if dropnan:\n",
        "        agg.dropna(inplace=True)\n",
        "    return agg"
      ]
    },
    {
      "cell_type": "markdown",
      "metadata": {
        "id": "FJNDXz1K2BPO"
      },
      "source": [
        "forecast 90 days with current timesteps\n"
      ]
    },
    {
      "cell_type": "code",
      "execution_count": null,
      "metadata": {
        "colab": {
          "base_uri": "https://localhost:8080/",
          "height": 317
        },
        "id": "ojhmEPiaVttq",
        "outputId": "2cb3e5cb-35d3-41e0-c468-b929a6ae1a72"
      },
      "outputs": [
        {
          "output_type": "execute_result",
          "data": {
            "text/plain": [
              "    item(t-29)  store(t-29)  sales(t-29)  item(t-28)  store(t-28)  \\\n",
              "29         1.0          1.0    16.450216         1.0          1.0   \n",
              "30         1.0          1.0    12.987013         1.0          1.0   \n",
              "31         1.0          1.0     8.658009         1.0          1.0   \n",
              "32         1.0          1.0    13.852814         1.0          1.0   \n",
              "33         1.0          1.0    12.121212         1.0          1.0   \n",
              "\n",
              "    sales(t-28)  item(t-27)  store(t-27)  sales(t-27)  item(t-26)  ...  \\\n",
              "29    12.987013         1.0          1.0     8.658009         1.0  ...   \n",
              "30     8.658009         1.0          1.0    13.852814         1.0  ...   \n",
              "31    13.852814         1.0          1.0    12.121212         1.0  ...   \n",
              "32    12.121212         1.0          1.0    20.779221         1.0  ...   \n",
              "33    20.779221         1.0          1.0    12.121212         1.0  ...   \n",
              "\n",
              "    sales(t-2)  item(t-1)  store(t-1)  sales(t-1)  item(t)  store(t)  \\\n",
              "29   13.852814        1.0         1.0   20.779221        1         1   \n",
              "30   20.779221        1.0         1.0    7.792208        1         1   \n",
              "31    7.792208        1.0         1.0   14.718615        1         1   \n",
              "32   14.718615        1.0         1.0   12.987013        1         1   \n",
              "33   12.987013        1.0         1.0   14.718615        1         1   \n",
              "\n",
              "     sales(t)  item(t+90)  store(t+90)  sales(t+90)  \n",
              "29   7.792208         1.0          1.0    28.571429  \n",
              "30  14.718615         1.0          1.0    12.987013  \n",
              "31  12.987013         1.0          1.0    18.181818  \n",
              "32  14.718615         1.0          1.0    25.108225  \n",
              "33  20.779221         1.0          1.0    16.450216  \n",
              "\n",
              "[5 rows x 93 columns]"
            ],
            "text/html": [
              "\n",
              "  <div id=\"df-c79f95cb-23eb-4a4b-a685-cb5c5e2abae3\">\n",
              "    <div class=\"colab-df-container\">\n",
              "      <div>\n",
              "<style scoped>\n",
              "    .dataframe tbody tr th:only-of-type {\n",
              "        vertical-align: middle;\n",
              "    }\n",
              "\n",
              "    .dataframe tbody tr th {\n",
              "        vertical-align: top;\n",
              "    }\n",
              "\n",
              "    .dataframe thead th {\n",
              "        text-align: right;\n",
              "    }\n",
              "</style>\n",
              "<table border=\"1\" class=\"dataframe\">\n",
              "  <thead>\n",
              "    <tr style=\"text-align: right;\">\n",
              "      <th></th>\n",
              "      <th>item(t-29)</th>\n",
              "      <th>store(t-29)</th>\n",
              "      <th>sales(t-29)</th>\n",
              "      <th>item(t-28)</th>\n",
              "      <th>store(t-28)</th>\n",
              "      <th>sales(t-28)</th>\n",
              "      <th>item(t-27)</th>\n",
              "      <th>store(t-27)</th>\n",
              "      <th>sales(t-27)</th>\n",
              "      <th>item(t-26)</th>\n",
              "      <th>...</th>\n",
              "      <th>sales(t-2)</th>\n",
              "      <th>item(t-1)</th>\n",
              "      <th>store(t-1)</th>\n",
              "      <th>sales(t-1)</th>\n",
              "      <th>item(t)</th>\n",
              "      <th>store(t)</th>\n",
              "      <th>sales(t)</th>\n",
              "      <th>item(t+90)</th>\n",
              "      <th>store(t+90)</th>\n",
              "      <th>sales(t+90)</th>\n",
              "    </tr>\n",
              "  </thead>\n",
              "  <tbody>\n",
              "    <tr>\n",
              "      <th>29</th>\n",
              "      <td>1.0</td>\n",
              "      <td>1.0</td>\n",
              "      <td>16.450216</td>\n",
              "      <td>1.0</td>\n",
              "      <td>1.0</td>\n",
              "      <td>12.987013</td>\n",
              "      <td>1.0</td>\n",
              "      <td>1.0</td>\n",
              "      <td>8.658009</td>\n",
              "      <td>1.0</td>\n",
              "      <td>...</td>\n",
              "      <td>13.852814</td>\n",
              "      <td>1.0</td>\n",
              "      <td>1.0</td>\n",
              "      <td>20.779221</td>\n",
              "      <td>1</td>\n",
              "      <td>1</td>\n",
              "      <td>7.792208</td>\n",
              "      <td>1.0</td>\n",
              "      <td>1.0</td>\n",
              "      <td>28.571429</td>\n",
              "    </tr>\n",
              "    <tr>\n",
              "      <th>30</th>\n",
              "      <td>1.0</td>\n",
              "      <td>1.0</td>\n",
              "      <td>12.987013</td>\n",
              "      <td>1.0</td>\n",
              "      <td>1.0</td>\n",
              "      <td>8.658009</td>\n",
              "      <td>1.0</td>\n",
              "      <td>1.0</td>\n",
              "      <td>13.852814</td>\n",
              "      <td>1.0</td>\n",
              "      <td>...</td>\n",
              "      <td>20.779221</td>\n",
              "      <td>1.0</td>\n",
              "      <td>1.0</td>\n",
              "      <td>7.792208</td>\n",
              "      <td>1</td>\n",
              "      <td>1</td>\n",
              "      <td>14.718615</td>\n",
              "      <td>1.0</td>\n",
              "      <td>1.0</td>\n",
              "      <td>12.987013</td>\n",
              "    </tr>\n",
              "    <tr>\n",
              "      <th>31</th>\n",
              "      <td>1.0</td>\n",
              "      <td>1.0</td>\n",
              "      <td>8.658009</td>\n",
              "      <td>1.0</td>\n",
              "      <td>1.0</td>\n",
              "      <td>13.852814</td>\n",
              "      <td>1.0</td>\n",
              "      <td>1.0</td>\n",
              "      <td>12.121212</td>\n",
              "      <td>1.0</td>\n",
              "      <td>...</td>\n",
              "      <td>7.792208</td>\n",
              "      <td>1.0</td>\n",
              "      <td>1.0</td>\n",
              "      <td>14.718615</td>\n",
              "      <td>1</td>\n",
              "      <td>1</td>\n",
              "      <td>12.987013</td>\n",
              "      <td>1.0</td>\n",
              "      <td>1.0</td>\n",
              "      <td>18.181818</td>\n",
              "    </tr>\n",
              "    <tr>\n",
              "      <th>32</th>\n",
              "      <td>1.0</td>\n",
              "      <td>1.0</td>\n",
              "      <td>13.852814</td>\n",
              "      <td>1.0</td>\n",
              "      <td>1.0</td>\n",
              "      <td>12.121212</td>\n",
              "      <td>1.0</td>\n",
              "      <td>1.0</td>\n",
              "      <td>20.779221</td>\n",
              "      <td>1.0</td>\n",
              "      <td>...</td>\n",
              "      <td>14.718615</td>\n",
              "      <td>1.0</td>\n",
              "      <td>1.0</td>\n",
              "      <td>12.987013</td>\n",
              "      <td>1</td>\n",
              "      <td>1</td>\n",
              "      <td>14.718615</td>\n",
              "      <td>1.0</td>\n",
              "      <td>1.0</td>\n",
              "      <td>25.108225</td>\n",
              "    </tr>\n",
              "    <tr>\n",
              "      <th>33</th>\n",
              "      <td>1.0</td>\n",
              "      <td>1.0</td>\n",
              "      <td>12.121212</td>\n",
              "      <td>1.0</td>\n",
              "      <td>1.0</td>\n",
              "      <td>20.779221</td>\n",
              "      <td>1.0</td>\n",
              "      <td>1.0</td>\n",
              "      <td>12.121212</td>\n",
              "      <td>1.0</td>\n",
              "      <td>...</td>\n",
              "      <td>12.987013</td>\n",
              "      <td>1.0</td>\n",
              "      <td>1.0</td>\n",
              "      <td>14.718615</td>\n",
              "      <td>1</td>\n",
              "      <td>1</td>\n",
              "      <td>20.779221</td>\n",
              "      <td>1.0</td>\n",
              "      <td>1.0</td>\n",
              "      <td>16.450216</td>\n",
              "    </tr>\n",
              "  </tbody>\n",
              "</table>\n",
              "<p>5 rows × 93 columns</p>\n",
              "</div>\n",
              "      <button class=\"colab-df-convert\" onclick=\"convertToInteractive('df-c79f95cb-23eb-4a4b-a685-cb5c5e2abae3')\"\n",
              "              title=\"Convert this dataframe to an interactive table.\"\n",
              "              style=\"display:none;\">\n",
              "        \n",
              "  <svg xmlns=\"http://www.w3.org/2000/svg\" height=\"24px\"viewBox=\"0 0 24 24\"\n",
              "       width=\"24px\">\n",
              "    <path d=\"M0 0h24v24H0V0z\" fill=\"none\"/>\n",
              "    <path d=\"M18.56 5.44l.94 2.06.94-2.06 2.06-.94-2.06-.94-.94-2.06-.94 2.06-2.06.94zm-11 1L8.5 8.5l.94-2.06 2.06-.94-2.06-.94L8.5 2.5l-.94 2.06-2.06.94zm10 10l.94 2.06.94-2.06 2.06-.94-2.06-.94-.94-2.06-.94 2.06-2.06.94z\"/><path d=\"M17.41 7.96l-1.37-1.37c-.4-.4-.92-.59-1.43-.59-.52 0-1.04.2-1.43.59L10.3 9.45l-7.72 7.72c-.78.78-.78 2.05 0 2.83L4 21.41c.39.39.9.59 1.41.59.51 0 1.02-.2 1.41-.59l7.78-7.78 2.81-2.81c.8-.78.8-2.07 0-2.86zM5.41 20L4 18.59l7.72-7.72 1.47 1.35L5.41 20z\"/>\n",
              "  </svg>\n",
              "      </button>\n",
              "      \n",
              "  <style>\n",
              "    .colab-df-container {\n",
              "      display:flex;\n",
              "      flex-wrap:wrap;\n",
              "      gap: 12px;\n",
              "    }\n",
              "\n",
              "    .colab-df-convert {\n",
              "      background-color: #E8F0FE;\n",
              "      border: none;\n",
              "      border-radius: 50%;\n",
              "      cursor: pointer;\n",
              "      display: none;\n",
              "      fill: #1967D2;\n",
              "      height: 32px;\n",
              "      padding: 0 0 0 0;\n",
              "      width: 32px;\n",
              "    }\n",
              "\n",
              "    .colab-df-convert:hover {\n",
              "      background-color: #E2EBFA;\n",
              "      box-shadow: 0px 1px 2px rgba(60, 64, 67, 0.3), 0px 1px 3px 1px rgba(60, 64, 67, 0.15);\n",
              "      fill: #174EA6;\n",
              "    }\n",
              "\n",
              "    [theme=dark] .colab-df-convert {\n",
              "      background-color: #3B4455;\n",
              "      fill: #D2E3FC;\n",
              "    }\n",
              "\n",
              "    [theme=dark] .colab-df-convert:hover {\n",
              "      background-color: #434B5C;\n",
              "      box-shadow: 0px 1px 3px 1px rgba(0, 0, 0, 0.15);\n",
              "      filter: drop-shadow(0px 1px 2px rgba(0, 0, 0, 0.3));\n",
              "      fill: #FFFFFF;\n",
              "    }\n",
              "  </style>\n",
              "\n",
              "      <script>\n",
              "        const buttonEl =\n",
              "          document.querySelector('#df-c79f95cb-23eb-4a4b-a685-cb5c5e2abae3 button.colab-df-convert');\n",
              "        buttonEl.style.display =\n",
              "          google.colab.kernel.accessAllowed ? 'block' : 'none';\n",
              "\n",
              "        async function convertToInteractive(key) {\n",
              "          const element = document.querySelector('#df-c79f95cb-23eb-4a4b-a685-cb5c5e2abae3');\n",
              "          const dataTable =\n",
              "            await google.colab.kernel.invokeFunction('convertToInteractive',\n",
              "                                                     [key], {});\n",
              "          if (!dataTable) return;\n",
              "\n",
              "          const docLinkHtml = 'Like what you see? Visit the ' +\n",
              "            '<a target=\"_blank\" href=https://colab.research.google.com/notebooks/data_table.ipynb>data table notebook</a>'\n",
              "            + ' to learn more about interactive tables.';\n",
              "          element.innerHTML = '';\n",
              "          dataTable['output_type'] = 'display_data';\n",
              "          await google.colab.output.renderOutput(dataTable, element);\n",
              "          const docLink = document.createElement('div');\n",
              "          docLink.innerHTML = docLinkHtml;\n",
              "          element.appendChild(docLink);\n",
              "        }\n",
              "      </script>\n",
              "    </div>\n",
              "  </div>\n",
              "  "
            ]
          },
          "metadata": {},
          "execution_count": 19
        }
      ],
      "source": [
        "window = 29\n",
        "lag = lag_size\n",
        "series = series_to_supervised(train_gp.drop('date', axis=1), window=window, lag=lag)\n",
        "series.head()"
      ]
    },
    {
      "cell_type": "markdown",
      "metadata": {
        "id": "1fhDqYv_2SEP"
      },
      "source": [
        "drop items other than the shifted"
      ]
    },
    {
      "cell_type": "code",
      "execution_count": null,
      "metadata": {
        "id": "x7E0_xmc2UhV"
      },
      "outputs": [],
      "source": [
        "last_item = 'item(t-%d)' % window\n",
        "last_store = 'store(t-%d)' % window\n",
        "series = series[(series['store(t)'] == series[last_store])]\n",
        "series = series[(series['item(t)'] == series[last_item])]"
      ]
    },
    {
      "cell_type": "markdown",
      "metadata": {
        "id": "jf3xvHdi2ZrS"
      },
      "source": [
        "Remove unwanted columns\n"
      ]
    },
    {
      "cell_type": "code",
      "execution_count": null,
      "metadata": {
        "id": "cKTKWEnt2csR"
      },
      "outputs": [],
      "source": [
        "columns_to_drop = [('%s(t+%d)' % (col, lag)) for col in ['item', 'store']]\n",
        "for i in range(window, 0, -1):\n",
        "    columns_to_drop += [('%s(t-%d)' % (col, i)) for col in ['item', 'store']]\n",
        "series.drop(columns_to_drop, axis=1, inplace=True)\n",
        "series.drop(['item(t)', 'store(t)'], axis=1, inplace=True)"
      ]
    },
    {
      "cell_type": "markdown",
      "metadata": {
        "id": "DneoROeb2iNC"
      },
      "source": [
        "train validation split"
      ]
    },
    {
      "cell_type": "code",
      "execution_count": null,
      "metadata": {
        "colab": {
          "base_uri": "https://localhost:8080/",
          "height": 353
        },
        "id": "VXaXzOcp2kJh",
        "outputId": "a55c9a80-c836-4afc-feba-bf24d8828be8"
      },
      "outputs": [
        {
          "output_type": "stream",
          "name": "stdout",
          "text": [
            "Train set shape (100746, 30)\n",
            "Validation set shape (67164, 30)\n"
          ]
        },
        {
          "output_type": "execute_result",
          "data": {
            "text/plain": [
              "        sales(t-29)  sales(t-28)  sales(t-27)  sales(t-26)  sales(t-25)  \\\n",
              "18801     83.982684    96.103896    77.922078    99.567100   106.493506   \n",
              "160385    32.900433    37.229437    37.229437    47.619048    40.692641   \n",
              "73123     47.619048    38.961039    35.497835    39.826840    40.692641   \n",
              "90428    120.346320   135.930736    73.593074    85.714286   117.748918   \n",
              "167151    74.458874    50.216450    76.190476    75.324675    98.701299   \n",
              "\n",
              "        sales(t-24)  sales(t-23)  sales(t-22)  sales(t-21)  sales(t-20)  ...  \\\n",
              "18801     60.606061    85.714286    64.069264    92.640693    93.506494  ...   \n",
              "160385    44.155844    32.900433    35.497835    32.034632    51.082251  ...   \n",
              "73123     31.168831    25.974026    39.826840    35.497835    36.363636  ...   \n",
              "90428     95.238095   104.761905   106.493506   127.272727    78.787879  ...   \n",
              "167151    97.835498    55.411255    65.800866    75.324675    70.129870  ...   \n",
              "\n",
              "        sales(t-9)  sales(t-8)  sales(t-7)  sales(t-6)  sales(t-5)  \\\n",
              "18801    73.593074   82.251082  106.493506   94.372294  109.956710   \n",
              "160385   35.497835   32.900433   32.900433   45.887446   45.887446   \n",
              "73123    32.900433   31.168831   34.632035   43.290043   38.095238   \n",
              "90428   112.554113  110.822511  110.822511   82.251082  100.432900   \n",
              "167151   47.619048   57.142857   51.082251   45.887446   54.545455   \n",
              "\n",
              "        sales(t-4)  sales(t-3)  sales(t-2)  sales(t-1)    sales(t)  \n",
              "18801   114.285714   75.324675   87.445887   88.311688   98.701299  \n",
              "160385   38.961039   38.095238   20.779221   25.974026   32.034632  \n",
              "73123    38.095238   34.632035   32.900433   43.290043   42.424242  \n",
              "90428    95.238095  101.298701  102.164502  111.688312  114.285714  \n",
              "167151   51.082251   66.666667   33.766234   48.484848   53.679654  \n",
              "\n",
              "[5 rows x 30 columns]"
            ],
            "text/html": [
              "\n",
              "  <div id=\"df-6aadd135-b1f8-4e77-bb95-b8c60bcac013\">\n",
              "    <div class=\"colab-df-container\">\n",
              "      <div>\n",
              "<style scoped>\n",
              "    .dataframe tbody tr th:only-of-type {\n",
              "        vertical-align: middle;\n",
              "    }\n",
              "\n",
              "    .dataframe tbody tr th {\n",
              "        vertical-align: top;\n",
              "    }\n",
              "\n",
              "    .dataframe thead th {\n",
              "        text-align: right;\n",
              "    }\n",
              "</style>\n",
              "<table border=\"1\" class=\"dataframe\">\n",
              "  <thead>\n",
              "    <tr style=\"text-align: right;\">\n",
              "      <th></th>\n",
              "      <th>sales(t-29)</th>\n",
              "      <th>sales(t-28)</th>\n",
              "      <th>sales(t-27)</th>\n",
              "      <th>sales(t-26)</th>\n",
              "      <th>sales(t-25)</th>\n",
              "      <th>sales(t-24)</th>\n",
              "      <th>sales(t-23)</th>\n",
              "      <th>sales(t-22)</th>\n",
              "      <th>sales(t-21)</th>\n",
              "      <th>sales(t-20)</th>\n",
              "      <th>...</th>\n",
              "      <th>sales(t-9)</th>\n",
              "      <th>sales(t-8)</th>\n",
              "      <th>sales(t-7)</th>\n",
              "      <th>sales(t-6)</th>\n",
              "      <th>sales(t-5)</th>\n",
              "      <th>sales(t-4)</th>\n",
              "      <th>sales(t-3)</th>\n",
              "      <th>sales(t-2)</th>\n",
              "      <th>sales(t-1)</th>\n",
              "      <th>sales(t)</th>\n",
              "    </tr>\n",
              "  </thead>\n",
              "  <tbody>\n",
              "    <tr>\n",
              "      <th>18801</th>\n",
              "      <td>83.982684</td>\n",
              "      <td>96.103896</td>\n",
              "      <td>77.922078</td>\n",
              "      <td>99.567100</td>\n",
              "      <td>106.493506</td>\n",
              "      <td>60.606061</td>\n",
              "      <td>85.714286</td>\n",
              "      <td>64.069264</td>\n",
              "      <td>92.640693</td>\n",
              "      <td>93.506494</td>\n",
              "      <td>...</td>\n",
              "      <td>73.593074</td>\n",
              "      <td>82.251082</td>\n",
              "      <td>106.493506</td>\n",
              "      <td>94.372294</td>\n",
              "      <td>109.956710</td>\n",
              "      <td>114.285714</td>\n",
              "      <td>75.324675</td>\n",
              "      <td>87.445887</td>\n",
              "      <td>88.311688</td>\n",
              "      <td>98.701299</td>\n",
              "    </tr>\n",
              "    <tr>\n",
              "      <th>160385</th>\n",
              "      <td>32.900433</td>\n",
              "      <td>37.229437</td>\n",
              "      <td>37.229437</td>\n",
              "      <td>47.619048</td>\n",
              "      <td>40.692641</td>\n",
              "      <td>44.155844</td>\n",
              "      <td>32.900433</td>\n",
              "      <td>35.497835</td>\n",
              "      <td>32.034632</td>\n",
              "      <td>51.082251</td>\n",
              "      <td>...</td>\n",
              "      <td>35.497835</td>\n",
              "      <td>32.900433</td>\n",
              "      <td>32.900433</td>\n",
              "      <td>45.887446</td>\n",
              "      <td>45.887446</td>\n",
              "      <td>38.961039</td>\n",
              "      <td>38.095238</td>\n",
              "      <td>20.779221</td>\n",
              "      <td>25.974026</td>\n",
              "      <td>32.034632</td>\n",
              "    </tr>\n",
              "    <tr>\n",
              "      <th>73123</th>\n",
              "      <td>47.619048</td>\n",
              "      <td>38.961039</td>\n",
              "      <td>35.497835</td>\n",
              "      <td>39.826840</td>\n",
              "      <td>40.692641</td>\n",
              "      <td>31.168831</td>\n",
              "      <td>25.974026</td>\n",
              "      <td>39.826840</td>\n",
              "      <td>35.497835</td>\n",
              "      <td>36.363636</td>\n",
              "      <td>...</td>\n",
              "      <td>32.900433</td>\n",
              "      <td>31.168831</td>\n",
              "      <td>34.632035</td>\n",
              "      <td>43.290043</td>\n",
              "      <td>38.095238</td>\n",
              "      <td>38.095238</td>\n",
              "      <td>34.632035</td>\n",
              "      <td>32.900433</td>\n",
              "      <td>43.290043</td>\n",
              "      <td>42.424242</td>\n",
              "    </tr>\n",
              "    <tr>\n",
              "      <th>90428</th>\n",
              "      <td>120.346320</td>\n",
              "      <td>135.930736</td>\n",
              "      <td>73.593074</td>\n",
              "      <td>85.714286</td>\n",
              "      <td>117.748918</td>\n",
              "      <td>95.238095</td>\n",
              "      <td>104.761905</td>\n",
              "      <td>106.493506</td>\n",
              "      <td>127.272727</td>\n",
              "      <td>78.787879</td>\n",
              "      <td>...</td>\n",
              "      <td>112.554113</td>\n",
              "      <td>110.822511</td>\n",
              "      <td>110.822511</td>\n",
              "      <td>82.251082</td>\n",
              "      <td>100.432900</td>\n",
              "      <td>95.238095</td>\n",
              "      <td>101.298701</td>\n",
              "      <td>102.164502</td>\n",
              "      <td>111.688312</td>\n",
              "      <td>114.285714</td>\n",
              "    </tr>\n",
              "    <tr>\n",
              "      <th>167151</th>\n",
              "      <td>74.458874</td>\n",
              "      <td>50.216450</td>\n",
              "      <td>76.190476</td>\n",
              "      <td>75.324675</td>\n",
              "      <td>98.701299</td>\n",
              "      <td>97.835498</td>\n",
              "      <td>55.411255</td>\n",
              "      <td>65.800866</td>\n",
              "      <td>75.324675</td>\n",
              "      <td>70.129870</td>\n",
              "      <td>...</td>\n",
              "      <td>47.619048</td>\n",
              "      <td>57.142857</td>\n",
              "      <td>51.082251</td>\n",
              "      <td>45.887446</td>\n",
              "      <td>54.545455</td>\n",
              "      <td>51.082251</td>\n",
              "      <td>66.666667</td>\n",
              "      <td>33.766234</td>\n",
              "      <td>48.484848</td>\n",
              "      <td>53.679654</td>\n",
              "    </tr>\n",
              "  </tbody>\n",
              "</table>\n",
              "<p>5 rows × 30 columns</p>\n",
              "</div>\n",
              "      <button class=\"colab-df-convert\" onclick=\"convertToInteractive('df-6aadd135-b1f8-4e77-bb95-b8c60bcac013')\"\n",
              "              title=\"Convert this dataframe to an interactive table.\"\n",
              "              style=\"display:none;\">\n",
              "        \n",
              "  <svg xmlns=\"http://www.w3.org/2000/svg\" height=\"24px\"viewBox=\"0 0 24 24\"\n",
              "       width=\"24px\">\n",
              "    <path d=\"M0 0h24v24H0V0z\" fill=\"none\"/>\n",
              "    <path d=\"M18.56 5.44l.94 2.06.94-2.06 2.06-.94-2.06-.94-.94-2.06-.94 2.06-2.06.94zm-11 1L8.5 8.5l.94-2.06 2.06-.94-2.06-.94L8.5 2.5l-.94 2.06-2.06.94zm10 10l.94 2.06.94-2.06 2.06-.94-2.06-.94-.94-2.06-.94 2.06-2.06.94z\"/><path d=\"M17.41 7.96l-1.37-1.37c-.4-.4-.92-.59-1.43-.59-.52 0-1.04.2-1.43.59L10.3 9.45l-7.72 7.72c-.78.78-.78 2.05 0 2.83L4 21.41c.39.39.9.59 1.41.59.51 0 1.02-.2 1.41-.59l7.78-7.78 2.81-2.81c.8-.78.8-2.07 0-2.86zM5.41 20L4 18.59l7.72-7.72 1.47 1.35L5.41 20z\"/>\n",
              "  </svg>\n",
              "      </button>\n",
              "      \n",
              "  <style>\n",
              "    .colab-df-container {\n",
              "      display:flex;\n",
              "      flex-wrap:wrap;\n",
              "      gap: 12px;\n",
              "    }\n",
              "\n",
              "    .colab-df-convert {\n",
              "      background-color: #E8F0FE;\n",
              "      border: none;\n",
              "      border-radius: 50%;\n",
              "      cursor: pointer;\n",
              "      display: none;\n",
              "      fill: #1967D2;\n",
              "      height: 32px;\n",
              "      padding: 0 0 0 0;\n",
              "      width: 32px;\n",
              "    }\n",
              "\n",
              "    .colab-df-convert:hover {\n",
              "      background-color: #E2EBFA;\n",
              "      box-shadow: 0px 1px 2px rgba(60, 64, 67, 0.3), 0px 1px 3px 1px rgba(60, 64, 67, 0.15);\n",
              "      fill: #174EA6;\n",
              "    }\n",
              "\n",
              "    [theme=dark] .colab-df-convert {\n",
              "      background-color: #3B4455;\n",
              "      fill: #D2E3FC;\n",
              "    }\n",
              "\n",
              "    [theme=dark] .colab-df-convert:hover {\n",
              "      background-color: #434B5C;\n",
              "      box-shadow: 0px 1px 3px 1px rgba(0, 0, 0, 0.15);\n",
              "      filter: drop-shadow(0px 1px 2px rgba(0, 0, 0, 0.3));\n",
              "      fill: #FFFFFF;\n",
              "    }\n",
              "  </style>\n",
              "\n",
              "      <script>\n",
              "        const buttonEl =\n",
              "          document.querySelector('#df-6aadd135-b1f8-4e77-bb95-b8c60bcac013 button.colab-df-convert');\n",
              "        buttonEl.style.display =\n",
              "          google.colab.kernel.accessAllowed ? 'block' : 'none';\n",
              "\n",
              "        async function convertToInteractive(key) {\n",
              "          const element = document.querySelector('#df-6aadd135-b1f8-4e77-bb95-b8c60bcac013');\n",
              "          const dataTable =\n",
              "            await google.colab.kernel.invokeFunction('convertToInteractive',\n",
              "                                                     [key], {});\n",
              "          if (!dataTable) return;\n",
              "\n",
              "          const docLinkHtml = 'Like what you see? Visit the ' +\n",
              "            '<a target=\"_blank\" href=https://colab.research.google.com/notebooks/data_table.ipynb>data table notebook</a>'\n",
              "            + ' to learn more about interactive tables.';\n",
              "          element.innerHTML = '';\n",
              "          dataTable['output_type'] = 'display_data';\n",
              "          await google.colab.output.renderOutput(dataTable, element);\n",
              "          const docLink = document.createElement('div');\n",
              "          docLink.innerHTML = docLinkHtml;\n",
              "          element.appendChild(docLink);\n",
              "        }\n",
              "      </script>\n",
              "    </div>\n",
              "  </div>\n",
              "  "
            ]
          },
          "metadata": {},
          "execution_count": 22
        }
      ],
      "source": [
        "labels_col = 'sales(t+%d)' % lag_size\n",
        "labels = series[labels_col]\n",
        "series = series.drop(labels_col, axis=1)\n",
        "\n",
        "X_train, X_valid, Y_train, Y_valid = train_test_split(series, labels.values, test_size=0.4, random_state=0)\n",
        "print('Train set shape', X_train.shape)\n",
        "print('Validation set shape', X_valid.shape)\n",
        "X_train.head()"
      ]
    },
    {
      "cell_type": "code",
      "execution_count": null,
      "metadata": {
        "id": "3faEtpfz2klh"
      },
      "outputs": [],
      "source": [
        "from keras import optimizers\n",
        "epochs = 200\n",
        "batch = 96\n",
        "lr = 0.0001"
      ]
    },
    {
      "cell_type": "markdown",
      "metadata": {
        "id": "bBQ6LqMF2r12"
      },
      "source": [
        "For CNN parameters(samples,timesteps,features)"
      ]
    },
    {
      "cell_type": "code",
      "execution_count": null,
      "metadata": {
        "colab": {
          "base_uri": "https://localhost:8080/"
        },
        "id": "NWe28gtK2sv1",
        "outputId": "f8c396ba-4bd3-4e11-b4c2-91e6df9ab41c"
      },
      "outputs": [
        {
          "output_type": "stream",
          "name": "stdout",
          "text": [
            "Train set shape (100746, 30, 1)\n",
            "Validation set shape (67164, 30, 1)\n"
          ]
        }
      ],
      "source": [
        "X_train_series = X_train.values.reshape((X_train.shape[0], X_train.shape[1], 1))\n",
        "X_valid_series = X_valid.values.reshape((X_valid.shape[0], X_valid.shape[1], 1))\n",
        "print('Train set shape', X_train_series.shape)\n",
        "print('Validation set shape', X_valid_series.shape)"
      ]
    },
    {
      "cell_type": "code",
      "execution_count": null,
      "metadata": {
        "colab": {
          "base_uri": "https://localhost:8080/"
        },
        "id": "_eE3X8jk2teF",
        "outputId": "b2d3e494-eb4d-44ab-8d21-2872c04e5c42"
      },
      "outputs": [
        {
          "output_type": "stream",
          "name": "stdout",
          "text": [
            "Model: \"sequential_5\"\n",
            "_________________________________________________________________\n",
            " Layer (type)                Output Shape              Param #   \n",
            "=================================================================\n",
            " conv1d_3 (Conv1D)           (None, 29, 512)           1536      \n",
            "                                                                 \n",
            " max_pooling1d_3 (MaxPooling  (None, 14, 512)          0         \n",
            " 1D)                                                             \n",
            "                                                                 \n",
            " flatten_3 (Flatten)         (None, 7168)              0         \n",
            "                                                                 \n",
            " dense_7 (Dense)             (None, 50)                358450    \n",
            "                                                                 \n",
            " dropout_5 (Dropout)         (None, 50)                0         \n",
            "                                                                 \n",
            " dense_8 (Dense)             (None, 1)                 51        \n",
            "                                                                 \n",
            "=================================================================\n",
            "Total params: 360,037\n",
            "Trainable params: 360,037\n",
            "Non-trainable params: 0\n",
            "_________________________________________________________________\n"
          ]
        }
      ],
      "source": [
        "\n",
        "from keras.layers import Conv1D, MaxPooling1D, Flatten, Dense, LSTM, Dropout, Reshape, TimeDistributed\n",
        "from keras import optimizers\n",
        "model_cnn = Sequential()\n",
        "model_cnn.add(Conv1D(filters=512, kernel_size=2, activation='swish', input_shape=(X_train_series.shape[1], X_train_series.shape[2])))\n",
        "model_cnn.add(MaxPooling1D(pool_size=2))\n",
        "model_cnn.add(Flatten())\n",
        "model_cnn.add(Dense(50, activation='swish'))\n",
        "model_cnn.add(Dropout(0.45))\n",
        "model_cnn.add(Dense(1))\n",
        "from tensorflow_addons.optimizers import LazyAdam\n",
        "opt = LazyAdam(lr)\n",
        "model_cnn.compile(loss='mse', optimizer=opt)\n",
        "model_cnn.summary()"
      ]
    },
    {
      "cell_type": "markdown",
      "metadata": {
        "id": "P-syH7Iw2_Pu"
      },
      "source": [
        "BiLstm"
      ]
    },
    {
      "cell_type": "code",
      "execution_count": null,
      "metadata": {
        "colab": {
          "base_uri": "https://localhost:8080/"
        },
        "id": "EPdmdn5d3AId",
        "outputId": "8f1df5f5-0c01-4bf7-f91b-9496febe358c"
      },
      "outputs": [
        {
          "output_type": "stream",
          "name": "stderr",
          "text": [
            "WARNING:tensorflow:Layer lstm_3 will not use cuDNN kernels since it doesn't meet the criteria. It will use a generic GPU kernel as fallback when running on GPU.\n",
            "WARNING:tensorflow:Layer lstm_3 will not use cuDNN kernels since it doesn't meet the criteria. It will use a generic GPU kernel as fallback when running on GPU.\n",
            "WARNING:tensorflow:Layer lstm_3 will not use cuDNN kernels since it doesn't meet the criteria. It will use a generic GPU kernel as fallback when running on GPU.\n"
          ]
        },
        {
          "output_type": "stream",
          "name": "stdout",
          "text": [
            "Model: \"sequential_6\"\n",
            "_________________________________________________________________\n",
            " Layer (type)                Output Shape              Param #   \n",
            "=================================================================\n",
            " bidirectional_3 (Bidirectio  (None, 544)              596224    \n",
            " nal)                                                            \n",
            "                                                                 \n",
            " dense_9 (Dense)             (None, 1)                 545       \n",
            "                                                                 \n",
            " dropout_6 (Dropout)         (None, 1)                 0         \n",
            "                                                                 \n",
            "=================================================================\n",
            "Total params: 596,769\n",
            "Trainable params: 596,769\n",
            "Non-trainable params: 0\n",
            "_________________________________________________________________\n"
          ]
        }
      ],
      "source": [
        "from tensorflow.keras.models import Sequential\n",
        "from tensorflow.keras.layers import LSTM, Bidirectional, Dense, Dropout\n",
        "\n",
        "model_bilstm = Sequential()\n",
        "model_bilstm.add(Bidirectional(LSTM(272, activation='swish'), input_shape=(X_train_series.shape[1], X_train_series.shape[2])))\n",
        "model_bilstm.add(Dense(1))\n",
        "model_bilstm.add(Dropout(0.45))\n",
        "from tensorflow_addons.optimizers import LazyAdam\n",
        "opt = LazyAdam(lr)\n",
        "model_bilstm.compile(loss='mse', optimizer=opt)\n",
        "model_bilstm.summary()\n"
      ]
    },
    {
      "cell_type": "markdown",
      "metadata": {
        "id": "YIwL_O933Dy2"
      },
      "source": [
        "CNN-BiLSTM [sample,subsequences,timesteps,features]"
      ]
    },
    {
      "cell_type": "code",
      "execution_count": null,
      "metadata": {
        "colab": {
          "base_uri": "https://localhost:8080/"
        },
        "id": "6M9HIsAo3NGs",
        "outputId": "78470f92-3c74-4386-88cc-3788caa3351c"
      },
      "outputs": [
        {
          "output_type": "stream",
          "name": "stdout",
          "text": [
            "Train set shape (100746, 2, 15, 1)\n",
            "Validation set shape (67164, 2, 15, 1)\n"
          ]
        }
      ],
      "source": [
        "subsequences = 2\n",
        "timesteps = X_train_series.shape[1]//subsequences\n",
        "X_train_series_sub = X_train_series.reshape((X_train_series.shape[0], subsequences, timesteps, 1))\n",
        "X_valid_series_sub = X_valid_series.reshape((X_valid_series.shape[0], subsequences, timesteps, 1))\n",
        "print('Train set shape', X_train_series_sub.shape)\n",
        "print('Validation set shape', X_valid_series_sub.shape)"
      ]
    },
    {
      "cell_type": "code",
      "execution_count": null,
      "metadata": {
        "colab": {
          "base_uri": "https://localhost:8080/"
        },
        "id": "kHnfLtxx3Qot",
        "outputId": "08d41ef4-a04e-4cbb-8530-78f6ab9dbd03"
      },
      "outputs": [
        {
          "output_type": "stream",
          "name": "stderr",
          "text": [
            "WARNING:tensorflow:Layer lstm_4 will not use cuDNN kernels since it doesn't meet the criteria. It will use a generic GPU kernel as fallback when running on GPU.\n",
            "WARNING:tensorflow:Layer lstm_4 will not use cuDNN kernels since it doesn't meet the criteria. It will use a generic GPU kernel as fallback when running on GPU.\n",
            "WARNING:tensorflow:Layer lstm_4 will not use cuDNN kernels since it doesn't meet the criteria. It will use a generic GPU kernel as fallback when running on GPU.\n"
          ]
        },
        {
          "output_type": "stream",
          "name": "stdout",
          "text": [
            "Model: \"sequential_7\"\n",
            "_________________________________________________________________\n",
            " Layer (type)                Output Shape              Param #   \n",
            "=================================================================\n",
            " time_distributed_3 (TimeDis  (None, None, 15, 512)    1024      \n",
            " tributed)                                                       \n",
            "                                                                 \n",
            " time_distributed_4 (TimeDis  (None, None, 7, 512)     0         \n",
            " tributed)                                                       \n",
            "                                                                 \n",
            " time_distributed_5 (TimeDis  (None, None, 3584)       0         \n",
            " tributed)                                                       \n",
            "                                                                 \n",
            " bidirectional_4 (Bidirectio  (None, 544)              8392832   \n",
            " nal)                                                            \n",
            "                                                                 \n",
            " dropout_7 (Dropout)         (None, 544)               0         \n",
            "                                                                 \n",
            " dense_10 (Dense)            (None, 1)                 545       \n",
            "                                                                 \n",
            "=================================================================\n",
            "Total params: 8,394,401\n",
            "Trainable params: 8,394,401\n",
            "Non-trainable params: 0\n",
            "_________________________________________________________________\n"
          ]
        }
      ],
      "source": [
        "\n",
        "from tensorflow.keras.models import Sequential\n",
        "from tensorflow.keras.layers import Conv1D, MaxPooling1D, Flatten, TimeDistributed, Bidirectional, LSTM, Dense\n",
        "\n",
        "model_cnn_bilstm = Sequential()\n",
        "model_cnn_bilstm.add(TimeDistributed(Conv1D(filters=512, kernel_size=1, activation='swish'), input_shape=(None, X_train_series_sub.shape[2], X_train_series_sub.shape[3])))\n",
        "model_cnn_bilstm.add(TimeDistributed(MaxPooling1D(pool_size=2)))\n",
        "model_cnn_bilstm.add(TimeDistributed(Flatten()))\n",
        "model_cnn_bilstm.add(Bidirectional(LSTM(272, activation='swish')))\n",
        "model_cnn_bilstm.add(Dropout(0.45))\n",
        "model_cnn_bilstm.add(Dense(1))\n",
        "model_cnn_bilstm.compile(loss='mse', optimizer= tfa.optimizers.LazyAdam())\n",
        "model_cnn_bilstm.summary()"
      ]
    },
    {
      "cell_type": "code",
      "execution_count": null,
      "metadata": {
        "colab": {
          "base_uri": "https://localhost:8080/"
        },
        "id": "uVKZdXqh3UuM",
        "outputId": "60f8e78a-78f2-4060-8680-4d9641acbde2"
      },
      "outputs": [
        {
          "output_type": "stream",
          "name": "stdout",
          "text": [
            "Epoch 1/200\n",
            "3149/3149 - 56s - loss: 372.9855 - val_loss: 303.2158 - 56s/epoch - 18ms/step\n",
            "Epoch 2/200\n",
            "3149/3149 - 54s - loss: 338.2521 - val_loss: 275.5706 - 54s/epoch - 17ms/step\n",
            "Epoch 3/200\n",
            "3149/3149 - 53s - loss: 323.0672 - val_loss: 275.9759 - 53s/epoch - 17ms/step\n",
            "Epoch 4/200\n",
            "3149/3149 - 58s - loss: 317.5948 - val_loss: 294.7185 - 58s/epoch - 18ms/step\n",
            "Epoch 5/200\n",
            "3149/3149 - 59s - loss: 318.7934 - val_loss: 269.8593 - 59s/epoch - 19ms/step\n",
            "Epoch 6/200\n",
            "3149/3149 - 53s - loss: 314.9660 - val_loss: 273.0807 - 53s/epoch - 17ms/step\n",
            "Epoch 7/200\n",
            "3149/3149 - 58s - loss: 312.1203 - val_loss: 284.3099 - 58s/epoch - 18ms/step\n",
            "Epoch 8/200\n",
            "3149/3149 - 53s - loss: 309.2262 - val_loss: 271.3182 - 53s/epoch - 17ms/step\n",
            "Epoch 9/200\n",
            "3149/3149 - 58s - loss: 309.0074 - val_loss: 267.8813 - 58s/epoch - 18ms/step\n",
            "Epoch 10/200\n",
            "3149/3149 - 52s - loss: 304.6241 - val_loss: 267.8309 - 52s/epoch - 17ms/step\n",
            "Epoch 11/200\n",
            "3149/3149 - 53s - loss: 305.2460 - val_loss: 268.3499 - 53s/epoch - 17ms/step\n",
            "Epoch 12/200\n",
            "3149/3149 - 53s - loss: 305.1004 - val_loss: 267.3114 - 53s/epoch - 17ms/step\n",
            "Epoch 13/200\n",
            "3149/3149 - 57s - loss: 302.4872 - val_loss: 265.8046 - 57s/epoch - 18ms/step\n",
            "Epoch 14/200\n",
            "3149/3149 - 53s - loss: 302.1955 - val_loss: 266.3440 - 53s/epoch - 17ms/step\n",
            "Epoch 15/200\n",
            "3149/3149 - 52s - loss: 300.4025 - val_loss: 262.9572 - 52s/epoch - 17ms/step\n",
            "Epoch 16/200\n",
            "3149/3149 - 52s - loss: 300.7040 - val_loss: 264.7249 - 52s/epoch - 17ms/step\n",
            "Epoch 17/200\n",
            "3149/3149 - 52s - loss: 298.7575 - val_loss: 262.2924 - 52s/epoch - 17ms/step\n",
            "Epoch 18/200\n",
            "3149/3149 - 57s - loss: 296.9793 - val_loss: 272.3448 - 57s/epoch - 18ms/step\n",
            "Epoch 19/200\n",
            "3149/3149 - 53s - loss: 297.2634 - val_loss: 268.8390 - 53s/epoch - 17ms/step\n",
            "Epoch 20/200\n",
            "3149/3149 - 53s - loss: 295.6903 - val_loss: 262.1124 - 53s/epoch - 17ms/step\n",
            "Epoch 21/200\n",
            "3149/3149 - 56s - loss: 295.2848 - val_loss: 262.5772 - 56s/epoch - 18ms/step\n",
            "Epoch 22/200\n",
            "3149/3149 - 52s - loss: 293.9417 - val_loss: 272.9644 - 52s/epoch - 17ms/step\n",
            "Epoch 23/200\n",
            "3149/3149 - 57s - loss: 294.6620 - val_loss: 266.8133 - 57s/epoch - 18ms/step\n",
            "Epoch 24/200\n",
            "3149/3149 - 53s - loss: 292.9924 - val_loss: 264.7926 - 53s/epoch - 17ms/step\n",
            "Epoch 25/200\n",
            "3149/3149 - 53s - loss: 292.9698 - val_loss: 267.5461 - 53s/epoch - 17ms/step\n",
            "Epoch 26/200\n",
            "3149/3149 - 52s - loss: 292.0870 - val_loss: 276.4936 - 52s/epoch - 16ms/step\n",
            "Epoch 27/200\n",
            "3149/3149 - 57s - loss: 291.6561 - val_loss: 261.9451 - 57s/epoch - 18ms/step\n",
            "Epoch 28/200\n",
            "3149/3149 - 52s - loss: 290.9781 - val_loss: 264.1573 - 52s/epoch - 16ms/step\n",
            "Epoch 29/200\n",
            "3149/3149 - 52s - loss: 290.3499 - val_loss: 263.8166 - 52s/epoch - 17ms/step\n",
            "Epoch 30/200\n",
            "3149/3149 - 53s - loss: 288.8004 - val_loss: 269.9823 - 53s/epoch - 17ms/step\n",
            "Epoch 31/200\n",
            "3149/3149 - 53s - loss: 288.1658 - val_loss: 261.3747 - 53s/epoch - 17ms/step\n",
            "Epoch 32/200\n",
            "3149/3149 - 56s - loss: 287.7477 - val_loss: 260.5129 - 56s/epoch - 18ms/step\n",
            "Epoch 33/200\n",
            "3149/3149 - 53s - loss: 285.9846 - val_loss: 260.1530 - 53s/epoch - 17ms/step\n",
            "Epoch 34/200\n",
            "3149/3149 - 57s - loss: 287.3882 - val_loss: 262.5136 - 57s/epoch - 18ms/step\n",
            "Epoch 35/200\n",
            "3149/3149 - 52s - loss: 287.1251 - val_loss: 261.4026 - 52s/epoch - 17ms/step\n",
            "Epoch 36/200\n",
            "3149/3149 - 53s - loss: 285.1199 - val_loss: 264.0843 - 53s/epoch - 17ms/step\n",
            "Epoch 37/200\n",
            "3149/3149 - 51s - loss: 284.5649 - val_loss: 261.7565 - 51s/epoch - 16ms/step\n",
            "Epoch 38/200\n",
            "3149/3149 - 52s - loss: 283.6974 - val_loss: 263.9424 - 52s/epoch - 16ms/step\n",
            "Epoch 39/200\n",
            "3149/3149 - 52s - loss: 282.6543 - val_loss: 263.1893 - 52s/epoch - 17ms/step\n",
            "Epoch 40/200\n",
            "3149/3149 - 52s - loss: 282.8867 - val_loss: 261.8422 - 52s/epoch - 16ms/step\n",
            "Epoch 41/200\n",
            "3149/3149 - 57s - loss: 282.4839 - val_loss: 261.2346 - 57s/epoch - 18ms/step\n",
            "Epoch 42/200\n",
            "3149/3149 - 52s - loss: 281.3734 - val_loss: 259.9521 - 52s/epoch - 16ms/step\n",
            "Epoch 43/200\n",
            "3149/3149 - 51s - loss: 280.9451 - val_loss: 260.8107 - 51s/epoch - 16ms/step\n",
            "Epoch 44/200\n",
            "3149/3149 - 52s - loss: 279.9933 - val_loss: 265.4539 - 52s/epoch - 17ms/step\n",
            "Epoch 45/200\n",
            "3149/3149 - 51s - loss: 280.2322 - val_loss: 262.0537 - 51s/epoch - 16ms/step\n",
            "Epoch 46/200\n",
            "3149/3149 - 55s - loss: 279.7020 - val_loss: 273.9212 - 55s/epoch - 18ms/step\n",
            "Epoch 47/200\n",
            "3149/3149 - 52s - loss: 278.7907 - val_loss: 259.3103 - 52s/epoch - 16ms/step\n",
            "Epoch 48/200\n",
            "3149/3149 - 56s - loss: 278.7973 - val_loss: 269.4637 - 56s/epoch - 18ms/step\n",
            "Epoch 49/200\n",
            "3149/3149 - 51s - loss: 279.2248 - val_loss: 259.1382 - 51s/epoch - 16ms/step\n",
            "Epoch 50/200\n",
            "3149/3149 - 51s - loss: 278.4225 - val_loss: 265.7954 - 51s/epoch - 16ms/step\n",
            "Epoch 51/200\n",
            "3149/3149 - 56s - loss: 277.6268 - val_loss: 269.2675 - 56s/epoch - 18ms/step\n",
            "Epoch 52/200\n",
            "3149/3149 - 56s - loss: 276.4353 - val_loss: 262.6859 - 56s/epoch - 18ms/step\n",
            "Epoch 53/200\n",
            "3149/3149 - 51s - loss: 277.3590 - val_loss: 261.6923 - 51s/epoch - 16ms/step\n",
            "Epoch 54/200\n",
            "3149/3149 - 53s - loss: 277.3550 - val_loss: 260.7232 - 53s/epoch - 17ms/step\n",
            "Epoch 55/200\n",
            "3149/3149 - 51s - loss: 276.4009 - val_loss: 258.3513 - 51s/epoch - 16ms/step\n",
            "Epoch 56/200\n",
            "3149/3149 - 52s - loss: 275.3446 - val_loss: 263.2052 - 52s/epoch - 16ms/step\n",
            "Epoch 57/200\n",
            "3149/3149 - 51s - loss: 275.8995 - val_loss: 262.7593 - 51s/epoch - 16ms/step\n",
            "Epoch 58/200\n",
            "3149/3149 - 55s - loss: 276.0668 - val_loss: 260.2334 - 55s/epoch - 18ms/step\n",
            "Epoch 59/200\n",
            "3149/3149 - 52s - loss: 273.9657 - val_loss: 272.1485 - 52s/epoch - 16ms/step\n",
            "Epoch 60/200\n",
            "3149/3149 - 52s - loss: 273.1660 - val_loss: 263.8514 - 52s/epoch - 17ms/step\n",
            "Epoch 61/200\n",
            "3149/3149 - 55s - loss: 273.2238 - val_loss: 257.9012 - 55s/epoch - 18ms/step\n",
            "Epoch 62/200\n",
            "3149/3149 - 52s - loss: 272.9733 - val_loss: 278.2895 - 52s/epoch - 16ms/step\n",
            "Epoch 63/200\n",
            "3149/3149 - 53s - loss: 272.1096 - val_loss: 257.7930 - 53s/epoch - 17ms/step\n",
            "Epoch 64/200\n",
            "3149/3149 - 51s - loss: 271.6027 - val_loss: 260.7464 - 51s/epoch - 16ms/step\n",
            "Epoch 65/200\n",
            "3149/3149 - 56s - loss: 271.7234 - val_loss: 259.8559 - 56s/epoch - 18ms/step\n",
            "Epoch 66/200\n",
            "3149/3149 - 57s - loss: 270.1127 - val_loss: 265.3852 - 57s/epoch - 18ms/step\n",
            "Epoch 67/200\n",
            "3149/3149 - 51s - loss: 271.0733 - val_loss: 270.1675 - 51s/epoch - 16ms/step\n",
            "Epoch 68/200\n",
            "3149/3149 - 51s - loss: 269.3968 - val_loss: 261.8092 - 51s/epoch - 16ms/step\n",
            "Epoch 69/200\n",
            "3149/3149 - 57s - loss: 268.9851 - val_loss: 260.2645 - 57s/epoch - 18ms/step\n",
            "Epoch 70/200\n",
            "3149/3149 - 51s - loss: 268.3639 - val_loss: 257.8040 - 51s/epoch - 16ms/step\n",
            "Epoch 71/200\n",
            "3149/3149 - 57s - loss: 267.4946 - val_loss: 257.3365 - 57s/epoch - 18ms/step\n",
            "Epoch 72/200\n",
            "3149/3149 - 51s - loss: 267.6555 - val_loss: 257.9401 - 51s/epoch - 16ms/step\n",
            "Epoch 73/200\n",
            "3149/3149 - 57s - loss: 268.2007 - val_loss: 255.8223 - 57s/epoch - 18ms/step\n",
            "Epoch 74/200\n",
            "3149/3149 - 51s - loss: 266.6474 - val_loss: 261.6063 - 51s/epoch - 16ms/step\n",
            "Epoch 75/200\n",
            "3149/3149 - 52s - loss: 266.3578 - val_loss: 269.0085 - 52s/epoch - 16ms/step\n",
            "Epoch 76/200\n",
            "3149/3149 - 51s - loss: 266.0923 - val_loss: 261.5818 - 51s/epoch - 16ms/step\n",
            "Epoch 77/200\n",
            "3149/3149 - 52s - loss: 265.1770 - val_loss: 257.3920 - 52s/epoch - 16ms/step\n",
            "Epoch 78/200\n",
            "3149/3149 - 52s - loss: 265.9462 - val_loss: 258.1107 - 52s/epoch - 17ms/step\n",
            "Epoch 79/200\n",
            "3149/3149 - 51s - loss: 265.1854 - val_loss: 255.8336 - 51s/epoch - 16ms/step\n",
            "Epoch 80/200\n",
            "3149/3149 - 57s - loss: 263.8461 - val_loss: 259.9915 - 57s/epoch - 18ms/step\n",
            "Epoch 81/200\n",
            "3149/3149 - 51s - loss: 263.8634 - val_loss: 264.6188 - 51s/epoch - 16ms/step\n",
            "Epoch 82/200\n",
            "3149/3149 - 51s - loss: 264.1049 - val_loss: 256.0821 - 51s/epoch - 16ms/step\n",
            "Epoch 83/200\n",
            "3149/3149 - 57s - loss: 263.4570 - val_loss: 257.2501 - 57s/epoch - 18ms/step\n",
            "Epoch 84/200\n",
            "3149/3149 - 57s - loss: 263.1628 - val_loss: 259.9891 - 57s/epoch - 18ms/step\n",
            "Epoch 85/200\n",
            "3149/3149 - 56s - loss: 263.6187 - val_loss: 256.8450 - 56s/epoch - 18ms/step\n",
            "Epoch 86/200\n",
            "3149/3149 - 51s - loss: 263.2357 - val_loss: 256.1981 - 51s/epoch - 16ms/step\n",
            "Epoch 87/200\n",
            "3149/3149 - 51s - loss: 262.0653 - val_loss: 258.4139 - 51s/epoch - 16ms/step\n",
            "Epoch 88/200\n",
            "3149/3149 - 51s - loss: 261.7443 - val_loss: 264.1698 - 51s/epoch - 16ms/step\n",
            "Epoch 89/200\n",
            "3149/3149 - 52s - loss: 261.6996 - val_loss: 257.2335 - 52s/epoch - 16ms/step\n",
            "Epoch 90/200\n",
            "3149/3149 - 52s - loss: 261.1110 - val_loss: 258.2165 - 52s/epoch - 17ms/step\n",
            "Epoch 91/200\n",
            "3149/3149 - 55s - loss: 260.3208 - val_loss: 259.3697 - 55s/epoch - 18ms/step\n",
            "Epoch 92/200\n",
            "3149/3149 - 52s - loss: 260.0880 - val_loss: 268.5993 - 52s/epoch - 16ms/step\n",
            "Epoch 93/200\n",
            "3149/3149 - 52s - loss: 260.0724 - val_loss: 258.5260 - 52s/epoch - 16ms/step\n",
            "Epoch 94/200\n",
            "3149/3149 - 51s - loss: 259.0886 - val_loss: 254.6864 - 51s/epoch - 16ms/step\n",
            "Epoch 95/200\n",
            "3149/3149 - 51s - loss: 259.2982 - val_loss: 256.5730 - 51s/epoch - 16ms/step\n",
            "Epoch 96/200\n",
            "3149/3149 - 57s - loss: 258.5093 - val_loss: 257.8984 - 57s/epoch - 18ms/step\n",
            "Epoch 97/200\n",
            "3149/3149 - 56s - loss: 257.6367 - val_loss: 255.9422 - 56s/epoch - 18ms/step\n",
            "Epoch 98/200\n",
            "3149/3149 - 51s - loss: 257.6305 - val_loss: 259.4016 - 51s/epoch - 16ms/step\n",
            "Epoch 99/200\n",
            "3149/3149 - 51s - loss: 256.3422 - val_loss: 259.8992 - 51s/epoch - 16ms/step\n",
            "Epoch 100/200\n",
            "3149/3149 - 52s - loss: 256.3641 - val_loss: 258.1570 - 52s/epoch - 17ms/step\n",
            "Epoch 101/200\n",
            "3149/3149 - 52s - loss: 255.9127 - val_loss: 257.7600 - 52s/epoch - 16ms/step\n",
            "Epoch 102/200\n",
            "3149/3149 - 52s - loss: 255.2072 - val_loss: 254.8716 - 52s/epoch - 17ms/step\n",
            "Epoch 103/200\n",
            "3149/3149 - 58s - loss: 254.9675 - val_loss: 260.2704 - 58s/epoch - 18ms/step\n",
            "Epoch 104/200\n",
            "3149/3149 - 52s - loss: 254.0990 - val_loss: 257.8513 - 52s/epoch - 17ms/step\n",
            "Epoch 105/200\n",
            "3149/3149 - 57s - loss: 253.5250 - val_loss: 257.0081 - 57s/epoch - 18ms/step\n",
            "Epoch 106/200\n",
            "3149/3149 - 57s - loss: 253.8621 - val_loss: 257.8494 - 57s/epoch - 18ms/step\n",
            "Epoch 107/200\n",
            "3149/3149 - 57s - loss: 253.1325 - val_loss: 260.5047 - 57s/epoch - 18ms/step\n",
            "Epoch 108/200\n",
            "3149/3149 - 52s - loss: 252.1948 - val_loss: 263.7594 - 52s/epoch - 17ms/step\n",
            "Epoch 109/200\n",
            "3149/3149 - 53s - loss: 251.6945 - val_loss: 258.9532 - 53s/epoch - 17ms/step\n",
            "Epoch 110/200\n",
            "3149/3149 - 55s - loss: 251.0441 - val_loss: 257.3709 - 55s/epoch - 18ms/step\n",
            "Epoch 111/200\n",
            "3149/3149 - 51s - loss: 251.0654 - val_loss: 255.9679 - 51s/epoch - 16ms/step\n",
            "Epoch 112/200\n",
            "3149/3149 - 53s - loss: 250.8225 - val_loss: 260.7144 - 53s/epoch - 17ms/step\n",
            "Epoch 113/200\n",
            "3149/3149 - 56s - loss: 250.4915 - val_loss: 257.4482 - 56s/epoch - 18ms/step\n",
            "Epoch 114/200\n",
            "3149/3149 - 53s - loss: 249.1837 - val_loss: 262.0611 - 53s/epoch - 17ms/step\n",
            "Epoch 115/200\n",
            "3149/3149 - 57s - loss: 250.3159 - val_loss: 259.5885 - 57s/epoch - 18ms/step\n",
            "Epoch 116/200\n",
            "3149/3149 - 52s - loss: 248.7658 - val_loss: 257.9688 - 52s/epoch - 17ms/step\n",
            "Epoch 117/200\n",
            "3149/3149 - 57s - loss: 248.0921 - val_loss: 260.6957 - 57s/epoch - 18ms/step\n",
            "Epoch 118/200\n",
            "3149/3149 - 53s - loss: 247.5764 - val_loss: 256.1028 - 53s/epoch - 17ms/step\n",
            "Epoch 119/200\n",
            "3149/3149 - 54s - loss: 246.4685 - val_loss: 258.2965 - 54s/epoch - 17ms/step\n",
            "Epoch 120/200\n",
            "3149/3149 - 56s - loss: 245.8989 - val_loss: 258.7101 - 56s/epoch - 18ms/step\n",
            "Epoch 121/200\n",
            "3149/3149 - 52s - loss: 245.4836 - val_loss: 259.6350 - 52s/epoch - 17ms/step\n",
            "Epoch 122/200\n",
            "3149/3149 - 52s - loss: 244.8150 - val_loss: 257.6859 - 52s/epoch - 16ms/step\n",
            "Epoch 123/200\n",
            "3149/3149 - 56s - loss: 244.5729 - val_loss: 258.1737 - 56s/epoch - 18ms/step\n",
            "Epoch 124/200\n",
            "3149/3149 - 57s - loss: 243.3745 - val_loss: 256.5511 - 57s/epoch - 18ms/step\n",
            "Epoch 125/200\n",
            "3149/3149 - 52s - loss: 242.9205 - val_loss: 257.8682 - 52s/epoch - 16ms/step\n",
            "Epoch 126/200\n",
            "3149/3149 - 51s - loss: 242.2815 - val_loss: 258.0743 - 51s/epoch - 16ms/step\n",
            "Epoch 127/200\n",
            "3149/3149 - 52s - loss: 241.7876 - val_loss: 257.3184 - 52s/epoch - 16ms/step\n",
            "Epoch 128/200\n",
            "3149/3149 - 51s - loss: 241.6524 - val_loss: 260.1241 - 51s/epoch - 16ms/step\n",
            "Epoch 129/200\n",
            "3149/3149 - 51s - loss: 241.2166 - val_loss: 259.1709 - 51s/epoch - 16ms/step\n",
            "Epoch 130/200\n",
            "3149/3149 - 52s - loss: 239.2626 - val_loss: 259.3778 - 52s/epoch - 16ms/step\n",
            "Epoch 131/200\n",
            "3149/3149 - 51s - loss: 240.9568 - val_loss: 260.6073 - 51s/epoch - 16ms/step\n",
            "Epoch 132/200\n",
            "3149/3149 - 51s - loss: 238.9572 - val_loss: 263.5472 - 51s/epoch - 16ms/step\n",
            "Epoch 133/200\n",
            "3149/3149 - 56s - loss: 237.8727 - val_loss: 260.7887 - 56s/epoch - 18ms/step\n",
            "Epoch 134/200\n",
            "3149/3149 - 51s - loss: 238.0389 - val_loss: 264.6159 - 51s/epoch - 16ms/step\n",
            "Epoch 135/200\n",
            "3149/3149 - 57s - loss: 237.7710 - val_loss: 257.8080 - 57s/epoch - 18ms/step\n",
            "Epoch 136/200\n",
            "3149/3149 - 51s - loss: 236.3882 - val_loss: 261.3259 - 51s/epoch - 16ms/step\n",
            "Epoch 137/200\n",
            "3149/3149 - 51s - loss: 234.7166 - val_loss: 261.9044 - 51s/epoch - 16ms/step\n",
            "Epoch 138/200\n",
            "3149/3149 - 51s - loss: 234.9071 - val_loss: 264.6900 - 51s/epoch - 16ms/step\n",
            "Epoch 139/200\n",
            "3149/3149 - 57s - loss: 234.3048 - val_loss: 260.3256 - 57s/epoch - 18ms/step\n",
            "Epoch 140/200\n",
            "3149/3149 - 51s - loss: 234.6007 - val_loss: 263.8024 - 51s/epoch - 16ms/step\n",
            "Epoch 141/200\n",
            "3149/3149 - 52s - loss: 232.8531 - val_loss: 265.2538 - 52s/epoch - 16ms/step\n",
            "Epoch 142/200\n",
            "3149/3149 - 51s - loss: 233.8128 - val_loss: 263.2114 - 51s/epoch - 16ms/step\n",
            "Epoch 143/200\n",
            "3149/3149 - 51s - loss: 232.6537 - val_loss: 264.5662 - 51s/epoch - 16ms/step\n",
            "Epoch 144/200\n",
            "3149/3149 - 51s - loss: 231.9405 - val_loss: 262.1833 - 51s/epoch - 16ms/step\n",
            "Epoch 145/200\n",
            "3149/3149 - 56s - loss: 231.6833 - val_loss: 263.7047 - 56s/epoch - 18ms/step\n",
            "Epoch 146/200\n",
            "3149/3149 - 52s - loss: 231.9975 - val_loss: 262.7846 - 52s/epoch - 16ms/step\n",
            "Epoch 147/200\n",
            "3149/3149 - 56s - loss: 229.9069 - val_loss: 270.0267 - 56s/epoch - 18ms/step\n",
            "Epoch 148/200\n",
            "3149/3149 - 51s - loss: 228.0591 - val_loss: 264.7025 - 51s/epoch - 16ms/step\n",
            "Epoch 149/200\n",
            "3149/3149 - 52s - loss: 227.7541 - val_loss: 264.5409 - 52s/epoch - 16ms/step\n",
            "Epoch 150/200\n",
            "3149/3149 - 51s - loss: 226.1417 - val_loss: 262.7143 - 51s/epoch - 16ms/step\n",
            "Epoch 151/200\n",
            "3149/3149 - 55s - loss: 226.1475 - val_loss: 266.3339 - 55s/epoch - 17ms/step\n",
            "Epoch 152/200\n",
            "3149/3149 - 51s - loss: 225.0475 - val_loss: 266.8402 - 51s/epoch - 16ms/step\n",
            "Epoch 153/200\n",
            "3149/3149 - 52s - loss: 225.0484 - val_loss: 267.1134 - 52s/epoch - 16ms/step\n",
            "Epoch 154/200\n",
            "3149/3149 - 51s - loss: 222.8438 - val_loss: 267.5498 - 51s/epoch - 16ms/step\n",
            "Epoch 155/200\n",
            "3149/3149 - 55s - loss: 222.8621 - val_loss: 269.5674 - 55s/epoch - 17ms/step\n",
            "Epoch 156/200\n",
            "3149/3149 - 51s - loss: 222.1760 - val_loss: 268.1419 - 51s/epoch - 16ms/step\n",
            "Epoch 157/200\n",
            "3149/3149 - 51s - loss: 220.7142 - val_loss: 265.1764 - 51s/epoch - 16ms/step\n",
            "Epoch 158/200\n",
            "3149/3149 - 51s - loss: 221.0674 - val_loss: 267.2309 - 51s/epoch - 16ms/step\n",
            "Epoch 159/200\n",
            "3149/3149 - 51s - loss: 219.5729 - val_loss: 274.6537 - 51s/epoch - 16ms/step\n",
            "Epoch 160/200\n",
            "3149/3149 - 51s - loss: 218.4704 - val_loss: 268.0393 - 51s/epoch - 16ms/step\n",
            "Epoch 161/200\n",
            "3149/3149 - 51s - loss: 218.6248 - val_loss: 269.2922 - 51s/epoch - 16ms/step\n",
            "Epoch 162/200\n",
            "3149/3149 - 51s - loss: 222.0093 - val_loss: 267.2945 - 51s/epoch - 16ms/step\n",
            "Epoch 163/200\n",
            "3149/3149 - 56s - loss: 214.4396 - val_loss: 269.2599 - 56s/epoch - 18ms/step\n",
            "Epoch 164/200\n",
            "3149/3149 - 51s - loss: 215.7526 - val_loss: 266.2472 - 51s/epoch - 16ms/step\n",
            "Epoch 165/200\n",
            "3149/3149 - 51s - loss: 214.5389 - val_loss: 270.3133 - 51s/epoch - 16ms/step\n",
            "Epoch 166/200\n",
            "3149/3149 - 51s - loss: 213.7225 - val_loss: 267.7758 - 51s/epoch - 16ms/step\n",
            "Epoch 167/200\n",
            "3149/3149 - 51s - loss: 212.6805 - val_loss: 272.1053 - 51s/epoch - 16ms/step\n",
            "Epoch 168/200\n",
            "3149/3149 - 55s - loss: 212.3879 - val_loss: 272.3557 - 55s/epoch - 17ms/step\n",
            "Epoch 169/200\n",
            "3149/3149 - 51s - loss: 210.4492 - val_loss: 272.3324 - 51s/epoch - 16ms/step\n",
            "Epoch 170/200\n",
            "3149/3149 - 51s - loss: 210.0083 - val_loss: 271.1407 - 51s/epoch - 16ms/step\n",
            "Epoch 171/200\n",
            "3149/3149 - 51s - loss: 210.0677 - val_loss: 272.2888 - 51s/epoch - 16ms/step\n",
            "Epoch 172/200\n",
            "3149/3149 - 55s - loss: 208.9903 - val_loss: 272.1556 - 55s/epoch - 17ms/step\n",
            "Epoch 173/200\n",
            "3149/3149 - 51s - loss: 208.0720 - val_loss: 271.7398 - 51s/epoch - 16ms/step\n",
            "Epoch 174/200\n",
            "3149/3149 - 51s - loss: 206.6255 - val_loss: 271.5779 - 51s/epoch - 16ms/step\n",
            "Epoch 175/200\n",
            "3149/3149 - 51s - loss: 207.1843 - val_loss: 273.2916 - 51s/epoch - 16ms/step\n",
            "Epoch 176/200\n",
            "3149/3149 - 55s - loss: 205.7842 - val_loss: 276.3428 - 55s/epoch - 17ms/step\n",
            "Epoch 177/200\n",
            "3149/3149 - 51s - loss: 203.4816 - val_loss: 272.9285 - 51s/epoch - 16ms/step\n",
            "Epoch 178/200\n",
            "3149/3149 - 51s - loss: 203.7067 - val_loss: 277.9537 - 51s/epoch - 16ms/step\n",
            "Epoch 179/200\n",
            "3149/3149 - 55s - loss: 204.0614 - val_loss: 271.1703 - 55s/epoch - 18ms/step\n",
            "Epoch 180/200\n",
            "3149/3149 - 51s - loss: 203.0588 - val_loss: 271.9508 - 51s/epoch - 16ms/step\n",
            "Epoch 181/200\n",
            "3149/3149 - 51s - loss: 202.0435 - val_loss: 273.1417 - 51s/epoch - 16ms/step\n",
            "Epoch 182/200\n",
            "3149/3149 - 56s - loss: 201.3023 - val_loss: 275.8581 - 56s/epoch - 18ms/step\n",
            "Epoch 183/200\n",
            "3149/3149 - 52s - loss: 200.0851 - val_loss: 279.4626 - 52s/epoch - 16ms/step\n",
            "Epoch 184/200\n",
            "3149/3149 - 51s - loss: 198.2959 - val_loss: 272.1617 - 51s/epoch - 16ms/step\n",
            "Epoch 185/200\n",
            "3149/3149 - 56s - loss: 197.9971 - val_loss: 276.0917 - 56s/epoch - 18ms/step\n",
            "Epoch 186/200\n",
            "3149/3149 - 51s - loss: 198.3274 - val_loss: 273.4240 - 51s/epoch - 16ms/step\n",
            "Epoch 187/200\n",
            "3149/3149 - 51s - loss: 196.6676 - val_loss: 276.2914 - 51s/epoch - 16ms/step\n",
            "Epoch 188/200\n",
            "3149/3149 - 51s - loss: 197.4808 - val_loss: 276.7660 - 51s/epoch - 16ms/step\n",
            "Epoch 189/200\n",
            "3149/3149 - 52s - loss: 197.0924 - val_loss: 267.1497 - 52s/epoch - 16ms/step\n",
            "Epoch 190/200\n",
            "3149/3149 - 50s - loss: 195.4754 - val_loss: 276.5632 - 50s/epoch - 16ms/step\n",
            "Epoch 191/200\n",
            "3149/3149 - 50s - loss: 192.8992 - val_loss: 280.4128 - 50s/epoch - 16ms/step\n",
            "Epoch 192/200\n",
            "3149/3149 - 56s - loss: 192.5378 - val_loss: 280.4187 - 56s/epoch - 18ms/step\n",
            "Epoch 193/200\n",
            "3149/3149 - 58s - loss: 192.3497 - val_loss: 281.7001 - 58s/epoch - 18ms/step\n",
            "Epoch 194/200\n",
            "3149/3149 - 56s - loss: 190.6731 - val_loss: 279.2856 - 56s/epoch - 18ms/step\n",
            "Epoch 195/200\n",
            "3149/3149 - 59s - loss: 195.0363 - val_loss: 276.4638 - 59s/epoch - 19ms/step\n",
            "Epoch 196/200\n",
            "3149/3149 - 58s - loss: 189.2840 - val_loss: 278.7026 - 58s/epoch - 18ms/step\n",
            "Epoch 197/200\n",
            "3149/3149 - 76s - loss: 188.6176 - val_loss: 279.7665 - 76s/epoch - 24ms/step\n",
            "Epoch 198/200\n",
            "3149/3149 - 53s - loss: 188.5893 - val_loss: 278.1449 - 53s/epoch - 17ms/step\n",
            "Epoch 199/200\n",
            "3149/3149 - 52s - loss: 186.9909 - val_loss: 273.5191 - 52s/epoch - 17ms/step\n",
            "Epoch 200/200\n",
            "3149/3149 - 55s - loss: 186.7112 - val_loss: 275.5371 - 55s/epoch - 17ms/step\n"
          ]
        }
      ],
      "source": [
        "cnn_bilstm_history = model_cnn_bilstm.fit(X_train_series_sub, Y_train, validation_data=(X_valid_series_sub, Y_valid), epochs=epochs, verbose=2)"
      ]
    },
    {
      "cell_type": "code",
      "execution_count": null,
      "metadata": {
        "id": "pLgqSJuS3ZCs",
        "colab": {
          "base_uri": "https://localhost:8080/",
          "height": 745
        },
        "outputId": "9a39b711-e7fa-42f9-82d0-96931a104b9d"
      },
      "outputs": [
        {
          "output_type": "display_data",
          "data": {
            "text/plain": [
              "<Figure size 2200x1200 with 1 Axes>"
            ],
            "image/png": "[encoded data removed]"
          },
          "metadata": {}
        }
      ],
      "source": [
        "fig, ax4 = plt.subplots(1, 1, sharex=True, sharey=True,figsize=(22,12))\n",
        "\n",
        "ax4.plot(cnn_bilstm_history.history['loss'], label='Train loss')\n",
        "ax4.plot(cnn_bilstm_history.history['val_loss'], label='Validation loss')\n",
        "ax4.legend(loc='best')\n",
        "ax4.set_title('CNN-BiLSTM')\n",
        "ax4.set_xlabel('Epochs')\n",
        "ax4.set_ylabel('MSE')\n",
        "\n",
        "plt.show()"
      ]
    },
    {
      "cell_type": "code",
      "execution_count": null,
      "metadata": {
        "id": "3NUSuVUB4tLO",
        "colab": {
          "base_uri": "https://localhost:8080/"
        },
        "outputId": "e0a9c76e-7044-4d2c-b633-18e14a68c42e"
      },
      "outputs": [
        {
          "output_type": "stream",
          "name": "stdout",
          "text": [
            "3149/3149 [==============================] - 9s 3ms/step\n",
            "2099/2099 [==============================] - 6s 3ms/step\n",
            "Train rmse: 12.825140171935423\n",
            "Validation rmse: 16.59930892042519\n"
          ]
        }
      ],
      "source": [
        "cnn_bilstm_train_pred = model_cnn_bilstm.predict(X_train_series_sub)\n",
        "cnn_bilstm_valid_pred = model_cnn_bilstm.predict(X_valid_series_sub)\n",
        "end_time=time.time()\n",
        "\n",
        "print('Train rmse:', np.sqrt(mean_squared_error(Y_train, cnn_bilstm_train_pred)))\n",
        "print('Validation rmse:', np.sqrt(mean_squared_error(Y_valid, cnn_bilstm_valid_pred)))"
      ]
    },
    {
      "cell_type": "markdown",
      "metadata": {
        "id": "oKPWKOSQhWoI"
      },
      "source": [
        "Calculating Performance measures"
      ]
    },
    {
      "cell_type": "code",
      "execution_count": null,
      "metadata": {
        "id": "nB6RMYoQ49dW",
        "colab": {
          "base_uri": "https://localhost:8080/"
        },
        "outputId": "ee962a6d-7c90-4b74-d05c-8af486a9af4d"
      },
      "outputs": [
        {
          "output_type": "stream",
          "name": "stdout",
          "text": [
            "MAE: 9.6756\n",
            "MAPE: 25.30%\n",
            "R-squared: 0.7806\n",
            "Execution time 11157.774100542068\n"
          ]
        }
      ],
      "source": [
        "from sklearn.metrics import mean_absolute_error, mean_absolute_percentage_error, r2_score\n",
        "mae = mean_absolute_error(Y_train, cnn_bilstm_train_pred)\n",
        "mape = mean_absolute_percentage_error(Y_train, cnn_bilstm_train_pred) * 100\n",
        "r2 = r2_score(Y_train, cnn_bilstm_train_pred)\n",
        "execution_time=end_time-start_time\n",
        "\n",
        "# Print the results\n",
        "print(\"MAE: {:.4f}\".format(mae))\n",
        "print(\"MAPE: {:.2f}%\".format(mape))\n",
        "print(\"R-squared: {:.4f}\".format(r2))\n",
        "print(\"Execution time\",execution_time)"
      ]
    }
  ],
  "metadata": {
    "colab": {
      "provenance": []
    },
    "kernelspec": {
      "display_name": "Python 3",
      "name": "python3"
    },
    "language_info": {
      "name": "python"
    },
    "accelerator": "GPU",
    "gpuClass": "standard"
  },
  "nbformat": 4,
  "nbformat_minor": 0
}