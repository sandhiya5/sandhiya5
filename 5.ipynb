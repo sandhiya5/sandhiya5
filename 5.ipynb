{
  "cells": [
    {
      "cell_type": "markdown",
      "metadata": {
        "id": "MAxiSv-BJVBI"
      },
      "source": [
        "**MODEL**-CNN-BiLSTM\n",
        "\n",
        "\n",
        "\n",
        "\n",
        "**OPTIMIZER**-Lazy Adam\n",
        "\n",
        "\n",
        "\n",
        "\n",
        "**LEARNING RATE**-10^-2\n",
        "\n",
        "\n",
        "\n",
        "\n",
        "**DROPOUT** -0.2\n",
        "\n",
        "\n",
        "\n",
        "**LSTM LAYER**-320\n",
        "\n",
        "\n",
        "\n",
        "**ACTIVATION**-swish\n",
        "\n",
        "\n",
        "\n",
        "\n",
        "**BATCH SIZE**-64\n",
        "\n",
        "\n",
        "\n",
        "\n",
        "**FILTER**-32 32\n",
        "\n",
        "\n",
        "\n",
        "---\n",
        "\n",
        "\n",
        "\n",
        "\n",
        "\n",
        "\n",
        "\n"
      ]
    },
    {
      "cell_type": "code",
      "execution_count": null,
      "metadata": {
        "colab": {
          "base_uri": "https://localhost:8080/"
        },
        "id": "NfBdoUtmsghZ",
        "outputId": "c8703aeb-b20c-4c35-f98c-983e5b1ab22c"
      },
      "outputs": [
        {
          "name": "stdout",
          "output_type": "stream",
          "text": [
            "Looking in indexes: https://pypi.org/simple, https://us-python.pkg.dev/colab-wheels/public/simple/\n",
            "Requirement already satisfied: tensorflow in /usr/local/lib/python3.9/dist-packages (2.12.0)\n",
            "Collecting tensorflow-addons\n",
            "  Downloading tensorflow_addons-0.20.0-cp39-cp39-manylinux_2_17_x86_64.manylinux2014_x86_64.whl (591 kB)\n",
            "\u001b[2K     \u001b[90m━━━━━━━━━━━━━━━━━━━━━━━━━━━━━━━━━━━━━━\u001b[0m \u001b[32m591.0/591.0 kB\u001b[0m \u001b[31m16.3 MB/s\u001b[0m eta \u001b[36m0:00:00\u001b[0m\n",
            "\u001b[?25hRequirement already satisfied: h5py>=2.9.0 in /usr/local/lib/python3.9/dist-packages (from tensorflow) (3.8.0)\n",
            "Requirement already satisfied: keras<2.13,>=2.12.0 in /usr/local/lib/python3.9/dist-packages (from tensorflow) (2.12.0)\n",
            "Requirement already satisfied: grpcio<2.0,>=1.24.3 in /usr/local/lib/python3.9/dist-packages (from tensorflow) (1.53.0)\n",
            "Requirement already satisfied: packaging in /usr/local/lib/python3.9/dist-packages (from tensorflow) (23.1)\n",
            "Requirement already satisfied: tensorboard<2.13,>=2.12 in /usr/local/lib/python3.9/dist-packages (from tensorflow) (2.12.2)\n",
            "Requirement already satisfied: gast<=0.4.0,>=0.2.1 in /usr/local/lib/python3.9/dist-packages (from tensorflow) (0.4.0)\n",
            "Requirement already satisfied: libclang>=13.0.0 in /usr/local/lib/python3.9/dist-packages (from tensorflow) (16.0.0)\n",
            "Requirement already satisfied: protobuf!=4.21.0,!=4.21.1,!=4.21.2,!=4.21.3,!=4.21.4,!=4.21.5,<5.0.0dev,>=3.20.3 in /usr/local/lib/python3.9/dist-packages (from tensorflow) (3.20.3)\n",
            "Requirement already satisfied: typing-extensions>=3.6.6 in /usr/local/lib/python3.9/dist-packages (from tensorflow) (4.5.0)\n",
            "Requirement already satisfied: wrapt<1.15,>=1.11.0 in /usr/local/lib/python3.9/dist-packages (from tensorflow) (1.14.1)\n",
            "Requirement already satisfied: opt-einsum>=2.3.2 in /usr/local/lib/python3.9/dist-packages (from tensorflow) (3.3.0)\n",
            "Requirement already satisfied: tensorflow-estimator<2.13,>=2.12.0 in /usr/local/lib/python3.9/dist-packages (from tensorflow) (2.12.0)\n",
            "Requirement already satisfied: tensorflow-io-gcs-filesystem>=0.23.1 in /usr/local/lib/python3.9/dist-packages (from tensorflow) (0.32.0)\n",
            "Requirement already satisfied: setuptools in /usr/local/lib/python3.9/dist-packages (from tensorflow) (67.6.1)\n",
            "Requirement already satisfied: absl-py>=1.0.0 in /usr/local/lib/python3.9/dist-packages (from tensorflow) (1.4.0)\n",
            "Requirement already satisfied: numpy<1.24,>=1.22 in /usr/local/lib/python3.9/dist-packages (from tensorflow) (1.22.4)\n",
            "Requirement already satisfied: six>=1.12.0 in /usr/local/lib/python3.9/dist-packages (from tensorflow) (1.16.0)\n",
            "Requirement already satisfied: termcolor>=1.1.0 in /usr/local/lib/python3.9/dist-packages (from tensorflow) (2.2.0)\n",
            "Requirement already satisfied: flatbuffers>=2.0 in /usr/local/lib/python3.9/dist-packages (from tensorflow) (23.3.3)\n",
            "Requirement already satisfied: jax>=0.3.15 in /usr/local/lib/python3.9/dist-packages (from tensorflow) (0.4.8)\n",
            "Requirement already satisfied: google-pasta>=0.1.1 in /usr/local/lib/python3.9/dist-packages (from tensorflow) (0.2.0)\n",
            "Requirement already satisfied: astunparse>=1.6.0 in /usr/local/lib/python3.9/dist-packages (from tensorflow) (1.6.3)\n",
            "Collecting typeguard<3.0.0,>=2.7\n",
            "  Downloading typeguard-2.13.3-py3-none-any.whl (17 kB)\n",
            "Requirement already satisfied: wheel<1.0,>=0.23.0 in /usr/local/lib/python3.9/dist-packages (from astunparse>=1.6.0->tensorflow) (0.40.0)\n",
            "Requirement already satisfied: ml-dtypes>=0.0.3 in /usr/local/lib/python3.9/dist-packages (from jax>=0.3.15->tensorflow) (0.1.0)\n",
            "Requirement already satisfied: scipy>=1.7 in /usr/local/lib/python3.9/dist-packages (from jax>=0.3.15->tensorflow) (1.10.1)\n",
            "Requirement already satisfied: google-auth-oauthlib<1.1,>=0.5 in /usr/local/lib/python3.9/dist-packages (from tensorboard<2.13,>=2.12->tensorflow) (1.0.0)\n",
            "Requirement already satisfied: werkzeug>=1.0.1 in /usr/local/lib/python3.9/dist-packages (from tensorboard<2.13,>=2.12->tensorflow) (2.2.3)\n",
            "Requirement already satisfied: tensorboard-plugin-wit>=1.6.0 in /usr/local/lib/python3.9/dist-packages (from tensorboard<2.13,>=2.12->tensorflow) (1.8.1)\n",
            "Requirement already satisfied: requests<3,>=2.21.0 in /usr/local/lib/python3.9/dist-packages (from tensorboard<2.13,>=2.12->tensorflow) (2.27.1)\n",
            "Requirement already satisfied: markdown>=2.6.8 in /usr/local/lib/python3.9/dist-packages (from tensorboard<2.13,>=2.12->tensorflow) (3.4.3)\n",
            "Requirement already satisfied: google-auth<3,>=1.6.3 in /usr/local/lib/python3.9/dist-packages (from tensorboard<2.13,>=2.12->tensorflow) (2.17.3)\n",
            "Requirement already satisfied: tensorboard-data-server<0.8.0,>=0.7.0 in /usr/local/lib/python3.9/dist-packages (from tensorboard<2.13,>=2.12->tensorflow) (0.7.0)\n",
            "Requirement already satisfied: rsa<5,>=3.1.4 in /usr/local/lib/python3.9/dist-packages (from google-auth<3,>=1.6.3->tensorboard<2.13,>=2.12->tensorflow) (4.9)\n",
            "Requirement already satisfied: pyasn1-modules>=0.2.1 in /usr/local/lib/python3.9/dist-packages (from google-auth<3,>=1.6.3->tensorboard<2.13,>=2.12->tensorflow) (0.2.8)\n",
            "Requirement already satisfied: cachetools<6.0,>=2.0.0 in /usr/local/lib/python3.9/dist-packages (from google-auth<3,>=1.6.3->tensorboard<2.13,>=2.12->tensorflow) (5.3.0)\n",
            "Requirement already satisfied: requests-oauthlib>=0.7.0 in /usr/local/lib/python3.9/dist-packages (from google-auth-oauthlib<1.1,>=0.5->tensorboard<2.13,>=2.12->tensorflow) (1.3.1)\n",
            "Requirement already satisfied: importlib-metadata>=4.4 in /usr/local/lib/python3.9/dist-packages (from markdown>=2.6.8->tensorboard<2.13,>=2.12->tensorflow) (6.4.1)\n",
            "Requirement already satisfied: certifi>=2017.4.17 in /usr/local/lib/python3.9/dist-packages (from requests<3,>=2.21.0->tensorboard<2.13,>=2.12->tensorflow) (2022.12.7)\n",
            "Requirement already satisfied: idna<4,>=2.5 in /usr/local/lib/python3.9/dist-packages (from requests<3,>=2.21.0->tensorboard<2.13,>=2.12->tensorflow) (3.4)\n",
            "Requirement already satisfied: urllib3<1.27,>=1.21.1 in /usr/local/lib/python3.9/dist-packages (from requests<3,>=2.21.0->tensorboard<2.13,>=2.12->tensorflow) (1.26.15)\n",
            "Requirement already satisfied: charset-normalizer~=2.0.0 in /usr/local/lib/python3.9/dist-packages (from requests<3,>=2.21.0->tensorboard<2.13,>=2.12->tensorflow) (2.0.12)\n",
            "Requirement already satisfied: MarkupSafe>=2.1.1 in /usr/local/lib/python3.9/dist-packages (from werkzeug>=1.0.1->tensorboard<2.13,>=2.12->tensorflow) (2.1.2)\n",
            "Requirement already satisfied: zipp>=0.5 in /usr/local/lib/python3.9/dist-packages (from importlib-metadata>=4.4->markdown>=2.6.8->tensorboard<2.13,>=2.12->tensorflow) (3.15.0)\n",
            "Requirement already satisfied: pyasn1<0.5.0,>=0.4.6 in /usr/local/lib/python3.9/dist-packages (from pyasn1-modules>=0.2.1->google-auth<3,>=1.6.3->tensorboard<2.13,>=2.12->tensorflow) (0.4.8)\n",
            "Requirement already satisfied: oauthlib>=3.0.0 in /usr/local/lib/python3.9/dist-packages (from requests-oauthlib>=0.7.0->google-auth-oauthlib<1.1,>=0.5->tensorboard<2.13,>=2.12->tensorflow) (3.2.2)\n",
            "Installing collected packages: typeguard, tensorflow-addons\n",
            "Successfully installed tensorflow-addons-0.20.0 typeguard-2.13.3\n"
          ]
        }
      ],
      "source": [
        "pip install --upgrade tensorflow tensorflow-addons"
      ]
    },
    {
      "cell_type": "code",
      "execution_count": null,
      "metadata": {
        "id": "ZnHw5Ze_trnQ"
      },
      "outputs": [],
      "source": []
    },
    {
      "cell_type": "code",
      "execution_count": null,
      "metadata": {
        "colab": {
          "base_uri": "https://localhost:8080/"
        },
        "id": "-mqJs6ZEwYSj",
        "outputId": "678fe53b-aaa6-4b92-c6e9-f2a12d73ba28"
      },
      "outputs": [
        {
          "name": "stdout",
          "output_type": "stream",
          "text": [
            "Looking in indexes: https://pypi.org/simple, https://us-python.pkg.dev/colab-wheels/public/simple/\n",
            "Collecting chart-studio\n",
            "  Downloading chart_studio-1.1.0-py3-none-any.whl (64 kB)\n",
            "\u001b[?25l     \u001b[90m━━━━━━━━━━━━━━━━━━━━━━━━━━━━━━━━━━━━━━━━\u001b[0m \u001b[32m0.0/64.4 kB\u001b[0m \u001b[31m?\u001b[0m eta \u001b[36m-:--:--\u001b[0m\r\u001b[2K     \u001b[90m━━━━━━━━━━━━━━━━━━━━━━━━━━━━━━━━━━━━━━━━\u001b[0m \u001b[32m64.4/64.4 kB\u001b[0m \u001b[31m3.5 MB/s\u001b[0m eta \u001b[36m0:00:00\u001b[0m\n",
            "\u001b[?25hRequirement already satisfied: six in /usr/local/lib/python3.9/dist-packages (from chart-studio) (1.16.0)\n",
            "Requirement already satisfied: plotly in /usr/local/lib/python3.9/dist-packages (from chart-studio) (5.13.1)\n",
            "Collecting retrying>=1.3.3\n",
            "  Downloading retrying-1.3.4-py3-none-any.whl (11 kB)\n",
            "Requirement already satisfied: requests in /usr/local/lib/python3.9/dist-packages (from chart-studio) (2.27.1)\n",
            "Requirement already satisfied: tenacity>=6.2.0 in /usr/local/lib/python3.9/dist-packages (from plotly->chart-studio) (8.2.2)\n",
            "Requirement already satisfied: charset-normalizer~=2.0.0 in /usr/local/lib/python3.9/dist-packages (from requests->chart-studio) (2.0.12)\n",
            "Requirement already satisfied: idna<4,>=2.5 in /usr/local/lib/python3.9/dist-packages (from requests->chart-studio) (3.4)\n",
            "Requirement already satisfied: urllib3<1.27,>=1.21.1 in /usr/local/lib/python3.9/dist-packages (from requests->chart-studio) (1.26.15)\n",
            "Requirement already satisfied: certifi>=2017.4.17 in /usr/local/lib/python3.9/dist-packages (from requests->chart-studio) (2022.12.7)\n",
            "Installing collected packages: retrying, chart-studio\n",
            "Successfully installed chart-studio-1.1.0 retrying-1.3.4\n"
          ]
        }
      ],
      "source": [
        "pip install chart-studio"
      ]
    },
    {
      "cell_type": "code",
      "execution_count": null,
      "metadata": {
        "id": "9-VwAkt1wig5"
      },
      "outputs": [],
      "source": [
        "pip install -q -U tensorflow-addons"
      ]
    },
    {
      "cell_type": "code",
      "execution_count": null,
      "metadata": {
        "id": "MOMIOe2Xc7Pz"
      },
      "outputs": [],
      "source": [
        "import time\n",
        "start_time=time.time()"
      ]
    },
    {
      "cell_type": "markdown",
      "metadata": {
        "id": "im7SNt_ww_Lh"
      },
      "source": [
        "Import necessary libraries\n"
      ]
    },
    {
      "cell_type": "code",
      "execution_count": null,
      "metadata": {
        "colab": {
          "base_uri": "https://localhost:8080/",
          "height": 193
        },
        "id": "rNmRWY_0VttW",
        "outputId": "1a30140c-1405-45bd-8f59-8823f80a8cf7"
      },
      "outputs": [
        {
          "name": "stderr",
          "output_type": "stream",
          "text": [
            "/usr/local/lib/python3.9/dist-packages/tensorflow_addons/utils/tfa_eol_msg.py:23: UserWarning: \n",
            "\n",
            "TensorFlow Addons (TFA) has ended development and introduction of new features.\n",
            "TFA has entered a minimal maintenance and release mode until a planned end of life in May 2024.\n",
            "Please modify downstream libraries to take dependencies from other repositories in our TensorFlow community (e.g. Keras, Keras-CV, and Keras-NLP). \n",
            "\n",
            "For more information see: https://github.com/tensorflow/addons/issues/2807 \n",
            "\n",
            "  warnings.warn(\n"
          ]
        },
        {
          "data": {
            "text/html": [
              "        <script type=\"text/javascript\">\n",
              "        window.PlotlyConfig = {MathJaxConfig: 'local'};\n",
              "        if (window.MathJax && window.MathJax.Hub && window.MathJax.Hub.Config) {window.MathJax.Hub.Config({SVG: {font: \"STIX-Web\"}});}\n",
              "        if (typeof require !== 'undefined') {\n",
              "        require.undef(\"plotly\");\n",
              "        requirejs.config({\n",
              "            paths: {\n",
              "                'plotly': ['https://cdn.plot.ly/plotly-2.18.2.min']\n",
              "            }\n",
              "        });\n",
              "        require(['plotly'], function(Plotly) {\n",
              "            window._Plotly = Plotly;\n",
              "        });\n",
              "        }\n",
              "        </script>\n",
              "        "
            ]
          },
          "metadata": {},
          "output_type": "display_data"
        }
      ],
      "source": [
        "import warnings\n",
        "import numpy as np\n",
        "import pandas as pd\n",
        "import tensorflow\n",
        "import tensorflow_addons as tfa\n",
        "import matplotlib.pyplot as plt\n",
        "from tensorflow_addons.optimizers import LazyAdam\n",
        "from keras.layers import Dropout\n",
        "\n",
        "from keras.models import Sequential, Model\n",
        "from keras.layers.convolutional import Conv1D, MaxPooling1D\n",
        "from keras.layers import Dense, LSTM, RepeatVector, TimeDistributed, Flatten\n",
        "from sklearn.metrics import mean_squared_error\n",
        "from sklearn.preprocessing import OneHotEncoder\n",
        "from sklearn.model_selection import train_test_split\n",
        "from chart_studio import plotly as py\n",
        "import plotly.graph_objs as go\n",
        "from plotly.offline import init_notebook_mode, iplot\n",
        "\n",
        "%matplotlib inline\n",
        "warnings.filterwarnings(\"ignore\")\n",
        "init_notebook_mode(connected=True)\n",
        "\n",
        "from numpy.random import seed\n",
        "seed(1)\n",
        "from tensorflow import random\n",
        "random.set_seed(1)"
      ]
    },
    {
      "cell_type": "markdown",
      "metadata": {
        "id": "hTnF6K8GxN8F"
      },
      "source": [
        "LOAD DATA\n"
      ]
    },
    {
      "cell_type": "code",
      "execution_count": null,
      "metadata": {
        "id": "pD1D5c0uxTD9"
      },
      "outputs": [],
      "source": [
        "train = pd.read_csv('train.csv', parse_dates=['date'])\n",
        "test = pd.read_csv('test.csv', parse_dates=['date'])"
      ]
    },
    {
      "cell_type": "markdown",
      "metadata": {
        "id": "llG5ek-HdyB2"
      },
      "source": [
        "One-hot Encoding"
      ]
    },
    {
      "cell_type": "code",
      "execution_count": null,
      "metadata": {
        "id": "KeH8xVlqANdX"
      },
      "outputs": [],
      "source": [
        "import pandas as pd\n",
        "import numpy as np\n",
        "\n",
        "train = pd.read_csv('train.csv', parse_dates=['date'])\n",
        "test = pd.read_csv('test.csv', parse_dates=['date'])\n",
        "\n",
        "# create new column weekday\n",
        "train['weekday'] = np.where(train['date'].dt.dayofweek < 5, 0, 1)\n",
        "test['weekday'] = np.where(test['date'].dt.dayofweek < 5, 0, 1)\n",
        "# perform one-hot encoding\n",
        "train = pd.get_dummies(train, columns=['weekday'])\n",
        "test = pd.get_dummies(test, columns=['weekday'])\n",
        "\n",
        "#fill sales data with 0 in test set\n",
        "test['sales'] = 0\n"
      ]
    },
    {
      "cell_type": "markdown",
      "metadata": {
        "id": "X1QRlbvmd--r"
      },
      "source": [
        "MinMax Scaling"
      ]
    },
    {
      "cell_type": "code",
      "execution_count": null,
      "metadata": {
        "id": "RH6yNo6YC5cf"
      },
      "outputs": [],
      "source": [
        "import numpy as np\n",
        "from sklearn.preprocessing import MinMaxScaler\n",
        "\n",
        "# Convert the 'date' column to datetime format\n",
        "train['date'] = pd.to_datetime(train['date'])\n",
        "\n",
        "# Create weekday and weekend indicator variables based on the 'date' column\n",
        "train['weekday_weekend'] = np.where(train['date'].dt.weekday < 5, 'weekday', 'weekend')\n",
        "\n",
        "# Select columns to be scaled\n",
        "val_cols = ['store', 'item']\n",
        "num_cols = ['sales']\n",
        "\n",
        "# Scale the numerical columns using MinMaxScaler\n",
        "scaler = MinMaxScaler(feature_range=(0, 190))\n",
        "train[num_cols] = scaler.fit_transform(train[num_cols])\n",
        "\n",
        "# Add the 'date', 'store', and 'item' columns back to the dataset\n",
        "train = train[['date'] + val_cols + num_cols + ['weekday_weekend']]"
      ]
    },
    {
      "cell_type": "markdown",
      "metadata": {
        "id": "6JgwgmgcxY0l"
      },
      "source": [
        "**Train** data description\n"
      ]
    },
    {
      "cell_type": "code",
      "execution_count": null,
      "metadata": {
        "colab": {
          "base_uri": "https://localhost:8080/"
        },
        "id": "txtidyE0cGhm",
        "outputId": "54a0a11d-df0b-4008-b825-f85a30fc9bf2"
      },
      "outputs": [
        {
          "name": "stdout",
          "output_type": "stream",
          "text": [
            "               store           item          sales\n",
            "count  913000.000000  913000.000000  913000.000000\n",
            "mean        5.500000      25.500000      42.976427\n",
            "std         2.872283      14.430878      23.689252\n",
            "min         1.000000       1.000000       0.000000\n",
            "25%         3.000000      13.000000      24.675325\n",
            "50%         5.500000      25.500000      38.658009\n",
            "75%         8.000000      38.000000      57.575758\n",
            "max        10.000000      50.000000     190.000000\n",
            "        date  store  item      sales weekday_weekend\n",
            "0 2013-01-01      1     1  10.692641         weekday\n",
            "1 2013-02-01      1     1   9.047619         weekday\n",
            "2 2013-03-01      1     1  11.515152         weekday\n",
            "3 2013-04-01      1     1  10.692641         weekday\n",
            "4 2013-05-01      1     1   8.225108         weekday\n"
          ]
        }
      ],
      "source": [
        "print(train.describe())\n",
        "print(train.head())"
      ]
    },
    {
      "cell_type": "code",
      "execution_count": null,
      "metadata": {
        "id": "Ki20CvJmN54Y"
      },
      "outputs": [],
      "source": [
        "import pandas as pd\n",
        "# sort the 'date' column in each DataFrame in descending order\n",
        "train = train.sort_values('date', ascending=True)\n",
        "test = test.sort_values('date', ascending=True)\n",
        "\n",
        "# extract the latest date from each DataFrame\n",
        "train_last_date = train.iloc[-1]['date']\n",
        "test_last_date = test.iloc[-1]['date']\n",
        "\n",
        "# convert latest dates to datetime objects and format them as strings\n",
        "train_last_date = pd.to_datetime(train_last_date).strftime('%Y-%m-%d')\n",
        "test_last_date = pd.to_datetime(test_last_date).strftime('%Y-%m-%d')"
      ]
    },
    {
      "cell_type": "code",
      "execution_count": null,
      "metadata": {
        "colab": {
          "base_uri": "https://localhost:8080/"
        },
        "id": "qE3LgCxVxjg8",
        "outputId": "ab49a904-47e1-47b1-8a9d-18b95709ab41"
      },
      "outputs": [
        {
          "name": "stdout",
          "output_type": "stream",
          "text": [
            "Train set date range: 2013-01-01 00:00:00 to 2017-12-31 00:00:00\n",
            "Test set date range: 2018-01-01 00:00:00 to 2018-12-03 00:00:00\n"
          ]
        }
      ],
      "source": [
        "# Print minimum and maximum date of train set\n",
        "print(\"Train set date range: {} to {}\".format(train['date'].min(), train['date'].max()))\n",
        "\n",
        "# Print minimum and maximum date of test set\n",
        "print(\"Test set date range: {} to {}\".format(test['date'].min(), test['date'].max()))"
      ]
    },
    {
      "cell_type": "code",
      "execution_count": null,
      "metadata": {
        "colab": {
          "base_uri": "https://localhost:8080/"
        },
        "id": "oqpx0_LwxqwM",
        "outputId": "f74333b7-4ea6-4286-bd46-43384fcd7ce2"
      },
      "outputs": [
        {
          "name": "stdout",
          "output_type": "stream",
          "text": [
            "Train last date: 2017-12-31\n",
            "Test last date: 2018-12-03\n",
            "Number of days between train and test last dates: 337\n"
          ]
        }
      ],
      "source": [
        "# print the latest dates and the number of days between them\n",
        "print(\"Train last date:\", train_last_date)\n",
        "print(\"Test last date:\", test_last_date)\n",
        "lag_size = (pd.to_datetime(test_last_date) - pd.to_datetime(train_last_date)).days\n",
        "print(\"Number of days between train and test last dates:\", lag_size)\n"
      ]
    },
    {
      "cell_type": "code",
      "execution_count": null,
      "metadata": {
        "id": "ZyHBerwAxuX0"
      },
      "outputs": [],
      "source": [
        "daily_sales = train.groupby('date', as_index=False)['sales'].sum()\n",
        "store_daily_sales = train.groupby(['store', 'date'], as_index=False)['sales'].sum()\n",
        "item_daily_sales = train.groupby(['item', 'date'], as_index=False)['sales'].sum()"
      ]
    },
    {
      "cell_type": "code",
      "execution_count": null,
      "metadata": {
        "colab": {
          "base_uri": "https://localhost:8080/",
          "height": 542
        },
        "id": "Kd_MndMUx1CM",
        "outputId": "064830a7-4fd2-4905-c170-48572b568a13"
      },
      "outputs": [
        {
          "data": {
            "text/html": [
              "<html>\n",
              "<head><meta charset=\"utf-8\" /></head>\n",
              "<body>\n",
              "    <div>            <script src=\"https://cdnjs.cloudflare.com/ajax/libs/mathjax/2.7.5/MathJax.js?config=TeX-AMS-MML_SVG\"></script><script type=\"text/javascript\">if (window.MathJax && window.MathJax.Hub && window.MathJax.Hub.Config) {window.MathJax.Hub.Config({SVG: {font: \"STIX-Web\"}});}</script>                <script type=\"text/javascript\">window.PlotlyConfig = {MathJaxConfig: 'local'};</script>\n",
              "        <script src=\"https://cdn.plot.ly/plotly-2.18.2.min.js\"></script>                <div id=\"fe452889-051e-4191-a17e-5aafc4aa736a\" class=\"plotly-graph-div\" style=\"height:525px; width:100%;\"></div>            <script type=\"text/javascript\">                                    window.PLOTLYENV=window.PLOTLYENV || {};                                    if (document.getElementById(\"fe452889-051e-4191-a17e-5aafc4aa736a\")) {                    Plotly.newPlot(                        \"fe452889-051e-4191-a17e-5aafc4aa736a\",                        [{\"x\":[\"2013-01-01T00:00:00\",\"2013-01-02T00:00:00\",\"2013-01-03T00:00:00\",\"2013-01-04T00:00:00\",\"2013-01-05T00:00:00\",\"2013-01-06T00:00:00\",\"2013-01-07T00:00:00\",\"2013-01-08T00:00:00\",\"2013-01-09T00:00:00\",\"2013-01-10T00:00:00\",\"2013-01-11T00:00:00\",\"2013-01-12T00:00:00\",\"2013-01-13T00:00:00\",\"2013-01-14T00:00:00\",\"2013-01-15T00:00:00\",\"2013-01-16T00:00:00\",\"2013-01-17T00:00:00\",\"2013-01-18T00:00:00\",\"2013-01-19T00:00:00\",\"2013-01-20T00:00:00\",\"2013-01-21T00:00:00\",\"2013-01-22T00:00:00\",\"2013-01-23T00:00:00\",\"2013-01-24T00:00:00\",\"2013-01-25T00:00:00\",\"2013-01-26T00:00:00\",\"2013-01-27T00:00:00\",\"2013-01-28T00:00:00\",\"2013-01-29T00:00:00\",\"2013-01-30T00:00:00\",\"2013-01-31T00:00:00\",\"2013-02-01T00:00:00\",\"2013-02-02T00:00:00\",\"2013-02-03T00:00:00\",\"2013-02-04T00:00:00\",\"2013-02-05T00:00:00\",\"2013-02-06T00:00:00\",\"2013-02-07T00:00:00\",\"2013-02-08T00:00:00\",\"2013-02-09T00:00:00\",\"2013-02-10T00:00:00\",\"2013-02-11T00:00:00\",\"2013-02-12T00:00:00\",\"2013-02-13T00:00:00\",\"2013-02-14T00:00:00\",\"2013-02-15T00:00:00\",\"2013-02-16T00:00:00\",\"2013-02-17T00:00:00\",\"2013-02-18T00:00:00\",\"2013-02-19T00:00:00\",\"2013-02-20T00:00:00\",\"2013-02-21T00:00:00\",\"2013-02-22T00:00:00\",\"2013-02-23T00:00:00\",\"2013-02-24T00:00:00\",\"2013-02-25T00:00:00\",\"2013-02-26T00:00:00\",\"2013-02-27T00:00:00\",\"2013-02-28T00:00:00\",\"2013-03-01T00:00:00\",\"2013-03-02T00:00:00\",\"2013-03-03T00:00:00\",\"2013-03-04T00:00:00\",\"2013-03-05T00:00:00\",\"2013-03-06T00:00:00\",\"2013-03-07T00:00:00\",\"2013-03-08T00:00:00\",\"2013-03-09T00:00:00\",\"2013-03-10T00:00:00\",\"2013-03-11T00:00:00\",\"2013-03-12T00:00:00\",\"2013-03-13T00:00:00\",\"2013-03-14T00:00:00\",\"2013-03-15T00:00:00\",\"2013-03-16T00:00:00\",\"2013-03-17T00:00:00\",\"2013-03-18T00:00:00\",\"2013-03-19T00:00:00\",\"2013-03-20T00:00:00\",\"2013-03-21T00:00:00\",\"2013-03-22T00:00:00\",\"2013-03-23T00:00:00\",\"2013-03-24T00:00:00\",\"2013-03-25T00:00:00\",\"2013-03-26T00:00:00\",\"2013-03-27T00:00:00\",\"2013-03-28T00:00:00\",\"2013-03-29T00:00:00\",\"2013-03-30T00:00:00\",\"2013-03-31T00:00:00\",\"2013-04-01T00:00:00\",\"2013-04-02T00:00:00\",\"2013-04-03T00:00:00\",\"2013-04-04T00:00:00\",\"2013-04-05T00:00:00\",\"2013-04-06T00:00:00\",\"2013-04-07T00:00:00\",\"2013-04-08T00:00:00\",\"2013-04-09T00:00:00\",\"2013-04-10T00:00:00\",\"2013-04-11T00:00:00\",\"2013-04-12T00:00:00\",\"2013-04-13T00:00:00\",\"2013-04-14T00:00:00\",\"2013-04-15T00:00:00\",\"2013-04-16T00:00:00\",\"2013-04-17T00:00:00\",\"2013-04-18T00:00:00\",\"2013-04-19T00:00:00\",\"2013-04-20T00:00:00\",\"2013-04-21T00:00:00\",\"2013-04-22T00:00:00\",\"2013-04-23T00:00:00\",\"2013-04-24T00:00:00\",\"2013-04-25T00:00:00\",\"2013-04-26T00:00:00\",\"2013-04-27T00:00:00\",\"2013-04-28T00:00:00\",\"2013-04-29T00:00:00\",\"2013-04-30T00:00:00\",\"2013-05-01T00:00:00\",\"2013-05-02T00:00:00\",\"2013-05-03T00:00:00\",\"2013-05-04T00:00:00\",\"2013-05-05T00:00:00\",\"2013-05-06T00:00:00\",\"2013-05-07T00:00:00\",\"2013-05-08T00:00:00\",\"2013-05-09T00:00:00\",\"2013-05-10T00:00:00\",\"2013-05-11T00:00:00\",\"2013-05-12T00:00:00\",\"2013-05-13T00:00:00\",\"2013-05-14T00:00:00\",\"2013-05-15T00:00:00\",\"2013-05-16T00:00:00\",\"2013-05-17T00:00:00\",\"2013-05-18T00:00:00\",\"2013-05-19T00:00:00\",\"2013-05-20T00:00:00\",\"2013-05-21T00:00:00\",\"2013-05-22T00:00:00\",\"2013-05-23T00:00:00\",\"2013-05-24T00:00:00\",\"2013-05-25T00:00:00\",\"2013-05-26T00:00:00\",\"2013-05-27T00:00:00\",\"2013-05-28T00:00:00\",\"2013-05-29T00:00:00\",\"2013-05-30T00:00:00\",\"2013-05-31T00:00:00\",\"2013-06-01T00:00:00\",\"2013-06-02T00:00:00\",\"2013-06-03T00:00:00\",\"2013-06-04T00:00:00\",\"2013-06-05T00:00:00\",\"2013-06-06T00:00:00\",\"2013-06-07T00:00:00\",\"2013-06-08T00:00:00\",\"2013-06-09T00:00:00\",\"2013-06-10T00:00:00\",\"2013-06-11T00:00:00\",\"2013-06-12T00:00:00\",\"2013-06-13T00:00:00\",\"2013-06-14T00:00:00\",\"2013-06-15T00:00:00\",\"2013-06-16T00:00:00\",\"2013-06-17T00:00:00\",\"2013-06-18T00:00:00\",\"2013-06-19T00:00:00\",\"2013-06-20T00:00:00\",\"2013-06-21T00:00:00\",\"2013-06-22T00:00:00\",\"2013-06-23T00:00:00\",\"2013-06-24T00:00:00\",\"2013-06-25T00:00:00\",\"2013-06-26T00:00:00\",\"2013-06-27T00:00:00\",\"2013-06-28T00:00:00\",\"2013-06-29T00:00:00\",\"2013-06-30T00:00:00\",\"2013-07-01T00:00:00\",\"2013-07-02T00:00:00\",\"2013-07-03T00:00:00\",\"2013-07-04T00:00:00\",\"2013-07-05T00:00:00\",\"2013-07-06T00:00:00\",\"2013-07-07T00:00:00\",\"2013-07-08T00:00:00\",\"2013-07-09T00:00:00\",\"2013-07-10T00:00:00\",\"2013-07-11T00:00:00\",\"2013-07-12T00:00:00\",\"2013-07-13T00:00:00\",\"2013-07-14T00:00:00\",\"2013-07-15T00:00:00\",\"2013-07-16T00:00:00\",\"2013-07-17T00:00:00\",\"2013-07-18T00:00:00\",\"2013-07-19T00:00:00\",\"2013-07-20T00:00:00\",\"2013-07-21T00:00:00\",\"2013-07-22T00:00:00\",\"2013-07-23T00:00:00\",\"2013-07-24T00:00:00\",\"2013-07-25T00:00:00\",\"2013-07-26T00:00:00\",\"2013-07-27T00:00:00\",\"2013-07-28T00:00:00\",\"2013-07-29T00:00:00\",\"2013-07-30T00:00:00\",\"2013-07-31T00:00:00\",\"2013-08-01T00:00:00\",\"2013-08-02T00:00:00\",\"2013-08-03T00:00:00\",\"2013-08-04T00:00:00\",\"2013-08-05T00:00:00\",\"2013-08-06T00:00:00\",\"2013-08-07T00:00:00\",\"2013-08-08T00:00:00\",\"2013-08-09T00:00:00\",\"2013-08-10T00:00:00\",\"2013-08-11T00:00:00\",\"2013-08-12T00:00:00\",\"2013-08-13T00:00:00\",\"2013-08-14T00:00:00\",\"2013-08-15T00:00:00\",\"2013-08-16T00:00:00\",\"2013-08-17T00:00:00\",\"2013-08-18T00:00:00\",\"2013-08-19T00:00:00\",\"2013-08-20T00:00:00\",\"2013-08-21T00:00:00\",\"2013-08-22T00:00:00\",\"2013-08-23T00:00:00\",\"2013-08-24T00:00:00\",\"2013-08-25T00:00:00\",\"2013-08-26T00:00:00\",\"2013-08-27T00:00:00\",\"2013-08-28T00:00:00\",\"2013-08-29T00:00:00\",\"2013-08-30T00:00:00\",\"2013-08-31T00:00:00\",\"2013-09-01T00:00:00\",\"2013-09-02T00:00:00\",\"2013-09-03T00:00:00\",\"2013-09-04T00:00:00\",\"2013-09-05T00:00:00\",\"2013-09-06T00:00:00\",\"2013-09-07T00:00:00\",\"2013-09-08T00:00:00\",\"2013-09-09T00:00:00\",\"2013-09-10T00:00:00\",\"2013-09-11T00:00:00\",\"2013-09-12T00:00:00\",\"2013-09-13T00:00:00\",\"2013-09-14T00:00:00\",\"2013-09-15T00:00:00\",\"2013-09-16T00:00:00\",\"2013-09-17T00:00:00\",\"2013-09-18T00:00:00\",\"2013-09-19T00:00:00\",\"2013-09-20T00:00:00\",\"2013-09-21T00:00:00\",\"2013-09-22T00:00:00\",\"2013-09-23T00:00:00\",\"2013-09-24T00:00:00\",\"2013-09-25T00:00:00\",\"2013-09-26T00:00:00\",\"2013-09-27T00:00:00\",\"2013-09-28T00:00:00\",\"2013-09-29T00:00:00\",\"2013-09-30T00:00:00\",\"2013-10-01T00:00:00\",\"2013-10-02T00:00:00\",\"2013-10-03T00:00:00\",\"2013-10-04T00:00:00\",\"2013-10-05T00:00:00\",\"2013-10-06T00:00:00\",\"2013-10-07T00:00:00\",\"2013-10-08T00:00:00\",\"2013-10-09T00:00:00\",\"2013-10-10T00:00:00\",\"2013-10-11T00:00:00\",\"2013-10-12T00:00:00\",\"2013-10-13T00:00:00\",\"2013-10-14T00:00:00\",\"2013-10-15T00:00:00\",\"2013-10-16T00:00:00\",\"2013-10-17T00:00:00\",\"2013-10-18T00:00:00\",\"2013-10-19T00:00:00\",\"2013-10-20T00:00:00\",\"2013-10-21T00:00:00\",\"2013-10-22T00:00:00\",\"2013-10-23T00:00:00\",\"2013-10-24T00:00:00\",\"2013-10-25T00:00:00\",\"2013-10-26T00:00:00\",\"2013-10-27T00:00:00\",\"2013-10-28T00:00:00\",\"2013-10-29T00:00:00\",\"2013-10-30T00:00:00\",\"2013-10-31T00:00:00\",\"2013-11-01T00:00:00\",\"2013-11-02T00:00:00\",\"2013-11-03T00:00:00\",\"2013-11-04T00:00:00\",\"2013-11-05T00:00:00\",\"2013-11-06T00:00:00\",\"2013-11-07T00:00:00\",\"2013-11-08T00:00:00\",\"2013-11-09T00:00:00\",\"2013-11-10T00:00:00\",\"2013-11-11T00:00:00\",\"2013-11-12T00:00:00\",\"2013-11-13T00:00:00\",\"2013-11-14T00:00:00\",\"2013-11-15T00:00:00\",\"2013-11-16T00:00:00\",\"2013-11-17T00:00:00\",\"2013-11-18T00:00:00\",\"2013-11-19T00:00:00\",\"2013-11-20T00:00:00\",\"2013-11-21T00:00:00\",\"2013-11-22T00:00:00\",\"2013-11-23T00:00:00\",\"2013-11-24T00:00:00\",\"2013-11-25T00:00:00\",\"2013-11-26T00:00:00\",\"2013-11-27T00:00:00\",\"2013-11-28T00:00:00\",\"2013-11-29T00:00:00\",\"2013-11-30T00:00:00\",\"2013-12-01T00:00:00\",\"2013-12-02T00:00:00\",\"2013-12-03T00:00:00\",\"2013-12-04T00:00:00\",\"2013-12-05T00:00:00\",\"2013-12-06T00:00:00\",\"2013-12-07T00:00:00\",\"2013-12-08T00:00:00\",\"2013-12-09T00:00:00\",\"2013-12-10T00:00:00\",\"2013-12-11T00:00:00\",\"2013-12-12T00:00:00\",\"2013-12-13T00:00:00\",\"2013-12-14T00:00:00\",\"2013-12-15T00:00:00\",\"2013-12-16T00:00:00\",\"2013-12-17T00:00:00\",\"2013-12-18T00:00:00\",\"2013-12-19T00:00:00\",\"2013-12-20T00:00:00\",\"2013-12-21T00:00:00\",\"2013-12-22T00:00:00\",\"2013-12-23T00:00:00\",\"2013-12-24T00:00:00\",\"2013-12-25T00:00:00\",\"2013-12-26T00:00:00\",\"2013-12-27T00:00:00\",\"2013-12-28T00:00:00\",\"2013-12-29T00:00:00\",\"2013-12-30T00:00:00\",\"2013-12-31T00:00:00\",\"2014-01-01T00:00:00\",\"2014-01-02T00:00:00\",\"2014-01-03T00:00:00\",\"2014-01-04T00:00:00\",\"2014-01-05T00:00:00\",\"2014-01-06T00:00:00\",\"2014-01-07T00:00:00\",\"2014-01-08T00:00:00\",\"2014-01-09T00:00:00\",\"2014-01-10T00:00:00\",\"2014-01-11T00:00:00\",\"2014-01-12T00:00:00\",\"2014-01-13T00:00:00\",\"2014-01-14T00:00:00\",\"2014-01-15T00:00:00\",\"2014-01-16T00:00:00\",\"2014-01-17T00:00:00\",\"2014-01-18T00:00:00\",\"2014-01-19T00:00:00\",\"2014-01-20T00:00:00\",\"2014-01-21T00:00:00\",\"2014-01-22T00:00:00\",\"2014-01-23T00:00:00\",\"2014-01-24T00:00:00\",\"2014-01-25T00:00:00\",\"2014-01-26T00:00:00\",\"2014-01-27T00:00:00\",\"2014-01-28T00:00:00\",\"2014-01-29T00:00:00\",\"2014-01-30T00:00:00\",\"2014-01-31T00:00:00\",\"2014-02-01T00:00:00\",\"2014-02-02T00:00:00\",\"2014-02-03T00:00:00\",\"2014-02-04T00:00:00\",\"2014-02-05T00:00:00\",\"2014-02-06T00:00:00\",\"2014-02-07T00:00:00\",\"2014-02-08T00:00:00\",\"2014-02-09T00:00:00\",\"2014-02-10T00:00:00\",\"2014-02-11T00:00:00\",\"2014-02-12T00:00:00\",\"2014-02-13T00:00:00\",\"2014-02-14T00:00:00\",\"2014-02-15T00:00:00\",\"2014-02-16T00:00:00\",\"2014-02-17T00:00:00\",\"2014-02-18T00:00:00\",\"2014-02-19T00:00:00\",\"2014-02-20T00:00:00\",\"2014-02-21T00:00:00\",\"2014-02-22T00:00:00\",\"2014-02-23T00:00:00\",\"2014-02-24T00:00:00\",\"2014-02-25T00:00:00\",\"2014-02-26T00:00:00\",\"2014-02-27T00:00:00\",\"2014-02-28T00:00:00\",\"2014-03-01T00:00:00\",\"2014-03-02T00:00:00\",\"2014-03-03T00:00:00\",\"2014-03-04T00:00:00\",\"2014-03-05T00:00:00\",\"2014-03-06T00:00:00\",\"2014-03-07T00:00:00\",\"2014-03-08T00:00:00\",\"2014-03-09T00:00:00\",\"2014-03-10T00:00:00\",\"2014-03-11T00:00:00\",\"2014-03-12T00:00:00\",\"2014-03-13T00:00:00\",\"2014-03-14T00:00:00\",\"2014-03-15T00:00:00\",\"2014-03-16T00:00:00\",\"2014-03-17T00:00:00\",\"2014-03-18T00:00:00\",\"2014-03-19T00:00:00\",\"2014-03-20T00:00:00\",\"2014-03-21T00:00:00\",\"2014-03-22T00:00:00\",\"2014-03-23T00:00:00\",\"2014-03-24T00:00:00\",\"2014-03-25T00:00:00\",\"2014-03-26T00:00:00\",\"2014-03-27T00:00:00\",\"2014-03-28T00:00:00\",\"2014-03-29T00:00:00\",\"2014-03-30T00:00:00\",\"2014-03-31T00:00:00\",\"2014-04-01T00:00:00\",\"2014-04-02T00:00:00\",\"2014-04-03T00:00:00\",\"2014-04-04T00:00:00\",\"2014-04-05T00:00:00\",\"2014-04-06T00:00:00\",\"2014-04-07T00:00:00\",\"2014-04-08T00:00:00\",\"2014-04-09T00:00:00\",\"2014-04-10T00:00:00\",\"2014-04-11T00:00:00\",\"2014-04-12T00:00:00\",\"2014-04-13T00:00:00\",\"2014-04-14T00:00:00\",\"2014-04-15T00:00:00\",\"2014-04-16T00:00:00\",\"2014-04-17T00:00:00\",\"2014-04-18T00:00:00\",\"2014-04-19T00:00:00\",\"2014-04-20T00:00:00\",\"2014-04-21T00:00:00\",\"2014-04-22T00:00:00\",\"2014-04-23T00:00:00\",\"2014-04-24T00:00:00\",\"2014-04-25T00:00:00\",\"2014-04-26T00:00:00\",\"2014-04-27T00:00:00\",\"2014-04-28T00:00:00\",\"2014-04-29T00:00:00\",\"2014-04-30T00:00:00\",\"2014-05-01T00:00:00\",\"2014-05-02T00:00:00\",\"2014-05-03T00:00:00\",\"2014-05-04T00:00:00\",\"2014-05-05T00:00:00\",\"2014-05-06T00:00:00\",\"2014-05-07T00:00:00\",\"2014-05-08T00:00:00\",\"2014-05-09T00:00:00\",\"2014-05-10T00:00:00\",\"2014-05-11T00:00:00\",\"2014-05-12T00:00:00\",\"2014-05-13T00:00:00\",\"2014-05-14T00:00:00\",\"2014-05-15T00:00:00\",\"2014-05-16T00:00:00\",\"2014-05-17T00:00:00\",\"2014-05-18T00:00:00\",\"2014-05-19T00:00:00\",\"2014-05-20T00:00:00\",\"2014-05-21T00:00:00\",\"2014-05-22T00:00:00\",\"2014-05-23T00:00:00\",\"2014-05-24T00:00:00\",\"2014-05-25T00:00:00\",\"2014-05-26T00:00:00\",\"2014-05-27T00:00:00\",\"2014-05-28T00:00:00\",\"2014-05-29T00:00:00\",\"2014-05-30T00:00:00\",\"2014-05-31T00:00:00\",\"2014-06-01T00:00:00\",\"2014-06-02T00:00:00\",\"2014-06-03T00:00:00\",\"2014-06-04T00:00:00\",\"2014-06-05T00:00:00\",\"2014-06-06T00:00:00\",\"2014-06-07T00:00:00\",\"2014-06-08T00:00:00\",\"2014-06-09T00:00:00\",\"2014-06-10T00:00:00\",\"2014-06-11T00:00:00\",\"2014-06-12T00:00:00\",\"2014-06-13T00:00:00\",\"2014-06-14T00:00:00\",\"2014-06-15T00:00:00\",\"2014-06-16T00:00:00\",\"2014-06-17T00:00:00\",\"2014-06-18T00:00:00\",\"2014-06-19T00:00:00\",\"2014-06-20T00:00:00\",\"2014-06-21T00:00:00\",\"2014-06-22T00:00:00\",\"2014-06-23T00:00:00\",\"2014-06-24T00:00:00\",\"2014-06-25T00:00:00\",\"2014-06-26T00:00:00\",\"2014-06-27T00:00:00\",\"2014-06-28T00:00:00\",\"2014-06-29T00:00:00\",\"2014-06-30T00:00:00\",\"2014-07-01T00:00:00\",\"2014-07-02T00:00:00\",\"2014-07-03T00:00:00\",\"2014-07-04T00:00:00\",\"2014-07-05T00:00:00\",\"2014-07-06T00:00:00\",\"2014-07-07T00:00:00\",\"2014-07-08T00:00:00\",\"2014-07-09T00:00:00\",\"2014-07-10T00:00:00\",\"2014-07-11T00:00:00\",\"2014-07-12T00:00:00\",\"2014-07-13T00:00:00\",\"2014-07-14T00:00:00\",\"2014-07-15T00:00:00\",\"2014-07-16T00:00:00\",\"2014-07-17T00:00:00\",\"2014-07-18T00:00:00\",\"2014-07-19T00:00:00\",\"2014-07-20T00:00:00\",\"2014-07-21T00:00:00\",\"2014-07-22T00:00:00\",\"2014-07-23T00:00:00\",\"2014-07-24T00:00:00\",\"2014-07-25T00:00:00\",\"2014-07-26T00:00:00\",\"2014-07-27T00:00:00\",\"2014-07-28T00:00:00\",\"2014-07-29T00:00:00\",\"2014-07-30T00:00:00\",\"2014-07-31T00:00:00\",\"2014-08-01T00:00:00\",\"2014-08-02T00:00:00\",\"2014-08-03T00:00:00\",\"2014-08-04T00:00:00\",\"2014-08-05T00:00:00\",\"2014-08-06T00:00:00\",\"2014-08-07T00:00:00\",\"2014-08-08T00:00:00\",\"2014-08-09T00:00:00\",\"2014-08-10T00:00:00\",\"2014-08-11T00:00:00\",\"2014-08-12T00:00:00\",\"2014-08-13T00:00:00\",\"2014-08-14T00:00:00\",\"2014-08-15T00:00:00\",\"2014-08-16T00:00:00\",\"2014-08-17T00:00:00\",\"2014-08-18T00:00:00\",\"2014-08-19T00:00:00\",\"2014-08-20T00:00:00\",\"2014-08-21T00:00:00\",\"2014-08-22T00:00:00\",\"2014-08-23T00:00:00\",\"2014-08-24T00:00:00\",\"2014-08-25T00:00:00\",\"2014-08-26T00:00:00\",\"2014-08-27T00:00:00\",\"2014-08-28T00:00:00\",\"2014-08-29T00:00:00\",\"2014-08-30T00:00:00\",\"2014-08-31T00:00:00\",\"2014-09-01T00:00:00\",\"2014-09-02T00:00:00\",\"2014-09-03T00:00:00\",\"2014-09-04T00:00:00\",\"2014-09-05T00:00:00\",\"2014-09-06T00:00:00\",\"2014-09-07T00:00:00\",\"2014-09-08T00:00:00\",\"2014-09-09T00:00:00\",\"2014-09-10T00:00:00\",\"2014-09-11T00:00:00\",\"2014-09-12T00:00:00\",\"2014-09-13T00:00:00\",\"2014-09-14T00:00:00\",\"2014-09-15T00:00:00\",\"2014-09-16T00:00:00\",\"2014-09-17T00:00:00\",\"2014-09-18T00:00:00\",\"2014-09-19T00:00:00\",\"2014-09-20T00:00:00\",\"2014-09-21T00:00:00\",\"2014-09-22T00:00:00\",\"2014-09-23T00:00:00\",\"2014-09-24T00:00:00\",\"2014-09-25T00:00:00\",\"2014-09-26T00:00:00\",\"2014-09-27T00:00:00\",\"2014-09-28T00:00:00\",\"2014-09-29T00:00:00\",\"2014-09-30T00:00:00\",\"2014-10-01T00:00:00\",\"2014-10-02T00:00:00\",\"2014-10-03T00:00:00\",\"2014-10-04T00:00:00\",\"2014-10-05T00:00:00\",\"2014-10-06T00:00:00\",\"2014-10-07T00:00:00\",\"2014-10-08T00:00:00\",\"2014-10-09T00:00:00\",\"2014-10-10T00:00:00\",\"2014-10-11T00:00:00\",\"2014-10-12T00:00:00\",\"2014-10-13T00:00:00\",\"2014-10-14T00:00:00\",\"2014-10-15T00:00:00\",\"2014-10-16T00:00:00\",\"2014-10-17T00:00:00\",\"2014-10-18T00:00:00\",\"2014-10-19T00:00:00\",\"2014-10-20T00:00:00\",\"2014-10-21T00:00:00\",\"2014-10-22T00:00:00\",\"2014-10-23T00:00:00\",\"2014-10-24T00:00:00\",\"2014-10-25T00:00:00\",\"2014-10-26T00:00:00\",\"2014-10-27T00:00:00\",\"2014-10-28T00:00:00\",\"2014-10-29T00:00:00\",\"2014-10-30T00:00:00\",\"2014-10-31T00:00:00\",\"2014-11-01T00:00:00\",\"2014-11-02T00:00:00\",\"2014-11-03T00:00:00\",\"2014-11-04T00:00:00\",\"2014-11-05T00:00:00\",\"2014-11-06T00:00:00\",\"2014-11-07T00:00:00\",\"2014-11-08T00:00:00\",\"2014-11-09T00:00:00\",\"2014-11-10T00:00:00\",\"2014-11-11T00:00:00\",\"2014-11-12T00:00:00\",\"2014-11-13T00:00:00\",\"2014-11-14T00:00:00\",\"2014-11-15T00:00:00\",\"2014-11-16T00:00:00\",\"2014-11-17T00:00:00\",\"2014-11-18T00:00:00\",\"2014-11-19T00:00:00\",\"2014-11-20T00:00:00\",\"2014-11-21T00:00:00\",\"2014-11-22T00:00:00\",\"2014-11-23T00:00:00\",\"2014-11-24T00:00:00\",\"2014-11-25T00:00:00\",\"2014-11-26T00:00:00\",\"2014-11-27T00:00:00\",\"2014-11-28T00:00:00\",\"2014-11-29T00:00:00\",\"2014-11-30T00:00:00\",\"2014-12-01T00:00:00\",\"2014-12-02T00:00:00\",\"2014-12-03T00:00:00\",\"2014-12-04T00:00:00\",\"2014-12-05T00:00:00\",\"2014-12-06T00:00:00\",\"2014-12-07T00:00:00\",\"2014-12-08T00:00:00\",\"2014-12-09T00:00:00\",\"2014-12-10T00:00:00\",\"2014-12-11T00:00:00\",\"2014-12-12T00:00:00\",\"2014-12-13T00:00:00\",\"2014-12-14T00:00:00\",\"2014-12-15T00:00:00\",\"2014-12-16T00:00:00\",\"2014-12-17T00:00:00\",\"2014-12-18T00:00:00\",\"2014-12-19T00:00:00\",\"2014-12-20T00:00:00\",\"2014-12-21T00:00:00\",\"2014-12-22T00:00:00\",\"2014-12-23T00:00:00\",\"2014-12-24T00:00:00\",\"2014-12-25T00:00:00\",\"2014-12-26T00:00:00\",\"2014-12-27T00:00:00\",\"2014-12-28T00:00:00\",\"2014-12-29T00:00:00\",\"2014-12-30T00:00:00\",\"2014-12-31T00:00:00\",\"2015-01-01T00:00:00\",\"2015-01-02T00:00:00\",\"2015-01-03T00:00:00\",\"2015-01-04T00:00:00\",\"2015-01-05T00:00:00\",\"2015-01-06T00:00:00\",\"2015-01-07T00:00:00\",\"2015-01-08T00:00:00\",\"2015-01-09T00:00:00\",\"2015-01-10T00:00:00\",\"2015-01-11T00:00:00\",\"2015-01-12T00:00:00\",\"2015-01-13T00:00:00\",\"2015-01-14T00:00:00\",\"2015-01-15T00:00:00\",\"2015-01-16T00:00:00\",\"2015-01-17T00:00:00\",\"2015-01-18T00:00:00\",\"2015-01-19T00:00:00\",\"2015-01-20T00:00:00\",\"2015-01-21T00:00:00\",\"2015-01-22T00:00:00\",\"2015-01-23T00:00:00\",\"2015-01-24T00:00:00\",\"2015-01-25T00:00:00\",\"2015-01-26T00:00:00\",\"2015-01-27T00:00:00\",\"2015-01-28T00:00:00\",\"2015-01-29T00:00:00\",\"2015-01-30T00:00:00\",\"2015-01-31T00:00:00\",\"2015-02-01T00:00:00\",\"2015-02-02T00:00:00\",\"2015-02-03T00:00:00\",\"2015-02-04T00:00:00\",\"2015-02-05T00:00:00\",\"2015-02-06T00:00:00\",\"2015-02-07T00:00:00\",\"2015-02-08T00:00:00\",\"2015-02-09T00:00:00\",\"2015-02-10T00:00:00\",\"2015-02-11T00:00:00\",\"2015-02-12T00:00:00\",\"2015-02-13T00:00:00\",\"2015-02-14T00:00:00\",\"2015-02-15T00:00:00\",\"2015-02-16T00:00:00\",\"2015-02-17T00:00:00\",\"2015-02-18T00:00:00\",\"2015-02-19T00:00:00\",\"2015-02-20T00:00:00\",\"2015-02-21T00:00:00\",\"2015-02-22T00:00:00\",\"2015-02-23T00:00:00\",\"2015-02-24T00:00:00\",\"2015-02-25T00:00:00\",\"2015-02-26T00:00:00\",\"2015-02-27T00:00:00\",\"2015-02-28T00:00:00\",\"2015-03-01T00:00:00\",\"2015-03-02T00:00:00\",\"2015-03-03T00:00:00\",\"2015-03-04T00:00:00\",\"2015-03-05T00:00:00\",\"2015-03-06T00:00:00\",\"2015-03-07T00:00:00\",\"2015-03-08T00:00:00\",\"2015-03-09T00:00:00\",\"2015-03-10T00:00:00\",\"2015-03-11T00:00:00\",\"2015-03-12T00:00:00\",\"2015-03-13T00:00:00\",\"2015-03-14T00:00:00\",\"2015-03-15T00:00:00\",\"2015-03-16T00:00:00\",\"2015-03-17T00:00:00\",\"2015-03-18T00:00:00\",\"2015-03-19T00:00:00\",\"2015-03-20T00:00:00\",\"2015-03-21T00:00:00\",\"2015-03-22T00:00:00\",\"2015-03-23T00:00:00\",\"2015-03-24T00:00:00\",\"2015-03-25T00:00:00\",\"2015-03-26T00:00:00\",\"2015-03-27T00:00:00\",\"2015-03-28T00:00:00\",\"2015-03-29T00:00:00\",\"2015-03-30T00:00:00\",\"2015-03-31T00:00:00\",\"2015-04-01T00:00:00\",\"2015-04-02T00:00:00\",\"2015-04-03T00:00:00\",\"2015-04-04T00:00:00\",\"2015-04-05T00:00:00\",\"2015-04-06T00:00:00\",\"2015-04-07T00:00:00\",\"2015-04-08T00:00:00\",\"2015-04-09T00:00:00\",\"2015-04-10T00:00:00\",\"2015-04-11T00:00:00\",\"2015-04-12T00:00:00\",\"2015-04-13T00:00:00\",\"2015-04-14T00:00:00\",\"2015-04-15T00:00:00\",\"2015-04-16T00:00:00\",\"2015-04-17T00:00:00\",\"2015-04-18T00:00:00\",\"2015-04-19T00:00:00\",\"2015-04-20T00:00:00\",\"2015-04-21T00:00:00\",\"2015-04-22T00:00:00\",\"2015-04-23T00:00:00\",\"2015-04-24T00:00:00\",\"2015-04-25T00:00:00\",\"2015-04-26T00:00:00\",\"2015-04-27T00:00:00\",\"2015-04-28T00:00:00\",\"2015-04-29T00:00:00\",\"2015-04-30T00:00:00\",\"2015-05-01T00:00:00\",\"2015-05-02T00:00:00\",\"2015-05-03T00:00:00\",\"2015-05-04T00:00:00\",\"2015-05-05T00:00:00\",\"2015-05-06T00:00:00\",\"2015-05-07T00:00:00\",\"2015-05-08T00:00:00\",\"2015-05-09T00:00:00\",\"2015-05-10T00:00:00\",\"2015-05-11T00:00:00\",\"2015-05-12T00:00:00\",\"2015-05-13T00:00:00\",\"2015-05-14T00:00:00\",\"2015-05-15T00:00:00\",\"2015-05-16T00:00:00\",\"2015-05-17T00:00:00\",\"2015-05-18T00:00:00\",\"2015-05-19T00:00:00\",\"2015-05-20T00:00:00\",\"2015-05-21T00:00:00\",\"2015-05-22T00:00:00\",\"2015-05-23T00:00:00\",\"2015-05-24T00:00:00\",\"2015-05-25T00:00:00\",\"2015-05-26T00:00:00\",\"2015-05-27T00:00:00\",\"2015-05-28T00:00:00\",\"2015-05-29T00:00:00\",\"2015-05-30T00:00:00\",\"2015-05-31T00:00:00\",\"2015-06-01T00:00:00\",\"2015-06-02T00:00:00\",\"2015-06-03T00:00:00\",\"2015-06-04T00:00:00\",\"2015-06-05T00:00:00\",\"2015-06-06T00:00:00\",\"2015-06-07T00:00:00\",\"2015-06-08T00:00:00\",\"2015-06-09T00:00:00\",\"2015-06-10T00:00:00\",\"2015-06-11T00:00:00\",\"2015-06-12T00:00:00\",\"2015-06-13T00:00:00\",\"2015-06-14T00:00:00\",\"2015-06-15T00:00:00\",\"2015-06-16T00:00:00\",\"2015-06-17T00:00:00\",\"2015-06-18T00:00:00\",\"2015-06-19T00:00:00\",\"2015-06-20T00:00:00\",\"2015-06-21T00:00:00\",\"2015-06-22T00:00:00\",\"2015-06-23T00:00:00\",\"2015-06-24T00:00:00\",\"2015-06-25T00:00:00\",\"2015-06-26T00:00:00\",\"2015-06-27T00:00:00\",\"2015-06-28T00:00:00\",\"2015-06-29T00:00:00\",\"2015-06-30T00:00:00\",\"2015-07-01T00:00:00\",\"2015-07-02T00:00:00\",\"2015-07-03T00:00:00\",\"2015-07-04T00:00:00\",\"2015-07-05T00:00:00\",\"2015-07-06T00:00:00\",\"2015-07-07T00:00:00\",\"2015-07-08T00:00:00\",\"2015-07-09T00:00:00\",\"2015-07-10T00:00:00\",\"2015-07-11T00:00:00\",\"2015-07-12T00:00:00\",\"2015-07-13T00:00:00\",\"2015-07-14T00:00:00\",\"2015-07-15T00:00:00\",\"2015-07-16T00:00:00\",\"2015-07-17T00:00:00\",\"2015-07-18T00:00:00\",\"2015-07-19T00:00:00\",\"2015-07-20T00:00:00\",\"2015-07-21T00:00:00\",\"2015-07-22T00:00:00\",\"2015-07-23T00:00:00\",\"2015-07-24T00:00:00\",\"2015-07-25T00:00:00\",\"2015-07-26T00:00:00\",\"2015-07-27T00:00:00\",\"2015-07-28T00:00:00\",\"2015-07-29T00:00:00\",\"2015-07-30T00:00:00\",\"2015-07-31T00:00:00\",\"2015-08-01T00:00:00\",\"2015-08-02T00:00:00\",\"2015-08-03T00:00:00\",\"2015-08-04T00:00:00\",\"2015-08-05T00:00:00\",\"2015-08-06T00:00:00\",\"2015-08-07T00:00:00\",\"2015-08-08T00:00:00\",\"2015-08-09T00:00:00\",\"2015-08-10T00:00:00\",\"2015-08-11T00:00:00\",\"2015-08-12T00:00:00\",\"2015-08-13T00:00:00\",\"2015-08-14T00:00:00\",\"2015-08-15T00:00:00\",\"2015-08-16T00:00:00\",\"2015-08-17T00:00:00\",\"2015-08-18T00:00:00\",\"2015-08-19T00:00:00\",\"2015-08-20T00:00:00\",\"2015-08-21T00:00:00\",\"2015-08-22T00:00:00\",\"2015-08-23T00:00:00\",\"2015-08-24T00:00:00\",\"2015-08-25T00:00:00\",\"2015-08-26T00:00:00\",\"2015-08-27T00:00:00\",\"2015-08-28T00:00:00\",\"2015-08-29T00:00:00\",\"2015-08-30T00:00:00\",\"2015-08-31T00:00:00\",\"2015-09-01T00:00:00\",\"2015-09-02T00:00:00\",\"2015-09-03T00:00:00\",\"2015-09-04T00:00:00\",\"2015-09-05T00:00:00\",\"2015-09-06T00:00:00\",\"2015-09-07T00:00:00\",\"2015-09-08T00:00:00\",\"2015-09-09T00:00:00\",\"2015-09-10T00:00:00\",\"2015-09-11T00:00:00\",\"2015-09-12T00:00:00\",\"2015-09-13T00:00:00\",\"2015-09-14T00:00:00\",\"2015-09-15T00:00:00\",\"2015-09-16T00:00:00\",\"2015-09-17T00:00:00\",\"2015-09-18T00:00:00\",\"2015-09-19T00:00:00\",\"2015-09-20T00:00:00\",\"2015-09-21T00:00:00\",\"2015-09-22T00:00:00\",\"2015-09-23T00:00:00\",\"2015-09-24T00:00:00\",\"2015-09-25T00:00:00\",\"2015-09-26T00:00:00\",\"2015-09-27T00:00:00\",\"2015-09-28T00:00:00\",\"2015-09-29T00:00:00\",\"2015-09-30T00:00:00\",\"2015-10-01T00:00:00\",\"2015-10-02T00:00:00\",\"2015-10-03T00:00:00\",\"2015-10-04T00:00:00\",\"2015-10-05T00:00:00\",\"2015-10-06T00:00:00\",\"2015-10-07T00:00:00\",\"2015-10-08T00:00:00\",\"2015-10-09T00:00:00\",\"2015-10-10T00:00:00\",\"2015-10-11T00:00:00\",\"2015-10-12T00:00:00\",\"2015-10-13T00:00:00\",\"2015-10-14T00:00:00\",\"2015-10-15T00:00:00\",\"2015-10-16T00:00:00\",\"2015-10-17T00:00:00\",\"2015-10-18T00:00:00\",\"2015-10-19T00:00:00\",\"2015-10-20T00:00:00\",\"2015-10-21T00:00:00\",\"2015-10-22T00:00:00\",\"2015-10-23T00:00:00\",\"2015-10-24T00:00:00\",\"2015-10-25T00:00:00\",\"2015-10-26T00:00:00\",\"2015-10-27T00:00:00\",\"2015-10-28T00:00:00\",\"2015-10-29T00:00:00\",\"2015-10-30T00:00:00\",\"2015-10-31T00:00:00\",\"2015-11-01T00:00:00\",\"2015-11-02T00:00:00\",\"2015-11-03T00:00:00\",\"2015-11-04T00:00:00\",\"2015-11-05T00:00:00\",\"2015-11-06T00:00:00\",\"2015-11-07T00:00:00\",\"2015-11-08T00:00:00\",\"2015-11-09T00:00:00\",\"2015-11-10T00:00:00\",\"2015-11-11T00:00:00\",\"2015-11-12T00:00:00\",\"2015-11-13T00:00:00\",\"2015-11-14T00:00:00\",\"2015-11-15T00:00:00\",\"2015-11-16T00:00:00\",\"2015-11-17T00:00:00\",\"2015-11-18T00:00:00\",\"2015-11-19T00:00:00\",\"2015-11-20T00:00:00\",\"2015-11-21T00:00:00\",\"2015-11-22T00:00:00\",\"2015-11-23T00:00:00\",\"2015-11-24T00:00:00\",\"2015-11-25T00:00:00\",\"2015-11-26T00:00:00\",\"2015-11-27T00:00:00\",\"2015-11-28T00:00:00\",\"2015-11-29T00:00:00\",\"2015-11-30T00:00:00\",\"2015-12-01T00:00:00\",\"2015-12-02T00:00:00\",\"2015-12-03T00:00:00\",\"2015-12-04T00:00:00\",\"2015-12-05T00:00:00\",\"2015-12-06T00:00:00\",\"2015-12-07T00:00:00\",\"2015-12-08T00:00:00\",\"2015-12-09T00:00:00\",\"2015-12-10T00:00:00\",\"2015-12-11T00:00:00\",\"2015-12-12T00:00:00\",\"2015-12-13T00:00:00\",\"2015-12-14T00:00:00\",\"2015-12-15T00:00:00\",\"2015-12-16T00:00:00\",\"2015-12-17T00:00:00\",\"2015-12-18T00:00:00\",\"2015-12-19T00:00:00\",\"2015-12-20T00:00:00\",\"2015-12-21T00:00:00\",\"2015-12-22T00:00:00\",\"2015-12-23T00:00:00\",\"2015-12-24T00:00:00\",\"2015-12-25T00:00:00\",\"2015-12-26T00:00:00\",\"2015-12-27T00:00:00\",\"2015-12-28T00:00:00\",\"2015-12-29T00:00:00\",\"2015-12-30T00:00:00\",\"2015-12-31T00:00:00\",\"2016-01-01T00:00:00\",\"2016-01-02T00:00:00\",\"2016-01-03T00:00:00\",\"2016-01-04T00:00:00\",\"2016-01-05T00:00:00\",\"2016-01-06T00:00:00\",\"2016-01-07T00:00:00\",\"2016-01-08T00:00:00\",\"2016-01-09T00:00:00\",\"2016-01-10T00:00:00\",\"2016-01-11T00:00:00\",\"2016-01-12T00:00:00\",\"2016-01-13T00:00:00\",\"2016-01-14T00:00:00\",\"2016-01-15T00:00:00\",\"2016-01-16T00:00:00\",\"2016-01-17T00:00:00\",\"2016-01-18T00:00:00\",\"2016-01-19T00:00:00\",\"2016-01-20T00:00:00\",\"2016-01-21T00:00:00\",\"2016-01-22T00:00:00\",\"2016-01-23T00:00:00\",\"2016-01-24T00:00:00\",\"2016-01-25T00:00:00\",\"2016-01-26T00:00:00\",\"2016-01-27T00:00:00\",\"2016-01-28T00:00:00\",\"2016-01-29T00:00:00\",\"2016-01-30T00:00:00\",\"2016-01-31T00:00:00\",\"2016-02-01T00:00:00\",\"2016-02-02T00:00:00\",\"2016-02-03T00:00:00\",\"2016-02-04T00:00:00\",\"2016-02-05T00:00:00\",\"2016-02-06T00:00:00\",\"2016-02-07T00:00:00\",\"2016-02-08T00:00:00\",\"2016-02-09T00:00:00\",\"2016-02-10T00:00:00\",\"2016-02-11T00:00:00\",\"2016-02-12T00:00:00\",\"2016-02-13T00:00:00\",\"2016-02-14T00:00:00\",\"2016-02-15T00:00:00\",\"2016-02-16T00:00:00\",\"2016-02-17T00:00:00\",\"2016-02-18T00:00:00\",\"2016-02-19T00:00:00\",\"2016-02-20T00:00:00\",\"2016-02-21T00:00:00\",\"2016-02-22T00:00:00\",\"2016-02-23T00:00:00\",\"2016-02-24T00:00:00\",\"2016-02-25T00:00:00\",\"2016-02-26T00:00:00\",\"2016-02-27T00:00:00\",\"2016-02-28T00:00:00\",\"2016-02-29T00:00:00\",\"2016-03-01T00:00:00\",\"2016-03-02T00:00:00\",\"2016-03-03T00:00:00\",\"2016-03-04T00:00:00\",\"2016-03-05T00:00:00\",\"2016-03-06T00:00:00\",\"2016-03-07T00:00:00\",\"2016-03-08T00:00:00\",\"2016-03-09T00:00:00\",\"2016-03-10T00:00:00\",\"2016-03-11T00:00:00\",\"2016-03-12T00:00:00\",\"2016-03-13T00:00:00\",\"2016-03-14T00:00:00\",\"2016-03-15T00:00:00\",\"2016-03-16T00:00:00\",\"2016-03-17T00:00:00\",\"2016-03-18T00:00:00\",\"2016-03-19T00:00:00\",\"2016-03-20T00:00:00\",\"2016-03-21T00:00:00\",\"2016-03-22T00:00:00\",\"2016-03-23T00:00:00\",\"2016-03-24T00:00:00\",\"2016-03-25T00:00:00\",\"2016-03-26T00:00:00\",\"2016-03-27T00:00:00\",\"2016-03-28T00:00:00\",\"2016-03-29T00:00:00\",\"2016-03-30T00:00:00\",\"2016-03-31T00:00:00\",\"2016-04-01T00:00:00\",\"2016-04-02T00:00:00\",\"2016-04-03T00:00:00\",\"2016-04-04T00:00:00\",\"2016-04-05T00:00:00\",\"2016-04-06T00:00:00\",\"2016-04-07T00:00:00\",\"2016-04-08T00:00:00\",\"2016-04-09T00:00:00\",\"2016-04-10T00:00:00\",\"2016-04-11T00:00:00\",\"2016-04-12T00:00:00\",\"2016-04-13T00:00:00\",\"2016-04-14T00:00:00\",\"2016-04-15T00:00:00\",\"2016-04-16T00:00:00\",\"2016-04-17T00:00:00\",\"2016-04-18T00:00:00\",\"2016-04-19T00:00:00\",\"2016-04-20T00:00:00\",\"2016-04-21T00:00:00\",\"2016-04-22T00:00:00\",\"2016-04-23T00:00:00\",\"2016-04-24T00:00:00\",\"2016-04-25T00:00:00\",\"2016-04-26T00:00:00\",\"2016-04-27T00:00:00\",\"2016-04-28T00:00:00\",\"2016-04-29T00:00:00\",\"2016-04-30T00:00:00\",\"2016-05-01T00:00:00\",\"2016-05-02T00:00:00\",\"2016-05-03T00:00:00\",\"2016-05-04T00:00:00\",\"2016-05-05T00:00:00\",\"2016-05-06T00:00:00\",\"2016-05-07T00:00:00\",\"2016-05-08T00:00:00\",\"2016-05-09T00:00:00\",\"2016-05-10T00:00:00\",\"2016-05-11T00:00:00\",\"2016-05-12T00:00:00\",\"2016-05-13T00:00:00\",\"2016-05-14T00:00:00\",\"2016-05-15T00:00:00\",\"2016-05-16T00:00:00\",\"2016-05-17T00:00:00\",\"2016-05-18T00:00:00\",\"2016-05-19T00:00:00\",\"2016-05-20T00:00:00\",\"2016-05-21T00:00:00\",\"2016-05-22T00:00:00\",\"2016-05-23T00:00:00\",\"2016-05-24T00:00:00\",\"2016-05-25T00:00:00\",\"2016-05-26T00:00:00\",\"2016-05-27T00:00:00\",\"2016-05-28T00:00:00\",\"2016-05-29T00:00:00\",\"2016-05-30T00:00:00\",\"2016-05-31T00:00:00\",\"2016-06-01T00:00:00\",\"2016-06-02T00:00:00\",\"2016-06-03T00:00:00\",\"2016-06-04T00:00:00\",\"2016-06-05T00:00:00\",\"2016-06-06T00:00:00\",\"2016-06-07T00:00:00\",\"2016-06-08T00:00:00\",\"2016-06-09T00:00:00\",\"2016-06-10T00:00:00\",\"2016-06-11T00:00:00\",\"2016-06-12T00:00:00\",\"2016-06-13T00:00:00\",\"2016-06-14T00:00:00\",\"2016-06-15T00:00:00\",\"2016-06-16T00:00:00\",\"2016-06-17T00:00:00\",\"2016-06-18T00:00:00\",\"2016-06-19T00:00:00\",\"2016-06-20T00:00:00\",\"2016-06-21T00:00:00\",\"2016-06-22T00:00:00\",\"2016-06-23T00:00:00\",\"2016-06-24T00:00:00\",\"2016-06-25T00:00:00\",\"2016-06-26T00:00:00\",\"2016-06-27T00:00:00\",\"2016-06-28T00:00:00\",\"2016-06-29T00:00:00\",\"2016-06-30T00:00:00\",\"2016-07-01T00:00:00\",\"2016-07-02T00:00:00\",\"2016-07-03T00:00:00\",\"2016-07-04T00:00:00\",\"2016-07-05T00:00:00\",\"2016-07-06T00:00:00\",\"2016-07-07T00:00:00\",\"2016-07-08T00:00:00\",\"2016-07-09T00:00:00\",\"2016-07-10T00:00:00\",\"2016-07-11T00:00:00\",\"2016-07-12T00:00:00\",\"2016-07-13T00:00:00\",\"2016-07-14T00:00:00\",\"2016-07-15T00:00:00\",\"2016-07-16T00:00:00\",\"2016-07-17T00:00:00\",\"2016-07-18T00:00:00\",\"2016-07-19T00:00:00\",\"2016-07-20T00:00:00\",\"2016-07-21T00:00:00\",\"2016-07-22T00:00:00\",\"2016-07-23T00:00:00\",\"2016-07-24T00:00:00\",\"2016-07-25T00:00:00\",\"2016-07-26T00:00:00\",\"2016-07-27T00:00:00\",\"2016-07-28T00:00:00\",\"2016-07-29T00:00:00\",\"2016-07-30T00:00:00\",\"2016-07-31T00:00:00\",\"2016-08-01T00:00:00\",\"2016-08-02T00:00:00\",\"2016-08-03T00:00:00\",\"2016-08-04T00:00:00\",\"2016-08-05T00:00:00\",\"2016-08-06T00:00:00\",\"2016-08-07T00:00:00\",\"2016-08-08T00:00:00\",\"2016-08-09T00:00:00\",\"2016-08-10T00:00:00\",\"2016-08-11T00:00:00\",\"2016-08-12T00:00:00\",\"2016-08-13T00:00:00\",\"2016-08-14T00:00:00\",\"2016-08-15T00:00:00\",\"2016-08-16T00:00:00\",\"2016-08-17T00:00:00\",\"2016-08-18T00:00:00\",\"2016-08-19T00:00:00\",\"2016-08-20T00:00:00\",\"2016-08-21T00:00:00\",\"2016-08-22T00:00:00\",\"2016-08-23T00:00:00\",\"2016-08-24T00:00:00\",\"2016-08-25T00:00:00\",\"2016-08-26T00:00:00\",\"2016-08-27T00:00:00\",\"2016-08-28T00:00:00\",\"2016-08-29T00:00:00\",\"2016-08-30T00:00:00\",\"2016-08-31T00:00:00\",\"2016-09-01T00:00:00\",\"2016-09-02T00:00:00\",\"2016-09-03T00:00:00\",\"2016-09-04T00:00:00\",\"2016-09-05T00:00:00\",\"2016-09-06T00:00:00\",\"2016-09-07T00:00:00\",\"2016-09-08T00:00:00\",\"2016-09-09T00:00:00\",\"2016-09-10T00:00:00\",\"2016-09-11T00:00:00\",\"2016-09-12T00:00:00\",\"2016-09-13T00:00:00\",\"2016-09-14T00:00:00\",\"2016-09-15T00:00:00\",\"2016-09-16T00:00:00\",\"2016-09-17T00:00:00\",\"2016-09-18T00:00:00\",\"2016-09-19T00:00:00\",\"2016-09-20T00:00:00\",\"2016-09-21T00:00:00\",\"2016-09-22T00:00:00\",\"2016-09-23T00:00:00\",\"2016-09-24T00:00:00\",\"2016-09-25T00:00:00\",\"2016-09-26T00:00:00\",\"2016-09-27T00:00:00\",\"2016-09-28T00:00:00\",\"2016-09-29T00:00:00\",\"2016-09-30T00:00:00\",\"2016-10-01T00:00:00\",\"2016-10-02T00:00:00\",\"2016-10-03T00:00:00\",\"2016-10-04T00:00:00\",\"2016-10-05T00:00:00\",\"2016-10-06T00:00:00\",\"2016-10-07T00:00:00\",\"2016-10-08T00:00:00\",\"2016-10-09T00:00:00\",\"2016-10-10T00:00:00\",\"2016-10-11T00:00:00\",\"2016-10-12T00:00:00\",\"2016-10-13T00:00:00\",\"2016-10-14T00:00:00\",\"2016-10-15T00:00:00\",\"2016-10-16T00:00:00\",\"2016-10-17T00:00:00\",\"2016-10-18T00:00:00\",\"2016-10-19T00:00:00\",\"2016-10-20T00:00:00\",\"2016-10-21T00:00:00\",\"2016-10-22T00:00:00\",\"2016-10-23T00:00:00\",\"2016-10-24T00:00:00\",\"2016-10-25T00:00:00\",\"2016-10-26T00:00:00\",\"2016-10-27T00:00:00\",\"2016-10-28T00:00:00\",\"2016-10-29T00:00:00\",\"2016-10-30T00:00:00\",\"2016-10-31T00:00:00\",\"2016-11-01T00:00:00\",\"2016-11-02T00:00:00\",\"2016-11-03T00:00:00\",\"2016-11-04T00:00:00\",\"2016-11-05T00:00:00\",\"2016-11-06T00:00:00\",\"2016-11-07T00:00:00\",\"2016-11-08T00:00:00\",\"2016-11-09T00:00:00\",\"2016-11-10T00:00:00\",\"2016-11-11T00:00:00\",\"2016-11-12T00:00:00\",\"2016-11-13T00:00:00\",\"2016-11-14T00:00:00\",\"2016-11-15T00:00:00\",\"2016-11-16T00:00:00\",\"2016-11-17T00:00:00\",\"2016-11-18T00:00:00\",\"2016-11-19T00:00:00\",\"2016-11-20T00:00:00\",\"2016-11-21T00:00:00\",\"2016-11-22T00:00:00\",\"2016-11-23T00:00:00\",\"2016-11-24T00:00:00\",\"2016-11-25T00:00:00\",\"2016-11-26T00:00:00\",\"2016-11-27T00:00:00\",\"2016-11-28T00:00:00\",\"2016-11-29T00:00:00\",\"2016-11-30T00:00:00\",\"2016-12-01T00:00:00\",\"2016-12-02T00:00:00\",\"2016-12-03T00:00:00\",\"2016-12-04T00:00:00\",\"2016-12-05T00:00:00\",\"2016-12-06T00:00:00\",\"2016-12-07T00:00:00\",\"2016-12-08T00:00:00\",\"2016-12-09T00:00:00\",\"2016-12-10T00:00:00\",\"2016-12-11T00:00:00\",\"2016-12-12T00:00:00\",\"2016-12-13T00:00:00\",\"2016-12-14T00:00:00\",\"2016-12-15T00:00:00\",\"2016-12-16T00:00:00\",\"2016-12-17T00:00:00\",\"2016-12-18T00:00:00\",\"2016-12-19T00:00:00\",\"2016-12-20T00:00:00\",\"2016-12-21T00:00:00\",\"2016-12-22T00:00:00\",\"2016-12-23T00:00:00\",\"2016-12-24T00:00:00\",\"2016-12-25T00:00:00\",\"2016-12-26T00:00:00\",\"2016-12-27T00:00:00\",\"2016-12-28T00:00:00\",\"2016-12-29T00:00:00\",\"2016-12-30T00:00:00\",\"2016-12-31T00:00:00\",\"2017-01-01T00:00:00\",\"2017-01-02T00:00:00\",\"2017-01-03T00:00:00\",\"2017-01-04T00:00:00\",\"2017-01-05T00:00:00\",\"2017-01-06T00:00:00\",\"2017-01-07T00:00:00\",\"2017-01-08T00:00:00\",\"2017-01-09T00:00:00\",\"2017-01-10T00:00:00\",\"2017-01-11T00:00:00\",\"2017-01-12T00:00:00\",\"2017-01-13T00:00:00\",\"2017-01-14T00:00:00\",\"2017-01-15T00:00:00\",\"2017-01-16T00:00:00\",\"2017-01-17T00:00:00\",\"2017-01-18T00:00:00\",\"2017-01-19T00:00:00\",\"2017-01-20T00:00:00\",\"2017-01-21T00:00:00\",\"2017-01-22T00:00:00\",\"2017-01-23T00:00:00\",\"2017-01-24T00:00:00\",\"2017-01-25T00:00:00\",\"2017-01-26T00:00:00\",\"2017-01-27T00:00:00\",\"2017-01-28T00:00:00\",\"2017-01-29T00:00:00\",\"2017-01-30T00:00:00\",\"2017-01-31T00:00:00\",\"2017-02-01T00:00:00\",\"2017-02-02T00:00:00\",\"2017-02-03T00:00:00\",\"2017-02-04T00:00:00\",\"2017-02-05T00:00:00\",\"2017-02-06T00:00:00\",\"2017-02-07T00:00:00\",\"2017-02-08T00:00:00\",\"2017-02-09T00:00:00\",\"2017-02-10T00:00:00\",\"2017-02-11T00:00:00\",\"2017-02-12T00:00:00\",\"2017-02-13T00:00:00\",\"2017-02-14T00:00:00\",\"2017-02-15T00:00:00\",\"2017-02-16T00:00:00\",\"2017-02-17T00:00:00\",\"2017-02-18T00:00:00\",\"2017-02-19T00:00:00\",\"2017-02-20T00:00:00\",\"2017-02-21T00:00:00\",\"2017-02-22T00:00:00\",\"2017-02-23T00:00:00\",\"2017-02-24T00:00:00\",\"2017-02-25T00:00:00\",\"2017-02-26T00:00:00\",\"2017-02-27T00:00:00\",\"2017-02-28T00:00:00\",\"2017-03-01T00:00:00\",\"2017-03-02T00:00:00\",\"2017-03-03T00:00:00\",\"2017-03-04T00:00:00\",\"2017-03-05T00:00:00\",\"2017-03-06T00:00:00\",\"2017-03-07T00:00:00\",\"2017-03-08T00:00:00\",\"2017-03-09T00:00:00\",\"2017-03-10T00:00:00\",\"2017-03-11T00:00:00\",\"2017-03-12T00:00:00\",\"2017-03-13T00:00:00\",\"2017-03-14T00:00:00\",\"2017-03-15T00:00:00\",\"2017-03-16T00:00:00\",\"2017-03-17T00:00:00\",\"2017-03-18T00:00:00\",\"2017-03-19T00:00:00\",\"2017-03-20T00:00:00\",\"2017-03-21T00:00:00\",\"2017-03-22T00:00:00\",\"2017-03-23T00:00:00\",\"2017-03-24T00:00:00\",\"2017-03-25T00:00:00\",\"2017-03-26T00:00:00\",\"2017-03-27T00:00:00\",\"2017-03-28T00:00:00\",\"2017-03-29T00:00:00\",\"2017-03-30T00:00:00\",\"2017-03-31T00:00:00\",\"2017-04-01T00:00:00\",\"2017-04-02T00:00:00\",\"2017-04-03T00:00:00\",\"2017-04-04T00:00:00\",\"2017-04-05T00:00:00\",\"2017-04-06T00:00:00\",\"2017-04-07T00:00:00\",\"2017-04-08T00:00:00\",\"2017-04-09T00:00:00\",\"2017-04-10T00:00:00\",\"2017-04-11T00:00:00\",\"2017-04-12T00:00:00\",\"2017-04-13T00:00:00\",\"2017-04-14T00:00:00\",\"2017-04-15T00:00:00\",\"2017-04-16T00:00:00\",\"2017-04-17T00:00:00\",\"2017-04-18T00:00:00\",\"2017-04-19T00:00:00\",\"2017-04-20T00:00:00\",\"2017-04-21T00:00:00\",\"2017-04-22T00:00:00\",\"2017-04-23T00:00:00\",\"2017-04-24T00:00:00\",\"2017-04-25T00:00:00\",\"2017-04-26T00:00:00\",\"2017-04-27T00:00:00\",\"2017-04-28T00:00:00\",\"2017-04-29T00:00:00\",\"2017-04-30T00:00:00\",\"2017-05-01T00:00:00\",\"2017-05-02T00:00:00\",\"2017-05-03T00:00:00\",\"2017-05-04T00:00:00\",\"2017-05-05T00:00:00\",\"2017-05-06T00:00:00\",\"2017-05-07T00:00:00\",\"2017-05-08T00:00:00\",\"2017-05-09T00:00:00\",\"2017-05-10T00:00:00\",\"2017-05-11T00:00:00\",\"2017-05-12T00:00:00\",\"2017-05-13T00:00:00\",\"2017-05-14T00:00:00\",\"2017-05-15T00:00:00\",\"2017-05-16T00:00:00\",\"2017-05-17T00:00:00\",\"2017-05-18T00:00:00\",\"2017-05-19T00:00:00\",\"2017-05-20T00:00:00\",\"2017-05-21T00:00:00\",\"2017-05-22T00:00:00\",\"2017-05-23T00:00:00\",\"2017-05-24T00:00:00\",\"2017-05-25T00:00:00\",\"2017-05-26T00:00:00\",\"2017-05-27T00:00:00\",\"2017-05-28T00:00:00\",\"2017-05-29T00:00:00\",\"2017-05-30T00:00:00\",\"2017-05-31T00:00:00\",\"2017-06-01T00:00:00\",\"2017-06-02T00:00:00\",\"2017-06-03T00:00:00\",\"2017-06-04T00:00:00\",\"2017-06-05T00:00:00\",\"2017-06-06T00:00:00\",\"2017-06-07T00:00:00\",\"2017-06-08T00:00:00\",\"2017-06-09T00:00:00\",\"2017-06-10T00:00:00\",\"2017-06-11T00:00:00\",\"2017-06-12T00:00:00\",\"2017-06-13T00:00:00\",\"2017-06-14T00:00:00\",\"2017-06-15T00:00:00\",\"2017-06-16T00:00:00\",\"2017-06-17T00:00:00\",\"2017-06-18T00:00:00\",\"2017-06-19T00:00:00\",\"2017-06-20T00:00:00\",\"2017-06-21T00:00:00\",\"2017-06-22T00:00:00\",\"2017-06-23T00:00:00\",\"2017-06-24T00:00:00\",\"2017-06-25T00:00:00\",\"2017-06-26T00:00:00\",\"2017-06-27T00:00:00\",\"2017-06-28T00:00:00\",\"2017-06-29T00:00:00\",\"2017-06-30T00:00:00\",\"2017-07-01T00:00:00\",\"2017-07-02T00:00:00\",\"2017-07-03T00:00:00\",\"2017-07-04T00:00:00\",\"2017-07-05T00:00:00\",\"2017-07-06T00:00:00\",\"2017-07-07T00:00:00\",\"2017-07-08T00:00:00\",\"2017-07-09T00:00:00\",\"2017-07-10T00:00:00\",\"2017-07-11T00:00:00\",\"2017-07-12T00:00:00\",\"2017-07-13T00:00:00\",\"2017-07-14T00:00:00\",\"2017-07-15T00:00:00\",\"2017-07-16T00:00:00\",\"2017-07-17T00:00:00\",\"2017-07-18T00:00:00\",\"2017-07-19T00:00:00\",\"2017-07-20T00:00:00\",\"2017-07-21T00:00:00\",\"2017-07-22T00:00:00\",\"2017-07-23T00:00:00\",\"2017-07-24T00:00:00\",\"2017-07-25T00:00:00\",\"2017-07-26T00:00:00\",\"2017-07-27T00:00:00\",\"2017-07-28T00:00:00\",\"2017-07-29T00:00:00\",\"2017-07-30T00:00:00\",\"2017-07-31T00:00:00\",\"2017-08-01T00:00:00\",\"2017-08-02T00:00:00\",\"2017-08-03T00:00:00\",\"2017-08-04T00:00:00\",\"2017-08-05T00:00:00\",\"2017-08-06T00:00:00\",\"2017-08-07T00:00:00\",\"2017-08-08T00:00:00\",\"2017-08-09T00:00:00\",\"2017-08-10T00:00:00\",\"2017-08-11T00:00:00\",\"2017-08-12T00:00:00\",\"2017-08-13T00:00:00\",\"2017-08-14T00:00:00\",\"2017-08-15T00:00:00\",\"2017-08-16T00:00:00\",\"2017-08-17T00:00:00\",\"2017-08-18T00:00:00\",\"2017-08-19T00:00:00\",\"2017-08-20T00:00:00\",\"2017-08-21T00:00:00\",\"2017-08-22T00:00:00\",\"2017-08-23T00:00:00\",\"2017-08-24T00:00:00\",\"2017-08-25T00:00:00\",\"2017-08-26T00:00:00\",\"2017-08-27T00:00:00\",\"2017-08-28T00:00:00\",\"2017-08-29T00:00:00\",\"2017-08-30T00:00:00\",\"2017-08-31T00:00:00\",\"2017-09-01T00:00:00\",\"2017-09-02T00:00:00\",\"2017-09-03T00:00:00\",\"2017-09-04T00:00:00\",\"2017-09-05T00:00:00\",\"2017-09-06T00:00:00\",\"2017-09-07T00:00:00\",\"2017-09-08T00:00:00\",\"2017-09-09T00:00:00\",\"2017-09-10T00:00:00\",\"2017-09-11T00:00:00\",\"2017-09-12T00:00:00\",\"2017-09-13T00:00:00\",\"2017-09-14T00:00:00\",\"2017-09-15T00:00:00\",\"2017-09-16T00:00:00\",\"2017-09-17T00:00:00\",\"2017-09-18T00:00:00\",\"2017-09-19T00:00:00\",\"2017-09-20T00:00:00\",\"2017-09-21T00:00:00\",\"2017-09-22T00:00:00\",\"2017-09-23T00:00:00\",\"2017-09-24T00:00:00\",\"2017-09-25T00:00:00\",\"2017-09-26T00:00:00\",\"2017-09-27T00:00:00\",\"2017-09-28T00:00:00\",\"2017-09-29T00:00:00\",\"2017-09-30T00:00:00\",\"2017-10-01T00:00:00\",\"2017-10-02T00:00:00\",\"2017-10-03T00:00:00\",\"2017-10-04T00:00:00\",\"2017-10-05T00:00:00\",\"2017-10-06T00:00:00\",\"2017-10-07T00:00:00\",\"2017-10-08T00:00:00\",\"2017-10-09T00:00:00\",\"2017-10-10T00:00:00\",\"2017-10-11T00:00:00\",\"2017-10-12T00:00:00\",\"2017-10-13T00:00:00\",\"2017-10-14T00:00:00\",\"2017-10-15T00:00:00\",\"2017-10-16T00:00:00\",\"2017-10-17T00:00:00\",\"2017-10-18T00:00:00\",\"2017-10-19T00:00:00\",\"2017-10-20T00:00:00\",\"2017-10-21T00:00:00\",\"2017-10-22T00:00:00\",\"2017-10-23T00:00:00\",\"2017-10-24T00:00:00\",\"2017-10-25T00:00:00\",\"2017-10-26T00:00:00\",\"2017-10-27T00:00:00\",\"2017-10-28T00:00:00\",\"2017-10-29T00:00:00\",\"2017-10-30T00:00:00\",\"2017-10-31T00:00:00\",\"2017-11-01T00:00:00\",\"2017-11-02T00:00:00\",\"2017-11-03T00:00:00\",\"2017-11-04T00:00:00\",\"2017-11-05T00:00:00\",\"2017-11-06T00:00:00\",\"2017-11-07T00:00:00\",\"2017-11-08T00:00:00\",\"2017-11-09T00:00:00\",\"2017-11-10T00:00:00\",\"2017-11-11T00:00:00\",\"2017-11-12T00:00:00\",\"2017-11-13T00:00:00\",\"2017-11-14T00:00:00\",\"2017-11-15T00:00:00\",\"2017-11-16T00:00:00\",\"2017-11-17T00:00:00\",\"2017-11-18T00:00:00\",\"2017-11-19T00:00:00\",\"2017-11-20T00:00:00\",\"2017-11-21T00:00:00\",\"2017-11-22T00:00:00\",\"2017-11-23T00:00:00\",\"2017-11-24T00:00:00\",\"2017-11-25T00:00:00\",\"2017-11-26T00:00:00\",\"2017-11-27T00:00:00\",\"2017-11-28T00:00:00\",\"2017-11-29T00:00:00\",\"2017-11-30T00:00:00\",\"2017-12-01T00:00:00\",\"2017-12-02T00:00:00\",\"2017-12-03T00:00:00\",\"2017-12-04T00:00:00\",\"2017-12-05T00:00:00\",\"2017-12-06T00:00:00\",\"2017-12-07T00:00:00\",\"2017-12-08T00:00:00\",\"2017-12-09T00:00:00\",\"2017-12-10T00:00:00\",\"2017-12-11T00:00:00\",\"2017-12-12T00:00:00\",\"2017-12-13T00:00:00\",\"2017-12-14T00:00:00\",\"2017-12-15T00:00:00\",\"2017-12-16T00:00:00\",\"2017-12-17T00:00:00\",\"2017-12-18T00:00:00\",\"2017-12-19T00:00:00\",\"2017-12-20T00:00:00\",\"2017-12-21T00:00:00\",\"2017-12-22T00:00:00\",\"2017-12-23T00:00:00\",\"2017-12-24T00:00:00\",\"2017-12-25T00:00:00\",\"2017-12-26T00:00:00\",\"2017-12-27T00:00:00\",\"2017-12-28T00:00:00\",\"2017-12-29T00:00:00\",\"2017-12-30T00:00:00\",\"2017-12-31T00:00:00\"],\"y\":[11265.108225108226,14371.731601731602,17254.632034632035,14972.987012987014,18890.60606060606,24033.766233766233,18092.77056277056,19783.030303030304,22492.380952380954,16154.112554112555,19968.095238095237,15921.341991341991,14592.164502164502,9661.212121212122,11206.709956709958,11178.744588744588,11997.965367965367,12744.805194805194,13401.991341991343,14486.060606060606,9630.77922077922,11288.138528138528,11196.839826839827,11903.376623376624,12864.069264069265,13621.601731601731,14458.91774891775,9745.108225108226,11288.138528138528,11014.242424242424,12110.649350649352,11250.30303030303,15070.8658008658,18172.554112554113,17452.034632034633,20195.108225108226,25727.316017316018,21222.424242424244,21516.060606060608,15275.670995670996,16329.30735930736,21030.779220779223,10808.61471861472,12563.030303030304,13471.904761904761,14445.757575757576,15157.229437229438,16040.60606060606,10575.844155844155,12632.943722943723,12262.813852813853,13430.77922077922,14305.930735930737,15163.809523809525,16024.155844155845,10740.34632034632,12489.004329004329,12349.17748917749,13347.705627705627,11916.536796536797,16075.151515151516,19131.60173160173,17375.541125541127,21381.991341991343,16966.753246753247,21305.497835497838,22920.08658008658,17597.61904761905,17321.25541125541,22426.58008658009,12523.549783549784,15144.891774891776,15952.597402597403,16995.541125541127,18213.679653679654,19195.757575757576,12817.186147186147,14998.484848484848,14884.978354978355,15960.82251082251,17118.095238095237,18184.069264069265,19153.809523809523,12869.82683982684,15058.52813852814,15032.207792207793,16238.008658008659,17035.021645021647,18335.411255411254,19359.43722943723,12894.502164502164,10690.995670995671,12921.645021645021,18801.77489177489,22827.965367965367,19771.515151515152,22721.03896103896,24100.38961038961,17377.18614718615,18501.55844155844,14982.034632034633,12567.965367965367,21186.233766233767,22527.74891774892,14870.995670995671,17625.584415584417,17444.632034632035,18784.502164502166,19803.593073593074,21017.61904761905,22567.22943722944,15146.536796536797,17638.74458874459,17619.82683982684,18594.502164502166,19989.48051948052,20874.502164502166,22627.272727272728,14825.757575757576,17518.65800865801,13355.108225108226,12301.471861471862,14960.649350649352,19888.31168831169,24130.822510822512,20008.39826839827,24196.623376623378,16149.17748917749,18698.13852813853,19651.428571428572,17482.467532467534,13346.883116883117,15835.800865800866,18844.545454545456,18778.74458874459,20005.930735930735,21209.26406926407,22680.735930735933,23972.900432900435,16011.818181818182,18712.121212121212,18911.991341991343,20133.419913419915,21344.155844155845,22888.83116883117,24342.20779220779,16014.285714285714,18814.935064935064,18900.47619047619,19995.238095238095,21460.95238095238,14222.034632034633,12439.65367965368,15162.987012987014,21224.891774891774,16009.35064935065,21544.025974025975,25644.242424242424,18703.896103896102,20063.506493506495,20824.329004329004,17308.91774891775,14335.541125541125,21269.30735930736,22730.08658008658,24178.528138528138,25667.272727272728,16887.79220779221,20021.55844155844,19867.74891774892,21490.56277056277,22756.406926406926,24234.458874458876,25884.415584415587,17193.766233766233,19834.848484848484,20109.5670995671,21665.757575757576,22693.073593073594,24222.121212121212,25708.39826839827,9680.129870129871,13252.294372294373,15882.683982683982,22349.26406926407,18755.714285714286,22811.515151515152,27100.909090909092,18469.48051948052,21296.450216450216,14010.649350649352,18523.766233766233,15306.103896103896,25941.991341991343,27235.800865800866,18111.68831168831,21340.04329004329,21108.91774891775,22716.103896103898,24456.5367965368,25728.96103896104,27266.233766233767,18144.588744588746,21123.722943722943,21414.891774891774,22768.74458874459,24333.982683982686,26057.965367965367,27320.51948051948,18084.545454545456,21280.822510822512,21076.017316017318,11153.246753246753,14352.813852813853,17071.21212121212,14809.30735930736,18836.320346320346,24253.376623376626,18332.121212121212,20031.428571428572,22470.99567099567,16140.952380952382,20123.549783549784,15863.766233766233,18625.757575757576,18693.203463203463,20049.52380952381,21576.103896103898,22937.359307359307,24000.04329004329,15904.069264069265,18798.484848484848,18700.60606060606,20170.4329004329,21167.316017316018,22839.48051948052,23844.588744588746,15990.432900432901,18796.839826839827,18778.74458874459,19933.549783549784,21545.670995670996,22604.242424242424,11414.805194805194,15154.761904761905,18139.65367965368,17417.489177489177,20072.554112554113,25470.69264069264,21317.012987012986,21271.77489177489,14912.121212121212,16054.588744588746,21273.419913419915,10644.935064935065,19979.61038961039,21298.095238095237,22417.532467532466,15154.761904761905,17160.865800865802,17575.411255411254,18948.18181818182,19929.43722943723,21369.65367965368,22568.87445887446,15018.225108225108,17456.147186147187,17593.506493506495,18579.69696969697,19982.900432900435,20898.35497835498,22506.363636363636,14977.099567099567,12043.203463203463,16039.78354978355,19125.021645021647,17434.761904761905,21355.670995670996,17107.402597402597,21161.55844155844,22604.242424242424,17689.74025974026,17665.887445887445,22364.891774891774,12478.311688311689,20923.030303030304,13810.77922077922,16133.549783549784,16175.497835497836,17339.35064935065,18406.147186147187,19808.528138528138,20734.675324675325,13789.39393939394,16198.52813852814,16155.757575757576,17376.363636363636,18531.16883116883,19530.51948051948,20765.930735930735,13803.376623376624,16203.463203463203,16330.129870129871,17342.640692640693,12858.311688311689,10660.56277056277,12603.333333333334,18897.18614718615,22633.852813852813,20277.359307359307,23011.385281385283,24066.666666666668,17454.502164502166,18431.64502164502,15113.636363636364,12526.839826839827,17415.844155844155,18551.7316017316,19955.757575757576,21146.753246753247,22411.774891774894,15011.645021645021,17499.74025974026,17612.424242424244,18560.779220779223,20119.43722943723,21237.22943722944,22470.17316017316,15019.04761904762,17391.991341991343,17524.415584415583,18567.359307359307,19993.593073593074,21140.99567099567,13718.658008658009,12464.329004329005,14829.04761904762,19890.779220779223,23826.493506493505,19999.35064935065,24387.445887445887,16096.536796536797,18712.943722943724,19605.367965367965,17477.532467532466,13420.08658008658,14216.277056277057,15080.735930735931,16234.718614718615,10765.021645021645,12317.099567099567,12423.203463203463,13268.744588744588,14124.978354978355,15225.497835497836,16197.705627705627,10723.896103896104,12441.298701298701,12626.363636363636,13336.190476190477,14021.341991341991,15161.341991341991,15749.43722943723,10658.095238095239,12373.852813852815,12794.978354978355,17333.593073593074,20764.285714285714,19824.978354978357,23154.502164502166,29528.13852813853,24329.04761904762,24380.865800865802,17085.194805194806,18647.965367965367,24451.60173160173,12326.147186147185,11028.225108225108,12944.675324675325,12822.943722943723,13995.021645021645,14713.073593073594,15598.095238095239,16526.709956709958,11120.34632034632,12735.757575757576,12933.982683982684,13773.766233766233,15019.04761904762,15774.935064935065,16641.03896103896,11078.398268398269,12933.982683982684,12883.809523809525,13899.61038961039,14865.238095238095,14009.82683982684,18678.39826839827,22171.60173160173,19987.8354978355,24789.65367965368,19685.974025974025,24479.5670995671,26235.627705627707,20020.735930735933,20224.718614718615,25682.900432900435,14407.922077922078,15269.91341991342,16443.636363636364,17324.545454545456,18431.64502164502,12184.675324675325,14317.445887445887,14440.0,15426.190476190477,16344.935064935065,17327.012987012986,18518.83116883117,12441.298701298701,14327.316017316018,14543.636363636364,15300.34632034632,16421.428571428572,14596.277056277057,12382.900432900433,14791.212121212122,21729.090909090908,26150.909090909092,22715.281385281385,26141.03896103896,27345.194805194806,20058.571428571428,21275.064935064936,17342.640692640693,14252.467532467532,18446.450216450216,19802.77056277056,21127.8354978355,22174.069264069265,14710.60606060606,17170.73593073593,17160.865800865802,18230.95238095238,19613.593073593074,20939.48051948052,22199.5670995671,14718.83116883117,16998.008658008657,17290.0,18413.549783549784,19692.554112554113,20934.545454545456,22167.489177489177,14789.567099567099,15779.04761904762,14384.069264069265,17404.329004329004,22780.259740259742,27698.87445887446,23209.61038961039,27933.290043290042,18379.00432900433,21564.588744588746,22685.670995670996,19946.709956709958,15371.904761904761,25872.077922077922,17265.324675324675,20181.12554112554,20100.51948051948,21752.943722943724,22767.922077922078,24414.588744588746,25865.497835497838,17156.753246753247,20279.00432900433,20062.683982683982,21384.458874458876,22945.584415584417,24329.87012987013,25980.64935064935,17137.8354978355,20164.675324675325,20180.303030303032,16599.91341991342,14610.25974025974,17352.510822510823,24431.03896103896,18406.147186147187,24570.865800865802,29615.324675324675,21450.259740259742,23051.68831168831,23852.81385281385,19987.012987012986,16422.25108225108,21696.190476190477,21659.17748917749,23128.18181818182,24491.08225108225,26450.303030303032,27696.406926406926,18360.909090909092,21487.272727272728,21602.424242424244,22989.17748917749,24281.341991341993,26185.454545454544,27565.627705627707,18503.203463203463,21622.987012987014,21538.2683982684,23058.2683982684,24700.822510822512,26102.380952380954,11052.900432900433,15492.813852813853,18394.632034632035,26139.39393939394,21779.26406926407,26042.337662337664,31427.316017316018,21596.666666666668,24218.83116883117,16057.878787878788,21709.35064935065,17474.242424242424,26235.627705627707,28134.805194805194,29989.5670995671,19783.852813852813,23034.415584415587,23056.623376623378,24715.627705627707,26337.61904761905,28302.597402597403,29341.428571428572,19901.471861471862,22660.99567099567,23059.91341991342,24917.14285714286,26331.03896103896,28004.848484848484,29608.74458874459,19530.51948051948,12883.809523809525,16269.264069264069,19837.316017316018,17232.424242424244,21372.121212121212,27536.017316017318,21038.18181818182,22948.87445887446,25975.714285714286,18379.00432900433,22920.909090909092,18107.575757575756,31130.38961038961,20766.753246753247,24443.376623376626,24287.09956709957,26149.26406926407,28105.194805194806,29452.467532467534,31373.852813852813,21066.147186147187,24180.99567099567,24073.246753246753,26029.17748917749,28050.909090909092,29824.242424242424,31516.969696969696,20827.61904761905,24363.593073593074,24437.61904761905,26135.281385281385,12898.61471861472,17601.7316017316,20787.316017316018,20183.593073593074,22847.70562770563,29431.904761904763,24510.822510822512,24533.030303030304,17269.43722943723,18807.532467532466,24331.515151515152,12384.545454545454,21396.796536796537,23092.81385281385,24394.848484848484,26130.34632034632,27878.18181818182,18472.77056277056,21417.359307359307,21467.532467532466,22999.04761904762,24273.939393939396,25997.09956709957,27586.190476190477,18361.7316017316,21646.017316017318,21455.194805194806,22873.203463203463,24641.60173160173,26089.22077922078,27645.411255411254,13962.121212121212,18542.683982683982,22201.21212121212,20094.761904761905,24468.87445887446,19699.95670995671,24114.372294372293,26069.48051948052,20140.0,19941.77489177489,25641.774891774894,14522.251082251083,24517.402597402597,26015.194805194806,17370.60606060606,20104.632034632035,20101.341991341993,21604.069264069265,23137.22943722944,24486.147186147187,25816.969696969696,17290.822510822512,20088.18181818182,19921.21212121212,21600.779220779223,22680.735930735933,24465.584415584417,25716.623376623378,17216.796536796537,19977.965367965367,14769.826839826841,12187.142857142857,14704.848484848486,21550.60606060606,26160.779220779223,23096.926406926406,26225.757575757576,27783.593073593074,20163.030303030304,21168.13852813853,17044.069264069265,14335.541125541125,16052.943722943723,18735.974025974025,18475.238095238095,19681.861471861474,21182.121212121212,22739.95670995671,23995.108225108226,15969.047619047618,18764.761904761905,18805.887445887445,20007.575757575756,21351.55844155844,22657.70562770563,23940.822510822512,15957.532467532468,18635.627705627707,18654.545454545456,19913.809523809523,21305.497835497838,15566.017316017316,14358.57142857143,17197.878787878788,22817.272727272728,27559.87012987013,22950.51948051948,27775.367965367965,18416.839826839827,21310.4329004329,22414.242424242424,20194.285714285714,15373.549783549784,21581.03896103896,23032.77056277056,24458.18181818182,25789.00432900433,17174.025974025975,20033.896103896106,20131.774891774894,21432.1645021645,22775.324675324675,24464.761904761905,25913.203463203463,17357.445887445887,20144.935064935064,20252.683982683982,21450.259740259742,23054.155844155845,24388.2683982684,25764.329004329004,16428.008658008657,14300.17316017316,17106.58008658009,24277.22943722944,18667.70562770563,24472.987012987014,29667.14285714286,21453.549783549784,22802.467532467534,23907.09956709957,20201.68831168831,16346.580086580087,17512.077922077922,18480.17316017316,12136.969696969698,14408.744588744588,14549.39393939394,15408.095238095239,16455.151515151516,17227.489177489177,18504.025974025975,12380.432900432901,14392.294372294373,14208.051948051949,15304.458874458875,16350.692640692641,17533.463203463205,18532.81385281385,12245.541125541125,14317.445887445887,14178.441558441558,14168.57142857143,19242.640692640693,23249.090909090908,20811.16883116883,25718.2683982684,20483.809523809523,25253.549783549784,27426.623376623378,20871.21212121212,20905.757575757576,26992.337662337664,14818.354978354979,13503.982683982684,13605.974025974027,14472.900432900433,15208.225108225108,16423.073593073594,17293.290043290042,11653.333333333334,13414.329004329005,13473.549783549784,14500.8658008658,15397.402597402597,16302.164502164502,17447.09956709957,11571.904761904761,13503.982683982684,13536.060606060606,14206.406926406926,15440.17316017316,16367.965367965367,15396.580086580087,12817.186147186147,15361.212121212122,22570.51948051948,27186.450216450216,24066.666666666668,27253.073593073594,29106.190476190477,20962.510822510823,22312.25108225108,17989.134199134198,15005.064935064935,16932.20779220779,18128.96103896104,19144.761904761905,12756.320346320346,15019.87012987013,14942.554112554113,16263.506493506495,17143.593073593074,18112.510822510823,19329.82683982684,12743.160173160173,14887.445887445887,14937.619047619048,16114.632034632035,17033.376623376622,18045.064935064936,16284.069264069265,14894.848484848486,17985.021645021647,24201.55844155844,28567.445887445887,23944.112554112555,29197.489177489177,19494.329004329004,22591.904761904763,23630.735930735933,21044.761904761905,16074.329004329005,20631.861471861474,21743.896103896106,23135.584415584417,15529.004329004329,17935.670995670996,17946.363636363636,19062.510822510823,20984.718614718615,21887.8354978355,23273.766233766233,15303.636363636364,18002.29437229437,17838.614718614717,19097.05627705628,20406.493506493505,21705.238095238095,23240.04329004329,15553.679653679654,17936.493506493505,17355.800865800866,14911.298701298701,17971.861471861474,25357.18614718615,19209.74025974026,25837.532467532466,31071.16883116883,22306.493506493505,24194.155844155845,24965.670995670996,21019.26406926407,16986.493506493505,17837.79220779221,20793.896103896102,20626.926406926406,22600.12987012987,24201.55844155844,25582.554112554113,27153.549783549784,17842.727272727272,20762.640692640693,20940.303030303032,22529.39393939394,23865.151515151516,25363.766233766233,27114.069264069265,17924.155844155845,20922.20779220779,20871.21212121212,22623.982683982686,11708.441558441558,16079.264069264069,19358.614718614717,26916.666666666668,22418.35497835498,27431.55844155844,32686.58008658009,22373.939393939396,25339.91341991342,16754.545454545456,22640.4329004329,18290.17316017316,22408.484848484848,24301.08225108225,25678.78787878788,27320.51948051948,29034.632034632035,19254.155844155845,22628.91774891775,22679.91341991342,24204.848484848484,25478.91774891775,27253.896103896106,28889.87012987013,19274.718614718615,22647.8354978355,22487.445887445887,24042.81385281385,25809.5670995671,27203.722943722943,28818.31168831169,13508.91774891775,17113.982683982686,20464.891774891774,17992.424242424244,22516.233766233767,29046.147186147187,21812.1645021645,24245.151515151516,27117.359307359307,19426.060606060608,23940.822510822512,19530.51948051948,29278.91774891775,31092.554112554113,20413.896103896106,24055.151515151516,23938.35497835498,25652.467532467534,27308.18181818182,29065.064935064936,30787.402597402597,20376.060606060608,23988.528138528138,23979.48051948052,25537.316017316018,27484.199134199134,28994.329004329004,30770.12987012987,20623.636363636364,24136.58008658009,13384.718614718615,18267.14285714286,21984.891774891774,21018.44155844156,24030.47619047619,30867.18614718615,25428.74458874459,25741.298701298703,17957.878787878788,19406.320346320346,25317.70562770563,12790.04329004329,21967.61904761905,25438.614718614717,25577.61904761905,27290.08658008658,29090.56277056277,30900.08658008658,32626.5367965368,22024.372294372293,25399.95670995671,25508.528138528138,27343.549783549784,29165.411255411254,30932.987012987014,32518.78787878788,21719.22077922078,25453.419913419915,25425.454545454548,27507.22943722944,29042.034632034633,14547.748917748919,19399.74025974026,23154.502164502166,20573.463203463205,25673.852813852813,20486.277056277057,25662.337662337664,27399.48051948052,20860.51948051948,20776.623376623378,27010.4329004329,15048.658008658009,24107.79220779221,25746.233766233767,27240.735930735933,28909.61038961039,19367.66233766234,22285.108225108226,22550.779220779223,24093.809523809523,25989.69696969697,27208.65800865801,28971.298701298703,19209.74025974026,22255.497835497838,22420.822510822512,24193.333333333332,25733.073593073594,27235.800865800866,29120.17316017316,19392.337662337664,15476.363636363636,12959.48051948052,15278.138528138528,22642.077922077922,27226.753246753247,24069.95670995671,27112.424242424244,29060.12987012987,21059.5670995671,21948.7012987013,17720.17316017316,15029.74025974026,27057.316017316018,17871.515151515152,21161.55844155844,21047.22943722944,22509.65367965368,23985.238095238095,25478.095238095237,27035.108225108226,18105.108225108226,20854.761904761905,20865.454545454544,22529.39393939394,23938.35497835498,25388.44155844156,26900.216450216452,17969.39393939394,21045.584415584417,20928.78787878788,16400.04329004329,15116.926406926406,17874.805194805194,23853.636363636364,28842.987012987014,23898.87445887446,29131.68831168831,19194.112554112555,22494.848484848484,23423.463203463205,20926.320346320346,15873.636363636364,19524.761904761905,19368.484848484848,20841.60173160173,22194.632034632035,23607.70562770563,25095.627705627707,16599.91341991342,19477.056277056276,19474.588744588746,20848.18181818182,22254.675324675325,23633.203463203463,25200.909090909092,16604.848484848484,19453.203463203463,19569.17748917749,20561.948051948053,22339.39393939394,23724.502164502166,17405.151515151516,15076.623376623376,17983.376623376622,25520.04329004329,19160.38961038961,25829.30735930736,30959.30735930736,22395.324675324675,23995.108225108226,25114.545454545456,21001.16883116883,17091.77489177489,24012.380952380954,25589.95670995671,27022.77056277056,18047.532467532466,21115.497835497838,20901.64502164502,22443.852813852813,23988.528138528138,25565.281385281385,26922.424242424244,17809.82683982684,21111.385281385283,20965.800865800866,22731.7316017316,24148.095238095237,25462.467532467534,27006.320346320346,17818.051948051947,11488.83116883117,16049.65367965368,19333.939393939396,27119.82683982684,22417.532467532466,27400.303030303032,32730.99567099567,22264.545454545456,25083.290043290042,16710.12987012987,22480.865800865802,18195.584415584417,19156.277056277057,12882.987012987012,15178.61471861472,15230.432900432901,15957.532467532468,17138.65800865801,17959.52380952381,19393.982683982686,12887.922077922078,14811.774891774892,14830.692640692641,16113.809523809525,17171.55844155844,18305.800865800866,19138.18181818182,12805.670995670996,15136.666666666668,14962.294372294373,15937.792207792209,16580.17316017316,13990.08658008658,19478.7012987013,26085.930735930735,31132.857142857145,26071.12554112554,31734.935064935067,20851.471861471862,24654.761904761905,25346.493506493505,22744.069264069265,17433.116883116883,14516.493506493507,15863.766233766233,16741.385281385283,17819.69696969697,18763.939393939396,12419.91341991342,14643.982683982684,14765.714285714286,15607.142857142857,16650.08658008658,17696.320346320346,18731.861471861474,12560.56277056277,14635.757575757576,14824.112554112555,15640.8658008658,16622.121212121212,17712.77056277056,18686.623376623378,17503.030303030304,16286.536796536797,19373.419913419915,27160.12987012987,20811.991341991343,27831.298701298703,33339.65367965368,24463.116883116883,26020.12987012987,27137.922077922078,22997.402597402597,18362.554112554113,19773.160173160173,20755.238095238095,13909.48051948052,16256.103896103896,16333.419913419913,17285.887445887445,18688.2683982684,19721.341991341993,20974.025974025975,14013.116883116883,16284.069264069265,16061.991341991343,17433.116883116883,18578.87445887446,19814.285714285714,20921.385281385283,13913.593073593074,18844.545454545456,16263.506493506495,21135.238095238095,29348.008658008657,24320.0,29459.04761904762,35452.683982683986,24272.29437229437,27387.14285714286,18248.22510822511,24152.20779220779,19516.5367965368,24939.35064935065,16823.636363636364,19499.26406926407,19337.22943722944,21012.683982683982,22426.58008658009,23620.04329004329,25054.502164502166,16761.948051948053,19662.121212121212,19517.359307359307,20908.22510822511,22114.848484848484,23556.709956709958,25079.17748917749,16818.7012987013,19483.636363636364,19550.259740259742,20665.584415584417,12501.341991341991,17257.09956709957,22330.34632034632,19364.372294372293,24595.541125541127,31410.04329004329,23681.7316017316,26011.904761904763,29242.727272727272,21137.70562770563,25900.865800865802,20807.878787878788,22624.805194805194,24267.359307359307,25863.852813852813,27394.545454545456,29402.294372294375,19460.60606060606,22826.320346320346,22723.506493506495,24184.285714285714,25977.359307359307,27402.77056277056,29261.64502164502,19422.77056277056,22913.506493506495,22644.545454545456,24393.203463203463,26254.545454545456,27786.883116883117,14645.627705627705,18501.55844155844,23824.025974025975,22702.121212121212,26071.948051948053,33569.956709956714,27465.281385281385,27923.419913419915,19395.627705627707,21059.5670995671,27655.281385281385,13889.74025974026,27811.55844155844,29212.294372294375,31154.242424242424,21046.406926406926,24296.147186147187,24449.134199134198,26099.090909090908,28038.571428571428,29260.822510822512,31184.675324675325,20934.545454545456,24141.515151515152,24265.714285714286,25931.298701298703,27948.91774891775,29677.012987012986,31561.385281385283,20569.35064935065,24065.021645021647,14631.645021645021,19739.43722943723,24940.99567099567,22610.822510822512,27976.060606060608,22633.030303030304,27378.91774891775,29964.069264069265,22635.497835497838,22543.376623376626,29215.584415584417,15941.08225108225,22258.78787878788,26061.255411255413,25963.376623376626,27873.246753246753,29792.1645021645,31281.7316017316,33278.78787878788,22227.532467532466,25807.922077922078,26287.445887445887,27916.839826839827,29731.298701298703,31554.805194805194,33657.96536796537,22112.380952380954,25941.16883116883,26022.597402597403,27827.18614718615,15715.714285714286,20600.60606060606,16524.242424242424,24441.7316017316,29491.12554112554,26030.0,29767.489177489177,31160.822510822512,22604.242424242424,24074.069264069265,19159.5670995671,16132.727272727274,27966.190476190477,29483.722943722943,31530.95238095238,33379.956709956714,35571.12554112554,23652.121212121212,27851.861471861474,27733.419913419915,29855.497835497838,31702.034632034633,33018.05194805195,35270.08658008658,23659.52380952381,27523.679653679654,27498.18181818182,29532.25108225108,31490.64935064935,33605.32467532468,35609.78354978355,16668.18181818182,14008.181818181818,19405.497835497838,26001.21212121212,31517.79220779221,25959.26406926407,31404.285714285714,20885.194805194806,24130.0,25852.337662337664,22644.545454545456,17496.450216450216,29586.5367965368,31341.774891774894,20882.727272727272,24225.411255411254,24490.259740259742,25960.08658008658,27938.22510822511,29548.7012987013,31302.294372294375,20895.064935064936,24300.259740259742,24422.81385281385,26132.813852813855,27832.943722943724,29616.969696969696,31116.406926406926,20865.454545454544,24295.324675324675,24727.965367965367,17526.883116883117,16351.515151515152,19630.04329004329,27650.34632034632,20927.965367965367,27949.74025974026,33486.88311688312,24347.965367965367,26041.515151515152,27045.800865800866,22727.61904761905,18702.25108225108,22646.190476190477,22565.584415584417,24335.627705627707,26076.883116883117,27456.233766233767,29294.545454545456,19625.108225108226,22684.025974025975,22773.679653679654,24431.03896103896,26006.147186147187,27544.242424242424,29167.05627705628,19363.549783549784,22650.303030303032,22990.822510822512,24309.30735930736,25920.60606060606,18762.29437229437,16088.311688311689,20904.935064935064,29389.1341991342,24251.7316017316,29627.66233766234,35719.17748917749,24267.359307359307,27505.584415584417,17971.03896103896,24296.147186147187,19810.99567099567,22447.965367965367,24085.584415584417,25777.489177489177,27397.8354978355,18091.948051948053,20996.233766233767,21313.722943722943,22818.09523809524,24240.216450216452,25658.22510822511,27081.16883116883,18130.60606060606,21380.34632034632,20821.03896103896,22629.74025974026,24312.597402597403,25480.56277056277,26903.506493506495,18075.497835497838,12654.329004329005,17484.112554112555,22510.47619047619,19586.450216450216,24221.298701298703,31530.95238095238,23776.320346320346,25923.073593073594,28870.95238095238,21328.528138528138,26093.333333333332,20716.58008658009,29407.22943722944,19461.428571428572,22793.419913419915,22784.372294372293,24364.415584415587,25842.467532467534,27563.160173160173,29189.26406926407,19486.926406926406,22565.584415584417,22735.844155844155,24300.259740259742,26022.597402597403,27500.64935064935,29081.515151515152,19428.528138528138,22872.380952380954,22688.13852813853,14575.714285714286,18520.47619047619,23618.39826839827,22718.571428571428,26275.108225108226,33483.593073593074,27466.103896103898,27736.709956709958,19324.069264069265,20963.333333333332,27550.822510822512,13979.39393939394,16257.748917748919,16274.199134199134,17362.380952380954,18577.22943722944,19823.333333333332,20598.96103896104,13844.502164502164,16264.329004329005,15986.320346320346,17608.31168831169,18546.796536796537,19894.069264069265,20723.160173160173,13843.679653679654,15908.181818181818,16088.311688311689,17364.025974025975,18338.7012987013,19569.17748917749,19500.909090909092,16953.593073593074,20218.13852813853,28578.96103896104,21623.809523809523,28716.320346320346,35034.02597402597,25271.64502164502,26755.454545454544,27837.878787878788,23421.818181818184,19296.103896103898,17425.714285714286,18452.20779220779,19494.329004329004,12948.78787878788,15224.675324675325,15335.714285714286,16063.636363636364,17325.367965367965,18581.341991341993,19601.25541125541,12910.952380952382,15236.190476190477,15175.324675324675,16072.683982683982,17368.13852813853,18267.965367965367,19581.515151515152,13027.748917748919,15204.935064935065,12972.640692640693,17992.424242424244,21653.419913419915,30249.48051948052,25538.96103896104,30657.445887445887,36960.34632034632,25322.640692640693,28630.779220779223,18846.190476190477,25527.445887445887,20182.77056277056,14459.74025974026,16849.95670995671,16917.402597402597,17941.428571428572,19344.632034632035,20441.03896103896,21736.493506493505,14340.47619047619,16928.91774891775,16799.78354978355,18199.69696969697,19273.896103896106,20605.541125541127,21859.87012987013,14435.064935064935,16768.528138528138,15339.82683982684,19329.82683982684,23060.735930735933,20327.532467532466,25304.545454545456,32843.679653679654,24490.259740259742,26996.450216450216,30038.91774891775,22087.70562770563,27013.722943722943,21823.679653679654,17431.471861471862,20427.05627705628,20038.83116883117,21589.26406926407,22966.147186147187,24590.60606060606,25895.108225108226,17186.363636363636,20318.484848484848,20355.497835497838,21478.22510822511,22974.372294372293,24656.406926406926,26118.008658008657,17283.419913419915,20310.259740259742,20130.12987012987,21708.528138528138,22892.943722943724,15224.675324675325,20577.575757575756,24274.761904761905,23412.77056277056,27129.69696969697,34595.6277056277,28571.55844155844,28898.09523809524,20254.329004329004,21953.636363636364,28840.51948051948,14296.883116883117,25082.467532467534,26677.316017316018,28612.683982683982,30020.0,20318.484848484848,23465.411255411254,23619.22077922078,25399.95670995671,26943.809523809523,28640.64935064935,30512.683982683982,20153.982683982686,23573.160173160173,23538.614718614717,25259.30735930736,27196.320346320346,28510.692640692643,30256.060606060608,16363.852813852815,21454.372294372293,26067.8354978355,23297.61904761905,29131.68831168831,22860.865800865802,28525.497835497838,30627.8354978355,23268.008658008657,23323.939393939396,30353.116883116883,16595.800865800866,30717.489177489177,32414.329004329004,21542.380952380954,25437.79220779221,25101.385281385283,27109.95670995671,29176.926406926406,30983.160173160173,32796.79653679654,21676.450216450216,25176.233766233767,25289.74025974026,27233.333333333332,29190.909090909092,30696.926406926406,32420.909090909092,21544.848484848484,24921.255411255413,25385.151515151516,17267.79220779221,14463.030303030304,17299.04761904762,25223.116883116883,30838.39826839827,27088.571428571428,30593.290043290042,32320.56277056277,23497.489177489177,24860.38961038961,20358.78787878788,16729.87012987013,27007.14285714286,27185.627705627707,28821.60173160173,30640.99567099567,32982.683982683986,34548.74458874459,23172.597402597403,26978.35497835498,27095.974025974025,28664.502164502166,30783.290043290042,32490.0,34569.30735930736,23184.112554112555,27018.65800865801,26907.61904761905,29042.857142857145,30582.597402597403,18581.341991341993,16806.363636363636,20079.134199134198,27008.78787878788,32456.277056277057,27193.030303030304,32891.38528138528,21905.930735930735,25207.489177489177,26475.800865800866,23788.65800865801,17944.718614718615,30439.48051948052,33003.246753246756,34685.281385281385,36894.545454545456,24641.60173160173,28471.21212121212,28778.008658008657,30645.108225108226,32751.55844155844,34967.4025974026,36873.982683982686,24709.04761904762,28713.852813852816,28769.78354978355,30641.818181818184,32316.450216450216,34636.753246753244,36874.805194805194,24810.216450216452,19493.506493506495,16690.38961038961,20503.549783549784,28925.238095238095,21685.497835497838,29117.70562770563,34264.97835497835,25356.363636363636,27272.81385281385,28124.935064935067,23638.13852813853,19305.151515151516,32482.597402597403,21503.722943722943,25080.822510822512,25268.35497835498,27186.450216450216,28985.281385281385,30888.571428571428,32918.52813852814,21539.91341991342,25417.22943722944,25189.39393939394,27091.861471861474,28692.467532467534,31052.25108225108,32703.030303030304,21843.419913419915,25312.77056277056,25161.428571428572,27091.03896103896,12993.203463203463,17952.943722943724,21374.588744588746,30106.363636363636,25422.987012987014,30682.943722943724,36692.207792207795,25266.709956709958,28529.61038961039,18896.363636363636,25379.39393939394,20407.316017316018,23718.74458874459,25363.766233766233,26806.450216450216,28736.883116883117,30298.008658008657,20213.203463203463,23498.31168831169,23840.47619047619,25240.38961038961,26909.26406926407,28503.290043290042,30116.233766233767,20394.978354978357,23471.991341991343,23898.87445887446,25115.367965367965,26896.103896103898,28477.79220779221,15305.281385281385,19355.324675324675,23069.78354978355,20273.246753246753,25411.471861471862,32780.34632034632,24447.489177489177,27233.333333333336,30566.147186147187,21778.44155844156,27016.190476190477,21715.930735930735,24966.493506493505,26827.012987012986,28066.5367965368,18868.39826839827,21991.471861471862,21996.406926406926,23680.08658008658,25110.4329004329,26887.878787878788,28278.74458874459,18888.96103896104,21791.60173160173,22038.35497835498,23383.982683982686,25058.61471861472,26642.77056277056,28221.991341991343,18666.883116883117,21837.66233766234,15209.04761904762,20818.571428571428,24539.61038961039,23509.00432900433,27335.324675324675,34563.54978354978,28745.930735930735,28856.969696969696,20270.779220779223,22124.718614718615,28356.883116883117,14491.818181818182,20237.05627705628,23658.7012987013,23529.5670995671,25277.402597402597,26954.502164502166,28793.636363636364,30034.805194805194,20263.376623376626,23710.51948051948,23291.03896103896,25444.372294372293,26819.61038961039,28737.70562770563,30410.69264069264,20091.471861471862,23678.44155844156,23623.333333333332,25348.96103896104,16190.30303030303,21785.844155844155,26160.779220779223,23531.21212121212,28830.64935064935,22888.008658008657,28642.294372294375,30761.904761904763,23471.991341991343,23474.458874458876,30378.61471861472,16644.329004329004,17028.44155844156,18125.670995670996,19395.627705627707,20524.112554112555,21522.640692640693,14596.277056277057,16875.454545454544,16898.484848484848,18271.25541125541,19384.112554112555,20367.8354978355,21492.20779220779,14407.922077922078,17057.22943722944,16761.12554112554,18000.64935064935,19357.79220779221,20552.900432900435,21730.73593073593],\"type\":\"scatter\"}],                        {\"title\":{\"text\":\"Daily sales\"},\"xaxis\":{\"title\":{\"text\":\"Date\"}},\"yaxis\":{\"title\":{\"text\":\"Sales\"}},\"template\":{\"data\":{\"histogram2dcontour\":[{\"type\":\"histogram2dcontour\",\"colorbar\":{\"outlinewidth\":0,\"ticks\":\"\"},\"colorscale\":[[0.0,\"#0d0887\"],[0.1111111111111111,\"#46039f\"],[0.2222222222222222,\"#7201a8\"],[0.3333333333333333,\"#9c179e\"],[0.4444444444444444,\"#bd3786\"],[0.5555555555555556,\"#d8576b\"],[0.6666666666666666,\"#ed7953\"],[0.7777777777777778,\"#fb9f3a\"],[0.8888888888888888,\"#fdca26\"],[1.0,\"#f0f921\"]]}],\"choropleth\":[{\"type\":\"choropleth\",\"colorbar\":{\"outlinewidth\":0,\"ticks\":\"\"}}],\"histogram2d\":[{\"type\":\"histogram2d\",\"colorbar\":{\"outlinewidth\":0,\"ticks\":\"\"},\"colorscale\":[[0.0,\"#0d0887\"],[0.1111111111111111,\"#46039f\"],[0.2222222222222222,\"#7201a8\"],[0.3333333333333333,\"#9c179e\"],[0.4444444444444444,\"#bd3786\"],[0.5555555555555556,\"#d8576b\"],[0.6666666666666666,\"#ed7953\"],[0.7777777777777778,\"#fb9f3a\"],[0.8888888888888888,\"#fdca26\"],[1.0,\"#f0f921\"]]}],\"heatmap\":[{\"type\":\"heatmap\",\"colorbar\":{\"outlinewidth\":0,\"ticks\":\"\"},\"colorscale\":[[0.0,\"#0d0887\"],[0.1111111111111111,\"#46039f\"],[0.2222222222222222,\"#7201a8\"],[0.3333333333333333,\"#9c179e\"],[0.4444444444444444,\"#bd3786\"],[0.5555555555555556,\"#d8576b\"],[0.6666666666666666,\"#ed7953\"],[0.7777777777777778,\"#fb9f3a\"],[0.8888888888888888,\"#fdca26\"],[1.0,\"#f0f921\"]]}],\"heatmapgl\":[{\"type\":\"heatmapgl\",\"colorbar\":{\"outlinewidth\":0,\"ticks\":\"\"},\"colorscale\":[[0.0,\"#0d0887\"],[0.1111111111111111,\"#46039f\"],[0.2222222222222222,\"#7201a8\"],[0.3333333333333333,\"#9c179e\"],[0.4444444444444444,\"#bd3786\"],[0.5555555555555556,\"#d8576b\"],[0.6666666666666666,\"#ed7953\"],[0.7777777777777778,\"#fb9f3a\"],[0.8888888888888888,\"#fdca26\"],[1.0,\"#f0f921\"]]}],\"contourcarpet\":[{\"type\":\"contourcarpet\",\"colorbar\":{\"outlinewidth\":0,\"ticks\":\"\"}}],\"contour\":[{\"type\":\"contour\",\"colorbar\":{\"outlinewidth\":0,\"ticks\":\"\"},\"colorscale\":[[0.0,\"#0d0887\"],[0.1111111111111111,\"#46039f\"],[0.2222222222222222,\"#7201a8\"],[0.3333333333333333,\"#9c179e\"],[0.4444444444444444,\"#bd3786\"],[0.5555555555555556,\"#d8576b\"],[0.6666666666666666,\"#ed7953\"],[0.7777777777777778,\"#fb9f3a\"],[0.8888888888888888,\"#fdca26\"],[1.0,\"#f0f921\"]]}],\"surface\":[{\"type\":\"surface\",\"colorbar\":{\"outlinewidth\":0,\"ticks\":\"\"},\"colorscale\":[[0.0,\"#0d0887\"],[0.1111111111111111,\"#46039f\"],[0.2222222222222222,\"#7201a8\"],[0.3333333333333333,\"#9c179e\"],[0.4444444444444444,\"#bd3786\"],[0.5555555555555556,\"#d8576b\"],[0.6666666666666666,\"#ed7953\"],[0.7777777777777778,\"#fb9f3a\"],[0.8888888888888888,\"#fdca26\"],[1.0,\"#f0f921\"]]}],\"mesh3d\":[{\"type\":\"mesh3d\",\"colorbar\":{\"outlinewidth\":0,\"ticks\":\"\"}}],\"scatter\":[{\"fillpattern\":{\"fillmode\":\"overlay\",\"size\":10,\"solidity\":0.2},\"type\":\"scatter\"}],\"parcoords\":[{\"type\":\"parcoords\",\"line\":{\"colorbar\":{\"outlinewidth\":0,\"ticks\":\"\"}}}],\"scatterpolargl\":[{\"type\":\"scatterpolargl\",\"marker\":{\"colorbar\":{\"outlinewidth\":0,\"ticks\":\"\"}}}],\"bar\":[{\"error_x\":{\"color\":\"#2a3f5f\"},\"error_y\":{\"color\":\"#2a3f5f\"},\"marker\":{\"line\":{\"color\":\"#E5ECF6\",\"width\":0.5},\"pattern\":{\"fillmode\":\"overlay\",\"size\":10,\"solidity\":0.2}},\"type\":\"bar\"}],\"scattergeo\":[{\"type\":\"scattergeo\",\"marker\":{\"colorbar\":{\"outlinewidth\":0,\"ticks\":\"\"}}}],\"scatterpolar\":[{\"type\":\"scatterpolar\",\"marker\":{\"colorbar\":{\"outlinewidth\":0,\"ticks\":\"\"}}}],\"histogram\":[{\"marker\":{\"pattern\":{\"fillmode\":\"overlay\",\"size\":10,\"solidity\":0.2}},\"type\":\"histogram\"}],\"scattergl\":[{\"type\":\"scattergl\",\"marker\":{\"colorbar\":{\"outlinewidth\":0,\"ticks\":\"\"}}}],\"scatter3d\":[{\"type\":\"scatter3d\",\"line\":{\"colorbar\":{\"outlinewidth\":0,\"ticks\":\"\"}},\"marker\":{\"colorbar\":{\"outlinewidth\":0,\"ticks\":\"\"}}}],\"scattermapbox\":[{\"type\":\"scattermapbox\",\"marker\":{\"colorbar\":{\"outlinewidth\":0,\"ticks\":\"\"}}}],\"scatterternary\":[{\"type\":\"scatterternary\",\"marker\":{\"colorbar\":{\"outlinewidth\":0,\"ticks\":\"\"}}}],\"scattercarpet\":[{\"type\":\"scattercarpet\",\"marker\":{\"colorbar\":{\"outlinewidth\":0,\"ticks\":\"\"}}}],\"carpet\":[{\"aaxis\":{\"endlinecolor\":\"#2a3f5f\",\"gridcolor\":\"white\",\"linecolor\":\"white\",\"minorgridcolor\":\"white\",\"startlinecolor\":\"#2a3f5f\"},\"baxis\":{\"endlinecolor\":\"#2a3f5f\",\"gridcolor\":\"white\",\"linecolor\":\"white\",\"minorgridcolor\":\"white\",\"startlinecolor\":\"#2a3f5f\"},\"type\":\"carpet\"}],\"table\":[{\"cells\":{\"fill\":{\"color\":\"#EBF0F8\"},\"line\":{\"color\":\"white\"}},\"header\":{\"fill\":{\"color\":\"#C8D4E3\"},\"line\":{\"color\":\"white\"}},\"type\":\"table\"}],\"barpolar\":[{\"marker\":{\"line\":{\"color\":\"#E5ECF6\",\"width\":0.5},\"pattern\":{\"fillmode\":\"overlay\",\"size\":10,\"solidity\":0.2}},\"type\":\"barpolar\"}],\"pie\":[{\"automargin\":true,\"type\":\"pie\"}]},\"layout\":{\"autotypenumbers\":\"strict\",\"colorway\":[\"#636efa\",\"#EF553B\",\"#00cc96\",\"#ab63fa\",\"#FFA15A\",\"#19d3f3\",\"#FF6692\",\"#B6E880\",\"#FF97FF\",\"#FECB52\"],\"font\":{\"color\":\"#2a3f5f\"},\"hovermode\":\"closest\",\"hoverlabel\":{\"align\":\"left\"},\"paper_bgcolor\":\"white\",\"plot_bgcolor\":\"#E5ECF6\",\"polar\":{\"bgcolor\":\"#E5ECF6\",\"angularaxis\":{\"gridcolor\":\"white\",\"linecolor\":\"white\",\"ticks\":\"\"},\"radialaxis\":{\"gridcolor\":\"white\",\"linecolor\":\"white\",\"ticks\":\"\"}},\"ternary\":{\"bgcolor\":\"#E5ECF6\",\"aaxis\":{\"gridcolor\":\"white\",\"linecolor\":\"white\",\"ticks\":\"\"},\"baxis\":{\"gridcolor\":\"white\",\"linecolor\":\"white\",\"ticks\":\"\"},\"caxis\":{\"gridcolor\":\"white\",\"linecolor\":\"white\",\"ticks\":\"\"}},\"coloraxis\":{\"colorbar\":{\"outlinewidth\":0,\"ticks\":\"\"}},\"colorscale\":{\"sequential\":[[0.0,\"#0d0887\"],[0.1111111111111111,\"#46039f\"],[0.2222222222222222,\"#7201a8\"],[0.3333333333333333,\"#9c179e\"],[0.4444444444444444,\"#bd3786\"],[0.5555555555555556,\"#d8576b\"],[0.6666666666666666,\"#ed7953\"],[0.7777777777777778,\"#fb9f3a\"],[0.8888888888888888,\"#fdca26\"],[1.0,\"#f0f921\"]],\"sequentialminus\":[[0.0,\"#0d0887\"],[0.1111111111111111,\"#46039f\"],[0.2222222222222222,\"#7201a8\"],[0.3333333333333333,\"#9c179e\"],[0.4444444444444444,\"#bd3786\"],[0.5555555555555556,\"#d8576b\"],[0.6666666666666666,\"#ed7953\"],[0.7777777777777778,\"#fb9f3a\"],[0.8888888888888888,\"#fdca26\"],[1.0,\"#f0f921\"]],\"diverging\":[[0,\"#8e0152\"],[0.1,\"#c51b7d\"],[0.2,\"#de77ae\"],[0.3,\"#f1b6da\"],[0.4,\"#fde0ef\"],[0.5,\"#f7f7f7\"],[0.6,\"#e6f5d0\"],[0.7,\"#b8e186\"],[0.8,\"#7fbc41\"],[0.9,\"#4d9221\"],[1,\"#276419\"]]},\"xaxis\":{\"gridcolor\":\"white\",\"linecolor\":\"white\",\"ticks\":\"\",\"title\":{\"standoff\":15},\"zerolinecolor\":\"white\",\"automargin\":true,\"zerolinewidth\":2},\"yaxis\":{\"gridcolor\":\"white\",\"linecolor\":\"white\",\"ticks\":\"\",\"title\":{\"standoff\":15},\"zerolinecolor\":\"white\",\"automargin\":true,\"zerolinewidth\":2},\"scene\":{\"xaxis\":{\"backgroundcolor\":\"#E5ECF6\",\"gridcolor\":\"white\",\"linecolor\":\"white\",\"showbackground\":true,\"ticks\":\"\",\"zerolinecolor\":\"white\",\"gridwidth\":2},\"yaxis\":{\"backgroundcolor\":\"#E5ECF6\",\"gridcolor\":\"white\",\"linecolor\":\"white\",\"showbackground\":true,\"ticks\":\"\",\"zerolinecolor\":\"white\",\"gridwidth\":2},\"zaxis\":{\"backgroundcolor\":\"#E5ECF6\",\"gridcolor\":\"white\",\"linecolor\":\"white\",\"showbackground\":true,\"ticks\":\"\",\"zerolinecolor\":\"white\",\"gridwidth\":2}},\"shapedefaults\":{\"line\":{\"color\":\"#2a3f5f\"}},\"annotationdefaults\":{\"arrowcolor\":\"#2a3f5f\",\"arrowhead\":0,\"arrowwidth\":1},\"geo\":{\"bgcolor\":\"white\",\"landcolor\":\"#E5ECF6\",\"subunitcolor\":\"white\",\"showland\":true,\"showlakes\":true,\"lakecolor\":\"white\"},\"title\":{\"x\":0.05},\"mapbox\":{\"style\":\"light\"}}}},                        {\"responsive\": true}                    ).then(function(){\n",
              "                            \n",
              "var gd = document.getElementById('fe452889-051e-4191-a17e-5aafc4aa736a');\n",
              "var x = new MutationObserver(function (mutations, observer) {{\n",
              "        var display = window.getComputedStyle(gd).display;\n",
              "        if (!display || display === 'none') {{\n",
              "            console.log([gd, 'removed!']);\n",
              "            Plotly.purge(gd);\n",
              "            observer.disconnect();\n",
              "        }}\n",
              "}});\n",
              "\n",
              "// Listen for the removal of the full notebook cells\n",
              "var notebookContainer = gd.closest('#notebook-container');\n",
              "if (notebookContainer) {{\n",
              "    x.observe(notebookContainer, {childList: true});\n",
              "}}\n",
              "\n",
              "// Listen for the clearing of the current output cell\n",
              "var outputEl = gd.closest('.output');\n",
              "if (outputEl) {{\n",
              "    x.observe(outputEl, {childList: true});\n",
              "}}\n",
              "\n",
              "                        })                };                            </script>        </div>\n",
              "</body>\n",
              "</html>"
            ]
          },
          "metadata": {},
          "output_type": "display_data"
        }
      ],
      "source": [
        "daily_sales_sc = go.Scatter(x=daily_sales['date'], y=daily_sales['sales'])\n",
        "layout = go.Layout(title='Daily sales', xaxis=dict(title='Date'), yaxis=dict(title='Sales'))\n",
        "fig = go.Figure(data=[daily_sales_sc], layout=layout)\n",
        "fig = go.Figure(data=[daily_sales_sc],layout=layout)\n",
        "fig.show(renderer=\"colab\")"
      ]
    },
    {
      "cell_type": "code",
      "execution_count": null,
      "metadata": {
        "id": "mWvEi5760qhO"
      },
      "outputs": [],
      "source": [
        "import plotly.io as pio\n",
        "pio.renderers.default='notebook'"
      ]
    },
    {
      "cell_type": "markdown",
      "metadata": {
        "id": "MQvB2lnV1YOX"
      },
      "source": [
        "Reduce training set with the last year alone"
      ]
    },
    {
      "cell_type": "code",
      "execution_count": null,
      "metadata": {
        "colab": {
          "base_uri": "https://localhost:8080/"
        },
        "id": "cudPwEdH1ioO",
        "outputId": "34215564-2d9e-45d3-d353-79e4aa64d3dc"
      },
      "outputs": [
        {
          "name": "stdout",
          "output_type": "stream",
          "text": [
            "             date  store  item      sales weekday_weekend\n",
            "447005 2017-01-01      5    25  54.285714         weekend\n",
            "574825 2017-01-01      5    32  23.852814         weekend\n",
            "708123 2017-01-01      8    39  34.545455         weekend\n",
            "753773 2017-01-01      3    42  25.497835         weekend\n",
            "547435 2017-01-01     10    30  45.238095         weekend\n"
          ]
        }
      ],
      "source": [
        "train = train[(train['date'] >= '2017-01-01')]\n",
        "print(train.head())"
      ]
    },
    {
      "cell_type": "markdown",
      "metadata": {
        "id": "LhY0fm7S1nwO"
      },
      "source": [
        "Rearrange datasets to apply shift methods\n"
      ]
    },
    {
      "cell_type": "code",
      "execution_count": null,
      "metadata": {
        "colab": {
          "base_uri": "https://localhost:8080/",
          "height": 206
        },
        "id": "u1Ca3ACn1tJN",
        "outputId": "61cd3057-e11c-4520-8a62-d6c8aca8afcd"
      },
      "outputs": [
        {
          "data": {
            "text/html": [
              "\n",
              "  <div id=\"df-eae3394e-6036-4791-9bda-aa6b74926bfa\">\n",
              "    <div class=\"colab-df-container\">\n",
              "      <div>\n",
              "<style scoped>\n",
              "    .dataframe tbody tr th:only-of-type {\n",
              "        vertical-align: middle;\n",
              "    }\n",
              "\n",
              "    .dataframe tbody tr th {\n",
              "        vertical-align: top;\n",
              "    }\n",
              "\n",
              "    .dataframe thead th {\n",
              "        text-align: right;\n",
              "    }\n",
              "</style>\n",
              "<table border=\"1\" class=\"dataframe\">\n",
              "  <thead>\n",
              "    <tr style=\"text-align: right;\">\n",
              "      <th></th>\n",
              "      <th>item</th>\n",
              "      <th>store</th>\n",
              "      <th>date</th>\n",
              "      <th>sales</th>\n",
              "    </tr>\n",
              "  </thead>\n",
              "  <tbody>\n",
              "    <tr>\n",
              "      <th>0</th>\n",
              "      <td>1</td>\n",
              "      <td>1</td>\n",
              "      <td>2017-01-01</td>\n",
              "      <td>15.627706</td>\n",
              "    </tr>\n",
              "    <tr>\n",
              "      <th>1</th>\n",
              "      <td>1</td>\n",
              "      <td>1</td>\n",
              "      <td>2017-01-02</td>\n",
              "      <td>12.337662</td>\n",
              "    </tr>\n",
              "    <tr>\n",
              "      <th>2</th>\n",
              "      <td>1</td>\n",
              "      <td>1</td>\n",
              "      <td>2017-01-03</td>\n",
              "      <td>13.160173</td>\n",
              "    </tr>\n",
              "    <tr>\n",
              "      <th>3</th>\n",
              "      <td>1</td>\n",
              "      <td>1</td>\n",
              "      <td>2017-01-04</td>\n",
              "      <td>21.385281</td>\n",
              "    </tr>\n",
              "    <tr>\n",
              "      <th>4</th>\n",
              "      <td>1</td>\n",
              "      <td>1</td>\n",
              "      <td>2017-01-05</td>\n",
              "      <td>12.337662</td>\n",
              "    </tr>\n",
              "  </tbody>\n",
              "</table>\n",
              "</div>\n",
              "      <button class=\"colab-df-convert\" onclick=\"convertToInteractive('df-eae3394e-6036-4791-9bda-aa6b74926bfa')\"\n",
              "              title=\"Convert this dataframe to an interactive table.\"\n",
              "              style=\"display:none;\">\n",
              "        \n",
              "  <svg xmlns=\"http://www.w3.org/2000/svg\" height=\"24px\"viewBox=\"0 0 24 24\"\n",
              "       width=\"24px\">\n",
              "    <path d=\"M0 0h24v24H0V0z\" fill=\"none\"/>\n",
              "    <path d=\"M18.56 5.44l.94 2.06.94-2.06 2.06-.94-2.06-.94-.94-2.06-.94 2.06-2.06.94zm-11 1L8.5 8.5l.94-2.06 2.06-.94-2.06-.94L8.5 2.5l-.94 2.06-2.06.94zm10 10l.94 2.06.94-2.06 2.06-.94-2.06-.94-.94-2.06-.94 2.06-2.06.94z\"/><path d=\"M17.41 7.96l-1.37-1.37c-.4-.4-.92-.59-1.43-.59-.52 0-1.04.2-1.43.59L10.3 9.45l-7.72 7.72c-.78.78-.78 2.05 0 2.83L4 21.41c.39.39.9.59 1.41.59.51 0 1.02-.2 1.41-.59l7.78-7.78 2.81-2.81c.8-.78.8-2.07 0-2.86zM5.41 20L4 18.59l7.72-7.72 1.47 1.35L5.41 20z\"/>\n",
              "  </svg>\n",
              "      </button>\n",
              "      \n",
              "  <style>\n",
              "    .colab-df-container {\n",
              "      display:flex;\n",
              "      flex-wrap:wrap;\n",
              "      gap: 12px;\n",
              "    }\n",
              "\n",
              "    .colab-df-convert {\n",
              "      background-color: #E8F0FE;\n",
              "      border: none;\n",
              "      border-radius: 50%;\n",
              "      cursor: pointer;\n",
              "      display: none;\n",
              "      fill: #1967D2;\n",
              "      height: 32px;\n",
              "      padding: 0 0 0 0;\n",
              "      width: 32px;\n",
              "    }\n",
              "\n",
              "    .colab-df-convert:hover {\n",
              "      background-color: #E2EBFA;\n",
              "      box-shadow: 0px 1px 2px rgba(60, 64, 67, 0.3), 0px 1px 3px 1px rgba(60, 64, 67, 0.15);\n",
              "      fill: #174EA6;\n",
              "    }\n",
              "\n",
              "    [theme=dark] .colab-df-convert {\n",
              "      background-color: #3B4455;\n",
              "      fill: #D2E3FC;\n",
              "    }\n",
              "\n",
              "    [theme=dark] .colab-df-convert:hover {\n",
              "      background-color: #434B5C;\n",
              "      box-shadow: 0px 1px 3px 1px rgba(0, 0, 0, 0.15);\n",
              "      filter: drop-shadow(0px 1px 2px rgba(0, 0, 0, 0.3));\n",
              "      fill: #FFFFFF;\n",
              "    }\n",
              "  </style>\n",
              "\n",
              "      <script>\n",
              "        const buttonEl =\n",
              "          document.querySelector('#df-eae3394e-6036-4791-9bda-aa6b74926bfa button.colab-df-convert');\n",
              "        buttonEl.style.display =\n",
              "          google.colab.kernel.accessAllowed ? 'block' : 'none';\n",
              "\n",
              "        async function convertToInteractive(key) {\n",
              "          const element = document.querySelector('#df-eae3394e-6036-4791-9bda-aa6b74926bfa');\n",
              "          const dataTable =\n",
              "            await google.colab.kernel.invokeFunction('convertToInteractive',\n",
              "                                                     [key], {});\n",
              "          if (!dataTable) return;\n",
              "\n",
              "          const docLinkHtml = 'Like what you see? Visit the ' +\n",
              "            '<a target=\"_blank\" href=https://colab.research.google.com/notebooks/data_table.ipynb>data table notebook</a>'\n",
              "            + ' to learn more about interactive tables.';\n",
              "          element.innerHTML = '';\n",
              "          dataTable['output_type'] = 'display_data';\n",
              "          await google.colab.output.renderOutput(dataTable, element);\n",
              "          const docLink = document.createElement('div');\n",
              "          docLink.innerHTML = docLinkHtml;\n",
              "          element.appendChild(docLink);\n",
              "        }\n",
              "      </script>\n",
              "    </div>\n",
              "  </div>\n",
              "  "
            ],
            "text/plain": [
              "   item  store       date      sales\n",
              "0     1      1 2017-01-01  15.627706\n",
              "1     1      1 2017-01-02  12.337662\n",
              "2     1      1 2017-01-03  13.160173\n",
              "3     1      1 2017-01-04  21.385281\n",
              "4     1      1 2017-01-05  12.337662"
            ]
          },
          "execution_count": 17,
          "metadata": {},
          "output_type": "execute_result"
        }
      ],
      "source": [
        "train_gp = train.sort_values('date').groupby(['item', 'store', 'date'], as_index=False)\n",
        "train_gp = train_gp.agg({'sales':['mean']})\n",
        "train_gp.columns = ['item', 'store', 'date', 'sales']\n",
        "train_gp.head()"
      ]
    },
    {
      "cell_type": "markdown",
      "metadata": {
        "id": "SXoZ7S6K10xe"
      },
      "source": [
        "Conversion of pandas data into supervised data"
      ]
    },
    {
      "cell_type": "code",
      "execution_count": null,
      "metadata": {
        "id": "PME5Nj_D15f0"
      },
      "outputs": [],
      "source": [
        "def series_to_supervised(data, window=1, lag=1, dropnan=True):\n",
        "    cols, names = list(), list()\n",
        "    # Input sequence (t-n, ... t-1)\n",
        "    for i in range(window, 0, -1):\n",
        "        cols.append(data.shift(i))\n",
        "        names += [('%s(t-%d)' % (col, i)) for col in data.columns]\n",
        "    # Current timestep (t=0)\n",
        "    cols.append(data)\n",
        "    names += [('%s(t)' % (col)) for col in data.columns]\n",
        "    # Target timestep (t=lag)\n",
        "    cols.append(data.shift(-lag))\n",
        "    names += [('%s(t+%d)' % (col, lag)) for col in data.columns]\n",
        "    # Put it all together\n",
        "    agg = pd.concat(cols, axis=1)\n",
        "    agg.columns = names\n",
        "    # Drop rows with NaN values\n",
        "    if dropnan:\n",
        "        agg.dropna(inplace=True)\n",
        "    return agg"
      ]
    },
    {
      "cell_type": "markdown",
      "metadata": {
        "id": "FJNDXz1K2BPO"
      },
      "source": [
        "forecast 90 days with current timesteps\n"
      ]
    },
    {
      "cell_type": "code",
      "execution_count": null,
      "metadata": {
        "colab": {
          "base_uri": "https://localhost:8080/",
          "height": 317
        },
        "id": "ojhmEPiaVttq",
        "outputId": "ab1810c8-d1da-4e9b-d2a7-42a0207c7510"
      },
      "outputs": [
        {
          "data": {
            "text/html": [
              "\n",
              "  <div id=\"df-0ec0250d-9165-4aa7-a84b-2533f6025306\">\n",
              "    <div class=\"colab-df-container\">\n",
              "      <div>\n",
              "<style scoped>\n",
              "    .dataframe tbody tr th:only-of-type {\n",
              "        vertical-align: middle;\n",
              "    }\n",
              "\n",
              "    .dataframe tbody tr th {\n",
              "        vertical-align: top;\n",
              "    }\n",
              "\n",
              "    .dataframe thead th {\n",
              "        text-align: right;\n",
              "    }\n",
              "</style>\n",
              "<table border=\"1\" class=\"dataframe\">\n",
              "  <thead>\n",
              "    <tr style=\"text-align: right;\">\n",
              "      <th></th>\n",
              "      <th>item(t-29)</th>\n",
              "      <th>store(t-29)</th>\n",
              "      <th>sales(t-29)</th>\n",
              "      <th>item(t-28)</th>\n",
              "      <th>store(t-28)</th>\n",
              "      <th>sales(t-28)</th>\n",
              "      <th>item(t-27)</th>\n",
              "      <th>store(t-27)</th>\n",
              "      <th>sales(t-27)</th>\n",
              "      <th>item(t-26)</th>\n",
              "      <th>...</th>\n",
              "      <th>sales(t-2)</th>\n",
              "      <th>item(t-1)</th>\n",
              "      <th>store(t-1)</th>\n",
              "      <th>sales(t-1)</th>\n",
              "      <th>item(t)</th>\n",
              "      <th>store(t)</th>\n",
              "      <th>sales(t)</th>\n",
              "      <th>item(t+337)</th>\n",
              "      <th>store(t+337)</th>\n",
              "      <th>sales(t+337)</th>\n",
              "    </tr>\n",
              "  </thead>\n",
              "  <tbody>\n",
              "    <tr>\n",
              "      <th>29</th>\n",
              "      <td>1.0</td>\n",
              "      <td>1.0</td>\n",
              "      <td>15.627706</td>\n",
              "      <td>1.0</td>\n",
              "      <td>1.0</td>\n",
              "      <td>12.337662</td>\n",
              "      <td>1.0</td>\n",
              "      <td>1.0</td>\n",
              "      <td>13.160173</td>\n",
              "      <td>1.0</td>\n",
              "      <td>...</td>\n",
              "      <td>13.160173</td>\n",
              "      <td>1.0</td>\n",
              "      <td>1.0</td>\n",
              "      <td>19.740260</td>\n",
              "      <td>1</td>\n",
              "      <td>1</td>\n",
              "      <td>7.402597</td>\n",
              "      <td>1.0</td>\n",
              "      <td>2.0</td>\n",
              "      <td>18.095238</td>\n",
              "    </tr>\n",
              "    <tr>\n",
              "      <th>30</th>\n",
              "      <td>1.0</td>\n",
              "      <td>1.0</td>\n",
              "      <td>12.337662</td>\n",
              "      <td>1.0</td>\n",
              "      <td>1.0</td>\n",
              "      <td>13.160173</td>\n",
              "      <td>1.0</td>\n",
              "      <td>1.0</td>\n",
              "      <td>21.385281</td>\n",
              "      <td>1.0</td>\n",
              "      <td>...</td>\n",
              "      <td>19.740260</td>\n",
              "      <td>1.0</td>\n",
              "      <td>1.0</td>\n",
              "      <td>7.402597</td>\n",
              "      <td>1</td>\n",
              "      <td>1</td>\n",
              "      <td>13.982684</td>\n",
              "      <td>1.0</td>\n",
              "      <td>2.0</td>\n",
              "      <td>26.320346</td>\n",
              "    </tr>\n",
              "    <tr>\n",
              "      <th>31</th>\n",
              "      <td>1.0</td>\n",
              "      <td>1.0</td>\n",
              "      <td>13.160173</td>\n",
              "      <td>1.0</td>\n",
              "      <td>1.0</td>\n",
              "      <td>21.385281</td>\n",
              "      <td>1.0</td>\n",
              "      <td>1.0</td>\n",
              "      <td>12.337662</td>\n",
              "      <td>1.0</td>\n",
              "      <td>...</td>\n",
              "      <td>7.402597</td>\n",
              "      <td>1.0</td>\n",
              "      <td>1.0</td>\n",
              "      <td>13.982684</td>\n",
              "      <td>1</td>\n",
              "      <td>1</td>\n",
              "      <td>12.337662</td>\n",
              "      <td>1.0</td>\n",
              "      <td>2.0</td>\n",
              "      <td>33.722944</td>\n",
              "    </tr>\n",
              "    <tr>\n",
              "      <th>32</th>\n",
              "      <td>1.0</td>\n",
              "      <td>1.0</td>\n",
              "      <td>21.385281</td>\n",
              "      <td>1.0</td>\n",
              "      <td>1.0</td>\n",
              "      <td>12.337662</td>\n",
              "      <td>1.0</td>\n",
              "      <td>1.0</td>\n",
              "      <td>23.852814</td>\n",
              "      <td>1.0</td>\n",
              "      <td>...</td>\n",
              "      <td>13.982684</td>\n",
              "      <td>1.0</td>\n",
              "      <td>1.0</td>\n",
              "      <td>12.337662</td>\n",
              "      <td>1</td>\n",
              "      <td>1</td>\n",
              "      <td>13.982684</td>\n",
              "      <td>1.0</td>\n",
              "      <td>2.0</td>\n",
              "      <td>20.562771</td>\n",
              "    </tr>\n",
              "    <tr>\n",
              "      <th>33</th>\n",
              "      <td>1.0</td>\n",
              "      <td>1.0</td>\n",
              "      <td>12.337662</td>\n",
              "      <td>1.0</td>\n",
              "      <td>1.0</td>\n",
              "      <td>23.852814</td>\n",
              "      <td>1.0</td>\n",
              "      <td>1.0</td>\n",
              "      <td>25.497835</td>\n",
              "      <td>1.0</td>\n",
              "      <td>...</td>\n",
              "      <td>12.337662</td>\n",
              "      <td>1.0</td>\n",
              "      <td>1.0</td>\n",
              "      <td>13.982684</td>\n",
              "      <td>1</td>\n",
              "      <td>1</td>\n",
              "      <td>18.917749</td>\n",
              "      <td>1.0</td>\n",
              "      <td>2.0</td>\n",
              "      <td>33.722944</td>\n",
              "    </tr>\n",
              "  </tbody>\n",
              "</table>\n",
              "<p>5 rows × 93 columns</p>\n",
              "</div>\n",
              "      <button class=\"colab-df-convert\" onclick=\"convertToInteractive('df-0ec0250d-9165-4aa7-a84b-2533f6025306')\"\n",
              "              title=\"Convert this dataframe to an interactive table.\"\n",
              "              style=\"display:none;\">\n",
              "        \n",
              "  <svg xmlns=\"http://www.w3.org/2000/svg\" height=\"24px\"viewBox=\"0 0 24 24\"\n",
              "       width=\"24px\">\n",
              "    <path d=\"M0 0h24v24H0V0z\" fill=\"none\"/>\n",
              "    <path d=\"M18.56 5.44l.94 2.06.94-2.06 2.06-.94-2.06-.94-.94-2.06-.94 2.06-2.06.94zm-11 1L8.5 8.5l.94-2.06 2.06-.94-2.06-.94L8.5 2.5l-.94 2.06-2.06.94zm10 10l.94 2.06.94-2.06 2.06-.94-2.06-.94-.94-2.06-.94 2.06-2.06.94z\"/><path d=\"M17.41 7.96l-1.37-1.37c-.4-.4-.92-.59-1.43-.59-.52 0-1.04.2-1.43.59L10.3 9.45l-7.72 7.72c-.78.78-.78 2.05 0 2.83L4 21.41c.39.39.9.59 1.41.59.51 0 1.02-.2 1.41-.59l7.78-7.78 2.81-2.81c.8-.78.8-2.07 0-2.86zM5.41 20L4 18.59l7.72-7.72 1.47 1.35L5.41 20z\"/>\n",
              "  </svg>\n",
              "      </button>\n",
              "      \n",
              "  <style>\n",
              "    .colab-df-container {\n",
              "      display:flex;\n",
              "      flex-wrap:wrap;\n",
              "      gap: 12px;\n",
              "    }\n",
              "\n",
              "    .colab-df-convert {\n",
              "      background-color: #E8F0FE;\n",
              "      border: none;\n",
              "      border-radius: 50%;\n",
              "      cursor: pointer;\n",
              "      display: none;\n",
              "      fill: #1967D2;\n",
              "      height: 32px;\n",
              "      padding: 0 0 0 0;\n",
              "      width: 32px;\n",
              "    }\n",
              "\n",
              "    .colab-df-convert:hover {\n",
              "      background-color: #E2EBFA;\n",
              "      box-shadow: 0px 1px 2px rgba(60, 64, 67, 0.3), 0px 1px 3px 1px rgba(60, 64, 67, 0.15);\n",
              "      fill: #174EA6;\n",
              "    }\n",
              "\n",
              "    [theme=dark] .colab-df-convert {\n",
              "      background-color: #3B4455;\n",
              "      fill: #D2E3FC;\n",
              "    }\n",
              "\n",
              "    [theme=dark] .colab-df-convert:hover {\n",
              "      background-color: #434B5C;\n",
              "      box-shadow: 0px 1px 3px 1px rgba(0, 0, 0, 0.15);\n",
              "      filter: drop-shadow(0px 1px 2px rgba(0, 0, 0, 0.3));\n",
              "      fill: #FFFFFF;\n",
              "    }\n",
              "  </style>\n",
              "\n",
              "      <script>\n",
              "        const buttonEl =\n",
              "          document.querySelector('#df-0ec0250d-9165-4aa7-a84b-2533f6025306 button.colab-df-convert');\n",
              "        buttonEl.style.display =\n",
              "          google.colab.kernel.accessAllowed ? 'block' : 'none';\n",
              "\n",
              "        async function convertToInteractive(key) {\n",
              "          const element = document.querySelector('#df-0ec0250d-9165-4aa7-a84b-2533f6025306');\n",
              "          const dataTable =\n",
              "            await google.colab.kernel.invokeFunction('convertToInteractive',\n",
              "                                                     [key], {});\n",
              "          if (!dataTable) return;\n",
              "\n",
              "          const docLinkHtml = 'Like what you see? Visit the ' +\n",
              "            '<a target=\"_blank\" href=https://colab.research.google.com/notebooks/data_table.ipynb>data table notebook</a>'\n",
              "            + ' to learn more about interactive tables.';\n",
              "          element.innerHTML = '';\n",
              "          dataTable['output_type'] = 'display_data';\n",
              "          await google.colab.output.renderOutput(dataTable, element);\n",
              "          const docLink = document.createElement('div');\n",
              "          docLink.innerHTML = docLinkHtml;\n",
              "          element.appendChild(docLink);\n",
              "        }\n",
              "      </script>\n",
              "    </div>\n",
              "  </div>\n",
              "  "
            ],
            "text/plain": [
              "    item(t-29)  store(t-29)  sales(t-29)  item(t-28)  store(t-28)  \\\n",
              "29         1.0          1.0    15.627706         1.0          1.0   \n",
              "30         1.0          1.0    12.337662         1.0          1.0   \n",
              "31         1.0          1.0    13.160173         1.0          1.0   \n",
              "32         1.0          1.0    21.385281         1.0          1.0   \n",
              "33         1.0          1.0    12.337662         1.0          1.0   \n",
              "\n",
              "    sales(t-28)  item(t-27)  store(t-27)  sales(t-27)  item(t-26)  ...  \\\n",
              "29    12.337662         1.0          1.0    13.160173         1.0  ...   \n",
              "30    13.160173         1.0          1.0    21.385281         1.0  ...   \n",
              "31    21.385281         1.0          1.0    12.337662         1.0  ...   \n",
              "32    12.337662         1.0          1.0    23.852814         1.0  ...   \n",
              "33    23.852814         1.0          1.0    25.497835         1.0  ...   \n",
              "\n",
              "    sales(t-2)  item(t-1)  store(t-1)  sales(t-1)  item(t)  store(t)  \\\n",
              "29   13.160173        1.0         1.0   19.740260        1         1   \n",
              "30   19.740260        1.0         1.0    7.402597        1         1   \n",
              "31    7.402597        1.0         1.0   13.982684        1         1   \n",
              "32   13.982684        1.0         1.0   12.337662        1         1   \n",
              "33   12.337662        1.0         1.0   13.982684        1         1   \n",
              "\n",
              "     sales(t)  item(t+337)  store(t+337)  sales(t+337)  \n",
              "29   7.402597          1.0           2.0     18.095238  \n",
              "30  13.982684          1.0           2.0     26.320346  \n",
              "31  12.337662          1.0           2.0     33.722944  \n",
              "32  13.982684          1.0           2.0     20.562771  \n",
              "33  18.917749          1.0           2.0     33.722944  \n",
              "\n",
              "[5 rows x 93 columns]"
            ]
          },
          "execution_count": 19,
          "metadata": {},
          "output_type": "execute_result"
        }
      ],
      "source": [
        "window = 29\n",
        "lag = lag_size\n",
        "series = series_to_supervised(train_gp.drop('date', axis=1), window=window, lag=lag)\n",
        "series.head()"
      ]
    },
    {
      "cell_type": "markdown",
      "metadata": {
        "id": "1fhDqYv_2SEP"
      },
      "source": [
        "drop items other than the shifted"
      ]
    },
    {
      "cell_type": "code",
      "execution_count": null,
      "metadata": {
        "id": "x7E0_xmc2UhV"
      },
      "outputs": [],
      "source": [
        "last_item = 'item(t-%d)' % window\n",
        "last_store = 'store(t-%d)' % window\n",
        "series = series[(series['store(t)'] == series[last_store])]\n",
        "series = series[(series['item(t)'] == series[last_item])]"
      ]
    },
    {
      "cell_type": "markdown",
      "metadata": {
        "id": "jf3xvHdi2ZrS"
      },
      "source": [
        "Remove unwanted columns\n"
      ]
    },
    {
      "cell_type": "code",
      "execution_count": null,
      "metadata": {
        "id": "cKTKWEnt2csR"
      },
      "outputs": [],
      "source": [
        "columns_to_drop = [('%s(t+%d)' % (col, lag)) for col in ['item', 'store']]\n",
        "for i in range(window, 0, -1):\n",
        "    columns_to_drop += [('%s(t-%d)' % (col, i)) for col in ['item', 'store']]\n",
        "series.drop(columns_to_drop, axis=1, inplace=True)\n",
        "series.drop(['item(t)', 'store(t)'], axis=1, inplace=True)"
      ]
    },
    {
      "cell_type": "markdown",
      "metadata": {
        "id": "DneoROeb2iNC"
      },
      "source": [
        "train validation split"
      ]
    },
    {
      "cell_type": "code",
      "execution_count": null,
      "metadata": {
        "colab": {
          "base_uri": "https://localhost:8080/",
          "height": 351
        },
        "id": "VXaXzOcp2kJh",
        "outputId": "8a5c091e-fbf8-4f5e-858b-b52bb06a9c85"
      },
      "outputs": [
        {
          "name": "stdout",
          "output_type": "stream",
          "text": [
            "Train set shape (100598, 30)\n",
            "Validation set shape (67066, 30)\n"
          ]
        },
        {
          "data": {
            "text/html": [
              "\n",
              "  <div id=\"df-e59554d5-4414-4b58-9954-09457f5e757b\">\n",
              "    <div class=\"colab-df-container\">\n",
              "      <div>\n",
              "<style scoped>\n",
              "    .dataframe tbody tr th:only-of-type {\n",
              "        vertical-align: middle;\n",
              "    }\n",
              "\n",
              "    .dataframe tbody tr th {\n",
              "        vertical-align: top;\n",
              "    }\n",
              "\n",
              "    .dataframe thead th {\n",
              "        text-align: right;\n",
              "    }\n",
              "</style>\n",
              "<table border=\"1\" class=\"dataframe\">\n",
              "  <thead>\n",
              "    <tr style=\"text-align: right;\">\n",
              "      <th></th>\n",
              "      <th>sales(t-29)</th>\n",
              "      <th>sales(t-28)</th>\n",
              "      <th>sales(t-27)</th>\n",
              "      <th>sales(t-26)</th>\n",
              "      <th>sales(t-25)</th>\n",
              "      <th>sales(t-24)</th>\n",
              "      <th>sales(t-23)</th>\n",
              "      <th>sales(t-22)</th>\n",
              "      <th>sales(t-21)</th>\n",
              "      <th>sales(t-20)</th>\n",
              "      <th>...</th>\n",
              "      <th>sales(t-9)</th>\n",
              "      <th>sales(t-8)</th>\n",
              "      <th>sales(t-7)</th>\n",
              "      <th>sales(t-6)</th>\n",
              "      <th>sales(t-5)</th>\n",
              "      <th>sales(t-4)</th>\n",
              "      <th>sales(t-3)</th>\n",
              "      <th>sales(t-2)</th>\n",
              "      <th>sales(t-1)</th>\n",
              "      <th>sales(t)</th>\n",
              "    </tr>\n",
              "  </thead>\n",
              "  <tbody>\n",
              "    <tr>\n",
              "      <th>104547</th>\n",
              "      <td>51.818182</td>\n",
              "      <td>51.818182</td>\n",
              "      <td>64.155844</td>\n",
              "      <td>29.610390</td>\n",
              "      <td>60.865801</td>\n",
              "      <td>68.268398</td>\n",
              "      <td>50.995671</td>\n",
              "      <td>37.835498</td>\n",
              "      <td>53.463203</td>\n",
              "      <td>45.238095</td>\n",
              "      <td>...</td>\n",
              "      <td>36.190476</td>\n",
              "      <td>38.658009</td>\n",
              "      <td>54.285714</td>\n",
              "      <td>39.480519</td>\n",
              "      <td>24.675325</td>\n",
              "      <td>26.320346</td>\n",
              "      <td>59.220779</td>\n",
              "      <td>51.818182</td>\n",
              "      <td>55.930736</td>\n",
              "      <td>44.415584</td>\n",
              "    </tr>\n",
              "    <tr>\n",
              "      <th>67218</th>\n",
              "      <td>14.805195</td>\n",
              "      <td>21.385281</td>\n",
              "      <td>18.095238</td>\n",
              "      <td>25.497835</td>\n",
              "      <td>25.497835</td>\n",
              "      <td>38.658009</td>\n",
              "      <td>33.722944</td>\n",
              "      <td>37.835498</td>\n",
              "      <td>47.705628</td>\n",
              "      <td>28.787879</td>\n",
              "      <td>...</td>\n",
              "      <td>30.432900</td>\n",
              "      <td>8.225108</td>\n",
              "      <td>14.805195</td>\n",
              "      <td>22.207792</td>\n",
              "      <td>24.675325</td>\n",
              "      <td>24.675325</td>\n",
              "      <td>18.917749</td>\n",
              "      <td>29.610390</td>\n",
              "      <td>18.095238</td>\n",
              "      <td>24.675325</td>\n",
              "    </tr>\n",
              "    <tr>\n",
              "      <th>171431</th>\n",
              "      <td>37.012987</td>\n",
              "      <td>29.610390</td>\n",
              "      <td>27.142857</td>\n",
              "      <td>18.917749</td>\n",
              "      <td>29.610390</td>\n",
              "      <td>29.610390</td>\n",
              "      <td>22.207792</td>\n",
              "      <td>31.255411</td>\n",
              "      <td>20.562771</td>\n",
              "      <td>27.142857</td>\n",
              "      <td>...</td>\n",
              "      <td>26.320346</td>\n",
              "      <td>35.367965</td>\n",
              "      <td>18.917749</td>\n",
              "      <td>23.852814</td>\n",
              "      <td>27.965368</td>\n",
              "      <td>32.077922</td>\n",
              "      <td>10.692641</td>\n",
              "      <td>13.982684</td>\n",
              "      <td>25.497835</td>\n",
              "      <td>24.675325</td>\n",
              "    </tr>\n",
              "    <tr>\n",
              "      <th>115475</th>\n",
              "      <td>27.142857</td>\n",
              "      <td>23.030303</td>\n",
              "      <td>27.965368</td>\n",
              "      <td>31.255411</td>\n",
              "      <td>30.432900</td>\n",
              "      <td>32.077922</td>\n",
              "      <td>26.320346</td>\n",
              "      <td>23.030303</td>\n",
              "      <td>25.497835</td>\n",
              "      <td>25.497835</td>\n",
              "      <td>...</td>\n",
              "      <td>32.900433</td>\n",
              "      <td>37.012987</td>\n",
              "      <td>32.077922</td>\n",
              "      <td>27.142857</td>\n",
              "      <td>33.722944</td>\n",
              "      <td>15.627706</td>\n",
              "      <td>32.077922</td>\n",
              "      <td>44.415584</td>\n",
              "      <td>31.255411</td>\n",
              "      <td>24.675325</td>\n",
              "    </tr>\n",
              "    <tr>\n",
              "      <th>124345</th>\n",
              "      <td>52.640693</td>\n",
              "      <td>74.848485</td>\n",
              "      <td>80.606061</td>\n",
              "      <td>53.463203</td>\n",
              "      <td>62.510823</td>\n",
              "      <td>59.220779</td>\n",
              "      <td>55.108225</td>\n",
              "      <td>49.350649</td>\n",
              "      <td>79.783550</td>\n",
              "      <td>55.108225</td>\n",
              "      <td>...</td>\n",
              "      <td>53.463203</td>\n",
              "      <td>82.251082</td>\n",
              "      <td>76.493506</td>\n",
              "      <td>51.818182</td>\n",
              "      <td>63.333333</td>\n",
              "      <td>43.593074</td>\n",
              "      <td>67.445887</td>\n",
              "      <td>32.077922</td>\n",
              "      <td>40.303030</td>\n",
              "      <td>46.060606</td>\n",
              "    </tr>\n",
              "  </tbody>\n",
              "</table>\n",
              "<p>5 rows × 30 columns</p>\n",
              "</div>\n",
              "      <button class=\"colab-df-convert\" onclick=\"convertToInteractive('df-e59554d5-4414-4b58-9954-09457f5e757b')\"\n",
              "              title=\"Convert this dataframe to an interactive table.\"\n",
              "              style=\"display:none;\">\n",
              "        \n",
              "  <svg xmlns=\"http://www.w3.org/2000/svg\" height=\"24px\"viewBox=\"0 0 24 24\"\n",
              "       width=\"24px\">\n",
              "    <path d=\"M0 0h24v24H0V0z\" fill=\"none\"/>\n",
              "    <path d=\"M18.56 5.44l.94 2.06.94-2.06 2.06-.94-2.06-.94-.94-2.06-.94 2.06-2.06.94zm-11 1L8.5 8.5l.94-2.06 2.06-.94-2.06-.94L8.5 2.5l-.94 2.06-2.06.94zm10 10l.94 2.06.94-2.06 2.06-.94-2.06-.94-.94-2.06-.94 2.06-2.06.94z\"/><path d=\"M17.41 7.96l-1.37-1.37c-.4-.4-.92-.59-1.43-.59-.52 0-1.04.2-1.43.59L10.3 9.45l-7.72 7.72c-.78.78-.78 2.05 0 2.83L4 21.41c.39.39.9.59 1.41.59.51 0 1.02-.2 1.41-.59l7.78-7.78 2.81-2.81c.8-.78.8-2.07 0-2.86zM5.41 20L4 18.59l7.72-7.72 1.47 1.35L5.41 20z\"/>\n",
              "  </svg>\n",
              "      </button>\n",
              "      \n",
              "  <style>\n",
              "    .colab-df-container {\n",
              "      display:flex;\n",
              "      flex-wrap:wrap;\n",
              "      gap: 12px;\n",
              "    }\n",
              "\n",
              "    .colab-df-convert {\n",
              "      background-color: #E8F0FE;\n",
              "      border: none;\n",
              "      border-radius: 50%;\n",
              "      cursor: pointer;\n",
              "      display: none;\n",
              "      fill: #1967D2;\n",
              "      height: 32px;\n",
              "      padding: 0 0 0 0;\n",
              "      width: 32px;\n",
              "    }\n",
              "\n",
              "    .colab-df-convert:hover {\n",
              "      background-color: #E2EBFA;\n",
              "      box-shadow: 0px 1px 2px rgba(60, 64, 67, 0.3), 0px 1px 3px 1px rgba(60, 64, 67, 0.15);\n",
              "      fill: #174EA6;\n",
              "    }\n",
              "\n",
              "    [theme=dark] .colab-df-convert {\n",
              "      background-color: #3B4455;\n",
              "      fill: #D2E3FC;\n",
              "    }\n",
              "\n",
              "    [theme=dark] .colab-df-convert:hover {\n",
              "      background-color: #434B5C;\n",
              "      box-shadow: 0px 1px 3px 1px rgba(0, 0, 0, 0.15);\n",
              "      filter: drop-shadow(0px 1px 2px rgba(0, 0, 0, 0.3));\n",
              "      fill: #FFFFFF;\n",
              "    }\n",
              "  </style>\n",
              "\n",
              "      <script>\n",
              "        const buttonEl =\n",
              "          document.querySelector('#df-e59554d5-4414-4b58-9954-09457f5e757b button.colab-df-convert');\n",
              "        buttonEl.style.display =\n",
              "          google.colab.kernel.accessAllowed ? 'block' : 'none';\n",
              "\n",
              "        async function convertToInteractive(key) {\n",
              "          const element = document.querySelector('#df-e59554d5-4414-4b58-9954-09457f5e757b');\n",
              "          const dataTable =\n",
              "            await google.colab.kernel.invokeFunction('convertToInteractive',\n",
              "                                                     [key], {});\n",
              "          if (!dataTable) return;\n",
              "\n",
              "          const docLinkHtml = 'Like what you see? Visit the ' +\n",
              "            '<a target=\"_blank\" href=https://colab.research.google.com/notebooks/data_table.ipynb>data table notebook</a>'\n",
              "            + ' to learn more about interactive tables.';\n",
              "          element.innerHTML = '';\n",
              "          dataTable['output_type'] = 'display_data';\n",
              "          await google.colab.output.renderOutput(dataTable, element);\n",
              "          const docLink = document.createElement('div');\n",
              "          docLink.innerHTML = docLinkHtml;\n",
              "          element.appendChild(docLink);\n",
              "        }\n",
              "      </script>\n",
              "    </div>\n",
              "  </div>\n",
              "  "
            ],
            "text/plain": [
              "        sales(t-29)  sales(t-28)  sales(t-27)  sales(t-26)  sales(t-25)  \\\n",
              "104547    51.818182    51.818182    64.155844    29.610390    60.865801   \n",
              "67218     14.805195    21.385281    18.095238    25.497835    25.497835   \n",
              "171431    37.012987    29.610390    27.142857    18.917749    29.610390   \n",
              "115475    27.142857    23.030303    27.965368    31.255411    30.432900   \n",
              "124345    52.640693    74.848485    80.606061    53.463203    62.510823   \n",
              "\n",
              "        sales(t-24)  sales(t-23)  sales(t-22)  sales(t-21)  sales(t-20)  ...  \\\n",
              "104547    68.268398    50.995671    37.835498    53.463203    45.238095  ...   \n",
              "67218     38.658009    33.722944    37.835498    47.705628    28.787879  ...   \n",
              "171431    29.610390    22.207792    31.255411    20.562771    27.142857  ...   \n",
              "115475    32.077922    26.320346    23.030303    25.497835    25.497835  ...   \n",
              "124345    59.220779    55.108225    49.350649    79.783550    55.108225  ...   \n",
              "\n",
              "        sales(t-9)  sales(t-8)  sales(t-7)  sales(t-6)  sales(t-5)  \\\n",
              "104547   36.190476   38.658009   54.285714   39.480519   24.675325   \n",
              "67218    30.432900    8.225108   14.805195   22.207792   24.675325   \n",
              "171431   26.320346   35.367965   18.917749   23.852814   27.965368   \n",
              "115475   32.900433   37.012987   32.077922   27.142857   33.722944   \n",
              "124345   53.463203   82.251082   76.493506   51.818182   63.333333   \n",
              "\n",
              "        sales(t-4)  sales(t-3)  sales(t-2)  sales(t-1)   sales(t)  \n",
              "104547   26.320346   59.220779   51.818182   55.930736  44.415584  \n",
              "67218    24.675325   18.917749   29.610390   18.095238  24.675325  \n",
              "171431   32.077922   10.692641   13.982684   25.497835  24.675325  \n",
              "115475   15.627706   32.077922   44.415584   31.255411  24.675325  \n",
              "124345   43.593074   67.445887   32.077922   40.303030  46.060606  \n",
              "\n",
              "[5 rows x 30 columns]"
            ]
          },
          "execution_count": 22,
          "metadata": {},
          "output_type": "execute_result"
        }
      ],
      "source": [
        "labels_col = 'sales(t+%d)' % lag_size\n",
        "labels = series[labels_col]\n",
        "series = series.drop(labels_col, axis=1)\n",
        "\n",
        "X_train, X_valid, Y_train, Y_valid = train_test_split(series, labels.values, test_size=0.4, random_state=0)\n",
        "print('Train set shape', X_train.shape)\n",
        "print('Validation set shape', X_valid.shape)\n",
        "X_train.head()"
      ]
    },
    {
      "cell_type": "code",
      "execution_count": null,
      "metadata": {
        "id": "3faEtpfz2klh"
      },
      "outputs": [],
      "source": [
        "from keras import optimizers\n",
        "epochs = 200\n",
        "batch = 64\n",
        "lr = 0.01"
      ]
    },
    {
      "cell_type": "markdown",
      "metadata": {
        "id": "bBQ6LqMF2r12"
      },
      "source": [
        "For CNN parameters(samples,timesteps,features)"
      ]
    },
    {
      "cell_type": "code",
      "execution_count": null,
      "metadata": {
        "colab": {
          "base_uri": "https://localhost:8080/"
        },
        "id": "NWe28gtK2sv1",
        "outputId": "ba0dd19d-f3f3-4797-c1aa-99a8b326044f"
      },
      "outputs": [
        {
          "name": "stdout",
          "output_type": "stream",
          "text": [
            "Train set shape (100598, 30, 1)\n",
            "Validation set shape (67066, 30, 1)\n"
          ]
        }
      ],
      "source": [
        "X_train_series = X_train.values.reshape((X_train.shape[0], X_train.shape[1], 1))\n",
        "X_valid_series = X_valid.values.reshape((X_valid.shape[0], X_valid.shape[1], 1))\n",
        "print('Train set shape', X_train_series.shape)\n",
        "print('Validation set shape', X_valid_series.shape)"
      ]
    },
    {
      "cell_type": "code",
      "execution_count": null,
      "metadata": {
        "colab": {
          "base_uri": "https://localhost:8080/"
        },
        "id": "_eE3X8jk2teF",
        "outputId": "8cdf4d96-42ea-452a-e779-1bd395af0d6d"
      },
      "outputs": [
        {
          "name": "stdout",
          "output_type": "stream",
          "text": [
            "Model: \"sequential\"\n",
            "_________________________________________________________________\n",
            " Layer (type)                Output Shape              Param #   \n",
            "=================================================================\n",
            " conv1d (Conv1D)             (None, 29, 32)            96        \n",
            "                                                                 \n",
            " max_pooling1d (MaxPooling1D  (None, 14, 32)           0         \n",
            " )                                                               \n",
            "                                                                 \n",
            " flatten (Flatten)           (None, 448)               0         \n",
            "                                                                 \n",
            " dense (Dense)               (None, 50)                22450     \n",
            "                                                                 \n",
            " dropout (Dropout)           (None, 50)                0         \n",
            "                                                                 \n",
            " dense_1 (Dense)             (None, 1)                 51        \n",
            "                                                                 \n",
            "=================================================================\n",
            "Total params: 22,597\n",
            "Trainable params: 22,597\n",
            "Non-trainable params: 0\n",
            "_________________________________________________________________\n"
          ]
        }
      ],
      "source": [
        "from keras.layers import Conv1D, MaxPooling1D, Flatten, Dense, LSTM, Dropout, Reshape, TimeDistributed\n",
        "from keras import optimizers\n",
        "model_cnn = Sequential()\n",
        "model_cnn.add(Conv1D(filters=32, kernel_size=2, activation='swish', input_shape=(X_train_series.shape[1], X_train_series.shape[2])))\n",
        "model_cnn.add(MaxPooling1D(pool_size=2))\n",
        "model_cnn.add(Flatten())\n",
        "model_cnn.add(Dense(50, activation='swish'))\n",
        "model_cnn.add(Dropout(0.2))\n",
        "model_cnn.add(Dense(1))\n",
        "from tensorflow_addons.optimizers import LazyAdam\n",
        "opt = LazyAdam(lr)\n",
        "model_cnn.compile(loss='mse', optimizer=opt)\n",
        "model_cnn.summary()"
      ]
    },
    {
      "cell_type": "markdown",
      "metadata": {
        "id": "P-syH7Iw2_Pu"
      },
      "source": [
        "BiLstm"
      ]
    },
    {
      "cell_type": "code",
      "execution_count": null,
      "metadata": {
        "colab": {
          "base_uri": "https://localhost:8080/"
        },
        "id": "EPdmdn5d3AId",
        "outputId": "b318be0f-18c7-47e5-d886-7c56f1bb496d"
      },
      "outputs": [
        {
          "name": "stderr",
          "output_type": "stream",
          "text": [
            "WARNING:tensorflow:Layer lstm will not use cuDNN kernels since it doesn't meet the criteria. It will use a generic GPU kernel as fallback when running on GPU.\n",
            "WARNING:tensorflow:Layer lstm will not use cuDNN kernels since it doesn't meet the criteria. It will use a generic GPU kernel as fallback when running on GPU.\n",
            "WARNING:tensorflow:Layer lstm will not use cuDNN kernels since it doesn't meet the criteria. It will use a generic GPU kernel as fallback when running on GPU.\n"
          ]
        },
        {
          "name": "stdout",
          "output_type": "stream",
          "text": [
            "Model: \"sequential_1\"\n",
            "_________________________________________________________________\n",
            " Layer (type)                Output Shape              Param #   \n",
            "=================================================================\n",
            " bidirectional (Bidirectiona  (None, 640)              824320    \n",
            " l)                                                              \n",
            "                                                                 \n",
            " dense_2 (Dense)             (None, 1)                 641       \n",
            "                                                                 \n",
            "=================================================================\n",
            "Total params: 824,961\n",
            "Trainable params: 824,961\n",
            "Non-trainable params: 0\n",
            "_________________________________________________________________\n"
          ]
        }
      ],
      "source": [
        "from tensorflow.keras.models import Sequential\n",
        "from tensorflow.keras.layers import LSTM, Bidirectional, Dense\n",
        "\n",
        "model_bilstm = Sequential()\n",
        "model_bilstm.add(Bidirectional(LSTM(320, activation='swish'), input_shape=(X_train_series.shape[1], X_train_series.shape[2])))\n",
        "model_bilstm.add(Dense(1))\n",
        "from tensorflow_addons.optimizers import LazyAdam\n",
        "opt = LazyAdam(lr)\n",
        "model_bilstm.compile(loss='mse', optimizer=opt)\n",
        "model_bilstm.summary()\n"
      ]
    },
    {
      "cell_type": "markdown",
      "metadata": {
        "id": "YIwL_O933Dy2"
      },
      "source": [
        "CNN-BiLSTM [sample,subsequences,timesteps,features]"
      ]
    },
    {
      "cell_type": "code",
      "execution_count": null,
      "metadata": {
        "colab": {
          "base_uri": "https://localhost:8080/"
        },
        "id": "6M9HIsAo3NGs",
        "outputId": "dc214082-8fde-4f1d-bf28-3a7ff71d0311"
      },
      "outputs": [
        {
          "name": "stdout",
          "output_type": "stream",
          "text": [
            "Train set shape (100598, 2, 15, 1)\n",
            "Validation set shape (67066, 2, 15, 1)\n"
          ]
        }
      ],
      "source": [
        "subsequences = 2\n",
        "timesteps = X_train_series.shape[1]//subsequences\n",
        "X_train_series_sub = X_train_series.reshape((X_train_series.shape[0], subsequences, timesteps, 1))\n",
        "X_valid_series_sub = X_valid_series.reshape((X_valid_series.shape[0], subsequences, timesteps, 1))\n",
        "print('Train set shape', X_train_series_sub.shape)\n",
        "print('Validation set shape', X_valid_series_sub.shape)"
      ]
    },
    {
      "cell_type": "code",
      "execution_count": null,
      "metadata": {
        "colab": {
          "base_uri": "https://localhost:8080/"
        },
        "id": "kHnfLtxx3Qot",
        "outputId": "5b2e60eb-9537-41e0-fb1a-e134a72f3be0"
      },
      "outputs": [
        {
          "name": "stderr",
          "output_type": "stream",
          "text": [
            "WARNING:tensorflow:Layer lstm_1 will not use cuDNN kernels since it doesn't meet the criteria. It will use a generic GPU kernel as fallback when running on GPU.\n",
            "WARNING:tensorflow:Layer lstm_1 will not use cuDNN kernels since it doesn't meet the criteria. It will use a generic GPU kernel as fallback when running on GPU.\n",
            "WARNING:tensorflow:Layer lstm_1 will not use cuDNN kernels since it doesn't meet the criteria. It will use a generic GPU kernel as fallback when running on GPU.\n"
          ]
        },
        {
          "name": "stdout",
          "output_type": "stream",
          "text": [
            "Model: \"sequential_2\"\n",
            "_________________________________________________________________\n",
            " Layer (type)                Output Shape              Param #   \n",
            "=================================================================\n",
            " time_distributed (TimeDistr  (None, None, 15, 32)     64        \n",
            " ibuted)                                                         \n",
            "                                                                 \n",
            " time_distributed_1 (TimeDis  (None, None, 7, 32)      0         \n",
            " tributed)                                                       \n",
            "                                                                 \n",
            " time_distributed_2 (TimeDis  (None, None, 224)        0         \n",
            " tributed)                                                       \n",
            "                                                                 \n",
            " bidirectional_1 (Bidirectio  (None, 640)              1395200   \n",
            " nal)                                                            \n",
            "                                                                 \n",
            " dropout_1 (Dropout)         (None, 640)               0         \n",
            "                                                                 \n",
            " dense_3 (Dense)             (None, 1)                 641       \n",
            "                                                                 \n",
            "=================================================================\n",
            "Total params: 1,395,905\n",
            "Trainable params: 1,395,905\n",
            "Non-trainable params: 0\n",
            "_________________________________________________________________\n"
          ]
        }
      ],
      "source": [
        "\n",
        "from tensorflow.keras.models import Sequential\n",
        "from tensorflow.keras.layers import Conv1D, MaxPooling1D, Flatten, TimeDistributed, Bidirectional, LSTM, Dense\n",
        "\n",
        "model_cnn_bilstm = Sequential()\n",
        "model_cnn_bilstm.add(TimeDistributed(Conv1D(filters=32, kernel_size=1, activation='swish'), input_shape=(None, X_train_series_sub.shape[2], X_train_series_sub.shape[3])))\n",
        "model_cnn_bilstm.add(TimeDistributed(MaxPooling1D(pool_size=2)))\n",
        "model_cnn_bilstm.add(TimeDistributed(Flatten()))\n",
        "model_cnn_bilstm.add(Bidirectional(LSTM(320, activation='swish')))\n",
        "model_cnn_bilstm.add(Dropout(0.2))\n",
        "model_cnn_bilstm.add(Dense(1))\n",
        "model_cnn_bilstm.compile(loss='mse', optimizer= tfa.optimizers.LazyAdam())\n",
        "model_cnn_bilstm.summary()"
      ]
    },
    {
      "cell_type": "code",
      "execution_count": null,
      "metadata": {
        "colab": {
          "background_save": true,
          "base_uri": "https://localhost:8080/"
        },
        "id": "uVKZdXqh3UuM",
        "outputId": "6bd45343-bb28-4f53-ab49-2612cb93e38c"
      },
      "outputs": [
        {
          "name": "stdout",
          "output_type": "stream",
          "text": [
            "Epoch 1/200\n",
            "3144/3144 - 57s - loss: 358.3472 - val_loss: 358.2732 - 57s/epoch - 18ms/step\n",
            "Epoch 2/200\n",
            "3144/3144 - 46s - loss: 347.4454 - val_loss: 342.5627 - 46s/epoch - 15ms/step\n",
            "Epoch 3/200\n",
            "3144/3144 - 46s - loss: 339.7747 - val_loss: 322.5884 - 46s/epoch - 15ms/step\n",
            "Epoch 4/200\n",
            "3144/3144 - 50s - loss: 328.8693 - val_loss: 314.7691 - 50s/epoch - 16ms/step\n",
            "Epoch 5/200\n",
            "3144/3144 - 50s - loss: 324.2714 - val_loss: 312.7877 - 50s/epoch - 16ms/step\n",
            "Epoch 6/200\n",
            "3144/3144 - 45s - loss: 319.4593 - val_loss: 311.3763 - 45s/epoch - 14ms/step\n",
            "Epoch 7/200\n",
            "3144/3144 - 44s - loss: 316.6479 - val_loss: 325.8981 - 44s/epoch - 14ms/step\n",
            "Epoch 8/200\n",
            "3144/3144 - 46s - loss: 314.0976 - val_loss: 306.7456 - 46s/epoch - 14ms/step\n",
            "Epoch 9/200\n",
            "3144/3144 - 45s - loss: 311.7725 - val_loss: 305.6482 - 45s/epoch - 14ms/step\n",
            "Epoch 10/200\n",
            "3144/3144 - 44s - loss: 310.1013 - val_loss: 304.2781 - 44s/epoch - 14ms/step\n",
            "Epoch 11/200\n",
            "3144/3144 - 46s - loss: 308.1265 - val_loss: 303.5612 - 46s/epoch - 15ms/step\n",
            "Epoch 12/200\n",
            "3144/3144 - 46s - loss: 306.8336 - val_loss: 303.3861 - 46s/epoch - 15ms/step\n",
            "Epoch 13/200\n",
            "3144/3144 - 45s - loss: 305.1329 - val_loss: 301.8987 - 45s/epoch - 14ms/step\n",
            "Epoch 14/200\n",
            "3144/3144 - 46s - loss: 303.2768 - val_loss: 300.6875 - 46s/epoch - 15ms/step\n",
            "Epoch 15/200\n",
            "3144/3144 - 45s - loss: 301.8894 - val_loss: 311.4590 - 45s/epoch - 14ms/step\n",
            "Epoch 16/200\n",
            "3144/3144 - 50s - loss: 300.2698 - val_loss: 300.5849 - 50s/epoch - 16ms/step\n",
            "Epoch 17/200\n",
            "3144/3144 - 50s - loss: 299.1302 - val_loss: 297.0399 - 50s/epoch - 16ms/step\n",
            "Epoch 18/200\n",
            "3144/3144 - 46s - loss: 297.4797 - val_loss: 307.0796 - 46s/epoch - 15ms/step\n",
            "Epoch 19/200\n",
            "3144/3144 - 45s - loss: 296.4897 - val_loss: 308.1583 - 45s/epoch - 14ms/step\n",
            "Epoch 20/200\n",
            "3144/3144 - 46s - loss: 295.1686 - val_loss: 300.1450 - 46s/epoch - 15ms/step\n",
            "Epoch 21/200\n",
            "3144/3144 - 50s - loss: 293.3664 - val_loss: 306.2122 - 50s/epoch - 16ms/step\n",
            "Epoch 22/200\n",
            "3144/3144 - 50s - loss: 292.4451 - val_loss: 300.0995 - 50s/epoch - 16ms/step\n",
            "Epoch 23/200\n",
            "3144/3144 - 46s - loss: 290.8431 - val_loss: 295.4398 - 46s/epoch - 14ms/step\n",
            "Epoch 24/200\n",
            "3144/3144 - 50s - loss: 289.5966 - val_loss: 294.6381 - 50s/epoch - 16ms/step\n",
            "Epoch 25/200\n",
            "3144/3144 - 50s - loss: 287.7789 - val_loss: 294.4984 - 50s/epoch - 16ms/step\n",
            "Epoch 26/200\n",
            "3144/3144 - 50s - loss: 287.6772 - val_loss: 296.7091 - 50s/epoch - 16ms/step\n",
            "Epoch 27/200\n",
            "3144/3144 - 50s - loss: 284.8415 - val_loss: 295.7400 - 50s/epoch - 16ms/step\n",
            "Epoch 28/200\n",
            "3144/3144 - 50s - loss: 283.6559 - val_loss: 295.7554 - 50s/epoch - 16ms/step\n",
            "Epoch 29/200\n",
            "3144/3144 - 51s - loss: 281.9127 - val_loss: 293.8214 - 51s/epoch - 16ms/step\n",
            "Epoch 30/200\n",
            "3144/3144 - 46s - loss: 281.0580 - val_loss: 293.1358 - 46s/epoch - 15ms/step\n",
            "Epoch 31/200\n",
            "3144/3144 - 50s - loss: 279.0781 - val_loss: 295.7628 - 50s/epoch - 16ms/step\n",
            "Epoch 32/200\n",
            "3144/3144 - 46s - loss: 276.7005 - val_loss: 295.6912 - 46s/epoch - 14ms/step\n",
            "Epoch 33/200\n",
            "3144/3144 - 45s - loss: 274.8979 - val_loss: 295.5179 - 45s/epoch - 14ms/step\n",
            "Epoch 34/200\n",
            "3144/3144 - 46s - loss: 272.8799 - val_loss: 295.0500 - 46s/epoch - 15ms/step\n",
            "Epoch 35/200\n",
            "3144/3144 - 50s - loss: 270.4127 - val_loss: 296.0283 - 50s/epoch - 16ms/step\n",
            "Epoch 36/200\n",
            "3144/3144 - 45s - loss: 268.2404 - val_loss: 299.4634 - 45s/epoch - 14ms/step\n",
            "Epoch 37/200\n",
            "3144/3144 - 44s - loss: 266.7955 - val_loss: 298.2050 - 44s/epoch - 14ms/step\n",
            "Epoch 38/200\n",
            "3144/3144 - 45s - loss: 263.8456 - val_loss: 301.7851 - 45s/epoch - 14ms/step\n",
            "Epoch 39/200\n",
            "3144/3144 - 44s - loss: 260.8801 - val_loss: 301.4133 - 44s/epoch - 14ms/step\n",
            "Epoch 40/200\n",
            "3144/3144 - 44s - loss: 258.3543 - val_loss: 299.6800 - 44s/epoch - 14ms/step\n",
            "Epoch 41/200\n",
            "3144/3144 - 44s - loss: 255.4344 - val_loss: 304.9753 - 44s/epoch - 14ms/step\n",
            "Epoch 42/200\n",
            "3144/3144 - 44s - loss: 252.7996 - val_loss: 306.4024 - 44s/epoch - 14ms/step\n",
            "Epoch 43/200\n",
            "3144/3144 - 45s - loss: 249.2817 - val_loss: 306.6438 - 45s/epoch - 14ms/step\n",
            "Epoch 44/200\n",
            "3144/3144 - 49s - loss: 245.3225 - val_loss: 306.8441 - 49s/epoch - 16ms/step\n",
            "Epoch 45/200\n",
            "3144/3144 - 44s - loss: 243.0905 - val_loss: 307.8022 - 44s/epoch - 14ms/step\n",
            "Epoch 46/200\n",
            "3144/3144 - 44s - loss: 238.8558 - val_loss: 320.1818 - 44s/epoch - 14ms/step\n",
            "Epoch 47/200\n",
            "3144/3144 - 45s - loss: 235.7948 - val_loss: 314.6367 - 45s/epoch - 14ms/step\n",
            "Epoch 48/200\n",
            "3144/3144 - 44s - loss: 231.3883 - val_loss: 313.2879 - 44s/epoch - 14ms/step\n",
            "Epoch 49/200\n",
            "3144/3144 - 44s - loss: 227.8573 - val_loss: 314.6315 - 44s/epoch - 14ms/step\n",
            "Epoch 50/200\n",
            "3144/3144 - 45s - loss: 224.1375 - val_loss: 317.8907 - 45s/epoch - 14ms/step\n",
            "Epoch 51/200\n",
            "3144/3144 - 44s - loss: 221.7204 - val_loss: 316.0628 - 44s/epoch - 14ms/step\n",
            "Epoch 52/200\n",
            "3144/3144 - 45s - loss: 217.1516 - val_loss: 321.4147 - 45s/epoch - 14ms/step\n",
            "Epoch 53/200\n",
            "3144/3144 - 45s - loss: 214.3774 - val_loss: 319.5542 - 45s/epoch - 14ms/step\n",
            "Epoch 54/200\n",
            "3144/3144 - 44s - loss: 209.6878 - val_loss: 325.5033 - 44s/epoch - 14ms/step\n",
            "Epoch 55/200\n",
            "3144/3144 - 49s - loss: 206.1615 - val_loss: 329.3240 - 49s/epoch - 16ms/step\n",
            "Epoch 56/200\n",
            "3144/3144 - 44s - loss: 203.2145 - val_loss: 326.1291 - 44s/epoch - 14ms/step\n",
            "Epoch 57/200\n",
            "3144/3144 - 44s - loss: 199.2558 - val_loss: 326.3576 - 44s/epoch - 14ms/step\n",
            "Epoch 58/200\n",
            "3144/3144 - 45s - loss: 195.3016 - val_loss: 334.1279 - 45s/epoch - 14ms/step\n",
            "Epoch 59/200\n",
            "3144/3144 - 49s - loss: 193.3603 - val_loss: 333.9180 - 49s/epoch - 16ms/step\n",
            "Epoch 60/200\n",
            "3144/3144 - 49s - loss: 189.5216 - val_loss: 331.0866 - 49s/epoch - 16ms/step\n",
            "Epoch 61/200\n",
            "3144/3144 - 44s - loss: 186.3437 - val_loss: 336.1804 - 44s/epoch - 14ms/step\n",
            "Epoch 62/200\n",
            "3144/3144 - 44s - loss: 183.3685 - val_loss: 335.9045 - 44s/epoch - 14ms/step\n",
            "Epoch 63/200\n",
            "3144/3144 - 50s - loss: 180.3663 - val_loss: 336.8773 - 50s/epoch - 16ms/step\n",
            "Epoch 64/200\n",
            "3144/3144 - 50s - loss: 177.7390 - val_loss: 340.4380 - 50s/epoch - 16ms/step\n",
            "Epoch 65/200\n",
            "3144/3144 - 46s - loss: 175.1178 - val_loss: 340.5010 - 46s/epoch - 15ms/step\n",
            "Epoch 66/200\n",
            "3144/3144 - 45s - loss: 171.4807 - val_loss: 348.3094 - 45s/epoch - 14ms/step\n",
            "Epoch 67/200\n",
            "3144/3144 - 44s - loss: 169.4502 - val_loss: 342.1875 - 44s/epoch - 14ms/step\n",
            "Epoch 68/200\n",
            "3144/3144 - 45s - loss: 166.4102 - val_loss: 349.4974 - 45s/epoch - 14ms/step\n",
            "Epoch 69/200\n",
            "3144/3144 - 45s - loss: 164.3603 - val_loss: 346.0352 - 45s/epoch - 14ms/step\n",
            "Epoch 70/200\n",
            "3144/3144 - 44s - loss: 161.6414 - val_loss: 351.3600 - 44s/epoch - 14ms/step\n",
            "Epoch 71/200\n",
            "3144/3144 - 45s - loss: 159.5961 - val_loss: 350.4796 - 45s/epoch - 14ms/step\n",
            "Epoch 72/200\n",
            "3144/3144 - 44s - loss: 157.5755 - val_loss: 354.9380 - 44s/epoch - 14ms/step\n",
            "Epoch 73/200\n",
            "3144/3144 - 45s - loss: 154.3563 - val_loss: 352.8321 - 45s/epoch - 14ms/step\n",
            "Epoch 74/200\n",
            "3144/3144 - 49s - loss: 151.5271 - val_loss: 359.2251 - 49s/epoch - 16ms/step\n",
            "Epoch 75/200\n",
            "3144/3144 - 45s - loss: 150.6756 - val_loss: 364.7578 - 45s/epoch - 14ms/step\n",
            "Epoch 76/200\n",
            "3144/3144 - 44s - loss: 148.5303 - val_loss: 350.3727 - 44s/epoch - 14ms/step\n",
            "Epoch 77/200\n",
            "3144/3144 - 50s - loss: 147.0694 - val_loss: 360.9832 - 50s/epoch - 16ms/step\n",
            "Epoch 78/200\n",
            "3144/3144 - 50s - loss: 145.4033 - val_loss: 352.6940 - 50s/epoch - 16ms/step\n",
            "Epoch 79/200\n",
            "3144/3144 - 45s - loss: 142.9449 - val_loss: 354.5827 - 45s/epoch - 14ms/step\n",
            "Epoch 80/200\n",
            "3144/3144 - 45s - loss: 141.0161 - val_loss: 357.9552 - 45s/epoch - 14ms/step\n",
            "Epoch 81/200\n",
            "3144/3144 - 44s - loss: 139.6612 - val_loss: 366.1901 - 44s/epoch - 14ms/step\n",
            "Epoch 82/200\n",
            "3144/3144 - 45s - loss: 137.4938 - val_loss: 363.9320 - 45s/epoch - 14ms/step\n",
            "Epoch 83/200\n",
            "3144/3144 - 44s - loss: 136.0877 - val_loss: 357.1887 - 44s/epoch - 14ms/step\n",
            "Epoch 84/200\n",
            "3144/3144 - 45s - loss: 134.8872 - val_loss: 367.3428 - 45s/epoch - 14ms/step\n",
            "Epoch 85/200\n",
            "3144/3144 - 49s - loss: 132.7956 - val_loss: 378.3002 - 49s/epoch - 16ms/step\n",
            "Epoch 86/200\n",
            "3144/3144 - 45s - loss: 131.5282 - val_loss: 354.7629 - 45s/epoch - 14ms/step\n",
            "Epoch 87/200\n",
            "3144/3144 - 44s - loss: 130.5568 - val_loss: 369.6992 - 44s/epoch - 14ms/step\n",
            "Epoch 88/200\n",
            "3144/3144 - 45s - loss: 128.9477 - val_loss: 363.5899 - 45s/epoch - 14ms/step\n",
            "Epoch 89/200\n",
            "3144/3144 - 49s - loss: 126.8621 - val_loss: 359.6454 - 49s/epoch - 16ms/step\n",
            "Epoch 90/200\n",
            "3144/3144 - 50s - loss: 125.6209 - val_loss: 362.6444 - 50s/epoch - 16ms/step\n",
            "Epoch 91/200\n",
            "3144/3144 - 45s - loss: 124.8098 - val_loss: 359.6435 - 45s/epoch - 14ms/step\n",
            "Epoch 92/200\n",
            "3144/3144 - 44s - loss: 123.0860 - val_loss: 365.4564 - 44s/epoch - 14ms/step\n",
            "Epoch 93/200\n",
            "3144/3144 - 50s - loss: 121.2254 - val_loss: 367.5365 - 50s/epoch - 16ms/step\n",
            "Epoch 94/200\n",
            "3144/3144 - 45s - loss: 120.7644 - val_loss: 374.9628 - 45s/epoch - 14ms/step\n",
            "Epoch 95/200\n",
            "3144/3144 - 45s - loss: 119.8368 - val_loss: 360.2159 - 45s/epoch - 14ms/step\n",
            "Epoch 96/200\n",
            "3144/3144 - 44s - loss: 118.8560 - val_loss: 367.6094 - 44s/epoch - 14ms/step\n",
            "Epoch 97/200\n",
            "3144/3144 - 44s - loss: 117.2639 - val_loss: 377.6006 - 44s/epoch - 14ms/step\n",
            "Epoch 98/200\n",
            "3144/3144 - 43s - loss: 116.3605 - val_loss: 380.7455 - 43s/epoch - 14ms/step\n",
            "Epoch 99/200\n",
            "3144/3144 - 43s - loss: 115.2942 - val_loss: 363.1592 - 43s/epoch - 14ms/step\n",
            "Epoch 100/200\n",
            "3144/3144 - 44s - loss: 114.2622 - val_loss: 367.2195 - 44s/epoch - 14ms/step\n",
            "Epoch 101/200\n",
            "3144/3144 - 43s - loss: 113.2165 - val_loss: 378.3438 - 43s/epoch - 14ms/step\n",
            "Epoch 102/200\n",
            "3144/3144 - 48s - loss: 111.7879 - val_loss: 388.7841 - 48s/epoch - 15ms/step\n",
            "Epoch 103/200\n",
            "3144/3144 - 48s - loss: 111.4893 - val_loss: 380.6305 - 48s/epoch - 15ms/step\n",
            "Epoch 104/200\n",
            "3144/3144 - 43s - loss: 110.2203 - val_loss: 372.2975 - 43s/epoch - 14ms/step\n",
            "Epoch 105/200\n",
            "3144/3144 - 43s - loss: 109.6845 - val_loss: 386.3386 - 43s/epoch - 14ms/step\n",
            "Epoch 106/200\n",
            "3144/3144 - 43s - loss: 109.9983 - val_loss: 362.8185 - 43s/epoch - 14ms/step\n",
            "Epoch 107/200\n",
            "3144/3144 - 44s - loss: 106.7526 - val_loss: 365.4321 - 44s/epoch - 14ms/step\n",
            "Epoch 108/200\n",
            "3144/3144 - 48s - loss: 107.1917 - val_loss: 364.1935 - 48s/epoch - 15ms/step\n",
            "Epoch 109/200\n",
            "3144/3144 - 43s - loss: 106.0424 - val_loss: 366.2830 - 43s/epoch - 14ms/step\n",
            "Epoch 110/200\n",
            "3144/3144 - 43s - loss: 104.5093 - val_loss: 370.4849 - 43s/epoch - 14ms/step\n",
            "Epoch 111/200\n",
            "3144/3144 - 43s - loss: 104.0030 - val_loss: 361.5536 - 43s/epoch - 14ms/step\n",
            "Epoch 112/200\n",
            "3144/3144 - 43s - loss: 103.5443 - val_loss: 373.0978 - 43s/epoch - 14ms/step\n",
            "Epoch 113/200\n",
            "3144/3144 - 43s - loss: 102.6090 - val_loss: 372.8011 - 43s/epoch - 14ms/step\n",
            "Epoch 114/200\n",
            "3144/3144 - 42s - loss: 101.9236 - val_loss: 363.3485 - 42s/epoch - 13ms/step\n",
            "Epoch 115/200\n",
            "3144/3144 - 43s - loss: 100.3280 - val_loss: 360.8906 - 43s/epoch - 14ms/step\n",
            "Epoch 116/200\n",
            "3144/3144 - 43s - loss: 100.8243 - val_loss: 368.3405 - 43s/epoch - 14ms/step\n",
            "Epoch 117/200\n",
            "3144/3144 - 43s - loss: 98.8004 - val_loss: 369.7149 - 43s/epoch - 14ms/step\n",
            "Epoch 118/200\n",
            "3144/3144 - 44s - loss: 99.0868 - val_loss: 369.3342 - 44s/epoch - 14ms/step\n",
            "Epoch 119/200\n",
            "3144/3144 - 43s - loss: 98.9773 - val_loss: 365.7594 - 43s/epoch - 14ms/step\n",
            "Epoch 120/200\n",
            "3144/3144 - 43s - loss: 97.3655 - val_loss: 363.4260 - 43s/epoch - 14ms/step\n",
            "Epoch 121/200\n",
            "3144/3144 - 43s - loss: 97.5059 - val_loss: 366.9977 - 43s/epoch - 14ms/step\n",
            "Epoch 122/200\n",
            "3144/3144 - 48s - loss: 95.4582 - val_loss: 362.2935 - 48s/epoch - 15ms/step\n",
            "Epoch 123/200\n",
            "3144/3144 - 44s - loss: 95.2442 - val_loss: 364.8483 - 44s/epoch - 14ms/step\n",
            "Epoch 124/200\n",
            "3144/3144 - 48s - loss: 95.0480 - val_loss: 362.4500 - 48s/epoch - 15ms/step\n",
            "Epoch 125/200\n",
            "3144/3144 - 48s - loss: 94.1862 - val_loss: 367.0071 - 48s/epoch - 15ms/step\n",
            "Epoch 126/200\n",
            "3144/3144 - 43s - loss: 94.2302 - val_loss: 378.2986 - 43s/epoch - 14ms/step\n",
            "Epoch 127/200\n",
            "3144/3144 - 43s - loss: 92.7902 - val_loss: 366.9494 - 43s/epoch - 14ms/step\n",
            "Epoch 128/200\n",
            "3144/3144 - 43s - loss: 92.0937 - val_loss: 371.7962 - 43s/epoch - 14ms/step\n",
            "Epoch 129/200\n",
            "3144/3144 - 44s - loss: 91.5378 - val_loss: 367.7460 - 44s/epoch - 14ms/step\n",
            "Epoch 130/200\n",
            "3144/3144 - 43s - loss: 91.0224 - val_loss: 367.4103 - 43s/epoch - 14ms/step\n",
            "Epoch 131/200\n",
            "3144/3144 - 43s - loss: 90.7058 - val_loss: 361.7057 - 43s/epoch - 14ms/step\n",
            "Epoch 132/200\n",
            "3144/3144 - 43s - loss: 90.6257 - val_loss: 361.1004 - 43s/epoch - 14ms/step\n",
            "Epoch 133/200\n",
            "3144/3144 - 48s - loss: 90.2594 - val_loss: 365.5905 - 48s/epoch - 15ms/step\n",
            "Epoch 134/200\n",
            "3144/3144 - 43s - loss: 88.7533 - val_loss: 367.4373 - 43s/epoch - 14ms/step\n",
            "Epoch 135/200\n",
            "3144/3144 - 43s - loss: 88.0630 - val_loss: 365.1707 - 43s/epoch - 14ms/step\n",
            "Epoch 136/200\n",
            "3144/3144 - 43s - loss: 88.2106 - val_loss: 365.1786 - 43s/epoch - 14ms/step\n",
            "Epoch 137/200\n",
            "3144/3144 - 43s - loss: 87.6802 - val_loss: 366.1483 - 43s/epoch - 14ms/step\n",
            "Epoch 138/200\n",
            "3144/3144 - 43s - loss: 86.7662 - val_loss: 370.1121 - 43s/epoch - 14ms/step\n",
            "Epoch 139/200\n",
            "3144/3144 - 43s - loss: 87.2089 - val_loss: 363.4709 - 43s/epoch - 14ms/step\n",
            "Epoch 140/200\n",
            "3144/3144 - 43s - loss: 86.3093 - val_loss: 369.3893 - 43s/epoch - 14ms/step\n",
            "Epoch 141/200\n",
            "3144/3144 - 44s - loss: 85.6946 - val_loss: 371.4185 - 44s/epoch - 14ms/step\n",
            "Epoch 142/200\n",
            "3144/3144 - 43s - loss: 84.1750 - val_loss: 363.7185 - 43s/epoch - 14ms/step\n",
            "Epoch 143/200\n",
            "3144/3144 - 43s - loss: 84.6673 - val_loss: 369.2715 - 43s/epoch - 14ms/step\n",
            "Epoch 144/200\n",
            "3144/3144 - 43s - loss: 83.6317 - val_loss: 369.6496 - 43s/epoch - 14ms/step\n",
            "Epoch 145/200\n",
            "3144/3144 - 43s - loss: 83.0680 - val_loss: 377.7935 - 43s/epoch - 14ms/step\n",
            "Epoch 146/200\n",
            "3144/3144 - 43s - loss: 83.3704 - val_loss: 381.5204 - 43s/epoch - 14ms/step\n",
            "Epoch 147/200\n",
            "3144/3144 - 43s - loss: 82.9624 - val_loss: 367.8385 - 43s/epoch - 14ms/step\n",
            "Epoch 148/200\n",
            "3144/3144 - 43s - loss: 82.6383 - val_loss: 370.0284 - 43s/epoch - 14ms/step\n",
            "Epoch 149/200\n",
            "3144/3144 - 43s - loss: 81.7085 - val_loss: 365.7138 - 43s/epoch - 14ms/step\n",
            "Epoch 150/200\n",
            "3144/3144 - 43s - loss: 80.9276 - val_loss: 364.8267 - 43s/epoch - 14ms/step\n",
            "Epoch 151/200\n",
            "3144/3144 - 43s - loss: 81.5331 - val_loss: 374.5337 - 43s/epoch - 14ms/step\n",
            "Epoch 152/200\n",
            "3144/3144 - 42s - loss: 81.1832 - val_loss: 371.4706 - 42s/epoch - 14ms/step\n",
            "Epoch 153/200\n",
            "3144/3144 - 43s - loss: 80.1330 - val_loss: 372.7624 - 43s/epoch - 14ms/step\n",
            "Epoch 154/200\n",
            "3144/3144 - 48s - loss: 79.5121 - val_loss: 366.9990 - 48s/epoch - 15ms/step\n",
            "Epoch 155/200\n",
            "3144/3144 - 43s - loss: 80.1409 - val_loss: 364.1898 - 43s/epoch - 14ms/step\n",
            "Epoch 156/200\n",
            "3144/3144 - 48s - loss: 79.0211 - val_loss: 368.1627 - 48s/epoch - 15ms/step\n",
            "Epoch 157/200\n",
            "3144/3144 - 48s - loss: 78.6656 - val_loss: 365.3954 - 48s/epoch - 15ms/step\n",
            "Epoch 158/200\n",
            "3144/3144 - 43s - loss: 77.9719 - val_loss: 373.7156 - 43s/epoch - 14ms/step\n",
            "Epoch 159/200\n",
            "3144/3144 - 42s - loss: 77.5563 - val_loss: 372.1610 - 42s/epoch - 13ms/step\n",
            "Epoch 160/200\n",
            "3144/3144 - 43s - loss: 77.6691 - val_loss: 372.3635 - 43s/epoch - 14ms/step\n",
            "Epoch 161/200\n",
            "3144/3144 - 43s - loss: 77.2691 - val_loss: 394.2119 - 43s/epoch - 14ms/step\n",
            "Epoch 162/200\n",
            "3144/3144 - 43s - loss: 76.9830 - val_loss: 369.1741 - 43s/epoch - 14ms/step\n",
            "Epoch 163/200\n",
            "3144/3144 - 43s - loss: 76.5511 - val_loss: 373.2128 - 43s/epoch - 14ms/step\n",
            "Epoch 164/200\n",
            "3144/3144 - 48s - loss: 75.7194 - val_loss: 384.2539 - 48s/epoch - 15ms/step\n",
            "Epoch 165/200\n",
            "3144/3144 - 43s - loss: 75.0016 - val_loss: 365.1564 - 43s/epoch - 14ms/step\n",
            "Epoch 166/200\n",
            "3144/3144 - 43s - loss: 75.2663 - val_loss: 377.5770 - 43s/epoch - 14ms/step\n",
            "Epoch 167/200\n",
            "3144/3144 - 42s - loss: 75.4220 - val_loss: 368.7620 - 42s/epoch - 13ms/step\n",
            "Epoch 168/200\n",
            "3144/3144 - 43s - loss: 74.6255 - val_loss: 375.3554 - 43s/epoch - 14ms/step\n",
            "Epoch 169/200\n",
            "3144/3144 - 43s - loss: 74.6074 - val_loss: 372.3260 - 43s/epoch - 14ms/step\n",
            "Epoch 170/200\n",
            "3144/3144 - 43s - loss: 73.9396 - val_loss: 377.6349 - 43s/epoch - 14ms/step\n",
            "Epoch 171/200\n",
            "3144/3144 - 43s - loss: 73.5814 - val_loss: 378.3137 - 43s/epoch - 14ms/step\n",
            "Epoch 172/200\n",
            "3144/3144 - 43s - loss: 73.2435 - val_loss: 365.8934 - 43s/epoch - 14ms/step\n",
            "Epoch 173/200\n",
            "3144/3144 - 42s - loss: 73.2200 - val_loss: 365.0880 - 42s/epoch - 13ms/step\n",
            "Epoch 174/200\n",
            "3144/3144 - 43s - loss: 72.8079 - val_loss: 367.4925 - 43s/epoch - 14ms/step\n",
            "Epoch 175/200\n",
            "3144/3144 - 47s - loss: 72.5272 - val_loss: 371.7981 - 47s/epoch - 15ms/step\n",
            "Epoch 176/200\n",
            "3144/3144 - 48s - loss: 72.2066 - val_loss: 373.5596 - 48s/epoch - 15ms/step\n",
            "Epoch 177/200\n",
            "3144/3144 - 43s - loss: 72.8544 - val_loss: 373.6929 - 43s/epoch - 14ms/step\n",
            "Epoch 178/200\n",
            "3144/3144 - 48s - loss: 71.3481 - val_loss: 366.6797 - 48s/epoch - 15ms/step\n",
            "Epoch 179/200\n",
            "3144/3144 - 47s - loss: 71.6970 - val_loss: 368.9300 - 47s/epoch - 15ms/step\n",
            "Epoch 180/200\n",
            "3144/3144 - 48s - loss: 70.6236 - val_loss: 368.1221 - 48s/epoch - 15ms/step\n",
            "Epoch 181/200\n",
            "3144/3144 - 43s - loss: 70.2765 - val_loss: 369.9553 - 43s/epoch - 14ms/step\n",
            "Epoch 182/200\n",
            "3144/3144 - 43s - loss: 70.0283 - val_loss: 368.6906 - 43s/epoch - 14ms/step\n",
            "Epoch 183/200\n",
            "3144/3144 - 42s - loss: 70.4418 - val_loss: 370.0690 - 42s/epoch - 14ms/step\n",
            "Epoch 184/200\n",
            "3144/3144 - 43s - loss: 69.6609 - val_loss: 370.4305 - 43s/epoch - 14ms/step\n",
            "Epoch 185/200\n",
            "3144/3144 - 43s - loss: 69.6690 - val_loss: 371.1858 - 43s/epoch - 14ms/step\n",
            "Epoch 186/200\n",
            "3144/3144 - 42s - loss: 69.3372 - val_loss: 366.7671 - 42s/epoch - 13ms/step\n",
            "Epoch 187/200\n",
            "3144/3144 - 43s - loss: 69.1471 - val_loss: 376.1274 - 43s/epoch - 14ms/step\n",
            "Epoch 188/200\n",
            "3144/3144 - 43s - loss: 68.8421 - val_loss: 373.5308 - 43s/epoch - 14ms/step\n",
            "Epoch 189/200\n",
            "3144/3144 - 42s - loss: 68.2569 - val_loss: 365.3774 - 42s/epoch - 13ms/step\n",
            "Epoch 190/200\n",
            "3144/3144 - 43s - loss: 68.3611 - val_loss: 367.5054 - 43s/epoch - 14ms/step\n",
            "Epoch 191/200\n",
            "3144/3144 - 43s - loss: 67.3787 - val_loss: 367.3699 - 43s/epoch - 14ms/step\n",
            "Epoch 192/200\n",
            "3144/3144 - 42s - loss: 67.5494 - val_loss: 362.4028 - 42s/epoch - 14ms/step\n",
            "Epoch 193/200\n",
            "3144/3144 - 43s - loss: 67.3483 - val_loss: 362.9362 - 43s/epoch - 14ms/step\n",
            "Epoch 194/200\n",
            "3144/3144 - 42s - loss: 67.1580 - val_loss: 370.3360 - 42s/epoch - 14ms/step\n",
            "Epoch 195/200\n",
            "3144/3144 - 42s - loss: 67.1526 - val_loss: 370.0772 - 42s/epoch - 13ms/step\n",
            "Epoch 196/200\n",
            "3144/3144 - 43s - loss: 66.6475 - val_loss: 364.9350 - 43s/epoch - 14ms/step\n",
            "Epoch 197/200\n",
            "3144/3144 - 47s - loss: 66.5204 - val_loss: 367.4883 - 47s/epoch - 15ms/step\n",
            "Epoch 198/200\n",
            "3144/3144 - 43s - loss: 65.9728 - val_loss: 368.3412 - 43s/epoch - 14ms/step\n",
            "Epoch 199/200\n",
            "3144/3144 - 42s - loss: 65.7820 - val_loss: 370.5516 - 42s/epoch - 13ms/step\n",
            "Epoch 200/200\n",
            "3144/3144 - 43s - loss: 65.5617 - val_loss: 373.2609 - 43s/epoch - 14ms/step\n"
          ]
        }
      ],
      "source": [
        "cnn_bilstm_history = model_cnn_bilstm.fit(X_train_series_sub, Y_train, validation_data=(X_valid_series_sub, Y_valid), epochs=epochs, verbose=2)"
      ]
    },
    {
      "cell_type": "code",
      "execution_count": null,
      "metadata": {
        "colab": {
          "background_save": true
        },
        "id": "pLgqSJuS3ZCs",
        "outputId": "100f6208-db15-419a-c8dc-1cd505267349"
      },
      "outputs": [
        {
          "data": {
            "image/png": "[encoded data removed]",
            "text/plain": [
              "<Figure size 2200x1200 with 1 Axes>"
            ]
          },
          "metadata": {},
          "output_type": "display_data"
        }
      ],
      "source": [
        "fig, ax4 = plt.subplots(1, 1, sharex=True, sharey=True,figsize=(22,12))\n",
        "\n",
        "ax4.plot(cnn_bilstm_history.history['loss'], label='Train loss')\n",
        "ax4.plot(cnn_bilstm_history.history['val_loss'], label='Validation loss')\n",
        "ax4.legend(loc='best')\n",
        "ax4.set_title('CNN-BiLSTM')\n",
        "ax4.set_xlabel('Epochs')\n",
        "ax4.set_ylabel('MSE')\n",
        "\n",
        "plt.show()"
      ]
    },
    {
      "cell_type": "code",
      "execution_count": null,
      "metadata": {
        "id": "3NUSuVUB4tLO"
      },
      "outputs": [],
      "source": [
        "cnn_bilstm_train_pred = model_cnn_bilstm.predict(X_train_series_sub)\n",
        "cnn_bilstm_valid_pred = model_cnn_bilstm.predict(X_valid_series_sub)\n",
        "end_time=time.time()\n",
        "\n",
        "print('Train rmse:', np.sqrt(mean_squared_error(Y_train, cnn_bilstm_train_pred)))\n",
        "print('Validation rmse:', np.sqrt(mean_squared_error(Y_valid, cnn_bilstm_valid_pred)))"
      ]
    },
    {
      "cell_type": "markdown",
      "metadata": {
        "id": "oKPWKOSQhWoI"
      },
      "source": [
        "Calculating Performance measures"
      ]
    },
    {
      "cell_type": "code",
      "execution_count": null,
      "metadata": {
        "id": "nB6RMYoQ49dW"
      },
      "outputs": [],
      "source": [
        "from sklearn.metrics import mean_absolute_error, mean_absolute_percentage_error, r2_score\n",
        "mae = mean_absolute_error(Y_train, cnn_bilstm_train_pred)\n",
        "mape = mean_absolute_percentage_error(Y_train, cnn_bilstm_train_pred) * 100\n",
        "r2 = r2_score(Y_train, cnn_bilstm_train_pred)\n",
        "execution_time=end_time-start_time\n",
        "\n",
        "# Print the results\n",
        "print(\"MAE: {:.4f}\".format(mae))\n",
        "print(\"MAPE: {:.2f}%\".format(mape))\n",
        "print(\"R-squared: {:.4f}\".format(r2))\n",
        "print(\"Execution time\",execution_time)"
      ]
    }
  ],
  "metadata": {
    "accelerator": "GPU",
    "colab": {
      "provenance": []
    },
    "gpuClass": "standard",
    "kernelspec": {
      "display_name": "Python 3",
      "name": "python3"
    },
    "language_info": {
      "name": "python"
    }
  },
  "nbformat": 4,
  "nbformat_minor": 0
}