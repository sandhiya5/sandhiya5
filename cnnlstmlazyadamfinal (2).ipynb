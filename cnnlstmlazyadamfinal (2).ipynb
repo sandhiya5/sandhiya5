{
  "cells": [
    {
      "cell_type": "code",
      "execution_count": null,
      "metadata": {
        "colab": {
          "base_uri": "https://localhost:8080/"
        },
        "id": "-mqJs6ZEwYSj",
        "outputId": "d72019fb-94e4-4419-f8cf-afffce795576"
      },
      "outputs": [
        {
          "output_type": "stream",
          "name": "stdout",
          "text": [
            "Looking in indexes: https://pypi.org/simple, https://us-python.pkg.dev/colab-wheels/public/simple/\n",
            "Requirement already satisfied: chart-studio in /usr/local/lib/python3.9/dist-packages (1.1.0)\n",
            "Requirement already satisfied: plotly in /usr/local/lib/python3.9/dist-packages (from chart-studio) (5.13.1)\n",
            "Requirement already satisfied: six in /usr/local/lib/python3.9/dist-packages (from chart-studio) (1.16.0)\n",
            "Requirement already satisfied: retrying>=1.3.3 in /usr/local/lib/python3.9/dist-packages (from chart-studio) (1.3.4)\n",
            "Requirement already satisfied: requests in /usr/local/lib/python3.9/dist-packages (from chart-studio) (2.27.1)\n",
            "Requirement already satisfied: tenacity>=6.2.0 in /usr/local/lib/python3.9/dist-packages (from plotly->chart-studio) (8.2.2)\n",
            "Requirement already satisfied: urllib3<1.27,>=1.21.1 in /usr/local/lib/python3.9/dist-packages (from requests->chart-studio) (1.26.15)\n",
            "Requirement already satisfied: certifi>=2017.4.17 in /usr/local/lib/python3.9/dist-packages (from requests->chart-studio) (2022.12.7)\n",
            "Requirement already satisfied: charset-normalizer~=2.0.0 in /usr/local/lib/python3.9/dist-packages (from requests->chart-studio) (2.0.12)\n",
            "Requirement already satisfied: idna<4,>=2.5 in /usr/local/lib/python3.9/dist-packages (from requests->chart-studio) (3.4)\n"
          ]
        }
      ],
      "source": [
        "pip install chart-studio"
      ]
    },
    {
      "cell_type": "code",
      "execution_count": null,
      "metadata": {
        "colab": {
          "base_uri": "https://localhost:8080/"
        },
        "id": "mWKgyuDJX8gz",
        "outputId": "b57a3c32-f844-47a4-b8df-b17e6757e5dd"
      },
      "outputs": [
        {
          "output_type": "stream",
          "name": "stdout",
          "text": [
            "Looking in indexes: https://pypi.org/simple, https://us-python.pkg.dev/colab-wheels/public/simple/\n",
            "Requirement already satisfied: tensorflow in /usr/local/lib/python3.9/dist-packages (2.11.0)\n",
            "Collecting tensorflow\n",
            "  Downloading tensorflow-2.11.1-cp39-cp39-manylinux_2_17_x86_64.manylinux2014_x86_64.whl (588.3 MB)\n",
            "\u001b[2K     \u001b[90m━━━━━━━━━━━━━━━━━━━━━━━━━━━━━━━━━━━━━━━\u001b[0m \u001b[32m588.3/588.3 MB\u001b[0m \u001b[31m2.4 MB/s\u001b[0m eta \u001b[36m0:00:00\u001b[0m\n",
            "\u001b[?25hCollecting tensorflow-addons\n",
            "  Downloading tensorflow_addons-0.19.0-cp39-cp39-manylinux_2_17_x86_64.manylinux2014_x86_64.whl (1.1 MB)\n",
            "\u001b[2K     \u001b[90m━━━━━━━━━━━━━━━━━━━━━━━━━━━━━━━━━━━━━━━━\u001b[0m \u001b[32m1.1/1.1 MB\u001b[0m \u001b[31m63.0 MB/s\u001b[0m eta \u001b[36m0:00:00\u001b[0m\n",
            "\u001b[?25hRequirement already satisfied: gast<=0.4.0,>=0.2.1 in /usr/local/lib/python3.9/dist-packages (from tensorflow) (0.4.0)\n",
            "Requirement already satisfied: absl-py>=1.0.0 in /usr/local/lib/python3.9/dist-packages (from tensorflow) (1.4.0)\n",
            "Requirement already satisfied: termcolor>=1.1.0 in /usr/local/lib/python3.9/dist-packages (from tensorflow) (2.2.0)\n",
            "Requirement already satisfied: packaging in /usr/local/lib/python3.9/dist-packages (from tensorflow) (23.0)\n",
            "Requirement already satisfied: keras<2.12,>=2.11.0 in /usr/local/lib/python3.9/dist-packages (from tensorflow) (2.11.0)\n",
            "Requirement already satisfied: protobuf<3.20,>=3.9.2 in /usr/local/lib/python3.9/dist-packages (from tensorflow) (3.19.6)\n",
            "Requirement already satisfied: numpy>=1.20 in /usr/local/lib/python3.9/dist-packages (from tensorflow) (1.22.4)\n",
            "Requirement already satisfied: grpcio<2.0,>=1.24.3 in /usr/local/lib/python3.9/dist-packages (from tensorflow) (1.51.3)\n",
            "Requirement already satisfied: libclang>=13.0.0 in /usr/local/lib/python3.9/dist-packages (from tensorflow) (15.0.6.1)\n",
            "Requirement already satisfied: six>=1.12.0 in /usr/local/lib/python3.9/dist-packages (from tensorflow) (1.16.0)\n",
            "Requirement already satisfied: setuptools in /usr/local/lib/python3.9/dist-packages (from tensorflow) (63.4.3)\n",
            "Requirement already satisfied: tensorflow-estimator<2.12,>=2.11.0 in /usr/local/lib/python3.9/dist-packages (from tensorflow) (2.11.0)\n",
            "Requirement already satisfied: typing-extensions>=3.6.6 in /usr/local/lib/python3.9/dist-packages (from tensorflow) (4.5.0)\n",
            "Requirement already satisfied: astunparse>=1.6.0 in /usr/local/lib/python3.9/dist-packages (from tensorflow) (1.6.3)\n",
            "Requirement already satisfied: google-pasta>=0.1.1 in /usr/local/lib/python3.9/dist-packages (from tensorflow) (0.2.0)\n",
            "Requirement already satisfied: opt-einsum>=2.3.2 in /usr/local/lib/python3.9/dist-packages (from tensorflow) (3.3.0)\n",
            "Requirement already satisfied: h5py>=2.9.0 in /usr/local/lib/python3.9/dist-packages (from tensorflow) (3.8.0)\n",
            "Requirement already satisfied: tensorflow-io-gcs-filesystem>=0.23.1 in /usr/local/lib/python3.9/dist-packages (from tensorflow) (0.31.0)\n",
            "Requirement already satisfied: wrapt>=1.11.0 in /usr/local/lib/python3.9/dist-packages (from tensorflow) (1.15.0)\n",
            "Requirement already satisfied: tensorboard<2.12,>=2.11 in /usr/local/lib/python3.9/dist-packages (from tensorflow) (2.11.2)\n",
            "Requirement already satisfied: flatbuffers>=2.0 in /usr/local/lib/python3.9/dist-packages (from tensorflow) (23.3.3)\n",
            "Collecting typeguard>=2.7\n",
            "  Downloading typeguard-3.0.1-py3-none-any.whl (30 kB)\n",
            "Requirement already satisfied: wheel<1.0,>=0.23.0 in /usr/local/lib/python3.9/dist-packages (from astunparse>=1.6.0->tensorflow) (0.40.0)\n",
            "Requirement already satisfied: google-auth<3,>=1.6.3 in /usr/local/lib/python3.9/dist-packages (from tensorboard<2.12,>=2.11->tensorflow) (2.16.2)\n",
            "Requirement already satisfied: werkzeug>=1.0.1 in /usr/local/lib/python3.9/dist-packages (from tensorboard<2.12,>=2.11->tensorflow) (2.2.3)\n",
            "Requirement already satisfied: google-auth-oauthlib<0.5,>=0.4.1 in /usr/local/lib/python3.9/dist-packages (from tensorboard<2.12,>=2.11->tensorflow) (0.4.6)\n",
            "Requirement already satisfied: requests<3,>=2.21.0 in /usr/local/lib/python3.9/dist-packages (from tensorboard<2.12,>=2.11->tensorflow) (2.27.1)\n",
            "Requirement already satisfied: markdown>=2.6.8 in /usr/local/lib/python3.9/dist-packages (from tensorboard<2.12,>=2.11->tensorflow) (3.4.1)\n",
            "Requirement already satisfied: tensorboard-plugin-wit>=1.6.0 in /usr/local/lib/python3.9/dist-packages (from tensorboard<2.12,>=2.11->tensorflow) (1.8.1)\n",
            "Requirement already satisfied: tensorboard-data-server<0.7.0,>=0.6.0 in /usr/local/lib/python3.9/dist-packages (from tensorboard<2.12,>=2.11->tensorflow) (0.6.1)\n",
            "Requirement already satisfied: importlib-metadata>=3.6 in /usr/local/lib/python3.9/dist-packages (from typeguard>=2.7->tensorflow-addons) (6.0.0)\n",
            "Requirement already satisfied: cachetools<6.0,>=2.0.0 in /usr/local/lib/python3.9/dist-packages (from google-auth<3,>=1.6.3->tensorboard<2.12,>=2.11->tensorflow) (5.3.0)\n",
            "Requirement already satisfied: rsa<5,>=3.1.4 in /usr/local/lib/python3.9/dist-packages (from google-auth<3,>=1.6.3->tensorboard<2.12,>=2.11->tensorflow) (4.9)\n",
            "Requirement already satisfied: pyasn1-modules>=0.2.1 in /usr/local/lib/python3.9/dist-packages (from google-auth<3,>=1.6.3->tensorboard<2.12,>=2.11->tensorflow) (0.2.8)\n",
            "Requirement already satisfied: requests-oauthlib>=0.7.0 in /usr/local/lib/python3.9/dist-packages (from google-auth-oauthlib<0.5,>=0.4.1->tensorboard<2.12,>=2.11->tensorflow) (1.3.1)\n",
            "Requirement already satisfied: zipp>=0.5 in /usr/local/lib/python3.9/dist-packages (from importlib-metadata>=3.6->typeguard>=2.7->tensorflow-addons) (3.15.0)\n",
            "Requirement already satisfied: urllib3<1.27,>=1.21.1 in /usr/local/lib/python3.9/dist-packages (from requests<3,>=2.21.0->tensorboard<2.12,>=2.11->tensorflow) (1.26.15)\n",
            "Requirement already satisfied: certifi>=2017.4.17 in /usr/local/lib/python3.9/dist-packages (from requests<3,>=2.21.0->tensorboard<2.12,>=2.11->tensorflow) (2022.12.7)\n",
            "Requirement already satisfied: charset-normalizer~=2.0.0 in /usr/local/lib/python3.9/dist-packages (from requests<3,>=2.21.0->tensorboard<2.12,>=2.11->tensorflow) (2.0.12)\n",
            "Requirement already satisfied: idna<4,>=2.5 in /usr/local/lib/python3.9/dist-packages (from requests<3,>=2.21.0->tensorboard<2.12,>=2.11->tensorflow) (3.4)\n",
            "Requirement already satisfied: MarkupSafe>=2.1.1 in /usr/local/lib/python3.9/dist-packages (from werkzeug>=1.0.1->tensorboard<2.12,>=2.11->tensorflow) (2.1.2)\n",
            "Requirement already satisfied: pyasn1<0.5.0,>=0.4.6 in /usr/local/lib/python3.9/dist-packages (from pyasn1-modules>=0.2.1->google-auth<3,>=1.6.3->tensorboard<2.12,>=2.11->tensorflow) (0.4.8)\n",
            "Requirement already satisfied: oauthlib>=3.0.0 in /usr/local/lib/python3.9/dist-packages (from requests-oauthlib>=0.7.0->google-auth-oauthlib<0.5,>=0.4.1->tensorboard<2.12,>=2.11->tensorflow) (3.2.2)\n",
            "Installing collected packages: typeguard, tensorflow-addons, tensorflow\n",
            "  Attempting uninstall: tensorflow\n",
            "    Found existing installation: tensorflow 2.11.0\n",
            "    Uninstalling tensorflow-2.11.0:\n",
            "      Successfully uninstalled tensorflow-2.11.0\n",
            "Successfully installed tensorflow-2.11.1 tensorflow-addons-0.19.0 typeguard-3.0.1\n"
          ]
        }
      ],
      "source": [
        "pip install --upgrade tensorflow tensorflow-addons"
      ]
    },
    {
      "cell_type": "code",
      "source": [
        "import time\n",
        "start_time=time.time()"
      ],
      "metadata": {
        "id": "djZvgWyddjWt"
      },
      "execution_count": null,
      "outputs": []
    },
    {
      "cell_type": "markdown",
      "metadata": {
        "id": "im7SNt_ww_Lh"
      },
      "source": [
        "Import necessary libraries\n"
      ]
    },
    {
      "cell_type": "code",
      "execution_count": null,
      "metadata": {
        "colab": {
          "base_uri": "https://localhost:8080/",
          "height": 17
        },
        "id": "rNmRWY_0VttW",
        "outputId": "6507fb43-4e31-46da-a04d-8a1728e99a08"
      },
      "outputs": [
        {
          "output_type": "display_data",
          "data": {
            "text/html": [
              "        <script type=\"text/javascript\">\n",
              "        window.PlotlyConfig = {MathJaxConfig: 'local'};\n",
              "        if (window.MathJax && window.MathJax.Hub && window.MathJax.Hub.Config) {window.MathJax.Hub.Config({SVG: {font: \"STIX-Web\"}});}\n",
              "        if (typeof require !== 'undefined') {\n",
              "        require.undef(\"plotly\");\n",
              "        requirejs.config({\n",
              "            paths: {\n",
              "                'plotly': ['https://cdn.plot.ly/plotly-2.18.2.min']\n",
              "            }\n",
              "        });\n",
              "        require(['plotly'], function(Plotly) {\n",
              "            window._Plotly = Plotly;\n",
              "        });\n",
              "        }\n",
              "        </script>\n",
              "        "
            ]
          },
          "metadata": {}
        }
      ],
      "source": [
        "import warnings\n",
        "import numpy as np\n",
        "import pandas as pd\n",
        "import tensorflow\n",
        "import tensorflow_addons as tfa\n",
        "import matplotlib.pyplot as plt\n",
        "from tensorflow_addons.optimizers import LazyAdam\n",
        "from keras.layers import Dropout\n",
        "\n",
        "from keras.models import Sequential, Model\n",
        "from keras.layers.convolutional import Conv1D, MaxPooling1D\n",
        "from keras.layers import Dense, LSTM, RepeatVector, TimeDistributed, Flatten\n",
        "from sklearn.metrics import mean_squared_error\n",
        "from sklearn.preprocessing import OneHotEncoder\n",
        "from sklearn.model_selection import train_test_split\n",
        "from chart_studio import plotly as py\n",
        "import plotly.graph_objs as go\n",
        "from plotly.offline import init_notebook_mode, iplot\n",
        "\n",
        "%matplotlib inline\n",
        "warnings.filterwarnings(\"ignore\")\n",
        "init_notebook_mode(connected=True)\n",
        "\n",
        "\n",
        "from numpy.random import seed\n",
        "seed(1)\n",
        "from tensorflow import random\n",
        "random.set_seed(1)"
      ]
    },
    {
      "cell_type": "markdown",
      "metadata": {
        "id": "hTnF6K8GxN8F"
      },
      "source": [
        "LOAD DATA\n"
      ]
    },
    {
      "cell_type": "code",
      "execution_count": null,
      "metadata": {
        "id": "KeH8xVlqANdX"
      },
      "outputs": [],
      "source": [
        "import pandas as pd\n",
        "import numpy as np\n",
        "\n",
        "train = pd.read_csv('train.csv', parse_dates=['date'])\n",
        "test = pd.read_csv('test.csv', parse_dates=['date'])\n",
        "\n",
        "# create new column weekday\n",
        "train['weekday'] = np.where(train['date'].dt.dayofweek < 5, 0, 1)\n",
        "test['weekday'] = np.where(test['date'].dt.dayofweek < 5, 0, 1)\n",
        "# perform one-hot encoding\n",
        "train = pd.get_dummies(train, columns=['weekday'])\n",
        "test = pd.get_dummies(test, columns=['weekday'])\n",
        "\n",
        "#fill sales data with 0 in test set\n",
        "test['sales'] = 0"
      ]
    },
    {
      "cell_type": "code",
      "execution_count": null,
      "metadata": {
        "id": "yZJTdjHEBVHt"
      },
      "outputs": [],
      "source": [
        "import numpy as np\n",
        "from sklearn.preprocessing import MinMaxScaler\n",
        "\n",
        "# Convert the 'date' column to datetime format\n",
        "train['date'] = pd.to_datetime(train['date'])\n",
        "\n",
        "# Create weekday and weekend indicator variables based on the 'date' column\n",
        "train['weekday_weekend'] = np.where(train['date'].dt.weekday < 5, 'weekday', 'weekend')\n",
        "\n",
        "# Select columns to be scaled\n",
        "val_cols = ['store', 'item']\n",
        "num_cols = ['sales']\n",
        "\n",
        "# Scale the numerical columns using MinMaxScaler\n",
        "scaler = MinMaxScaler(feature_range=(0, 200))\n",
        "train[num_cols] = scaler.fit_transform(train[num_cols])\n",
        "\n",
        "# Add the 'date', 'store', and 'item' columns back to the dataset\n",
        "train = train[['date'] + val_cols + num_cols + ['weekday_weekend']]"
      ]
    },
    {
      "cell_type": "code",
      "execution_count": null,
      "metadata": {
        "id": "x_9CVxBOHuEz"
      },
      "outputs": [],
      "source": [
        "import numpy as np\n",
        "from sklearn.preprocessing import MinMaxScaler\n",
        "\n",
        "#Convert the 'date' column to datetime format\n",
        "test['date'] = pd.to_datetime(test['date'])\n",
        "\n",
        "#Create weekday and weekend indicator variables based on the 'date' column\n",
        "test['weekday_weekend'] = np.where(test['date'].dt.weekday < 5, 'weekday', 'weekend')\n",
        "\n",
        "#Scale the numerical columns using MinMaxScaler\n",
        "\n",
        "val_cols = ['store', 'item']\n",
        "num_cols = ['sales']\n",
        "scaler = MinMaxScaler(feature_range=(0, 200))\n",
        "test[num_cols] = scaler.fit_transform(test[num_cols])\n",
        "\n",
        "#Add the 'date' column back to the dataset\n",
        "test = test[['date'] +val_cols+ num_cols + ['weekday_weekend']]"
      ]
    },
    {
      "cell_type": "markdown",
      "metadata": {
        "id": "6JgwgmgcxY0l"
      },
      "source": [
        "Trainset data description\n"
      ]
    },
    {
      "cell_type": "code",
      "execution_count": null,
      "metadata": {
        "colab": {
          "base_uri": "https://localhost:8080/",
          "height": 300
        },
        "id": "ydh9dGIXxdxV",
        "outputId": "7654ff11-7f8a-4b22-e9ac-7dd9b330828e"
      },
      "outputs": [
        {
          "output_type": "execute_result",
          "data": {
            "text/plain": [
              "              store          item         sales\n",
              "count  54913.000000  54912.000000  54912.000000\n",
              "mean       5.489101      2.004808     51.016049\n",
              "std        2.877342      0.821382     28.249904\n",
              "min        1.000000      1.000000      0.000000\n",
              "25%        3.000000      1.000000     29.530201\n",
              "50%        5.000000      2.000000     44.295302\n",
              "75%        8.000000      3.000000     67.114094\n",
              "max       10.000000      4.000000    200.000000"
            ],
            "text/html": [
              "\n",
              "  <div id=\"df-d792dd5f-4fa9-467e-9c56-55b25e598625\">\n",
              "    <div class=\"colab-df-container\">\n",
              "      <div>\n",
              "<style scoped>\n",
              "    .dataframe tbody tr th:only-of-type {\n",
              "        vertical-align: middle;\n",
              "    }\n",
              "\n",
              "    .dataframe tbody tr th {\n",
              "        vertical-align: top;\n",
              "    }\n",
              "\n",
              "    .dataframe thead th {\n",
              "        text-align: right;\n",
              "    }\n",
              "</style>\n",
              "<table border=\"1\" class=\"dataframe\">\n",
              "  <thead>\n",
              "    <tr style=\"text-align: right;\">\n",
              "      <th></th>\n",
              "      <th>store</th>\n",
              "      <th>item</th>\n",
              "      <th>sales</th>\n",
              "    </tr>\n",
              "  </thead>\n",
              "  <tbody>\n",
              "    <tr>\n",
              "      <th>count</th>\n",
              "      <td>54913.000000</td>\n",
              "      <td>54912.000000</td>\n",
              "      <td>54912.000000</td>\n",
              "    </tr>\n",
              "    <tr>\n",
              "      <th>mean</th>\n",
              "      <td>5.489101</td>\n",
              "      <td>2.004808</td>\n",
              "      <td>51.016049</td>\n",
              "    </tr>\n",
              "    <tr>\n",
              "      <th>std</th>\n",
              "      <td>2.877342</td>\n",
              "      <td>0.821382</td>\n",
              "      <td>28.249904</td>\n",
              "    </tr>\n",
              "    <tr>\n",
              "      <th>min</th>\n",
              "      <td>1.000000</td>\n",
              "      <td>1.000000</td>\n",
              "      <td>0.000000</td>\n",
              "    </tr>\n",
              "    <tr>\n",
              "      <th>25%</th>\n",
              "      <td>3.000000</td>\n",
              "      <td>1.000000</td>\n",
              "      <td>29.530201</td>\n",
              "    </tr>\n",
              "    <tr>\n",
              "      <th>50%</th>\n",
              "      <td>5.000000</td>\n",
              "      <td>2.000000</td>\n",
              "      <td>44.295302</td>\n",
              "    </tr>\n",
              "    <tr>\n",
              "      <th>75%</th>\n",
              "      <td>8.000000</td>\n",
              "      <td>3.000000</td>\n",
              "      <td>67.114094</td>\n",
              "    </tr>\n",
              "    <tr>\n",
              "      <th>max</th>\n",
              "      <td>10.000000</td>\n",
              "      <td>4.000000</td>\n",
              "      <td>200.000000</td>\n",
              "    </tr>\n",
              "  </tbody>\n",
              "</table>\n",
              "</div>\n",
              "      <button class=\"colab-df-convert\" onclick=\"convertToInteractive('df-d792dd5f-4fa9-467e-9c56-55b25e598625')\"\n",
              "              title=\"Convert this dataframe to an interactive table.\"\n",
              "              style=\"display:none;\">\n",
              "        \n",
              "  <svg xmlns=\"http://www.w3.org/2000/svg\" height=\"24px\"viewBox=\"0 0 24 24\"\n",
              "       width=\"24px\">\n",
              "    <path d=\"M0 0h24v24H0V0z\" fill=\"none\"/>\n",
              "    <path d=\"M18.56 5.44l.94 2.06.94-2.06 2.06-.94-2.06-.94-.94-2.06-.94 2.06-2.06.94zm-11 1L8.5 8.5l.94-2.06 2.06-.94-2.06-.94L8.5 2.5l-.94 2.06-2.06.94zm10 10l.94 2.06.94-2.06 2.06-.94-2.06-.94-.94-2.06-.94 2.06-2.06.94z\"/><path d=\"M17.41 7.96l-1.37-1.37c-.4-.4-.92-.59-1.43-.59-.52 0-1.04.2-1.43.59L10.3 9.45l-7.72 7.72c-.78.78-.78 2.05 0 2.83L4 21.41c.39.39.9.59 1.41.59.51 0 1.02-.2 1.41-.59l7.78-7.78 2.81-2.81c.8-.78.8-2.07 0-2.86zM5.41 20L4 18.59l7.72-7.72 1.47 1.35L5.41 20z\"/>\n",
              "  </svg>\n",
              "      </button>\n",
              "      \n",
              "  <style>\n",
              "    .colab-df-container {\n",
              "      display:flex;\n",
              "      flex-wrap:wrap;\n",
              "      gap: 12px;\n",
              "    }\n",
              "\n",
              "    .colab-df-convert {\n",
              "      background-color: #E8F0FE;\n",
              "      border: none;\n",
              "      border-radius: 50%;\n",
              "      cursor: pointer;\n",
              "      display: none;\n",
              "      fill: #1967D2;\n",
              "      height: 32px;\n",
              "      padding: 0 0 0 0;\n",
              "      width: 32px;\n",
              "    }\n",
              "\n",
              "    .colab-df-convert:hover {\n",
              "      background-color: #E2EBFA;\n",
              "      box-shadow: 0px 1px 2px rgba(60, 64, 67, 0.3), 0px 1px 3px 1px rgba(60, 64, 67, 0.15);\n",
              "      fill: #174EA6;\n",
              "    }\n",
              "\n",
              "    [theme=dark] .colab-df-convert {\n",
              "      background-color: #3B4455;\n",
              "      fill: #D2E3FC;\n",
              "    }\n",
              "\n",
              "    [theme=dark] .colab-df-convert:hover {\n",
              "      background-color: #434B5C;\n",
              "      box-shadow: 0px 1px 3px 1px rgba(0, 0, 0, 0.15);\n",
              "      filter: drop-shadow(0px 1px 2px rgba(0, 0, 0, 0.3));\n",
              "      fill: #FFFFFF;\n",
              "    }\n",
              "  </style>\n",
              "\n",
              "      <script>\n",
              "        const buttonEl =\n",
              "          document.querySelector('#df-d792dd5f-4fa9-467e-9c56-55b25e598625 button.colab-df-convert');\n",
              "        buttonEl.style.display =\n",
              "          google.colab.kernel.accessAllowed ? 'block' : 'none';\n",
              "\n",
              "        async function convertToInteractive(key) {\n",
              "          const element = document.querySelector('#df-d792dd5f-4fa9-467e-9c56-55b25e598625');\n",
              "          const dataTable =\n",
              "            await google.colab.kernel.invokeFunction('convertToInteractive',\n",
              "                                                     [key], {});\n",
              "          if (!dataTable) return;\n",
              "\n",
              "          const docLinkHtml = 'Like what you see? Visit the ' +\n",
              "            '<a target=\"_blank\" href=https://colab.research.google.com/notebooks/data_table.ipynb>data table notebook</a>'\n",
              "            + ' to learn more about interactive tables.';\n",
              "          element.innerHTML = '';\n",
              "          dataTable['output_type'] = 'display_data';\n",
              "          await google.colab.output.renderOutput(dataTable, element);\n",
              "          const docLink = document.createElement('div');\n",
              "          docLink.innerHTML = docLinkHtml;\n",
              "          element.appendChild(docLink);\n",
              "        }\n",
              "      </script>\n",
              "    </div>\n",
              "  </div>\n",
              "  "
            ]
          },
          "metadata": {},
          "execution_count": 9
        }
      ],
      "source": [
        "train.describe()"
      ]
    },
    {
      "cell_type": "code",
      "execution_count": null,
      "metadata": {
        "colab": {
          "base_uri": "https://localhost:8080/",
          "height": 206
        },
        "id": "SfoqMFfbxgxk",
        "outputId": "425b2342-42a5-40ab-f4a2-d4b989ebadf4"
      },
      "outputs": [
        {
          "output_type": "execute_result",
          "data": {
            "text/plain": [
              "        date  store  item      sales weekday_weekend\n",
              "0 2013-01-01      1   1.0  16.107383         weekday\n",
              "1 2013-02-01      1   1.0  13.422819         weekday\n",
              "2 2013-03-01      1   1.0  17.449664         weekday\n",
              "3 2013-04-01      1   1.0  16.107383         weekday\n",
              "4 2013-05-01      1   1.0  12.080537         weekday"
            ],
            "text/html": [
              "\n",
              "  <div id=\"df-7b4eb496-d652-4093-b7a4-2100d1521e21\">\n",
              "    <div class=\"colab-df-container\">\n",
              "      <div>\n",
              "<style scoped>\n",
              "    .dataframe tbody tr th:only-of-type {\n",
              "        vertical-align: middle;\n",
              "    }\n",
              "\n",
              "    .dataframe tbody tr th {\n",
              "        vertical-align: top;\n",
              "    }\n",
              "\n",
              "    .dataframe thead th {\n",
              "        text-align: right;\n",
              "    }\n",
              "</style>\n",
              "<table border=\"1\" class=\"dataframe\">\n",
              "  <thead>\n",
              "    <tr style=\"text-align: right;\">\n",
              "      <th></th>\n",
              "      <th>date</th>\n",
              "      <th>store</th>\n",
              "      <th>item</th>\n",
              "      <th>sales</th>\n",
              "      <th>weekday_weekend</th>\n",
              "    </tr>\n",
              "  </thead>\n",
              "  <tbody>\n",
              "    <tr>\n",
              "      <th>0</th>\n",
              "      <td>2013-01-01</td>\n",
              "      <td>1</td>\n",
              "      <td>1.0</td>\n",
              "      <td>16.107383</td>\n",
              "      <td>weekday</td>\n",
              "    </tr>\n",
              "    <tr>\n",
              "      <th>1</th>\n",
              "      <td>2013-02-01</td>\n",
              "      <td>1</td>\n",
              "      <td>1.0</td>\n",
              "      <td>13.422819</td>\n",
              "      <td>weekday</td>\n",
              "    </tr>\n",
              "    <tr>\n",
              "      <th>2</th>\n",
              "      <td>2013-03-01</td>\n",
              "      <td>1</td>\n",
              "      <td>1.0</td>\n",
              "      <td>17.449664</td>\n",
              "      <td>weekday</td>\n",
              "    </tr>\n",
              "    <tr>\n",
              "      <th>3</th>\n",
              "      <td>2013-04-01</td>\n",
              "      <td>1</td>\n",
              "      <td>1.0</td>\n",
              "      <td>16.107383</td>\n",
              "      <td>weekday</td>\n",
              "    </tr>\n",
              "    <tr>\n",
              "      <th>4</th>\n",
              "      <td>2013-05-01</td>\n",
              "      <td>1</td>\n",
              "      <td>1.0</td>\n",
              "      <td>12.080537</td>\n",
              "      <td>weekday</td>\n",
              "    </tr>\n",
              "  </tbody>\n",
              "</table>\n",
              "</div>\n",
              "      <button class=\"colab-df-convert\" onclick=\"convertToInteractive('df-7b4eb496-d652-4093-b7a4-2100d1521e21')\"\n",
              "              title=\"Convert this dataframe to an interactive table.\"\n",
              "              style=\"display:none;\">\n",
              "        \n",
              "  <svg xmlns=\"http://www.w3.org/2000/svg\" height=\"24px\"viewBox=\"0 0 24 24\"\n",
              "       width=\"24px\">\n",
              "    <path d=\"M0 0h24v24H0V0z\" fill=\"none\"/>\n",
              "    <path d=\"M18.56 5.44l.94 2.06.94-2.06 2.06-.94-2.06-.94-.94-2.06-.94 2.06-2.06.94zm-11 1L8.5 8.5l.94-2.06 2.06-.94-2.06-.94L8.5 2.5l-.94 2.06-2.06.94zm10 10l.94 2.06.94-2.06 2.06-.94-2.06-.94-.94-2.06-.94 2.06-2.06.94z\"/><path d=\"M17.41 7.96l-1.37-1.37c-.4-.4-.92-.59-1.43-.59-.52 0-1.04.2-1.43.59L10.3 9.45l-7.72 7.72c-.78.78-.78 2.05 0 2.83L4 21.41c.39.39.9.59 1.41.59.51 0 1.02-.2 1.41-.59l7.78-7.78 2.81-2.81c.8-.78.8-2.07 0-2.86zM5.41 20L4 18.59l7.72-7.72 1.47 1.35L5.41 20z\"/>\n",
              "  </svg>\n",
              "      </button>\n",
              "      \n",
              "  <style>\n",
              "    .colab-df-container {\n",
              "      display:flex;\n",
              "      flex-wrap:wrap;\n",
              "      gap: 12px;\n",
              "    }\n",
              "\n",
              "    .colab-df-convert {\n",
              "      background-color: #E8F0FE;\n",
              "      border: none;\n",
              "      border-radius: 50%;\n",
              "      cursor: pointer;\n",
              "      display: none;\n",
              "      fill: #1967D2;\n",
              "      height: 32px;\n",
              "      padding: 0 0 0 0;\n",
              "      width: 32px;\n",
              "    }\n",
              "\n",
              "    .colab-df-convert:hover {\n",
              "      background-color: #E2EBFA;\n",
              "      box-shadow: 0px 1px 2px rgba(60, 64, 67, 0.3), 0px 1px 3px 1px rgba(60, 64, 67, 0.15);\n",
              "      fill: #174EA6;\n",
              "    }\n",
              "\n",
              "    [theme=dark] .colab-df-convert {\n",
              "      background-color: #3B4455;\n",
              "      fill: #D2E3FC;\n",
              "    }\n",
              "\n",
              "    [theme=dark] .colab-df-convert:hover {\n",
              "      background-color: #434B5C;\n",
              "      box-shadow: 0px 1px 3px 1px rgba(0, 0, 0, 0.15);\n",
              "      filter: drop-shadow(0px 1px 2px rgba(0, 0, 0, 0.3));\n",
              "      fill: #FFFFFF;\n",
              "    }\n",
              "  </style>\n",
              "\n",
              "      <script>\n",
              "        const buttonEl =\n",
              "          document.querySelector('#df-7b4eb496-d652-4093-b7a4-2100d1521e21 button.colab-df-convert');\n",
              "        buttonEl.style.display =\n",
              "          google.colab.kernel.accessAllowed ? 'block' : 'none';\n",
              "\n",
              "        async function convertToInteractive(key) {\n",
              "          const element = document.querySelector('#df-7b4eb496-d652-4093-b7a4-2100d1521e21');\n",
              "          const dataTable =\n",
              "            await google.colab.kernel.invokeFunction('convertToInteractive',\n",
              "                                                     [key], {});\n",
              "          if (!dataTable) return;\n",
              "\n",
              "          const docLinkHtml = 'Like what you see? Visit the ' +\n",
              "            '<a target=\"_blank\" href=https://colab.research.google.com/notebooks/data_table.ipynb>data table notebook</a>'\n",
              "            + ' to learn more about interactive tables.';\n",
              "          element.innerHTML = '';\n",
              "          dataTable['output_type'] = 'display_data';\n",
              "          await google.colab.output.renderOutput(dataTable, element);\n",
              "          const docLink = document.createElement('div');\n",
              "          docLink.innerHTML = docLinkHtml;\n",
              "          element.appendChild(docLink);\n",
              "        }\n",
              "      </script>\n",
              "    </div>\n",
              "  </div>\n",
              "  "
            ]
          },
          "metadata": {},
          "execution_count": 10
        }
      ],
      "source": [
        "train.head()"
      ]
    },
    {
      "cell_type": "code",
      "source": [
        "import pandas as pd\n",
        "\n",
        "# load train and test DataFrames\n",
        "train = pd.read_csv('train.csv')\n",
        "test = pd.read_csv('test.csv')\n",
        "\n",
        "# sort the 'date' column in each DataFrame in descending order\n",
        "train = train.sort_values('date', ascending=True)\n",
        "test = test.sort_values('date', ascending=True)\n",
        "\n",
        "# extract the latest date from each DataFrame\n",
        "train_last_date = train.iloc[-1]['date']\n",
        "test_last_date = test.iloc[-1]['date']\n",
        "\n",
        "# convert latest dates to datetime objects and format them as strings\n",
        "train_last_date = pd.to_datetime(train_last_date).strftime('%Y-%m-%d')\n",
        "test_last_date = pd.to_datetime(test_last_date).strftime('%Y-%m-%d')\n"
      ],
      "metadata": {
        "id": "TLhNgHHrQI1L"
      },
      "execution_count": null,
      "outputs": []
    },
    {
      "cell_type": "code",
      "execution_count": null,
      "metadata": {
        "colab": {
          "base_uri": "https://localhost:8080/"
        },
        "id": "qE3LgCxVxjg8",
        "outputId": "77ba8f5f-1fb4-4a06-b66c-410644155a2c"
      },
      "outputs": [
        {
          "output_type": "stream",
          "name": "stdout",
          "text": [
            "Train set date range: 01-01-2013 to 31-12-2017\n",
            "Test set date range: 01-01-2018 to 31-03-2018\n"
          ]
        }
      ],
      "source": [
        "# Print minimum and maximum date of train set\n",
        "print(\"Train set date range: {} to {}\".format(train['date'].min(), train['date'].max()))\n",
        "\n",
        "# Print minimum and maximum date of test set\n",
        "print(\"Test set date range: {} to {}\".format(test['date'].min(), test['date'].max()))\n"
      ]
    },
    {
      "cell_type": "code",
      "execution_count": null,
      "metadata": {
        "colab": {
          "base_uri": "https://localhost:8080/"
        },
        "id": "oqpx0_LwxqwM",
        "outputId": "9770fdfd-2600-4f57-ba02-ed7fb7fdb3e5"
      },
      "outputs": [
        {
          "output_type": "stream",
          "name": "stdout",
          "text": [
            "Train last date: 2017-12-31\n",
            "Test last date: 2018-03-31\n",
            "Number of days between train and test last dates: 90\n"
          ]
        }
      ],
      "source": [
        "# print the latest dates and the number of days between them\n",
        "print(\"Train last date:\", train_last_date)\n",
        "print(\"Test last date:\", test_last_date)\n",
        "lag_size = (pd.to_datetime(test_last_date) - pd.to_datetime(train_last_date)).days\n",
        "print(\"Number of days between train and test last dates:\", lag_size)\n"
      ]
    },
    {
      "cell_type": "code",
      "execution_count": null,
      "metadata": {
        "id": "ZyHBerwAxuX0"
      },
      "outputs": [],
      "source": [
        "daily_sales = train.groupby('date', as_index=False)['sales'].sum()\n",
        "store_daily_sales = train.groupby(['store', 'date'], as_index=False)['sales'].sum()\n",
        "item_daily_sales = train.groupby(['item', 'date'], as_index=False)['sales'].sum()"
      ]
    },
    {
      "cell_type": "code",
      "execution_count": null,
      "metadata": {
        "colab": {
          "base_uri": "https://localhost:8080/",
          "height": 542
        },
        "id": "Kd_MndMUx1CM",
        "outputId": "c512bcd0-5826-429f-8dcc-5cc8ad6ddf03"
      },
      "outputs": [
        {
          "output_type": "display_data",
          "data": {
            "text/html": [
              "<html>\n",
              "<head><meta charset=\"utf-8\" /></head>\n",
              "<body>\n",
              "    <div>            <script src=\"https://cdnjs.cloudflare.com/ajax/libs/mathjax/2.7.5/MathJax.js?config=TeX-AMS-MML_SVG\"></script><script type=\"text/javascript\">if (window.MathJax && window.MathJax.Hub && window.MathJax.Hub.Config) {window.MathJax.Hub.Config({SVG: {font: \"STIX-Web\"}});}</script>                <script type=\"text/javascript\">window.PlotlyConfig = {MathJaxConfig: 'local'};</script>\n",
              "        <script src=\"https://cdn.plot.ly/plotly-2.18.2.min.js\"></script>                <div id=\"8444523e-b109-442a-ac35-cee8b20f8293\" class=\"plotly-graph-div\" style=\"height:525px; width:100%;\"></div>            <script type=\"text/javascript\">                                    window.PLOTLYENV=window.PLOTLYENV || {};                                    if (document.getElementById(\"8444523e-b109-442a-ac35-cee8b20f8293\")) {                    Plotly.newPlot(                        \"8444523e-b109-442a-ac35-cee8b20f8293\",                        [{\"x\":[\"01-01-2013\",\"01-01-2014\",\"01-01-2015\",\"01-01-2016\",\"01-01-2017\",\"01-02-2013\",\"01-02-2014\",\"01-02-2015\",\"01-02-2016\",\"01-02-2017\",\"01-03-2013\",\"01-03-2014\",\"01-03-2015\",\"01-03-2016\",\"01-03-2017\",\"01-04-2013\",\"01-04-2014\",\"01-04-2015\",\"01-04-2016\",\"01-04-2017\",\"01-05-2013\",\"01-05-2014\",\"01-05-2015\",\"01-05-2016\",\"01-05-2017\",\"01-06-2013\",\"01-06-2014\",\"01-06-2015\",\"01-06-2016\",\"01-06-2017\",\"01-07-2013\",\"01-07-2014\",\"01-07-2015\",\"01-07-2016\",\"01-07-2017\",\"01-08-2013\",\"01-08-2014\",\"01-08-2015\",\"01-08-2016\",\"01-08-2017\",\"01-09-2013\",\"01-09-2014\",\"01-09-2015\",\"01-09-2016\",\"01-09-2017\",\"01-10-2013\",\"01-10-2014\",\"01-10-2015\",\"01-10-2016\",\"01-10-2017\",\"01-11-2013\",\"01-11-2014\",\"01-11-2015\",\"01-11-2016\",\"01-11-2017\",\"01-12-2013\",\"01-12-2014\",\"01-12-2015\",\"01-12-2016\",\"01-12-2017\",\"02-01-2013\",\"02-01-2014\",\"02-01-2015\",\"02-01-2016\",\"02-01-2017\",\"02-02-2013\",\"02-02-2014\",\"02-02-2015\",\"02-02-2016\",\"02-02-2017\",\"02-03-2013\",\"02-03-2014\",\"02-03-2015\",\"02-03-2016\",\"02-03-2017\",\"02-04-2013\",\"02-04-2014\",\"02-04-2015\",\"02-04-2016\",\"02-04-2017\",\"02-05-2013\",\"02-05-2014\",\"02-05-2015\",\"02-05-2016\",\"02-05-2017\",\"02-06-2013\",\"02-06-2014\",\"02-06-2015\",\"02-06-2016\",\"02-06-2017\",\"02-07-2013\",\"02-07-2014\",\"02-07-2015\",\"02-07-2016\",\"02-07-2017\",\"02-08-2013\",\"02-08-2014\",\"02-08-2015\",\"02-08-2016\",\"02-08-2017\",\"02-09-2013\",\"02-09-2014\",\"02-09-2015\",\"02-09-2016\",\"02-09-2017\",\"02-10-2013\",\"02-10-2014\",\"02-10-2015\",\"02-10-2016\",\"02-10-2017\",\"02-11-2013\",\"02-11-2014\",\"02-11-2015\",\"02-11-2016\",\"02-11-2017\",\"02-12-2013\",\"02-12-2014\",\"02-12-2015\",\"02-12-2016\",\"02-12-2017\",\"03-01-2013\",\"03-01-2014\",\"03-01-2015\",\"03-01-2016\",\"03-01-2017\",\"03-02-2013\",\"03-02-2014\",\"03-02-2015\",\"03-02-2016\",\"03-02-2017\",\"03-03-2013\",\"03-03-2014\",\"03-03-2015\",\"03-03-2016\",\"03-03-2017\",\"03-04-2013\",\"03-04-2014\",\"03-04-2015\",\"03-04-2016\",\"03-04-2017\",\"03-05-2013\",\"03-05-2014\",\"03-05-2015\",\"03-05-2016\",\"03-05-2017\",\"03-06-2013\",\"03-06-2014\",\"03-06-2015\",\"03-06-2016\",\"03-06-2017\",\"03-07-2013\",\"03-07-2014\",\"03-07-2015\",\"03-07-2016\",\"03-07-2017\",\"03-08-2013\",\"03-08-2014\",\"03-08-2015\",\"03-08-2016\",\"03-08-2017\",\"03-09-2013\",\"03-09-2014\",\"03-09-2015\",\"03-09-2016\",\"03-09-2017\",\"03-10-2013\",\"03-10-2014\",\"03-10-2015\",\"03-10-2016\",\"03-10-2017\",\"03-11-2013\",\"03-11-2014\",\"03-11-2015\",\"03-11-2016\",\"03-11-2017\",\"03-12-2013\",\"03-12-2014\",\"03-12-2015\",\"03-12-2016\",\"03-12-2017\",\"04-01-2013\",\"04-01-2014\",\"04-01-2015\",\"04-01-2016\",\"04-01-2017\",\"04-02-2013\",\"04-02-2014\",\"04-02-2015\",\"04-02-2016\",\"04-02-2017\",\"04-03-2013\",\"04-03-2014\",\"04-03-2015\",\"04-03-2016\",\"04-03-2017\",\"04-04-2013\",\"04-04-2014\",\"04-04-2015\",\"04-04-2016\",\"04-04-2017\",\"04-05-2013\",\"04-05-2014\",\"04-05-2015\",\"04-05-2016\",\"04-05-2017\",\"04-06-2013\",\"04-06-2014\",\"04-06-2015\",\"04-06-2016\",\"04-06-2017\",\"04-07-2013\",\"04-07-2014\",\"04-07-2015\",\"04-07-2016\",\"04-07-2017\",\"04-08-2013\",\"04-08-2014\",\"04-08-2015\",\"04-08-2016\",\"04-08-2017\",\"04-09-2013\",\"04-09-2014\",\"04-09-2015\",\"04-09-2016\",\"04-09-2017\",\"04-10-2013\",\"04-10-2014\",\"04-10-2015\",\"04-10-2016\",\"04-10-2017\",\"04-11-2013\",\"04-11-2014\",\"04-11-2015\",\"04-11-2016\",\"04-11-2017\",\"04-12-2013\",\"04-12-2014\",\"04-12-2015\",\"04-12-2016\",\"04-12-2017\",\"05-01-2013\",\"05-01-2014\",\"05-01-2015\",\"05-01-2016\",\"05-01-2017\",\"05-02-2013\",\"05-02-2014\",\"05-02-2015\",\"05-02-2016\",\"05-02-2017\",\"05-03-2013\",\"05-03-2014\",\"05-03-2015\",\"05-03-2016\",\"05-03-2017\",\"05-04-2013\",\"05-04-2014\",\"05-04-2015\",\"05-04-2016\",\"05-04-2017\",\"05-05-2013\",\"05-05-2014\",\"05-05-2015\",\"05-05-2016\",\"05-05-2017\",\"05-06-2013\",\"05-06-2014\",\"05-06-2015\",\"05-06-2016\",\"05-06-2017\",\"05-07-2013\",\"05-07-2014\",\"05-07-2015\",\"05-07-2016\",\"05-07-2017\",\"05-08-2013\",\"05-08-2014\",\"05-08-2015\",\"05-08-2016\",\"05-08-2017\",\"05-09-2013\",\"05-09-2014\",\"05-09-2015\",\"05-09-2016\",\"05-09-2017\",\"05-10-2013\",\"05-10-2014\",\"05-10-2015\",\"05-10-2016\",\"05-10-2017\",\"05-11-2013\",\"05-11-2014\",\"05-11-2015\",\"05-11-2016\",\"05-11-2017\",\"05-12-2013\",\"05-12-2014\",\"05-12-2015\",\"05-12-2016\",\"05-12-2017\",\"06-01-2013\",\"06-01-2014\",\"06-01-2015\",\"06-01-2016\",\"06-01-2017\",\"06-02-2013\",\"06-02-2014\",\"06-02-2015\",\"06-02-2016\",\"06-02-2017\",\"06-03-2013\",\"06-03-2014\",\"06-03-2015\",\"06-03-2016\",\"06-03-2017\",\"06-04-2013\",\"06-04-2014\",\"06-04-2015\",\"06-04-2016\",\"06-04-2017\",\"06-05-2013\",\"06-05-2014\",\"06-05-2015\",\"06-05-2016\",\"06-05-2017\",\"06-06-2013\",\"06-06-2014\",\"06-06-2015\",\"06-06-2016\",\"06-06-2017\",\"06-07-2013\",\"06-07-2014\",\"06-07-2015\",\"06-07-2016\",\"06-07-2017\",\"06-08-2013\",\"06-08-2014\",\"06-08-2015\",\"06-08-2016\",\"06-08-2017\",\"06-09-2013\",\"06-09-2014\",\"06-09-2015\",\"06-09-2016\",\"06-09-2017\",\"06-10-2013\",\"06-10-2014\",\"06-10-2015\",\"06-10-2016\",\"06-10-2017\",\"06-11-2013\",\"06-11-2014\",\"06-11-2015\",\"06-11-2016\",\"06-11-2017\",\"06-12-2013\",\"06-12-2014\",\"06-12-2015\",\"06-12-2016\",\"06-12-2017\",\"07-01-2013\",\"07-01-2014\",\"07-01-2015\",\"07-01-2016\",\"07-01-2017\",\"07-02-2013\",\"07-02-2014\",\"07-02-2015\",\"07-02-2016\",\"07-02-2017\",\"07-03-2013\",\"07-03-2014\",\"07-03-2015\",\"07-03-2016\",\"07-03-2017\",\"07-04-2013\",\"07-04-2014\",\"07-04-2015\",\"07-04-2016\",\"07-04-2017\",\"07-05-2013\",\"07-05-2014\",\"07-05-2015\",\"07-05-2016\",\"07-05-2017\",\"07-06-2013\",\"07-06-2014\",\"07-06-2015\",\"07-06-2016\",\"07-06-2017\",\"07-07-2013\",\"07-07-2014\",\"07-07-2015\",\"07-07-2016\",\"07-07-2017\",\"07-08-2013\",\"07-08-2014\",\"07-08-2015\",\"07-08-2016\",\"07-08-2017\",\"07-09-2013\",\"07-09-2014\",\"07-09-2015\",\"07-09-2016\",\"07-09-2017\",\"07-10-2013\",\"07-10-2014\",\"07-10-2015\",\"07-10-2016\",\"07-10-2017\",\"07-11-2013\",\"07-11-2014\",\"07-11-2015\",\"07-11-2016\",\"07-11-2017\",\"07-12-2013\",\"07-12-2014\",\"07-12-2015\",\"07-12-2016\",\"07-12-2017\",\"08-01-2013\",\"08-01-2014\",\"08-01-2015\",\"08-01-2016\",\"08-01-2017\",\"08-02-2013\",\"08-02-2014\",\"08-02-2015\",\"08-02-2016\",\"08-02-2017\",\"08-03-2013\",\"08-03-2014\",\"08-03-2015\",\"08-03-2016\",\"08-03-2017\",\"08-04-2013\",\"08-04-2014\",\"08-04-2015\",\"08-04-2016\",\"08-04-2017\",\"08-05-2013\",\"08-05-2014\",\"08-05-2015\",\"08-05-2016\",\"08-05-2017\",\"08-06-2013\",\"08-06-2014\",\"08-06-2015\",\"08-06-2016\",\"08-06-2017\",\"08-07-2013\",\"08-07-2014\",\"08-07-2015\",\"08-07-2016\",\"08-07-2017\",\"08-08-2013\",\"08-08-2014\",\"08-08-2015\",\"08-08-2016\",\"08-08-2017\",\"08-09-2013\",\"08-09-2014\",\"08-09-2015\",\"08-09-2016\",\"08-09-2017\",\"08-10-2013\",\"08-10-2014\",\"08-10-2015\",\"08-10-2016\",\"08-10-2017\",\"08-11-2013\",\"08-11-2014\",\"08-11-2015\",\"08-11-2016\",\"08-11-2017\",\"08-12-2013\",\"08-12-2014\",\"08-12-2015\",\"08-12-2016\",\"08-12-2017\",\"09-01-2013\",\"09-01-2014\",\"09-01-2015\",\"09-01-2016\",\"09-01-2017\",\"09-02-2013\",\"09-02-2014\",\"09-02-2015\",\"09-02-2016\",\"09-02-2017\",\"09-03-2013\",\"09-03-2014\",\"09-03-2015\",\"09-03-2016\",\"09-03-2017\",\"09-04-2013\",\"09-04-2014\",\"09-04-2015\",\"09-04-2016\",\"09-04-2017\",\"09-05-2013\",\"09-05-2014\",\"09-05-2015\",\"09-05-2016\",\"09-05-2017\",\"09-06-2013\",\"09-06-2014\",\"09-06-2015\",\"09-06-2016\",\"09-06-2017\",\"09-07-2013\",\"09-07-2014\",\"09-07-2015\",\"09-07-2016\",\"09-07-2017\",\"09-08-2013\",\"09-08-2014\",\"09-08-2015\",\"09-08-2016\",\"09-08-2017\",\"09-09-2013\",\"09-09-2014\",\"09-09-2015\",\"09-09-2016\",\"09-09-2017\",\"09-10-2013\",\"09-10-2014\",\"09-10-2015\",\"09-10-2016\",\"09-10-2017\",\"09-11-2013\",\"09-11-2014\",\"09-11-2015\",\"09-11-2016\",\"09-11-2017\",\"09-12-2013\",\"09-12-2014\",\"09-12-2015\",\"09-12-2016\",\"09-12-2017\",\"10-01-2013\",\"10-01-2014\",\"10-01-2015\",\"10-01-2016\",\"10-01-2017\",\"10-02-2013\",\"10-02-2014\",\"10-02-2015\",\"10-02-2016\",\"10-02-2017\",\"10-03-2013\",\"10-03-2014\",\"10-03-2015\",\"10-03-2016\",\"10-03-2017\",\"10-04-2013\",\"10-04-2014\",\"10-04-2015\",\"10-04-2016\",\"10-04-2017\",\"10-05-2013\",\"10-05-2014\",\"10-05-2015\",\"10-05-2016\",\"10-05-2017\",\"10-06-2013\",\"10-06-2014\",\"10-06-2015\",\"10-06-2016\",\"10-06-2017\",\"10-07-2013\",\"10-07-2014\",\"10-07-2015\",\"10-07-2016\",\"10-07-2017\",\"10-08-2013\",\"10-08-2014\",\"10-08-2015\",\"10-08-2016\",\"10-08-2017\",\"10-09-2013\",\"10-09-2014\",\"10-09-2015\",\"10-09-2016\",\"10-09-2017\",\"10-10-2013\",\"10-10-2014\",\"10-10-2015\",\"10-10-2016\",\"10-10-2017\",\"10-11-2013\",\"10-11-2014\",\"10-11-2015\",\"10-11-2016\",\"10-11-2017\",\"10-12-2013\",\"10-12-2014\",\"10-12-2015\",\"10-12-2016\",\"10-12-2017\",\"11-01-2013\",\"11-01-2014\",\"11-01-2015\",\"11-01-2016\",\"11-01-2017\",\"11-02-2013\",\"11-02-2014\",\"11-02-2015\",\"11-02-2016\",\"11-02-2017\",\"11-03-2013\",\"11-03-2014\",\"11-03-2015\",\"11-03-2016\",\"11-03-2017\",\"11-04-2013\",\"11-04-2014\",\"11-04-2015\",\"11-04-2016\",\"11-04-2017\",\"11-05-2013\",\"11-05-2014\",\"11-05-2015\",\"11-05-2016\",\"11-05-2017\",\"11-06-2013\",\"11-06-2014\",\"11-06-2015\",\"11-06-2016\",\"11-06-2017\",\"11-07-2013\",\"11-07-2014\",\"11-07-2015\",\"11-07-2016\",\"11-07-2017\",\"11-08-2013\",\"11-08-2014\",\"11-08-2015\",\"11-08-2016\",\"11-08-2017\",\"11-09-2013\",\"11-09-2014\",\"11-09-2015\",\"11-09-2016\",\"11-09-2017\",\"11-10-2013\",\"11-10-2014\",\"11-10-2015\",\"11-10-2016\",\"11-10-2017\",\"11-11-2013\",\"11-11-2014\",\"11-11-2015\",\"11-11-2016\",\"11-11-2017\",\"11-12-2013\",\"11-12-2014\",\"11-12-2015\",\"11-12-2016\",\"11-12-2017\",\"12-01-2013\",\"12-01-2014\",\"12-01-2015\",\"12-01-2016\",\"12-01-2017\",\"12-02-2013\",\"12-02-2014\",\"12-02-2015\",\"12-02-2016\",\"12-02-2017\",\"12-03-2013\",\"12-03-2014\",\"12-03-2015\",\"12-03-2016\",\"12-03-2017\",\"12-04-2013\",\"12-04-2014\",\"12-04-2015\",\"12-04-2016\",\"12-04-2017\",\"12-05-2013\",\"12-05-2014\",\"12-05-2015\",\"12-05-2016\",\"12-05-2017\",\"12-06-2013\",\"12-06-2014\",\"12-06-2015\",\"12-06-2016\",\"12-06-2017\",\"12-07-2013\",\"12-07-2014\",\"12-07-2015\",\"12-07-2016\",\"12-07-2017\",\"12-08-2013\",\"12-08-2014\",\"12-08-2015\",\"12-08-2016\",\"12-08-2017\",\"12-09-2013\",\"12-09-2014\",\"12-09-2015\",\"12-09-2016\",\"12-09-2017\",\"12-10-2013\",\"12-10-2014\",\"12-10-2015\",\"12-10-2016\",\"12-10-2017\",\"12-11-2013\",\"12-11-2014\",\"12-11-2015\",\"12-11-2016\",\"12-11-2017\",\"12-12-2013\",\"12-12-2014\",\"12-12-2015\",\"12-12-2016\",\"12-12-2017\",\"13-01-2013\",\"13-01-2014\",\"13-01-2015\",\"13-01-2016\",\"13-01-2017\",\"13-02-2013\",\"13-02-2014\",\"13-02-2015\",\"13-02-2016\",\"13-02-2017\",\"13-03-2013\",\"13-03-2014\",\"13-03-2015\",\"13-03-2016\",\"13-03-2017\",\"13-04-2013\",\"13-04-2014\",\"13-04-2015\",\"13-04-2016\",\"13-04-2017\",\"13-05-2013\",\"13-05-2014\",\"13-05-2015\",\"13-05-2016\",\"13-05-2017\",\"13-06-2013\",\"13-06-2014\",\"13-06-2015\",\"13-06-2016\",\"13-06-2017\",\"13-07-2013\",\"13-07-2014\",\"13-07-2015\",\"13-07-2016\",\"13-07-2017\",\"13-08-2013\",\"13-08-2014\",\"13-08-2015\",\"13-08-2016\",\"13-08-2017\",\"13-09-2013\",\"13-09-2014\",\"13-09-2015\",\"13-09-2016\",\"13-09-2017\",\"13-10-2013\",\"13-10-2014\",\"13-10-2015\",\"13-10-2016\",\"13-10-2017\",\"13-11-2013\",\"13-11-2014\",\"13-11-2015\",\"13-11-2016\",\"13-11-2017\",\"13-12-2013\",\"13-12-2014\",\"13-12-2015\",\"13-12-2016\",\"13-12-2017\",\"14-01-2013\",\"14-01-2014\",\"14-01-2015\",\"14-01-2016\",\"14-01-2017\",\"14-02-2013\",\"14-02-2014\",\"14-02-2015\",\"14-02-2016\",\"14-02-2017\",\"14-03-2013\",\"14-03-2014\",\"14-03-2015\",\"14-03-2016\",\"14-03-2017\",\"14-04-2013\",\"14-04-2014\",\"14-04-2015\",\"14-04-2016\",\"14-04-2017\",\"14-05-2013\",\"14-05-2014\",\"14-05-2015\",\"14-05-2016\",\"14-05-2017\",\"14-06-2013\",\"14-06-2014\",\"14-06-2015\",\"14-06-2016\",\"14-06-2017\",\"14-07-2013\",\"14-07-2014\",\"14-07-2015\",\"14-07-2016\",\"14-07-2017\",\"14-08-2013\",\"14-08-2014\",\"14-08-2015\",\"14-08-2016\",\"14-08-2017\",\"14-09-2013\",\"14-09-2014\",\"14-09-2015\",\"14-09-2016\",\"14-09-2017\",\"14-10-2013\",\"14-10-2014\",\"14-10-2015\",\"14-10-2016\",\"14-10-2017\",\"14-11-2013\",\"14-11-2014\",\"14-11-2015\",\"14-11-2016\",\"14-11-2017\",\"14-12-2013\",\"14-12-2014\",\"14-12-2015\",\"14-12-2016\",\"14-12-2017\",\"15-01-2013\",\"15-01-2014\",\"15-01-2015\",\"15-01-2016\",\"15-01-2017\",\"15-02-2013\",\"15-02-2014\",\"15-02-2015\",\"15-02-2016\",\"15-02-2017\",\"15-03-2013\",\"15-03-2014\",\"15-03-2015\",\"15-03-2016\",\"15-03-2017\",\"15-04-2013\",\"15-04-2014\",\"15-04-2015\",\"15-04-2016\",\"15-04-2017\",\"15-05-2013\",\"15-05-2014\",\"15-05-2015\",\"15-05-2016\",\"15-05-2017\",\"15-06-2013\",\"15-06-2014\",\"15-06-2015\",\"15-06-2016\",\"15-06-2017\",\"15-07-2013\",\"15-07-2014\",\"15-07-2015\",\"15-07-2016\",\"15-07-2017\",\"15-08-2013\",\"15-08-2014\",\"15-08-2015\",\"15-08-2016\",\"15-08-2017\",\"15-09-2013\",\"15-09-2014\",\"15-09-2015\",\"15-09-2016\",\"15-09-2017\",\"15-10-2013\",\"15-10-2014\",\"15-10-2015\",\"15-10-2016\",\"15-10-2017\",\"15-11-2013\",\"15-11-2014\",\"15-11-2015\",\"15-11-2016\",\"15-11-2017\",\"15-12-2013\",\"15-12-2014\",\"15-12-2015\",\"15-12-2016\",\"15-12-2017\",\"16-01-2013\",\"16-01-2014\",\"16-01-2015\",\"16-01-2016\",\"16-01-2017\",\"16-02-2013\",\"16-02-2014\",\"16-02-2015\",\"16-02-2016\",\"16-02-2017\",\"16-03-2013\",\"16-03-2014\",\"16-03-2015\",\"16-03-2016\",\"16-03-2017\",\"16-04-2013\",\"16-04-2014\",\"16-04-2015\",\"16-04-2016\",\"16-04-2017\",\"16-05-2013\",\"16-05-2014\",\"16-05-2015\",\"16-05-2016\",\"16-05-2017\",\"16-06-2013\",\"16-06-2014\",\"16-06-2015\",\"16-06-2016\",\"16-06-2017\",\"16-07-2013\",\"16-07-2014\",\"16-07-2015\",\"16-07-2016\",\"16-07-2017\",\"16-08-2013\",\"16-08-2014\",\"16-08-2015\",\"16-08-2016\",\"16-08-2017\",\"16-09-2013\",\"16-09-2014\",\"16-09-2015\",\"16-09-2016\",\"16-09-2017\",\"16-10-2013\",\"16-10-2014\",\"16-10-2015\",\"16-10-2016\",\"16-10-2017\",\"16-11-2013\",\"16-11-2014\",\"16-11-2015\",\"16-11-2016\",\"16-11-2017\",\"16-12-2013\",\"16-12-2014\",\"16-12-2015\",\"16-12-2016\",\"16-12-2017\",\"17-01-2013\",\"17-01-2014\",\"17-01-2015\",\"17-01-2016\",\"17-01-2017\",\"17-02-2013\",\"17-02-2014\",\"17-02-2015\",\"17-02-2016\",\"17-02-2017\",\"17-03-2013\",\"17-03-2014\",\"17-03-2015\",\"17-03-2016\",\"17-03-2017\",\"17-04-2013\",\"17-04-2014\",\"17-04-2015\",\"17-04-2016\",\"17-04-2017\",\"17-05-2013\",\"17-05-2014\",\"17-05-2015\",\"17-05-2016\",\"17-05-2017\",\"17-06-2013\",\"17-06-2014\",\"17-06-2015\",\"17-06-2016\",\"17-06-2017\",\"17-07-2013\",\"17-07-2014\",\"17-07-2015\",\"17-07-2016\",\"17-07-2017\",\"17-08-2013\",\"17-08-2014\",\"17-08-2015\",\"17-08-2016\",\"17-08-2017\",\"17-09-2013\",\"17-09-2014\",\"17-09-2015\",\"17-09-2016\",\"17-09-2017\",\"17-10-2013\",\"17-10-2014\",\"17-10-2015\",\"17-10-2016\",\"17-10-2017\",\"17-11-2013\",\"17-11-2014\",\"17-11-2015\",\"17-11-2016\",\"17-11-2017\",\"17-12-2013\",\"17-12-2014\",\"17-12-2015\",\"17-12-2016\",\"17-12-2017\",\"18-01-2013\",\"18-01-2014\",\"18-01-2015\",\"18-01-2016\",\"18-01-2017\",\"18-02-2013\",\"18-02-2014\",\"18-02-2015\",\"18-02-2016\",\"18-02-2017\",\"18-03-2013\",\"18-03-2014\",\"18-03-2015\",\"18-03-2016\",\"18-03-2017\",\"18-04-2013\",\"18-04-2014\",\"18-04-2015\",\"18-04-2016\",\"18-04-2017\",\"18-05-2013\",\"18-05-2014\",\"18-05-2015\",\"18-05-2016\",\"18-05-2017\",\"18-06-2013\",\"18-06-2014\",\"18-06-2015\",\"18-06-2016\",\"18-06-2017\",\"18-07-2013\",\"18-07-2014\",\"18-07-2015\",\"18-07-2016\",\"18-07-2017\",\"18-08-2013\",\"18-08-2014\",\"18-08-2015\",\"18-08-2016\",\"18-08-2017\",\"18-09-2013\",\"18-09-2014\",\"18-09-2015\",\"18-09-2016\",\"18-09-2017\",\"18-10-2013\",\"18-10-2014\",\"18-10-2015\",\"18-10-2016\",\"18-10-2017\",\"18-11-2013\",\"18-11-2014\",\"18-11-2015\",\"18-11-2016\",\"18-11-2017\",\"18-12-2013\",\"18-12-2014\",\"18-12-2015\",\"18-12-2016\",\"18-12-2017\",\"19-01-2013\",\"19-01-2014\",\"19-01-2015\",\"19-01-2016\",\"19-01-2017\",\"19-02-2013\",\"19-02-2014\",\"19-02-2015\",\"19-02-2016\",\"19-02-2017\",\"19-03-2013\",\"19-03-2014\",\"19-03-2015\",\"19-03-2016\",\"19-03-2017\",\"19-04-2013\",\"19-04-2014\",\"19-04-2015\",\"19-04-2016\",\"19-04-2017\",\"19-05-2013\",\"19-05-2014\",\"19-05-2015\",\"19-05-2016\",\"19-05-2017\",\"19-06-2013\",\"19-06-2014\",\"19-06-2015\",\"19-06-2016\",\"19-06-2017\",\"19-07-2013\",\"19-07-2014\",\"19-07-2015\",\"19-07-2016\",\"19-07-2017\",\"19-08-2013\",\"19-08-2014\",\"19-08-2015\",\"19-08-2016\",\"19-08-2017\",\"19-09-2013\",\"19-09-2014\",\"19-09-2015\",\"19-09-2016\",\"19-09-2017\",\"19-10-2013\",\"19-10-2014\",\"19-10-2015\",\"19-10-2016\",\"19-10-2017\",\"19-11-2013\",\"19-11-2014\",\"19-11-2015\",\"19-11-2016\",\"19-11-2017\",\"19-12-2013\",\"19-12-2014\",\"19-12-2015\",\"19-12-2016\",\"19-12-2017\",\"20-01-2013\",\"20-01-2014\",\"20-01-2015\",\"20-01-2016\",\"20-01-2017\",\"20-02-2013\",\"20-02-2014\",\"20-02-2015\",\"20-02-2016\",\"20-02-2017\",\"20-03-2013\",\"20-03-2014\",\"20-03-2015\",\"20-03-2016\",\"20-03-2017\",\"20-04-2013\",\"20-04-2014\",\"20-04-2015\",\"20-04-2016\",\"20-04-2017\",\"20-05-2013\",\"20-05-2014\",\"20-05-2015\",\"20-05-2016\",\"20-05-2017\",\"20-06-2013\",\"20-06-2014\",\"20-06-2015\",\"20-06-2016\",\"20-06-2017\",\"20-07-2013\",\"20-07-2014\",\"20-07-2015\",\"20-07-2016\",\"20-07-2017\",\"20-08-2013\",\"20-08-2014\",\"20-08-2015\",\"20-08-2016\",\"20-08-2017\",\"20-09-2013\",\"20-09-2014\",\"20-09-2015\",\"20-09-2016\",\"20-09-2017\",\"20-10-2013\",\"20-10-2014\",\"20-10-2015\",\"20-10-2016\",\"20-10-2017\",\"20-11-2013\",\"20-11-2014\",\"20-11-2015\",\"20-11-2016\",\"20-11-2017\",\"20-12-2013\",\"20-12-2014\",\"20-12-2015\",\"20-12-2016\",\"20-12-2017\",\"21-01-2013\",\"21-01-2014\",\"21-01-2015\",\"21-01-2016\",\"21-01-2017\",\"21-02-2013\",\"21-02-2014\",\"21-02-2015\",\"21-02-2016\",\"21-02-2017\",\"21-03-2013\",\"21-03-2014\",\"21-03-2015\",\"21-03-2016\",\"21-03-2017\",\"21-04-2013\",\"21-04-2014\",\"21-04-2015\",\"21-04-2016\",\"21-04-2017\",\"21-05-2013\",\"21-05-2014\",\"21-05-2015\",\"21-05-2016\",\"21-05-2017\",\"21-06-2013\",\"21-06-2014\",\"21-06-2015\",\"21-06-2016\",\"21-06-2017\",\"21-07-2013\",\"21-07-2014\",\"21-07-2015\",\"21-07-2016\",\"21-07-2017\",\"21-08-2013\",\"21-08-2014\",\"21-08-2015\",\"21-08-2016\",\"21-08-2017\",\"21-09-2013\",\"21-09-2014\",\"21-09-2015\",\"21-09-2016\",\"21-09-2017\",\"21-10-2013\",\"21-10-2014\",\"21-10-2015\",\"21-10-2016\",\"21-10-2017\",\"21-11-2013\",\"21-11-2014\",\"21-11-2015\",\"21-11-2016\",\"21-11-2017\",\"21-12-2013\",\"21-12-2014\",\"21-12-2015\",\"21-12-2016\",\"21-12-2017\",\"22-01-2013\",\"22-01-2014\",\"22-01-2015\",\"22-01-2016\",\"22-01-2017\",\"22-02-2013\",\"22-02-2014\",\"22-02-2015\",\"22-02-2016\",\"22-02-2017\",\"22-03-2013\",\"22-03-2014\",\"22-03-2015\",\"22-03-2016\",\"22-03-2017\",\"22-04-2013\",\"22-04-2014\",\"22-04-2015\",\"22-04-2016\",\"22-04-2017\",\"22-05-2013\",\"22-05-2014\",\"22-05-2015\",\"22-05-2016\",\"22-05-2017\",\"22-06-2013\",\"22-06-2014\",\"22-06-2015\",\"22-06-2016\",\"22-06-2017\",\"22-07-2013\",\"22-07-2014\",\"22-07-2015\",\"22-07-2016\",\"22-07-2017\",\"22-08-2013\",\"22-08-2014\",\"22-08-2015\",\"22-08-2016\",\"22-08-2017\",\"22-09-2013\",\"22-09-2014\",\"22-09-2015\",\"22-09-2016\",\"22-09-2017\",\"22-10-2013\",\"22-10-2014\",\"22-10-2015\",\"22-10-2016\",\"22-10-2017\",\"22-11-2013\",\"22-11-2014\",\"22-11-2015\",\"22-11-2016\",\"22-11-2017\",\"22-12-2013\",\"22-12-2014\",\"22-12-2015\",\"22-12-2016\",\"22-12-2017\",\"23-01-2013\",\"23-01-2014\",\"23-01-2015\",\"23-01-2016\",\"23-01-2017\",\"23-02-2013\",\"23-02-2014\",\"23-02-2015\",\"23-02-2016\",\"23-02-2017\",\"23-03-2013\",\"23-03-2014\",\"23-03-2015\",\"23-03-2016\",\"23-03-2017\",\"23-04-2013\",\"23-04-2014\",\"23-04-2015\",\"23-04-2016\",\"23-04-2017\",\"23-05-2013\",\"23-05-2014\",\"23-05-2015\",\"23-05-2016\",\"23-05-2017\",\"23-06-2013\",\"23-06-2014\",\"23-06-2015\",\"23-06-2016\",\"23-06-2017\",\"23-07-2013\",\"23-07-2014\",\"23-07-2015\",\"23-07-2016\",\"23-07-2017\",\"23-08-2013\",\"23-08-2014\",\"23-08-2015\",\"23-08-2016\",\"23-08-2017\",\"23-09-2013\",\"23-09-2014\",\"23-09-2015\",\"23-09-2016\",\"23-09-2017\",\"23-10-2013\",\"23-10-2014\",\"23-10-2015\",\"23-10-2016\",\"23-10-2017\",\"23-11-2013\",\"23-11-2014\",\"23-11-2015\",\"23-11-2016\",\"23-11-2017\",\"23-12-2013\",\"23-12-2014\",\"23-12-2015\",\"23-12-2016\",\"23-12-2017\",\"24-01-2013\",\"24-01-2014\",\"24-01-2015\",\"24-01-2016\",\"24-01-2017\",\"24-02-2013\",\"24-02-2014\",\"24-02-2015\",\"24-02-2016\",\"24-02-2017\",\"24-03-2013\",\"24-03-2014\",\"24-03-2015\",\"24-03-2016\",\"24-03-2017\",\"24-04-2013\",\"24-04-2014\",\"24-04-2015\",\"24-04-2016\",\"24-04-2017\",\"24-05-2013\",\"24-05-2014\",\"24-05-2015\",\"24-05-2016\",\"24-05-2017\",\"24-06-2013\",\"24-06-2014\",\"24-06-2015\",\"24-06-2016\",\"24-06-2017\",\"24-07-2013\",\"24-07-2014\",\"24-07-2015\",\"24-07-2016\",\"24-07-2017\",\"24-08-2013\",\"24-08-2014\",\"24-08-2015\",\"24-08-2016\",\"24-08-2017\",\"24-09-2013\",\"24-09-2014\",\"24-09-2015\",\"24-09-2016\",\"24-09-2017\",\"24-10-2013\",\"24-10-2014\",\"24-10-2015\",\"24-10-2016\",\"24-10-2017\",\"24-11-2013\",\"24-11-2014\",\"24-11-2015\",\"24-11-2016\",\"24-11-2017\",\"24-12-2013\",\"24-12-2014\",\"24-12-2015\",\"24-12-2016\",\"24-12-2017\",\"25-01-2013\",\"25-01-2014\",\"25-01-2015\",\"25-01-2016\",\"25-01-2017\",\"25-02-2013\",\"25-02-2014\",\"25-02-2015\",\"25-02-2016\",\"25-02-2017\",\"25-03-2013\",\"25-03-2014\",\"25-03-2015\",\"25-03-2016\",\"25-03-2017\",\"25-04-2013\",\"25-04-2014\",\"25-04-2015\",\"25-04-2016\",\"25-04-2017\",\"25-05-2013\",\"25-05-2014\",\"25-05-2015\",\"25-05-2016\",\"25-05-2017\",\"25-06-2013\",\"25-06-2014\",\"25-06-2015\",\"25-06-2016\",\"25-06-2017\",\"25-07-2013\",\"25-07-2014\",\"25-07-2015\",\"25-07-2016\",\"25-07-2017\",\"25-08-2013\",\"25-08-2014\",\"25-08-2015\",\"25-08-2016\",\"25-08-2017\",\"25-09-2013\",\"25-09-2014\",\"25-09-2015\",\"25-09-2016\",\"25-09-2017\",\"25-10-2013\",\"25-10-2014\",\"25-10-2015\",\"25-10-2016\",\"25-10-2017\",\"25-11-2013\",\"25-11-2014\",\"25-11-2015\",\"25-11-2016\",\"25-11-2017\",\"25-12-2013\",\"25-12-2014\",\"25-12-2015\",\"25-12-2016\",\"25-12-2017\",\"26-01-2013\",\"26-01-2014\",\"26-01-2015\",\"26-01-2016\",\"26-01-2017\",\"26-02-2013\",\"26-02-2014\",\"26-02-2015\",\"26-02-2016\",\"26-02-2017\",\"26-03-2013\",\"26-03-2014\",\"26-03-2015\",\"26-03-2016\",\"26-03-2017\",\"26-04-2013\",\"26-04-2014\",\"26-04-2015\",\"26-04-2016\",\"26-04-2017\",\"26-05-2013\",\"26-05-2014\",\"26-05-2015\",\"26-05-2016\",\"26-05-2017\",\"26-06-2013\",\"26-06-2014\",\"26-06-2015\",\"26-06-2016\",\"26-06-2017\",\"26-07-2013\",\"26-07-2014\",\"26-07-2015\",\"26-07-2016\",\"26-07-2017\",\"26-08-2013\",\"26-08-2014\",\"26-08-2015\",\"26-08-2016\",\"26-08-2017\",\"26-09-2013\",\"26-09-2014\",\"26-09-2015\",\"26-09-2016\",\"26-09-2017\",\"26-10-2013\",\"26-10-2014\",\"26-10-2015\",\"26-10-2016\",\"26-10-2017\",\"26-11-2013\",\"26-11-2014\",\"26-11-2015\",\"26-11-2016\",\"26-11-2017\",\"26-12-2013\",\"26-12-2014\",\"26-12-2015\",\"26-12-2016\",\"26-12-2017\",\"27-01-2013\",\"27-01-2014\",\"27-01-2015\",\"27-01-2016\",\"27-01-2017\",\"27-02-2013\",\"27-02-2014\",\"27-02-2015\",\"27-02-2016\",\"27-02-2017\",\"27-03-2013\",\"27-03-2014\",\"27-03-2015\",\"27-03-2016\",\"27-03-2017\",\"27-04-2013\",\"27-04-2014\",\"27-04-2015\",\"27-04-2016\",\"27-04-2017\",\"27-05-2013\",\"27-05-2014\",\"27-05-2015\",\"27-05-2016\",\"27-05-2017\",\"27-06-2013\",\"27-06-2014\",\"27-06-2015\",\"27-06-2016\",\"27-06-2017\",\"27-07-2013\",\"27-07-2014\",\"27-07-2015\",\"27-07-2016\",\"27-07-2017\",\"27-08-2013\",\"27-08-2014\",\"27-08-2015\",\"27-08-2016\",\"27-08-2017\",\"27-09-2013\",\"27-09-2014\",\"27-09-2015\",\"27-09-2016\",\"27-09-2017\",\"27-10-2013\",\"27-10-2014\",\"27-10-2015\",\"27-10-2016\",\"27-10-2017\",\"27-11-2013\",\"27-11-2014\",\"27-11-2015\",\"27-11-2016\",\"27-11-2017\",\"27-12-2013\",\"27-12-2014\",\"27-12-2015\",\"27-12-2016\",\"27-12-2017\",\"28-01-2013\",\"28-01-2014\",\"28-01-2015\",\"28-01-2016\",\"28-01-2017\",\"28-02-2013\",\"28-02-2014\",\"28-02-2015\",\"28-02-2016\",\"28-02-2017\",\"28-03-2013\",\"28-03-2014\",\"28-03-2015\",\"28-03-2016\",\"28-03-2017\",\"28-04-2013\",\"28-04-2014\",\"28-04-2015\",\"28-04-2016\",\"28-04-2017\",\"28-05-2013\",\"28-05-2014\",\"28-05-2015\",\"28-05-2016\",\"28-05-2017\",\"28-06-2013\",\"28-06-2014\",\"28-06-2015\",\"28-06-2016\",\"28-06-2017\",\"28-07-2013\",\"28-07-2014\",\"28-07-2015\",\"28-07-2016\",\"28-07-2017\",\"28-08-2013\",\"28-08-2014\",\"28-08-2015\",\"28-08-2016\",\"28-08-2017\",\"28-09-2013\",\"28-09-2014\",\"28-09-2015\",\"28-09-2016\",\"28-09-2017\",\"28-10-2013\",\"28-10-2014\",\"28-10-2015\",\"28-10-2016\",\"28-10-2017\",\"28-11-2013\",\"28-11-2014\",\"28-11-2015\",\"28-11-2016\",\"28-11-2017\",\"28-12-2013\",\"28-12-2014\",\"28-12-2015\",\"28-12-2016\",\"28-12-2017\",\"29-01-2013\",\"29-01-2014\",\"29-01-2015\",\"29-01-2016\",\"29-01-2017\",\"29-02-2016\",\"29-03-2013\",\"29-03-2014\",\"29-03-2015\",\"29-03-2016\",\"29-03-2017\",\"29-04-2013\",\"29-04-2014\",\"29-04-2015\",\"29-04-2016\",\"29-04-2017\",\"29-05-2013\",\"29-05-2014\",\"29-05-2015\",\"29-05-2016\",\"29-05-2017\",\"29-06-2013\",\"29-06-2014\",\"29-06-2015\",\"29-06-2016\",\"29-06-2017\",\"29-07-2013\",\"29-07-2014\",\"29-07-2015\",\"29-07-2016\",\"29-07-2017\",\"29-08-2013\",\"29-08-2014\",\"29-08-2015\",\"29-08-2016\",\"29-08-2017\",\"29-09-2013\",\"29-09-2014\",\"29-09-2015\",\"29-09-2016\",\"29-09-2017\",\"29-10-2013\",\"29-10-2014\",\"29-10-2015\",\"29-10-2016\",\"29-10-2017\",\"29-11-2013\",\"29-11-2014\",\"29-11-2015\",\"29-11-2016\",\"29-11-2017\",\"29-12-2013\",\"29-12-2014\",\"29-12-2015\",\"29-12-2016\",\"29-12-2017\",\"30-01-2013\",\"30-01-2014\",\"30-01-2015\",\"30-01-2016\",\"30-01-2017\",\"30-03-2013\",\"30-03-2014\",\"30-03-2015\",\"30-03-2016\",\"30-03-2017\",\"30-04-2013\",\"30-04-2014\",\"30-04-2015\",\"30-04-2016\",\"30-04-2017\",\"30-05-2013\",\"30-05-2014\",\"30-05-2015\",\"30-05-2016\",\"30-05-2017\",\"30-06-2013\",\"30-06-2014\",\"30-06-2015\",\"30-06-2016\",\"30-06-2017\",\"30-07-2013\",\"30-07-2014\",\"30-07-2015\",\"30-07-2016\",\"30-07-2017\",\"30-08-2013\",\"30-08-2014\",\"30-08-2015\",\"30-08-2016\",\"30-08-2017\",\"30-09-2013\",\"30-09-2014\",\"30-09-2015\",\"30-09-2016\",\"30-09-2017\",\"30-10-2013\",\"30-10-2014\",\"30-10-2015\",\"30-10-2016\",\"30-10-2017\",\"30-11-2013\",\"30-11-2014\",\"30-11-2015\",\"30-11-2016\",\"30-11-2017\",\"30-12-2013\",\"30-12-2014\",\"30-12-2015\",\"30-12-2016\",\"30-12-2017\",\"31-01-2013\",\"31-01-2014\",\"31-01-2015\",\"31-01-2016\",\"31-01-2017\",\"31-03-2013\",\"31-03-2014\",\"31-03-2015\",\"31-03-2016\",\"31-03-2017\",\"31-05-2013\",\"31-05-2014\",\"31-05-2015\",\"31-05-2016\",\"31-05-2017\",\"31-07-2013\",\"31-07-2014\",\"31-07-2015\",\"31-07-2016\",\"31-07-2017\",\"31-08-2013\",\"31-08-2014\",\"31-08-2015\",\"31-08-2016\",\"31-08-2017\",\"31-10-2013\",\"31-10-2014\",\"31-10-2015\",\"31-10-2016\",\"31-10-2017\",\"31-12-2013\",\"31-12-2014\",\"31-12-2015\",\"31-12-2016\",\"31-12-2017\"],\"y\":[642.0,708.0,798.0,925.0,1042.0,762.0,970.0,1090.0,722.0,918.0,926.0,1060.0,1292.0,1050.0,1154.0,771.0,1081.0,1110.0,1455.0,1531.0,1067.0,1215.0,1421.0,1767.0,1172.0,1311.0,1666.0,1114.0,1478.0,1640.0,1031.0,1314.0,1337.0,1737.0,1885.0,1019.0,1313.0,1436.0,1147.0,1347.0,1200.0,993.0,1172.0,1350.0,1461.0,872.0,992.0,1081.0,1388.0,1537.0,1105.0,1305.0,1497.0,1252.0,1251.0,856.0,665.0,786.0,921.0,1076.0,602.0,776.0,838.0,997.0,711.0,852.0,1036.0,670.0,893.0,972.0,1042.0,1212.0,850.0,1029.0,1150.0,994.0,1058.0,1200.0,1442.0,1642.0,1157.0,1360.0,1486.0,1112.0,1357.0,1428.0,1046.0,1288.0,1535.0,1654.0,1141.0,1258.0,1511.0,1792.0,2017.0,1177.0,1461.0,1597.0,1290.0,1326.0,815.0,1055.0,1110.0,1376.0,1518.0,938.0,1094.0,1231.0,1449.0,1053.0,1182.0,1412.0,979.0,1275.0,1462.0,607.0,818.0,810.0,1001.0,1122.0,632.0,799.0,905.0,1062.0,755.0,886.0,679.0,831.0,926.0,1042.0,1058.0,875.0,923.0,1224.0,1331.0,1000.0,1127.0,1380.0,1523.0,1111.0,1134.0,1375.0,1545.0,1383.0,1363.0,925.0,1264.0,1385.0,1631.0,1822.0,1168.0,1395.0,1572.0,1961.0,1327.0,1267.0,1519.0,1086.0,1278.0,1445.0,945.0,1078.0,1219.0,1565.0,1686.0,995.0,1165.0,1298.0,965.0,1198.0,1235.0,932.0,1190.0,1250.0,1395.0,680.0,793.0,862.0,1079.0,1148.0,741.0,833.0,985.0,691.0,797.0,612.0,802.0,817.0,979.0,1089.0,753.0,962.0,935.0,1217.0,1340.0,1078.0,1189.0,1457.0,1061.0,1265.0,1299.0,1523.0,1068.0,1340.0,1511.0,1084.0,1265.0,1451.0,1730.0,1929.0,1215.0,1550.0,1736.0,1290.0,1620.0,1274.0,1013.0,1210.0,1389.0,1575.0,915.0,1184.0,1314.0,1533.0,1095.0,1021.0,1185.0,1360.0,1174.0,1223.0,815.0,1112.0,1135.0,1395.0,1589.0,703.0,841.0,904.0,1160.0,744.0,755.0,893.0,606.0,799.0,865.0,709.0,819.0,894.0,1066.0,1201.0,820.0,952.0,1113.0,1333.0,1398.0,1112.0,1295.0,1425.0,1220.0,1321.0,1274.0,1025.0,1229.0,1417.0,1652.0,1115.0,1334.0,1534.0,1823.0,1222.0,1353.0,1584.0,1751.0,1519.0,1601.0,906.0,1128.0,1244.0,1490.0,1652.0,1015.0,1276.0,1421.0,1069.0,1294.0,1069.0,1324.0,922.0,1148.0,1265.0,969.0,1104.0,1189.0,1535.0,1651.0,766.0,948.0,1024.0,788.0,879.0,832.0,641.0,703.0,787.0,918.0,672.0,879.0,884.0,1059.0,779.0,807.0,1001.0,1151.0,1377.0,928.0,1155.0,1431.0,974.0,1241.0,1362.0,855.0,1244.0,1210.0,1561.0,1735.0,1082.0,1468.0,1654.0,1159.0,1501.0,1403.0,1705.0,1179.0,1488.0,1671.0,1069.0,1219.0,1335.0,1717.0,1756.0,1122.0,1336.0,1473.0,1225.0,1309.0,1104.0,826.0,1017.0,1277.0,1319.0,920.0,1171.0,1291.0,1586.0,1156.0,761.0,954.0,1084.0,902.0,965.0,537.0,737.0,753.0,833.0,1014.0,754.0,874.0,984.0,1103.0,946.0,925.0,1059.0,1195.0,906.0,1077.0,1280.0,890.0,1134.0,1337.0,1475.0,1042.0,1132.0,1391.0,1605.0,1769.0,1261.0,1530.0,1673.0,1452.0,1524.0,1425.0,1153.0,1391.0,1623.0,1798.0,1062.0,1268.0,1392.0,1666.0,1198.0,1152.0,1386.0,1017.0,1146.0,1344.0,789.0,1010.0,1050.0,1277.0,1419.0,972.0,1312.0,1416.0,1037.0,1313.0,839.0,1015.0,711.0,884.0,936.0,620.0,735.0,832.0,913.0,1044.0,790.0,985.0,1032.0,736.0,890.0,928.0,1135.0,1312.0,1034.0,1102.0,834.0,1146.0,1121.0,1434.0,1583.0,1035.0,1267.0,1335.0,1714.0,1182.0,1346.0,1649.0,1120.0,1437.0,1603.0,976.0,1298.0,1309.0,1748.0,1854.0,1108.0,1329.0,1531.0,1179.0,1382.0,1206.0,960.0,1182.0,1312.0,1494.0,856.0,1058.0,1071.0,1408.0,1563.0,1154.0,1336.0,1437.0,1177.0,1254.0,874.0,725.0,846.0,955.0,1081.0,605.0,747.0,843.0,947.0,734.0,871.0,984.0,718.0,890.0,1027.0,1001.0,1203.0,855.0,1101.0,1143.0,885.0,1098.0,1198.0,1518.0,1665.0,1126.0,1393.0,1470.0,1103.0,1355.0,1429.0,1116.0,1348.0,1471.0,1722.0,1171.0,1323.0,1482.0,1837.0,2019.0,1200.0,1405.0,1625.0,1328.0,1423.0,795.0,1090.0,1089.0,1382.0,1549.0,890.0,1081.0,1203.0,1462.0,993.0,1198.0,1354.0,947.0,1232.0,1407.0,564.0,806.0,810.0,1043.0,1178.0,656.0,790.0,912.0,1057.0,901.0,895.0,741.0,828.0,885.0,1055.0,1077.0,782.0,974.0,1123.0,1245.0,977.0,1170.0,1308.0,1648.0,1061.0,1184.0,1332.0,1589.0,1369.0,1375.0,929.0,1301.0,1342.0,1649.0,1828.0,1153.0,1410.0,1601.0,1973.0,1263.0,1256.0,1412.0,1020.0,1290.0,1446.0,926.0,1149.0,1216.0,1501.0,1652.0,1004.0,1175.0,1260.0,1008.0,1210.0,1227.0,894.0,1112.0,1339.0,1442.0,713.0,808.0,889.0,1070.0,1182.0,743.0,842.0,942.0,706.0,817.0,573.0,744.0,813.0,929.0,1152.0,696.0,914.0,961.0,1192.0,1342.0,991.0,1195.0,1453.0,1053.0,1331.0,1250.0,1560.0,1040.0,1313.0,1406.0,1129.0,1295.0,1418.0,1715.0,1859.0,1224.0,1436.0,1704.0,1252.0,1585.0,1284.0,1022.0,1251.0,1406.0,1591.0,1038.0,1090.0,1283.0,1551.0,1113.0,995.0,1205.0,1368.0,1151.0,1257.0,848.0,1100.0,1188.0,1413.0,1547.0,634.0,864.0,925.0,1123.0,823.0,777.0,887.0,629.0,834.0,893.0,700.0,759.0,889.0,1027.0,1215.0,846.0,979.0,1046.0,1303.0,1360.0,1120.0,1383.0,1482.0,1232.0,1276.0,1309.0,1004.0,1230.0,1448.0,1569.0,1073.0,1327.0,1462.0,1863.0,1265.0,1375.0,1615.0,1766.0,1476.0,1601.0,879.0,1156.0,1223.0,1500.0,1696.0,1026.0,1195.0,1408.0,1061.0,1227.0,1072.0,1307.0,891.0,1138.0,1224.0,938.0,1067.0,1290.0,1477.0,1681.0,681.0,882.0,1006.0,783.0,870.0,826.0,591.0,712.0,802.0,968.0,689.0,818.0,853.0,1057.0,835.0,858.0,1024.0,1135.0,1334.0,927.0,1173.0,1429.0,966.0,1247.0,1353.0,905.0,1187.0,1185.0,1502.0,1652.0,1167.0,1462.0,1608.0,1162.0,1461.0,1355.0,1673.0,1156.0,1485.0,1641.0,958.0,1186.0,1358.0,1653.0,1674.0,1064.0,1300.0,1491.0,1220.0,1238.0,1112.0,927.0,1147.0,1267.0,1369.0,954.0,1121.0,1316.0,1612.0,1121.0,824.0,976.0,1005.0,887.0,935.0,527.0,692.0,746.0,863.0,970.0,734.0,903.0,1002.0,1146.0,927.0,853.0,1058.0,1161.0,893.0,1138.0,1289.0,900.0,1126.0,1386.0,1470.0,1041.0,1147.0,1366.0,1647.0,1761.0,1190.0,1536.0,1738.0,1429.0,1454.0,1441.0,1099.0,1354.0,1632.0,1866.0,1048.0,1222.0,1372.0,1731.0,1162.0,1171.0,1394.0,1009.0,1309.0,1468.0,735.0,1008.0,1065.0,1350.0,1448.0,1027.0,1254.0,1368.0,1073.0,1277.0,859.0,987.0,695.0,875.0,994.0,672.0,695.0,764.0,949.0,1033.0,809.0,925.0,1064.0,779.0,929.0,967.0,1188.0,1299.0,1095.0,1094.0,861.0,1070.0,1126.0,1406.0,1618.0,1075.0,1263.0,1395.0,1761.0,1214.0,1331.0,1587.0,1096.0,1420.0,1622.0,1078.0,1347.0,1429.0,1646.0,1941.0,1098.0,1327.0,1477.0,1123.0,1411.0,1178.0,933.0,1149.0,1292.0,1466.0,872.0,1036.0,1086.0,1418.0,1546.0,1096.0,1344.0,1508.0,1278.0,1265.0,866.0,664.0,838.0,890.0,1115.0,605.0,758.0,836.0,934.0,675.0,842.0,1014.0,709.0,882.0,965.0,1008.0,1169.0,841.0,1086.0,1125.0,893.0,1083.0,1259.0,1468.0,1601.0,1060.0,1318.0,1516.0,1177.0,1418.0,1372.0,1050.0,1257.0,1460.0,1661.0,1162.0,1265.0,1531.0,1825.0,2006.0,1124.0,1369.0,1634.0,1272.0,1349.0,807.0,1079.0,1181.0,1432.0,1562.0,833.0,1103.0,1138.0,1515.0,1016.0,1133.0,1421.0,988.0,1200.0,1398.0,603.0,823.0,818.0,1020.0,1148.0,708.0,799.0,909.0,1011.0,801.0,920.0,690.0,815.0,879.0,1077.0,1035.0,781.0,931.0,1141.0,1223.0,994.0,1167.0,1312.0,1603.0,1156.0,1196.0,1430.0,1534.0,1331.0,1382.0,1017.0,1301.0,1279.0,1681.0,1872.0,1125.0,1442.0,1620.0,1942.0,1358.0,1252.0,1530.0,1022.0,1312.0,1489.0,909.0,1156.0,1252.0,1455.0,1643.0,995.0,1086.0,1287.0,968.0,1173.0,1231.0,927.0,1203.0,1297.0,1482.0,676.0,800.0,827.0,1101.0,1181.0,742.0,842.0,951.0,687.0,841.0,569.0,793.0,793.0,988.0,1164.0,752.0,920.0,987.0,1264.0,1378.0,1022.0,1208.0,1383.0,999.0,1256.0,1184.0,1523.0,1062.0,1270.0,1500.0,1039.0,1259.0,1419.0,1743.0,1870.0,1290.0,1627.0,1650.0,1260.0,1582.0,1335.0,1032.0,1256.0,1424.0,1515.0,971.0,1200.0,1340.0,1586.0,1122.0,1000.0,1200.0,1359.0,1148.0,1195.0,855.0,1100.0,1152.0,1383.0,1628.0,696.0,817.0,954.0,1100.0,814.0,723.0,919.0,654.0,749.0,913.0,701.0,772.0,880.0,1032.0,1204.0,834.0,983.0,1002.0,1300.0,1451.0,1115.0,1421.0,1529.0,1218.0,1332.0,1355.0,1012.0,1254.0,1456.0,1660.0,1061.0,1360.0,1529.0,1769.0,1254.0,1343.0,1551.0,1756.0,1554.0,1623.0,914.0,1138.0,1264.0,1517.0,1725.0,1020.0,1306.0,1376.0,1026.0,1315.0,1075.0,1232.0,909.0,1156.0,1267.0,961.0,1106.0,1252.0,1512.0,1620.0,745.0,888.0,1011.0,774.0,888.0,840.0,605.0,750.0,801.0,997.0,697.0,868.0,956.0,1102.0,761.0,807.0,989.0,1167.0,1359.0,918.0,1131.0,1462.0,941.0,1277.0,1333.0,869.0,1163.0,1261.0,1527.0,1711.0,1150.0,1449.0,1555.0,1187.0,1421.0,1412.0,1765.0,1214.0,1559.0,1689.0,989.0,1150.0,1285.0,1581.0,1761.0,1006.0,1347.0,1455.0,1248.0,1330.0,1085.0,878.0,1102.0,1236.0,1369.0,969.0,1160.0,1300.0,1590.0,1060.0,749.0,959.0,1014.0,932.0,891.0,515.0,669.0,739.0,837.0,941.0,768.0,895.0,987.0,1086.0,920.0,960.0,1094.0,1171.0,868.0,1118.0,1239.0,934.0,1116.0,1314.0,1460.0,1036.0,1205.0,1288.0,1570.0,1866.0,1230.0,1561.0,1669.0,1420.0,1490.0,1474.0,1200.0,1409.0,1621.0,1774.0,1040.0,1250.0,1472.0,1697.0,1198.0,1185.0,1333.0,1021.0,1281.0,1438.0,755.0,1036.0,1073.0,1272.0,1510.0,1032.0,1264.0,1397.0,1073.0,1309.0,850.0,993.0,687.0,841.0,980.0,640.0,706.0,761.0,902.0,1076.0,775.0,974.0,1044.0,762.0,885.0,912.0,1160.0,1254.0,1066.0,1042.0,793.0,1137.0,1070.0,1395.0,1547.0,1027.0,1225.0,1412.0,1658.0,1184.0,1259.0,1608.0,1099.0,1432.0,1603.0,1001.0,1391.0,1342.0,1691.0,1787.0,1097.0,1334.0,1511.0,1109.0,1420.0,1278.0,899.0,1154.0,1323.0,1448.0,880.0,1019.0,1164.0,1433.0,1531.0,1067.0,1239.0,1501.0,1269.0,1230.0,871.0,633.0,798.0,967.0,1102.0,610.0,750.0,848.0,988.0,694.0,840.0,981.0,698.0,913.0,993.0,995.0,1181.0,825.0,1064.0,1183.0,910.0,1133.0,1221.0,1457.0,1699.0,1073.0,1301.0,1477.0,1122.0,1385.0,1408.0,1084.0,1335.0,1518.0,1643.0,1143.0,1326.0,1424.0,1787.0,2002.0,1190.0,1388.0,1622.0,1361.0,1355.0,829.0,1090.0,1165.0,1446.0,1628.0,888.0,1087.0,1243.0,1435.0,1024.0,1185.0,1380.0,961.0,1207.0,1438.0,600.0,806.0,825.0,1009.0,1091.0,658.0,872.0,919.0,1006.0,765.0,893.0,653.0,787.0,900.0,1036.0,1038.0,827.0,967.0,1094.0,1227.0,945.0,1169.0,1255.0,1576.0,1068.0,1131.0,1395.0,1589.0,1322.0,1352.0,1001.0,1291.0,1318.0,1662.0,1723.0,1168.0,1429.0,1555.0,1937.0,1357.0,1217.0,1538.0,1050.0,1351.0,1468.0,986.0,1142.0,1222.0,1523.0,1688.0,951.0,1174.0,1244.0,1011.0,1205.0,1212.0,953.0,1161.0,1286.0,1489.0,642.0,770.0,886.0,1061.0,1131.0,723.0,849.0,967.0,716.0,800.0,575.0,784.0,797.0,949.0,1132.0,702.0,930.0,961.0,1292.0,1289.0,1020.0,1268.0,1444.0,1060.0,1309.0,1269.0,1455.0,1049.0,1314.0,1435.0,1065.0,1266.0,1412.0,1758.0,1864.0,1307.0,1608.0,1654.0,1258.0,1602.0,1277.0,997.0,1185.0,1398.0,1608.0,970.0,1186.0,1279.0,1603.0,1095.0,971.0,1283.0,1361.0,1177.0,1203.0,876.0,1062.0,1171.0,1467.0,1536.0,718.0,879.0,965.0,1164.0,810.0,729.0,916.0,709.0,792.0,872.0,686.0,835.0,871.0,962.0,1210.0,803.0,1009.0,1044.0,1329.0,1413.0,1100.0,1306.0,1538.0,1238.0,1340.0,1300.0,936.0,1233.0,1428.0,1588.0,1086.0,1366.0,1492.0,1752.0,1220.0,1324.0,1584.0,1781.0,1488.0,1612.0,888.0,1191.0,1180.0,1596.0,1730.0,1015.0,1315.0,1383.0,1077.0,1282.0,1084.0,1339.0,882.0,1166.0,1222.0,976.0,1051.0,1219.0,1451.0,1647.0,719.0,916.0,971.0,766.0,963.0,767.0,537.0,733.0,797.0,964.0,706.0,836.0,951.0,1070.0,822.0,795.0,944.0,1119.0,1360.0,907.0,1160.0,1355.0,978.0,1230.0,1375.0,910.0,1221.0,1183.0,1507.0,1705.0,1189.0,1453.0,1529.0,1209.0,1452.0,1417.0,1708.0,1186.0,1437.0,1637.0,1030.0,1199.0,1374.0,1572.0,1745.0,1069.0,1298.0,1515.0,1255.0,1351.0,1080.0,830.0,1123.0,1254.0,1322.0,979.0,1161.0,1341.0,1517.0,1085.0,768.0,995.0,1048.0,867.0,936.0,494.0,682.0,750.0,869.0,969.0,790.0,910.0,895.0,1108.0,922.0,882.0,1036.0,1229.0,920.0,1099.0,1248.0,882.0,1130.0,1366.0,1493.0,1086.0,1185.0,1316.0,1581.0,1746.0,1264.0,1538.0,1655.0,1408.0,1502.0,1422.0,1169.0,1415.0,1609.0,1818.0,1048.0,1213.0,1427.0,1712.0,1221.0,1143.0,1390.0,994.0,1278.0,1329.0,737.0,970.0,1101.0,1277.0,1408.0,1063.0,1311.0,1451.0,1070.0,1286.0,817.0,985.0,735.0,850.0,971.0,647.0,739.0,772.0,900.0,1066.0,738.0,940.0,1123.0,1247.0,1063.0,1051.0,809.0,1133.0,1110.0,1415.0,1539.0,1031.0,1247.0,1435.0,1750.0,1147.0,1313.0,1621.0,1187.0,1421.0,1561.0,1000.0,1263.0,1371.0,1721.0,1864.0,1071.0,1269.0,1446.0,1178.0,1402.0,1196.0,893.0,1155.0,1340.0,1436.0,857.0,1027.0,1166.0,1398.0,1466.0,1022.0,1258.0,1468.0,1341.0,1293.0,866.0,683.0,830.0,964.0,1054.0,609.0,800.0,811.0,950.0,723.0,1015.0,1235.0,781.0,1062.0,1183.0,1040.0,1092.0,1232.0,1543.0,1611.0,1060.0,1337.0,1481.0,1076.0,1349.0,1408.0,1025.0,1274.0,1521.0,1650.0,1094.0,1293.0,1527.0,1831.0,1986.0,1184.0,1414.0,1660.0,1253.0,1314.0,763.0,1095.0,1147.0,1423.0,1524.0,861.0,1048.0,1246.0,1458.0,1025.0,1159.0,1379.0,920.0,1260.0,1390.0,585.0,810.0,842.0,1045.0,1116.0,687.0,761.0,868.0,1011.0,810.0,1101.0,750.0,973.0,1067.0,1236.0,1140.0,1470.0,1573.0,1275.0,1331.0,1119.0,1446.0,1535.0,1900.0,1318.0,1216.0,1509.0,1079.0,1325.0,1463.0,951.0,1218.0,1295.0,1059.0,1155.0,674.0,830.0,883.0,1132.0,1263.0],\"type\":\"scatter\"}],                        {\"title\":{\"text\":\"Daily sales\"},\"xaxis\":{\"title\":{\"text\":\"Date\"}},\"yaxis\":{\"title\":{\"text\":\"Sales\"}},\"template\":{\"data\":{\"histogram2dcontour\":[{\"type\":\"histogram2dcontour\",\"colorbar\":{\"outlinewidth\":0,\"ticks\":\"\"},\"colorscale\":[[0.0,\"#0d0887\"],[0.1111111111111111,\"#46039f\"],[0.2222222222222222,\"#7201a8\"],[0.3333333333333333,\"#9c179e\"],[0.4444444444444444,\"#bd3786\"],[0.5555555555555556,\"#d8576b\"],[0.6666666666666666,\"#ed7953\"],[0.7777777777777778,\"#fb9f3a\"],[0.8888888888888888,\"#fdca26\"],[1.0,\"#f0f921\"]]}],\"choropleth\":[{\"type\":\"choropleth\",\"colorbar\":{\"outlinewidth\":0,\"ticks\":\"\"}}],\"histogram2d\":[{\"type\":\"histogram2d\",\"colorbar\":{\"outlinewidth\":0,\"ticks\":\"\"},\"colorscale\":[[0.0,\"#0d0887\"],[0.1111111111111111,\"#46039f\"],[0.2222222222222222,\"#7201a8\"],[0.3333333333333333,\"#9c179e\"],[0.4444444444444444,\"#bd3786\"],[0.5555555555555556,\"#d8576b\"],[0.6666666666666666,\"#ed7953\"],[0.7777777777777778,\"#fb9f3a\"],[0.8888888888888888,\"#fdca26\"],[1.0,\"#f0f921\"]]}],\"heatmap\":[{\"type\":\"heatmap\",\"colorbar\":{\"outlinewidth\":0,\"ticks\":\"\"},\"colorscale\":[[0.0,\"#0d0887\"],[0.1111111111111111,\"#46039f\"],[0.2222222222222222,\"#7201a8\"],[0.3333333333333333,\"#9c179e\"],[0.4444444444444444,\"#bd3786\"],[0.5555555555555556,\"#d8576b\"],[0.6666666666666666,\"#ed7953\"],[0.7777777777777778,\"#fb9f3a\"],[0.8888888888888888,\"#fdca26\"],[1.0,\"#f0f921\"]]}],\"heatmapgl\":[{\"type\":\"heatmapgl\",\"colorbar\":{\"outlinewidth\":0,\"ticks\":\"\"},\"colorscale\":[[0.0,\"#0d0887\"],[0.1111111111111111,\"#46039f\"],[0.2222222222222222,\"#7201a8\"],[0.3333333333333333,\"#9c179e\"],[0.4444444444444444,\"#bd3786\"],[0.5555555555555556,\"#d8576b\"],[0.6666666666666666,\"#ed7953\"],[0.7777777777777778,\"#fb9f3a\"],[0.8888888888888888,\"#fdca26\"],[1.0,\"#f0f921\"]]}],\"contourcarpet\":[{\"type\":\"contourcarpet\",\"colorbar\":{\"outlinewidth\":0,\"ticks\":\"\"}}],\"contour\":[{\"type\":\"contour\",\"colorbar\":{\"outlinewidth\":0,\"ticks\":\"\"},\"colorscale\":[[0.0,\"#0d0887\"],[0.1111111111111111,\"#46039f\"],[0.2222222222222222,\"#7201a8\"],[0.3333333333333333,\"#9c179e\"],[0.4444444444444444,\"#bd3786\"],[0.5555555555555556,\"#d8576b\"],[0.6666666666666666,\"#ed7953\"],[0.7777777777777778,\"#fb9f3a\"],[0.8888888888888888,\"#fdca26\"],[1.0,\"#f0f921\"]]}],\"surface\":[{\"type\":\"surface\",\"colorbar\":{\"outlinewidth\":0,\"ticks\":\"\"},\"colorscale\":[[0.0,\"#0d0887\"],[0.1111111111111111,\"#46039f\"],[0.2222222222222222,\"#7201a8\"],[0.3333333333333333,\"#9c179e\"],[0.4444444444444444,\"#bd3786\"],[0.5555555555555556,\"#d8576b\"],[0.6666666666666666,\"#ed7953\"],[0.7777777777777778,\"#fb9f3a\"],[0.8888888888888888,\"#fdca26\"],[1.0,\"#f0f921\"]]}],\"mesh3d\":[{\"type\":\"mesh3d\",\"colorbar\":{\"outlinewidth\":0,\"ticks\":\"\"}}],\"scatter\":[{\"fillpattern\":{\"fillmode\":\"overlay\",\"size\":10,\"solidity\":0.2},\"type\":\"scatter\"}],\"parcoords\":[{\"type\":\"parcoords\",\"line\":{\"colorbar\":{\"outlinewidth\":0,\"ticks\":\"\"}}}],\"scatterpolargl\":[{\"type\":\"scatterpolargl\",\"marker\":{\"colorbar\":{\"outlinewidth\":0,\"ticks\":\"\"}}}],\"bar\":[{\"error_x\":{\"color\":\"#2a3f5f\"},\"error_y\":{\"color\":\"#2a3f5f\"},\"marker\":{\"line\":{\"color\":\"#E5ECF6\",\"width\":0.5},\"pattern\":{\"fillmode\":\"overlay\",\"size\":10,\"solidity\":0.2}},\"type\":\"bar\"}],\"scattergeo\":[{\"type\":\"scattergeo\",\"marker\":{\"colorbar\":{\"outlinewidth\":0,\"ticks\":\"\"}}}],\"scatterpolar\":[{\"type\":\"scatterpolar\",\"marker\":{\"colorbar\":{\"outlinewidth\":0,\"ticks\":\"\"}}}],\"histogram\":[{\"marker\":{\"pattern\":{\"fillmode\":\"overlay\",\"size\":10,\"solidity\":0.2}},\"type\":\"histogram\"}],\"scattergl\":[{\"type\":\"scattergl\",\"marker\":{\"colorbar\":{\"outlinewidth\":0,\"ticks\":\"\"}}}],\"scatter3d\":[{\"type\":\"scatter3d\",\"line\":{\"colorbar\":{\"outlinewidth\":0,\"ticks\":\"\"}},\"marker\":{\"colorbar\":{\"outlinewidth\":0,\"ticks\":\"\"}}}],\"scattermapbox\":[{\"type\":\"scattermapbox\",\"marker\":{\"colorbar\":{\"outlinewidth\":0,\"ticks\":\"\"}}}],\"scatterternary\":[{\"type\":\"scatterternary\",\"marker\":{\"colorbar\":{\"outlinewidth\":0,\"ticks\":\"\"}}}],\"scattercarpet\":[{\"type\":\"scattercarpet\",\"marker\":{\"colorbar\":{\"outlinewidth\":0,\"ticks\":\"\"}}}],\"carpet\":[{\"aaxis\":{\"endlinecolor\":\"#2a3f5f\",\"gridcolor\":\"white\",\"linecolor\":\"white\",\"minorgridcolor\":\"white\",\"startlinecolor\":\"#2a3f5f\"},\"baxis\":{\"endlinecolor\":\"#2a3f5f\",\"gridcolor\":\"white\",\"linecolor\":\"white\",\"minorgridcolor\":\"white\",\"startlinecolor\":\"#2a3f5f\"},\"type\":\"carpet\"}],\"table\":[{\"cells\":{\"fill\":{\"color\":\"#EBF0F8\"},\"line\":{\"color\":\"white\"}},\"header\":{\"fill\":{\"color\":\"#C8D4E3\"},\"line\":{\"color\":\"white\"}},\"type\":\"table\"}],\"barpolar\":[{\"marker\":{\"line\":{\"color\":\"#E5ECF6\",\"width\":0.5},\"pattern\":{\"fillmode\":\"overlay\",\"size\":10,\"solidity\":0.2}},\"type\":\"barpolar\"}],\"pie\":[{\"automargin\":true,\"type\":\"pie\"}]},\"layout\":{\"autotypenumbers\":\"strict\",\"colorway\":[\"#636efa\",\"#EF553B\",\"#00cc96\",\"#ab63fa\",\"#FFA15A\",\"#19d3f3\",\"#FF6692\",\"#B6E880\",\"#FF97FF\",\"#FECB52\"],\"font\":{\"color\":\"#2a3f5f\"},\"hovermode\":\"closest\",\"hoverlabel\":{\"align\":\"left\"},\"paper_bgcolor\":\"white\",\"plot_bgcolor\":\"#E5ECF6\",\"polar\":{\"bgcolor\":\"#E5ECF6\",\"angularaxis\":{\"gridcolor\":\"white\",\"linecolor\":\"white\",\"ticks\":\"\"},\"radialaxis\":{\"gridcolor\":\"white\",\"linecolor\":\"white\",\"ticks\":\"\"}},\"ternary\":{\"bgcolor\":\"#E5ECF6\",\"aaxis\":{\"gridcolor\":\"white\",\"linecolor\":\"white\",\"ticks\":\"\"},\"baxis\":{\"gridcolor\":\"white\",\"linecolor\":\"white\",\"ticks\":\"\"},\"caxis\":{\"gridcolor\":\"white\",\"linecolor\":\"white\",\"ticks\":\"\"}},\"coloraxis\":{\"colorbar\":{\"outlinewidth\":0,\"ticks\":\"\"}},\"colorscale\":{\"sequential\":[[0.0,\"#0d0887\"],[0.1111111111111111,\"#46039f\"],[0.2222222222222222,\"#7201a8\"],[0.3333333333333333,\"#9c179e\"],[0.4444444444444444,\"#bd3786\"],[0.5555555555555556,\"#d8576b\"],[0.6666666666666666,\"#ed7953\"],[0.7777777777777778,\"#fb9f3a\"],[0.8888888888888888,\"#fdca26\"],[1.0,\"#f0f921\"]],\"sequentialminus\":[[0.0,\"#0d0887\"],[0.1111111111111111,\"#46039f\"],[0.2222222222222222,\"#7201a8\"],[0.3333333333333333,\"#9c179e\"],[0.4444444444444444,\"#bd3786\"],[0.5555555555555556,\"#d8576b\"],[0.6666666666666666,\"#ed7953\"],[0.7777777777777778,\"#fb9f3a\"],[0.8888888888888888,\"#fdca26\"],[1.0,\"#f0f921\"]],\"diverging\":[[0,\"#8e0152\"],[0.1,\"#c51b7d\"],[0.2,\"#de77ae\"],[0.3,\"#f1b6da\"],[0.4,\"#fde0ef\"],[0.5,\"#f7f7f7\"],[0.6,\"#e6f5d0\"],[0.7,\"#b8e186\"],[0.8,\"#7fbc41\"],[0.9,\"#4d9221\"],[1,\"#276419\"]]},\"xaxis\":{\"gridcolor\":\"white\",\"linecolor\":\"white\",\"ticks\":\"\",\"title\":{\"standoff\":15},\"zerolinecolor\":\"white\",\"automargin\":true,\"zerolinewidth\":2},\"yaxis\":{\"gridcolor\":\"white\",\"linecolor\":\"white\",\"ticks\":\"\",\"title\":{\"standoff\":15},\"zerolinecolor\":\"white\",\"automargin\":true,\"zerolinewidth\":2},\"scene\":{\"xaxis\":{\"backgroundcolor\":\"#E5ECF6\",\"gridcolor\":\"white\",\"linecolor\":\"white\",\"showbackground\":true,\"ticks\":\"\",\"zerolinecolor\":\"white\",\"gridwidth\":2},\"yaxis\":{\"backgroundcolor\":\"#E5ECF6\",\"gridcolor\":\"white\",\"linecolor\":\"white\",\"showbackground\":true,\"ticks\":\"\",\"zerolinecolor\":\"white\",\"gridwidth\":2},\"zaxis\":{\"backgroundcolor\":\"#E5ECF6\",\"gridcolor\":\"white\",\"linecolor\":\"white\",\"showbackground\":true,\"ticks\":\"\",\"zerolinecolor\":\"white\",\"gridwidth\":2}},\"shapedefaults\":{\"line\":{\"color\":\"#2a3f5f\"}},\"annotationdefaults\":{\"arrowcolor\":\"#2a3f5f\",\"arrowhead\":0,\"arrowwidth\":1},\"geo\":{\"bgcolor\":\"white\",\"landcolor\":\"#E5ECF6\",\"subunitcolor\":\"white\",\"showland\":true,\"showlakes\":true,\"lakecolor\":\"white\"},\"title\":{\"x\":0.05},\"mapbox\":{\"style\":\"light\"}}}},                        {\"responsive\": true}                    ).then(function(){\n",
              "                            \n",
              "var gd = document.getElementById('8444523e-b109-442a-ac35-cee8b20f8293');\n",
              "var x = new MutationObserver(function (mutations, observer) {{\n",
              "        var display = window.getComputedStyle(gd).display;\n",
              "        if (!display || display === 'none') {{\n",
              "            console.log([gd, 'removed!']);\n",
              "            Plotly.purge(gd);\n",
              "            observer.disconnect();\n",
              "        }}\n",
              "}});\n",
              "\n",
              "// Listen for the removal of the full notebook cells\n",
              "var notebookContainer = gd.closest('#notebook-container');\n",
              "if (notebookContainer) {{\n",
              "    x.observe(notebookContainer, {childList: true});\n",
              "}}\n",
              "\n",
              "// Listen for the clearing of the current output cell\n",
              "var outputEl = gd.closest('.output');\n",
              "if (outputEl) {{\n",
              "    x.observe(outputEl, {childList: true});\n",
              "}}\n",
              "\n",
              "                        })                };                            </script>        </div>\n",
              "</body>\n",
              "</html>"
            ]
          },
          "metadata": {}
        }
      ],
      "source": [
        "\n",
        "daily_sales_sc = go.Scatter(x=daily_sales['date'], y=daily_sales['sales'])\n",
        "layout = go.Layout(title='Daily sales', xaxis=dict(title='Date'), yaxis=dict(title='Sales'))\n",
        "fig = go.Figure(data=[daily_sales_sc], layout=layout)\n",
        "fig = go.Figure(data=[daily_sales_sc],layout=layout)\n",
        "fig.show(renderer=\"colab\")\n"
      ]
    },
    {
      "cell_type": "code",
      "execution_count": null,
      "metadata": {
        "id": "mWvEi5760qhO"
      },
      "outputs": [],
      "source": [
        "import plotly.io as pio\n",
        "pio.renderers.default='notebook'"
      ]
    },
    {
      "cell_type": "markdown",
      "metadata": {
        "id": "MQvB2lnV1YOX"
      },
      "source": [
        "Reduce training set with the last year alone"
      ]
    },
    {
      "cell_type": "code",
      "execution_count": null,
      "metadata": {
        "id": "cudPwEdH1ioO"
      },
      "outputs": [],
      "source": [
        "train = train[(train['date'] >= '2017-01-01')]"
      ]
    },
    {
      "cell_type": "markdown",
      "metadata": {
        "id": "LhY0fm7S1nwO"
      },
      "source": [
        "Rearrange datsets to apply shift methods\n"
      ]
    },
    {
      "cell_type": "code",
      "execution_count": null,
      "metadata": {
        "colab": {
          "base_uri": "https://localhost:8080/",
          "height": 206
        },
        "id": "u1Ca3ACn1tJN",
        "outputId": "aea1224a-1302-404a-a7bf-4f6ea4b0edd5"
      },
      "outputs": [
        {
          "output_type": "execute_result",
          "data": {
            "text/plain": [
              "   item  store        date  sales\n",
              "0   1.0      1  21-01-2013    8.0\n",
              "1   1.0      1  21-01-2014    7.0\n",
              "2   1.0      1  21-01-2015   10.0\n",
              "3   1.0      1  21-01-2016   12.0\n",
              "4   1.0      1  21-01-2017   13.0"
            ],
            "text/html": [
              "\n",
              "  <div id=\"df-27b96f1d-e5ca-42b4-b59d-6c3f847c5293\">\n",
              "    <div class=\"colab-df-container\">\n",
              "      <div>\n",
              "<style scoped>\n",
              "    .dataframe tbody tr th:only-of-type {\n",
              "        vertical-align: middle;\n",
              "    }\n",
              "\n",
              "    .dataframe tbody tr th {\n",
              "        vertical-align: top;\n",
              "    }\n",
              "\n",
              "    .dataframe thead th {\n",
              "        text-align: right;\n",
              "    }\n",
              "</style>\n",
              "<table border=\"1\" class=\"dataframe\">\n",
              "  <thead>\n",
              "    <tr style=\"text-align: right;\">\n",
              "      <th></th>\n",
              "      <th>item</th>\n",
              "      <th>store</th>\n",
              "      <th>date</th>\n",
              "      <th>sales</th>\n",
              "    </tr>\n",
              "  </thead>\n",
              "  <tbody>\n",
              "    <tr>\n",
              "      <th>0</th>\n",
              "      <td>1.0</td>\n",
              "      <td>1</td>\n",
              "      <td>21-01-2013</td>\n",
              "      <td>8.0</td>\n",
              "    </tr>\n",
              "    <tr>\n",
              "      <th>1</th>\n",
              "      <td>1.0</td>\n",
              "      <td>1</td>\n",
              "      <td>21-01-2014</td>\n",
              "      <td>7.0</td>\n",
              "    </tr>\n",
              "    <tr>\n",
              "      <th>2</th>\n",
              "      <td>1.0</td>\n",
              "      <td>1</td>\n",
              "      <td>21-01-2015</td>\n",
              "      <td>10.0</td>\n",
              "    </tr>\n",
              "    <tr>\n",
              "      <th>3</th>\n",
              "      <td>1.0</td>\n",
              "      <td>1</td>\n",
              "      <td>21-01-2016</td>\n",
              "      <td>12.0</td>\n",
              "    </tr>\n",
              "    <tr>\n",
              "      <th>4</th>\n",
              "      <td>1.0</td>\n",
              "      <td>1</td>\n",
              "      <td>21-01-2017</td>\n",
              "      <td>13.0</td>\n",
              "    </tr>\n",
              "  </tbody>\n",
              "</table>\n",
              "</div>\n",
              "      <button class=\"colab-df-convert\" onclick=\"convertToInteractive('df-27b96f1d-e5ca-42b4-b59d-6c3f847c5293')\"\n",
              "              title=\"Convert this dataframe to an interactive table.\"\n",
              "              style=\"display:none;\">\n",
              "        \n",
              "  <svg xmlns=\"http://www.w3.org/2000/svg\" height=\"24px\"viewBox=\"0 0 24 24\"\n",
              "       width=\"24px\">\n",
              "    <path d=\"M0 0h24v24H0V0z\" fill=\"none\"/>\n",
              "    <path d=\"M18.56 5.44l.94 2.06.94-2.06 2.06-.94-2.06-.94-.94-2.06-.94 2.06-2.06.94zm-11 1L8.5 8.5l.94-2.06 2.06-.94-2.06-.94L8.5 2.5l-.94 2.06-2.06.94zm10 10l.94 2.06.94-2.06 2.06-.94-2.06-.94-.94-2.06-.94 2.06-2.06.94z\"/><path d=\"M17.41 7.96l-1.37-1.37c-.4-.4-.92-.59-1.43-.59-.52 0-1.04.2-1.43.59L10.3 9.45l-7.72 7.72c-.78.78-.78 2.05 0 2.83L4 21.41c.39.39.9.59 1.41.59.51 0 1.02-.2 1.41-.59l7.78-7.78 2.81-2.81c.8-.78.8-2.07 0-2.86zM5.41 20L4 18.59l7.72-7.72 1.47 1.35L5.41 20z\"/>\n",
              "  </svg>\n",
              "      </button>\n",
              "      \n",
              "  <style>\n",
              "    .colab-df-container {\n",
              "      display:flex;\n",
              "      flex-wrap:wrap;\n",
              "      gap: 12px;\n",
              "    }\n",
              "\n",
              "    .colab-df-convert {\n",
              "      background-color: #E8F0FE;\n",
              "      border: none;\n",
              "      border-radius: 50%;\n",
              "      cursor: pointer;\n",
              "      display: none;\n",
              "      fill: #1967D2;\n",
              "      height: 32px;\n",
              "      padding: 0 0 0 0;\n",
              "      width: 32px;\n",
              "    }\n",
              "\n",
              "    .colab-df-convert:hover {\n",
              "      background-color: #E2EBFA;\n",
              "      box-shadow: 0px 1px 2px rgba(60, 64, 67, 0.3), 0px 1px 3px 1px rgba(60, 64, 67, 0.15);\n",
              "      fill: #174EA6;\n",
              "    }\n",
              "\n",
              "    [theme=dark] .colab-df-convert {\n",
              "      background-color: #3B4455;\n",
              "      fill: #D2E3FC;\n",
              "    }\n",
              "\n",
              "    [theme=dark] .colab-df-convert:hover {\n",
              "      background-color: #434B5C;\n",
              "      box-shadow: 0px 1px 3px 1px rgba(0, 0, 0, 0.15);\n",
              "      filter: drop-shadow(0px 1px 2px rgba(0, 0, 0, 0.3));\n",
              "      fill: #FFFFFF;\n",
              "    }\n",
              "  </style>\n",
              "\n",
              "      <script>\n",
              "        const buttonEl =\n",
              "          document.querySelector('#df-27b96f1d-e5ca-42b4-b59d-6c3f847c5293 button.colab-df-convert');\n",
              "        buttonEl.style.display =\n",
              "          google.colab.kernel.accessAllowed ? 'block' : 'none';\n",
              "\n",
              "        async function convertToInteractive(key) {\n",
              "          const element = document.querySelector('#df-27b96f1d-e5ca-42b4-b59d-6c3f847c5293');\n",
              "          const dataTable =\n",
              "            await google.colab.kernel.invokeFunction('convertToInteractive',\n",
              "                                                     [key], {});\n",
              "          if (!dataTable) return;\n",
              "\n",
              "          const docLinkHtml = 'Like what you see? Visit the ' +\n",
              "            '<a target=\"_blank\" href=https://colab.research.google.com/notebooks/data_table.ipynb>data table notebook</a>'\n",
              "            + ' to learn more about interactive tables.';\n",
              "          element.innerHTML = '';\n",
              "          dataTable['output_type'] = 'display_data';\n",
              "          await google.colab.output.renderOutput(dataTable, element);\n",
              "          const docLink = document.createElement('div');\n",
              "          docLink.innerHTML = docLinkHtml;\n",
              "          element.appendChild(docLink);\n",
              "        }\n",
              "      </script>\n",
              "    </div>\n",
              "  </div>\n",
              "  "
            ]
          },
          "metadata": {},
          "execution_count": 18
        }
      ],
      "source": [
        "train_gp = train.sort_values('date').groupby(['item', 'store', 'date'], as_index=False)\n",
        "train_gp = train_gp.agg({'sales':['mean']})\n",
        "train_gp.columns = ['item', 'store', 'date', 'sales']\n",
        "train_gp.head()"
      ]
    },
    {
      "cell_type": "markdown",
      "metadata": {
        "id": "SXoZ7S6K10xe"
      },
      "source": [
        "conversion of data into timeseries"
      ]
    },
    {
      "cell_type": "code",
      "execution_count": null,
      "metadata": {
        "id": "PME5Nj_D15f0"
      },
      "outputs": [],
      "source": [
        "def series_to_supervised(data, window=1, lag=1, dropnan=True):\n",
        "    cols, names = list(), list()\n",
        "\n",
        "    # Input sequence (t-n, ... t-1)\n",
        "    for i in range(window, 0, -1):\n",
        "        cols.append(data.shift(i))\n",
        "        names += [('%s(t-%d)' % (col, i)) for col in data.columns]\n",
        "    # Current timestep (t=0)\n",
        "    cols.append(data)\n",
        "    names += [('%s(t)' % (col)) for col in data.columns]\n",
        "    # Target timestep (t=lag)\n",
        "    cols.append(data.shift(-lag))\n",
        "    names += [('%s(t+%d)' % (col, lag)) for col in data.columns]\n",
        "    # Put it all together\n",
        "    agg = pd.concat(cols, axis=1)\n",
        "    agg.columns = names\n",
        "    # Drop rows with NaN values\n",
        "    if dropnan:\n",
        "        agg.dropna(inplace=True)\n",
        "    return agg\n",
        ""
      ]
    },
    {
      "cell_type": "markdown",
      "metadata": {
        "id": "FJNDXz1K2BPO"
      },
      "source": [
        "forecast 90 days with current timesteps\n"
      ]
    },
    {
      "cell_type": "code",
      "execution_count": null,
      "metadata": {
        "colab": {
          "base_uri": "https://localhost:8080/",
          "height": 317
        },
        "id": "ojhmEPiaVttq",
        "outputId": "fd6d0a6f-21af-45da-8b4f-5a742b20506c"
      },
      "outputs": [
        {
          "output_type": "execute_result",
          "data": {
            "text/plain": [
              "    item(t-29)  store(t-29)  sales(t-29)  item(t-28)  store(t-28)  \\\n",
              "29         1.0          1.0          8.0         1.0          1.0   \n",
              "30         1.0          1.0          7.0         1.0          1.0   \n",
              "31         1.0          1.0         10.0         1.0          1.0   \n",
              "32         1.0          1.0         12.0         1.0          1.0   \n",
              "33         1.0          1.0         13.0         1.0          1.0   \n",
              "\n",
              "    sales(t-28)  item(t-27)  store(t-27)  sales(t-27)  item(t-26)  ...  \\\n",
              "29          7.0         1.0          1.0         10.0         1.0  ...   \n",
              "30         10.0         1.0          1.0         12.0         1.0  ...   \n",
              "31         12.0         1.0          1.0         13.0         1.0  ...   \n",
              "32         13.0         1.0          1.0         13.0         1.0  ...   \n",
              "33         13.0         1.0          1.0         16.0         1.0  ...   \n",
              "\n",
              "    sales(t-2)  item(t-1)  store(t-1)  sales(t-1)  item(t)  store(t)  \\\n",
              "29        34.0        1.0         1.0        25.0      1.0         1   \n",
              "30        25.0        1.0         1.0        26.0      1.0         1   \n",
              "31        26.0        1.0         1.0        26.0      1.0         1   \n",
              "32        26.0        1.0         1.0        21.0      1.0         1   \n",
              "33        21.0        1.0         1.0        29.0      1.0         1   \n",
              "\n",
              "    sales(t)  item(t+90)  store(t+90)  sales(t+90)  \n",
              "29      26.0         1.0          1.0          6.0  \n",
              "30      26.0         1.0          1.0          9.0  \n",
              "31      21.0         1.0          1.0         18.0  \n",
              "32      29.0         1.0          1.0         14.0  \n",
              "33      34.0         1.0          1.0         23.0  \n",
              "\n",
              "[5 rows x 93 columns]"
            ],
            "text/html": [
              "\n",
              "  <div id=\"df-7a9b749e-3b5f-4c75-a8be-e1af40433c1f\">\n",
              "    <div class=\"colab-df-container\">\n",
              "      <div>\n",
              "<style scoped>\n",
              "    .dataframe tbody tr th:only-of-type {\n",
              "        vertical-align: middle;\n",
              "    }\n",
              "\n",
              "    .dataframe tbody tr th {\n",
              "        vertical-align: top;\n",
              "    }\n",
              "\n",
              "    .dataframe thead th {\n",
              "        text-align: right;\n",
              "    }\n",
              "</style>\n",
              "<table border=\"1\" class=\"dataframe\">\n",
              "  <thead>\n",
              "    <tr style=\"text-align: right;\">\n",
              "      <th></th>\n",
              "      <th>item(t-29)</th>\n",
              "      <th>store(t-29)</th>\n",
              "      <th>sales(t-29)</th>\n",
              "      <th>item(t-28)</th>\n",
              "      <th>store(t-28)</th>\n",
              "      <th>sales(t-28)</th>\n",
              "      <th>item(t-27)</th>\n",
              "      <th>store(t-27)</th>\n",
              "      <th>sales(t-27)</th>\n",
              "      <th>item(t-26)</th>\n",
              "      <th>...</th>\n",
              "      <th>sales(t-2)</th>\n",
              "      <th>item(t-1)</th>\n",
              "      <th>store(t-1)</th>\n",
              "      <th>sales(t-1)</th>\n",
              "      <th>item(t)</th>\n",
              "      <th>store(t)</th>\n",
              "      <th>sales(t)</th>\n",
              "      <th>item(t+90)</th>\n",
              "      <th>store(t+90)</th>\n",
              "      <th>sales(t+90)</th>\n",
              "    </tr>\n",
              "  </thead>\n",
              "  <tbody>\n",
              "    <tr>\n",
              "      <th>29</th>\n",
              "      <td>1.0</td>\n",
              "      <td>1.0</td>\n",
              "      <td>8.0</td>\n",
              "      <td>1.0</td>\n",
              "      <td>1.0</td>\n",
              "      <td>7.0</td>\n",
              "      <td>1.0</td>\n",
              "      <td>1.0</td>\n",
              "      <td>10.0</td>\n",
              "      <td>1.0</td>\n",
              "      <td>...</td>\n",
              "      <td>34.0</td>\n",
              "      <td>1.0</td>\n",
              "      <td>1.0</td>\n",
              "      <td>25.0</td>\n",
              "      <td>1.0</td>\n",
              "      <td>1</td>\n",
              "      <td>26.0</td>\n",
              "      <td>1.0</td>\n",
              "      <td>1.0</td>\n",
              "      <td>6.0</td>\n",
              "    </tr>\n",
              "    <tr>\n",
              "      <th>30</th>\n",
              "      <td>1.0</td>\n",
              "      <td>1.0</td>\n",
              "      <td>7.0</td>\n",
              "      <td>1.0</td>\n",
              "      <td>1.0</td>\n",
              "      <td>10.0</td>\n",
              "      <td>1.0</td>\n",
              "      <td>1.0</td>\n",
              "      <td>12.0</td>\n",
              "      <td>1.0</td>\n",
              "      <td>...</td>\n",
              "      <td>25.0</td>\n",
              "      <td>1.0</td>\n",
              "      <td>1.0</td>\n",
              "      <td>26.0</td>\n",
              "      <td>1.0</td>\n",
              "      <td>1</td>\n",
              "      <td>26.0</td>\n",
              "      <td>1.0</td>\n",
              "      <td>1.0</td>\n",
              "      <td>9.0</td>\n",
              "    </tr>\n",
              "    <tr>\n",
              "      <th>31</th>\n",
              "      <td>1.0</td>\n",
              "      <td>1.0</td>\n",
              "      <td>10.0</td>\n",
              "      <td>1.0</td>\n",
              "      <td>1.0</td>\n",
              "      <td>12.0</td>\n",
              "      <td>1.0</td>\n",
              "      <td>1.0</td>\n",
              "      <td>13.0</td>\n",
              "      <td>1.0</td>\n",
              "      <td>...</td>\n",
              "      <td>26.0</td>\n",
              "      <td>1.0</td>\n",
              "      <td>1.0</td>\n",
              "      <td>26.0</td>\n",
              "      <td>1.0</td>\n",
              "      <td>1</td>\n",
              "      <td>21.0</td>\n",
              "      <td>1.0</td>\n",
              "      <td>1.0</td>\n",
              "      <td>18.0</td>\n",
              "    </tr>\n",
              "    <tr>\n",
              "      <th>32</th>\n",
              "      <td>1.0</td>\n",
              "      <td>1.0</td>\n",
              "      <td>12.0</td>\n",
              "      <td>1.0</td>\n",
              "      <td>1.0</td>\n",
              "      <td>13.0</td>\n",
              "      <td>1.0</td>\n",
              "      <td>1.0</td>\n",
              "      <td>13.0</td>\n",
              "      <td>1.0</td>\n",
              "      <td>...</td>\n",
              "      <td>26.0</td>\n",
              "      <td>1.0</td>\n",
              "      <td>1.0</td>\n",
              "      <td>21.0</td>\n",
              "      <td>1.0</td>\n",
              "      <td>1</td>\n",
              "      <td>29.0</td>\n",
              "      <td>1.0</td>\n",
              "      <td>1.0</td>\n",
              "      <td>14.0</td>\n",
              "    </tr>\n",
              "    <tr>\n",
              "      <th>33</th>\n",
              "      <td>1.0</td>\n",
              "      <td>1.0</td>\n",
              "      <td>13.0</td>\n",
              "      <td>1.0</td>\n",
              "      <td>1.0</td>\n",
              "      <td>13.0</td>\n",
              "      <td>1.0</td>\n",
              "      <td>1.0</td>\n",
              "      <td>16.0</td>\n",
              "      <td>1.0</td>\n",
              "      <td>...</td>\n",
              "      <td>21.0</td>\n",
              "      <td>1.0</td>\n",
              "      <td>1.0</td>\n",
              "      <td>29.0</td>\n",
              "      <td>1.0</td>\n",
              "      <td>1</td>\n",
              "      <td>34.0</td>\n",
              "      <td>1.0</td>\n",
              "      <td>1.0</td>\n",
              "      <td>23.0</td>\n",
              "    </tr>\n",
              "  </tbody>\n",
              "</table>\n",
              "<p>5 rows × 93 columns</p>\n",
              "</div>\n",
              "      <button class=\"colab-df-convert\" onclick=\"convertToInteractive('df-7a9b749e-3b5f-4c75-a8be-e1af40433c1f')\"\n",
              "              title=\"Convert this dataframe to an interactive table.\"\n",
              "              style=\"display:none;\">\n",
              "        \n",
              "  <svg xmlns=\"http://www.w3.org/2000/svg\" height=\"24px\"viewBox=\"0 0 24 24\"\n",
              "       width=\"24px\">\n",
              "    <path d=\"M0 0h24v24H0V0z\" fill=\"none\"/>\n",
              "    <path d=\"M18.56 5.44l.94 2.06.94-2.06 2.06-.94-2.06-.94-.94-2.06-.94 2.06-2.06.94zm-11 1L8.5 8.5l.94-2.06 2.06-.94-2.06-.94L8.5 2.5l-.94 2.06-2.06.94zm10 10l.94 2.06.94-2.06 2.06-.94-2.06-.94-.94-2.06-.94 2.06-2.06.94z\"/><path d=\"M17.41 7.96l-1.37-1.37c-.4-.4-.92-.59-1.43-.59-.52 0-1.04.2-1.43.59L10.3 9.45l-7.72 7.72c-.78.78-.78 2.05 0 2.83L4 21.41c.39.39.9.59 1.41.59.51 0 1.02-.2 1.41-.59l7.78-7.78 2.81-2.81c.8-.78.8-2.07 0-2.86zM5.41 20L4 18.59l7.72-7.72 1.47 1.35L5.41 20z\"/>\n",
              "  </svg>\n",
              "      </button>\n",
              "      \n",
              "  <style>\n",
              "    .colab-df-container {\n",
              "      display:flex;\n",
              "      flex-wrap:wrap;\n",
              "      gap: 12px;\n",
              "    }\n",
              "\n",
              "    .colab-df-convert {\n",
              "      background-color: #E8F0FE;\n",
              "      border: none;\n",
              "      border-radius: 50%;\n",
              "      cursor: pointer;\n",
              "      display: none;\n",
              "      fill: #1967D2;\n",
              "      height: 32px;\n",
              "      padding: 0 0 0 0;\n",
              "      width: 32px;\n",
              "    }\n",
              "\n",
              "    .colab-df-convert:hover {\n",
              "      background-color: #E2EBFA;\n",
              "      box-shadow: 0px 1px 2px rgba(60, 64, 67, 0.3), 0px 1px 3px 1px rgba(60, 64, 67, 0.15);\n",
              "      fill: #174EA6;\n",
              "    }\n",
              "\n",
              "    [theme=dark] .colab-df-convert {\n",
              "      background-color: #3B4455;\n",
              "      fill: #D2E3FC;\n",
              "    }\n",
              "\n",
              "    [theme=dark] .colab-df-convert:hover {\n",
              "      background-color: #434B5C;\n",
              "      box-shadow: 0px 1px 3px 1px rgba(0, 0, 0, 0.15);\n",
              "      filter: drop-shadow(0px 1px 2px rgba(0, 0, 0, 0.3));\n",
              "      fill: #FFFFFF;\n",
              "    }\n",
              "  </style>\n",
              "\n",
              "      <script>\n",
              "        const buttonEl =\n",
              "          document.querySelector('#df-7a9b749e-3b5f-4c75-a8be-e1af40433c1f button.colab-df-convert');\n",
              "        buttonEl.style.display =\n",
              "          google.colab.kernel.accessAllowed ? 'block' : 'none';\n",
              "\n",
              "        async function convertToInteractive(key) {\n",
              "          const element = document.querySelector('#df-7a9b749e-3b5f-4c75-a8be-e1af40433c1f');\n",
              "          const dataTable =\n",
              "            await google.colab.kernel.invokeFunction('convertToInteractive',\n",
              "                                                     [key], {});\n",
              "          if (!dataTable) return;\n",
              "\n",
              "          const docLinkHtml = 'Like what you see? Visit the ' +\n",
              "            '<a target=\"_blank\" href=https://colab.research.google.com/notebooks/data_table.ipynb>data table notebook</a>'\n",
              "            + ' to learn more about interactive tables.';\n",
              "          element.innerHTML = '';\n",
              "          dataTable['output_type'] = 'display_data';\n",
              "          await google.colab.output.renderOutput(dataTable, element);\n",
              "          const docLink = document.createElement('div');\n",
              "          docLink.innerHTML = docLinkHtml;\n",
              "          element.appendChild(docLink);\n",
              "        }\n",
              "      </script>\n",
              "    </div>\n",
              "  </div>\n",
              "  "
            ]
          },
          "metadata": {},
          "execution_count": 20
        }
      ],
      "source": [
        "window = 29\n",
        "lag = lag_size\n",
        "series = series_to_supervised(train_gp.drop('date', axis=1), window=window, lag=lag)\n",
        "series.head()"
      ]
    },
    {
      "cell_type": "markdown",
      "metadata": {
        "id": "1fhDqYv_2SEP"
      },
      "source": [
        "drop items other than the shifted"
      ]
    },
    {
      "cell_type": "code",
      "execution_count": null,
      "metadata": {
        "id": "x7E0_xmc2UhV"
      },
      "outputs": [],
      "source": [
        "last_item = 'item(t-%d)' % window\n",
        "last_store = 'store(t-%d)' % window\n",
        "series = series[(series['store(t)'] == series[last_store])]\n",
        "series = series[(series['item(t)'] == series[last_item])]"
      ]
    },
    {
      "cell_type": "markdown",
      "metadata": {
        "id": "jf3xvHdi2ZrS"
      },
      "source": [
        "Remove unwanted columns\n"
      ]
    },
    {
      "cell_type": "code",
      "execution_count": null,
      "metadata": {
        "id": "cKTKWEnt2csR"
      },
      "outputs": [],
      "source": [
        "columns_to_drop = [('%s(t+%d)' % (col, lag)) for col in ['item', 'store']]\n",
        "for i in range(window, 0, -1):\n",
        "    columns_to_drop += [('%s(t-%d)' % (col, i)) for col in ['item', 'store']]\n",
        "series.drop(columns_to_drop, axis=1, inplace=True)\n",
        "series.drop(['item(t)', 'store(t)'], axis=1, inplace=True)"
      ]
    },
    {
      "cell_type": "markdown",
      "metadata": {
        "id": "DneoROeb2iNC"
      },
      "source": [
        "train validation split"
      ]
    },
    {
      "cell_type": "code",
      "execution_count": null,
      "metadata": {
        "colab": {
          "base_uri": "https://localhost:8080/",
          "height": 351
        },
        "id": "VXaXzOcp2kJh",
        "outputId": "5b6060c7-6907-4ab8-be0d-70fcfdfce852"
      },
      "outputs": [
        {
          "output_type": "stream",
          "name": "stdout",
          "text": [
            "Train set shape (10716, 30)\n",
            "Validation set shape (7144, 30)\n"
          ]
        },
        {
          "output_type": "execute_result",
          "data": {
            "text/plain": [
              "       sales(t-29)  sales(t-28)  sales(t-27)  sales(t-26)  sales(t-25)  \\\n",
              "3617          22.0         14.0         13.0         14.0         13.0   \n",
              "7582          84.0         54.0         70.0        100.0         38.0   \n",
              "897           26.0         19.0         11.0         17.0         23.0   \n",
              "5845          23.0         22.0         12.0         30.0         18.0   \n",
              "10825        115.0         75.0         75.0        100.0         70.0   \n",
              "\n",
              "       sales(t-24)  sales(t-23)  sales(t-22)  sales(t-21)  sales(t-20)  ...  \\\n",
              "3617          12.0         25.0         13.0         17.0         15.0  ...   \n",
              "7582          68.0         68.0         79.0         79.0         67.0  ...   \n",
              "897           23.0         20.0         29.0         17.0         27.0  ...   \n",
              "5845          15.0         10.0         31.0         18.0         13.0  ...   \n",
              "10825         78.0         51.0         78.0         67.0         86.0  ...   \n",
              "\n",
              "       sales(t-9)  sales(t-8)  sales(t-7)  sales(t-6)  sales(t-5)  sales(t-4)  \\\n",
              "3617         12.0         8.0         6.0         7.0         6.0        17.0   \n",
              "7582         35.0        48.0        54.0        52.0        48.0        48.0   \n",
              "897          25.0        37.0        41.0        32.0        30.0        33.0   \n",
              "5845         28.0        31.0        35.0        20.0        21.0        31.0   \n",
              "10825        72.0        38.0        56.0        38.0        64.0        72.0   \n",
              "\n",
              "       sales(t-3)  sales(t-2)  sales(t-1)  sales(t)  \n",
              "3617         25.0         8.0        11.0      20.0  \n",
              "7582         56.0        50.0        53.0      64.0  \n",
              "897          58.0        43.0        33.0      45.0  \n",
              "5845         31.0        38.0        22.0      20.0  \n",
              "10825        40.0        42.0        54.0      66.0  \n",
              "\n",
              "[5 rows x 30 columns]"
            ],
            "text/html": [
              "\n",
              "  <div id=\"df-38f108da-7e01-459b-ae9b-e0d7da18f822\">\n",
              "    <div class=\"colab-df-container\">\n",
              "      <div>\n",
              "<style scoped>\n",
              "    .dataframe tbody tr th:only-of-type {\n",
              "        vertical-align: middle;\n",
              "    }\n",
              "\n",
              "    .dataframe tbody tr th {\n",
              "        vertical-align: top;\n",
              "    }\n",
              "\n",
              "    .dataframe thead th {\n",
              "        text-align: right;\n",
              "    }\n",
              "</style>\n",
              "<table border=\"1\" class=\"dataframe\">\n",
              "  <thead>\n",
              "    <tr style=\"text-align: right;\">\n",
              "      <th></th>\n",
              "      <th>sales(t-29)</th>\n",
              "      <th>sales(t-28)</th>\n",
              "      <th>sales(t-27)</th>\n",
              "      <th>sales(t-26)</th>\n",
              "      <th>sales(t-25)</th>\n",
              "      <th>sales(t-24)</th>\n",
              "      <th>sales(t-23)</th>\n",
              "      <th>sales(t-22)</th>\n",
              "      <th>sales(t-21)</th>\n",
              "      <th>sales(t-20)</th>\n",
              "      <th>...</th>\n",
              "      <th>sales(t-9)</th>\n",
              "      <th>sales(t-8)</th>\n",
              "      <th>sales(t-7)</th>\n",
              "      <th>sales(t-6)</th>\n",
              "      <th>sales(t-5)</th>\n",
              "      <th>sales(t-4)</th>\n",
              "      <th>sales(t-3)</th>\n",
              "      <th>sales(t-2)</th>\n",
              "      <th>sales(t-1)</th>\n",
              "      <th>sales(t)</th>\n",
              "    </tr>\n",
              "  </thead>\n",
              "  <tbody>\n",
              "    <tr>\n",
              "      <th>3617</th>\n",
              "      <td>22.0</td>\n",
              "      <td>14.0</td>\n",
              "      <td>13.0</td>\n",
              "      <td>14.0</td>\n",
              "      <td>13.0</td>\n",
              "      <td>12.0</td>\n",
              "      <td>25.0</td>\n",
              "      <td>13.0</td>\n",
              "      <td>17.0</td>\n",
              "      <td>15.0</td>\n",
              "      <td>...</td>\n",
              "      <td>12.0</td>\n",
              "      <td>8.0</td>\n",
              "      <td>6.0</td>\n",
              "      <td>7.0</td>\n",
              "      <td>6.0</td>\n",
              "      <td>17.0</td>\n",
              "      <td>25.0</td>\n",
              "      <td>8.0</td>\n",
              "      <td>11.0</td>\n",
              "      <td>20.0</td>\n",
              "    </tr>\n",
              "    <tr>\n",
              "      <th>7582</th>\n",
              "      <td>84.0</td>\n",
              "      <td>54.0</td>\n",
              "      <td>70.0</td>\n",
              "      <td>100.0</td>\n",
              "      <td>38.0</td>\n",
              "      <td>68.0</td>\n",
              "      <td>68.0</td>\n",
              "      <td>79.0</td>\n",
              "      <td>79.0</td>\n",
              "      <td>67.0</td>\n",
              "      <td>...</td>\n",
              "      <td>35.0</td>\n",
              "      <td>48.0</td>\n",
              "      <td>54.0</td>\n",
              "      <td>52.0</td>\n",
              "      <td>48.0</td>\n",
              "      <td>48.0</td>\n",
              "      <td>56.0</td>\n",
              "      <td>50.0</td>\n",
              "      <td>53.0</td>\n",
              "      <td>64.0</td>\n",
              "    </tr>\n",
              "    <tr>\n",
              "      <th>897</th>\n",
              "      <td>26.0</td>\n",
              "      <td>19.0</td>\n",
              "      <td>11.0</td>\n",
              "      <td>17.0</td>\n",
              "      <td>23.0</td>\n",
              "      <td>23.0</td>\n",
              "      <td>20.0</td>\n",
              "      <td>29.0</td>\n",
              "      <td>17.0</td>\n",
              "      <td>27.0</td>\n",
              "      <td>...</td>\n",
              "      <td>25.0</td>\n",
              "      <td>37.0</td>\n",
              "      <td>41.0</td>\n",
              "      <td>32.0</td>\n",
              "      <td>30.0</td>\n",
              "      <td>33.0</td>\n",
              "      <td>58.0</td>\n",
              "      <td>43.0</td>\n",
              "      <td>33.0</td>\n",
              "      <td>45.0</td>\n",
              "    </tr>\n",
              "    <tr>\n",
              "      <th>5845</th>\n",
              "      <td>23.0</td>\n",
              "      <td>22.0</td>\n",
              "      <td>12.0</td>\n",
              "      <td>30.0</td>\n",
              "      <td>18.0</td>\n",
              "      <td>15.0</td>\n",
              "      <td>10.0</td>\n",
              "      <td>31.0</td>\n",
              "      <td>18.0</td>\n",
              "      <td>13.0</td>\n",
              "      <td>...</td>\n",
              "      <td>28.0</td>\n",
              "      <td>31.0</td>\n",
              "      <td>35.0</td>\n",
              "      <td>20.0</td>\n",
              "      <td>21.0</td>\n",
              "      <td>31.0</td>\n",
              "      <td>31.0</td>\n",
              "      <td>38.0</td>\n",
              "      <td>22.0</td>\n",
              "      <td>20.0</td>\n",
              "    </tr>\n",
              "    <tr>\n",
              "      <th>10825</th>\n",
              "      <td>115.0</td>\n",
              "      <td>75.0</td>\n",
              "      <td>75.0</td>\n",
              "      <td>100.0</td>\n",
              "      <td>70.0</td>\n",
              "      <td>78.0</td>\n",
              "      <td>51.0</td>\n",
              "      <td>78.0</td>\n",
              "      <td>67.0</td>\n",
              "      <td>86.0</td>\n",
              "      <td>...</td>\n",
              "      <td>72.0</td>\n",
              "      <td>38.0</td>\n",
              "      <td>56.0</td>\n",
              "      <td>38.0</td>\n",
              "      <td>64.0</td>\n",
              "      <td>72.0</td>\n",
              "      <td>40.0</td>\n",
              "      <td>42.0</td>\n",
              "      <td>54.0</td>\n",
              "      <td>66.0</td>\n",
              "    </tr>\n",
              "  </tbody>\n",
              "</table>\n",
              "<p>5 rows × 30 columns</p>\n",
              "</div>\n",
              "      <button class=\"colab-df-convert\" onclick=\"convertToInteractive('df-38f108da-7e01-459b-ae9b-e0d7da18f822')\"\n",
              "              title=\"Convert this dataframe to an interactive table.\"\n",
              "              style=\"display:none;\">\n",
              "        \n",
              "  <svg xmlns=\"http://www.w3.org/2000/svg\" height=\"24px\"viewBox=\"0 0 24 24\"\n",
              "       width=\"24px\">\n",
              "    <path d=\"M0 0h24v24H0V0z\" fill=\"none\"/>\n",
              "    <path d=\"M18.56 5.44l.94 2.06.94-2.06 2.06-.94-2.06-.94-.94-2.06-.94 2.06-2.06.94zm-11 1L8.5 8.5l.94-2.06 2.06-.94-2.06-.94L8.5 2.5l-.94 2.06-2.06.94zm10 10l.94 2.06.94-2.06 2.06-.94-2.06-.94-.94-2.06-.94 2.06-2.06.94z\"/><path d=\"M17.41 7.96l-1.37-1.37c-.4-.4-.92-.59-1.43-.59-.52 0-1.04.2-1.43.59L10.3 9.45l-7.72 7.72c-.78.78-.78 2.05 0 2.83L4 21.41c.39.39.9.59 1.41.59.51 0 1.02-.2 1.41-.59l7.78-7.78 2.81-2.81c.8-.78.8-2.07 0-2.86zM5.41 20L4 18.59l7.72-7.72 1.47 1.35L5.41 20z\"/>\n",
              "  </svg>\n",
              "      </button>\n",
              "      \n",
              "  <style>\n",
              "    .colab-df-container {\n",
              "      display:flex;\n",
              "      flex-wrap:wrap;\n",
              "      gap: 12px;\n",
              "    }\n",
              "\n",
              "    .colab-df-convert {\n",
              "      background-color: #E8F0FE;\n",
              "      border: none;\n",
              "      border-radius: 50%;\n",
              "      cursor: pointer;\n",
              "      display: none;\n",
              "      fill: #1967D2;\n",
              "      height: 32px;\n",
              "      padding: 0 0 0 0;\n",
              "      width: 32px;\n",
              "    }\n",
              "\n",
              "    .colab-df-convert:hover {\n",
              "      background-color: #E2EBFA;\n",
              "      box-shadow: 0px 1px 2px rgba(60, 64, 67, 0.3), 0px 1px 3px 1px rgba(60, 64, 67, 0.15);\n",
              "      fill: #174EA6;\n",
              "    }\n",
              "\n",
              "    [theme=dark] .colab-df-convert {\n",
              "      background-color: #3B4455;\n",
              "      fill: #D2E3FC;\n",
              "    }\n",
              "\n",
              "    [theme=dark] .colab-df-convert:hover {\n",
              "      background-color: #434B5C;\n",
              "      box-shadow: 0px 1px 3px 1px rgba(0, 0, 0, 0.15);\n",
              "      filter: drop-shadow(0px 1px 2px rgba(0, 0, 0, 0.3));\n",
              "      fill: #FFFFFF;\n",
              "    }\n",
              "  </style>\n",
              "\n",
              "      <script>\n",
              "        const buttonEl =\n",
              "          document.querySelector('#df-38f108da-7e01-459b-ae9b-e0d7da18f822 button.colab-df-convert');\n",
              "        buttonEl.style.display =\n",
              "          google.colab.kernel.accessAllowed ? 'block' : 'none';\n",
              "\n",
              "        async function convertToInteractive(key) {\n",
              "          const element = document.querySelector('#df-38f108da-7e01-459b-ae9b-e0d7da18f822');\n",
              "          const dataTable =\n",
              "            await google.colab.kernel.invokeFunction('convertToInteractive',\n",
              "                                                     [key], {});\n",
              "          if (!dataTable) return;\n",
              "\n",
              "          const docLinkHtml = 'Like what you see? Visit the ' +\n",
              "            '<a target=\"_blank\" href=https://colab.research.google.com/notebooks/data_table.ipynb>data table notebook</a>'\n",
              "            + ' to learn more about interactive tables.';\n",
              "          element.innerHTML = '';\n",
              "          dataTable['output_type'] = 'display_data';\n",
              "          await google.colab.output.renderOutput(dataTable, element);\n",
              "          const docLink = document.createElement('div');\n",
              "          docLink.innerHTML = docLinkHtml;\n",
              "          element.appendChild(docLink);\n",
              "        }\n",
              "      </script>\n",
              "    </div>\n",
              "  </div>\n",
              "  "
            ]
          },
          "metadata": {},
          "execution_count": 23
        }
      ],
      "source": [
        "labels_col = 'sales(t+%d)' % lag_size\n",
        "labels = series[labels_col]\n",
        "series = series.drop(labels_col, axis=1)\n",
        "\n",
        "X_train, X_valid, Y_train, Y_valid = train_test_split(series, labels.values, test_size=0.4, random_state=0)\n",
        "print('Train set shape', X_train.shape)\n",
        "print('Validation set shape', X_valid.shape)\n",
        "X_train.head()"
      ]
    },
    {
      "cell_type": "code",
      "execution_count": null,
      "metadata": {
        "id": "3faEtpfz2klh"
      },
      "outputs": [],
      "source": [
        "from keras import optimizers\n",
        "epochs = 100\n",
        "batch = 96\n",
        "lr = 0.001"
      ]
    },
    {
      "cell_type": "markdown",
      "metadata": {
        "id": "bBQ6LqMF2r12"
      },
      "source": [
        "for cnn parameters(samples,timesteps,features)"
      ]
    },
    {
      "cell_type": "code",
      "execution_count": null,
      "metadata": {
        "colab": {
          "base_uri": "https://localhost:8080/"
        },
        "id": "NWe28gtK2sv1",
        "outputId": "fcdd6fc2-0d5e-4285-fa9a-112c909bc18a"
      },
      "outputs": [
        {
          "output_type": "stream",
          "name": "stdout",
          "text": [
            "Train set shape (10716, 30, 1)\n",
            "Validation set shape (7144, 30, 1)\n"
          ]
        }
      ],
      "source": [
        "X_train_series = X_train.values.reshape((X_train.shape[0], X_train.shape[1], 1))\n",
        "X_valid_series = X_valid.values.reshape((X_valid.shape[0], X_valid.shape[1], 1))\n",
        "print('Train set shape', X_train_series.shape)\n",
        "print('Validation set shape', X_valid_series.shape)"
      ]
    },
    {
      "cell_type": "code",
      "execution_count": null,
      "metadata": {
        "colab": {
          "base_uri": "https://localhost:8080/"
        },
        "id": "_eE3X8jk2teF",
        "outputId": "56a100fd-c69d-4377-aa14-8d03131337cc"
      },
      "outputs": [
        {
          "output_type": "stream",
          "name": "stdout",
          "text": [
            "Model: \"sequential_10\"\n",
            "_________________________________________________________________\n",
            " Layer (type)                Output Shape              Param #   \n",
            "=================================================================\n",
            " conv1d_6 (Conv1D)           (None, 29, 256)           768       \n",
            "                                                                 \n",
            " max_pooling1d_6 (MaxPooling  (None, 14, 256)          0         \n",
            " 1D)                                                             \n",
            "                                                                 \n",
            " flatten_6 (Flatten)         (None, 3584)              0         \n",
            "                                                                 \n",
            " dense_12 (Dense)            (None, 50)                179250    \n",
            "                                                                 \n",
            " dropout_3 (Dropout)         (None, 50)                0         \n",
            "                                                                 \n",
            " dense_13 (Dense)            (None, 1)                 51        \n",
            "                                                                 \n",
            "=================================================================\n",
            "Total params: 180,069\n",
            "Trainable params: 180,069\n",
            "Non-trainable params: 0\n",
            "_________________________________________________________________\n"
          ]
        }
      ],
      "source": [
        "from keras.models import Sequential\n",
        "from keras.layers import Conv1D, MaxPooling1D, Flatten, Dense, LSTM, Dropout, Reshape, TimeDistributed\n",
        "from keras import optimizers\n",
        "\n",
        "\n",
        "model_cnn = Sequential()\n",
        "model_cnn.add(Conv1D(filters=256, kernel_size=2, activation='relu', input_shape=(X_train_series.shape[1], X_train_series.shape[2])))\n",
        "model_cnn.add(MaxPooling1D(pool_size=2))\n",
        "model_cnn.add(Flatten())\n",
        "model_cnn.add(Dense(50, activation='relu'))\n",
        "model_cnn.add(Dropout(0.25))\n",
        "model_cnn.add(Dense(1))\n",
        "\n",
        "\n",
        "from tensorflow_addons.optimizers import LazyAdam\n",
        "opt = LazyAdam(lr)\n",
        "model_cnn.compile(loss='mse', optimizer=opt)\n",
        "model_cnn.summary()"
      ]
    },
    {
      "cell_type": "code",
      "source": [],
      "metadata": {
        "id": "euwiT19bH3qA"
      },
      "execution_count": null,
      "outputs": []
    },
    {
      "cell_type": "code",
      "source": [],
      "metadata": {
        "id": "CIEjYofgH4SC"
      },
      "execution_count": null,
      "outputs": []
    },
    {
      "cell_type": "code",
      "source": [],
      "metadata": {
        "id": "uIwvfHkBHzLk"
      },
      "execution_count": null,
      "outputs": []
    },
    {
      "cell_type": "markdown",
      "metadata": {
        "id": "P-syH7Iw2_Pu"
      },
      "source": [
        "\n",
        "\n",
        "\n",
        "Lstm"
      ]
    },
    {
      "cell_type": "code",
      "execution_count": null,
      "metadata": {
        "colab": {
          "base_uri": "https://localhost:8080/"
        },
        "id": "EPdmdn5d3AId",
        "outputId": "34f9d681-57d2-40b2-ce77-aac2aa6a15b3"
      },
      "outputs": [
        {
          "output_type": "stream",
          "name": "stdout",
          "text": [
            "Model: \"sequential_11\"\n",
            "_________________________________________________________________\n",
            " Layer (type)                Output Shape              Param #   \n",
            "=================================================================\n",
            " lstm_6 (LSTM)               (None, 100)               40800     \n",
            "                                                                 \n",
            " dense_14 (Dense)            (None, 1)                 101       \n",
            "                                                                 \n",
            "=================================================================\n",
            "Total params: 40,901\n",
            "Trainable params: 40,901\n",
            "Non-trainable params: 0\n",
            "_________________________________________________________________\n"
          ]
        }
      ],
      "source": [
        "\n",
        "model_lstm = Sequential()\n",
        "model_lstm.add(LSTM(100, activation='relu', input_shape=(X_train_series.shape[1], X_train_series.shape[2])))\n",
        "model_lstm.add(Dense(1))\n",
        "\n",
        "from tensorflow_addons.optimizers import LazyAdam\n",
        "opt = LazyAdam(lr)\n",
        "model_cnn.compile(loss='mse', optimizer=opt)\n",
        "model_lstm.summary()"
      ]
    },
    {
      "cell_type": "markdown",
      "metadata": {
        "id": "YIwL_O933Dy2"
      },
      "source": [
        "CNN-LSTM [sample,subsequences,timesteps,features]"
      ]
    },
    {
      "cell_type": "code",
      "execution_count": null,
      "metadata": {
        "colab": {
          "base_uri": "https://localhost:8080/"
        },
        "id": "6M9HIsAo3NGs",
        "outputId": "adc6b771-8ba5-4ad6-83e9-4e2caa9cb02e"
      },
      "outputs": [
        {
          "output_type": "stream",
          "name": "stdout",
          "text": [
            "Train set shape (10716, 2, 15, 1)\n",
            "Validation set shape (7144, 2, 15, 1)\n"
          ]
        }
      ],
      "source": [
        "subsequences = 2\n",
        "timesteps = X_train_series.shape[1]//subsequences\n",
        "X_train_series_sub = X_train_series.reshape((X_train_series.shape[0], subsequences, timesteps, 1))\n",
        "X_valid_series_sub = X_valid_series.reshape((X_valid_series.shape[0], subsequences, timesteps, 1))\n",
        "print('Train set shape', X_train_series_sub.shape)\n",
        "print('Validation set shape', X_valid_series_sub.shape)"
      ]
    },
    {
      "cell_type": "code",
      "execution_count": null,
      "metadata": {
        "id": "kHnfLtxx3Qot"
      },
      "outputs": [],
      "source": [
        "model_cnn_lstm = Sequential()\n",
        "model_cnn_lstm.add(TimeDistributed(Conv1D(filters=128, kernel_size=1, activation='relu'), input_shape=(None, X_train_series_sub.shape[2], X_train_series_sub.shape[3])))\n",
        "model_cnn_lstm.add(TimeDistributed(MaxPooling1D(pool_size=2)))\n",
        "model_cnn_lstm.add(TimeDistributed(Flatten()))\n",
        "model_cnn_lstm.add(LSTM(50, activation='relu'))\n",
        "model_cnn_lstm.add(Dense(1))\n",
        "model_cnn_lstm.compile(loss='mse', optimizer='adam')\n",
        "model_cnn_lstm.compile(loss='mse', optimizer= tfa.optimizers.LazyAdam())"
      ]
    },
    {
      "cell_type": "code",
      "execution_count": null,
      "metadata": {
        "colab": {
          "base_uri": "https://localhost:8080/"
        },
        "id": "uVKZdXqh3UuM",
        "outputId": "44adaec7-057e-48cc-9252-3d7908d85990"
      },
      "outputs": [
        {
          "output_type": "stream",
          "name": "stdout",
          "text": [
            "Epoch 1/100\n",
            "335/335 - 6s - loss: 178.1123 - val_loss: 163.9176 - 6s/epoch - 19ms/step\n",
            "Epoch 2/100\n",
            "335/335 - 4s - loss: 160.5930 - val_loss: 175.5550 - 4s/epoch - 11ms/step\n",
            "Epoch 3/100\n",
            "335/335 - 6s - loss: 159.2643 - val_loss: 158.2858 - 6s/epoch - 17ms/step\n",
            "Epoch 4/100\n",
            "335/335 - 4s - loss: 156.5166 - val_loss: 161.9154 - 4s/epoch - 13ms/step\n",
            "Epoch 5/100\n",
            "335/335 - 4s - loss: 157.0008 - val_loss: 156.4359 - 4s/epoch - 11ms/step\n",
            "Epoch 6/100\n",
            "335/335 - 4s - loss: 156.9371 - val_loss: 158.3882 - 4s/epoch - 13ms/step\n",
            "Epoch 7/100\n",
            "335/335 - 6s - loss: 155.4548 - val_loss: 156.7883 - 6s/epoch - 18ms/step\n",
            "Epoch 8/100\n",
            "335/335 - 4s - loss: 154.0630 - val_loss: 157.9311 - 4s/epoch - 12ms/step\n",
            "Epoch 9/100\n",
            "335/335 - 4s - loss: 153.9579 - val_loss: 158.5233 - 4s/epoch - 13ms/step\n",
            "Epoch 10/100\n",
            "335/335 - 6s - loss: 153.0374 - val_loss: 156.0332 - 6s/epoch - 17ms/step\n",
            "Epoch 11/100\n",
            "335/335 - 5s - loss: 154.0774 - val_loss: 156.4204 - 5s/epoch - 14ms/step\n",
            "Epoch 12/100\n",
            "335/335 - 4s - loss: 155.7109 - val_loss: 158.7415 - 4s/epoch - 13ms/step\n",
            "Epoch 13/100\n",
            "335/335 - 5s - loss: 153.8706 - val_loss: 156.0078 - 5s/epoch - 14ms/step\n",
            "Epoch 14/100\n",
            "335/335 - 6s - loss: 155.6616 - val_loss: 172.0100 - 6s/epoch - 17ms/step\n",
            "Epoch 15/100\n",
            "335/335 - 4s - loss: 153.6086 - val_loss: 158.1708 - 4s/epoch - 11ms/step\n",
            "Epoch 16/100\n",
            "335/335 - 4s - loss: 154.8802 - val_loss: 155.7746 - 4s/epoch - 12ms/step\n",
            "Epoch 17/100\n",
            "335/335 - 6s - loss: 154.0320 - val_loss: 156.9196 - 6s/epoch - 17ms/step\n",
            "Epoch 18/100\n",
            "335/335 - 4s - loss: 154.2857 - val_loss: 163.2231 - 4s/epoch - 12ms/step\n",
            "Epoch 19/100\n",
            "335/335 - 4s - loss: 153.1465 - val_loss: 157.1376 - 4s/epoch - 11ms/step\n",
            "Epoch 20/100\n",
            "335/335 - 4s - loss: 153.5788 - val_loss: 155.5313 - 4s/epoch - 12ms/step\n",
            "Epoch 21/100\n",
            "335/335 - 6s - loss: 153.7763 - val_loss: 155.8287 - 6s/epoch - 19ms/step\n",
            "Epoch 22/100\n",
            "335/335 - 4s - loss: 153.7330 - val_loss: 156.1641 - 4s/epoch - 13ms/step\n",
            "Epoch 23/100\n",
            "335/335 - 4s - loss: 152.5339 - val_loss: 155.4936 - 4s/epoch - 13ms/step\n",
            "Epoch 24/100\n",
            "335/335 - 6s - loss: 152.7630 - val_loss: 155.3719 - 6s/epoch - 17ms/step\n",
            "Epoch 25/100\n",
            "335/335 - 4s - loss: 152.1479 - val_loss: 156.4909 - 4s/epoch - 12ms/step\n",
            "Epoch 26/100\n",
            "335/335 - 4s - loss: 153.0474 - val_loss: 156.0323 - 4s/epoch - 13ms/step\n",
            "Epoch 27/100\n",
            "335/335 - 5s - loss: 152.7783 - val_loss: 160.7280 - 5s/epoch - 16ms/step\n",
            "Epoch 28/100\n",
            "335/335 - 5s - loss: 152.5751 - val_loss: 155.2590 - 5s/epoch - 16ms/step\n",
            "Epoch 29/100\n",
            "335/335 - 4s - loss: 152.4439 - val_loss: 155.6953 - 4s/epoch - 13ms/step\n",
            "Epoch 30/100\n",
            "335/335 - 4s - loss: 151.8042 - val_loss: 155.4821 - 4s/epoch - 13ms/step\n",
            "Epoch 31/100\n",
            "335/335 - 6s - loss: 152.4954 - val_loss: 155.9957 - 6s/epoch - 18ms/step\n",
            "Epoch 32/100\n",
            "335/335 - 4s - loss: 152.9600 - val_loss: 155.4904 - 4s/epoch - 11ms/step\n",
            "Epoch 33/100\n",
            "335/335 - 4s - loss: 151.6778 - val_loss: 156.0802 - 4s/epoch - 12ms/step\n",
            "Epoch 34/100\n",
            "335/335 - 8s - loss: 152.3393 - val_loss: 155.4900 - 8s/epoch - 24ms/step\n",
            "Epoch 35/100\n",
            "335/335 - 4s - loss: 152.8876 - val_loss: 156.5320 - 4s/epoch - 13ms/step\n",
            "Epoch 36/100\n",
            "335/335 - 4s - loss: 152.4691 - val_loss: 155.4371 - 4s/epoch - 13ms/step\n",
            "Epoch 37/100\n",
            "335/335 - 6s - loss: 152.2555 - val_loss: 155.3926 - 6s/epoch - 17ms/step\n",
            "Epoch 38/100\n",
            "335/335 - 4s - loss: 153.2632 - val_loss: 155.3908 - 4s/epoch - 12ms/step\n",
            "Epoch 39/100\n",
            "335/335 - 4s - loss: 151.9350 - val_loss: 156.5602 - 4s/epoch - 11ms/step\n",
            "Epoch 40/100\n",
            "335/335 - 4s - loss: 152.1956 - val_loss: 155.1674 - 4s/epoch - 12ms/step\n",
            "Epoch 41/100\n",
            "335/335 - 6s - loss: 152.6677 - val_loss: 155.1677 - 6s/epoch - 17ms/step\n",
            "Epoch 42/100\n",
            "335/335 - 4s - loss: 151.9412 - val_loss: 155.1873 - 4s/epoch - 13ms/step\n",
            "Epoch 43/100\n",
            "335/335 - 4s - loss: 151.7412 - val_loss: 155.6730 - 4s/epoch - 13ms/step\n",
            "Epoch 44/100\n",
            "335/335 - 5s - loss: 152.0507 - val_loss: 155.6530 - 5s/epoch - 14ms/step\n",
            "Epoch 45/100\n",
            "335/335 - 3s - loss: 152.4963 - val_loss: 159.9813 - 3s/epoch - 10ms/step\n",
            "Epoch 46/100\n",
            "335/335 - 4s - loss: 152.2529 - val_loss: 155.6666 - 4s/epoch - 11ms/step\n",
            "Epoch 47/100\n",
            "335/335 - 5s - loss: 152.5297 - val_loss: 155.3978 - 5s/epoch - 14ms/step\n",
            "Epoch 48/100\n",
            "335/335 - 5s - loss: 151.8268 - val_loss: 155.0692 - 5s/epoch - 15ms/step\n",
            "Epoch 49/100\n",
            "335/335 - 4s - loss: 151.7833 - val_loss: 155.1799 - 4s/epoch - 13ms/step\n",
            "Epoch 50/100\n",
            "335/335 - 4s - loss: 152.1582 - val_loss: 158.1577 - 4s/epoch - 13ms/step\n",
            "Epoch 51/100\n",
            "335/335 - 4s - loss: 152.1689 - val_loss: 154.9583 - 4s/epoch - 12ms/step\n",
            "Epoch 52/100\n",
            "335/335 - 4s - loss: 151.9879 - val_loss: 155.2149 - 4s/epoch - 13ms/step\n",
            "Epoch 53/100\n",
            "335/335 - 4s - loss: 152.0912 - val_loss: 156.5624 - 4s/epoch - 12ms/step\n",
            "Epoch 54/100\n",
            "335/335 - 5s - loss: 151.3817 - val_loss: 156.6395 - 5s/epoch - 16ms/step\n",
            "Epoch 55/100\n",
            "335/335 - 3s - loss: 151.9129 - val_loss: 154.7727 - 3s/epoch - 10ms/step\n",
            "Epoch 56/100\n",
            "335/335 - 4s - loss: 152.1846 - val_loss: 158.9669 - 4s/epoch - 12ms/step\n",
            "Epoch 57/100\n",
            "335/335 - 6s - loss: 152.0029 - val_loss: 155.2252 - 6s/epoch - 17ms/step\n",
            "Epoch 58/100\n",
            "335/335 - 4s - loss: 151.9308 - val_loss: 156.0447 - 4s/epoch - 13ms/step\n",
            "Epoch 59/100\n",
            "335/335 - 3s - loss: 151.5350 - val_loss: 160.8181 - 3s/epoch - 10ms/step\n",
            "Epoch 60/100\n",
            "335/335 - 5s - loss: 151.7508 - val_loss: 156.6042 - 5s/epoch - 15ms/step\n",
            "Epoch 61/100\n",
            "335/335 - 4s - loss: 151.6064 - val_loss: 156.9528 - 4s/epoch - 13ms/step\n",
            "Epoch 62/100\n",
            "335/335 - 3s - loss: 151.7239 - val_loss: 158.9201 - 3s/epoch - 10ms/step\n",
            "Epoch 63/100\n",
            "335/335 - 5s - loss: 151.6184 - val_loss: 155.3637 - 5s/epoch - 15ms/step\n",
            "Epoch 64/100\n",
            "335/335 - 4s - loss: 151.7267 - val_loss: 154.6008 - 4s/epoch - 12ms/step\n",
            "Epoch 65/100\n",
            "335/335 - 4s - loss: 151.3749 - val_loss: 162.5125 - 4s/epoch - 12ms/step\n",
            "Epoch 66/100\n",
            "335/335 - 5s - loss: 152.1227 - val_loss: 155.1840 - 5s/epoch - 14ms/step\n",
            "Epoch 67/100\n",
            "335/335 - 4s - loss: 151.4087 - val_loss: 154.6531 - 4s/epoch - 11ms/step\n",
            "Epoch 68/100\n",
            "335/335 - 3s - loss: 151.5007 - val_loss: 155.9735 - 3s/epoch - 10ms/step\n",
            "Epoch 69/100\n",
            "335/335 - 4s - loss: 151.4017 - val_loss: 154.8895 - 4s/epoch - 12ms/step\n",
            "Epoch 70/100\n",
            "335/335 - 5s - loss: 151.3391 - val_loss: 155.1896 - 5s/epoch - 14ms/step\n",
            "Epoch 71/100\n",
            "335/335 - 4s - loss: 151.7767 - val_loss: 166.6465 - 4s/epoch - 11ms/step\n",
            "Epoch 72/100\n",
            "335/335 - 4s - loss: 151.9861 - val_loss: 154.6518 - 4s/epoch - 11ms/step\n",
            "Epoch 73/100\n",
            "335/335 - 5s - loss: 151.5994 - val_loss: 155.1102 - 5s/epoch - 16ms/step\n",
            "Epoch 74/100\n",
            "335/335 - 4s - loss: 151.6022 - val_loss: 155.1381 - 4s/epoch - 11ms/step\n",
            "Epoch 75/100\n",
            "335/335 - 4s - loss: 151.7419 - val_loss: 154.4072 - 4s/epoch - 12ms/step\n",
            "Epoch 76/100\n",
            "335/335 - 5s - loss: 152.2078 - val_loss: 161.0455 - 5s/epoch - 15ms/step\n",
            "Epoch 77/100\n",
            "335/335 - 4s - loss: 151.5590 - val_loss: 159.3347 - 4s/epoch - 11ms/step\n",
            "Epoch 78/100\n",
            "335/335 - 3s - loss: 151.3493 - val_loss: 157.1603 - 3s/epoch - 10ms/step\n",
            "Epoch 79/100\n",
            "335/335 - 4s - loss: 151.5358 - val_loss: 156.4574 - 4s/epoch - 12ms/step\n",
            "Epoch 80/100\n",
            "335/335 - 5s - loss: 150.5970 - val_loss: 154.3862 - 5s/epoch - 15ms/step\n",
            "Epoch 81/100\n",
            "335/335 - 4s - loss: 150.7816 - val_loss: 155.1126 - 4s/epoch - 12ms/step\n",
            "Epoch 82/100\n",
            "335/335 - 4s - loss: 151.4739 - val_loss: 155.5796 - 4s/epoch - 11ms/step\n",
            "Epoch 83/100\n",
            "335/335 - 6s - loss: 151.2406 - val_loss: 157.9579 - 6s/epoch - 17ms/step\n",
            "Epoch 84/100\n",
            "335/335 - 3s - loss: 150.2046 - val_loss: 158.9134 - 3s/epoch - 10ms/step\n",
            "Epoch 85/100\n",
            "335/335 - 3s - loss: 150.2332 - val_loss: 155.1370 - 3s/epoch - 10ms/step\n",
            "Epoch 86/100\n",
            "335/335 - 6s - loss: 150.5116 - val_loss: 156.9183 - 6s/epoch - 17ms/step\n",
            "Epoch 87/100\n",
            "335/335 - 3s - loss: 150.7261 - val_loss: 158.0224 - 3s/epoch - 10ms/step\n",
            "Epoch 88/100\n",
            "335/335 - 4s - loss: 150.8354 - val_loss: 154.9161 - 4s/epoch - 13ms/step\n",
            "Epoch 89/100\n",
            "335/335 - 5s - loss: 150.3691 - val_loss: 154.2532 - 5s/epoch - 15ms/step\n",
            "Epoch 90/100\n",
            "335/335 - 4s - loss: 150.6026 - val_loss: 159.4157 - 4s/epoch - 11ms/step\n",
            "Epoch 91/100\n",
            "335/335 - 3s - loss: 150.9858 - val_loss: 154.2938 - 3s/epoch - 10ms/step\n",
            "Epoch 92/100\n",
            "335/335 - 4s - loss: 150.2554 - val_loss: 155.9465 - 4s/epoch - 13ms/step\n",
            "Epoch 93/100\n",
            "335/335 - 5s - loss: 150.5343 - val_loss: 154.2770 - 5s/epoch - 14ms/step\n",
            "Epoch 94/100\n",
            "335/335 - 4s - loss: 150.6576 - val_loss: 155.0668 - 4s/epoch - 12ms/step\n",
            "Epoch 95/100\n",
            "335/335 - 4s - loss: 150.6874 - val_loss: 154.0970 - 4s/epoch - 12ms/step\n",
            "Epoch 96/100\n",
            "335/335 - 4s - loss: 150.4736 - val_loss: 154.0903 - 4s/epoch - 13ms/step\n",
            "Epoch 97/100\n",
            "335/335 - 4s - loss: 150.2840 - val_loss: 155.9097 - 4s/epoch - 12ms/step\n",
            "Epoch 98/100\n",
            "335/335 - 4s - loss: 149.9970 - val_loss: 154.5944 - 4s/epoch - 13ms/step\n",
            "Epoch 99/100\n",
            "335/335 - 5s - loss: 150.5981 - val_loss: 155.1488 - 5s/epoch - 16ms/step\n",
            "Epoch 100/100\n",
            "335/335 - 4s - loss: 150.2276 - val_loss: 153.9930 - 4s/epoch - 11ms/step\n"
          ]
        }
      ],
      "source": [
        "cnn_lstm_history = model_cnn_lstm.fit(X_train_series_sub, Y_train, validation_data=(X_valid_series_sub, Y_valid), epochs=epochs, verbose=2)"
      ]
    },
    {
      "cell_type": "code",
      "execution_count": null,
      "metadata": {
        "colab": {
          "base_uri": "https://localhost:8080/",
          "height": 636
        },
        "id": "pLgqSJuS3ZCs",
        "outputId": "085559c6-aeac-48f7-da44-4389780ce05a"
      },
      "outputs": [
        {
          "output_type": "display_data",
          "data": {
            "text/plain": [
              "<Figure size 1584x864 with 1 Axes>"
            ],
            "image/png": "[encoded data removed]"
          },
          "metadata": {
            "needs_background": "light"
          }
        }
      ],
      "source": [
        "fig, ax4 = plt.subplots(1, 1, sharex=True, sharey=True,figsize=(22,12))\n",
        "\n",
        "ax4.plot(cnn_lstm_history.history['loss'], label='Train loss')\n",
        "ax4.plot(cnn_lstm_history.history['val_loss'], label='Validation loss')\n",
        "ax4.legend(loc='best')\n",
        "ax4.set_title('CNN-LSTM')\n",
        "ax4.set_xlabel('Epochs')\n",
        "ax4.set_ylabel('MSE')\n",
        "\n",
        "plt.show()"
      ]
    },
    {
      "cell_type": "markdown",
      "source": [
        "Calculating RMSE"
      ],
      "metadata": {
        "id": "CIDKfRfNiS_y"
      }
    },
    {
      "cell_type": "code",
      "execution_count": null,
      "metadata": {
        "colab": {
          "base_uri": "https://localhost:8080/"
        },
        "id": "3NUSuVUB4tLO",
        "outputId": "d6b2be23-ca95-4383-fab4-15e5c40062ff"
      },
      "outputs": [
        {
          "output_type": "stream",
          "name": "stdout",
          "text": [
            "335/335 [==============================] - 3s 6ms/step\n",
            "224/224 [==============================] - 2s 7ms/step\n",
            "Shape of array:  (7144, 1)\n",
            "Shape of array:  (7144,)\n",
            "Shape of array:  (7144, 1)\n",
            "Accuracy: 4.45%\n",
            "Precision: 4.60%\n",
            "Recall: 4.45%\n",
            "F1 Score: 4.31%\n",
            "Train rmse: 12.198544592221765\n",
            "Validation rmse: 12.40939374983454\n"
          ]
        }
      ],
      "source": [
        "cnn_lstm_train_pred = model_cnn_lstm.predict(X_train_series_sub)\n",
        "cnn_lstm_valid_pred = model_cnn_lstm.predict(X_valid_series_sub)\n",
        "print(\"Shape of array: \", cnn_lstm_valid_pred .shape)\n",
        "print(\"Shape of array: \", Y_valid.shape)\n",
        "end_time=time.time()\n",
        "import numpy as np\n",
        "\n",
        "# Define bins\n",
        "bins = np.linspace(0, 200, num=201)\n",
        "\n",
        "# Convert continuous predictions to discrete values\n",
        "cnn_lstm_valid_pred_discrete = np.digitize(cnn_lstm_valid_pred, bins) - 1\n",
        "from sklearn.metrics import precision_score\n",
        "from sklearn.metrics import accuracy_score\n",
        "from sklearn.metrics import f1_score\n",
        "from sklearn.metrics import recall_score\n",
        "# Calculate metrics\n",
        "y_val_classes = Y_valid.reshape(Y_valid.shape[0],1)\n",
        "print(\"Shape of array: \", y_val_classes.shape)\n",
        "accuracy = accuracy_score(y_val_classes,cnn_lstm_valid_pred_discrete)\n",
        "precision = precision_score(y_val_classes, cnn_lstm_valid_pred_discrete, average='weighted')\n",
        "recall = recall_score(y_val_classes, cnn_lstm_valid_pred_discrete, average='weighted')\n",
        "f1 = f1_score(y_val_classes, cnn_lstm_valid_pred_discrete, average='weighted')\n",
        "\n",
        "print(\"Accuracy: {:.2f}%\".format(accuracy*100))\n",
        "print(\"Precision: {:.2f}%\".format(precision*100))\n",
        "print(\"Recall: {:.2f}%\".format(recall*100))\n",
        "print(\"F1 Score: {:.2f}%\".format(f1*100))\n",
        "print('Train rmse:', np.sqrt(mean_squared_error(Y_train, cnn_lstm_train_pred)))\n",
        "print('Validation rmse:', np.sqrt(mean_squared_error(Y_valid, cnn_lstm_valid_pred)))"
      ]
    },
    {
      "cell_type": "markdown",
      "source": [
        "Calculating Performance measures"
      ],
      "metadata": {
        "id": "Oy9GQSaOicgL"
      }
    },
    {
      "cell_type": "code",
      "execution_count": null,
      "metadata": {
        "id": "nB6RMYoQ49dW"
      },
      "outputs": [],
      "source": [
        "from sklearn.metrics import mean_absolute_error, mean_absolute_percentage_error, r2_score\n",
        "mae = mean_absolute_error(Y_train, cnn_lstm_train_pred)\n",
        "mape = mean_absolute_percentage_error(Y_train, cnn_lstm_train_pred) * 100\n",
        "r2 = r2_score(Y_train, cnn_lstm_train_pred)\n",
        "execution_time=end_time-start_time\n",
        "\n",
        "\n",
        "# Print the results\n",
        "print(\"MAE: {:.4f}\".format(mae))\n",
        "print(\"MAPE: {:.2f}%\".format(mape))\n",
        "print(\"R-squared: {:.4f}\".format(r2))\n",
        "print(\"Execution time\",execution_time)"
      ]
    },
    {
      "cell_type": "code",
      "source": [],
      "metadata": {
        "id": "wphoC6fnt6xo"
      },
      "execution_count": null,
      "outputs": []
    }
  ],
  "metadata": {
    "colab": {
      "provenance": []
    },
    "kernelspec": {
      "display_name": "Python 3",
      "name": "python3"
    },
    "language_info": {
      "name": "python"
    }
  },
  "nbformat": 4,
  "nbformat_minor": 0
}