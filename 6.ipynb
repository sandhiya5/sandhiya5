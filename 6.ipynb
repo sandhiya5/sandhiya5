{
  "cells": [
    {
      "cell_type": "markdown",
      "metadata": {
        "id": "dGjIxMsbJKbq"
      },
      "source": [
        "**MODEL**-CNN-BiLSTM\n",
        "\n",
        "\n",
        "\n",
        "\n",
        "**OPTIMIZER**-Lazy Adam\n",
        "\n",
        "\n",
        "\n",
        "\n",
        "**LEARNING RATE**-10^-4\n",
        "\n",
        "\n",
        "\n",
        "\n",
        "**DROPOUT** -0.5\n",
        "\n",
        "\n",
        "\n",
        "**LSTM LAYER**-288\n",
        "\n",
        "\n",
        "\n",
        "**ACTIVATION**-swish\n",
        "\n",
        "\n",
        "\n",
        "\n",
        "**BATCH SIZE**-128\n",
        "\n",
        "\n",
        "\n",
        "\n",
        "**FILTER**-512 512"
      ]
    },
    {
      "cell_type": "code",
      "execution_count": null,
      "metadata": {
        "colab": {
          "base_uri": "https://localhost:8080/"
        },
        "id": "NfBdoUtmsghZ",
        "outputId": "0faed98a-660b-429b-af4f-87471fa5ff52"
      },
      "outputs": [
        {
          "output_type": "stream",
          "name": "stdout",
          "text": [
            "Looking in indexes: https://pypi.org/simple, https://us-python.pkg.dev/colab-wheels/public/simple/\n",
            "Requirement already satisfied: tensorflow in /usr/local/lib/python3.9/dist-packages (2.12.0)\n",
            "Collecting tensorflow-addons\n",
            "  Downloading tensorflow_addons-0.20.0-cp39-cp39-manylinux_2_17_x86_64.manylinux2014_x86_64.whl (591 kB)\n",
            "\u001b[2K     \u001b[90m━━━━━━━━━━━━━━━━━━━━━━━━━━━━━━━━━━━━━━\u001b[0m \u001b[32m591.0/591.0 kB\u001b[0m \u001b[31m35.8 MB/s\u001b[0m eta \u001b[36m0:00:00\u001b[0m\n",
            "\u001b[?25hRequirement already satisfied: tensorboard<2.13,>=2.12 in /usr/local/lib/python3.9/dist-packages (from tensorflow) (2.12.2)\n",
            "Requirement already satisfied: protobuf!=4.21.0,!=4.21.1,!=4.21.2,!=4.21.3,!=4.21.4,!=4.21.5,<5.0.0dev,>=3.20.3 in /usr/local/lib/python3.9/dist-packages (from tensorflow) (3.20.3)\n",
            "Requirement already satisfied: termcolor>=1.1.0 in /usr/local/lib/python3.9/dist-packages (from tensorflow) (2.2.0)\n",
            "Requirement already satisfied: absl-py>=1.0.0 in /usr/local/lib/python3.9/dist-packages (from tensorflow) (1.4.0)\n",
            "Requirement already satisfied: gast<=0.4.0,>=0.2.1 in /usr/local/lib/python3.9/dist-packages (from tensorflow) (0.4.0)\n",
            "Requirement already satisfied: keras<2.13,>=2.12.0 in /usr/local/lib/python3.9/dist-packages (from tensorflow) (2.12.0)\n",
            "Requirement already satisfied: flatbuffers>=2.0 in /usr/local/lib/python3.9/dist-packages (from tensorflow) (23.3.3)\n",
            "Requirement already satisfied: astunparse>=1.6.0 in /usr/local/lib/python3.9/dist-packages (from tensorflow) (1.6.3)\n",
            "Requirement already satisfied: packaging in /usr/local/lib/python3.9/dist-packages (from tensorflow) (23.1)\n",
            "Requirement already satisfied: google-pasta>=0.1.1 in /usr/local/lib/python3.9/dist-packages (from tensorflow) (0.2.0)\n",
            "Requirement already satisfied: h5py>=2.9.0 in /usr/local/lib/python3.9/dist-packages (from tensorflow) (3.8.0)\n",
            "Requirement already satisfied: libclang>=13.0.0 in /usr/local/lib/python3.9/dist-packages (from tensorflow) (16.0.0)\n",
            "Requirement already satisfied: opt-einsum>=2.3.2 in /usr/local/lib/python3.9/dist-packages (from tensorflow) (3.3.0)\n",
            "Requirement already satisfied: numpy<1.24,>=1.22 in /usr/local/lib/python3.9/dist-packages (from tensorflow) (1.22.4)\n",
            "Requirement already satisfied: setuptools in /usr/local/lib/python3.9/dist-packages (from tensorflow) (67.6.1)\n",
            "Requirement already satisfied: six>=1.12.0 in /usr/local/lib/python3.9/dist-packages (from tensorflow) (1.16.0)\n",
            "Requirement already satisfied: jax>=0.3.15 in /usr/local/lib/python3.9/dist-packages (from tensorflow) (0.4.8)\n",
            "Requirement already satisfied: tensorflow-estimator<2.13,>=2.12.0 in /usr/local/lib/python3.9/dist-packages (from tensorflow) (2.12.0)\n",
            "Requirement already satisfied: typing-extensions>=3.6.6 in /usr/local/lib/python3.9/dist-packages (from tensorflow) (4.5.0)\n",
            "Requirement already satisfied: wrapt<1.15,>=1.11.0 in /usr/local/lib/python3.9/dist-packages (from tensorflow) (1.14.1)\n",
            "Requirement already satisfied: grpcio<2.0,>=1.24.3 in /usr/local/lib/python3.9/dist-packages (from tensorflow) (1.53.0)\n",
            "Requirement already satisfied: tensorflow-io-gcs-filesystem>=0.23.1 in /usr/local/lib/python3.9/dist-packages (from tensorflow) (0.32.0)\n",
            "Collecting typeguard<3.0.0,>=2.7\n",
            "  Downloading typeguard-2.13.3-py3-none-any.whl (17 kB)\n",
            "Requirement already satisfied: wheel<1.0,>=0.23.0 in /usr/local/lib/python3.9/dist-packages (from astunparse>=1.6.0->tensorflow) (0.40.0)\n",
            "Requirement already satisfied: ml-dtypes>=0.0.3 in /usr/local/lib/python3.9/dist-packages (from jax>=0.3.15->tensorflow) (0.1.0)\n",
            "Requirement already satisfied: scipy>=1.7 in /usr/local/lib/python3.9/dist-packages (from jax>=0.3.15->tensorflow) (1.10.1)\n",
            "Requirement already satisfied: tensorboard-plugin-wit>=1.6.0 in /usr/local/lib/python3.9/dist-packages (from tensorboard<2.13,>=2.12->tensorflow) (1.8.1)\n",
            "Requirement already satisfied: tensorboard-data-server<0.8.0,>=0.7.0 in /usr/local/lib/python3.9/dist-packages (from tensorboard<2.13,>=2.12->tensorflow) (0.7.0)\n",
            "Requirement already satisfied: requests<3,>=2.21.0 in /usr/local/lib/python3.9/dist-packages (from tensorboard<2.13,>=2.12->tensorflow) (2.27.1)\n",
            "Requirement already satisfied: google-auth-oauthlib<1.1,>=0.5 in /usr/local/lib/python3.9/dist-packages (from tensorboard<2.13,>=2.12->tensorflow) (1.0.0)\n",
            "Requirement already satisfied: markdown>=2.6.8 in /usr/local/lib/python3.9/dist-packages (from tensorboard<2.13,>=2.12->tensorflow) (3.4.3)\n",
            "Requirement already satisfied: google-auth<3,>=1.6.3 in /usr/local/lib/python3.9/dist-packages (from tensorboard<2.13,>=2.12->tensorflow) (2.17.3)\n",
            "Requirement already satisfied: werkzeug>=1.0.1 in /usr/local/lib/python3.9/dist-packages (from tensorboard<2.13,>=2.12->tensorflow) (2.2.3)\n",
            "Requirement already satisfied: cachetools<6.0,>=2.0.0 in /usr/local/lib/python3.9/dist-packages (from google-auth<3,>=1.6.3->tensorboard<2.13,>=2.12->tensorflow) (5.3.0)\n",
            "Requirement already satisfied: rsa<5,>=3.1.4 in /usr/local/lib/python3.9/dist-packages (from google-auth<3,>=1.6.3->tensorboard<2.13,>=2.12->tensorflow) (4.9)\n",
            "Requirement already satisfied: pyasn1-modules>=0.2.1 in /usr/local/lib/python3.9/dist-packages (from google-auth<3,>=1.6.3->tensorboard<2.13,>=2.12->tensorflow) (0.2.8)\n",
            "Requirement already satisfied: requests-oauthlib>=0.7.0 in /usr/local/lib/python3.9/dist-packages (from google-auth-oauthlib<1.1,>=0.5->tensorboard<2.13,>=2.12->tensorflow) (1.3.1)\n",
            "Requirement already satisfied: importlib-metadata>=4.4 in /usr/local/lib/python3.9/dist-packages (from markdown>=2.6.8->tensorboard<2.13,>=2.12->tensorflow) (6.4.1)\n",
            "Requirement already satisfied: urllib3<1.27,>=1.21.1 in /usr/local/lib/python3.9/dist-packages (from requests<3,>=2.21.0->tensorboard<2.13,>=2.12->tensorflow) (1.26.15)\n",
            "Requirement already satisfied: charset-normalizer~=2.0.0 in /usr/local/lib/python3.9/dist-packages (from requests<3,>=2.21.0->tensorboard<2.13,>=2.12->tensorflow) (2.0.12)\n",
            "Requirement already satisfied: idna<4,>=2.5 in /usr/local/lib/python3.9/dist-packages (from requests<3,>=2.21.0->tensorboard<2.13,>=2.12->tensorflow) (3.4)\n",
            "Requirement already satisfied: certifi>=2017.4.17 in /usr/local/lib/python3.9/dist-packages (from requests<3,>=2.21.0->tensorboard<2.13,>=2.12->tensorflow) (2022.12.7)\n",
            "Requirement already satisfied: MarkupSafe>=2.1.1 in /usr/local/lib/python3.9/dist-packages (from werkzeug>=1.0.1->tensorboard<2.13,>=2.12->tensorflow) (2.1.2)\n",
            "Requirement already satisfied: zipp>=0.5 in /usr/local/lib/python3.9/dist-packages (from importlib-metadata>=4.4->markdown>=2.6.8->tensorboard<2.13,>=2.12->tensorflow) (3.15.0)\n",
            "Requirement already satisfied: pyasn1<0.5.0,>=0.4.6 in /usr/local/lib/python3.9/dist-packages (from pyasn1-modules>=0.2.1->google-auth<3,>=1.6.3->tensorboard<2.13,>=2.12->tensorflow) (0.4.8)\n",
            "Requirement already satisfied: oauthlib>=3.0.0 in /usr/local/lib/python3.9/dist-packages (from requests-oauthlib>=0.7.0->google-auth-oauthlib<1.1,>=0.5->tensorboard<2.13,>=2.12->tensorflow) (3.2.2)\n",
            "Installing collected packages: typeguard, tensorflow-addons\n",
            "Successfully installed tensorflow-addons-0.20.0 typeguard-2.13.3\n"
          ]
        }
      ],
      "source": [
        "pip install --upgrade tensorflow tensorflow-addons"
      ]
    },
    {
      "cell_type": "code",
      "execution_count": null,
      "metadata": {
        "id": "ZnHw5Ze_trnQ"
      },
      "outputs": [],
      "source": []
    },
    {
      "cell_type": "code",
      "execution_count": null,
      "metadata": {
        "colab": {
          "base_uri": "https://localhost:8080/"
        },
        "id": "-mqJs6ZEwYSj",
        "outputId": "90e78d4c-33c4-4189-c282-7e49d64baeef"
      },
      "outputs": [
        {
          "output_type": "stream",
          "name": "stdout",
          "text": [
            "Looking in indexes: https://pypi.org/simple, https://us-python.pkg.dev/colab-wheels/public/simple/\n",
            "Collecting chart-studio\n",
            "  Downloading chart_studio-1.1.0-py3-none-any.whl (64 kB)\n",
            "\u001b[2K     \u001b[90m━━━━━━━━━━━━━━━━━━━━━━━━━━━━━━━━━━━━━━━━\u001b[0m \u001b[32m64.4/64.4 kB\u001b[0m \u001b[31m5.7 MB/s\u001b[0m eta \u001b[36m0:00:00\u001b[0m\n",
            "\u001b[?25hCollecting retrying>=1.3.3\n",
            "  Downloading retrying-1.3.4-py3-none-any.whl (11 kB)\n",
            "Requirement already satisfied: six in /usr/local/lib/python3.9/dist-packages (from chart-studio) (1.16.0)\n",
            "Requirement already satisfied: requests in /usr/local/lib/python3.9/dist-packages (from chart-studio) (2.27.1)\n",
            "Requirement already satisfied: plotly in /usr/local/lib/python3.9/dist-packages (from chart-studio) (5.13.1)\n",
            "Requirement already satisfied: tenacity>=6.2.0 in /usr/local/lib/python3.9/dist-packages (from plotly->chart-studio) (8.2.2)\n",
            "Requirement already satisfied: charset-normalizer~=2.0.0 in /usr/local/lib/python3.9/dist-packages (from requests->chart-studio) (2.0.12)\n",
            "Requirement already satisfied: idna<4,>=2.5 in /usr/local/lib/python3.9/dist-packages (from requests->chart-studio) (3.4)\n",
            "Requirement already satisfied: urllib3<1.27,>=1.21.1 in /usr/local/lib/python3.9/dist-packages (from requests->chart-studio) (1.26.15)\n",
            "Requirement already satisfied: certifi>=2017.4.17 in /usr/local/lib/python3.9/dist-packages (from requests->chart-studio) (2022.12.7)\n",
            "Installing collected packages: retrying, chart-studio\n",
            "Successfully installed chart-studio-1.1.0 retrying-1.3.4\n"
          ]
        }
      ],
      "source": [
        "pip install chart-studio"
      ]
    },
    {
      "cell_type": "code",
      "execution_count": null,
      "metadata": {
        "id": "9-VwAkt1wig5"
      },
      "outputs": [],
      "source": [
        "pip install -q -U tensorflow-addons"
      ]
    },
    {
      "cell_type": "code",
      "execution_count": null,
      "metadata": {
        "id": "MOMIOe2Xc7Pz"
      },
      "outputs": [],
      "source": [
        "import time\n",
        "start_time=time.time()"
      ]
    },
    {
      "cell_type": "markdown",
      "metadata": {
        "id": "im7SNt_ww_Lh"
      },
      "source": [
        "Import necessary libraries\n"
      ]
    },
    {
      "cell_type": "code",
      "execution_count": null,
      "metadata": {
        "colab": {
          "base_uri": "https://localhost:8080/",
          "height": 181
        },
        "id": "rNmRWY_0VttW",
        "outputId": "a0b47b81-e6ce-4aaf-ee6b-e54bc0883271"
      },
      "outputs": [
        {
          "output_type": "stream",
          "name": "stderr",
          "text": [
            "/usr/local/lib/python3.9/dist-packages/tensorflow_addons/utils/tfa_eol_msg.py:23: UserWarning: \n",
            "\n",
            "TensorFlow Addons (TFA) has ended development and introduction of new features.\n",
            "TFA has entered a minimal maintenance and release mode until a planned end of life in May 2024.\n",
            "Please modify downstream libraries to take dependencies from other repositories in our TensorFlow community (e.g. Keras, Keras-CV, and Keras-NLP). \n",
            "\n",
            "For more information see: https://github.com/tensorflow/addons/issues/2807 \n",
            "\n",
            "  warnings.warn(\n"
          ]
        },
        {
          "output_type": "display_data",
          "data": {
            "text/html": [
              "        <script type=\"text/javascript\">\n",
              "        window.PlotlyConfig = {MathJaxConfig: 'local'};\n",
              "        if (window.MathJax && window.MathJax.Hub && window.MathJax.Hub.Config) {window.MathJax.Hub.Config({SVG: {font: \"STIX-Web\"}});}\n",
              "        if (typeof require !== 'undefined') {\n",
              "        require.undef(\"plotly\");\n",
              "        requirejs.config({\n",
              "            paths: {\n",
              "                'plotly': ['https://cdn.plot.ly/plotly-2.18.2.min']\n",
              "            }\n",
              "        });\n",
              "        require(['plotly'], function(Plotly) {\n",
              "            window._Plotly = Plotly;\n",
              "        });\n",
              "        }\n",
              "        </script>\n",
              "        "
            ]
          },
          "metadata": {}
        }
      ],
      "source": [
        "import warnings\n",
        "import numpy as np\n",
        "import pandas as pd\n",
        "import tensorflow\n",
        "import tensorflow_addons as tfa\n",
        "import matplotlib.pyplot as plt\n",
        "from tensorflow_addons.optimizers import LazyAdam\n",
        "from keras.layers import Dropout\n",
        "\n",
        "from keras.models import Sequential, Model\n",
        "from keras.layers.convolutional import Conv1D, MaxPooling1D\n",
        "from keras.layers import Dense, LSTM, RepeatVector, TimeDistributed, Flatten\n",
        "from sklearn.metrics import mean_squared_error\n",
        "from sklearn.preprocessing import OneHotEncoder\n",
        "from sklearn.model_selection import train_test_split\n",
        "from chart_studio import plotly as py\n",
        "import plotly.graph_objs as go\n",
        "from plotly.offline import init_notebook_mode, iplot\n",
        "\n",
        "%matplotlib inline\n",
        "warnings.filterwarnings(\"ignore\")\n",
        "init_notebook_mode(connected=True)\n",
        "\n",
        "from numpy.random import seed\n",
        "seed(1)\n",
        "from tensorflow import random\n",
        "random.set_seed(1)"
      ]
    },
    {
      "cell_type": "markdown",
      "metadata": {
        "id": "hTnF6K8GxN8F"
      },
      "source": [
        "LOAD DATA\n"
      ]
    },
    {
      "cell_type": "code",
      "execution_count": null,
      "metadata": {
        "id": "pD1D5c0uxTD9"
      },
      "outputs": [],
      "source": [
        "train = pd.read_csv('train.csv', parse_dates=['date'])\n",
        "test = pd.read_csv('test.csv', parse_dates=['date'])"
      ]
    },
    {
      "cell_type": "markdown",
      "metadata": {
        "id": "llG5ek-HdyB2"
      },
      "source": [
        "One-hot Encoding"
      ]
    },
    {
      "cell_type": "code",
      "execution_count": null,
      "metadata": {
        "id": "KeH8xVlqANdX"
      },
      "outputs": [],
      "source": [
        "import pandas as pd\n",
        "import numpy as np\n",
        "\n",
        "train = pd.read_csv('train.csv', parse_dates=['date'])\n",
        "test = pd.read_csv('test.csv', parse_dates=['date'])\n",
        "\n",
        "# create new column weekday\n",
        "train['weekday'] = np.where(train['date'].dt.dayofweek < 5, 0, 1)\n",
        "test['weekday'] = np.where(test['date'].dt.dayofweek < 5, 0, 1)\n",
        "# perform one-hot encoding\n",
        "train = pd.get_dummies(train, columns=['weekday'])\n",
        "test = pd.get_dummies(test, columns=['weekday'])\n",
        "\n",
        "#fill sales data with 0 in test set\n",
        "test['sales'] = 0\n"
      ]
    },
    {
      "cell_type": "markdown",
      "metadata": {
        "id": "X1QRlbvmd--r"
      },
      "source": [
        "MinMax Scaling"
      ]
    },
    {
      "cell_type": "code",
      "execution_count": null,
      "metadata": {
        "id": "RH6yNo6YC5cf"
      },
      "outputs": [],
      "source": [
        "import numpy as np\n",
        "from sklearn.preprocessing import MinMaxScaler\n",
        "\n",
        "# Convert the 'date' column to datetime format\n",
        "train['date'] = pd.to_datetime(train['date'])\n",
        "\n",
        "# Create weekday and weekend indicator variables based on the 'date' column\n",
        "train['weekday_weekend'] = np.where(train['date'].dt.weekday < 5, 'weekday', 'weekend')\n",
        "\n",
        "# Select columns to be scaled\n",
        "val_cols = ['store', 'item']\n",
        "num_cols = ['sales']\n",
        "\n",
        "# Scale the numerical columns using MinMaxScaler\n",
        "scaler = MinMaxScaler(feature_range=(0, 180))\n",
        "train[num_cols] = scaler.fit_transform(train[num_cols])\n",
        "\n",
        "# Add the 'date', 'store', and 'item' columns back to the dataset\n",
        "train = train[['date'] + val_cols + num_cols + ['weekday_weekend']]"
      ]
    },
    {
      "cell_type": "markdown",
      "metadata": {
        "id": "6JgwgmgcxY0l"
      },
      "source": [
        "**Train** data description\n"
      ]
    },
    {
      "cell_type": "code",
      "execution_count": null,
      "metadata": {
        "colab": {
          "base_uri": "https://localhost:8080/"
        },
        "id": "txtidyE0cGhm",
        "outputId": "f992030a-0385-4284-993f-e54800353e1d"
      },
      "outputs": [
        {
          "output_type": "stream",
          "name": "stdout",
          "text": [
            "               store           item          sales\n",
            "count  913000.000000  913000.000000  913000.000000\n",
            "mean        5.500000      25.500000      40.714509\n",
            "std         2.872283      14.430878      22.442450\n",
            "min         1.000000       1.000000       0.000000\n",
            "25%         3.000000      13.000000      23.376623\n",
            "50%         5.500000      25.500000      36.623377\n",
            "75%         8.000000      38.000000      54.545455\n",
            "max        10.000000      50.000000     180.000000\n",
            "        date  store  item      sales weekday_weekend\n",
            "0 2013-01-01      1     1  10.129870         weekday\n",
            "1 2013-01-02      1     1   8.571429         weekday\n",
            "2 2013-01-03      1     1  10.909091         weekday\n",
            "3 2013-01-04      1     1  10.129870         weekday\n",
            "4 2013-01-05      1     1   7.792208         weekend\n"
          ]
        }
      ],
      "source": [
        "print(train.describe())\n",
        "print(train.head())"
      ]
    },
    {
      "cell_type": "code",
      "execution_count": null,
      "metadata": {
        "id": "Ki20CvJmN54Y"
      },
      "outputs": [],
      "source": [
        "import pandas as pd\n",
        "# sort the 'date' column in each DataFrame in descending order\n",
        "train = train.sort_values('date', ascending=True)\n",
        "test = test.sort_values('date', ascending=True)\n",
        "\n",
        "# extract the latest date from each DataFrame\n",
        "train_last_date = train.iloc[-1]['date']\n",
        "test_last_date = test.iloc[-1]['date']\n",
        "\n",
        "# convert latest dates to datetime objects and format them as strings\n",
        "train_last_date = pd.to_datetime(train_last_date).strftime('%Y-%m-%d')\n",
        "test_last_date = pd.to_datetime(test_last_date).strftime('%Y-%m-%d')"
      ]
    },
    {
      "cell_type": "code",
      "execution_count": null,
      "metadata": {
        "colab": {
          "base_uri": "https://localhost:8080/"
        },
        "id": "qE3LgCxVxjg8",
        "outputId": "83f8339a-b7e0-43a4-d6e2-4b854af4a10e"
      },
      "outputs": [
        {
          "output_type": "stream",
          "name": "stdout",
          "text": [
            "Train set date range: 2013-01-01 00:00:00 to 2017-12-31 00:00:00\n",
            "Test set date range: 2018-01-01 00:00:00 to 2018-03-31 00:00:00\n"
          ]
        }
      ],
      "source": [
        "# Print minimum and maximum date of train set\n",
        "print(\"Train set date range: {} to {}\".format(train['date'].min(), train['date'].max()))\n",
        "\n",
        "# Print minimum and maximum date of test set\n",
        "print(\"Test set date range: {} to {}\".format(test['date'].min(), test['date'].max()))"
      ]
    },
    {
      "cell_type": "code",
      "execution_count": null,
      "metadata": {
        "colab": {
          "base_uri": "https://localhost:8080/"
        },
        "id": "oqpx0_LwxqwM",
        "outputId": "2bb1d826-b14b-47a7-c1af-7e05fb3e735d"
      },
      "outputs": [
        {
          "output_type": "stream",
          "name": "stdout",
          "text": [
            "Train last date: 2017-12-31\n",
            "Test last date: 2018-03-31\n",
            "Number of days between train and test last dates: 90\n"
          ]
        }
      ],
      "source": [
        "# print the latest dates and the number of days between them\n",
        "print(\"Train last date:\", train_last_date)\n",
        "print(\"Test last date:\", test_last_date)\n",
        "lag_size = (pd.to_datetime(test_last_date) - pd.to_datetime(train_last_date)).days\n",
        "print(\"Number of days between train and test last dates:\", lag_size)\n"
      ]
    },
    {
      "cell_type": "code",
      "execution_count": null,
      "metadata": {
        "id": "ZyHBerwAxuX0"
      },
      "outputs": [],
      "source": [
        "daily_sales = train.groupby('date', as_index=False)['sales'].sum()\n",
        "store_daily_sales = train.groupby(['store', 'date'], as_index=False)['sales'].sum()\n",
        "item_daily_sales = train.groupby(['item', 'date'], as_index=False)['sales'].sum()"
      ]
    },
    {
      "cell_type": "code",
      "execution_count": null,
      "metadata": {
        "colab": {
          "base_uri": "https://localhost:8080/",
          "height": 542
        },
        "id": "Kd_MndMUx1CM",
        "outputId": "85880abd-e5da-42d9-9952-e557cb43fa83"
      },
      "outputs": [
        {
          "output_type": "display_data",
          "data": {
            "text/html": [
              "<html>\n",
              "<head><meta charset=\"utf-8\" /></head>\n",
              "<body>\n",
              "    <div>            <script src=\"https://cdnjs.cloudflare.com/ajax/libs/mathjax/2.7.5/MathJax.js?config=TeX-AMS-MML_SVG\"></script><script type=\"text/javascript\">if (window.MathJax && window.MathJax.Hub && window.MathJax.Hub.Config) {window.MathJax.Hub.Config({SVG: {font: \"STIX-Web\"}});}</script>                <script type=\"text/javascript\">window.PlotlyConfig = {MathJaxConfig: 'local'};</script>\n",
              "        <script src=\"https://cdn.plot.ly/plotly-2.18.2.min.js\"></script>                <div id=\"0e951782-3156-4602-8956-7481a63dcafc\" class=\"plotly-graph-div\" style=\"height:525px; width:100%;\"></div>            <script type=\"text/javascript\">                                    window.PLOTLYENV=window.PLOTLYENV || {};                                    if (document.getElementById(\"0e951782-3156-4602-8956-7481a63dcafc\")) {                    Plotly.newPlot(                        \"0e951782-3156-4602-8956-7481a63dcafc\",                        [{\"x\":[\"2013-01-01T00:00:00\",\"2013-01-02T00:00:00\",\"2013-01-03T00:00:00\",\"2013-01-04T00:00:00\",\"2013-01-05T00:00:00\",\"2013-01-06T00:00:00\",\"2013-01-07T00:00:00\",\"2013-01-08T00:00:00\",\"2013-01-09T00:00:00\",\"2013-01-10T00:00:00\",\"2013-01-11T00:00:00\",\"2013-01-12T00:00:00\",\"2013-01-13T00:00:00\",\"2013-01-14T00:00:00\",\"2013-01-15T00:00:00\",\"2013-01-16T00:00:00\",\"2013-01-17T00:00:00\",\"2013-01-18T00:00:00\",\"2013-01-19T00:00:00\",\"2013-01-20T00:00:00\",\"2013-01-21T00:00:00\",\"2013-01-22T00:00:00\",\"2013-01-23T00:00:00\",\"2013-01-24T00:00:00\",\"2013-01-25T00:00:00\",\"2013-01-26T00:00:00\",\"2013-01-27T00:00:00\",\"2013-01-28T00:00:00\",\"2013-01-29T00:00:00\",\"2013-01-30T00:00:00\",\"2013-01-31T00:00:00\",\"2013-02-01T00:00:00\",\"2013-02-02T00:00:00\",\"2013-02-03T00:00:00\",\"2013-02-04T00:00:00\",\"2013-02-05T00:00:00\",\"2013-02-06T00:00:00\",\"2013-02-07T00:00:00\",\"2013-02-08T00:00:00\",\"2013-02-09T00:00:00\",\"2013-02-10T00:00:00\",\"2013-02-11T00:00:00\",\"2013-02-12T00:00:00\",\"2013-02-13T00:00:00\",\"2013-02-14T00:00:00\",\"2013-02-15T00:00:00\",\"2013-02-16T00:00:00\",\"2013-02-17T00:00:00\",\"2013-02-18T00:00:00\",\"2013-02-19T00:00:00\",\"2013-02-20T00:00:00\",\"2013-02-21T00:00:00\",\"2013-02-22T00:00:00\",\"2013-02-23T00:00:00\",\"2013-02-24T00:00:00\",\"2013-02-25T00:00:00\",\"2013-02-26T00:00:00\",\"2013-02-27T00:00:00\",\"2013-02-28T00:00:00\",\"2013-03-01T00:00:00\",\"2013-03-02T00:00:00\",\"2013-03-03T00:00:00\",\"2013-03-04T00:00:00\",\"2013-03-05T00:00:00\",\"2013-03-06T00:00:00\",\"2013-03-07T00:00:00\",\"2013-03-08T00:00:00\",\"2013-03-09T00:00:00\",\"2013-03-10T00:00:00\",\"2013-03-11T00:00:00\",\"2013-03-12T00:00:00\",\"2013-03-13T00:00:00\",\"2013-03-14T00:00:00\",\"2013-03-15T00:00:00\",\"2013-03-16T00:00:00\",\"2013-03-17T00:00:00\",\"2013-03-18T00:00:00\",\"2013-03-19T00:00:00\",\"2013-03-20T00:00:00\",\"2013-03-21T00:00:00\",\"2013-03-22T00:00:00\",\"2013-03-23T00:00:00\",\"2013-03-24T00:00:00\",\"2013-03-25T00:00:00\",\"2013-03-26T00:00:00\",\"2013-03-27T00:00:00\",\"2013-03-28T00:00:00\",\"2013-03-29T00:00:00\",\"2013-03-30T00:00:00\",\"2013-03-31T00:00:00\",\"2013-04-01T00:00:00\",\"2013-04-02T00:00:00\",\"2013-04-03T00:00:00\",\"2013-04-04T00:00:00\",\"2013-04-05T00:00:00\",\"2013-04-06T00:00:00\",\"2013-04-07T00:00:00\",\"2013-04-08T00:00:00\",\"2013-04-09T00:00:00\",\"2013-04-10T00:00:00\",\"2013-04-11T00:00:00\",\"2013-04-12T00:00:00\",\"2013-04-13T00:00:00\",\"2013-04-14T00:00:00\",\"2013-04-15T00:00:00\",\"2013-04-16T00:00:00\",\"2013-04-17T00:00:00\",\"2013-04-18T00:00:00\",\"2013-04-19T00:00:00\",\"2013-04-20T00:00:00\",\"2013-04-21T00:00:00\",\"2013-04-22T00:00:00\",\"2013-04-23T00:00:00\",\"2013-04-24T00:00:00\",\"2013-04-25T00:00:00\",\"2013-04-26T00:00:00\",\"2013-04-27T00:00:00\",\"2013-04-28T00:00:00\",\"2013-04-29T00:00:00\",\"2013-04-30T00:00:00\",\"2013-05-01T00:00:00\",\"2013-05-02T00:00:00\",\"2013-05-03T00:00:00\",\"2013-05-04T00:00:00\",\"2013-05-05T00:00:00\",\"2013-05-06T00:00:00\",\"2013-05-07T00:00:00\",\"2013-05-08T00:00:00\",\"2013-05-09T00:00:00\",\"2013-05-10T00:00:00\",\"2013-05-11T00:00:00\",\"2013-05-12T00:00:00\",\"2013-05-13T00:00:00\",\"2013-05-14T00:00:00\",\"2013-05-15T00:00:00\",\"2013-05-16T00:00:00\",\"2013-05-17T00:00:00\",\"2013-05-18T00:00:00\",\"2013-05-19T00:00:00\",\"2013-05-20T00:00:00\",\"2013-05-21T00:00:00\",\"2013-05-22T00:00:00\",\"2013-05-23T00:00:00\",\"2013-05-24T00:00:00\",\"2013-05-25T00:00:00\",\"2013-05-26T00:00:00\",\"2013-05-27T00:00:00\",\"2013-05-28T00:00:00\",\"2013-05-29T00:00:00\",\"2013-05-30T00:00:00\",\"2013-05-31T00:00:00\",\"2013-06-01T00:00:00\",\"2013-06-02T00:00:00\",\"2013-06-03T00:00:00\",\"2013-06-04T00:00:00\",\"2013-06-05T00:00:00\",\"2013-06-06T00:00:00\",\"2013-06-07T00:00:00\",\"2013-06-08T00:00:00\",\"2013-06-09T00:00:00\",\"2013-06-10T00:00:00\",\"2013-06-11T00:00:00\",\"2013-06-12T00:00:00\",\"2013-06-13T00:00:00\",\"2013-06-14T00:00:00\",\"2013-06-15T00:00:00\",\"2013-06-16T00:00:00\",\"2013-06-17T00:00:00\",\"2013-06-18T00:00:00\",\"2013-06-19T00:00:00\",\"2013-06-20T00:00:00\",\"2013-06-21T00:00:00\",\"2013-06-22T00:00:00\",\"2013-06-23T00:00:00\",\"2013-06-24T00:00:00\",\"2013-06-25T00:00:00\",\"2013-06-26T00:00:00\",\"2013-06-27T00:00:00\",\"2013-06-28T00:00:00\",\"2013-06-29T00:00:00\",\"2013-06-30T00:00:00\",\"2013-07-01T00:00:00\",\"2013-07-02T00:00:00\",\"2013-07-03T00:00:00\",\"2013-07-04T00:00:00\",\"2013-07-05T00:00:00\",\"2013-07-06T00:00:00\",\"2013-07-07T00:00:00\",\"2013-07-08T00:00:00\",\"2013-07-09T00:00:00\",\"2013-07-10T00:00:00\",\"2013-07-11T00:00:00\",\"2013-07-12T00:00:00\",\"2013-07-13T00:00:00\",\"2013-07-14T00:00:00\",\"2013-07-15T00:00:00\",\"2013-07-16T00:00:00\",\"2013-07-17T00:00:00\",\"2013-07-18T00:00:00\",\"2013-07-19T00:00:00\",\"2013-07-20T00:00:00\",\"2013-07-21T00:00:00\",\"2013-07-22T00:00:00\",\"2013-07-23T00:00:00\",\"2013-07-24T00:00:00\",\"2013-07-25T00:00:00\",\"2013-07-26T00:00:00\",\"2013-07-27T00:00:00\",\"2013-07-28T00:00:00\",\"2013-07-29T00:00:00\",\"2013-07-30T00:00:00\",\"2013-07-31T00:00:00\",\"2013-08-01T00:00:00\",\"2013-08-02T00:00:00\",\"2013-08-03T00:00:00\",\"2013-08-04T00:00:00\",\"2013-08-05T00:00:00\",\"2013-08-06T00:00:00\",\"2013-08-07T00:00:00\",\"2013-08-08T00:00:00\",\"2013-08-09T00:00:00\",\"2013-08-10T00:00:00\",\"2013-08-11T00:00:00\",\"2013-08-12T00:00:00\",\"2013-08-13T00:00:00\",\"2013-08-14T00:00:00\",\"2013-08-15T00:00:00\",\"2013-08-16T00:00:00\",\"2013-08-17T00:00:00\",\"2013-08-18T00:00:00\",\"2013-08-19T00:00:00\",\"2013-08-20T00:00:00\",\"2013-08-21T00:00:00\",\"2013-08-22T00:00:00\",\"2013-08-23T00:00:00\",\"2013-08-24T00:00:00\",\"2013-08-25T00:00:00\",\"2013-08-26T00:00:00\",\"2013-08-27T00:00:00\",\"2013-08-28T00:00:00\",\"2013-08-29T00:00:00\",\"2013-08-30T00:00:00\",\"2013-08-31T00:00:00\",\"2013-09-01T00:00:00\",\"2013-09-02T00:00:00\",\"2013-09-03T00:00:00\",\"2013-09-04T00:00:00\",\"2013-09-05T00:00:00\",\"2013-09-06T00:00:00\",\"2013-09-07T00:00:00\",\"2013-09-08T00:00:00\",\"2013-09-09T00:00:00\",\"2013-09-10T00:00:00\",\"2013-09-11T00:00:00\",\"2013-09-12T00:00:00\",\"2013-09-13T00:00:00\",\"2013-09-14T00:00:00\",\"2013-09-15T00:00:00\",\"2013-09-16T00:00:00\",\"2013-09-17T00:00:00\",\"2013-09-18T00:00:00\",\"2013-09-19T00:00:00\",\"2013-09-20T00:00:00\",\"2013-09-21T00:00:00\",\"2013-09-22T00:00:00\",\"2013-09-23T00:00:00\",\"2013-09-24T00:00:00\",\"2013-09-25T00:00:00\",\"2013-09-26T00:00:00\",\"2013-09-27T00:00:00\",\"2013-09-28T00:00:00\",\"2013-09-29T00:00:00\",\"2013-09-30T00:00:00\",\"2013-10-01T00:00:00\",\"2013-10-02T00:00:00\",\"2013-10-03T00:00:00\",\"2013-10-04T00:00:00\",\"2013-10-05T00:00:00\",\"2013-10-06T00:00:00\",\"2013-10-07T00:00:00\",\"2013-10-08T00:00:00\",\"2013-10-09T00:00:00\",\"2013-10-10T00:00:00\",\"2013-10-11T00:00:00\",\"2013-10-12T00:00:00\",\"2013-10-13T00:00:00\",\"2013-10-14T00:00:00\",\"2013-10-15T00:00:00\",\"2013-10-16T00:00:00\",\"2013-10-17T00:00:00\",\"2013-10-18T00:00:00\",\"2013-10-19T00:00:00\",\"2013-10-20T00:00:00\",\"2013-10-21T00:00:00\",\"2013-10-22T00:00:00\",\"2013-10-23T00:00:00\",\"2013-10-24T00:00:00\",\"2013-10-25T00:00:00\",\"2013-10-26T00:00:00\",\"2013-10-27T00:00:00\",\"2013-10-28T00:00:00\",\"2013-10-29T00:00:00\",\"2013-10-30T00:00:00\",\"2013-10-31T00:00:00\",\"2013-11-01T00:00:00\",\"2013-11-02T00:00:00\",\"2013-11-03T00:00:00\",\"2013-11-04T00:00:00\",\"2013-11-05T00:00:00\",\"2013-11-06T00:00:00\",\"2013-11-07T00:00:00\",\"2013-11-08T00:00:00\",\"2013-11-09T00:00:00\",\"2013-11-10T00:00:00\",\"2013-11-11T00:00:00\",\"2013-11-12T00:00:00\",\"2013-11-13T00:00:00\",\"2013-11-14T00:00:00\",\"2013-11-15T00:00:00\",\"2013-11-16T00:00:00\",\"2013-11-17T00:00:00\",\"2013-11-18T00:00:00\",\"2013-11-19T00:00:00\",\"2013-11-20T00:00:00\",\"2013-11-21T00:00:00\",\"2013-11-22T00:00:00\",\"2013-11-23T00:00:00\",\"2013-11-24T00:00:00\",\"2013-11-25T00:00:00\",\"2013-11-26T00:00:00\",\"2013-11-27T00:00:00\",\"2013-11-28T00:00:00\",\"2013-11-29T00:00:00\",\"2013-11-30T00:00:00\",\"2013-12-01T00:00:00\",\"2013-12-02T00:00:00\",\"2013-12-03T00:00:00\",\"2013-12-04T00:00:00\",\"2013-12-05T00:00:00\",\"2013-12-06T00:00:00\",\"2013-12-07T00:00:00\",\"2013-12-08T00:00:00\",\"2013-12-09T00:00:00\",\"2013-12-10T00:00:00\",\"2013-12-11T00:00:00\",\"2013-12-12T00:00:00\",\"2013-12-13T00:00:00\",\"2013-12-14T00:00:00\",\"2013-12-15T00:00:00\",\"2013-12-16T00:00:00\",\"2013-12-17T00:00:00\",\"2013-12-18T00:00:00\",\"2013-12-19T00:00:00\",\"2013-12-20T00:00:00\",\"2013-12-21T00:00:00\",\"2013-12-22T00:00:00\",\"2013-12-23T00:00:00\",\"2013-12-24T00:00:00\",\"2013-12-25T00:00:00\",\"2013-12-26T00:00:00\",\"2013-12-27T00:00:00\",\"2013-12-28T00:00:00\",\"2013-12-29T00:00:00\",\"2013-12-30T00:00:00\",\"2013-12-31T00:00:00\",\"2014-01-01T00:00:00\",\"2014-01-02T00:00:00\",\"2014-01-03T00:00:00\",\"2014-01-04T00:00:00\",\"2014-01-05T00:00:00\",\"2014-01-06T00:00:00\",\"2014-01-07T00:00:00\",\"2014-01-08T00:00:00\",\"2014-01-09T00:00:00\",\"2014-01-10T00:00:00\",\"2014-01-11T00:00:00\",\"2014-01-12T00:00:00\",\"2014-01-13T00:00:00\",\"2014-01-14T00:00:00\",\"2014-01-15T00:00:00\",\"2014-01-16T00:00:00\",\"2014-01-17T00:00:00\",\"2014-01-18T00:00:00\",\"2014-01-19T00:00:00\",\"2014-01-20T00:00:00\",\"2014-01-21T00:00:00\",\"2014-01-22T00:00:00\",\"2014-01-23T00:00:00\",\"2014-01-24T00:00:00\",\"2014-01-25T00:00:00\",\"2014-01-26T00:00:00\",\"2014-01-27T00:00:00\",\"2014-01-28T00:00:00\",\"2014-01-29T00:00:00\",\"2014-01-30T00:00:00\",\"2014-01-31T00:00:00\",\"2014-02-01T00:00:00\",\"2014-02-02T00:00:00\",\"2014-02-03T00:00:00\",\"2014-02-04T00:00:00\",\"2014-02-05T00:00:00\",\"2014-02-06T00:00:00\",\"2014-02-07T00:00:00\",\"2014-02-08T00:00:00\",\"2014-02-09T00:00:00\",\"2014-02-10T00:00:00\",\"2014-02-11T00:00:00\",\"2014-02-12T00:00:00\",\"2014-02-13T00:00:00\",\"2014-02-14T00:00:00\",\"2014-02-15T00:00:00\",\"2014-02-16T00:00:00\",\"2014-02-17T00:00:00\",\"2014-02-18T00:00:00\",\"2014-02-19T00:00:00\",\"2014-02-20T00:00:00\",\"2014-02-21T00:00:00\",\"2014-02-22T00:00:00\",\"2014-02-23T00:00:00\",\"2014-02-24T00:00:00\",\"2014-02-25T00:00:00\",\"2014-02-26T00:00:00\",\"2014-02-27T00:00:00\",\"2014-02-28T00:00:00\",\"2014-03-01T00:00:00\",\"2014-03-02T00:00:00\",\"2014-03-03T00:00:00\",\"2014-03-04T00:00:00\",\"2014-03-05T00:00:00\",\"2014-03-06T00:00:00\",\"2014-03-07T00:00:00\",\"2014-03-08T00:00:00\",\"2014-03-09T00:00:00\",\"2014-03-10T00:00:00\",\"2014-03-11T00:00:00\",\"2014-03-12T00:00:00\",\"2014-03-13T00:00:00\",\"2014-03-14T00:00:00\",\"2014-03-15T00:00:00\",\"2014-03-16T00:00:00\",\"2014-03-17T00:00:00\",\"2014-03-18T00:00:00\",\"2014-03-19T00:00:00\",\"2014-03-20T00:00:00\",\"2014-03-21T00:00:00\",\"2014-03-22T00:00:00\",\"2014-03-23T00:00:00\",\"2014-03-24T00:00:00\",\"2014-03-25T00:00:00\",\"2014-03-26T00:00:00\",\"2014-03-27T00:00:00\",\"2014-03-28T00:00:00\",\"2014-03-29T00:00:00\",\"2014-03-30T00:00:00\",\"2014-03-31T00:00:00\",\"2014-04-01T00:00:00\",\"2014-04-02T00:00:00\",\"2014-04-03T00:00:00\",\"2014-04-04T00:00:00\",\"2014-04-05T00:00:00\",\"2014-04-06T00:00:00\",\"2014-04-07T00:00:00\",\"2014-04-08T00:00:00\",\"2014-04-09T00:00:00\",\"2014-04-10T00:00:00\",\"2014-04-11T00:00:00\",\"2014-04-12T00:00:00\",\"2014-04-13T00:00:00\",\"2014-04-14T00:00:00\",\"2014-04-15T00:00:00\",\"2014-04-16T00:00:00\",\"2014-04-17T00:00:00\",\"2014-04-18T00:00:00\",\"2014-04-19T00:00:00\",\"2014-04-20T00:00:00\",\"2014-04-21T00:00:00\",\"2014-04-22T00:00:00\",\"2014-04-23T00:00:00\",\"2014-04-24T00:00:00\",\"2014-04-25T00:00:00\",\"2014-04-26T00:00:00\",\"2014-04-27T00:00:00\",\"2014-04-28T00:00:00\",\"2014-04-29T00:00:00\",\"2014-04-30T00:00:00\",\"2014-05-01T00:00:00\",\"2014-05-02T00:00:00\",\"2014-05-03T00:00:00\",\"2014-05-04T00:00:00\",\"2014-05-05T00:00:00\",\"2014-05-06T00:00:00\",\"2014-05-07T00:00:00\",\"2014-05-08T00:00:00\",\"2014-05-09T00:00:00\",\"2014-05-10T00:00:00\",\"2014-05-11T00:00:00\",\"2014-05-12T00:00:00\",\"2014-05-13T00:00:00\",\"2014-05-14T00:00:00\",\"2014-05-15T00:00:00\",\"2014-05-16T00:00:00\",\"2014-05-17T00:00:00\",\"2014-05-18T00:00:00\",\"2014-05-19T00:00:00\",\"2014-05-20T00:00:00\",\"2014-05-21T00:00:00\",\"2014-05-22T00:00:00\",\"2014-05-23T00:00:00\",\"2014-05-24T00:00:00\",\"2014-05-25T00:00:00\",\"2014-05-26T00:00:00\",\"2014-05-27T00:00:00\",\"2014-05-28T00:00:00\",\"2014-05-29T00:00:00\",\"2014-05-30T00:00:00\",\"2014-05-31T00:00:00\",\"2014-06-01T00:00:00\",\"2014-06-02T00:00:00\",\"2014-06-03T00:00:00\",\"2014-06-04T00:00:00\",\"2014-06-05T00:00:00\",\"2014-06-06T00:00:00\",\"2014-06-07T00:00:00\",\"2014-06-08T00:00:00\",\"2014-06-09T00:00:00\",\"2014-06-10T00:00:00\",\"2014-06-11T00:00:00\",\"2014-06-12T00:00:00\",\"2014-06-13T00:00:00\",\"2014-06-14T00:00:00\",\"2014-06-15T00:00:00\",\"2014-06-16T00:00:00\",\"2014-06-17T00:00:00\",\"2014-06-18T00:00:00\",\"2014-06-19T00:00:00\",\"2014-06-20T00:00:00\",\"2014-06-21T00:00:00\",\"2014-06-22T00:00:00\",\"2014-06-23T00:00:00\",\"2014-06-24T00:00:00\",\"2014-06-25T00:00:00\",\"2014-06-26T00:00:00\",\"2014-06-27T00:00:00\",\"2014-06-28T00:00:00\",\"2014-06-29T00:00:00\",\"2014-06-30T00:00:00\",\"2014-07-01T00:00:00\",\"2014-07-02T00:00:00\",\"2014-07-03T00:00:00\",\"2014-07-04T00:00:00\",\"2014-07-05T00:00:00\",\"2014-07-06T00:00:00\",\"2014-07-07T00:00:00\",\"2014-07-08T00:00:00\",\"2014-07-09T00:00:00\",\"2014-07-10T00:00:00\",\"2014-07-11T00:00:00\",\"2014-07-12T00:00:00\",\"2014-07-13T00:00:00\",\"2014-07-14T00:00:00\",\"2014-07-15T00:00:00\",\"2014-07-16T00:00:00\",\"2014-07-17T00:00:00\",\"2014-07-18T00:00:00\",\"2014-07-19T00:00:00\",\"2014-07-20T00:00:00\",\"2014-07-21T00:00:00\",\"2014-07-22T00:00:00\",\"2014-07-23T00:00:00\",\"2014-07-24T00:00:00\",\"2014-07-25T00:00:00\",\"2014-07-26T00:00:00\",\"2014-07-27T00:00:00\",\"2014-07-28T00:00:00\",\"2014-07-29T00:00:00\",\"2014-07-30T00:00:00\",\"2014-07-31T00:00:00\",\"2014-08-01T00:00:00\",\"2014-08-02T00:00:00\",\"2014-08-03T00:00:00\",\"2014-08-04T00:00:00\",\"2014-08-05T00:00:00\",\"2014-08-06T00:00:00\",\"2014-08-07T00:00:00\",\"2014-08-08T00:00:00\",\"2014-08-09T00:00:00\",\"2014-08-10T00:00:00\",\"2014-08-11T00:00:00\",\"2014-08-12T00:00:00\",\"2014-08-13T00:00:00\",\"2014-08-14T00:00:00\",\"2014-08-15T00:00:00\",\"2014-08-16T00:00:00\",\"2014-08-17T00:00:00\",\"2014-08-18T00:00:00\",\"2014-08-19T00:00:00\",\"2014-08-20T00:00:00\",\"2014-08-21T00:00:00\",\"2014-08-22T00:00:00\",\"2014-08-23T00:00:00\",\"2014-08-24T00:00:00\",\"2014-08-25T00:00:00\",\"2014-08-26T00:00:00\",\"2014-08-27T00:00:00\",\"2014-08-28T00:00:00\",\"2014-08-29T00:00:00\",\"2014-08-30T00:00:00\",\"2014-08-31T00:00:00\",\"2014-09-01T00:00:00\",\"2014-09-02T00:00:00\",\"2014-09-03T00:00:00\",\"2014-09-04T00:00:00\",\"2014-09-05T00:00:00\",\"2014-09-06T00:00:00\",\"2014-09-07T00:00:00\",\"2014-09-08T00:00:00\",\"2014-09-09T00:00:00\",\"2014-09-10T00:00:00\",\"2014-09-11T00:00:00\",\"2014-09-12T00:00:00\",\"2014-09-13T00:00:00\",\"2014-09-14T00:00:00\",\"2014-09-15T00:00:00\",\"2014-09-16T00:00:00\",\"2014-09-17T00:00:00\",\"2014-09-18T00:00:00\",\"2014-09-19T00:00:00\",\"2014-09-20T00:00:00\",\"2014-09-21T00:00:00\",\"2014-09-22T00:00:00\",\"2014-09-23T00:00:00\",\"2014-09-24T00:00:00\",\"2014-09-25T00:00:00\",\"2014-09-26T00:00:00\",\"2014-09-27T00:00:00\",\"2014-09-28T00:00:00\",\"2014-09-29T00:00:00\",\"2014-09-30T00:00:00\",\"2014-10-01T00:00:00\",\"2014-10-02T00:00:00\",\"2014-10-03T00:00:00\",\"2014-10-04T00:00:00\",\"2014-10-05T00:00:00\",\"2014-10-06T00:00:00\",\"2014-10-07T00:00:00\",\"2014-10-08T00:00:00\",\"2014-10-09T00:00:00\",\"2014-10-10T00:00:00\",\"2014-10-11T00:00:00\",\"2014-10-12T00:00:00\",\"2014-10-13T00:00:00\",\"2014-10-14T00:00:00\",\"2014-10-15T00:00:00\",\"2014-10-16T00:00:00\",\"2014-10-17T00:00:00\",\"2014-10-18T00:00:00\",\"2014-10-19T00:00:00\",\"2014-10-20T00:00:00\",\"2014-10-21T00:00:00\",\"2014-10-22T00:00:00\",\"2014-10-23T00:00:00\",\"2014-10-24T00:00:00\",\"2014-10-25T00:00:00\",\"2014-10-26T00:00:00\",\"2014-10-27T00:00:00\",\"2014-10-28T00:00:00\",\"2014-10-29T00:00:00\",\"2014-10-30T00:00:00\",\"2014-10-31T00:00:00\",\"2014-11-01T00:00:00\",\"2014-11-02T00:00:00\",\"2014-11-03T00:00:00\",\"2014-11-04T00:00:00\",\"2014-11-05T00:00:00\",\"2014-11-06T00:00:00\",\"2014-11-07T00:00:00\",\"2014-11-08T00:00:00\",\"2014-11-09T00:00:00\",\"2014-11-10T00:00:00\",\"2014-11-11T00:00:00\",\"2014-11-12T00:00:00\",\"2014-11-13T00:00:00\",\"2014-11-14T00:00:00\",\"2014-11-15T00:00:00\",\"2014-11-16T00:00:00\",\"2014-11-17T00:00:00\",\"2014-11-18T00:00:00\",\"2014-11-19T00:00:00\",\"2014-11-20T00:00:00\",\"2014-11-21T00:00:00\",\"2014-11-22T00:00:00\",\"2014-11-23T00:00:00\",\"2014-11-24T00:00:00\",\"2014-11-25T00:00:00\",\"2014-11-26T00:00:00\",\"2014-11-27T00:00:00\",\"2014-11-28T00:00:00\",\"2014-11-29T00:00:00\",\"2014-11-30T00:00:00\",\"2014-12-01T00:00:00\",\"2014-12-02T00:00:00\",\"2014-12-03T00:00:00\",\"2014-12-04T00:00:00\",\"2014-12-05T00:00:00\",\"2014-12-06T00:00:00\",\"2014-12-07T00:00:00\",\"2014-12-08T00:00:00\",\"2014-12-09T00:00:00\",\"2014-12-10T00:00:00\",\"2014-12-11T00:00:00\",\"2014-12-12T00:00:00\",\"2014-12-13T00:00:00\",\"2014-12-14T00:00:00\",\"2014-12-15T00:00:00\",\"2014-12-16T00:00:00\",\"2014-12-17T00:00:00\",\"2014-12-18T00:00:00\",\"2014-12-19T00:00:00\",\"2014-12-20T00:00:00\",\"2014-12-21T00:00:00\",\"2014-12-22T00:00:00\",\"2014-12-23T00:00:00\",\"2014-12-24T00:00:00\",\"2014-12-25T00:00:00\",\"2014-12-26T00:00:00\",\"2014-12-27T00:00:00\",\"2014-12-28T00:00:00\",\"2014-12-29T00:00:00\",\"2014-12-30T00:00:00\",\"2014-12-31T00:00:00\",\"2015-01-01T00:00:00\",\"2015-01-02T00:00:00\",\"2015-01-03T00:00:00\",\"2015-01-04T00:00:00\",\"2015-01-05T00:00:00\",\"2015-01-06T00:00:00\",\"2015-01-07T00:00:00\",\"2015-01-08T00:00:00\",\"2015-01-09T00:00:00\",\"2015-01-10T00:00:00\",\"2015-01-11T00:00:00\",\"2015-01-12T00:00:00\",\"2015-01-13T00:00:00\",\"2015-01-14T00:00:00\",\"2015-01-15T00:00:00\",\"2015-01-16T00:00:00\",\"2015-01-17T00:00:00\",\"2015-01-18T00:00:00\",\"2015-01-19T00:00:00\",\"2015-01-20T00:00:00\",\"2015-01-21T00:00:00\",\"2015-01-22T00:00:00\",\"2015-01-23T00:00:00\",\"2015-01-24T00:00:00\",\"2015-01-25T00:00:00\",\"2015-01-26T00:00:00\",\"2015-01-27T00:00:00\",\"2015-01-28T00:00:00\",\"2015-01-29T00:00:00\",\"2015-01-30T00:00:00\",\"2015-01-31T00:00:00\",\"2015-02-01T00:00:00\",\"2015-02-02T00:00:00\",\"2015-02-03T00:00:00\",\"2015-02-04T00:00:00\",\"2015-02-05T00:00:00\",\"2015-02-06T00:00:00\",\"2015-02-07T00:00:00\",\"2015-02-08T00:00:00\",\"2015-02-09T00:00:00\",\"2015-02-10T00:00:00\",\"2015-02-11T00:00:00\",\"2015-02-12T00:00:00\",\"2015-02-13T00:00:00\",\"2015-02-14T00:00:00\",\"2015-02-15T00:00:00\",\"2015-02-16T00:00:00\",\"2015-02-17T00:00:00\",\"2015-02-18T00:00:00\",\"2015-02-19T00:00:00\",\"2015-02-20T00:00:00\",\"2015-02-21T00:00:00\",\"2015-02-22T00:00:00\",\"2015-02-23T00:00:00\",\"2015-02-24T00:00:00\",\"2015-02-25T00:00:00\",\"2015-02-26T00:00:00\",\"2015-02-27T00:00:00\",\"2015-02-28T00:00:00\",\"2015-03-01T00:00:00\",\"2015-03-02T00:00:00\",\"2015-03-03T00:00:00\",\"2015-03-04T00:00:00\",\"2015-03-05T00:00:00\",\"2015-03-06T00:00:00\",\"2015-03-07T00:00:00\",\"2015-03-08T00:00:00\",\"2015-03-09T00:00:00\",\"2015-03-10T00:00:00\",\"2015-03-11T00:00:00\",\"2015-03-12T00:00:00\",\"2015-03-13T00:00:00\",\"2015-03-14T00:00:00\",\"2015-03-15T00:00:00\",\"2015-03-16T00:00:00\",\"2015-03-17T00:00:00\",\"2015-03-18T00:00:00\",\"2015-03-19T00:00:00\",\"2015-03-20T00:00:00\",\"2015-03-21T00:00:00\",\"2015-03-22T00:00:00\",\"2015-03-23T00:00:00\",\"2015-03-24T00:00:00\",\"2015-03-25T00:00:00\",\"2015-03-26T00:00:00\",\"2015-03-27T00:00:00\",\"2015-03-28T00:00:00\",\"2015-03-29T00:00:00\",\"2015-03-30T00:00:00\",\"2015-03-31T00:00:00\",\"2015-04-01T00:00:00\",\"2015-04-02T00:00:00\",\"2015-04-03T00:00:00\",\"2015-04-04T00:00:00\",\"2015-04-05T00:00:00\",\"2015-04-06T00:00:00\",\"2015-04-07T00:00:00\",\"2015-04-08T00:00:00\",\"2015-04-09T00:00:00\",\"2015-04-10T00:00:00\",\"2015-04-11T00:00:00\",\"2015-04-12T00:00:00\",\"2015-04-13T00:00:00\",\"2015-04-14T00:00:00\",\"2015-04-15T00:00:00\",\"2015-04-16T00:00:00\",\"2015-04-17T00:00:00\",\"2015-04-18T00:00:00\",\"2015-04-19T00:00:00\",\"2015-04-20T00:00:00\",\"2015-04-21T00:00:00\",\"2015-04-22T00:00:00\",\"2015-04-23T00:00:00\",\"2015-04-24T00:00:00\",\"2015-04-25T00:00:00\",\"2015-04-26T00:00:00\",\"2015-04-27T00:00:00\",\"2015-04-28T00:00:00\",\"2015-04-29T00:00:00\",\"2015-04-30T00:00:00\",\"2015-05-01T00:00:00\",\"2015-05-02T00:00:00\",\"2015-05-03T00:00:00\",\"2015-05-04T00:00:00\",\"2015-05-05T00:00:00\",\"2015-05-06T00:00:00\",\"2015-05-07T00:00:00\",\"2015-05-08T00:00:00\",\"2015-05-09T00:00:00\",\"2015-05-10T00:00:00\",\"2015-05-11T00:00:00\",\"2015-05-12T00:00:00\",\"2015-05-13T00:00:00\",\"2015-05-14T00:00:00\",\"2015-05-15T00:00:00\",\"2015-05-16T00:00:00\",\"2015-05-17T00:00:00\",\"2015-05-18T00:00:00\",\"2015-05-19T00:00:00\",\"2015-05-20T00:00:00\",\"2015-05-21T00:00:00\",\"2015-05-22T00:00:00\",\"2015-05-23T00:00:00\",\"2015-05-24T00:00:00\",\"2015-05-25T00:00:00\",\"2015-05-26T00:00:00\",\"2015-05-27T00:00:00\",\"2015-05-28T00:00:00\",\"2015-05-29T00:00:00\",\"2015-05-30T00:00:00\",\"2015-05-31T00:00:00\",\"2015-06-01T00:00:00\",\"2015-06-02T00:00:00\",\"2015-06-03T00:00:00\",\"2015-06-04T00:00:00\",\"2015-06-05T00:00:00\",\"2015-06-06T00:00:00\",\"2015-06-07T00:00:00\",\"2015-06-08T00:00:00\",\"2015-06-09T00:00:00\",\"2015-06-10T00:00:00\",\"2015-06-11T00:00:00\",\"2015-06-12T00:00:00\",\"2015-06-13T00:00:00\",\"2015-06-14T00:00:00\",\"2015-06-15T00:00:00\",\"2015-06-16T00:00:00\",\"2015-06-17T00:00:00\",\"2015-06-18T00:00:00\",\"2015-06-19T00:00:00\",\"2015-06-20T00:00:00\",\"2015-06-21T00:00:00\",\"2015-06-22T00:00:00\",\"2015-06-23T00:00:00\",\"2015-06-24T00:00:00\",\"2015-06-25T00:00:00\",\"2015-06-26T00:00:00\",\"2015-06-27T00:00:00\",\"2015-06-28T00:00:00\",\"2015-06-29T00:00:00\",\"2015-06-30T00:00:00\",\"2015-07-01T00:00:00\",\"2015-07-02T00:00:00\",\"2015-07-03T00:00:00\",\"2015-07-04T00:00:00\",\"2015-07-05T00:00:00\",\"2015-07-06T00:00:00\",\"2015-07-07T00:00:00\",\"2015-07-08T00:00:00\",\"2015-07-09T00:00:00\",\"2015-07-10T00:00:00\",\"2015-07-11T00:00:00\",\"2015-07-12T00:00:00\",\"2015-07-13T00:00:00\",\"2015-07-14T00:00:00\",\"2015-07-15T00:00:00\",\"2015-07-16T00:00:00\",\"2015-07-17T00:00:00\",\"2015-07-18T00:00:00\",\"2015-07-19T00:00:00\",\"2015-07-20T00:00:00\",\"2015-07-21T00:00:00\",\"2015-07-22T00:00:00\",\"2015-07-23T00:00:00\",\"2015-07-24T00:00:00\",\"2015-07-25T00:00:00\",\"2015-07-26T00:00:00\",\"2015-07-27T00:00:00\",\"2015-07-28T00:00:00\",\"2015-07-29T00:00:00\",\"2015-07-30T00:00:00\",\"2015-07-31T00:00:00\",\"2015-08-01T00:00:00\",\"2015-08-02T00:00:00\",\"2015-08-03T00:00:00\",\"2015-08-04T00:00:00\",\"2015-08-05T00:00:00\",\"2015-08-06T00:00:00\",\"2015-08-07T00:00:00\",\"2015-08-08T00:00:00\",\"2015-08-09T00:00:00\",\"2015-08-10T00:00:00\",\"2015-08-11T00:00:00\",\"2015-08-12T00:00:00\",\"2015-08-13T00:00:00\",\"2015-08-14T00:00:00\",\"2015-08-15T00:00:00\",\"2015-08-16T00:00:00\",\"2015-08-17T00:00:00\",\"2015-08-18T00:00:00\",\"2015-08-19T00:00:00\",\"2015-08-20T00:00:00\",\"2015-08-21T00:00:00\",\"2015-08-22T00:00:00\",\"2015-08-23T00:00:00\",\"2015-08-24T00:00:00\",\"2015-08-25T00:00:00\",\"2015-08-26T00:00:00\",\"2015-08-27T00:00:00\",\"2015-08-28T00:00:00\",\"2015-08-29T00:00:00\",\"2015-08-30T00:00:00\",\"2015-08-31T00:00:00\",\"2015-09-01T00:00:00\",\"2015-09-02T00:00:00\",\"2015-09-03T00:00:00\",\"2015-09-04T00:00:00\",\"2015-09-05T00:00:00\",\"2015-09-06T00:00:00\",\"2015-09-07T00:00:00\",\"2015-09-08T00:00:00\",\"2015-09-09T00:00:00\",\"2015-09-10T00:00:00\",\"2015-09-11T00:00:00\",\"2015-09-12T00:00:00\",\"2015-09-13T00:00:00\",\"2015-09-14T00:00:00\",\"2015-09-15T00:00:00\",\"2015-09-16T00:00:00\",\"2015-09-17T00:00:00\",\"2015-09-18T00:00:00\",\"2015-09-19T00:00:00\",\"2015-09-20T00:00:00\",\"2015-09-21T00:00:00\",\"2015-09-22T00:00:00\",\"2015-09-23T00:00:00\",\"2015-09-24T00:00:00\",\"2015-09-25T00:00:00\",\"2015-09-26T00:00:00\",\"2015-09-27T00:00:00\",\"2015-09-28T00:00:00\",\"2015-09-29T00:00:00\",\"2015-09-30T00:00:00\",\"2015-10-01T00:00:00\",\"2015-10-02T00:00:00\",\"2015-10-03T00:00:00\",\"2015-10-04T00:00:00\",\"2015-10-05T00:00:00\",\"2015-10-06T00:00:00\",\"2015-10-07T00:00:00\",\"2015-10-08T00:00:00\",\"2015-10-09T00:00:00\",\"2015-10-10T00:00:00\",\"2015-10-11T00:00:00\",\"2015-10-12T00:00:00\",\"2015-10-13T00:00:00\",\"2015-10-14T00:00:00\",\"2015-10-15T00:00:00\",\"2015-10-16T00:00:00\",\"2015-10-17T00:00:00\",\"2015-10-18T00:00:00\",\"2015-10-19T00:00:00\",\"2015-10-20T00:00:00\",\"2015-10-21T00:00:00\",\"2015-10-22T00:00:00\",\"2015-10-23T00:00:00\",\"2015-10-24T00:00:00\",\"2015-10-25T00:00:00\",\"2015-10-26T00:00:00\",\"2015-10-27T00:00:00\",\"2015-10-28T00:00:00\",\"2015-10-29T00:00:00\",\"2015-10-30T00:00:00\",\"2015-10-31T00:00:00\",\"2015-11-01T00:00:00\",\"2015-11-02T00:00:00\",\"2015-11-03T00:00:00\",\"2015-11-04T00:00:00\",\"2015-11-05T00:00:00\",\"2015-11-06T00:00:00\",\"2015-11-07T00:00:00\",\"2015-11-08T00:00:00\",\"2015-11-09T00:00:00\",\"2015-11-10T00:00:00\",\"2015-11-11T00:00:00\",\"2015-11-12T00:00:00\",\"2015-11-13T00:00:00\",\"2015-11-14T00:00:00\",\"2015-11-15T00:00:00\",\"2015-11-16T00:00:00\",\"2015-11-17T00:00:00\",\"2015-11-18T00:00:00\",\"2015-11-19T00:00:00\",\"2015-11-20T00:00:00\",\"2015-11-21T00:00:00\",\"2015-11-22T00:00:00\",\"2015-11-23T00:00:00\",\"2015-11-24T00:00:00\",\"2015-11-25T00:00:00\",\"2015-11-26T00:00:00\",\"2015-11-27T00:00:00\",\"2015-11-28T00:00:00\",\"2015-11-29T00:00:00\",\"2015-11-30T00:00:00\",\"2015-12-01T00:00:00\",\"2015-12-02T00:00:00\",\"2015-12-03T00:00:00\",\"2015-12-04T00:00:00\",\"2015-12-05T00:00:00\",\"2015-12-06T00:00:00\",\"2015-12-07T00:00:00\",\"2015-12-08T00:00:00\",\"2015-12-09T00:00:00\",\"2015-12-10T00:00:00\",\"2015-12-11T00:00:00\",\"2015-12-12T00:00:00\",\"2015-12-13T00:00:00\",\"2015-12-14T00:00:00\",\"2015-12-15T00:00:00\",\"2015-12-16T00:00:00\",\"2015-12-17T00:00:00\",\"2015-12-18T00:00:00\",\"2015-12-19T00:00:00\",\"2015-12-20T00:00:00\",\"2015-12-21T00:00:00\",\"2015-12-22T00:00:00\",\"2015-12-23T00:00:00\",\"2015-12-24T00:00:00\",\"2015-12-25T00:00:00\",\"2015-12-26T00:00:00\",\"2015-12-27T00:00:00\",\"2015-12-28T00:00:00\",\"2015-12-29T00:00:00\",\"2015-12-30T00:00:00\",\"2015-12-31T00:00:00\",\"2016-01-01T00:00:00\",\"2016-01-02T00:00:00\",\"2016-01-03T00:00:00\",\"2016-01-04T00:00:00\",\"2016-01-05T00:00:00\",\"2016-01-06T00:00:00\",\"2016-01-07T00:00:00\",\"2016-01-08T00:00:00\",\"2016-01-09T00:00:00\",\"2016-01-10T00:00:00\",\"2016-01-11T00:00:00\",\"2016-01-12T00:00:00\",\"2016-01-13T00:00:00\",\"2016-01-14T00:00:00\",\"2016-01-15T00:00:00\",\"2016-01-16T00:00:00\",\"2016-01-17T00:00:00\",\"2016-01-18T00:00:00\",\"2016-01-19T00:00:00\",\"2016-01-20T00:00:00\",\"2016-01-21T00:00:00\",\"2016-01-22T00:00:00\",\"2016-01-23T00:00:00\",\"2016-01-24T00:00:00\",\"2016-01-25T00:00:00\",\"2016-01-26T00:00:00\",\"2016-01-27T00:00:00\",\"2016-01-28T00:00:00\",\"2016-01-29T00:00:00\",\"2016-01-30T00:00:00\",\"2016-01-31T00:00:00\",\"2016-02-01T00:00:00\",\"2016-02-02T00:00:00\",\"2016-02-03T00:00:00\",\"2016-02-04T00:00:00\",\"2016-02-05T00:00:00\",\"2016-02-06T00:00:00\",\"2016-02-07T00:00:00\",\"2016-02-08T00:00:00\",\"2016-02-09T00:00:00\",\"2016-02-10T00:00:00\",\"2016-02-11T00:00:00\",\"2016-02-12T00:00:00\",\"2016-02-13T00:00:00\",\"2016-02-14T00:00:00\",\"2016-02-15T00:00:00\",\"2016-02-16T00:00:00\",\"2016-02-17T00:00:00\",\"2016-02-18T00:00:00\",\"2016-02-19T00:00:00\",\"2016-02-20T00:00:00\",\"2016-02-21T00:00:00\",\"2016-02-22T00:00:00\",\"2016-02-23T00:00:00\",\"2016-02-24T00:00:00\",\"2016-02-25T00:00:00\",\"2016-02-26T00:00:00\",\"2016-02-27T00:00:00\",\"2016-02-28T00:00:00\",\"2016-02-29T00:00:00\",\"2016-03-01T00:00:00\",\"2016-03-02T00:00:00\",\"2016-03-03T00:00:00\",\"2016-03-04T00:00:00\",\"2016-03-05T00:00:00\",\"2016-03-06T00:00:00\",\"2016-03-07T00:00:00\",\"2016-03-08T00:00:00\",\"2016-03-09T00:00:00\",\"2016-03-10T00:00:00\",\"2016-03-11T00:00:00\",\"2016-03-12T00:00:00\",\"2016-03-13T00:00:00\",\"2016-03-14T00:00:00\",\"2016-03-15T00:00:00\",\"2016-03-16T00:00:00\",\"2016-03-17T00:00:00\",\"2016-03-18T00:00:00\",\"2016-03-19T00:00:00\",\"2016-03-20T00:00:00\",\"2016-03-21T00:00:00\",\"2016-03-22T00:00:00\",\"2016-03-23T00:00:00\",\"2016-03-24T00:00:00\",\"2016-03-25T00:00:00\",\"2016-03-26T00:00:00\",\"2016-03-27T00:00:00\",\"2016-03-28T00:00:00\",\"2016-03-29T00:00:00\",\"2016-03-30T00:00:00\",\"2016-03-31T00:00:00\",\"2016-04-01T00:00:00\",\"2016-04-02T00:00:00\",\"2016-04-03T00:00:00\",\"2016-04-04T00:00:00\",\"2016-04-05T00:00:00\",\"2016-04-06T00:00:00\",\"2016-04-07T00:00:00\",\"2016-04-08T00:00:00\",\"2016-04-09T00:00:00\",\"2016-04-10T00:00:00\",\"2016-04-11T00:00:00\",\"2016-04-12T00:00:00\",\"2016-04-13T00:00:00\",\"2016-04-14T00:00:00\",\"2016-04-15T00:00:00\",\"2016-04-16T00:00:00\",\"2016-04-17T00:00:00\",\"2016-04-18T00:00:00\",\"2016-04-19T00:00:00\",\"2016-04-20T00:00:00\",\"2016-04-21T00:00:00\",\"2016-04-22T00:00:00\",\"2016-04-23T00:00:00\",\"2016-04-24T00:00:00\",\"2016-04-25T00:00:00\",\"2016-04-26T00:00:00\",\"2016-04-27T00:00:00\",\"2016-04-28T00:00:00\",\"2016-04-29T00:00:00\",\"2016-04-30T00:00:00\",\"2016-05-01T00:00:00\",\"2016-05-02T00:00:00\",\"2016-05-03T00:00:00\",\"2016-05-04T00:00:00\",\"2016-05-05T00:00:00\",\"2016-05-06T00:00:00\",\"2016-05-07T00:00:00\",\"2016-05-08T00:00:00\",\"2016-05-09T00:00:00\",\"2016-05-10T00:00:00\",\"2016-05-11T00:00:00\",\"2016-05-12T00:00:00\",\"2016-05-13T00:00:00\",\"2016-05-14T00:00:00\",\"2016-05-15T00:00:00\",\"2016-05-16T00:00:00\",\"2016-05-17T00:00:00\",\"2016-05-18T00:00:00\",\"2016-05-19T00:00:00\",\"2016-05-20T00:00:00\",\"2016-05-21T00:00:00\",\"2016-05-22T00:00:00\",\"2016-05-23T00:00:00\",\"2016-05-24T00:00:00\",\"2016-05-25T00:00:00\",\"2016-05-26T00:00:00\",\"2016-05-27T00:00:00\",\"2016-05-28T00:00:00\",\"2016-05-29T00:00:00\",\"2016-05-30T00:00:00\",\"2016-05-31T00:00:00\",\"2016-06-01T00:00:00\",\"2016-06-02T00:00:00\",\"2016-06-03T00:00:00\",\"2016-06-04T00:00:00\",\"2016-06-05T00:00:00\",\"2016-06-06T00:00:00\",\"2016-06-07T00:00:00\",\"2016-06-08T00:00:00\",\"2016-06-09T00:00:00\",\"2016-06-10T00:00:00\",\"2016-06-11T00:00:00\",\"2016-06-12T00:00:00\",\"2016-06-13T00:00:00\",\"2016-06-14T00:00:00\",\"2016-06-15T00:00:00\",\"2016-06-16T00:00:00\",\"2016-06-17T00:00:00\",\"2016-06-18T00:00:00\",\"2016-06-19T00:00:00\",\"2016-06-20T00:00:00\",\"2016-06-21T00:00:00\",\"2016-06-22T00:00:00\",\"2016-06-23T00:00:00\",\"2016-06-24T00:00:00\",\"2016-06-25T00:00:00\",\"2016-06-26T00:00:00\",\"2016-06-27T00:00:00\",\"2016-06-28T00:00:00\",\"2016-06-29T00:00:00\",\"2016-06-30T00:00:00\",\"2016-07-01T00:00:00\",\"2016-07-02T00:00:00\",\"2016-07-03T00:00:00\",\"2016-07-04T00:00:00\",\"2016-07-05T00:00:00\",\"2016-07-06T00:00:00\",\"2016-07-07T00:00:00\",\"2016-07-08T00:00:00\",\"2016-07-09T00:00:00\",\"2016-07-10T00:00:00\",\"2016-07-11T00:00:00\",\"2016-07-12T00:00:00\",\"2016-07-13T00:00:00\",\"2016-07-14T00:00:00\",\"2016-07-15T00:00:00\",\"2016-07-16T00:00:00\",\"2016-07-17T00:00:00\",\"2016-07-18T00:00:00\",\"2016-07-19T00:00:00\",\"2016-07-20T00:00:00\",\"2016-07-21T00:00:00\",\"2016-07-22T00:00:00\",\"2016-07-23T00:00:00\",\"2016-07-24T00:00:00\",\"2016-07-25T00:00:00\",\"2016-07-26T00:00:00\",\"2016-07-27T00:00:00\",\"2016-07-28T00:00:00\",\"2016-07-29T00:00:00\",\"2016-07-30T00:00:00\",\"2016-07-31T00:00:00\",\"2016-08-01T00:00:00\",\"2016-08-02T00:00:00\",\"2016-08-03T00:00:00\",\"2016-08-04T00:00:00\",\"2016-08-05T00:00:00\",\"2016-08-06T00:00:00\",\"2016-08-07T00:00:00\",\"2016-08-08T00:00:00\",\"2016-08-09T00:00:00\",\"2016-08-10T00:00:00\",\"2016-08-11T00:00:00\",\"2016-08-12T00:00:00\",\"2016-08-13T00:00:00\",\"2016-08-14T00:00:00\",\"2016-08-15T00:00:00\",\"2016-08-16T00:00:00\",\"2016-08-17T00:00:00\",\"2016-08-18T00:00:00\",\"2016-08-19T00:00:00\",\"2016-08-20T00:00:00\",\"2016-08-21T00:00:00\",\"2016-08-22T00:00:00\",\"2016-08-23T00:00:00\",\"2016-08-24T00:00:00\",\"2016-08-25T00:00:00\",\"2016-08-26T00:00:00\",\"2016-08-27T00:00:00\",\"2016-08-28T00:00:00\",\"2016-08-29T00:00:00\",\"2016-08-30T00:00:00\",\"2016-08-31T00:00:00\",\"2016-09-01T00:00:00\",\"2016-09-02T00:00:00\",\"2016-09-03T00:00:00\",\"2016-09-04T00:00:00\",\"2016-09-05T00:00:00\",\"2016-09-06T00:00:00\",\"2016-09-07T00:00:00\",\"2016-09-08T00:00:00\",\"2016-09-09T00:00:00\",\"2016-09-10T00:00:00\",\"2016-09-11T00:00:00\",\"2016-09-12T00:00:00\",\"2016-09-13T00:00:00\",\"2016-09-14T00:00:00\",\"2016-09-15T00:00:00\",\"2016-09-16T00:00:00\",\"2016-09-17T00:00:00\",\"2016-09-18T00:00:00\",\"2016-09-19T00:00:00\",\"2016-09-20T00:00:00\",\"2016-09-21T00:00:00\",\"2016-09-22T00:00:00\",\"2016-09-23T00:00:00\",\"2016-09-24T00:00:00\",\"2016-09-25T00:00:00\",\"2016-09-26T00:00:00\",\"2016-09-27T00:00:00\",\"2016-09-28T00:00:00\",\"2016-09-29T00:00:00\",\"2016-09-30T00:00:00\",\"2016-10-01T00:00:00\",\"2016-10-02T00:00:00\",\"2016-10-03T00:00:00\",\"2016-10-04T00:00:00\",\"2016-10-05T00:00:00\",\"2016-10-06T00:00:00\",\"2016-10-07T00:00:00\",\"2016-10-08T00:00:00\",\"2016-10-09T00:00:00\",\"2016-10-10T00:00:00\",\"2016-10-11T00:00:00\",\"2016-10-12T00:00:00\",\"2016-10-13T00:00:00\",\"2016-10-14T00:00:00\",\"2016-10-15T00:00:00\",\"2016-10-16T00:00:00\",\"2016-10-17T00:00:00\",\"2016-10-18T00:00:00\",\"2016-10-19T00:00:00\",\"2016-10-20T00:00:00\",\"2016-10-21T00:00:00\",\"2016-10-22T00:00:00\",\"2016-10-23T00:00:00\",\"2016-10-24T00:00:00\",\"2016-10-25T00:00:00\",\"2016-10-26T00:00:00\",\"2016-10-27T00:00:00\",\"2016-10-28T00:00:00\",\"2016-10-29T00:00:00\",\"2016-10-30T00:00:00\",\"2016-10-31T00:00:00\",\"2016-11-01T00:00:00\",\"2016-11-02T00:00:00\",\"2016-11-03T00:00:00\",\"2016-11-04T00:00:00\",\"2016-11-05T00:00:00\",\"2016-11-06T00:00:00\",\"2016-11-07T00:00:00\",\"2016-11-08T00:00:00\",\"2016-11-09T00:00:00\",\"2016-11-10T00:00:00\",\"2016-11-11T00:00:00\",\"2016-11-12T00:00:00\",\"2016-11-13T00:00:00\",\"2016-11-14T00:00:00\",\"2016-11-15T00:00:00\",\"2016-11-16T00:00:00\",\"2016-11-17T00:00:00\",\"2016-11-18T00:00:00\",\"2016-11-19T00:00:00\",\"2016-11-20T00:00:00\",\"2016-11-21T00:00:00\",\"2016-11-22T00:00:00\",\"2016-11-23T00:00:00\",\"2016-11-24T00:00:00\",\"2016-11-25T00:00:00\",\"2016-11-26T00:00:00\",\"2016-11-27T00:00:00\",\"2016-11-28T00:00:00\",\"2016-11-29T00:00:00\",\"2016-11-30T00:00:00\",\"2016-12-01T00:00:00\",\"2016-12-02T00:00:00\",\"2016-12-03T00:00:00\",\"2016-12-04T00:00:00\",\"2016-12-05T00:00:00\",\"2016-12-06T00:00:00\",\"2016-12-07T00:00:00\",\"2016-12-08T00:00:00\",\"2016-12-09T00:00:00\",\"2016-12-10T00:00:00\",\"2016-12-11T00:00:00\",\"2016-12-12T00:00:00\",\"2016-12-13T00:00:00\",\"2016-12-14T00:00:00\",\"2016-12-15T00:00:00\",\"2016-12-16T00:00:00\",\"2016-12-17T00:00:00\",\"2016-12-18T00:00:00\",\"2016-12-19T00:00:00\",\"2016-12-20T00:00:00\",\"2016-12-21T00:00:00\",\"2016-12-22T00:00:00\",\"2016-12-23T00:00:00\",\"2016-12-24T00:00:00\",\"2016-12-25T00:00:00\",\"2016-12-26T00:00:00\",\"2016-12-27T00:00:00\",\"2016-12-28T00:00:00\",\"2016-12-29T00:00:00\",\"2016-12-30T00:00:00\",\"2016-12-31T00:00:00\",\"2017-01-01T00:00:00\",\"2017-01-02T00:00:00\",\"2017-01-03T00:00:00\",\"2017-01-04T00:00:00\",\"2017-01-05T00:00:00\",\"2017-01-06T00:00:00\",\"2017-01-07T00:00:00\",\"2017-01-08T00:00:00\",\"2017-01-09T00:00:00\",\"2017-01-10T00:00:00\",\"2017-01-11T00:00:00\",\"2017-01-12T00:00:00\",\"2017-01-13T00:00:00\",\"2017-01-14T00:00:00\",\"2017-01-15T00:00:00\",\"2017-01-16T00:00:00\",\"2017-01-17T00:00:00\",\"2017-01-18T00:00:00\",\"2017-01-19T00:00:00\",\"2017-01-20T00:00:00\",\"2017-01-21T00:00:00\",\"2017-01-22T00:00:00\",\"2017-01-23T00:00:00\",\"2017-01-24T00:00:00\",\"2017-01-25T00:00:00\",\"2017-01-26T00:00:00\",\"2017-01-27T00:00:00\",\"2017-01-28T00:00:00\",\"2017-01-29T00:00:00\",\"2017-01-30T00:00:00\",\"2017-01-31T00:00:00\",\"2017-02-01T00:00:00\",\"2017-02-02T00:00:00\",\"2017-02-03T00:00:00\",\"2017-02-04T00:00:00\",\"2017-02-05T00:00:00\",\"2017-02-06T00:00:00\",\"2017-02-07T00:00:00\",\"2017-02-08T00:00:00\",\"2017-02-09T00:00:00\",\"2017-02-10T00:00:00\",\"2017-02-11T00:00:00\",\"2017-02-12T00:00:00\",\"2017-02-13T00:00:00\",\"2017-02-14T00:00:00\",\"2017-02-15T00:00:00\",\"2017-02-16T00:00:00\",\"2017-02-17T00:00:00\",\"2017-02-18T00:00:00\",\"2017-02-19T00:00:00\",\"2017-02-20T00:00:00\",\"2017-02-21T00:00:00\",\"2017-02-22T00:00:00\",\"2017-02-23T00:00:00\",\"2017-02-24T00:00:00\",\"2017-02-25T00:00:00\",\"2017-02-26T00:00:00\",\"2017-02-27T00:00:00\",\"2017-02-28T00:00:00\",\"2017-03-01T00:00:00\",\"2017-03-02T00:00:00\",\"2017-03-03T00:00:00\",\"2017-03-04T00:00:00\",\"2017-03-05T00:00:00\",\"2017-03-06T00:00:00\",\"2017-03-07T00:00:00\",\"2017-03-08T00:00:00\",\"2017-03-09T00:00:00\",\"2017-03-10T00:00:00\",\"2017-03-11T00:00:00\",\"2017-03-12T00:00:00\",\"2017-03-13T00:00:00\",\"2017-03-14T00:00:00\",\"2017-03-15T00:00:00\",\"2017-03-16T00:00:00\",\"2017-03-17T00:00:00\",\"2017-03-18T00:00:00\",\"2017-03-19T00:00:00\",\"2017-03-20T00:00:00\",\"2017-03-21T00:00:00\",\"2017-03-22T00:00:00\",\"2017-03-23T00:00:00\",\"2017-03-24T00:00:00\",\"2017-03-25T00:00:00\",\"2017-03-26T00:00:00\",\"2017-03-27T00:00:00\",\"2017-03-28T00:00:00\",\"2017-03-29T00:00:00\",\"2017-03-30T00:00:00\",\"2017-03-31T00:00:00\",\"2017-04-01T00:00:00\",\"2017-04-02T00:00:00\",\"2017-04-03T00:00:00\",\"2017-04-04T00:00:00\",\"2017-04-05T00:00:00\",\"2017-04-06T00:00:00\",\"2017-04-07T00:00:00\",\"2017-04-08T00:00:00\",\"2017-04-09T00:00:00\",\"2017-04-10T00:00:00\",\"2017-04-11T00:00:00\",\"2017-04-12T00:00:00\",\"2017-04-13T00:00:00\",\"2017-04-14T00:00:00\",\"2017-04-15T00:00:00\",\"2017-04-16T00:00:00\",\"2017-04-17T00:00:00\",\"2017-04-18T00:00:00\",\"2017-04-19T00:00:00\",\"2017-04-20T00:00:00\",\"2017-04-21T00:00:00\",\"2017-04-22T00:00:00\",\"2017-04-23T00:00:00\",\"2017-04-24T00:00:00\",\"2017-04-25T00:00:00\",\"2017-04-26T00:00:00\",\"2017-04-27T00:00:00\",\"2017-04-28T00:00:00\",\"2017-04-29T00:00:00\",\"2017-04-30T00:00:00\",\"2017-05-01T00:00:00\",\"2017-05-02T00:00:00\",\"2017-05-03T00:00:00\",\"2017-05-04T00:00:00\",\"2017-05-05T00:00:00\",\"2017-05-06T00:00:00\",\"2017-05-07T00:00:00\",\"2017-05-08T00:00:00\",\"2017-05-09T00:00:00\",\"2017-05-10T00:00:00\",\"2017-05-11T00:00:00\",\"2017-05-12T00:00:00\",\"2017-05-13T00:00:00\",\"2017-05-14T00:00:00\",\"2017-05-15T00:00:00\",\"2017-05-16T00:00:00\",\"2017-05-17T00:00:00\",\"2017-05-18T00:00:00\",\"2017-05-19T00:00:00\",\"2017-05-20T00:00:00\",\"2017-05-21T00:00:00\",\"2017-05-22T00:00:00\",\"2017-05-23T00:00:00\",\"2017-05-24T00:00:00\",\"2017-05-25T00:00:00\",\"2017-05-26T00:00:00\",\"2017-05-27T00:00:00\",\"2017-05-28T00:00:00\",\"2017-05-29T00:00:00\",\"2017-05-30T00:00:00\",\"2017-05-31T00:00:00\",\"2017-06-01T00:00:00\",\"2017-06-02T00:00:00\",\"2017-06-03T00:00:00\",\"2017-06-04T00:00:00\",\"2017-06-05T00:00:00\",\"2017-06-06T00:00:00\",\"2017-06-07T00:00:00\",\"2017-06-08T00:00:00\",\"2017-06-09T00:00:00\",\"2017-06-10T00:00:00\",\"2017-06-11T00:00:00\",\"2017-06-12T00:00:00\",\"2017-06-13T00:00:00\",\"2017-06-14T00:00:00\",\"2017-06-15T00:00:00\",\"2017-06-16T00:00:00\",\"2017-06-17T00:00:00\",\"2017-06-18T00:00:00\",\"2017-06-19T00:00:00\",\"2017-06-20T00:00:00\",\"2017-06-21T00:00:00\",\"2017-06-22T00:00:00\",\"2017-06-23T00:00:00\",\"2017-06-24T00:00:00\",\"2017-06-25T00:00:00\",\"2017-06-26T00:00:00\",\"2017-06-27T00:00:00\",\"2017-06-28T00:00:00\",\"2017-06-29T00:00:00\",\"2017-06-30T00:00:00\",\"2017-07-01T00:00:00\",\"2017-07-02T00:00:00\",\"2017-07-03T00:00:00\",\"2017-07-04T00:00:00\",\"2017-07-05T00:00:00\",\"2017-07-06T00:00:00\",\"2017-07-07T00:00:00\",\"2017-07-08T00:00:00\",\"2017-07-09T00:00:00\",\"2017-07-10T00:00:00\",\"2017-07-11T00:00:00\",\"2017-07-12T00:00:00\",\"2017-07-13T00:00:00\",\"2017-07-14T00:00:00\",\"2017-07-15T00:00:00\",\"2017-07-16T00:00:00\",\"2017-07-17T00:00:00\",\"2017-07-18T00:00:00\",\"2017-07-19T00:00:00\",\"2017-07-20T00:00:00\",\"2017-07-21T00:00:00\",\"2017-07-22T00:00:00\",\"2017-07-23T00:00:00\",\"2017-07-24T00:00:00\",\"2017-07-25T00:00:00\",\"2017-07-26T00:00:00\",\"2017-07-27T00:00:00\",\"2017-07-28T00:00:00\",\"2017-07-29T00:00:00\",\"2017-07-30T00:00:00\",\"2017-07-31T00:00:00\",\"2017-08-01T00:00:00\",\"2017-08-02T00:00:00\",\"2017-08-03T00:00:00\",\"2017-08-04T00:00:00\",\"2017-08-05T00:00:00\",\"2017-08-06T00:00:00\",\"2017-08-07T00:00:00\",\"2017-08-08T00:00:00\",\"2017-08-09T00:00:00\",\"2017-08-10T00:00:00\",\"2017-08-11T00:00:00\",\"2017-08-12T00:00:00\",\"2017-08-13T00:00:00\",\"2017-08-14T00:00:00\",\"2017-08-15T00:00:00\",\"2017-08-16T00:00:00\",\"2017-08-17T00:00:00\",\"2017-08-18T00:00:00\",\"2017-08-19T00:00:00\",\"2017-08-20T00:00:00\",\"2017-08-21T00:00:00\",\"2017-08-22T00:00:00\",\"2017-08-23T00:00:00\",\"2017-08-24T00:00:00\",\"2017-08-25T00:00:00\",\"2017-08-26T00:00:00\",\"2017-08-27T00:00:00\",\"2017-08-28T00:00:00\",\"2017-08-29T00:00:00\",\"2017-08-30T00:00:00\",\"2017-08-31T00:00:00\",\"2017-09-01T00:00:00\",\"2017-09-02T00:00:00\",\"2017-09-03T00:00:00\",\"2017-09-04T00:00:00\",\"2017-09-05T00:00:00\",\"2017-09-06T00:00:00\",\"2017-09-07T00:00:00\",\"2017-09-08T00:00:00\",\"2017-09-09T00:00:00\",\"2017-09-10T00:00:00\",\"2017-09-11T00:00:00\",\"2017-09-12T00:00:00\",\"2017-09-13T00:00:00\",\"2017-09-14T00:00:00\",\"2017-09-15T00:00:00\",\"2017-09-16T00:00:00\",\"2017-09-17T00:00:00\",\"2017-09-18T00:00:00\",\"2017-09-19T00:00:00\",\"2017-09-20T00:00:00\",\"2017-09-21T00:00:00\",\"2017-09-22T00:00:00\",\"2017-09-23T00:00:00\",\"2017-09-24T00:00:00\",\"2017-09-25T00:00:00\",\"2017-09-26T00:00:00\",\"2017-09-27T00:00:00\",\"2017-09-28T00:00:00\",\"2017-09-29T00:00:00\",\"2017-09-30T00:00:00\",\"2017-10-01T00:00:00\",\"2017-10-02T00:00:00\",\"2017-10-03T00:00:00\",\"2017-10-04T00:00:00\",\"2017-10-05T00:00:00\",\"2017-10-06T00:00:00\",\"2017-10-07T00:00:00\",\"2017-10-08T00:00:00\",\"2017-10-09T00:00:00\",\"2017-10-10T00:00:00\",\"2017-10-11T00:00:00\",\"2017-10-12T00:00:00\",\"2017-10-13T00:00:00\",\"2017-10-14T00:00:00\",\"2017-10-15T00:00:00\",\"2017-10-16T00:00:00\",\"2017-10-17T00:00:00\",\"2017-10-18T00:00:00\",\"2017-10-19T00:00:00\",\"2017-10-20T00:00:00\",\"2017-10-21T00:00:00\",\"2017-10-22T00:00:00\",\"2017-10-23T00:00:00\",\"2017-10-24T00:00:00\",\"2017-10-25T00:00:00\",\"2017-10-26T00:00:00\",\"2017-10-27T00:00:00\",\"2017-10-28T00:00:00\",\"2017-10-29T00:00:00\",\"2017-10-30T00:00:00\",\"2017-10-31T00:00:00\",\"2017-11-01T00:00:00\",\"2017-11-02T00:00:00\",\"2017-11-03T00:00:00\",\"2017-11-04T00:00:00\",\"2017-11-05T00:00:00\",\"2017-11-06T00:00:00\",\"2017-11-07T00:00:00\",\"2017-11-08T00:00:00\",\"2017-11-09T00:00:00\",\"2017-11-10T00:00:00\",\"2017-11-11T00:00:00\",\"2017-11-12T00:00:00\",\"2017-11-13T00:00:00\",\"2017-11-14T00:00:00\",\"2017-11-15T00:00:00\",\"2017-11-16T00:00:00\",\"2017-11-17T00:00:00\",\"2017-11-18T00:00:00\",\"2017-11-19T00:00:00\",\"2017-11-20T00:00:00\",\"2017-11-21T00:00:00\",\"2017-11-22T00:00:00\",\"2017-11-23T00:00:00\",\"2017-11-24T00:00:00\",\"2017-11-25T00:00:00\",\"2017-11-26T00:00:00\",\"2017-11-27T00:00:00\",\"2017-11-28T00:00:00\",\"2017-11-29T00:00:00\",\"2017-11-30T00:00:00\",\"2017-12-01T00:00:00\",\"2017-12-02T00:00:00\",\"2017-12-03T00:00:00\",\"2017-12-04T00:00:00\",\"2017-12-05T00:00:00\",\"2017-12-06T00:00:00\",\"2017-12-07T00:00:00\",\"2017-12-08T00:00:00\",\"2017-12-09T00:00:00\",\"2017-12-10T00:00:00\",\"2017-12-11T00:00:00\",\"2017-12-12T00:00:00\",\"2017-12-13T00:00:00\",\"2017-12-14T00:00:00\",\"2017-12-15T00:00:00\",\"2017-12-16T00:00:00\",\"2017-12-17T00:00:00\",\"2017-12-18T00:00:00\",\"2017-12-19T00:00:00\",\"2017-12-20T00:00:00\",\"2017-12-21T00:00:00\",\"2017-12-22T00:00:00\",\"2017-12-23T00:00:00\",\"2017-12-24T00:00:00\",\"2017-12-25T00:00:00\",\"2017-12-26T00:00:00\",\"2017-12-27T00:00:00\",\"2017-12-28T00:00:00\",\"2017-12-29T00:00:00\",\"2017-12-30T00:00:00\",\"2017-12-31T00:00:00\"],\"y\":[10672.207792207793,10658.181818181818,11289.35064935065,12215.844155844157,12652.207792207793,13473.506493506495,9170.649350649352,10566.233766233767,10814.025974025975,11409.35064935065,12181.558441558442,12996.623376623376,13824.155844155845,9152.727272727274,10616.883116883117,10590.389610389611,11366.493506493507,12074.025974025975,12696.623376623376,13723.636363636364,9123.896103896104,10694.025974025975,10607.532467532468,11276.883116883117,12187.012987012988,12904.675324675325,13697.922077922078,9232.207792207793,10694.025974025975,10434.545454545454,11473.246753246754,13615.324675324677,14277.662337662337,15229.09090909091,10128.311688311689,11654.025974025975,11784.935064935065,12554.805194805196,13597.402597402597,14357.142857142857,15195.584415584417,10099.48051948052,11808.311688311689,11901.818181818182,12762.857142857143,13685.454545454546,14359.48051948052,15196.363636363638,10019.22077922078,11968.051948051949,11617.402597402597,12723.896103896104,13552.987012987014,14365.714285714286,15180.77922077922,10175.064935064935,11831.688311688313,11699.22077922078,12645.194805194806,16346.493506493507,17216.103896103898,18124.675324675325,12241.558441558442,14173.246753246754,14364.935064935065,15046.753246753247,16172.727272727274,17184.935064935067,18118.44155844156,11940.0,14048.57142857143,14347.792207792209,15112.987012987014,16101.038961038961,17255.064935064936,18185.454545454548,12142.597402597403,14209.09090909091,14101.558441558442,15120.77922077922,16217.142857142859,17227.01298701299,18145.714285714286,12192.467532467534,14265.974025974027,14241.038961038961,15383.376623376624,16138.441558441558,17370.38961038961,18340.51948051948,14184.935064935065,16533.506493506495,16461.03896103896,17812.20779220779,18841.55844155844,20107.79220779221,21172.987012987014,14029.87012987013,16500.779220779223,16517.14285714286,17902.597402597403,18843.896103896106,20071.16883116883,21342.077922077922,14088.311688311689,16697.922077922078,16526.49350649351,17795.844155844155,18761.298701298703,19911.428571428572,21379.48051948052,14349.35064935065,16710.38961038961,16692.467532467534,17615.844155844155,18937.402597402597,19775.844155844155,21436.363636363636,14045.454545454546,16596.623376623378,17896.363636363636,19132.20779220779,20256.623376623378,21626.49350649351,22860.779220779223,15166.753246753247,17768.571428571428,17844.935064935067,19016.103896103898,20231.68831168831,21442.597402597403,22572.467532467534,15002.337662337663,17852.727272727272,17790.38961038961,18952.987012987014,20092.987012987014,21487.01298701299,22711.168831168834,15169.09090909091,17727.272727272728,17916.623376623378,19073.766233766233,20220.779220779223,21684.155844155845,23061.03896103896,15171.428571428572,17824.675324675325,17905.714285714286,18942.857142857145,20331.428571428572,22768.83116883117,24373.246753246753,16073.766233766235,18730.909090909092,18955.324675324675,20410.12987012987,21610.909090909092,22976.883116883117,24130.129870129873,16207.012987012988,19210.12987012987,18946.753246753247,20149.87012987013,21533.766233766233,22905.97402597403,24316.363636363636,15998.961038961039,18967.79220779221,18822.077922077922,20359.48051948052,21558.7012987013,22958.96103896104,24522.077922077922,16288.83116883117,18790.909090909092,19051.16883116883,20525.454545454548,21498.7012987013,22947.272727272728,24355.324675324675,17140.51948051948,20105.454545454548,20184.155844155845,21525.194805194806,22923.116883116883,24294.545454545456,25674.545454545456,17367.272727272728,20195.064935064936,20047.79220779221,21800.259740259742,23103.896103896106,24576.623376623378,25802.337662337664,17158.44155844156,20216.883116883117,19997.922077922078,21520.51948051948,23169.35064935065,24374.805194805194,25831.168831168834,17189.61038961039,20011.948051948053,20287.79220779221,21570.38961038961,23053.246753246753,24686.49350649351,25882.597402597403,17132.727272727272,20160.779220779223,19966.753246753247,18741.818181818184,20383.636363636364,21713.766233766233,22831.948051948053,15299.22077922078,17719.48051948052,17497.402597402597,18977.14285714286,20152.20779220779,21414.545454545456,22800.0,15249.35064935065,17645.454545454548,17709.35064935065,18994.285714285714,20440.51948051948,21730.129870129873,22736.883116883117,15067.012987012988,17809.090909090908,17716.363636363636,19108.83116883117,20053.246753246753,21637.402597402597,22589.610389610392,15148.83116883117,17807.53246753247,17790.38961038961,18884.415584415587,20411.68831168831,21414.545454545456,21308.57142857143,14471.688311688313,16671.428571428572,16462.597402597403,17714.025974025975,19007.53246753247,20175.584415584417,21288.31168831169,14127.272727272728,16758.7012987013,16535.844155844155,17728.051948051947,18928.051948051947,20177.14285714286,21237.66233766234,14357.142857142857,16257.66233766234,16650.38961038961,17950.909090909092,18880.51948051948,20244.935064935067,21381.03896103896,14227.792207792209,16537.402597402597,16667.53246753247,17601.818181818184,18931.16883116883,19798.44155844156,21321.818181818184,14188.83116883117,15303.896103896104,15469.87012987013,16409.61038961039,17527.79220779221,18617.14285714286,19728.31168831169,13273.246753246754,15291.428571428572,15209.61038961039,16736.103896103898,17461.55844155844,18573.506493506495,19821.818181818184,13083.896103896104,15284.415584415585,15324.155844155845,16426.753246753247,17437.402597402597,18765.97402597403,19643.376623376626,13063.636363636364,15345.974025974027,15305.454545454546,16461.818181818184,17555.844155844155,18502.597402597403,19672.987012987014,13076.883116883117,15350.649350649352,15470.649350649352,16429.87012987013,18917.14285714286,19923.896103896106,21246.233766233767,14193.506493506495,16562.337662337664,16397.922077922078,17548.83116883117,19064.415584415587,20153.766233766233,21187.79220779221,14318.181818181818,16557.66233766234,16499.22077922078,17575.324675324675,18905.454545454548,20033.766233766233,21232.20779220779,14221.558441558442,16578.7012987013,16685.454545454548,17583.896103896106,19060.51948051948,20119.48051948052,21287.53246753247,14228.57142857143,16476.623376623378,16602.077922077922,17590.12987012987,18941.298701298703,20028.31168831169,15083.376623376624,10239.74025974026,11864.415584415585,11906.493506493507,12644.415584415585,13581.038961038961,14500.51948051948,15028.83116883117,10084.675324675325,11821.558441558442,11867.532467532468,12713.766233766235,13468.051948051949,14287.012987012988,15380.25974025974,10198.441558441558,11668.83116883117,11769.35064935065,12570.389610389611,13381.558441558442,14424.155844155845,15345.194805194806,10159.48051948052,11786.493506493507,11961.818181818182,12634.285714285716,13283.376623376624,14363.376623376624,14920.51948051948,10097.142857142857,11722.597402597403,12121.558441558442,13272.467532467534,13828.051948051949,14948.57142857143,15726.233766233767,10471.168831168832,12205.714285714286,12219.74025974026,13227.272727272728,13992.467532467534,14746.753246753247,15563.376623376624,10447.792207792209,12263.376623376624,12148.051948051949,13258.441558441558,13938.701298701299,14777.142857142857,15656.883116883117,10535.064935064936,12065.454545454546,12253.246753246754,13048.83116883117,14228.57142857143,14944.675324675325,15765.194805194806,10495.324675324675,12253.246753246754,12205.714285714286,13168.051948051949,14082.857142857143,16421.298701298703,17695.324675324675,11731.168831168832,13627.012987012988,13841.298701298701,14677.402597402597,15412.987012987014,16675.324675324675,17566.753246753247,11545.714285714286,13602.857142857143,13547.532467532468,14466.233766233767,15578.181818181818,16412.727272727272,17461.55844155844,11543.376623376624,13563.896103896104,13680.0,14614.285714285716,15484.675324675325,16415.064935064936,17544.155844155845,11786.493506493507,13573.246753246754,13778.181818181818,14495.064935064936,15557.142857142859,19671.428571428572,21004.675324675325,14012.727272727274,16488.31168831169,16439.22077922078,17426.49350649351,18793.246753246753,19693.246753246753,21032.727272727272,13930.909090909092,16292.727272727274,16206.233766233767,17475.584415584417,18760.51948051948,20015.844155844155,21007.01298701299,13936.363636363638,16267.012987012988,16257.662337662337,17271.428571428572,18581.298701298703,19837.402597402597,21031.16883116883,13944.155844155845,16103.376623376624,16380.0,17444.415584415587,18656.103896103898,19832.727272727272,21000.779220779223,14011.168831168832,18781.55844155844,18935.844155844155,20585.454545454548,21581.298701298703,23145.194805194806,24763.636363636364,16325.454545454546,19121.298701298703,19037.14285714286,20416.363636363636,21616.363636363636,22999.48051948052,24510.38961038961,16356.623376623378,19118.96103896104,19042.597402597403,20608.05194805195,21569.610389610392,23129.610389610392,24504.155844155845,16253.766233766235,19211.68831168831,19006.753246753247,20258.96103896104,21737.922077922078,23049.35064935065,24613.246753246756,16235.844155844157,19103.376623376626,19118.18181818182,21935.844155844155,23484.935064935067,24774.545454545456,26241.03896103896,17437.402597402597,20632.987012987014,20247.272727272728,21645.194805194806,23181.03896103896,24783.896103896106,26109.35064935065,17685.194805194806,20554.285714285714,20519.22077922078,21910.909090909092,23202.077922077922,25058.18181818182,26238.7012987013,17394.545454545456,20356.363636363636,20465.454545454548,21779.22077922078,23003.376623376626,24807.272727272728,26114.805194805194,17529.35064935065,20484.935064935067,20404.675324675325,21844.675324675325,23400.779220779223,24728.57142857143,27974.025974025975,18649.87012987013,21519.74025974026,21988.05194805195,23277.66233766234,24671.688311688315,26086.753246753247,27882.857142857145,18663.116883116883,21881.298701298703,21742.597402597403,23184.935064935067,24854.805194805194,26654.025974025975,28411.168831168834,18742.597402597403,21822.077922077922,21843.116883116883,23414.805194805194,24951.428571428572,26812.987012987014,27797.14285714286,18854.025974025975,21468.31168831169,21846.233766233767,23605.714285714286,24945.194805194806,26530.909090909092,28050.38961038961,18502.597402597403,23048.57142857143,23191.168831168834,24765.194805194806,26463.116883116883,28056.623376623378,29773.246753246756,19930.909090909092,23220.779220779223,22845.194805194806,24845.454545454548,26313.506493506495,28105.714285714286,29491.948051948053,19673.766233766233,23156.883116883117,23008.83116883117,24772.987012987014,26625.97402597403,27902.337662337664,29722.597402597403,19957.402597402597,22908.31168831169,22806.233766233767,24659.22077922078,26574.545454545456,28254.545454545456,29858.18181818182,19731.428571428572,23081.298701298703,23151.428571428572,24759.74025974026,23097.66233766234,24854.805194805194,25905.97402597403,17411.68831168831,20321.298701298703,20460.0,21741.03896103896,23241.818181818184,24697.402597402597,26321.298701298703,17447.532467532466,20324.415584415587,20270.64935064935,21877.402597402597,23110.909090909092,24755.064935064936,26410.909090909092,17500.51948051948,20290.12987012987,20337.66233766234,21788.57142857143,22996.363636363636,24628.83116883117,26134.285714285714,17395.324675324675,20506.753246753247,20325.97402597403,21669.35064935065,23344.675324675325,24716.103896103898,26190.38961038961,16185.974025974027,18967.01298701299,19002.857142857145,20429.61038961039,21838.44155844156,22944.155844155845,24608.57142857143,16360.51948051948,19080.0,19101.818181818184,20188.83116883117,21602.337662337664,23227.01298701299,24645.97402597403,16456.363636363636,19046.49350649351,19043.376623376626,20467.01298701299,21919.48051948052,23197.402597402597,24458.18181818182,16380.77922077922,19030.909090909092,18872.727272727272,20463.896103896106,21487.01298701299,23177.922077922078,24363.116883116883,16310.649350649352,18926.49350649351,17666.49350649351,19160.259740259742,20155.324675324675,21491.68831168831,22597.402597402597,15212.727272727274,17411.68831168831,17817.66233766234,18892.20779220779,20054.025974025975,21234.545454545456,22648.83116883117,15208.051948051949,17749.87012987013,17502.857142857145,18645.97402597403,20067.272727272728,21543.116883116883,22732.20779220779,15128.57142857143,17777.14285714286,17816.103896103898,18954.545454545456,20227.79220779221,21465.194805194806,22680.779220779223,15117.662337662337,17654.805194805194,17672.727272727272,18865.714285714286,20184.155844155845,23164.675324675325,24331.168831168834,16429.87012987013,18896.883116883117,18935.064935064936,20566.753246753247,21714.545454545456,23050.909090909092,24292.207792207795,16147.012987012988,19131.428571428572,19138.44155844156,20445.194805194806,21820.51948051948,23170.909090909092,24431.688311688315,16270.129870129871,18979.48051948052,19072.20779220779,20304.155844155845,21576.623376623378,23177.14285714286,24549.35064935065,16443.896103896106,19084.675324675325,19186.753246753247,20321.298701298703,21840.779220779223,23104.675324675325,24408.31168831169,11677.402597402597,13649.61038961039,13502.337662337663,14562.857142857143,15557.922077922078,16554.545454545456,17154.545454545456,11732.727272727274,13757.922077922078,13581.038961038961,14564.415584415585,15486.233766233767,16590.38961038961,17507.53246753247,11498.181818181818,13650.389610389611,13783.636363636364,14597.142857142857,15589.09090909091,16320.77922077922,17530.12987012987,11728.83116883117,13634.805194805196,13460.25974025974,14498.961038961039,15490.129870129871,16610.64935064935,17557.402597402597,11601.038961038961,13563.896103896104,13432.207792207793,13422.857142857143,14586.233766233767,15427.012987012988,16442.337662337664,11092.207792207793,12797.922077922078,12680.25974025974,13782.077922077922,14661.818181818182,15536.883116883118,16489.090909090908,10884.155844155845,12793.246753246754,12889.87012987013,13711.168831168832,14407.792207792209,15558.701298701299,16383.116883116883,11040.0,12708.311688311689,12764.415584415585,13737.662337662337,14587.012987012988,15444.155844155845,16528.83116883117,10962.857142857143,12793.246753246754,12823.636363636364,13458.701298701299,14627.532467532468,15506.493506493507,18229.87012987013,12142.597402597403,14110.909090909092,14126.493506493507,15232.987012987014,16213.246753246754,17305.714285714286,18378.7012987013,12277.402597402597,14321.298701298701,14283.116883116883,15204.935064935065,16041.038961038961,17174.805194805194,18137.14285714286,12084.935064935065,14229.35064935065,14156.103896103898,15407.532467532468,16241.298701298701,17159.22077922078,18312.467532467534,12072.467532467534,14103.896103896104,14151.428571428572,15266.493506493507,16136.883116883118,17095.324675324675,22025.454545454548,14552.727272727274,17038.44155844156,17025.97402597403,18339.74025974026,19387.79220779221,20827.79220779221,21935.844155844155,14474.025974025975,16934.025974025975,17036.883116883117,18316.363636363636,19545.97402597403,20599.48051948052,21917.922077922078,14711.688311688313,16991.68831168831,17001.818181818184,18059.22077922078,19880.259740259742,20735.844155844155,22048.83116883117,14498.181818181818,17054.805194805194,16899.74025974026,18091.948051948053,19332.467532467534,20562.857142857145,22016.883116883117,14735.064935064936,16992.467532467534,19715.844155844155,21382.597402597403,22927.79220779221,24022.597402597403,25500.0,17045.454545454548,19912.20779220779,19490.64935064935,21450.38961038961,22598.18181818182,24176.883116883117,25692.467532467534,16898.96103896104,19699.48051948052,19541.298701298703,21410.649350649353,22927.79220779221,24236.103896103898,25724.415584415587,16903.636363636364,19669.87012987013,19838.18181818182,21343.636363636364,22609.09090909091,24028.83116883117,25687.01298701299,16980.779220779223,19821.03896103896,19772.727272727272,21433.246753246753,24364.675324675325,25755.584415584417,27063.896103896106,18198.7012987013,21238.44155844156,21331.16883116883,22765.714285714286,24322.597402597403,25793.766233766233,27324.935064935067,18151.948051948053,21237.66233766234,21229.09090909091,23022.077922077922,24327.272727272728,25882.597402597403,27506.49350649351,18240.779220779223,21437.922077922078,21486.233766233767,22930.909090909092,24137.922077922078,25819.48051948052,27369.35064935065,18260.259740259742,21455.844155844155,21303.896103896106,22777.402597402597,24451.168831168834,25771.948051948053,27301.55844155844,19405.714285714286,22800.0,22683.896103896106,24477.66233766234,25987.79220779221,27517.402597402597,29242.597402597403,19408.05194805195,22803.116883116883,22641.03896103896,24469.87012987013,25958.18181818182,27737.922077922078,29456.103896103898,19339.48051948052,22789.09090909091,22678.44155844156,24302.337662337664,25870.909090909092,27535.324675324675,29167.01298701299,19303.636363636364,22725.97402597403,22717.402597402597,24193.246753246753,26037.66233766234,27468.31168831169,29150.649350649353,19538.18181818182,22866.233766233767,23924.415584415587,25818.7012987013,27660.779220779223,29435.844155844155,30966.233766233767,20664.155844155845,24090.38961038961,24311.68831168831,25685.454545454548,27598.44155844156,29329.87012987013,31008.31168831169,20811.428571428572,24099.74025974026,24231.428571428572,25853.766233766233,27559.48051948052,29273.766233766233,30909.35064935065,20865.194805194806,24063.116883116883,24165.97402597403,25904.415584415587,27630.38961038961,29304.935064935067,30807.272727272728,20576.103896103898,24113.766233766233,24087.272727272728,26059.48051948052,27513.506493506495,25983.116883116883,27574.285714285714,18468.31168831169,21132.467532467534,21196.363636363636,22969.09090909091,24386.49350649351,25957.402597402597,27530.649350649353,18183.896103896106,21216.623376623378,21092.727272727272,22838.96103896104,24391.168831168834,25807.01298701299,27388.05194805195,18348.31168831169,21112.20779220779,21363.896103896106,22825.714285714286,24621.818181818184,25776.623376623378,27446.49350649351,18198.7012987013,21084.155844155845,21240.779220779223,22920.0,24378.7012987013,25802.337662337664,27587.53246753247,18371.68831168831,19772.727272727272,19859.22077922078,21402.857142857145,22920.779220779223,24006.233766233767,25690.129870129873,17012.727272727272,19762.597402597403,19951.16883116883,21310.909090909092,22732.20779220779,23763.116883116883,25633.246753246753,16930.909090909092,20047.79220779221,19939.48051948052,21324.935064935067,22722.857142857145,24137.14285714286,25612.207792207795,17152.20779220779,19757.14285714286,19767.272727272728,21343.636363636364,22678.44155844156,24052.207792207795,25484.415584415587,17023.636363636364,19937.922077922078,19827.272727272728,19805.454545454548,21137.922077922078,22387.01298701299,23651.688311688315,15872.727272727274,18403.636363636364,18384.935064935067,19683.116883116883,20793.506493506495,22190.649350649353,23792.727272727272,15830.649350649352,18497.14285714286,18349.090909090908,19744.675324675325,21026.49350649351,22365.194805194806,23774.805194805194,15726.233766233767,18451.948051948053,18449.61038961039,19750.909090909092,21083.376623376626,22389.35064935065,23874.545454545456,15730.909090909092,18429.35064935065,18539.22077922078,19479.74025974026,21163.636363636364,22475.844155844155,25571.688311688315,17042.337662337664,19937.14285714286,19912.987012987014,21448.83116883117,22680.779220779223,23985.194805194806,25588.83116883117,16787.532467532466,19824.935064935067,19895.844155844155,21297.66233766234,22748.57142857143,24243.116883116883,25600.51948051948,17097.66233766234,20004.155844155845,19801.55844155844,21262.597402597403,22725.97402597403,24219.74025974026,25505.454545454548,16872.467532467534,20000.259740259742,19862.337662337664,21535.324675324675,22877.14285714286,24122.337662337664,25584.935064935067,16880.259740259742,14038.441558441558,14215.324675324677,15228.311688311689,16092.467532467534,17327.53246753247,18502.597402597403,12116.883116883117,14256.623376623378,14238.701298701299,15038.181818181818,16192.207792207793,17237.922077922078,18148.05194805195,12204.935064935065,14379.74025974026,14428.83116883117,15117.662337662337,16236.623376623378,17014.285714285714,18373.246753246753,12209.61038961039,14032.207792207793,14050.129870129871,15265.714285714286,16267.792207792209,17342.337662337664,18130.909090909092,12131.688311688313,14340.0,14174.805194805196,15098.961038961039,15707.532467532468,16581.818181818184,17852.727272727272,11843.376623376624,13874.805194805196,13861.558441558442,14888.57142857143,15790.909090909092,16604.415584415587,17774.805194805194,11988.311688311689,13808.57142857143,13752.467532467534,15028.83116883117,15860.25974025974,16881.818181818184,17776.363636363636,11766.233766233767,13873.246753246754,13988.57142857143,14785.714285714286,15773.766233766235,16764.935064935067,17745.97402597403,11899.48051948052,13865.454545454546,14043.896103896104,14817.662337662337,15747.272727272728,16780.51948051948,17703.116883116883,13253.766233766235,15429.35064935065,15407.532467532468,16348.83116883117,17527.79220779221,18700.51948051948,19516.363636363636,13270.909090909092,15490.909090909092,15241.558441558442,16563.896103896106,17545.714285714286,18732.467532467534,19662.857142857145,13177.402597402597,15400.51948051948,15473.766233766235,16376.103896103898,17704.675324675325,18683.376623376626,19870.12987012987,13275.584415584417,15427.012987012988,15216.623376623378,16515.584415584417,17601.03896103896,18771.428571428572,19820.259740259742,13181.298701298701,18453.506493506495,18353.766233766233,20022.857142857145,21155.064935064936,22570.129870129873,23628.31168831169,15654.545454545456,18384.155844155845,18596.883116883117,19804.675324675325,21325.714285714286,22375.324675324675,23626.753246753247,15938.18181818182,18472.987012987014,18319.48051948052,19906.753246753247,21246.233766233767,22376.883116883117,23735.844155844155,15879.74025974026,18627.272727272728,18490.12987012987,19807.79220779221,20950.909090909092,22316.883116883117,23759.22077922078,15933.506493506495,18458.18181818182,18521.298701298703,19577.922077922078,24712.987012987014,25730.649350649353,27803.376623376626,18345.194805194806,21507.272727272728,21420.779220779223,23155.324675324675,24632.727272727276,26195.064935064936,27842.337662337664,18555.584415584417,21522.857142857145,21434.025974025975,22990.129870129873,24502.597402597403,25952.727272727276,27854.805194805194,18436.363636363636,21624.935064935067,21527.53246753247,22911.428571428572,24610.129870129873,25960.51948051948,27721.55844155844,18400.51948051948,21707.53246753247,21452.727272727272,23109.35064935065,24872.727272727272,26324.415584415587,29494.285714285714,19716.623376623378,23040.0,23301.03896103896,24699.74025974026,26503.636363636364,27938.96103896104,29858.96103896104,19826.49350649351,22975.324675324675,22946.49350649351,24892.207792207795,26347.79220779221,27674.805194805194,29514.545454545456,19938.7012987013,23017.402597402597,23162.337662337664,24725.454545454548,26562.857142857145,27720.779220779223,29543.376623376626,19832.727272727272,22870.909090909092,22988.57142857143,24566.49350649351,26477.922077922078,28115.064935064936,29900.259740259742,19486.753246753247,22798.44155844156,24698.96103896104,26366.49350649351,27908.57142857143,29756.883116883117,31803.116883116883,21441.818181818184,24660.0,24592.987012987014,26478.7012987013,28068.31168831169,29871.428571428572,31721.298701298703,21087.272727272728,24689.610389610392,24596.883116883117,26406.233766233767,28224.155844155845,29635.324675324675,31527.272727272728,21057.66233766234,24449.610389610392,24903.896103896106,26447.53246753247,28166.49350649351,29894.025974025975,31886.49350649351,20948.57142857143,24575.844155844155,24652.987012987014,26362.597402597403,30064.675324675325,31584.935064935067,33586.75324675325,22435.324675324675,26019.74025974026,25937.922077922078,28200.779220779223,29751.428571428572,31724.415584415587,33839.22077922078,22524.935064935067,26020.51948051948,26494.285714285714,27931.948051948053,29871.428571428572,31623.116883116883,33698.96103896104,22407.272727272728,26385.97402597403,26273.766233766233,28284.155844155845,30033.506493506495,31280.259740259742,33413.76623376623,22414.285714285714,26075.064935064936,26050.909090909092,27977.922077922078,29833.246753246753,31836.623376623378,33735.58441558442,19754.025974025975,23175.584415584417,22994.805194805194,24642.857142857145,26453.766233766233,28387.01298701299,29520.779220779223,19785.97402597403,23066.49350649351,22990.129870129873,24558.7012987013,26276.883116883117,28029.35064935065,29692.207792207795,19783.636363636364,22950.38961038961,23201.298701298703,24593.766233766233,26467.79220779221,27993.506493506495,29654.805194805194,19795.324675324675,23021.298701298703,23137.402597402597,24757.402597402597,26368.05194805195,28058.18181818182,29478.7012987013,19767.272727272728,23016.623376623378,23426.49350649351,23357.14285714286,24650.649350649353,25945.714285714286,27703.636363636364,18374.805194805194,21444.155844155845,21414.545454545456,22860.0,24670.909090909092,26057.922077922078,27351.428571428572,18307.01298701299,21454.285714285714,21377.922077922078,23054.805194805194,24704.415584415587,26011.168831168834,27752.727272727276,18592.20779220779,21490.129870129873,21575.064935064936,23145.194805194806,24637.402597402597,26094.545454545456,27631.948051948053,18344.415584415587,21458.18181818182,21780.779220779223,23029.87012987013,24556.363636363636,24012.467532467534,25709.610389610392,17287.79220779221,20025.194805194806,19951.16883116883,21356.883116883117,22807.01298701299,24491.688311688315,25622.337662337664,17025.194805194806,20205.97402597403,19860.0,21266.49350649351,22817.922077922078,24420.779220779223,25955.844155844155,17139.74025974026,19891.16883116883,20191.948051948053,21617.14285714286,22964.415584415587,24307.79220779221,25655.844155844155,17176.363636363636,20255.064935064936,19725.194805194806,21438.7012987013,23032.987012987014,24139.48051948052,25487.53246753247,17124.155844155845,21547.01298701299,21787.01298701299,22881.03896103896,24537.66233766234,26199.74025974026,27677.922077922078,18151.16883116883,21452.727272727272,21531.428571428572,23017.402597402597,24720.0,26100.779220779223,27859.48051948052,18437.14285714286,21593.766233766233,21585.194805194806,23082.077922077922,24482.337662337664,26112.467532467534,27652.987012987014,18461.298701298703,21377.922077922078,21539.22077922078,23021.298701298703,24652.987012987014,26053.246753246753,27550.909090909092,18405.97402597403,21668.57142857143,21494.025974025975,16515.584415584417,17396.103896103898,18489.35064935065,19712.727272727272,13158.701298701299,15102.077922077922,15283.636363636364,16575.584415584417,17717.922077922078,18768.31168831169,19626.233766233767,13243.636363636364,15402.077922077922,15417.662337662337,16448.571428571428,17599.48051948052,18780.0,19514.805194805194,13115.844155844157,15408.311688311689,15144.935064935065,16681.55844155844,17570.64935064935,18847.01298701299,19632.467532467534,13115.064935064936,15070.909090909092,15241.558441558442,16450.12987012987,17373.506493506495,18539.22077922078,18474.545454545456,12289.87012987013,14532.467532467534,14423.376623376624,15502.597402597403,16358.961038961039,17603.376623376626,18467.53246753247,12309.35064935065,14499.74025974026,14408.57142857143,15338.181818181818,16508.571428571428,17481.03896103896,18468.31168831169,12267.272727272728,14423.376623376624,14528.57142857143,15218.181818181818,16413.506493506495,17603.376623376626,18569.61038961039,12231.428571428572,14434.285714285716,14376.623376623378,15226.753246753247,16454.025974025975,17306.49350649351,18550.909090909092,12342.077922077922,14404.675324675325,16061.298701298701,17045.454545454548,18312.467532467534,19494.545454545456,20325.194805194806,13701.818181818182,15921.818181818182,15811.948051948053,17008.051948051947,18336.623376623378,19722.857142857145,20639.22077922078,13698.701298701299,15963.116883116883,16027.012987012988,16997.14285714286,18326.49350649351,19365.194805194806,20592.467532467534,13585.714285714286,16037.92207792208,15915.584415584417,17241.818181818184,18259.48051948052,19521.03896103896,20709.35064935065,13675.324675324677,15885.974025974027,19154.025974025975,20513.766233766233,21847.01298701299,22997.14285714286,24695.844155844155,16388.571428571428,19022.337662337664,19424.415584415587,20249.610389610392,21855.584415584417,23248.05194805195,24783.896103896106,16514.025974025975,19351.948051948053,18984.155844155845,20452.987012987014,21757.402597402597,23296.363636363636,24532.207792207795,16281.818181818182,19249.090909090908,19284.155844155845,20347.79220779221,21765.194805194806,23358.7012987013,24743.376623376626,16373.766233766235,19241.298701298703,19070.64935064935,20565.97402597403,21688.05194805195,27074.805194805194,28657.402597402597,19257.66233766234,22180.51948051948,22071.428571428572,23895.584415584417,25587.272727272728,27402.857142857145,28521.818181818184,19206.233766233767,22271.68831168831,22292.727272727272,23762.337662337664,25273.246753246753,27106.753246753247,28440.0,19249.090909090908,22230.38961038961,22376.103896103898,24063.116883116883,25525.714285714286,27133.246753246753,28906.753246753247,19093.246753246753,22332.467532467534,22299.74025974026,23929.87012987013,25764.935064935067,27010.129870129873,28663.636363636364,20485.714285714286,24194.805194805194,23972.727272727272,25701.818181818184,27598.44155844156,29215.324675324675,30748.05194805195,20544.155844155845,24084.935064935067,24074.025974025975,25896.623376623378,27313.246753246753,29100.779220779223,30708.31168831169,20408.57142857143,24098.96103896104,23780.259740259742,25683.116883116883,27641.298701298703,29352.467532467534,31070.649350649353,20535.584415584417,23851.168831168834,23958.7012987013,25800.0,27654.545454545456,29081.298701298703,30714.545454545456,20410.909090909092,23609.610389610392,24049.09090909091,27204.935064935067,29043.896103896106,31115.064935064936,32774.805194805194,21657.66233766234,25662.857142857145,25761.818181818184,27585.194805194806,29068.05194805195,31055.064935064936,32744.415584415587,21683.376623376626,25585.714285714286,25754.805194805194,27304.675324675325,29028.31168831169,31246.753246753247,32730.38961038961,21952.987012987014,25558.44155844156,25669.87012987013,27155.844155844155,29163.116883116883,30780.0,32749.87012987013,21963.896103896106,25596.623376623378,25491.428571428572,27514.285714285714,28972.987012987014,33190.12987012987,35015.06493506494,23201.298701298703,27067.79220779221,27024.155844155845,28983.116883116883,31160.259740259742,32461.55844155844,34761.03896103896,23160.779220779223,27232.987012987014,27134.805194805194,28837.402597402597,31266.233766233767,32859.74025974026,34952.72727272727,23344.675324675325,26972.727272727276,27263.376623376626,29032.207792207795,31027.79220779221,33127.01298701299,34933.246753246756,23408.57142857143,27202.597402597403,27255.584415584417,29029.09090909091,30615.584415584417,32813.76623376623,34934.02597402598,23504.415584415587,23941.55844155844,23989.87012987013,25575.584415584417,27377.14285714286,29015.844155844155,30619.48051948052,20752.987012987014,24021.818181818184,23936.883116883117,25800.0,27338.18181818182,29142.857142857145,30772.987012987014,20371.948051948053,23760.779220779223,23938.44155844156,25755.584415584417,27459.74025974026,29262.857142857145,31185.97402597403,20406.233766233767,24079.48051948052,23863.636363636364,25665.97402597403,27182.337662337664,29417.922077922078,30981.818181818184,20693.766233766233,23980.51948051948,23837.14285714286,25665.194805194806,25347.272727272728,27123.896103896106,28457.922077922078,19188.31168831169,22043.376623376626,22260.779220779223,23880.779220779223,25837.402597402597,27028.05194805195,28957.402597402597,19203.896103896106,22236.623376623378,22470.38961038961,24028.83116883117,25395.584415584417,27224.415584415587,28703.376623376626,19149.35064935065,22261.55844155844,22585.714285714286,23911.948051948053,25492.987012987014,27003.116883116883,28531.168831168834,19321.55844155844,22236.623376623378,22641.03896103896,23793.506493506495,25480.51948051948,26978.96103896104,26372.727272727276,17854.285714285714,20925.194805194806,20798.18181818182,22096.363636363636,23551.948051948053,25082.337662337664,26644.675324675325,17901.818181818184,20632.20779220779,20960.259740259742,22238.96103896104,23652.467532467534,25415.064935064936,26589.35064935065,17875.324675324675,20834.025974025975,20838.7012987013,22433.766233766233,23788.83116883117,25472.727272727272,26790.38961038961,17894.805194805194,20644.675324675325,20878.44155844156,22153.246753246753,23739.74025974026,25240.51948051948,26736.623376623378,17684.415584415587,20688.31168831169,22189.09090909091,24183.896103896106,25591.948051948053,27322.597402597403,28755.584415584417,19287.272727272728,22536.623376623378,22394.025974025975,24043.636363636364,25594.285714285714,26864.415584415587,28779.74025974026,19171.948051948053,22413.506493506495,22291.16883116883,23947.01298701299,25535.844155844155,27278.18181818182,28454.025974025975,19196.883116883117,22462.597402597403,22065.194805194806,24105.194805194806,25408.05194805195,27225.194805194806,28810.129870129873,19034.025974025975,22432.20779220779,22380.0,24014.805194805194,18280.51948051948,19120.51948051948,20675.064935064936,13544.415584415585,15722.337662337663,15849.35064935065,17000.259740259742,18289.090909090908,19333.246753246753,20572.987012987014,13729.09090909091,15768.311688311689,16132.207792207793,17171.68831168831,18374.805194805194,19443.896103896106,20389.87012987013,13828.051948051949,15987.272727272728,16009.09090909091,17309.61038961039,18363.896103896106,19295.844155844155,20361.03896103896,13649.61038961039,16159.48051948052,15878.961038961039,17053.246753246753,18338.96103896104,19471.16883116883,20587.01298701299],\"type\":\"scatter\"}],                        {\"title\":{\"text\":\"Daily sales\"},\"xaxis\":{\"title\":{\"text\":\"Date\"}},\"yaxis\":{\"title\":{\"text\":\"Sales\"}},\"template\":{\"data\":{\"histogram2dcontour\":[{\"type\":\"histogram2dcontour\",\"colorbar\":{\"outlinewidth\":0,\"ticks\":\"\"},\"colorscale\":[[0.0,\"#0d0887\"],[0.1111111111111111,\"#46039f\"],[0.2222222222222222,\"#7201a8\"],[0.3333333333333333,\"#9c179e\"],[0.4444444444444444,\"#bd3786\"],[0.5555555555555556,\"#d8576b\"],[0.6666666666666666,\"#ed7953\"],[0.7777777777777778,\"#fb9f3a\"],[0.8888888888888888,\"#fdca26\"],[1.0,\"#f0f921\"]]}],\"choropleth\":[{\"type\":\"choropleth\",\"colorbar\":{\"outlinewidth\":0,\"ticks\":\"\"}}],\"histogram2d\":[{\"type\":\"histogram2d\",\"colorbar\":{\"outlinewidth\":0,\"ticks\":\"\"},\"colorscale\":[[0.0,\"#0d0887\"],[0.1111111111111111,\"#46039f\"],[0.2222222222222222,\"#7201a8\"],[0.3333333333333333,\"#9c179e\"],[0.4444444444444444,\"#bd3786\"],[0.5555555555555556,\"#d8576b\"],[0.6666666666666666,\"#ed7953\"],[0.7777777777777778,\"#fb9f3a\"],[0.8888888888888888,\"#fdca26\"],[1.0,\"#f0f921\"]]}],\"heatmap\":[{\"type\":\"heatmap\",\"colorbar\":{\"outlinewidth\":0,\"ticks\":\"\"},\"colorscale\":[[0.0,\"#0d0887\"],[0.1111111111111111,\"#46039f\"],[0.2222222222222222,\"#7201a8\"],[0.3333333333333333,\"#9c179e\"],[0.4444444444444444,\"#bd3786\"],[0.5555555555555556,\"#d8576b\"],[0.6666666666666666,\"#ed7953\"],[0.7777777777777778,\"#fb9f3a\"],[0.8888888888888888,\"#fdca26\"],[1.0,\"#f0f921\"]]}],\"heatmapgl\":[{\"type\":\"heatmapgl\",\"colorbar\":{\"outlinewidth\":0,\"ticks\":\"\"},\"colorscale\":[[0.0,\"#0d0887\"],[0.1111111111111111,\"#46039f\"],[0.2222222222222222,\"#7201a8\"],[0.3333333333333333,\"#9c179e\"],[0.4444444444444444,\"#bd3786\"],[0.5555555555555556,\"#d8576b\"],[0.6666666666666666,\"#ed7953\"],[0.7777777777777778,\"#fb9f3a\"],[0.8888888888888888,\"#fdca26\"],[1.0,\"#f0f921\"]]}],\"contourcarpet\":[{\"type\":\"contourcarpet\",\"colorbar\":{\"outlinewidth\":0,\"ticks\":\"\"}}],\"contour\":[{\"type\":\"contour\",\"colorbar\":{\"outlinewidth\":0,\"ticks\":\"\"},\"colorscale\":[[0.0,\"#0d0887\"],[0.1111111111111111,\"#46039f\"],[0.2222222222222222,\"#7201a8\"],[0.3333333333333333,\"#9c179e\"],[0.4444444444444444,\"#bd3786\"],[0.5555555555555556,\"#d8576b\"],[0.6666666666666666,\"#ed7953\"],[0.7777777777777778,\"#fb9f3a\"],[0.8888888888888888,\"#fdca26\"],[1.0,\"#f0f921\"]]}],\"surface\":[{\"type\":\"surface\",\"colorbar\":{\"outlinewidth\":0,\"ticks\":\"\"},\"colorscale\":[[0.0,\"#0d0887\"],[0.1111111111111111,\"#46039f\"],[0.2222222222222222,\"#7201a8\"],[0.3333333333333333,\"#9c179e\"],[0.4444444444444444,\"#bd3786\"],[0.5555555555555556,\"#d8576b\"],[0.6666666666666666,\"#ed7953\"],[0.7777777777777778,\"#fb9f3a\"],[0.8888888888888888,\"#fdca26\"],[1.0,\"#f0f921\"]]}],\"mesh3d\":[{\"type\":\"mesh3d\",\"colorbar\":{\"outlinewidth\":0,\"ticks\":\"\"}}],\"scatter\":[{\"fillpattern\":{\"fillmode\":\"overlay\",\"size\":10,\"solidity\":0.2},\"type\":\"scatter\"}],\"parcoords\":[{\"type\":\"parcoords\",\"line\":{\"colorbar\":{\"outlinewidth\":0,\"ticks\":\"\"}}}],\"scatterpolargl\":[{\"type\":\"scatterpolargl\",\"marker\":{\"colorbar\":{\"outlinewidth\":0,\"ticks\":\"\"}}}],\"bar\":[{\"error_x\":{\"color\":\"#2a3f5f\"},\"error_y\":{\"color\":\"#2a3f5f\"},\"marker\":{\"line\":{\"color\":\"#E5ECF6\",\"width\":0.5},\"pattern\":{\"fillmode\":\"overlay\",\"size\":10,\"solidity\":0.2}},\"type\":\"bar\"}],\"scattergeo\":[{\"type\":\"scattergeo\",\"marker\":{\"colorbar\":{\"outlinewidth\":0,\"ticks\":\"\"}}}],\"scatterpolar\":[{\"type\":\"scatterpolar\",\"marker\":{\"colorbar\":{\"outlinewidth\":0,\"ticks\":\"\"}}}],\"histogram\":[{\"marker\":{\"pattern\":{\"fillmode\":\"overlay\",\"size\":10,\"solidity\":0.2}},\"type\":\"histogram\"}],\"scattergl\":[{\"type\":\"scattergl\",\"marker\":{\"colorbar\":{\"outlinewidth\":0,\"ticks\":\"\"}}}],\"scatter3d\":[{\"type\":\"scatter3d\",\"line\":{\"colorbar\":{\"outlinewidth\":0,\"ticks\":\"\"}},\"marker\":{\"colorbar\":{\"outlinewidth\":0,\"ticks\":\"\"}}}],\"scattermapbox\":[{\"type\":\"scattermapbox\",\"marker\":{\"colorbar\":{\"outlinewidth\":0,\"ticks\":\"\"}}}],\"scatterternary\":[{\"type\":\"scatterternary\",\"marker\":{\"colorbar\":{\"outlinewidth\":0,\"ticks\":\"\"}}}],\"scattercarpet\":[{\"type\":\"scattercarpet\",\"marker\":{\"colorbar\":{\"outlinewidth\":0,\"ticks\":\"\"}}}],\"carpet\":[{\"aaxis\":{\"endlinecolor\":\"#2a3f5f\",\"gridcolor\":\"white\",\"linecolor\":\"white\",\"minorgridcolor\":\"white\",\"startlinecolor\":\"#2a3f5f\"},\"baxis\":{\"endlinecolor\":\"#2a3f5f\",\"gridcolor\":\"white\",\"linecolor\":\"white\",\"minorgridcolor\":\"white\",\"startlinecolor\":\"#2a3f5f\"},\"type\":\"carpet\"}],\"table\":[{\"cells\":{\"fill\":{\"color\":\"#EBF0F8\"},\"line\":{\"color\":\"white\"}},\"header\":{\"fill\":{\"color\":\"#C8D4E3\"},\"line\":{\"color\":\"white\"}},\"type\":\"table\"}],\"barpolar\":[{\"marker\":{\"line\":{\"color\":\"#E5ECF6\",\"width\":0.5},\"pattern\":{\"fillmode\":\"overlay\",\"size\":10,\"solidity\":0.2}},\"type\":\"barpolar\"}],\"pie\":[{\"automargin\":true,\"type\":\"pie\"}]},\"layout\":{\"autotypenumbers\":\"strict\",\"colorway\":[\"#636efa\",\"#EF553B\",\"#00cc96\",\"#ab63fa\",\"#FFA15A\",\"#19d3f3\",\"#FF6692\",\"#B6E880\",\"#FF97FF\",\"#FECB52\"],\"font\":{\"color\":\"#2a3f5f\"},\"hovermode\":\"closest\",\"hoverlabel\":{\"align\":\"left\"},\"paper_bgcolor\":\"white\",\"plot_bgcolor\":\"#E5ECF6\",\"polar\":{\"bgcolor\":\"#E5ECF6\",\"angularaxis\":{\"gridcolor\":\"white\",\"linecolor\":\"white\",\"ticks\":\"\"},\"radialaxis\":{\"gridcolor\":\"white\",\"linecolor\":\"white\",\"ticks\":\"\"}},\"ternary\":{\"bgcolor\":\"#E5ECF6\",\"aaxis\":{\"gridcolor\":\"white\",\"linecolor\":\"white\",\"ticks\":\"\"},\"baxis\":{\"gridcolor\":\"white\",\"linecolor\":\"white\",\"ticks\":\"\"},\"caxis\":{\"gridcolor\":\"white\",\"linecolor\":\"white\",\"ticks\":\"\"}},\"coloraxis\":{\"colorbar\":{\"outlinewidth\":0,\"ticks\":\"\"}},\"colorscale\":{\"sequential\":[[0.0,\"#0d0887\"],[0.1111111111111111,\"#46039f\"],[0.2222222222222222,\"#7201a8\"],[0.3333333333333333,\"#9c179e\"],[0.4444444444444444,\"#bd3786\"],[0.5555555555555556,\"#d8576b\"],[0.6666666666666666,\"#ed7953\"],[0.7777777777777778,\"#fb9f3a\"],[0.8888888888888888,\"#fdca26\"],[1.0,\"#f0f921\"]],\"sequentialminus\":[[0.0,\"#0d0887\"],[0.1111111111111111,\"#46039f\"],[0.2222222222222222,\"#7201a8\"],[0.3333333333333333,\"#9c179e\"],[0.4444444444444444,\"#bd3786\"],[0.5555555555555556,\"#d8576b\"],[0.6666666666666666,\"#ed7953\"],[0.7777777777777778,\"#fb9f3a\"],[0.8888888888888888,\"#fdca26\"],[1.0,\"#f0f921\"]],\"diverging\":[[0,\"#8e0152\"],[0.1,\"#c51b7d\"],[0.2,\"#de77ae\"],[0.3,\"#f1b6da\"],[0.4,\"#fde0ef\"],[0.5,\"#f7f7f7\"],[0.6,\"#e6f5d0\"],[0.7,\"#b8e186\"],[0.8,\"#7fbc41\"],[0.9,\"#4d9221\"],[1,\"#276419\"]]},\"xaxis\":{\"gridcolor\":\"white\",\"linecolor\":\"white\",\"ticks\":\"\",\"title\":{\"standoff\":15},\"zerolinecolor\":\"white\",\"automargin\":true,\"zerolinewidth\":2},\"yaxis\":{\"gridcolor\":\"white\",\"linecolor\":\"white\",\"ticks\":\"\",\"title\":{\"standoff\":15},\"zerolinecolor\":\"white\",\"automargin\":true,\"zerolinewidth\":2},\"scene\":{\"xaxis\":{\"backgroundcolor\":\"#E5ECF6\",\"gridcolor\":\"white\",\"linecolor\":\"white\",\"showbackground\":true,\"ticks\":\"\",\"zerolinecolor\":\"white\",\"gridwidth\":2},\"yaxis\":{\"backgroundcolor\":\"#E5ECF6\",\"gridcolor\":\"white\",\"linecolor\":\"white\",\"showbackground\":true,\"ticks\":\"\",\"zerolinecolor\":\"white\",\"gridwidth\":2},\"zaxis\":{\"backgroundcolor\":\"#E5ECF6\",\"gridcolor\":\"white\",\"linecolor\":\"white\",\"showbackground\":true,\"ticks\":\"\",\"zerolinecolor\":\"white\",\"gridwidth\":2}},\"shapedefaults\":{\"line\":{\"color\":\"#2a3f5f\"}},\"annotationdefaults\":{\"arrowcolor\":\"#2a3f5f\",\"arrowhead\":0,\"arrowwidth\":1},\"geo\":{\"bgcolor\":\"white\",\"landcolor\":\"#E5ECF6\",\"subunitcolor\":\"white\",\"showland\":true,\"showlakes\":true,\"lakecolor\":\"white\"},\"title\":{\"x\":0.05},\"mapbox\":{\"style\":\"light\"}}}},                        {\"responsive\": true}                    ).then(function(){\n",
              "                            \n",
              "var gd = document.getElementById('0e951782-3156-4602-8956-7481a63dcafc');\n",
              "var x = new MutationObserver(function (mutations, observer) {{\n",
              "        var display = window.getComputedStyle(gd).display;\n",
              "        if (!display || display === 'none') {{\n",
              "            console.log([gd, 'removed!']);\n",
              "            Plotly.purge(gd);\n",
              "            observer.disconnect();\n",
              "        }}\n",
              "}});\n",
              "\n",
              "// Listen for the removal of the full notebook cells\n",
              "var notebookContainer = gd.closest('#notebook-container');\n",
              "if (notebookContainer) {{\n",
              "    x.observe(notebookContainer, {childList: true});\n",
              "}}\n",
              "\n",
              "// Listen for the clearing of the current output cell\n",
              "var outputEl = gd.closest('.output');\n",
              "if (outputEl) {{\n",
              "    x.observe(outputEl, {childList: true});\n",
              "}}\n",
              "\n",
              "                        })                };                            </script>        </div>\n",
              "</body>\n",
              "</html>"
            ]
          },
          "metadata": {}
        }
      ],
      "source": [
        "daily_sales_sc = go.Scatter(x=daily_sales['date'], y=daily_sales['sales'])\n",
        "\n",
        "layout = go.Layout(title='Daily sales', xaxis=dict(title='Date'), yaxis=dict(title='Sales'))\n",
        "fig = go.Figure(data=[daily_sales_sc], layout=layout)\n",
        "fig = go.Figure(data=[daily_sales_sc],layout=layout)\n",
        "fig.show(renderer=\"colab\")"
      ]
    },
    {
      "cell_type": "code",
      "execution_count": null,
      "metadata": {
        "id": "mWvEi5760qhO"
      },
      "outputs": [],
      "source": [
        "import plotly.io as pio\n",
        "pio.renderers.default='notebook'"
      ]
    },
    {
      "cell_type": "markdown",
      "metadata": {
        "id": "MQvB2lnV1YOX"
      },
      "source": [
        "Reduce training set with the last year alone"
      ]
    },
    {
      "cell_type": "code",
      "execution_count": null,
      "metadata": {
        "colab": {
          "base_uri": "https://localhost:8080/"
        },
        "id": "cudPwEdH1ioO",
        "outputId": "98b16caa-4196-4307-8daf-129ec439b38a"
      },
      "outputs": [
        {
          "output_type": "stream",
          "name": "stdout",
          "text": [
            "             date  store  item      sales weekday_weekend\n",
            "481699 2017-01-01      4    27  14.025974         weekend\n",
            "695341 2017-01-01      1    39  28.051948         weekend\n",
            "823161 2017-01-01      1    46  29.610390         weekend\n",
            "523697 2017-01-01      7    29  33.506494         weekend\n",
            "636909 2017-01-01      9    35  51.428571         weekend\n"
          ]
        }
      ],
      "source": [
        "train = train[(train['date'] >= '2017-01-01')]\n",
        "print(train.head())"
      ]
    },
    {
      "cell_type": "markdown",
      "metadata": {
        "id": "LhY0fm7S1nwO"
      },
      "source": [
        "Rearrange datasets to apply shift methods\n"
      ]
    },
    {
      "cell_type": "code",
      "execution_count": null,
      "metadata": {
        "colab": {
          "base_uri": "https://localhost:8080/",
          "height": 206
        },
        "id": "u1Ca3ACn1tJN",
        "outputId": "38e94d92-d6ee-4915-b810-97f851c4fa6e"
      },
      "outputs": [
        {
          "output_type": "execute_result",
          "data": {
            "text/plain": [
              "   item  store       date      sales\n",
              "0     1      1 2017-01-01  14.805195\n",
              "1     1      1 2017-01-02  11.688312\n",
              "2     1      1 2017-01-03   7.792208\n",
              "3     1      1 2017-01-04  12.467532\n",
              "4     1      1 2017-01-05  10.909091"
            ],
            "text/html": [
              "\n",
              "  <div id=\"df-b88f1332-5701-48ba-9929-73025a07c1b5\">\n",
              "    <div class=\"colab-df-container\">\n",
              "      <div>\n",
              "<style scoped>\n",
              "    .dataframe tbody tr th:only-of-type {\n",
              "        vertical-align: middle;\n",
              "    }\n",
              "\n",
              "    .dataframe tbody tr th {\n",
              "        vertical-align: top;\n",
              "    }\n",
              "\n",
              "    .dataframe thead th {\n",
              "        text-align: right;\n",
              "    }\n",
              "</style>\n",
              "<table border=\"1\" class=\"dataframe\">\n",
              "  <thead>\n",
              "    <tr style=\"text-align: right;\">\n",
              "      <th></th>\n",
              "      <th>item</th>\n",
              "      <th>store</th>\n",
              "      <th>date</th>\n",
              "      <th>sales</th>\n",
              "    </tr>\n",
              "  </thead>\n",
              "  <tbody>\n",
              "    <tr>\n",
              "      <th>0</th>\n",
              "      <td>1</td>\n",
              "      <td>1</td>\n",
              "      <td>2017-01-01</td>\n",
              "      <td>14.805195</td>\n",
              "    </tr>\n",
              "    <tr>\n",
              "      <th>1</th>\n",
              "      <td>1</td>\n",
              "      <td>1</td>\n",
              "      <td>2017-01-02</td>\n",
              "      <td>11.688312</td>\n",
              "    </tr>\n",
              "    <tr>\n",
              "      <th>2</th>\n",
              "      <td>1</td>\n",
              "      <td>1</td>\n",
              "      <td>2017-01-03</td>\n",
              "      <td>7.792208</td>\n",
              "    </tr>\n",
              "    <tr>\n",
              "      <th>3</th>\n",
              "      <td>1</td>\n",
              "      <td>1</td>\n",
              "      <td>2017-01-04</td>\n",
              "      <td>12.467532</td>\n",
              "    </tr>\n",
              "    <tr>\n",
              "      <th>4</th>\n",
              "      <td>1</td>\n",
              "      <td>1</td>\n",
              "      <td>2017-01-05</td>\n",
              "      <td>10.909091</td>\n",
              "    </tr>\n",
              "  </tbody>\n",
              "</table>\n",
              "</div>\n",
              "      <button class=\"colab-df-convert\" onclick=\"convertToInteractive('df-b88f1332-5701-48ba-9929-73025a07c1b5')\"\n",
              "              title=\"Convert this dataframe to an interactive table.\"\n",
              "              style=\"display:none;\">\n",
              "        \n",
              "  <svg xmlns=\"http://www.w3.org/2000/svg\" height=\"24px\"viewBox=\"0 0 24 24\"\n",
              "       width=\"24px\">\n",
              "    <path d=\"M0 0h24v24H0V0z\" fill=\"none\"/>\n",
              "    <path d=\"M18.56 5.44l.94 2.06.94-2.06 2.06-.94-2.06-.94-.94-2.06-.94 2.06-2.06.94zm-11 1L8.5 8.5l.94-2.06 2.06-.94-2.06-.94L8.5 2.5l-.94 2.06-2.06.94zm10 10l.94 2.06.94-2.06 2.06-.94-2.06-.94-.94-2.06-.94 2.06-2.06.94z\"/><path d=\"M17.41 7.96l-1.37-1.37c-.4-.4-.92-.59-1.43-.59-.52 0-1.04.2-1.43.59L10.3 9.45l-7.72 7.72c-.78.78-.78 2.05 0 2.83L4 21.41c.39.39.9.59 1.41.59.51 0 1.02-.2 1.41-.59l7.78-7.78 2.81-2.81c.8-.78.8-2.07 0-2.86zM5.41 20L4 18.59l7.72-7.72 1.47 1.35L5.41 20z\"/>\n",
              "  </svg>\n",
              "      </button>\n",
              "      \n",
              "  <style>\n",
              "    .colab-df-container {\n",
              "      display:flex;\n",
              "      flex-wrap:wrap;\n",
              "      gap: 12px;\n",
              "    }\n",
              "\n",
              "    .colab-df-convert {\n",
              "      background-color: #E8F0FE;\n",
              "      border: none;\n",
              "      border-radius: 50%;\n",
              "      cursor: pointer;\n",
              "      display: none;\n",
              "      fill: #1967D2;\n",
              "      height: 32px;\n",
              "      padding: 0 0 0 0;\n",
              "      width: 32px;\n",
              "    }\n",
              "\n",
              "    .colab-df-convert:hover {\n",
              "      background-color: #E2EBFA;\n",
              "      box-shadow: 0px 1px 2px rgba(60, 64, 67, 0.3), 0px 1px 3px 1px rgba(60, 64, 67, 0.15);\n",
              "      fill: #174EA6;\n",
              "    }\n",
              "\n",
              "    [theme=dark] .colab-df-convert {\n",
              "      background-color: #3B4455;\n",
              "      fill: #D2E3FC;\n",
              "    }\n",
              "\n",
              "    [theme=dark] .colab-df-convert:hover {\n",
              "      background-color: #434B5C;\n",
              "      box-shadow: 0px 1px 3px 1px rgba(0, 0, 0, 0.15);\n",
              "      filter: drop-shadow(0px 1px 2px rgba(0, 0, 0, 0.3));\n",
              "      fill: #FFFFFF;\n",
              "    }\n",
              "  </style>\n",
              "\n",
              "      <script>\n",
              "        const buttonEl =\n",
              "          document.querySelector('#df-b88f1332-5701-48ba-9929-73025a07c1b5 button.colab-df-convert');\n",
              "        buttonEl.style.display =\n",
              "          google.colab.kernel.accessAllowed ? 'block' : 'none';\n",
              "\n",
              "        async function convertToInteractive(key) {\n",
              "          const element = document.querySelector('#df-b88f1332-5701-48ba-9929-73025a07c1b5');\n",
              "          const dataTable =\n",
              "            await google.colab.kernel.invokeFunction('convertToInteractive',\n",
              "                                                     [key], {});\n",
              "          if (!dataTable) return;\n",
              "\n",
              "          const docLinkHtml = 'Like what you see? Visit the ' +\n",
              "            '<a target=\"_blank\" href=https://colab.research.google.com/notebooks/data_table.ipynb>data table notebook</a>'\n",
              "            + ' to learn more about interactive tables.';\n",
              "          element.innerHTML = '';\n",
              "          dataTable['output_type'] = 'display_data';\n",
              "          await google.colab.output.renderOutput(dataTable, element);\n",
              "          const docLink = document.createElement('div');\n",
              "          docLink.innerHTML = docLinkHtml;\n",
              "          element.appendChild(docLink);\n",
              "        }\n",
              "      </script>\n",
              "    </div>\n",
              "  </div>\n",
              "  "
            ]
          },
          "metadata": {},
          "execution_count": 17
        }
      ],
      "source": [
        "train_gp = train.sort_values('date').groupby(['item', 'store', 'date'], as_index=False)\n",
        "train_gp = train_gp.agg({'sales':['mean']})\n",
        "train_gp.columns = ['item', 'store', 'date', 'sales']\n",
        "train_gp.head()"
      ]
    },
    {
      "cell_type": "markdown",
      "metadata": {
        "id": "SXoZ7S6K10xe"
      },
      "source": [
        "Conversion of pandas data into supervised data"
      ]
    },
    {
      "cell_type": "code",
      "execution_count": null,
      "metadata": {
        "id": "PME5Nj_D15f0"
      },
      "outputs": [],
      "source": [
        "def series_to_supervised(data, window=1, lag=1, dropnan=True):\n",
        "    cols, names = list(), list()\n",
        "    # Input sequence (t-n, ... t-1)\n",
        "    for i in range(window, 0, -1):\n",
        "        cols.append(data.shift(i))\n",
        "        names += [('%s(t-%d)' % (col, i)) for col in data.columns]\n",
        "    # Current timestep (t=0)\n",
        "    cols.append(data)\n",
        "    names += [('%s(t)' % (col)) for col in data.columns]\n",
        "    # Target timestep (t=lag)\n",
        "    cols.append(data.shift(-lag))\n",
        "    names += [('%s(t+%d)' % (col, lag)) for col in data.columns]\n",
        "    # Put it all together\n",
        "    agg = pd.concat(cols, axis=1)\n",
        "    agg.columns = names\n",
        "    # Drop rows with NaN values\n",
        "    if dropnan:\n",
        "        agg.dropna(inplace=True)\n",
        "    return agg"
      ]
    },
    {
      "cell_type": "markdown",
      "metadata": {
        "id": "FJNDXz1K2BPO"
      },
      "source": [
        "forecast 90 days with current timesteps\n"
      ]
    },
    {
      "cell_type": "code",
      "execution_count": null,
      "metadata": {
        "colab": {
          "base_uri": "https://localhost:8080/",
          "height": 317
        },
        "id": "ojhmEPiaVttq",
        "outputId": "c470f7df-0e59-438e-9ecb-a59b6904e212"
      },
      "outputs": [
        {
          "output_type": "execute_result",
          "data": {
            "text/plain": [
              "    item(t-29)  store(t-29)  sales(t-29)  item(t-28)  store(t-28)  \\\n",
              "29         1.0          1.0    14.805195         1.0          1.0   \n",
              "30         1.0          1.0    11.688312         1.0          1.0   \n",
              "31         1.0          1.0     7.792208         1.0          1.0   \n",
              "32         1.0          1.0    12.467532         1.0          1.0   \n",
              "33         1.0          1.0    10.909091         1.0          1.0   \n",
              "\n",
              "    sales(t-28)  item(t-27)  store(t-27)  sales(t-27)  item(t-26)  ...  \\\n",
              "29    11.688312         1.0          1.0     7.792208         1.0  ...   \n",
              "30     7.792208         1.0          1.0    12.467532         1.0  ...   \n",
              "31    12.467532         1.0          1.0    10.909091         1.0  ...   \n",
              "32    10.909091         1.0          1.0    18.701299         1.0  ...   \n",
              "33    18.701299         1.0          1.0    10.909091         1.0  ...   \n",
              "\n",
              "    sales(t-2)  item(t-1)  store(t-1)  sales(t-1)  item(t)  store(t)  \\\n",
              "29   12.467532        1.0         1.0   18.701299        1         1   \n",
              "30   18.701299        1.0         1.0    7.012987        1         1   \n",
              "31    7.012987        1.0         1.0   13.246753        1         1   \n",
              "32   13.246753        1.0         1.0   11.688312        1         1   \n",
              "33   11.688312        1.0         1.0   13.246753        1         1   \n",
              "\n",
              "     sales(t)  item(t+90)  store(t+90)  sales(t+90)  \n",
              "29   7.012987         1.0          1.0    25.714286  \n",
              "30  13.246753         1.0          1.0    11.688312  \n",
              "31  11.688312         1.0          1.0    16.363636  \n",
              "32  13.246753         1.0          1.0    22.597403  \n",
              "33  18.701299         1.0          1.0    14.805195  \n",
              "\n",
              "[5 rows x 93 columns]"
            ],
            "text/html": [
              "\n",
              "  <div id=\"df-0fa8b63c-c933-4a57-98f0-e6e705850a3a\">\n",
              "    <div class=\"colab-df-container\">\n",
              "      <div>\n",
              "<style scoped>\n",
              "    .dataframe tbody tr th:only-of-type {\n",
              "        vertical-align: middle;\n",
              "    }\n",
              "\n",
              "    .dataframe tbody tr th {\n",
              "        vertical-align: top;\n",
              "    }\n",
              "\n",
              "    .dataframe thead th {\n",
              "        text-align: right;\n",
              "    }\n",
              "</style>\n",
              "<table border=\"1\" class=\"dataframe\">\n",
              "  <thead>\n",
              "    <tr style=\"text-align: right;\">\n",
              "      <th></th>\n",
              "      <th>item(t-29)</th>\n",
              "      <th>store(t-29)</th>\n",
              "      <th>sales(t-29)</th>\n",
              "      <th>item(t-28)</th>\n",
              "      <th>store(t-28)</th>\n",
              "      <th>sales(t-28)</th>\n",
              "      <th>item(t-27)</th>\n",
              "      <th>store(t-27)</th>\n",
              "      <th>sales(t-27)</th>\n",
              "      <th>item(t-26)</th>\n",
              "      <th>...</th>\n",
              "      <th>sales(t-2)</th>\n",
              "      <th>item(t-1)</th>\n",
              "      <th>store(t-1)</th>\n",
              "      <th>sales(t-1)</th>\n",
              "      <th>item(t)</th>\n",
              "      <th>store(t)</th>\n",
              "      <th>sales(t)</th>\n",
              "      <th>item(t+90)</th>\n",
              "      <th>store(t+90)</th>\n",
              "      <th>sales(t+90)</th>\n",
              "    </tr>\n",
              "  </thead>\n",
              "  <tbody>\n",
              "    <tr>\n",
              "      <th>29</th>\n",
              "      <td>1.0</td>\n",
              "      <td>1.0</td>\n",
              "      <td>14.805195</td>\n",
              "      <td>1.0</td>\n",
              "      <td>1.0</td>\n",
              "      <td>11.688312</td>\n",
              "      <td>1.0</td>\n",
              "      <td>1.0</td>\n",
              "      <td>7.792208</td>\n",
              "      <td>1.0</td>\n",
              "      <td>...</td>\n",
              "      <td>12.467532</td>\n",
              "      <td>1.0</td>\n",
              "      <td>1.0</td>\n",
              "      <td>18.701299</td>\n",
              "      <td>1</td>\n",
              "      <td>1</td>\n",
              "      <td>7.012987</td>\n",
              "      <td>1.0</td>\n",
              "      <td>1.0</td>\n",
              "      <td>25.714286</td>\n",
              "    </tr>\n",
              "    <tr>\n",
              "      <th>30</th>\n",
              "      <td>1.0</td>\n",
              "      <td>1.0</td>\n",
              "      <td>11.688312</td>\n",
              "      <td>1.0</td>\n",
              "      <td>1.0</td>\n",
              "      <td>7.792208</td>\n",
              "      <td>1.0</td>\n",
              "      <td>1.0</td>\n",
              "      <td>12.467532</td>\n",
              "      <td>1.0</td>\n",
              "      <td>...</td>\n",
              "      <td>18.701299</td>\n",
              "      <td>1.0</td>\n",
              "      <td>1.0</td>\n",
              "      <td>7.012987</td>\n",
              "      <td>1</td>\n",
              "      <td>1</td>\n",
              "      <td>13.246753</td>\n",
              "      <td>1.0</td>\n",
              "      <td>1.0</td>\n",
              "      <td>11.688312</td>\n",
              "    </tr>\n",
              "    <tr>\n",
              "      <th>31</th>\n",
              "      <td>1.0</td>\n",
              "      <td>1.0</td>\n",
              "      <td>7.792208</td>\n",
              "      <td>1.0</td>\n",
              "      <td>1.0</td>\n",
              "      <td>12.467532</td>\n",
              "      <td>1.0</td>\n",
              "      <td>1.0</td>\n",
              "      <td>10.909091</td>\n",
              "      <td>1.0</td>\n",
              "      <td>...</td>\n",
              "      <td>7.012987</td>\n",
              "      <td>1.0</td>\n",
              "      <td>1.0</td>\n",
              "      <td>13.246753</td>\n",
              "      <td>1</td>\n",
              "      <td>1</td>\n",
              "      <td>11.688312</td>\n",
              "      <td>1.0</td>\n",
              "      <td>1.0</td>\n",
              "      <td>16.363636</td>\n",
              "    </tr>\n",
              "    <tr>\n",
              "      <th>32</th>\n",
              "      <td>1.0</td>\n",
              "      <td>1.0</td>\n",
              "      <td>12.467532</td>\n",
              "      <td>1.0</td>\n",
              "      <td>1.0</td>\n",
              "      <td>10.909091</td>\n",
              "      <td>1.0</td>\n",
              "      <td>1.0</td>\n",
              "      <td>18.701299</td>\n",
              "      <td>1.0</td>\n",
              "      <td>...</td>\n",
              "      <td>13.246753</td>\n",
              "      <td>1.0</td>\n",
              "      <td>1.0</td>\n",
              "      <td>11.688312</td>\n",
              "      <td>1</td>\n",
              "      <td>1</td>\n",
              "      <td>13.246753</td>\n",
              "      <td>1.0</td>\n",
              "      <td>1.0</td>\n",
              "      <td>22.597403</td>\n",
              "    </tr>\n",
              "    <tr>\n",
              "      <th>33</th>\n",
              "      <td>1.0</td>\n",
              "      <td>1.0</td>\n",
              "      <td>10.909091</td>\n",
              "      <td>1.0</td>\n",
              "      <td>1.0</td>\n",
              "      <td>18.701299</td>\n",
              "      <td>1.0</td>\n",
              "      <td>1.0</td>\n",
              "      <td>10.909091</td>\n",
              "      <td>1.0</td>\n",
              "      <td>...</td>\n",
              "      <td>11.688312</td>\n",
              "      <td>1.0</td>\n",
              "      <td>1.0</td>\n",
              "      <td>13.246753</td>\n",
              "      <td>1</td>\n",
              "      <td>1</td>\n",
              "      <td>18.701299</td>\n",
              "      <td>1.0</td>\n",
              "      <td>1.0</td>\n",
              "      <td>14.805195</td>\n",
              "    </tr>\n",
              "  </tbody>\n",
              "</table>\n",
              "<p>5 rows × 93 columns</p>\n",
              "</div>\n",
              "      <button class=\"colab-df-convert\" onclick=\"convertToInteractive('df-0fa8b63c-c933-4a57-98f0-e6e705850a3a')\"\n",
              "              title=\"Convert this dataframe to an interactive table.\"\n",
              "              style=\"display:none;\">\n",
              "        \n",
              "  <svg xmlns=\"http://www.w3.org/2000/svg\" height=\"24px\"viewBox=\"0 0 24 24\"\n",
              "       width=\"24px\">\n",
              "    <path d=\"M0 0h24v24H0V0z\" fill=\"none\"/>\n",
              "    <path d=\"M18.56 5.44l.94 2.06.94-2.06 2.06-.94-2.06-.94-.94-2.06-.94 2.06-2.06.94zm-11 1L8.5 8.5l.94-2.06 2.06-.94-2.06-.94L8.5 2.5l-.94 2.06-2.06.94zm10 10l.94 2.06.94-2.06 2.06-.94-2.06-.94-.94-2.06-.94 2.06-2.06.94z\"/><path d=\"M17.41 7.96l-1.37-1.37c-.4-.4-.92-.59-1.43-.59-.52 0-1.04.2-1.43.59L10.3 9.45l-7.72 7.72c-.78.78-.78 2.05 0 2.83L4 21.41c.39.39.9.59 1.41.59.51 0 1.02-.2 1.41-.59l7.78-7.78 2.81-2.81c.8-.78.8-2.07 0-2.86zM5.41 20L4 18.59l7.72-7.72 1.47 1.35L5.41 20z\"/>\n",
              "  </svg>\n",
              "      </button>\n",
              "      \n",
              "  <style>\n",
              "    .colab-df-container {\n",
              "      display:flex;\n",
              "      flex-wrap:wrap;\n",
              "      gap: 12px;\n",
              "    }\n",
              "\n",
              "    .colab-df-convert {\n",
              "      background-color: #E8F0FE;\n",
              "      border: none;\n",
              "      border-radius: 50%;\n",
              "      cursor: pointer;\n",
              "      display: none;\n",
              "      fill: #1967D2;\n",
              "      height: 32px;\n",
              "      padding: 0 0 0 0;\n",
              "      width: 32px;\n",
              "    }\n",
              "\n",
              "    .colab-df-convert:hover {\n",
              "      background-color: #E2EBFA;\n",
              "      box-shadow: 0px 1px 2px rgba(60, 64, 67, 0.3), 0px 1px 3px 1px rgba(60, 64, 67, 0.15);\n",
              "      fill: #174EA6;\n",
              "    }\n",
              "\n",
              "    [theme=dark] .colab-df-convert {\n",
              "      background-color: #3B4455;\n",
              "      fill: #D2E3FC;\n",
              "    }\n",
              "\n",
              "    [theme=dark] .colab-df-convert:hover {\n",
              "      background-color: #434B5C;\n",
              "      box-shadow: 0px 1px 3px 1px rgba(0, 0, 0, 0.15);\n",
              "      filter: drop-shadow(0px 1px 2px rgba(0, 0, 0, 0.3));\n",
              "      fill: #FFFFFF;\n",
              "    }\n",
              "  </style>\n",
              "\n",
              "      <script>\n",
              "        const buttonEl =\n",
              "          document.querySelector('#df-0fa8b63c-c933-4a57-98f0-e6e705850a3a button.colab-df-convert');\n",
              "        buttonEl.style.display =\n",
              "          google.colab.kernel.accessAllowed ? 'block' : 'none';\n",
              "\n",
              "        async function convertToInteractive(key) {\n",
              "          const element = document.querySelector('#df-0fa8b63c-c933-4a57-98f0-e6e705850a3a');\n",
              "          const dataTable =\n",
              "            await google.colab.kernel.invokeFunction('convertToInteractive',\n",
              "                                                     [key], {});\n",
              "          if (!dataTable) return;\n",
              "\n",
              "          const docLinkHtml = 'Like what you see? Visit the ' +\n",
              "            '<a target=\"_blank\" href=https://colab.research.google.com/notebooks/data_table.ipynb>data table notebook</a>'\n",
              "            + ' to learn more about interactive tables.';\n",
              "          element.innerHTML = '';\n",
              "          dataTable['output_type'] = 'display_data';\n",
              "          await google.colab.output.renderOutput(dataTable, element);\n",
              "          const docLink = document.createElement('div');\n",
              "          docLink.innerHTML = docLinkHtml;\n",
              "          element.appendChild(docLink);\n",
              "        }\n",
              "      </script>\n",
              "    </div>\n",
              "  </div>\n",
              "  "
            ]
          },
          "metadata": {},
          "execution_count": 19
        }
      ],
      "source": [
        "window = 29\n",
        "lag = lag_size\n",
        "series = series_to_supervised(train_gp.drop('date', axis=1), window=window, lag=lag)\n",
        "series.head()"
      ]
    },
    {
      "cell_type": "markdown",
      "metadata": {
        "id": "1fhDqYv_2SEP"
      },
      "source": [
        "drop items other than the shifted"
      ]
    },
    {
      "cell_type": "code",
      "execution_count": null,
      "metadata": {
        "id": "x7E0_xmc2UhV"
      },
      "outputs": [],
      "source": [
        "last_item = 'item(t-%d)' % window\n",
        "last_store = 'store(t-%d)' % window\n",
        "series = series[(series['store(t)'] == series[last_store])]\n",
        "series = series[(series['item(t)'] == series[last_item])]"
      ]
    },
    {
      "cell_type": "markdown",
      "metadata": {
        "id": "jf3xvHdi2ZrS"
      },
      "source": [
        "Remove unwanted columns\n"
      ]
    },
    {
      "cell_type": "code",
      "execution_count": null,
      "metadata": {
        "id": "cKTKWEnt2csR"
      },
      "outputs": [],
      "source": [
        "columns_to_drop = [('%s(t+%d)' % (col, lag)) for col in ['item', 'store']]\n",
        "for i in range(window, 0, -1):\n",
        "    columns_to_drop += [('%s(t-%d)' % (col, i)) for col in ['item', 'store']]\n",
        "series.drop(columns_to_drop, axis=1, inplace=True)\n",
        "series.drop(['item(t)', 'store(t)'], axis=1, inplace=True)"
      ]
    },
    {
      "cell_type": "markdown",
      "metadata": {
        "id": "DneoROeb2iNC"
      },
      "source": [
        "train validation split"
      ]
    },
    {
      "cell_type": "code",
      "execution_count": null,
      "metadata": {
        "colab": {
          "base_uri": "https://localhost:8080/",
          "height": 353
        },
        "id": "VXaXzOcp2kJh",
        "outputId": "9e65f993-e3fe-4d71-a55d-2a3b0972d6ca"
      },
      "outputs": [
        {
          "output_type": "stream",
          "name": "stdout",
          "text": [
            "Train set shape (100746, 30)\n",
            "Validation set shape (67164, 30)\n"
          ]
        },
        {
          "output_type": "execute_result",
          "data": {
            "text/plain": [
              "        sales(t-29)  sales(t-28)  sales(t-27)  sales(t-26)  sales(t-25)  \\\n",
              "18801     75.584416    86.493506    70.129870    89.610390    95.844156   \n",
              "160385    29.610390    33.506494    33.506494    42.857143    36.623377   \n",
              "73123     42.857143    35.064935    31.948052    35.844156    36.623377   \n",
              "90428    108.311688   122.337662    66.233766    77.142857   105.974026   \n",
              "167151    67.012987    45.194805    68.571429    67.792208    88.831169   \n",
              "\n",
              "        sales(t-24)  sales(t-23)  sales(t-22)  sales(t-21)  sales(t-20)  ...  \\\n",
              "18801     54.545455    77.142857    57.662338    83.376623    84.155844  ...   \n",
              "160385    39.740260    29.610390    31.948052    28.831169    45.974026  ...   \n",
              "73123     28.051948    23.376623    35.844156    31.948052    32.727273  ...   \n",
              "90428     85.714286    94.285714    95.844156   114.545455    70.909091  ...   \n",
              "167151    88.051948    49.870130    59.220779    67.792208    63.116883  ...   \n",
              "\n",
              "        sales(t-9)  sales(t-8)  sales(t-7)  sales(t-6)  sales(t-5)  \\\n",
              "18801    66.233766   74.025974   95.844156   84.935065   98.961039   \n",
              "160385   31.948052   29.610390   29.610390   41.298701   41.298701   \n",
              "73123    29.610390   28.051948   31.168831   38.961039   34.285714   \n",
              "90428   101.298701   99.740260   99.740260   74.025974   90.389610   \n",
              "167151   42.857143   51.428571   45.974026   41.298701   49.090909   \n",
              "\n",
              "        sales(t-4)  sales(t-3)  sales(t-2)  sales(t-1)    sales(t)  \n",
              "18801   102.857143   67.792208   78.701299   79.480519   88.831169  \n",
              "160385   35.064935   34.285714   18.701299   23.376623   28.831169  \n",
              "73123    34.285714   31.168831   29.610390   38.961039   38.181818  \n",
              "90428    85.714286   91.168831   91.948052  100.519481  102.857143  \n",
              "167151   45.974026   60.000000   30.389610   43.636364   48.311688  \n",
              "\n",
              "[5 rows x 30 columns]"
            ],
            "text/html": [
              "\n",
              "  <div id=\"df-66c27465-01a8-4345-be45-15a893def9b6\">\n",
              "    <div class=\"colab-df-container\">\n",
              "      <div>\n",
              "<style scoped>\n",
              "    .dataframe tbody tr th:only-of-type {\n",
              "        vertical-align: middle;\n",
              "    }\n",
              "\n",
              "    .dataframe tbody tr th {\n",
              "        vertical-align: top;\n",
              "    }\n",
              "\n",
              "    .dataframe thead th {\n",
              "        text-align: right;\n",
              "    }\n",
              "</style>\n",
              "<table border=\"1\" class=\"dataframe\">\n",
              "  <thead>\n",
              "    <tr style=\"text-align: right;\">\n",
              "      <th></th>\n",
              "      <th>sales(t-29)</th>\n",
              "      <th>sales(t-28)</th>\n",
              "      <th>sales(t-27)</th>\n",
              "      <th>sales(t-26)</th>\n",
              "      <th>sales(t-25)</th>\n",
              "      <th>sales(t-24)</th>\n",
              "      <th>sales(t-23)</th>\n",
              "      <th>sales(t-22)</th>\n",
              "      <th>sales(t-21)</th>\n",
              "      <th>sales(t-20)</th>\n",
              "      <th>...</th>\n",
              "      <th>sales(t-9)</th>\n",
              "      <th>sales(t-8)</th>\n",
              "      <th>sales(t-7)</th>\n",
              "      <th>sales(t-6)</th>\n",
              "      <th>sales(t-5)</th>\n",
              "      <th>sales(t-4)</th>\n",
              "      <th>sales(t-3)</th>\n",
              "      <th>sales(t-2)</th>\n",
              "      <th>sales(t-1)</th>\n",
              "      <th>sales(t)</th>\n",
              "    </tr>\n",
              "  </thead>\n",
              "  <tbody>\n",
              "    <tr>\n",
              "      <th>18801</th>\n",
              "      <td>75.584416</td>\n",
              "      <td>86.493506</td>\n",
              "      <td>70.129870</td>\n",
              "      <td>89.610390</td>\n",
              "      <td>95.844156</td>\n",
              "      <td>54.545455</td>\n",
              "      <td>77.142857</td>\n",
              "      <td>57.662338</td>\n",
              "      <td>83.376623</td>\n",
              "      <td>84.155844</td>\n",
              "      <td>...</td>\n",
              "      <td>66.233766</td>\n",
              "      <td>74.025974</td>\n",
              "      <td>95.844156</td>\n",
              "      <td>84.935065</td>\n",
              "      <td>98.961039</td>\n",
              "      <td>102.857143</td>\n",
              "      <td>67.792208</td>\n",
              "      <td>78.701299</td>\n",
              "      <td>79.480519</td>\n",
              "      <td>88.831169</td>\n",
              "    </tr>\n",
              "    <tr>\n",
              "      <th>160385</th>\n",
              "      <td>29.610390</td>\n",
              "      <td>33.506494</td>\n",
              "      <td>33.506494</td>\n",
              "      <td>42.857143</td>\n",
              "      <td>36.623377</td>\n",
              "      <td>39.740260</td>\n",
              "      <td>29.610390</td>\n",
              "      <td>31.948052</td>\n",
              "      <td>28.831169</td>\n",
              "      <td>45.974026</td>\n",
              "      <td>...</td>\n",
              "      <td>31.948052</td>\n",
              "      <td>29.610390</td>\n",
              "      <td>29.610390</td>\n",
              "      <td>41.298701</td>\n",
              "      <td>41.298701</td>\n",
              "      <td>35.064935</td>\n",
              "      <td>34.285714</td>\n",
              "      <td>18.701299</td>\n",
              "      <td>23.376623</td>\n",
              "      <td>28.831169</td>\n",
              "    </tr>\n",
              "    <tr>\n",
              "      <th>73123</th>\n",
              "      <td>42.857143</td>\n",
              "      <td>35.064935</td>\n",
              "      <td>31.948052</td>\n",
              "      <td>35.844156</td>\n",
              "      <td>36.623377</td>\n",
              "      <td>28.051948</td>\n",
              "      <td>23.376623</td>\n",
              "      <td>35.844156</td>\n",
              "      <td>31.948052</td>\n",
              "      <td>32.727273</td>\n",
              "      <td>...</td>\n",
              "      <td>29.610390</td>\n",
              "      <td>28.051948</td>\n",
              "      <td>31.168831</td>\n",
              "      <td>38.961039</td>\n",
              "      <td>34.285714</td>\n",
              "      <td>34.285714</td>\n",
              "      <td>31.168831</td>\n",
              "      <td>29.610390</td>\n",
              "      <td>38.961039</td>\n",
              "      <td>38.181818</td>\n",
              "    </tr>\n",
              "    <tr>\n",
              "      <th>90428</th>\n",
              "      <td>108.311688</td>\n",
              "      <td>122.337662</td>\n",
              "      <td>66.233766</td>\n",
              "      <td>77.142857</td>\n",
              "      <td>105.974026</td>\n",
              "      <td>85.714286</td>\n",
              "      <td>94.285714</td>\n",
              "      <td>95.844156</td>\n",
              "      <td>114.545455</td>\n",
              "      <td>70.909091</td>\n",
              "      <td>...</td>\n",
              "      <td>101.298701</td>\n",
              "      <td>99.740260</td>\n",
              "      <td>99.740260</td>\n",
              "      <td>74.025974</td>\n",
              "      <td>90.389610</td>\n",
              "      <td>85.714286</td>\n",
              "      <td>91.168831</td>\n",
              "      <td>91.948052</td>\n",
              "      <td>100.519481</td>\n",
              "      <td>102.857143</td>\n",
              "    </tr>\n",
              "    <tr>\n",
              "      <th>167151</th>\n",
              "      <td>67.012987</td>\n",
              "      <td>45.194805</td>\n",
              "      <td>68.571429</td>\n",
              "      <td>67.792208</td>\n",
              "      <td>88.831169</td>\n",
              "      <td>88.051948</td>\n",
              "      <td>49.870130</td>\n",
              "      <td>59.220779</td>\n",
              "      <td>67.792208</td>\n",
              "      <td>63.116883</td>\n",
              "      <td>...</td>\n",
              "      <td>42.857143</td>\n",
              "      <td>51.428571</td>\n",
              "      <td>45.974026</td>\n",
              "      <td>41.298701</td>\n",
              "      <td>49.090909</td>\n",
              "      <td>45.974026</td>\n",
              "      <td>60.000000</td>\n",
              "      <td>30.389610</td>\n",
              "      <td>43.636364</td>\n",
              "      <td>48.311688</td>\n",
              "    </tr>\n",
              "  </tbody>\n",
              "</table>\n",
              "<p>5 rows × 30 columns</p>\n",
              "</div>\n",
              "      <button class=\"colab-df-convert\" onclick=\"convertToInteractive('df-66c27465-01a8-4345-be45-15a893def9b6')\"\n",
              "              title=\"Convert this dataframe to an interactive table.\"\n",
              "              style=\"display:none;\">\n",
              "        \n",
              "  <svg xmlns=\"http://www.w3.org/2000/svg\" height=\"24px\"viewBox=\"0 0 24 24\"\n",
              "       width=\"24px\">\n",
              "    <path d=\"M0 0h24v24H0V0z\" fill=\"none\"/>\n",
              "    <path d=\"M18.56 5.44l.94 2.06.94-2.06 2.06-.94-2.06-.94-.94-2.06-.94 2.06-2.06.94zm-11 1L8.5 8.5l.94-2.06 2.06-.94-2.06-.94L8.5 2.5l-.94 2.06-2.06.94zm10 10l.94 2.06.94-2.06 2.06-.94-2.06-.94-.94-2.06-.94 2.06-2.06.94z\"/><path d=\"M17.41 7.96l-1.37-1.37c-.4-.4-.92-.59-1.43-.59-.52 0-1.04.2-1.43.59L10.3 9.45l-7.72 7.72c-.78.78-.78 2.05 0 2.83L4 21.41c.39.39.9.59 1.41.59.51 0 1.02-.2 1.41-.59l7.78-7.78 2.81-2.81c.8-.78.8-2.07 0-2.86zM5.41 20L4 18.59l7.72-7.72 1.47 1.35L5.41 20z\"/>\n",
              "  </svg>\n",
              "      </button>\n",
              "      \n",
              "  <style>\n",
              "    .colab-df-container {\n",
              "      display:flex;\n",
              "      flex-wrap:wrap;\n",
              "      gap: 12px;\n",
              "    }\n",
              "\n",
              "    .colab-df-convert {\n",
              "      background-color: #E8F0FE;\n",
              "      border: none;\n",
              "      border-radius: 50%;\n",
              "      cursor: pointer;\n",
              "      display: none;\n",
              "      fill: #1967D2;\n",
              "      height: 32px;\n",
              "      padding: 0 0 0 0;\n",
              "      width: 32px;\n",
              "    }\n",
              "\n",
              "    .colab-df-convert:hover {\n",
              "      background-color: #E2EBFA;\n",
              "      box-shadow: 0px 1px 2px rgba(60, 64, 67, 0.3), 0px 1px 3px 1px rgba(60, 64, 67, 0.15);\n",
              "      fill: #174EA6;\n",
              "    }\n",
              "\n",
              "    [theme=dark] .colab-df-convert {\n",
              "      background-color: #3B4455;\n",
              "      fill: #D2E3FC;\n",
              "    }\n",
              "\n",
              "    [theme=dark] .colab-df-convert:hover {\n",
              "      background-color: #434B5C;\n",
              "      box-shadow: 0px 1px 3px 1px rgba(0, 0, 0, 0.15);\n",
              "      filter: drop-shadow(0px 1px 2px rgba(0, 0, 0, 0.3));\n",
              "      fill: #FFFFFF;\n",
              "    }\n",
              "  </style>\n",
              "\n",
              "      <script>\n",
              "        const buttonEl =\n",
              "          document.querySelector('#df-66c27465-01a8-4345-be45-15a893def9b6 button.colab-df-convert');\n",
              "        buttonEl.style.display =\n",
              "          google.colab.kernel.accessAllowed ? 'block' : 'none';\n",
              "\n",
              "        async function convertToInteractive(key) {\n",
              "          const element = document.querySelector('#df-66c27465-01a8-4345-be45-15a893def9b6');\n",
              "          const dataTable =\n",
              "            await google.colab.kernel.invokeFunction('convertToInteractive',\n",
              "                                                     [key], {});\n",
              "          if (!dataTable) return;\n",
              "\n",
              "          const docLinkHtml = 'Like what you see? Visit the ' +\n",
              "            '<a target=\"_blank\" href=https://colab.research.google.com/notebooks/data_table.ipynb>data table notebook</a>'\n",
              "            + ' to learn more about interactive tables.';\n",
              "          element.innerHTML = '';\n",
              "          dataTable['output_type'] = 'display_data';\n",
              "          await google.colab.output.renderOutput(dataTable, element);\n",
              "          const docLink = document.createElement('div');\n",
              "          docLink.innerHTML = docLinkHtml;\n",
              "          element.appendChild(docLink);\n",
              "        }\n",
              "      </script>\n",
              "    </div>\n",
              "  </div>\n",
              "  "
            ]
          },
          "metadata": {},
          "execution_count": 22
        }
      ],
      "source": [
        "labels_col = 'sales(t+%d)' % lag_size\n",
        "labels = series[labels_col]\n",
        "series = series.drop(labels_col, axis=1)\n",
        "\n",
        "X_train, X_valid, Y_train, Y_valid = train_test_split(series, labels.values, test_size=0.4, random_state=0)\n",
        "print('Train set shape', X_train.shape)\n",
        "print('Validation set shape', X_valid.shape)\n",
        "X_train.head()"
      ]
    },
    {
      "cell_type": "code",
      "execution_count": null,
      "metadata": {
        "id": "3faEtpfz2klh"
      },
      "outputs": [],
      "source": [
        "from keras import optimizers\n",
        "epochs = 200\n",
        "batch = 128\n",
        "lr = 0.0001"
      ]
    },
    {
      "cell_type": "markdown",
      "metadata": {
        "id": "bBQ6LqMF2r12"
      },
      "source": [
        "For CNN parameters(samples,timesteps,features)"
      ]
    },
    {
      "cell_type": "code",
      "execution_count": null,
      "metadata": {
        "colab": {
          "base_uri": "https://localhost:8080/"
        },
        "id": "NWe28gtK2sv1",
        "outputId": "a1cb0dca-32be-469e-e65e-158acfb9ea89"
      },
      "outputs": [
        {
          "output_type": "stream",
          "name": "stdout",
          "text": [
            "Train set shape (100746, 30, 1)\n",
            "Validation set shape (67164, 30, 1)\n"
          ]
        }
      ],
      "source": [
        "X_train_series = X_train.values.reshape((X_train.shape[0], X_train.shape[1], 1))\n",
        "X_valid_series = X_valid.values.reshape((X_valid.shape[0], X_valid.shape[1], 1))\n",
        "print('Train set shape', X_train_series.shape)\n",
        "print('Validation set shape', X_valid_series.shape)"
      ]
    },
    {
      "cell_type": "code",
      "execution_count": null,
      "metadata": {
        "colab": {
          "base_uri": "https://localhost:8080/"
        },
        "id": "_eE3X8jk2teF",
        "outputId": "602061ca-fd4a-446a-e5b0-452e53de40fd"
      },
      "outputs": [
        {
          "output_type": "stream",
          "name": "stdout",
          "text": [
            "Model: \"sequential\"\n",
            "_________________________________________________________________\n",
            " Layer (type)                Output Shape              Param #   \n",
            "=================================================================\n",
            " conv1d (Conv1D)             (None, 29, 512)           1536      \n",
            "                                                                 \n",
            " max_pooling1d (MaxPooling1D  (None, 14, 512)          0         \n",
            " )                                                               \n",
            "                                                                 \n",
            " flatten (Flatten)           (None, 7168)              0         \n",
            "                                                                 \n",
            " dense (Dense)               (None, 50)                358450    \n",
            "                                                                 \n",
            " dropout (Dropout)           (None, 50)                0         \n",
            "                                                                 \n",
            " dense_1 (Dense)             (None, 1)                 51        \n",
            "                                                                 \n",
            "=================================================================\n",
            "Total params: 360,037\n",
            "Trainable params: 360,037\n",
            "Non-trainable params: 0\n",
            "_________________________________________________________________\n"
          ]
        }
      ],
      "source": [
        "from keras.layers import Conv1D, MaxPooling1D, Flatten, Dense, LSTM, Dropout, Reshape, TimeDistributed\n",
        "from keras import optimizers\n",
        "model_cnn = Sequential()\n",
        "model_cnn.add(Conv1D(filters=512, kernel_size=2, activation='swish', input_shape=(X_train_series.shape[1], X_train_series.shape[2])))\n",
        "model_cnn.add(MaxPooling1D(pool_size=2))\n",
        "model_cnn.add(Flatten())\n",
        "model_cnn.add(Dense(50, activation='swish'))\n",
        "model_cnn.add(Dropout(0.5))\n",
        "model_cnn.add(Dense(1))\n",
        "from tensorflow_addons.optimizers import LazyAdam\n",
        "opt = LazyAdam(lr)\n",
        "model_cnn.compile(loss='mse', optimizer=opt)\n",
        "model_cnn.summary()"
      ]
    },
    {
      "cell_type": "markdown",
      "metadata": {
        "id": "P-syH7Iw2_Pu"
      },
      "source": [
        "BiLstm"
      ]
    },
    {
      "cell_type": "code",
      "execution_count": null,
      "metadata": {
        "colab": {
          "base_uri": "https://localhost:8080/"
        },
        "id": "EPdmdn5d3AId",
        "outputId": "40b659e4-fd0f-46b2-8cb3-58c557fdad95"
      },
      "outputs": [
        {
          "output_type": "stream",
          "name": "stderr",
          "text": [
            "WARNING:tensorflow:Layer lstm will not use cuDNN kernels since it doesn't meet the criteria. It will use a generic GPU kernel as fallback when running on GPU.\n",
            "WARNING:tensorflow:Layer lstm will not use cuDNN kernels since it doesn't meet the criteria. It will use a generic GPU kernel as fallback when running on GPU.\n",
            "WARNING:tensorflow:Layer lstm will not use cuDNN kernels since it doesn't meet the criteria. It will use a generic GPU kernel as fallback when running on GPU.\n"
          ]
        },
        {
          "output_type": "stream",
          "name": "stdout",
          "text": [
            "Model: \"sequential_1\"\n",
            "_________________________________________________________________\n",
            " Layer (type)                Output Shape              Param #   \n",
            "=================================================================\n",
            " bidirectional (Bidirectiona  (None, 576)              668160    \n",
            " l)                                                              \n",
            "                                                                 \n",
            " dense_2 (Dense)             (None, 1)                 577       \n",
            "                                                                 \n",
            "=================================================================\n",
            "Total params: 668,737\n",
            "Trainable params: 668,737\n",
            "Non-trainable params: 0\n",
            "_________________________________________________________________\n"
          ]
        }
      ],
      "source": [
        "from tensorflow.keras.models import Sequential\n",
        "from tensorflow.keras.layers import LSTM, Bidirectional, Dense\n",
        "\n",
        "model_bilstm = Sequential()\n",
        "model_bilstm.add(Bidirectional(LSTM(288, activation='swish'), input_shape=(X_train_series.shape[1], X_train_series.shape[2])))\n",
        "model_bilstm.add(Dense(1))\n",
        "from tensorflow_addons.optimizers import LazyAdam\n",
        "opt = LazyAdam(lr)\n",
        "model_bilstm.compile(loss='mse', optimizer=opt)\n",
        "model_bilstm.summary()\n"
      ]
    },
    {
      "cell_type": "markdown",
      "metadata": {
        "id": "YIwL_O933Dy2"
      },
      "source": [
        "CNN-BiLSTM [sample,subsequences,timesteps,features]"
      ]
    },
    {
      "cell_type": "code",
      "execution_count": null,
      "metadata": {
        "colab": {
          "base_uri": "https://localhost:8080/"
        },
        "id": "6M9HIsAo3NGs",
        "outputId": "8a7f453d-777a-4107-d651-1ca5d556310e"
      },
      "outputs": [
        {
          "output_type": "stream",
          "name": "stdout",
          "text": [
            "Train set shape (100746, 2, 15, 1)\n",
            "Validation set shape (67164, 2, 15, 1)\n"
          ]
        }
      ],
      "source": [
        "subsequences = 2\n",
        "timesteps = X_train_series.shape[1]//subsequences\n",
        "X_train_series_sub = X_train_series.reshape((X_train_series.shape[0], subsequences, timesteps, 1))\n",
        "X_valid_series_sub = X_valid_series.reshape((X_valid_series.shape[0], subsequences, timesteps, 1))\n",
        "print('Train set shape', X_train_series_sub.shape)\n",
        "print('Validation set shape', X_valid_series_sub.shape)"
      ]
    },
    {
      "cell_type": "code",
      "execution_count": null,
      "metadata": {
        "colab": {
          "base_uri": "https://localhost:8080/"
        },
        "id": "kHnfLtxx3Qot",
        "outputId": "cb12e338-b48c-455a-cd9a-845dd0fc97ab"
      },
      "outputs": [
        {
          "output_type": "stream",
          "name": "stderr",
          "text": [
            "WARNING:tensorflow:Layer lstm_1 will not use cuDNN kernels since it doesn't meet the criteria. It will use a generic GPU kernel as fallback when running on GPU.\n",
            "WARNING:tensorflow:Layer lstm_1 will not use cuDNN kernels since it doesn't meet the criteria. It will use a generic GPU kernel as fallback when running on GPU.\n",
            "WARNING:tensorflow:Layer lstm_1 will not use cuDNN kernels since it doesn't meet the criteria. It will use a generic GPU kernel as fallback when running on GPU.\n"
          ]
        },
        {
          "output_type": "stream",
          "name": "stdout",
          "text": [
            "Model: \"sequential_2\"\n",
            "_________________________________________________________________\n",
            " Layer (type)                Output Shape              Param #   \n",
            "=================================================================\n",
            " time_distributed (TimeDistr  (None, None, 15, 512)    1024      \n",
            " ibuted)                                                         \n",
            "                                                                 \n",
            " time_distributed_1 (TimeDis  (None, None, 7, 512)     0         \n",
            " tributed)                                                       \n",
            "                                                                 \n",
            " time_distributed_2 (TimeDis  (None, None, 3584)       0         \n",
            " tributed)                                                       \n",
            "                                                                 \n",
            " bidirectional_1 (Bidirectio  (None, 576)              8923392   \n",
            " nal)                                                            \n",
            "                                                                 \n",
            " dropout_1 (Dropout)         (None, 576)               0         \n",
            "                                                                 \n",
            " dense_3 (Dense)             (None, 1)                 577       \n",
            "                                                                 \n",
            "=================================================================\n",
            "Total params: 8,924,993\n",
            "Trainable params: 8,924,993\n",
            "Non-trainable params: 0\n",
            "_________________________________________________________________\n"
          ]
        }
      ],
      "source": [
        "\n",
        "from tensorflow.keras.models import Sequential\n",
        "from tensorflow.keras.layers import Conv1D, MaxPooling1D, Flatten, TimeDistributed, Bidirectional, LSTM, Dense\n",
        "\n",
        "model_cnn_bilstm = Sequential()\n",
        "model_cnn_bilstm.add(TimeDistributed(Conv1D(filters=512, kernel_size=1, activation='swish'), input_shape=(None, X_train_series_sub.shape[2], X_train_series_sub.shape[3])))\n",
        "model_cnn_bilstm.add(TimeDistributed(MaxPooling1D(pool_size=2)))\n",
        "model_cnn_bilstm.add(TimeDistributed(Flatten()))\n",
        "model_cnn_bilstm.add(Bidirectional(LSTM(288, activation='swish')))\n",
        "model_cnn_bilstm.add(Dropout(0.5))\n",
        "model_cnn_bilstm.add(Dense(1))\n",
        "model_cnn_bilstm.compile(loss='mse', optimizer= tfa.optimizers.LazyAdam())\n",
        "model_cnn_bilstm.summary()"
      ]
    },
    {
      "cell_type": "code",
      "execution_count": null,
      "metadata": {
        "colab": {
          "base_uri": "https://localhost:8080/"
        },
        "id": "uVKZdXqh3UuM",
        "outputId": "e986dd6b-a24c-4bb2-9ffa-ce355e2740a9"
      },
      "outputs": [
        {
          "output_type": "stream",
          "name": "stdout",
          "text": [
            "Epoch 1/200\n",
            "3149/3149 - 69s - loss: 308.9617 - val_loss: 237.2327 - 69s/epoch - 22ms/step\n",
            "Epoch 2/200\n",
            "3149/3149 - 61s - loss: 276.7807 - val_loss: 239.3156 - 61s/epoch - 19ms/step\n",
            "Epoch 3/200\n",
            "3149/3149 - 60s - loss: 265.6138 - val_loss: 220.1767 - 60s/epoch - 19ms/step\n",
            "Epoch 4/200\n",
            "3149/3149 - 61s - loss: 260.9937 - val_loss: 260.5190 - 61s/epoch - 19ms/step\n",
            "Epoch 5/200\n",
            "3149/3149 - 56s - loss: 259.5971 - val_loss: 219.8319 - 56s/epoch - 18ms/step\n",
            "Epoch 6/200\n",
            "3149/3149 - 54s - loss: 257.1208 - val_loss: 223.6549 - 54s/epoch - 17ms/step\n",
            "Epoch 7/200\n",
            "3149/3149 - 60s - loss: 254.6100 - val_loss: 223.0080 - 60s/epoch - 19ms/step\n",
            "Epoch 8/200\n",
            "3149/3149 - 55s - loss: 253.2546 - val_loss: 220.8949 - 55s/epoch - 17ms/step\n",
            "Epoch 9/200\n",
            "3149/3149 - 54s - loss: 252.7334 - val_loss: 216.9897 - 54s/epoch - 17ms/step\n",
            "Epoch 10/200\n",
            "3149/3149 - 60s - loss: 251.6323 - val_loss: 217.0488 - 60s/epoch - 19ms/step\n",
            "Epoch 11/200\n",
            "3149/3149 - 59s - loss: 250.7583 - val_loss: 221.3262 - 59s/epoch - 19ms/step\n",
            "Epoch 12/200\n",
            "3149/3149 - 59s - loss: 248.0263 - val_loss: 216.8774 - 59s/epoch - 19ms/step\n",
            "Epoch 13/200\n",
            "3149/3149 - 60s - loss: 247.4227 - val_loss: 218.7006 - 60s/epoch - 19ms/step\n",
            "Epoch 14/200\n",
            "3149/3149 - 54s - loss: 245.8723 - val_loss: 214.5432 - 54s/epoch - 17ms/step\n",
            "Epoch 15/200\n",
            "3149/3149 - 60s - loss: 243.1416 - val_loss: 214.9824 - 60s/epoch - 19ms/step\n",
            "Epoch 16/200\n",
            "3149/3149 - 59s - loss: 243.5459 - val_loss: 215.6920 - 59s/epoch - 19ms/step\n",
            "Epoch 17/200\n",
            "3149/3149 - 53s - loss: 242.1398 - val_loss: 212.2735 - 53s/epoch - 17ms/step\n",
            "Epoch 18/200\n",
            "3149/3149 - 59s - loss: 242.1818 - val_loss: 217.1885 - 59s/epoch - 19ms/step\n",
            "Epoch 19/200\n",
            "3149/3149 - 59s - loss: 241.2442 - val_loss: 225.0870 - 59s/epoch - 19ms/step\n",
            "Epoch 20/200\n",
            "3149/3149 - 54s - loss: 239.3197 - val_loss: 213.2736 - 54s/epoch - 17ms/step\n",
            "Epoch 21/200\n",
            "3149/3149 - 60s - loss: 239.3348 - val_loss: 214.7101 - 60s/epoch - 19ms/step\n",
            "Epoch 22/200\n",
            "3149/3149 - 54s - loss: 238.6985 - val_loss: 215.2650 - 54s/epoch - 17ms/step\n",
            "Epoch 23/200\n",
            "3149/3149 - 60s - loss: 238.5951 - val_loss: 212.4266 - 60s/epoch - 19ms/step\n",
            "Epoch 24/200\n",
            "3149/3149 - 60s - loss: 237.7704 - val_loss: 212.5162 - 60s/epoch - 19ms/step\n",
            "Epoch 25/200\n",
            "3149/3149 - 54s - loss: 236.0635 - val_loss: 213.0363 - 54s/epoch - 17ms/step\n",
            "Epoch 26/200\n",
            "3149/3149 - 56s - loss: 235.8510 - val_loss: 216.7991 - 56s/epoch - 18ms/step\n",
            "Epoch 27/200\n",
            "3149/3149 - 54s - loss: 236.5989 - val_loss: 211.9584 - 54s/epoch - 17ms/step\n",
            "Epoch 28/200\n",
            "3149/3149 - 54s - loss: 234.9772 - val_loss: 215.0732 - 54s/epoch - 17ms/step\n",
            "Epoch 29/200\n",
            "3149/3149 - 55s - loss: 235.6397 - val_loss: 211.8262 - 55s/epoch - 17ms/step\n",
            "Epoch 30/200\n",
            "3149/3149 - 54s - loss: 233.7248 - val_loss: 214.0942 - 54s/epoch - 17ms/step\n",
            "Epoch 31/200\n",
            "3149/3149 - 59s - loss: 233.6697 - val_loss: 219.5622 - 59s/epoch - 19ms/step\n",
            "Epoch 32/200\n",
            "3149/3149 - 55s - loss: 233.5432 - val_loss: 209.7311 - 55s/epoch - 17ms/step\n",
            "Epoch 33/200\n",
            "3149/3149 - 53s - loss: 232.1324 - val_loss: 211.6139 - 53s/epoch - 17ms/step\n",
            "Epoch 34/200\n",
            "3149/3149 - 55s - loss: 231.8566 - val_loss: 214.9463 - 55s/epoch - 17ms/step\n",
            "Epoch 35/200\n",
            "3149/3149 - 59s - loss: 231.2398 - val_loss: 209.6471 - 59s/epoch - 19ms/step\n",
            "Epoch 36/200\n",
            "3149/3149 - 55s - loss: 231.5966 - val_loss: 215.5261 - 55s/epoch - 17ms/step\n",
            "Epoch 37/200\n",
            "3149/3149 - 54s - loss: 230.6418 - val_loss: 212.6371 - 54s/epoch - 17ms/step\n",
            "Epoch 38/200\n",
            "3149/3149 - 54s - loss: 230.1904 - val_loss: 211.5805 - 54s/epoch - 17ms/step\n",
            "Epoch 39/200\n",
            "3149/3149 - 55s - loss: 229.7129 - val_loss: 210.5920 - 55s/epoch - 17ms/step\n",
            "Epoch 40/200\n",
            "3149/3149 - 58s - loss: 229.8147 - val_loss: 213.0691 - 58s/epoch - 18ms/step\n",
            "Epoch 41/200\n",
            "3149/3149 - 55s - loss: 229.0098 - val_loss: 210.7837 - 55s/epoch - 18ms/step\n",
            "Epoch 42/200\n",
            "3149/3149 - 53s - loss: 229.1864 - val_loss: 209.7031 - 53s/epoch - 17ms/step\n",
            "Epoch 43/200\n",
            "3149/3149 - 53s - loss: 228.1655 - val_loss: 210.3363 - 53s/epoch - 17ms/step\n",
            "Epoch 44/200\n",
            "3149/3149 - 54s - loss: 228.1488 - val_loss: 217.9598 - 54s/epoch - 17ms/step\n",
            "Epoch 45/200\n",
            "3149/3149 - 53s - loss: 227.3367 - val_loss: 214.4401 - 53s/epoch - 17ms/step\n",
            "Epoch 46/200\n",
            "3149/3149 - 54s - loss: 227.7274 - val_loss: 218.2332 - 54s/epoch - 17ms/step\n",
            "Epoch 47/200\n",
            "3149/3149 - 53s - loss: 227.6607 - val_loss: 208.5708 - 53s/epoch - 17ms/step\n",
            "Epoch 48/200\n",
            "3149/3149 - 58s - loss: 227.2994 - val_loss: 219.3225 - 58s/epoch - 19ms/step\n",
            "Epoch 49/200\n",
            "3149/3149 - 58s - loss: 225.8439 - val_loss: 208.8342 - 58s/epoch - 18ms/step\n",
            "Epoch 50/200\n",
            "3149/3149 - 54s - loss: 226.0817 - val_loss: 217.7509 - 54s/epoch - 17ms/step\n",
            "Epoch 51/200\n",
            "3149/3149 - 58s - loss: 225.8938 - val_loss: 215.8204 - 58s/epoch - 18ms/step\n",
            "Epoch 52/200\n",
            "3149/3149 - 54s - loss: 225.7287 - val_loss: 210.4255 - 54s/epoch - 17ms/step\n",
            "Epoch 53/200\n",
            "3149/3149 - 53s - loss: 225.2052 - val_loss: 209.6439 - 53s/epoch - 17ms/step\n",
            "Epoch 54/200\n",
            "3149/3149 - 58s - loss: 225.3668 - val_loss: 209.6106 - 58s/epoch - 18ms/step\n",
            "Epoch 55/200\n",
            "3149/3149 - 53s - loss: 226.2483 - val_loss: 209.9736 - 53s/epoch - 17ms/step\n",
            "Epoch 56/200\n",
            "3149/3149 - 54s - loss: 224.6908 - val_loss: 212.1104 - 54s/epoch - 17ms/step\n",
            "Epoch 57/200\n",
            "3149/3149 - 57s - loss: 224.3944 - val_loss: 210.9870 - 57s/epoch - 18ms/step\n",
            "Epoch 58/200\n",
            "3149/3149 - 54s - loss: 225.2399 - val_loss: 212.8020 - 54s/epoch - 17ms/step\n",
            "Epoch 59/200\n",
            "3149/3149 - 53s - loss: 224.4568 - val_loss: 210.1904 - 53s/epoch - 17ms/step\n",
            "Epoch 60/200\n",
            "3149/3149 - 53s - loss: 224.1493 - val_loss: 210.0432 - 53s/epoch - 17ms/step\n",
            "Epoch 61/200\n",
            "3149/3149 - 53s - loss: 224.0056 - val_loss: 208.8720 - 53s/epoch - 17ms/step\n",
            "Epoch 62/200\n",
            "3149/3149 - 57s - loss: 224.4955 - val_loss: 226.4266 - 57s/epoch - 18ms/step\n",
            "Epoch 63/200\n",
            "3149/3149 - 58s - loss: 223.4913 - val_loss: 212.2612 - 58s/epoch - 18ms/step\n",
            "Epoch 64/200\n",
            "3149/3149 - 53s - loss: 222.9906 - val_loss: 209.2795 - 53s/epoch - 17ms/step\n",
            "Epoch 65/200\n",
            "3149/3149 - 58s - loss: 222.2861 - val_loss: 209.8847 - 58s/epoch - 18ms/step\n",
            "Epoch 66/200\n",
            "3149/3149 - 53s - loss: 223.2577 - val_loss: 214.6669 - 53s/epoch - 17ms/step\n",
            "Epoch 67/200\n",
            "3149/3149 - 58s - loss: 221.9094 - val_loss: 218.0585 - 58s/epoch - 18ms/step\n",
            "Epoch 68/200\n",
            "3149/3149 - 53s - loss: 223.2311 - val_loss: 208.4583 - 53s/epoch - 17ms/step\n",
            "Epoch 69/200\n",
            "3149/3149 - 54s - loss: 221.8949 - val_loss: 209.1092 - 54s/epoch - 17ms/step\n",
            "Epoch 70/200\n",
            "3149/3149 - 58s - loss: 221.5477 - val_loss: 208.7499 - 58s/epoch - 18ms/step\n",
            "Epoch 71/200\n",
            "3149/3149 - 53s - loss: 221.7824 - val_loss: 208.2781 - 53s/epoch - 17ms/step\n",
            "Epoch 72/200\n",
            "3149/3149 - 53s - loss: 221.3149 - val_loss: 208.5098 - 53s/epoch - 17ms/step\n",
            "Epoch 73/200\n",
            "3149/3149 - 53s - loss: 220.9953 - val_loss: 208.5891 - 53s/epoch - 17ms/step\n",
            "Epoch 74/200\n",
            "3149/3149 - 53s - loss: 221.0504 - val_loss: 210.7448 - 53s/epoch - 17ms/step\n",
            "Epoch 75/200\n",
            "3149/3149 - 58s - loss: 220.7913 - val_loss: 216.2790 - 58s/epoch - 18ms/step\n",
            "Epoch 76/200\n",
            "3149/3149 - 53s - loss: 220.7285 - val_loss: 214.8382 - 53s/epoch - 17ms/step\n",
            "Epoch 77/200\n",
            "3149/3149 - 53s - loss: 220.8780 - val_loss: 211.2702 - 53s/epoch - 17ms/step\n",
            "Epoch 78/200\n",
            "3149/3149 - 58s - loss: 221.1561 - val_loss: 208.9666 - 58s/epoch - 18ms/step\n",
            "Epoch 79/200\n",
            "3149/3149 - 54s - loss: 220.5112 - val_loss: 208.4408 - 54s/epoch - 17ms/step\n",
            "Epoch 80/200\n",
            "3149/3149 - 54s - loss: 220.2072 - val_loss: 212.8582 - 54s/epoch - 17ms/step\n",
            "Epoch 81/200\n",
            "3149/3149 - 58s - loss: 218.6671 - val_loss: 211.4375 - 58s/epoch - 18ms/step\n",
            "Epoch 82/200\n",
            "3149/3149 - 58s - loss: 220.1806 - val_loss: 209.8737 - 58s/epoch - 19ms/step\n",
            "Epoch 83/200\n",
            "3149/3149 - 58s - loss: 220.4163 - val_loss: 210.1395 - 58s/epoch - 19ms/step\n",
            "Epoch 84/200\n",
            "3149/3149 - 53s - loss: 219.8343 - val_loss: 217.2323 - 53s/epoch - 17ms/step\n",
            "Epoch 85/200\n",
            "3149/3149 - 58s - loss: 219.7622 - val_loss: 210.5795 - 58s/epoch - 18ms/step\n",
            "Epoch 86/200\n",
            "3149/3149 - 58s - loss: 218.9278 - val_loss: 207.7868 - 58s/epoch - 19ms/step\n",
            "Epoch 87/200\n",
            "3149/3149 - 58s - loss: 218.6758 - val_loss: 208.5754 - 58s/epoch - 18ms/step\n",
            "Epoch 88/200\n",
            "3149/3149 - 57s - loss: 218.5249 - val_loss: 208.3573 - 57s/epoch - 18ms/step\n",
            "Epoch 89/200\n",
            "3149/3149 - 53s - loss: 218.0061 - val_loss: 208.1031 - 53s/epoch - 17ms/step\n",
            "Epoch 90/200\n",
            "3149/3149 - 57s - loss: 218.1230 - val_loss: 207.9707 - 57s/epoch - 18ms/step\n",
            "Epoch 91/200\n",
            "3149/3149 - 58s - loss: 218.4678 - val_loss: 214.0412 - 58s/epoch - 18ms/step\n",
            "Epoch 92/200\n",
            "3149/3149 - 53s - loss: 218.0255 - val_loss: 209.8198 - 53s/epoch - 17ms/step\n",
            "Epoch 93/200\n",
            "3149/3149 - 54s - loss: 217.6064 - val_loss: 210.3014 - 54s/epoch - 17ms/step\n",
            "Epoch 94/200\n",
            "3149/3149 - 57s - loss: 217.2466 - val_loss: 207.6797 - 57s/epoch - 18ms/step\n",
            "Epoch 95/200\n",
            "3149/3149 - 54s - loss: 217.5197 - val_loss: 207.3065 - 54s/epoch - 17ms/step\n",
            "Epoch 96/200\n",
            "3149/3149 - 58s - loss: 217.2606 - val_loss: 208.7025 - 58s/epoch - 18ms/step\n",
            "Epoch 97/200\n",
            "3149/3149 - 53s - loss: 216.5654 - val_loss: 208.8149 - 53s/epoch - 17ms/step\n",
            "Epoch 98/200\n",
            "3149/3149 - 58s - loss: 215.9475 - val_loss: 209.5982 - 58s/epoch - 18ms/step\n",
            "Epoch 99/200\n",
            "3149/3149 - 53s - loss: 215.8588 - val_loss: 210.1774 - 53s/epoch - 17ms/step\n",
            "Epoch 100/200\n",
            "3149/3149 - 53s - loss: 215.8097 - val_loss: 210.1361 - 53s/epoch - 17ms/step\n",
            "Epoch 101/200\n",
            "3149/3149 - 58s - loss: 215.3344 - val_loss: 211.3195 - 58s/epoch - 18ms/step\n",
            "Epoch 102/200\n",
            "3149/3149 - 53s - loss: 215.4583 - val_loss: 207.7883 - 53s/epoch - 17ms/step\n",
            "Epoch 103/200\n",
            "3149/3149 - 54s - loss: 214.6620 - val_loss: 208.5940 - 54s/epoch - 17ms/step\n",
            "Epoch 104/200\n",
            "3149/3149 - 53s - loss: 214.1700 - val_loss: 211.0355 - 53s/epoch - 17ms/step\n",
            "Epoch 105/200\n",
            "3149/3149 - 53s - loss: 214.6898 - val_loss: 206.9476 - 53s/epoch - 17ms/step\n",
            "Epoch 106/200\n",
            "3149/3149 - 54s - loss: 213.5277 - val_loss: 208.3729 - 54s/epoch - 17ms/step\n",
            "Epoch 107/200\n",
            "3149/3149 - 53s - loss: 213.9512 - val_loss: 211.0998 - 53s/epoch - 17ms/step\n",
            "Epoch 108/200\n",
            "3149/3149 - 58s - loss: 213.0682 - val_loss: 208.6183 - 58s/epoch - 19ms/step\n",
            "Epoch 109/200\n",
            "3149/3149 - 54s - loss: 213.3739 - val_loss: 210.1414 - 54s/epoch - 17ms/step\n",
            "Epoch 110/200\n",
            "3149/3149 - 54s - loss: 212.8169 - val_loss: 207.6462 - 54s/epoch - 17ms/step\n",
            "Epoch 111/200\n",
            "3149/3149 - 53s - loss: 212.1300 - val_loss: 209.7333 - 53s/epoch - 17ms/step\n",
            "Epoch 112/200\n",
            "3149/3149 - 53s - loss: 211.7799 - val_loss: 211.0051 - 53s/epoch - 17ms/step\n",
            "Epoch 113/200\n",
            "3149/3149 - 53s - loss: 212.5342 - val_loss: 207.3679 - 53s/epoch - 17ms/step\n",
            "Epoch 114/200\n",
            "3149/3149 - 54s - loss: 211.0797 - val_loss: 209.7541 - 54s/epoch - 17ms/step\n",
            "Epoch 115/200\n",
            "3149/3149 - 59s - loss: 210.8361 - val_loss: 207.8967 - 59s/epoch - 19ms/step\n",
            "Epoch 116/200\n",
            "3149/3149 - 66s - loss: 210.8804 - val_loss: 209.7972 - 66s/epoch - 21ms/step\n",
            "Epoch 117/200\n",
            "3149/3149 - 55s - loss: 209.8558 - val_loss: 214.4619 - 55s/epoch - 18ms/step\n",
            "Epoch 118/200\n",
            "3149/3149 - 56s - loss: 210.1201 - val_loss: 206.5464 - 56s/epoch - 18ms/step\n",
            "Epoch 119/200\n",
            "3149/3149 - 54s - loss: 209.8047 - val_loss: 207.4437 - 54s/epoch - 17ms/step\n",
            "Epoch 120/200\n",
            "3149/3149 - 58s - loss: 209.0312 - val_loss: 208.3465 - 58s/epoch - 19ms/step\n",
            "Epoch 121/200\n",
            "3149/3149 - 59s - loss: 208.8978 - val_loss: 209.4045 - 59s/epoch - 19ms/step\n",
            "Epoch 122/200\n",
            "3149/3149 - 53s - loss: 208.7251 - val_loss: 207.3877 - 53s/epoch - 17ms/step\n",
            "Epoch 123/200\n",
            "3149/3149 - 60s - loss: 208.3706 - val_loss: 208.5010 - 60s/epoch - 19ms/step\n",
            "Epoch 124/200\n",
            "3149/3149 - 54s - loss: 208.0587 - val_loss: 206.8496 - 54s/epoch - 17ms/step\n",
            "Epoch 125/200\n",
            "3149/3149 - 53s - loss: 208.2387 - val_loss: 207.2185 - 53s/epoch - 17ms/step\n",
            "Epoch 126/200\n",
            "3149/3149 - 59s - loss: 207.2851 - val_loss: 208.6533 - 59s/epoch - 19ms/step\n",
            "Epoch 127/200\n",
            "3149/3149 - 54s - loss: 207.1417 - val_loss: 208.2531 - 54s/epoch - 17ms/step\n",
            "Epoch 128/200\n",
            "3149/3149 - 58s - loss: 206.9807 - val_loss: 208.3850 - 58s/epoch - 18ms/step\n",
            "Epoch 129/200\n",
            "3149/3149 - 53s - loss: 206.2177 - val_loss: 209.8539 - 53s/epoch - 17ms/step\n",
            "Epoch 130/200\n",
            "3149/3149 - 53s - loss: 205.4691 - val_loss: 208.3869 - 53s/epoch - 17ms/step\n",
            "Epoch 131/200\n",
            "3149/3149 - 58s - loss: 206.0833 - val_loss: 210.0829 - 58s/epoch - 18ms/step\n",
            "Epoch 132/200\n",
            "3149/3149 - 58s - loss: 205.0833 - val_loss: 211.0779 - 58s/epoch - 19ms/step\n",
            "Epoch 133/200\n",
            "3149/3149 - 54s - loss: 205.1500 - val_loss: 209.6670 - 54s/epoch - 17ms/step\n",
            "Epoch 134/200\n",
            "3149/3149 - 54s - loss: 205.1706 - val_loss: 209.6676 - 54s/epoch - 17ms/step\n",
            "Epoch 135/200\n",
            "3149/3149 - 53s - loss: 204.3151 - val_loss: 210.8933 - 53s/epoch - 17ms/step\n",
            "Epoch 136/200\n",
            "3149/3149 - 53s - loss: 203.9046 - val_loss: 208.9182 - 53s/epoch - 17ms/step\n",
            "Epoch 137/200\n",
            "3149/3149 - 54s - loss: 204.0812 - val_loss: 209.7498 - 54s/epoch - 17ms/step\n",
            "Epoch 138/200\n",
            "3149/3149 - 53s - loss: 203.0283 - val_loss: 208.4658 - 53s/epoch - 17ms/step\n",
            "Epoch 139/200\n",
            "3149/3149 - 53s - loss: 202.8799 - val_loss: 209.1331 - 53s/epoch - 17ms/step\n",
            "Epoch 140/200\n",
            "3149/3149 - 54s - loss: 202.8773 - val_loss: 210.0103 - 54s/epoch - 17ms/step\n",
            "Epoch 141/200\n",
            "3149/3149 - 53s - loss: 201.7722 - val_loss: 210.9038 - 53s/epoch - 17ms/step\n",
            "Epoch 142/200\n",
            "3149/3149 - 58s - loss: 201.8111 - val_loss: 208.1923 - 58s/epoch - 19ms/step\n",
            "Epoch 143/200\n",
            "3149/3149 - 53s - loss: 201.5220 - val_loss: 209.5163 - 53s/epoch - 17ms/step\n",
            "Epoch 144/200\n",
            "3149/3149 - 53s - loss: 201.5705 - val_loss: 209.7631 - 53s/epoch - 17ms/step\n",
            "Epoch 145/200\n",
            "3149/3149 - 53s - loss: 200.1944 - val_loss: 210.5482 - 53s/epoch - 17ms/step\n",
            "Epoch 146/200\n",
            "3149/3149 - 53s - loss: 200.5971 - val_loss: 209.0074 - 53s/epoch - 17ms/step\n",
            "Epoch 147/200\n",
            "3149/3149 - 53s - loss: 199.9813 - val_loss: 211.3834 - 53s/epoch - 17ms/step\n",
            "Epoch 148/200\n",
            "3149/3149 - 58s - loss: 199.4428 - val_loss: 211.3066 - 58s/epoch - 18ms/step\n",
            "Epoch 149/200\n",
            "3149/3149 - 54s - loss: 199.4158 - val_loss: 221.8009 - 54s/epoch - 17ms/step\n",
            "Epoch 150/200\n",
            "3149/3149 - 53s - loss: 198.4164 - val_loss: 211.5768 - 53s/epoch - 17ms/step\n",
            "Epoch 151/200\n",
            "3149/3149 - 53s - loss: 199.1848 - val_loss: 214.0101 - 53s/epoch - 17ms/step\n",
            "Epoch 152/200\n",
            "3149/3149 - 54s - loss: 197.7554 - val_loss: 210.6045 - 54s/epoch - 17ms/step\n",
            "Epoch 153/200\n",
            "3149/3149 - 57s - loss: 197.1943 - val_loss: 211.4306 - 57s/epoch - 18ms/step\n",
            "Epoch 154/200\n",
            "3149/3149 - 54s - loss: 197.5631 - val_loss: 214.5800 - 54s/epoch - 17ms/step\n",
            "Epoch 155/200\n",
            "3149/3149 - 54s - loss: 196.3842 - val_loss: 214.6763 - 54s/epoch - 17ms/step\n",
            "Epoch 156/200\n",
            "3149/3149 - 58s - loss: 196.3879 - val_loss: 213.7047 - 58s/epoch - 19ms/step\n",
            "Epoch 157/200\n",
            "3149/3149 - 58s - loss: 195.4055 - val_loss: 210.1310 - 58s/epoch - 19ms/step\n",
            "Epoch 158/200\n",
            "3149/3149 - 53s - loss: 196.0053 - val_loss: 210.2216 - 53s/epoch - 17ms/step\n",
            "Epoch 159/200\n",
            "3149/3149 - 53s - loss: 195.7179 - val_loss: 215.1604 - 53s/epoch - 17ms/step\n",
            "Epoch 160/200\n",
            "3149/3149 - 58s - loss: 194.0861 - val_loss: 214.0238 - 58s/epoch - 18ms/step\n",
            "Epoch 161/200\n",
            "3149/3149 - 53s - loss: 194.8018 - val_loss: 211.3246 - 53s/epoch - 17ms/step\n",
            "Epoch 162/200\n",
            "3149/3149 - 54s - loss: 193.4802 - val_loss: 216.8121 - 54s/epoch - 17ms/step\n",
            "Epoch 163/200\n",
            "3149/3149 - 53s - loss: 192.5081 - val_loss: 215.9563 - 53s/epoch - 17ms/step\n",
            "Epoch 164/200\n",
            "3149/3149 - 53s - loss: 192.0089 - val_loss: 213.4113 - 53s/epoch - 17ms/step\n",
            "Epoch 165/200\n",
            "3149/3149 - 54s - loss: 192.4072 - val_loss: 214.9708 - 54s/epoch - 17ms/step\n",
            "Epoch 166/200\n",
            "3149/3149 - 59s - loss: 191.1941 - val_loss: 213.4680 - 59s/epoch - 19ms/step\n",
            "Epoch 167/200\n",
            "3149/3149 - 58s - loss: 191.7176 - val_loss: 219.7217 - 58s/epoch - 19ms/step\n",
            "Epoch 168/200\n",
            "3149/3149 - 54s - loss: 190.7264 - val_loss: 217.0903 - 54s/epoch - 17ms/step\n",
            "Epoch 169/200\n",
            "3149/3149 - 58s - loss: 190.0295 - val_loss: 215.6117 - 58s/epoch - 18ms/step\n",
            "Epoch 170/200\n",
            "3149/3149 - 53s - loss: 188.9753 - val_loss: 221.6239 - 53s/epoch - 17ms/step\n",
            "Epoch 171/200\n",
            "3149/3149 - 53s - loss: 188.8959 - val_loss: 216.5225 - 53s/epoch - 17ms/step\n",
            "Epoch 172/200\n",
            "3149/3149 - 53s - loss: 187.7372 - val_loss: 216.7624 - 53s/epoch - 17ms/step\n",
            "Epoch 173/200\n",
            "3149/3149 - 58s - loss: 188.5891 - val_loss: 217.3531 - 58s/epoch - 18ms/step\n",
            "Epoch 174/200\n",
            "3149/3149 - 54s - loss: 188.1009 - val_loss: 212.9398 - 54s/epoch - 17ms/step\n",
            "Epoch 175/200\n",
            "3149/3149 - 53s - loss: 187.4938 - val_loss: 227.1168 - 53s/epoch - 17ms/step\n",
            "Epoch 176/200\n",
            "3149/3149 - 53s - loss: 186.2990 - val_loss: 227.8529 - 53s/epoch - 17ms/step\n",
            "Epoch 177/200\n",
            "3149/3149 - 58s - loss: 186.0423 - val_loss: 218.5617 - 58s/epoch - 18ms/step\n",
            "Epoch 178/200\n",
            "3149/3149 - 53s - loss: 185.6400 - val_loss: 229.3222 - 53s/epoch - 17ms/step\n",
            "Epoch 179/200\n",
            "3149/3149 - 54s - loss: 187.2653 - val_loss: 214.8511 - 54s/epoch - 17ms/step\n",
            "Epoch 180/200\n",
            "3149/3149 - 53s - loss: 185.2159 - val_loss: 225.7994 - 53s/epoch - 17ms/step\n",
            "Epoch 181/200\n",
            "3149/3149 - 53s - loss: 185.4293 - val_loss: 216.3099 - 53s/epoch - 17ms/step\n",
            "Epoch 182/200\n",
            "3149/3149 - 54s - loss: 182.6825 - val_loss: 218.6562 - 54s/epoch - 17ms/step\n",
            "Epoch 183/200\n",
            "3149/3149 - 57s - loss: 182.9517 - val_loss: 216.5985 - 57s/epoch - 18ms/step\n",
            "Epoch 184/200\n",
            "3149/3149 - 58s - loss: 182.8421 - val_loss: 214.4670 - 58s/epoch - 18ms/step\n",
            "Epoch 185/200\n",
            "3149/3149 - 53s - loss: 183.1596 - val_loss: 216.5827 - 53s/epoch - 17ms/step\n",
            "Epoch 186/200\n",
            "3149/3149 - 55s - loss: 181.5805 - val_loss: 221.4850 - 55s/epoch - 17ms/step\n",
            "Epoch 187/200\n",
            "3149/3149 - 54s - loss: 180.6674 - val_loss: 220.3005 - 54s/epoch - 17ms/step\n",
            "Epoch 188/200\n",
            "3149/3149 - 60s - loss: 180.7405 - val_loss: 214.9167 - 60s/epoch - 19ms/step\n",
            "Epoch 189/200\n",
            "3149/3149 - 53s - loss: 180.2292 - val_loss: 215.4155 - 53s/epoch - 17ms/step\n",
            "Epoch 190/200\n",
            "3149/3149 - 59s - loss: 179.7822 - val_loss: 219.8184 - 59s/epoch - 19ms/step\n",
            "Epoch 191/200\n",
            "3149/3149 - 53s - loss: 178.6882 - val_loss: 222.4846 - 53s/epoch - 17ms/step\n",
            "Epoch 192/200\n",
            "3149/3149 - 54s - loss: 178.6371 - val_loss: 221.7629 - 54s/epoch - 17ms/step\n",
            "Epoch 193/200\n",
            "3149/3149 - 59s - loss: 177.6672 - val_loss: 218.6084 - 59s/epoch - 19ms/step\n",
            "Epoch 194/200\n",
            "3149/3149 - 53s - loss: 176.8580 - val_loss: 216.8989 - 53s/epoch - 17ms/step\n",
            "Epoch 195/200\n",
            "3149/3149 - 54s - loss: 176.6822 - val_loss: 218.5532 - 54s/epoch - 17ms/step\n",
            "Epoch 196/200\n",
            "3149/3149 - 58s - loss: 176.8048 - val_loss: 221.8071 - 58s/epoch - 19ms/step\n",
            "Epoch 197/200\n",
            "3149/3149 - 53s - loss: 176.4909 - val_loss: 221.0346 - 53s/epoch - 17ms/step\n",
            "Epoch 198/200\n",
            "3149/3149 - 55s - loss: 175.1430 - val_loss: 227.9756 - 55s/epoch - 17ms/step\n",
            "Epoch 199/200\n",
            "3149/3149 - 54s - loss: 175.5583 - val_loss: 223.2451 - 54s/epoch - 17ms/step\n",
            "Epoch 200/200\n",
            "3149/3149 - 54s - loss: 173.6054 - val_loss: 222.2039 - 54s/epoch - 17ms/step\n"
          ]
        }
      ],
      "source": [
        "cnn_bilstm_history = model_cnn_bilstm.fit(X_train_series_sub, Y_train, validation_data=(X_valid_series_sub, Y_valid), epochs=epochs, verbose=2)"
      ]
    },
    {
      "cell_type": "code",
      "execution_count": null,
      "metadata": {
        "id": "pLgqSJuS3ZCs",
        "outputId": "ddde84e3-a969-486c-dcfa-3775b8900f71",
        "colab": {
          "base_uri": "https://localhost:8080/",
          "height": 745
        }
      },
      "outputs": [
        {
          "output_type": "display_data",
          "data": {
            "text/plain": [
              "<Figure size 2200x1200 with 1 Axes>"
            ],
            "image/png": "[encoded data removed]"
          },
          "metadata": {}
        }
      ],
      "source": [
        "fig, ax4 = plt.subplots(1, 1, sharex=True, sharey=True,figsize=(22,12))\n",
        "\n",
        "ax4.plot(cnn_bilstm_history.history['loss'], label='Train loss')\n",
        "ax4.plot(cnn_bilstm_history.history['val_loss'], label='Validation loss')\n",
        "ax4.legend(loc='best')\n",
        "ax4.set_title('CNN-BiLSTM')\n",
        "ax4.set_xlabel('Epochs')\n",
        "ax4.set_ylabel('MSE')\n",
        "\n",
        "plt.show()"
      ]
    },
    {
      "cell_type": "code",
      "execution_count": null,
      "metadata": {
        "id": "3NUSuVUB4tLO",
        "outputId": "3646a25a-eb60-4f66-c195-523076193cff",
        "colab": {
          "base_uri": "https://localhost:8080/"
        }
      },
      "outputs": [
        {
          "output_type": "stream",
          "name": "stdout",
          "text": [
            "3149/3149 [==============================] - 8s 2ms/step\n",
            "2099/2099 [==============================] - 6s 3ms/step\n",
            "Train rmse: 12.425110775881024\n",
            "Validation rmse: 14.906504341364883\n"
          ]
        }
      ],
      "source": [
        "cnn_bilstm_train_pred = model_cnn_bilstm.predict(X_train_series_sub)\n",
        "cnn_bilstm_valid_pred = model_cnn_bilstm.predict(X_valid_series_sub)\n",
        "end_time=time.time()\n",
        "\n",
        "print('Train rmse:', np.sqrt(mean_squared_error(Y_train, cnn_bilstm_train_pred)))\n",
        "print('Validation rmse:', np.sqrt(mean_squared_error(Y_valid, cnn_bilstm_valid_pred)))"
      ]
    },
    {
      "cell_type": "markdown",
      "metadata": {
        "id": "oKPWKOSQhWoI"
      },
      "source": [
        "Calculating Performance measures"
      ]
    },
    {
      "cell_type": "code",
      "execution_count": null,
      "metadata": {
        "id": "nB6RMYoQ49dW",
        "outputId": "b0b4b08c-278e-4620-b72c-082c6948f19c",
        "colab": {
          "base_uri": "https://localhost:8080/"
        }
      },
      "outputs": [
        {
          "output_type": "stream",
          "name": "stdout",
          "text": [
            "MAE: 9.3810\n",
            "MAPE: 27.03%\n",
            "R-squared: 0.7458\n",
            "Execution time 11225.951822757721\n"
          ]
        }
      ],
      "source": [
        "from sklearn.metrics import mean_absolute_error, mean_absolute_percentage_error, r2_score\n",
        "mae = mean_absolute_error(Y_train, cnn_bilstm_train_pred)\n",
        "mape = mean_absolute_percentage_error(Y_train, cnn_bilstm_train_pred) * 100\n",
        "r2 = r2_score(Y_train, cnn_bilstm_train_pred)\n",
        "execution_time=end_time-start_time\n",
        "\n",
        "# Print the results\n",
        "print(\"MAE: {:.4f}\".format(mae))\n",
        "print(\"MAPE: {:.2f}%\".format(mape))\n",
        "print(\"R-squared: {:.4f}\".format(r2))\n",
        "print(\"Execution time\",execution_time)"
      ]
    }
  ],
  "metadata": {
    "colab": {
      "provenance": []
    },
    "gpuClass": "standard",
    "kernelspec": {
      "display_name": "Python 3",
      "name": "python3"
    },
    "language_info": {
      "name": "python"
    },
    "accelerator": "GPU"
  },
  "nbformat": 4,
  "nbformat_minor": 0
}