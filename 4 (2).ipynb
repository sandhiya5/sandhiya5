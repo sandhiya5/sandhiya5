{
  "nbformat": 4,
  "nbformat_minor": 0,
  "metadata": {
    "colab": {
      "provenance": []
    },
    "kernelspec": {
      "name": "python3",
      "display_name": "Python 3"
    },
    "language_info": {
      "name": "python"
    },
    "accelerator": "GPU",
    "gpuClass": "standard"
  },
  "cells": [
    {
      "cell_type": "markdown",
      "source": [
        "**MODEL**-CNN-BiLSTM\n",
        "\n",
        "\n",
        "\n",
        "\n",
        "**OPTIMIZER**-Lazy Adam\n",
        "\n",
        "\n",
        "\n",
        "\n",
        "**LEARNING RATE**-10^-2\n",
        "\n",
        "\n",
        "\n",
        "\n",
        "**DROPOUT** -0.5\n",
        "\n",
        "\n",
        "\n",
        "**LSTM LAYER**-32\n",
        "\n",
        "\n",
        "\n",
        "**ACTIVATION**-swish\n",
        "\n",
        "\n",
        "\n",
        "\n",
        "**BATCH SIZE**-32\n",
        "\n",
        "\n",
        "\n",
        "\n",
        "**FILTER**-32 32\n",
        "\n",
        "\n",
        "\n",
        "---\n",
        "\n",
        "\n",
        "\n"
      ],
      "metadata": {
        "id": "QqB7B-z-I6U_"
      }
    },
    {
      "cell_type": "code",
      "execution_count": null,
      "metadata": {
        "id": "NfBdoUtmsghZ",
        "outputId": "a4576b98-f0b1-4557-ba17-6dd207c65bd2",
        "colab": {
          "base_uri": "https://localhost:8080/"
        }
      },
      "outputs": [
        {
          "output_type": "stream",
          "name": "stdout",
          "text": [
            "Looking in indexes: https://pypi.org/simple, https://us-python.pkg.dev/colab-wheels/public/simple/\n",
            "Requirement already satisfied: tensorflow in /usr/local/lib/python3.9/dist-packages (2.12.0)\n",
            "Collecting tensorflow-addons\n",
            "  Downloading tensorflow_addons-0.20.0-cp39-cp39-manylinux_2_17_x86_64.manylinux2014_x86_64.whl (591 kB)\n",
            "\u001b[2K     \u001b[90m━━━━━━━━━━━━━━━━━━━━━━━━━━━━━━━━━━━━━━\u001b[0m \u001b[32m591.0/591.0 kB\u001b[0m \u001b[31m18.0 MB/s\u001b[0m eta \u001b[36m0:00:00\u001b[0m\n",
            "\u001b[?25hRequirement already satisfied: astunparse>=1.6.0 in /usr/local/lib/python3.9/dist-packages (from tensorflow) (1.6.3)\n",
            "Requirement already satisfied: gast<=0.4.0,>=0.2.1 in /usr/local/lib/python3.9/dist-packages (from tensorflow) (0.4.0)\n",
            "Requirement already satisfied: jax>=0.3.15 in /usr/local/lib/python3.9/dist-packages (from tensorflow) (0.4.8)\n",
            "Requirement already satisfied: wrapt<1.15,>=1.11.0 in /usr/local/lib/python3.9/dist-packages (from tensorflow) (1.14.1)\n",
            "Requirement already satisfied: packaging in /usr/local/lib/python3.9/dist-packages (from tensorflow) (23.1)\n",
            "Requirement already satisfied: typing-extensions>=3.6.6 in /usr/local/lib/python3.9/dist-packages (from tensorflow) (4.5.0)\n",
            "Requirement already satisfied: libclang>=13.0.0 in /usr/local/lib/python3.9/dist-packages (from tensorflow) (16.0.0)\n",
            "Requirement already satisfied: six>=1.12.0 in /usr/local/lib/python3.9/dist-packages (from tensorflow) (1.16.0)\n",
            "Requirement already satisfied: google-pasta>=0.1.1 in /usr/local/lib/python3.9/dist-packages (from tensorflow) (0.2.0)\n",
            "Requirement already satisfied: termcolor>=1.1.0 in /usr/local/lib/python3.9/dist-packages (from tensorflow) (2.2.0)\n",
            "Requirement already satisfied: flatbuffers>=2.0 in /usr/local/lib/python3.9/dist-packages (from tensorflow) (23.3.3)\n",
            "Requirement already satisfied: absl-py>=1.0.0 in /usr/local/lib/python3.9/dist-packages (from tensorflow) (1.4.0)\n",
            "Requirement already satisfied: opt-einsum>=2.3.2 in /usr/local/lib/python3.9/dist-packages (from tensorflow) (3.3.0)\n",
            "Requirement already satisfied: tensorflow-estimator<2.13,>=2.12.0 in /usr/local/lib/python3.9/dist-packages (from tensorflow) (2.12.0)\n",
            "Requirement already satisfied: setuptools in /usr/local/lib/python3.9/dist-packages (from tensorflow) (67.6.1)\n",
            "Requirement already satisfied: tensorflow-io-gcs-filesystem>=0.23.1 in /usr/local/lib/python3.9/dist-packages (from tensorflow) (0.32.0)\n",
            "Requirement already satisfied: grpcio<2.0,>=1.24.3 in /usr/local/lib/python3.9/dist-packages (from tensorflow) (1.53.0)\n",
            "Requirement already satisfied: keras<2.13,>=2.12.0 in /usr/local/lib/python3.9/dist-packages (from tensorflow) (2.12.0)\n",
            "Requirement already satisfied: protobuf!=4.21.0,!=4.21.1,!=4.21.2,!=4.21.3,!=4.21.4,!=4.21.5,<5.0.0dev,>=3.20.3 in /usr/local/lib/python3.9/dist-packages (from tensorflow) (3.20.3)\n",
            "Requirement already satisfied: tensorboard<2.13,>=2.12 in /usr/local/lib/python3.9/dist-packages (from tensorflow) (2.12.2)\n",
            "Requirement already satisfied: numpy<1.24,>=1.22 in /usr/local/lib/python3.9/dist-packages (from tensorflow) (1.22.4)\n",
            "Requirement already satisfied: h5py>=2.9.0 in /usr/local/lib/python3.9/dist-packages (from tensorflow) (3.8.0)\n",
            "Collecting typeguard<3.0.0,>=2.7\n",
            "  Downloading typeguard-2.13.3-py3-none-any.whl (17 kB)\n",
            "Requirement already satisfied: wheel<1.0,>=0.23.0 in /usr/local/lib/python3.9/dist-packages (from astunparse>=1.6.0->tensorflow) (0.40.0)\n",
            "Requirement already satisfied: ml-dtypes>=0.0.3 in /usr/local/lib/python3.9/dist-packages (from jax>=0.3.15->tensorflow) (0.1.0)\n",
            "Requirement already satisfied: scipy>=1.7 in /usr/local/lib/python3.9/dist-packages (from jax>=0.3.15->tensorflow) (1.10.1)\n",
            "Requirement already satisfied: werkzeug>=1.0.1 in /usr/local/lib/python3.9/dist-packages (from tensorboard<2.13,>=2.12->tensorflow) (2.2.3)\n",
            "Requirement already satisfied: requests<3,>=2.21.0 in /usr/local/lib/python3.9/dist-packages (from tensorboard<2.13,>=2.12->tensorflow) (2.27.1)\n",
            "Requirement already satisfied: markdown>=2.6.8 in /usr/local/lib/python3.9/dist-packages (from tensorboard<2.13,>=2.12->tensorflow) (3.4.3)\n",
            "Requirement already satisfied: tensorboard-data-server<0.8.0,>=0.7.0 in /usr/local/lib/python3.9/dist-packages (from tensorboard<2.13,>=2.12->tensorflow) (0.7.0)\n",
            "Requirement already satisfied: google-auth-oauthlib<1.1,>=0.5 in /usr/local/lib/python3.9/dist-packages (from tensorboard<2.13,>=2.12->tensorflow) (1.0.0)\n",
            "Requirement already satisfied: tensorboard-plugin-wit>=1.6.0 in /usr/local/lib/python3.9/dist-packages (from tensorboard<2.13,>=2.12->tensorflow) (1.8.1)\n",
            "Requirement already satisfied: google-auth<3,>=1.6.3 in /usr/local/lib/python3.9/dist-packages (from tensorboard<2.13,>=2.12->tensorflow) (2.17.3)\n",
            "Requirement already satisfied: pyasn1-modules>=0.2.1 in /usr/local/lib/python3.9/dist-packages (from google-auth<3,>=1.6.3->tensorboard<2.13,>=2.12->tensorflow) (0.2.8)\n",
            "Requirement already satisfied: cachetools<6.0,>=2.0.0 in /usr/local/lib/python3.9/dist-packages (from google-auth<3,>=1.6.3->tensorboard<2.13,>=2.12->tensorflow) (5.3.0)\n",
            "Requirement already satisfied: rsa<5,>=3.1.4 in /usr/local/lib/python3.9/dist-packages (from google-auth<3,>=1.6.3->tensorboard<2.13,>=2.12->tensorflow) (4.9)\n",
            "Requirement already satisfied: requests-oauthlib>=0.7.0 in /usr/local/lib/python3.9/dist-packages (from google-auth-oauthlib<1.1,>=0.5->tensorboard<2.13,>=2.12->tensorflow) (1.3.1)\n",
            "Requirement already satisfied: importlib-metadata>=4.4 in /usr/local/lib/python3.9/dist-packages (from markdown>=2.6.8->tensorboard<2.13,>=2.12->tensorflow) (6.4.1)\n",
            "Requirement already satisfied: urllib3<1.27,>=1.21.1 in /usr/local/lib/python3.9/dist-packages (from requests<3,>=2.21.0->tensorboard<2.13,>=2.12->tensorflow) (1.26.15)\n",
            "Requirement already satisfied: charset-normalizer~=2.0.0 in /usr/local/lib/python3.9/dist-packages (from requests<3,>=2.21.0->tensorboard<2.13,>=2.12->tensorflow) (2.0.12)\n",
            "Requirement already satisfied: idna<4,>=2.5 in /usr/local/lib/python3.9/dist-packages (from requests<3,>=2.21.0->tensorboard<2.13,>=2.12->tensorflow) (3.4)\n",
            "Requirement already satisfied: certifi>=2017.4.17 in /usr/local/lib/python3.9/dist-packages (from requests<3,>=2.21.0->tensorboard<2.13,>=2.12->tensorflow) (2022.12.7)\n",
            "Requirement already satisfied: MarkupSafe>=2.1.1 in /usr/local/lib/python3.9/dist-packages (from werkzeug>=1.0.1->tensorboard<2.13,>=2.12->tensorflow) (2.1.2)\n",
            "Requirement already satisfied: zipp>=0.5 in /usr/local/lib/python3.9/dist-packages (from importlib-metadata>=4.4->markdown>=2.6.8->tensorboard<2.13,>=2.12->tensorflow) (3.15.0)\n",
            "Requirement already satisfied: pyasn1<0.5.0,>=0.4.6 in /usr/local/lib/python3.9/dist-packages (from pyasn1-modules>=0.2.1->google-auth<3,>=1.6.3->tensorboard<2.13,>=2.12->tensorflow) (0.4.8)\n",
            "Requirement already satisfied: oauthlib>=3.0.0 in /usr/local/lib/python3.9/dist-packages (from requests-oauthlib>=0.7.0->google-auth-oauthlib<1.1,>=0.5->tensorboard<2.13,>=2.12->tensorflow) (3.2.2)\n",
            "Installing collected packages: typeguard, tensorflow-addons\n",
            "Successfully installed tensorflow-addons-0.20.0 typeguard-2.13.3\n"
          ]
        }
      ],
      "source": [
        "pip install --upgrade tensorflow tensorflow-addons"
      ]
    },
    {
      "cell_type": "code",
      "execution_count": null,
      "metadata": {
        "id": "ZnHw5Ze_trnQ"
      },
      "outputs": [],
      "source": []
    },
    {
      "cell_type": "code",
      "execution_count": null,
      "metadata": {
        "colab": {
          "base_uri": "https://localhost:8080/"
        },
        "id": "-mqJs6ZEwYSj",
        "outputId": "d3d8743c-803d-43fa-9409-3f4de7b62b0c"
      },
      "outputs": [
        {
          "output_type": "stream",
          "name": "stdout",
          "text": [
            "Looking in indexes: https://pypi.org/simple, https://us-python.pkg.dev/colab-wheels/public/simple/\n",
            "Collecting chart-studio\n",
            "  Downloading chart_studio-1.1.0-py3-none-any.whl (64 kB)\n",
            "\u001b[2K     \u001b[90m━━━━━━━━━━━━━━━━━━━━━━━━━━━━━━━━━━━━━━━━\u001b[0m \u001b[32m64.4/64.4 kB\u001b[0m \u001b[31m3.9 MB/s\u001b[0m eta \u001b[36m0:00:00\u001b[0m\n",
            "\u001b[?25hRequirement already satisfied: plotly in /usr/local/lib/python3.9/dist-packages (from chart-studio) (5.13.1)\n",
            "Collecting retrying>=1.3.3\n",
            "  Downloading retrying-1.3.4-py3-none-any.whl (11 kB)\n",
            "Requirement already satisfied: requests in /usr/local/lib/python3.9/dist-packages (from chart-studio) (2.27.1)\n",
            "Requirement already satisfied: six in /usr/local/lib/python3.9/dist-packages (from chart-studio) (1.16.0)\n",
            "Requirement already satisfied: tenacity>=6.2.0 in /usr/local/lib/python3.9/dist-packages (from plotly->chart-studio) (8.2.2)\n",
            "Requirement already satisfied: urllib3<1.27,>=1.21.1 in /usr/local/lib/python3.9/dist-packages (from requests->chart-studio) (1.26.15)\n",
            "Requirement already satisfied: idna<4,>=2.5 in /usr/local/lib/python3.9/dist-packages (from requests->chart-studio) (3.4)\n",
            "Requirement already satisfied: charset-normalizer~=2.0.0 in /usr/local/lib/python3.9/dist-packages (from requests->chart-studio) (2.0.12)\n",
            "Requirement already satisfied: certifi>=2017.4.17 in /usr/local/lib/python3.9/dist-packages (from requests->chart-studio) (2022.12.7)\n",
            "Installing collected packages: retrying, chart-studio\n",
            "Successfully installed chart-studio-1.1.0 retrying-1.3.4\n"
          ]
        }
      ],
      "source": [
        "pip install chart-studio"
      ]
    },
    {
      "cell_type": "code",
      "execution_count": null,
      "metadata": {
        "id": "9-VwAkt1wig5"
      },
      "outputs": [],
      "source": [
        "pip install -q -U tensorflow-addons"
      ]
    },
    {
      "cell_type": "code",
      "source": [
        "import time\n",
        "start_time=time.time()"
      ],
      "metadata": {
        "id": "MOMIOe2Xc7Pz"
      },
      "execution_count": null,
      "outputs": []
    },
    {
      "cell_type": "markdown",
      "metadata": {
        "id": "im7SNt_ww_Lh"
      },
      "source": [
        "Import necessary libraries\n"
      ]
    },
    {
      "cell_type": "code",
      "execution_count": null,
      "metadata": {
        "colab": {
          "base_uri": "https://localhost:8080/",
          "height": 193
        },
        "id": "rNmRWY_0VttW",
        "outputId": "9264854a-282f-4742-8f00-24c09013055c"
      },
      "outputs": [
        {
          "output_type": "stream",
          "name": "stderr",
          "text": [
            "/usr/local/lib/python3.9/dist-packages/tensorflow_addons/utils/tfa_eol_msg.py:23: UserWarning: \n",
            "\n",
            "TensorFlow Addons (TFA) has ended development and introduction of new features.\n",
            "TFA has entered a minimal maintenance and release mode until a planned end of life in May 2024.\n",
            "Please modify downstream libraries to take dependencies from other repositories in our TensorFlow community (e.g. Keras, Keras-CV, and Keras-NLP). \n",
            "\n",
            "For more information see: https://github.com/tensorflow/addons/issues/2807 \n",
            "\n",
            "  warnings.warn(\n"
          ]
        },
        {
          "output_type": "display_data",
          "data": {
            "text/html": [
              "        <script type=\"text/javascript\">\n",
              "        window.PlotlyConfig = {MathJaxConfig: 'local'};\n",
              "        if (window.MathJax && window.MathJax.Hub && window.MathJax.Hub.Config) {window.MathJax.Hub.Config({SVG: {font: \"STIX-Web\"}});}\n",
              "        if (typeof require !== 'undefined') {\n",
              "        require.undef(\"plotly\");\n",
              "        requirejs.config({\n",
              "            paths: {\n",
              "                'plotly': ['https://cdn.plot.ly/plotly-2.18.2.min']\n",
              "            }\n",
              "        });\n",
              "        require(['plotly'], function(Plotly) {\n",
              "            window._Plotly = Plotly;\n",
              "        });\n",
              "        }\n",
              "        </script>\n",
              "        "
            ]
          },
          "metadata": {}
        }
      ],
      "source": [
        "\n",
        "import warnings\n",
        "import numpy as np\n",
        "import pandas as pd\n",
        "import tensorflow\n",
        "import tensorflow_addons as tfa\n",
        "import matplotlib.pyplot as plt\n",
        "from tensorflow_addons.optimizers import LazyAdam\n",
        "from keras.layers import Dropout\n",
        "\n",
        "from keras.models import Sequential, Model\n",
        "from keras.layers.convolutional import Conv1D, MaxPooling1D\n",
        "from keras.layers import Dense, LSTM, RepeatVector, TimeDistributed, Flatten\n",
        "from sklearn.metrics import mean_squared_error\n",
        "from sklearn.preprocessing import OneHotEncoder\n",
        "from sklearn.model_selection import train_test_split\n",
        "from chart_studio import plotly as py\n",
        "import plotly.graph_objs as go\n",
        "from plotly.offline import init_notebook_mode, iplot\n",
        "\n",
        "%matplotlib inline\n",
        "warnings.filterwarnings(\"ignore\")\n",
        "init_notebook_mode(connected=True)\n",
        "\n",
        "from numpy.random import seed\n",
        "seed(1)\n",
        "from tensorflow import random\n",
        "random.set_seed(1)"
      ]
    },
    {
      "cell_type": "markdown",
      "metadata": {
        "id": "hTnF6K8GxN8F"
      },
      "source": [
        "LOAD DATA\n"
      ]
    },
    {
      "cell_type": "code",
      "execution_count": null,
      "metadata": {
        "id": "pD1D5c0uxTD9"
      },
      "outputs": [],
      "source": [
        "train = pd.read_csv('train.csv', parse_dates=['date'])\n",
        "test = pd.read_csv('test.csv', parse_dates=['date'])"
      ]
    },
    {
      "cell_type": "markdown",
      "source": [
        "One-hot Encoding"
      ],
      "metadata": {
        "id": "llG5ek-HdyB2"
      }
    },
    {
      "cell_type": "code",
      "source": [
        "import pandas as pd\n",
        "import numpy as np\n",
        "\n",
        "train = pd.read_csv('train.csv', parse_dates=['date'])\n",
        "test = pd.read_csv('test.csv', parse_dates=['date'])\n",
        "\n",
        "# create new column weekday\n",
        "train['weekday'] = np.where(train['date'].dt.dayofweek < 5, 0, 1)\n",
        "test['weekday'] = np.where(test['date'].dt.dayofweek < 5, 0, 1)\n",
        "# perform one-hot encoding\n",
        "train = pd.get_dummies(train, columns=['weekday'])\n",
        "test = pd.get_dummies(test, columns=['weekday'])\n",
        "\n",
        "#fill sales data with 0 in test set\n",
        "test['sales'] = 0\n"
      ],
      "metadata": {
        "id": "KeH8xVlqANdX"
      },
      "execution_count": null,
      "outputs": []
    },
    {
      "cell_type": "markdown",
      "source": [
        "MinMax Scaling"
      ],
      "metadata": {
        "id": "X1QRlbvmd--r"
      }
    },
    {
      "cell_type": "code",
      "source": [
        "import numpy as np\n",
        "from sklearn.preprocessing import MinMaxScaler\n",
        "\n",
        "# Convert the 'date' column to datetime format\n",
        "train['date'] = pd.to_datetime(train['date'])\n",
        "\n",
        "# Create weekday and weekend indicator variables based on the 'date' column\n",
        "train['weekday_weekend'] = np.where(train['date'].dt.weekday < 5, 'weekday', 'weekend')\n",
        "\n",
        "# Select columns to be scaled\n",
        "val_cols = ['store', 'item']\n",
        "num_cols = ['sales']\n",
        "\n",
        "# Scale the numerical columns using MinMaxScaler\n",
        "scaler = MinMaxScaler(feature_range=(0, 200))\n",
        "train[num_cols] = scaler.fit_transform(train[num_cols])\n",
        "\n",
        "# Add the 'date', 'store', and 'item' columns back to the dataset\n",
        "train = train[['date'] + val_cols + num_cols + ['weekday_weekend']]"
      ],
      "metadata": {
        "id": "RH6yNo6YC5cf"
      },
      "execution_count": null,
      "outputs": []
    },
    {
      "cell_type": "markdown",
      "metadata": {
        "id": "6JgwgmgcxY0l"
      },
      "source": [
        "**Train** data description\n"
      ]
    },
    {
      "cell_type": "code",
      "source": [
        "print(train.describe())\n",
        "print(train.head())"
      ],
      "metadata": {
        "id": "txtidyE0cGhm",
        "colab": {
          "base_uri": "https://localhost:8080/"
        },
        "outputId": "a230cb45-9b09-496a-d4d8-c50b8d32b91a"
      },
      "execution_count": null,
      "outputs": [
        {
          "output_type": "stream",
          "name": "stdout",
          "text": [
            "               store           item          sales\n",
            "count  109917.000000  109917.000000  109917.000000\n",
            "mean        5.485384       3.511368      48.054320\n",
            "std         2.879034       1.716647      29.283959\n",
            "min         1.000000       1.000000       0.000000\n",
            "25%         3.000000       2.000000      25.333333\n",
            "50%         5.000000       4.000000      40.000000\n",
            "75%         8.000000       5.000000      65.333333\n",
            "max        10.000000       7.000000     200.000000\n",
            "        date  store  item      sales weekday_weekend\n",
            "0 2013-01-01      1     1  17.333333         weekday\n",
            "1 2013-02-01      1     1  14.666667         weekday\n",
            "2 2013-03-01      1     1  18.666667         weekday\n",
            "3 2013-04-01      1     1  17.333333         weekday\n",
            "4 2013-05-01      1     1  13.333333         weekday\n"
          ]
        }
      ]
    },
    {
      "cell_type": "code",
      "source": [
        "import pandas as pd\n",
        "# sort the 'date' column in each DataFrame in descending order\n",
        "train = train.sort_values('date', ascending=True)\n",
        "test = test.sort_values('date', ascending=True)\n",
        "\n",
        "# extract the latest date from each DataFrame\n",
        "train_last_date = train.iloc[-1]['date']\n",
        "test_last_date = test.iloc[-1]['date']\n",
        "\n",
        "# convert latest dates to datetime objects and format them as strings\n",
        "train_last_date = pd.to_datetime(train_last_date).strftime('%Y-%m-%d')\n",
        "test_last_date = pd.to_datetime(test_last_date).strftime('%Y-%m-%d')"
      ],
      "metadata": {
        "id": "Ki20CvJmN54Y"
      },
      "execution_count": null,
      "outputs": []
    },
    {
      "cell_type": "code",
      "execution_count": null,
      "metadata": {
        "id": "qE3LgCxVxjg8",
        "colab": {
          "base_uri": "https://localhost:8080/"
        },
        "outputId": "3195df5c-525f-487c-fa40-138f68393b1b"
      },
      "outputs": [
        {
          "output_type": "stream",
          "name": "stdout",
          "text": [
            "Train set date range: 2013-01-01 00:00:00 to 2017-12-31 00:00:00\n",
            "Test set date range: 2018-01-01 00:00:00 to 2018-12-03 00:00:00\n"
          ]
        }
      ],
      "source": [
        "# Print minimum and maximum date of train set\n",
        "print(\"Train set date range: {} to {}\".format(train['date'].min(), train['date'].max()))\n",
        "\n",
        "# Print minimum and maximum date of test set\n",
        "print(\"Test set date range: {} to {}\".format(test['date'].min(), test['date'].max()))"
      ]
    },
    {
      "cell_type": "code",
      "execution_count": null,
      "metadata": {
        "id": "oqpx0_LwxqwM",
        "colab": {
          "base_uri": "https://localhost:8080/"
        },
        "outputId": "81f8426d-88d8-4df9-d7d6-b37ecd25ddcf"
      },
      "outputs": [
        {
          "output_type": "stream",
          "name": "stdout",
          "text": [
            "Train last date: 2017-12-31\n",
            "Test last date: 2018-12-03\n",
            "Number of days between train and test last dates: 337\n"
          ]
        }
      ],
      "source": [
        "# print the latest dates and the number of days between them\n",
        "print(\"Train last date:\", train_last_date)\n",
        "print(\"Test last date:\", test_last_date)\n",
        "lag_size = (pd.to_datetime(test_last_date) - pd.to_datetime(train_last_date)).days\n",
        "print(\"Number of days between train and test last dates:\", lag_size)\n"
      ]
    },
    {
      "cell_type": "code",
      "execution_count": null,
      "metadata": {
        "id": "ZyHBerwAxuX0"
      },
      "outputs": [],
      "source": [
        "daily_sales = train.groupby('date', as_index=False)['sales'].sum()\n",
        "store_daily_sales = train.groupby(['store', 'date'], as_index=False)['sales'].sum()\n",
        "item_daily_sales = train.groupby(['item', 'date'], as_index=False)['sales'].sum()"
      ]
    },
    {
      "cell_type": "code",
      "execution_count": null,
      "metadata": {
        "id": "Kd_MndMUx1CM",
        "colab": {
          "base_uri": "https://localhost:8080/",
          "height": 542
        },
        "outputId": "a5839cd2-72f0-4fee-dc4f-04a64df2746b"
      },
      "outputs": [
        {
          "output_type": "display_data",
          "data": {
            "text/html": [
              "<html>\n",
              "<head><meta charset=\"utf-8\" /></head>\n",
              "<body>\n",
              "    <div>            <script src=\"https://cdnjs.cloudflare.com/ajax/libs/mathjax/2.7.5/MathJax.js?config=TeX-AMS-MML_SVG\"></script><script type=\"text/javascript\">if (window.MathJax && window.MathJax.Hub && window.MathJax.Hub.Config) {window.MathJax.Hub.Config({SVG: {font: \"STIX-Web\"}});}</script>                <script type=\"text/javascript\">window.PlotlyConfig = {MathJaxConfig: 'local'};</script>\n",
              "        <script src=\"https://cdn.plot.ly/plotly-2.18.2.min.js\"></script>                <div id=\"f6997113-bc2c-47f4-8b0c-d50a92076431\" class=\"plotly-graph-div\" style=\"height:525px; width:100%;\"></div>            <script type=\"text/javascript\">                                    window.PLOTLYENV=window.PLOTLYENV || {};                                    if (document.getElementById(\"f6997113-bc2c-47f4-8b0c-d50a92076431\")) {                    Plotly.newPlot(                        \"f6997113-bc2c-47f4-8b0c-d50a92076431\",                        [{\"x\":[\"2013-01-01T00:00:00\",\"2013-01-02T00:00:00\",\"2013-01-03T00:00:00\",\"2013-01-04T00:00:00\",\"2013-01-05T00:00:00\",\"2013-01-06T00:00:00\",\"2013-01-07T00:00:00\",\"2013-01-08T00:00:00\",\"2013-01-09T00:00:00\",\"2013-01-10T00:00:00\",\"2013-01-11T00:00:00\",\"2013-01-12T00:00:00\",\"2013-01-13T00:00:00\",\"2013-01-14T00:00:00\",\"2013-01-15T00:00:00\",\"2013-01-16T00:00:00\",\"2013-01-17T00:00:00\",\"2013-01-18T00:00:00\",\"2013-01-19T00:00:00\",\"2013-01-20T00:00:00\",\"2013-01-21T00:00:00\",\"2013-01-22T00:00:00\",\"2013-01-23T00:00:00\",\"2013-01-24T00:00:00\",\"2013-01-25T00:00:00\",\"2013-01-26T00:00:00\",\"2013-01-27T00:00:00\",\"2013-01-28T00:00:00\",\"2013-01-29T00:00:00\",\"2013-01-30T00:00:00\",\"2013-01-31T00:00:00\",\"2013-02-01T00:00:00\",\"2013-02-02T00:00:00\",\"2013-02-03T00:00:00\",\"2013-02-04T00:00:00\",\"2013-02-05T00:00:00\",\"2013-02-06T00:00:00\",\"2013-02-07T00:00:00\",\"2013-02-08T00:00:00\",\"2013-02-09T00:00:00\",\"2013-02-10T00:00:00\",\"2013-02-11T00:00:00\",\"2013-02-12T00:00:00\",\"2013-02-13T00:00:00\",\"2013-02-14T00:00:00\",\"2013-02-15T00:00:00\",\"2013-02-16T00:00:00\",\"2013-02-17T00:00:00\",\"2013-02-18T00:00:00\",\"2013-02-19T00:00:00\",\"2013-02-20T00:00:00\",\"2013-02-21T00:00:00\",\"2013-02-22T00:00:00\",\"2013-02-23T00:00:00\",\"2013-02-24T00:00:00\",\"2013-02-25T00:00:00\",\"2013-02-26T00:00:00\",\"2013-02-27T00:00:00\",\"2013-02-28T00:00:00\",\"2013-03-01T00:00:00\",\"2013-03-02T00:00:00\",\"2013-03-03T00:00:00\",\"2013-03-04T00:00:00\",\"2013-03-05T00:00:00\",\"2013-03-06T00:00:00\",\"2013-03-07T00:00:00\",\"2013-03-08T00:00:00\",\"2013-03-09T00:00:00\",\"2013-03-10T00:00:00\",\"2013-03-11T00:00:00\",\"2013-03-12T00:00:00\",\"2013-03-13T00:00:00\",\"2013-03-14T00:00:00\",\"2013-03-15T00:00:00\",\"2013-03-16T00:00:00\",\"2013-03-17T00:00:00\",\"2013-03-18T00:00:00\",\"2013-03-19T00:00:00\",\"2013-03-20T00:00:00\",\"2013-03-21T00:00:00\",\"2013-03-22T00:00:00\",\"2013-03-23T00:00:00\",\"2013-03-24T00:00:00\",\"2013-03-25T00:00:00\",\"2013-03-26T00:00:00\",\"2013-03-27T00:00:00\",\"2013-03-28T00:00:00\",\"2013-03-29T00:00:00\",\"2013-03-30T00:00:00\",\"2013-03-31T00:00:00\",\"2013-04-01T00:00:00\",\"2013-04-02T00:00:00\",\"2013-04-03T00:00:00\",\"2013-04-04T00:00:00\",\"2013-04-05T00:00:00\",\"2013-04-06T00:00:00\",\"2013-04-07T00:00:00\",\"2013-04-08T00:00:00\",\"2013-04-09T00:00:00\",\"2013-04-10T00:00:00\",\"2013-04-11T00:00:00\",\"2013-04-12T00:00:00\",\"2013-04-13T00:00:00\",\"2013-04-14T00:00:00\",\"2013-04-15T00:00:00\",\"2013-04-16T00:00:00\",\"2013-04-17T00:00:00\",\"2013-04-18T00:00:00\",\"2013-04-19T00:00:00\",\"2013-04-20T00:00:00\",\"2013-04-21T00:00:00\",\"2013-04-22T00:00:00\",\"2013-04-23T00:00:00\",\"2013-04-24T00:00:00\",\"2013-04-25T00:00:00\",\"2013-04-26T00:00:00\",\"2013-04-27T00:00:00\",\"2013-04-28T00:00:00\",\"2013-04-29T00:00:00\",\"2013-04-30T00:00:00\",\"2013-05-01T00:00:00\",\"2013-05-02T00:00:00\",\"2013-05-03T00:00:00\",\"2013-05-04T00:00:00\",\"2013-05-05T00:00:00\",\"2013-05-06T00:00:00\",\"2013-05-07T00:00:00\",\"2013-05-08T00:00:00\",\"2013-05-09T00:00:00\",\"2013-05-10T00:00:00\",\"2013-05-11T00:00:00\",\"2013-05-12T00:00:00\",\"2013-05-13T00:00:00\",\"2013-05-14T00:00:00\",\"2013-05-15T00:00:00\",\"2013-05-16T00:00:00\",\"2013-05-17T00:00:00\",\"2013-05-18T00:00:00\",\"2013-05-19T00:00:00\",\"2013-05-20T00:00:00\",\"2013-05-21T00:00:00\",\"2013-05-22T00:00:00\",\"2013-05-23T00:00:00\",\"2013-05-24T00:00:00\",\"2013-05-25T00:00:00\",\"2013-05-26T00:00:00\",\"2013-05-27T00:00:00\",\"2013-05-28T00:00:00\",\"2013-05-29T00:00:00\",\"2013-05-30T00:00:00\",\"2013-05-31T00:00:00\",\"2013-06-01T00:00:00\",\"2013-06-02T00:00:00\",\"2013-06-03T00:00:00\",\"2013-06-04T00:00:00\",\"2013-06-05T00:00:00\",\"2013-06-06T00:00:00\",\"2013-06-07T00:00:00\",\"2013-06-08T00:00:00\",\"2013-06-09T00:00:00\",\"2013-06-10T00:00:00\",\"2013-06-11T00:00:00\",\"2013-06-12T00:00:00\",\"2013-06-13T00:00:00\",\"2013-06-14T00:00:00\",\"2013-06-15T00:00:00\",\"2013-06-16T00:00:00\",\"2013-06-17T00:00:00\",\"2013-06-18T00:00:00\",\"2013-06-19T00:00:00\",\"2013-06-20T00:00:00\",\"2013-06-21T00:00:00\",\"2013-06-22T00:00:00\",\"2013-06-23T00:00:00\",\"2013-06-24T00:00:00\",\"2013-06-25T00:00:00\",\"2013-06-26T00:00:00\",\"2013-06-27T00:00:00\",\"2013-06-28T00:00:00\",\"2013-06-29T00:00:00\",\"2013-06-30T00:00:00\",\"2013-07-01T00:00:00\",\"2013-07-02T00:00:00\",\"2013-07-03T00:00:00\",\"2013-07-04T00:00:00\",\"2013-07-05T00:00:00\",\"2013-07-06T00:00:00\",\"2013-07-07T00:00:00\",\"2013-07-08T00:00:00\",\"2013-07-09T00:00:00\",\"2013-07-10T00:00:00\",\"2013-07-11T00:00:00\",\"2013-07-12T00:00:00\",\"2013-07-13T00:00:00\",\"2013-07-14T00:00:00\",\"2013-07-15T00:00:00\",\"2013-07-16T00:00:00\",\"2013-07-17T00:00:00\",\"2013-07-18T00:00:00\",\"2013-07-19T00:00:00\",\"2013-07-20T00:00:00\",\"2013-07-21T00:00:00\",\"2013-07-22T00:00:00\",\"2013-07-23T00:00:00\",\"2013-07-24T00:00:00\",\"2013-07-25T00:00:00\",\"2013-07-26T00:00:00\",\"2013-07-27T00:00:00\",\"2013-07-28T00:00:00\",\"2013-07-29T00:00:00\",\"2013-07-30T00:00:00\",\"2013-07-31T00:00:00\",\"2013-08-01T00:00:00\",\"2013-08-02T00:00:00\",\"2013-08-03T00:00:00\",\"2013-08-04T00:00:00\",\"2013-08-05T00:00:00\",\"2013-08-06T00:00:00\",\"2013-08-07T00:00:00\",\"2013-08-08T00:00:00\",\"2013-08-09T00:00:00\",\"2013-08-10T00:00:00\",\"2013-08-11T00:00:00\",\"2013-08-12T00:00:00\",\"2013-08-13T00:00:00\",\"2013-08-14T00:00:00\",\"2013-08-15T00:00:00\",\"2013-08-16T00:00:00\",\"2013-08-17T00:00:00\",\"2013-08-18T00:00:00\",\"2013-08-19T00:00:00\",\"2013-08-20T00:00:00\",\"2013-08-21T00:00:00\",\"2013-08-22T00:00:00\",\"2013-08-23T00:00:00\",\"2013-08-24T00:00:00\",\"2013-08-25T00:00:00\",\"2013-08-26T00:00:00\",\"2013-08-27T00:00:00\",\"2013-08-28T00:00:00\",\"2013-08-29T00:00:00\",\"2013-08-30T00:00:00\",\"2013-08-31T00:00:00\",\"2013-09-01T00:00:00\",\"2013-09-02T00:00:00\",\"2013-09-03T00:00:00\",\"2013-09-04T00:00:00\",\"2013-09-05T00:00:00\",\"2013-09-06T00:00:00\",\"2013-09-07T00:00:00\",\"2013-09-08T00:00:00\",\"2013-09-09T00:00:00\",\"2013-09-10T00:00:00\",\"2013-09-11T00:00:00\",\"2013-09-12T00:00:00\",\"2013-09-13T00:00:00\",\"2013-09-14T00:00:00\",\"2013-09-15T00:00:00\",\"2013-09-16T00:00:00\",\"2013-09-17T00:00:00\",\"2013-09-18T00:00:00\",\"2013-09-19T00:00:00\",\"2013-09-20T00:00:00\",\"2013-09-21T00:00:00\",\"2013-09-22T00:00:00\",\"2013-09-23T00:00:00\",\"2013-09-24T00:00:00\",\"2013-09-25T00:00:00\",\"2013-09-26T00:00:00\",\"2013-09-27T00:00:00\",\"2013-09-28T00:00:00\",\"2013-09-29T00:00:00\",\"2013-09-30T00:00:00\",\"2013-10-01T00:00:00\",\"2013-10-02T00:00:00\",\"2013-10-03T00:00:00\",\"2013-10-04T00:00:00\",\"2013-10-05T00:00:00\",\"2013-10-06T00:00:00\",\"2013-10-07T00:00:00\",\"2013-10-08T00:00:00\",\"2013-10-09T00:00:00\",\"2013-10-10T00:00:00\",\"2013-10-11T00:00:00\",\"2013-10-12T00:00:00\",\"2013-10-13T00:00:00\",\"2013-10-14T00:00:00\",\"2013-10-15T00:00:00\",\"2013-10-16T00:00:00\",\"2013-10-17T00:00:00\",\"2013-10-18T00:00:00\",\"2013-10-19T00:00:00\",\"2013-10-20T00:00:00\",\"2013-10-21T00:00:00\",\"2013-10-22T00:00:00\",\"2013-10-23T00:00:00\",\"2013-10-24T00:00:00\",\"2013-10-25T00:00:00\",\"2013-10-26T00:00:00\",\"2013-10-27T00:00:00\",\"2013-10-28T00:00:00\",\"2013-10-29T00:00:00\",\"2013-10-30T00:00:00\",\"2013-10-31T00:00:00\",\"2013-11-01T00:00:00\",\"2013-11-02T00:00:00\",\"2013-11-03T00:00:00\",\"2013-11-04T00:00:00\",\"2013-11-05T00:00:00\",\"2013-11-06T00:00:00\",\"2013-11-07T00:00:00\",\"2013-11-08T00:00:00\",\"2013-11-09T00:00:00\",\"2013-11-10T00:00:00\",\"2013-11-11T00:00:00\",\"2013-11-12T00:00:00\",\"2013-11-13T00:00:00\",\"2013-11-14T00:00:00\",\"2013-11-15T00:00:00\",\"2013-11-16T00:00:00\",\"2013-11-17T00:00:00\",\"2013-11-18T00:00:00\",\"2013-11-19T00:00:00\",\"2013-11-20T00:00:00\",\"2013-11-21T00:00:00\",\"2013-11-22T00:00:00\",\"2013-11-23T00:00:00\",\"2013-11-24T00:00:00\",\"2013-11-25T00:00:00\",\"2013-11-26T00:00:00\",\"2013-11-27T00:00:00\",\"2013-11-28T00:00:00\",\"2013-11-29T00:00:00\",\"2013-11-30T00:00:00\",\"2013-12-01T00:00:00\",\"2013-12-02T00:00:00\",\"2013-12-03T00:00:00\",\"2013-12-04T00:00:00\",\"2013-12-05T00:00:00\",\"2013-12-06T00:00:00\",\"2013-12-07T00:00:00\",\"2013-12-08T00:00:00\",\"2013-12-09T00:00:00\",\"2013-12-10T00:00:00\",\"2013-12-11T00:00:00\",\"2013-12-12T00:00:00\",\"2013-12-13T00:00:00\",\"2013-12-14T00:00:00\",\"2013-12-15T00:00:00\",\"2013-12-16T00:00:00\",\"2013-12-17T00:00:00\",\"2013-12-18T00:00:00\",\"2013-12-19T00:00:00\",\"2013-12-20T00:00:00\",\"2013-12-21T00:00:00\",\"2013-12-22T00:00:00\",\"2013-12-23T00:00:00\",\"2013-12-24T00:00:00\",\"2013-12-25T00:00:00\",\"2013-12-26T00:00:00\",\"2013-12-27T00:00:00\",\"2013-12-28T00:00:00\",\"2013-12-29T00:00:00\",\"2013-12-30T00:00:00\",\"2013-12-31T00:00:00\",\"2014-01-01T00:00:00\",\"2014-01-02T00:00:00\",\"2014-01-03T00:00:00\",\"2014-01-04T00:00:00\",\"2014-01-05T00:00:00\",\"2014-01-06T00:00:00\",\"2014-01-07T00:00:00\",\"2014-01-08T00:00:00\",\"2014-01-09T00:00:00\",\"2014-01-10T00:00:00\",\"2014-01-11T00:00:00\",\"2014-01-12T00:00:00\",\"2014-01-13T00:00:00\",\"2014-01-14T00:00:00\",\"2014-01-15T00:00:00\",\"2014-01-16T00:00:00\",\"2014-01-17T00:00:00\",\"2014-01-18T00:00:00\",\"2014-01-19T00:00:00\",\"2014-01-20T00:00:00\",\"2014-01-21T00:00:00\",\"2014-01-22T00:00:00\",\"2014-01-23T00:00:00\",\"2014-01-24T00:00:00\",\"2014-01-25T00:00:00\",\"2014-01-26T00:00:00\",\"2014-01-27T00:00:00\",\"2014-01-28T00:00:00\",\"2014-01-29T00:00:00\",\"2014-01-30T00:00:00\",\"2014-01-31T00:00:00\",\"2014-02-01T00:00:00\",\"2014-02-02T00:00:00\",\"2014-02-03T00:00:00\",\"2014-02-04T00:00:00\",\"2014-02-05T00:00:00\",\"2014-02-06T00:00:00\",\"2014-02-07T00:00:00\",\"2014-02-08T00:00:00\",\"2014-02-09T00:00:00\",\"2014-02-10T00:00:00\",\"2014-02-11T00:00:00\",\"2014-02-12T00:00:00\",\"2014-02-13T00:00:00\",\"2014-02-14T00:00:00\",\"2014-02-15T00:00:00\",\"2014-02-16T00:00:00\",\"2014-02-17T00:00:00\",\"2014-02-18T00:00:00\",\"2014-02-19T00:00:00\",\"2014-02-20T00:00:00\",\"2014-02-21T00:00:00\",\"2014-02-22T00:00:00\",\"2014-02-23T00:00:00\",\"2014-02-24T00:00:00\",\"2014-02-25T00:00:00\",\"2014-02-26T00:00:00\",\"2014-02-27T00:00:00\",\"2014-02-28T00:00:00\",\"2014-03-01T00:00:00\",\"2014-03-02T00:00:00\",\"2014-03-03T00:00:00\",\"2014-03-04T00:00:00\",\"2014-03-05T00:00:00\",\"2014-03-06T00:00:00\",\"2014-03-07T00:00:00\",\"2014-03-08T00:00:00\",\"2014-03-09T00:00:00\",\"2014-03-10T00:00:00\",\"2014-03-11T00:00:00\",\"2014-03-12T00:00:00\",\"2014-03-13T00:00:00\",\"2014-03-14T00:00:00\",\"2014-03-15T00:00:00\",\"2014-03-16T00:00:00\",\"2014-03-17T00:00:00\",\"2014-03-18T00:00:00\",\"2014-03-19T00:00:00\",\"2014-03-20T00:00:00\",\"2014-03-21T00:00:00\",\"2014-03-22T00:00:00\",\"2014-03-23T00:00:00\",\"2014-03-24T00:00:00\",\"2014-03-25T00:00:00\",\"2014-03-26T00:00:00\",\"2014-03-27T00:00:00\",\"2014-03-28T00:00:00\",\"2014-03-29T00:00:00\",\"2014-03-30T00:00:00\",\"2014-03-31T00:00:00\",\"2014-04-01T00:00:00\",\"2014-04-02T00:00:00\",\"2014-04-03T00:00:00\",\"2014-04-04T00:00:00\",\"2014-04-05T00:00:00\",\"2014-04-06T00:00:00\",\"2014-04-07T00:00:00\",\"2014-04-08T00:00:00\",\"2014-04-09T00:00:00\",\"2014-04-10T00:00:00\",\"2014-04-11T00:00:00\",\"2014-04-12T00:00:00\",\"2014-04-13T00:00:00\",\"2014-04-14T00:00:00\",\"2014-04-15T00:00:00\",\"2014-04-16T00:00:00\",\"2014-04-17T00:00:00\",\"2014-04-18T00:00:00\",\"2014-04-19T00:00:00\",\"2014-04-20T00:00:00\",\"2014-04-21T00:00:00\",\"2014-04-22T00:00:00\",\"2014-04-23T00:00:00\",\"2014-04-24T00:00:00\",\"2014-04-25T00:00:00\",\"2014-04-26T00:00:00\",\"2014-04-27T00:00:00\",\"2014-04-28T00:00:00\",\"2014-04-29T00:00:00\",\"2014-04-30T00:00:00\",\"2014-05-01T00:00:00\",\"2014-05-02T00:00:00\",\"2014-05-03T00:00:00\",\"2014-05-04T00:00:00\",\"2014-05-05T00:00:00\",\"2014-05-06T00:00:00\",\"2014-05-07T00:00:00\",\"2014-05-08T00:00:00\",\"2014-05-09T00:00:00\",\"2014-05-10T00:00:00\",\"2014-05-11T00:00:00\",\"2014-05-12T00:00:00\",\"2014-05-13T00:00:00\",\"2014-05-14T00:00:00\",\"2014-05-15T00:00:00\",\"2014-05-16T00:00:00\",\"2014-05-17T00:00:00\",\"2014-05-18T00:00:00\",\"2014-05-19T00:00:00\",\"2014-05-20T00:00:00\",\"2014-05-21T00:00:00\",\"2014-05-22T00:00:00\",\"2014-05-23T00:00:00\",\"2014-05-24T00:00:00\",\"2014-05-25T00:00:00\",\"2014-05-26T00:00:00\",\"2014-05-27T00:00:00\",\"2014-05-28T00:00:00\",\"2014-05-29T00:00:00\",\"2014-05-30T00:00:00\",\"2014-05-31T00:00:00\",\"2014-06-01T00:00:00\",\"2014-06-02T00:00:00\",\"2014-06-03T00:00:00\",\"2014-06-04T00:00:00\",\"2014-06-05T00:00:00\",\"2014-06-06T00:00:00\",\"2014-06-07T00:00:00\",\"2014-06-08T00:00:00\",\"2014-06-09T00:00:00\",\"2014-06-10T00:00:00\",\"2014-06-11T00:00:00\",\"2014-06-12T00:00:00\",\"2014-06-13T00:00:00\",\"2014-06-14T00:00:00\",\"2014-06-15T00:00:00\",\"2014-06-16T00:00:00\",\"2014-06-17T00:00:00\",\"2014-06-18T00:00:00\",\"2014-06-19T00:00:00\",\"2014-06-20T00:00:00\",\"2014-06-21T00:00:00\",\"2014-06-22T00:00:00\",\"2014-06-23T00:00:00\",\"2014-06-24T00:00:00\",\"2014-06-25T00:00:00\",\"2014-06-26T00:00:00\",\"2014-06-27T00:00:00\",\"2014-06-28T00:00:00\",\"2014-06-29T00:00:00\",\"2014-06-30T00:00:00\",\"2014-07-01T00:00:00\",\"2014-07-02T00:00:00\",\"2014-07-03T00:00:00\",\"2014-07-04T00:00:00\",\"2014-07-05T00:00:00\",\"2014-07-06T00:00:00\",\"2014-07-07T00:00:00\",\"2014-07-08T00:00:00\",\"2014-07-09T00:00:00\",\"2014-07-10T00:00:00\",\"2014-07-11T00:00:00\",\"2014-07-12T00:00:00\",\"2014-07-13T00:00:00\",\"2014-07-14T00:00:00\",\"2014-07-15T00:00:00\",\"2014-07-16T00:00:00\",\"2014-07-17T00:00:00\",\"2014-07-18T00:00:00\",\"2014-07-19T00:00:00\",\"2014-07-20T00:00:00\",\"2014-07-21T00:00:00\",\"2014-07-22T00:00:00\",\"2014-07-23T00:00:00\",\"2014-07-24T00:00:00\",\"2014-07-25T00:00:00\",\"2014-07-26T00:00:00\",\"2014-07-27T00:00:00\",\"2014-07-28T00:00:00\",\"2014-07-29T00:00:00\",\"2014-07-30T00:00:00\",\"2014-07-31T00:00:00\",\"2014-08-01T00:00:00\",\"2014-08-02T00:00:00\",\"2014-08-03T00:00:00\",\"2014-08-04T00:00:00\",\"2014-08-05T00:00:00\",\"2014-08-06T00:00:00\",\"2014-08-07T00:00:00\",\"2014-08-08T00:00:00\",\"2014-08-09T00:00:00\",\"2014-08-10T00:00:00\",\"2014-08-11T00:00:00\",\"2014-08-12T00:00:00\",\"2014-08-13T00:00:00\",\"2014-08-14T00:00:00\",\"2014-08-15T00:00:00\",\"2014-08-16T00:00:00\",\"2014-08-17T00:00:00\",\"2014-08-18T00:00:00\",\"2014-08-19T00:00:00\",\"2014-08-20T00:00:00\",\"2014-08-21T00:00:00\",\"2014-08-22T00:00:00\",\"2014-08-23T00:00:00\",\"2014-08-24T00:00:00\",\"2014-08-25T00:00:00\",\"2014-08-26T00:00:00\",\"2014-08-27T00:00:00\",\"2014-08-28T00:00:00\",\"2014-08-29T00:00:00\",\"2014-08-30T00:00:00\",\"2014-08-31T00:00:00\",\"2014-09-01T00:00:00\",\"2014-09-02T00:00:00\",\"2014-09-03T00:00:00\",\"2014-09-04T00:00:00\",\"2014-09-05T00:00:00\",\"2014-09-06T00:00:00\",\"2014-09-07T00:00:00\",\"2014-09-08T00:00:00\",\"2014-09-09T00:00:00\",\"2014-09-10T00:00:00\",\"2014-09-11T00:00:00\",\"2014-09-12T00:00:00\",\"2014-09-13T00:00:00\",\"2014-09-14T00:00:00\",\"2014-09-15T00:00:00\",\"2014-09-16T00:00:00\",\"2014-09-17T00:00:00\",\"2014-09-18T00:00:00\",\"2014-09-19T00:00:00\",\"2014-09-20T00:00:00\",\"2014-09-21T00:00:00\",\"2014-09-22T00:00:00\",\"2014-09-23T00:00:00\",\"2014-09-24T00:00:00\",\"2014-09-25T00:00:00\",\"2014-09-26T00:00:00\",\"2014-09-27T00:00:00\",\"2014-09-28T00:00:00\",\"2014-09-29T00:00:00\",\"2014-09-30T00:00:00\",\"2014-10-01T00:00:00\",\"2014-10-02T00:00:00\",\"2014-10-03T00:00:00\",\"2014-10-04T00:00:00\",\"2014-10-05T00:00:00\",\"2014-10-06T00:00:00\",\"2014-10-07T00:00:00\",\"2014-10-08T00:00:00\",\"2014-10-09T00:00:00\",\"2014-10-10T00:00:00\",\"2014-10-11T00:00:00\",\"2014-10-12T00:00:00\",\"2014-10-13T00:00:00\",\"2014-10-14T00:00:00\",\"2014-10-15T00:00:00\",\"2014-10-16T00:00:00\",\"2014-10-17T00:00:00\",\"2014-10-18T00:00:00\",\"2014-10-19T00:00:00\",\"2014-10-20T00:00:00\",\"2014-10-21T00:00:00\",\"2014-10-22T00:00:00\",\"2014-10-23T00:00:00\",\"2014-10-24T00:00:00\",\"2014-10-25T00:00:00\",\"2014-10-26T00:00:00\",\"2014-10-27T00:00:00\",\"2014-10-28T00:00:00\",\"2014-10-29T00:00:00\",\"2014-10-30T00:00:00\",\"2014-10-31T00:00:00\",\"2014-11-01T00:00:00\",\"2014-11-02T00:00:00\",\"2014-11-03T00:00:00\",\"2014-11-04T00:00:00\",\"2014-11-05T00:00:00\",\"2014-11-06T00:00:00\",\"2014-11-07T00:00:00\",\"2014-11-08T00:00:00\",\"2014-11-09T00:00:00\",\"2014-11-10T00:00:00\",\"2014-11-11T00:00:00\",\"2014-11-12T00:00:00\",\"2014-11-13T00:00:00\",\"2014-11-14T00:00:00\",\"2014-11-15T00:00:00\",\"2014-11-16T00:00:00\",\"2014-11-17T00:00:00\",\"2014-11-18T00:00:00\",\"2014-11-19T00:00:00\",\"2014-11-20T00:00:00\",\"2014-11-21T00:00:00\",\"2014-11-22T00:00:00\",\"2014-11-23T00:00:00\",\"2014-11-24T00:00:00\",\"2014-11-25T00:00:00\",\"2014-11-26T00:00:00\",\"2014-11-27T00:00:00\",\"2014-11-28T00:00:00\",\"2014-11-29T00:00:00\",\"2014-11-30T00:00:00\",\"2014-12-01T00:00:00\",\"2014-12-02T00:00:00\",\"2014-12-03T00:00:00\",\"2014-12-04T00:00:00\",\"2014-12-05T00:00:00\",\"2014-12-06T00:00:00\",\"2014-12-07T00:00:00\",\"2014-12-08T00:00:00\",\"2014-12-09T00:00:00\",\"2014-12-10T00:00:00\",\"2014-12-11T00:00:00\",\"2014-12-12T00:00:00\",\"2014-12-13T00:00:00\",\"2014-12-14T00:00:00\",\"2014-12-15T00:00:00\",\"2014-12-16T00:00:00\",\"2014-12-17T00:00:00\",\"2014-12-18T00:00:00\",\"2014-12-19T00:00:00\",\"2014-12-20T00:00:00\",\"2014-12-21T00:00:00\",\"2014-12-22T00:00:00\",\"2014-12-23T00:00:00\",\"2014-12-24T00:00:00\",\"2014-12-25T00:00:00\",\"2014-12-26T00:00:00\",\"2014-12-27T00:00:00\",\"2014-12-28T00:00:00\",\"2014-12-29T00:00:00\",\"2014-12-30T00:00:00\",\"2014-12-31T00:00:00\",\"2015-01-01T00:00:00\",\"2015-01-02T00:00:00\",\"2015-01-03T00:00:00\",\"2015-01-04T00:00:00\",\"2015-01-05T00:00:00\",\"2015-01-06T00:00:00\",\"2015-01-07T00:00:00\",\"2015-01-08T00:00:00\",\"2015-01-09T00:00:00\",\"2015-01-10T00:00:00\",\"2015-01-11T00:00:00\",\"2015-01-12T00:00:00\",\"2015-01-13T00:00:00\",\"2015-01-14T00:00:00\",\"2015-01-15T00:00:00\",\"2015-01-16T00:00:00\",\"2015-01-17T00:00:00\",\"2015-01-18T00:00:00\",\"2015-01-19T00:00:00\",\"2015-01-20T00:00:00\",\"2015-01-21T00:00:00\",\"2015-01-22T00:00:00\",\"2015-01-23T00:00:00\",\"2015-01-24T00:00:00\",\"2015-01-25T00:00:00\",\"2015-01-26T00:00:00\",\"2015-01-27T00:00:00\",\"2015-01-28T00:00:00\",\"2015-01-29T00:00:00\",\"2015-01-30T00:00:00\",\"2015-01-31T00:00:00\",\"2015-02-01T00:00:00\",\"2015-02-02T00:00:00\",\"2015-02-03T00:00:00\",\"2015-02-04T00:00:00\",\"2015-02-05T00:00:00\",\"2015-02-06T00:00:00\",\"2015-02-07T00:00:00\",\"2015-02-08T00:00:00\",\"2015-02-09T00:00:00\",\"2015-02-10T00:00:00\",\"2015-02-11T00:00:00\",\"2015-02-12T00:00:00\",\"2015-02-13T00:00:00\",\"2015-02-14T00:00:00\",\"2015-02-15T00:00:00\",\"2015-02-16T00:00:00\",\"2015-02-17T00:00:00\",\"2015-02-18T00:00:00\",\"2015-02-19T00:00:00\",\"2015-02-20T00:00:00\",\"2015-02-21T00:00:00\",\"2015-02-22T00:00:00\",\"2015-02-23T00:00:00\",\"2015-02-24T00:00:00\",\"2015-02-25T00:00:00\",\"2015-02-26T00:00:00\",\"2015-02-27T00:00:00\",\"2015-02-28T00:00:00\",\"2015-03-01T00:00:00\",\"2015-03-02T00:00:00\",\"2015-03-03T00:00:00\",\"2015-03-04T00:00:00\",\"2015-03-05T00:00:00\",\"2015-03-06T00:00:00\",\"2015-03-07T00:00:00\",\"2015-03-08T00:00:00\",\"2015-03-09T00:00:00\",\"2015-03-10T00:00:00\",\"2015-03-11T00:00:00\",\"2015-03-12T00:00:00\",\"2015-03-13T00:00:00\",\"2015-03-14T00:00:00\",\"2015-03-15T00:00:00\",\"2015-03-16T00:00:00\",\"2015-03-17T00:00:00\",\"2015-03-18T00:00:00\",\"2015-03-19T00:00:00\",\"2015-03-20T00:00:00\",\"2015-03-21T00:00:00\",\"2015-03-22T00:00:00\",\"2015-03-23T00:00:00\",\"2015-03-24T00:00:00\",\"2015-03-25T00:00:00\",\"2015-03-26T00:00:00\",\"2015-03-27T00:00:00\",\"2015-03-28T00:00:00\",\"2015-03-29T00:00:00\",\"2015-03-30T00:00:00\",\"2015-03-31T00:00:00\",\"2015-04-01T00:00:00\",\"2015-04-02T00:00:00\",\"2015-04-03T00:00:00\",\"2015-04-04T00:00:00\",\"2015-04-05T00:00:00\",\"2015-04-06T00:00:00\",\"2015-04-07T00:00:00\",\"2015-04-08T00:00:00\",\"2015-04-09T00:00:00\",\"2015-04-10T00:00:00\",\"2015-04-11T00:00:00\",\"2015-04-12T00:00:00\",\"2015-04-13T00:00:00\",\"2015-04-14T00:00:00\",\"2015-04-15T00:00:00\",\"2015-04-16T00:00:00\",\"2015-04-17T00:00:00\",\"2015-04-18T00:00:00\",\"2015-04-19T00:00:00\",\"2015-04-20T00:00:00\",\"2015-04-21T00:00:00\",\"2015-04-22T00:00:00\",\"2015-04-23T00:00:00\",\"2015-04-24T00:00:00\",\"2015-04-25T00:00:00\",\"2015-04-26T00:00:00\",\"2015-04-27T00:00:00\",\"2015-04-28T00:00:00\",\"2015-04-29T00:00:00\",\"2015-04-30T00:00:00\",\"2015-05-01T00:00:00\",\"2015-05-02T00:00:00\",\"2015-05-03T00:00:00\",\"2015-05-04T00:00:00\",\"2015-05-05T00:00:00\",\"2015-05-06T00:00:00\",\"2015-05-07T00:00:00\",\"2015-05-08T00:00:00\",\"2015-05-09T00:00:00\",\"2015-05-10T00:00:00\",\"2015-05-11T00:00:00\",\"2015-05-12T00:00:00\",\"2015-05-13T00:00:00\",\"2015-05-14T00:00:00\",\"2015-05-15T00:00:00\",\"2015-05-16T00:00:00\",\"2015-05-17T00:00:00\",\"2015-05-18T00:00:00\",\"2015-05-19T00:00:00\",\"2015-05-20T00:00:00\",\"2015-05-21T00:00:00\",\"2015-05-22T00:00:00\",\"2015-05-23T00:00:00\",\"2015-05-24T00:00:00\",\"2015-05-25T00:00:00\",\"2015-05-26T00:00:00\",\"2015-05-27T00:00:00\",\"2015-05-28T00:00:00\",\"2015-05-29T00:00:00\",\"2015-05-30T00:00:00\",\"2015-05-31T00:00:00\",\"2015-06-01T00:00:00\",\"2015-06-02T00:00:00\",\"2015-06-03T00:00:00\",\"2015-06-04T00:00:00\",\"2015-06-05T00:00:00\",\"2015-06-06T00:00:00\",\"2015-06-07T00:00:00\",\"2015-06-08T00:00:00\",\"2015-06-09T00:00:00\",\"2015-06-10T00:00:00\",\"2015-06-11T00:00:00\",\"2015-06-12T00:00:00\",\"2015-06-13T00:00:00\",\"2015-06-14T00:00:00\",\"2015-06-15T00:00:00\",\"2015-06-16T00:00:00\",\"2015-06-17T00:00:00\",\"2015-06-18T00:00:00\",\"2015-06-19T00:00:00\",\"2015-06-20T00:00:00\",\"2015-06-21T00:00:00\",\"2015-06-22T00:00:00\",\"2015-06-23T00:00:00\",\"2015-06-24T00:00:00\",\"2015-06-25T00:00:00\",\"2015-06-26T00:00:00\",\"2015-06-27T00:00:00\",\"2015-06-28T00:00:00\",\"2015-06-29T00:00:00\",\"2015-06-30T00:00:00\",\"2015-07-01T00:00:00\",\"2015-07-02T00:00:00\",\"2015-07-03T00:00:00\",\"2015-07-04T00:00:00\",\"2015-07-05T00:00:00\",\"2015-07-06T00:00:00\",\"2015-07-07T00:00:00\",\"2015-07-08T00:00:00\",\"2015-07-09T00:00:00\",\"2015-07-10T00:00:00\",\"2015-07-11T00:00:00\",\"2015-07-12T00:00:00\",\"2015-07-13T00:00:00\",\"2015-07-14T00:00:00\",\"2015-07-15T00:00:00\",\"2015-07-16T00:00:00\",\"2015-07-17T00:00:00\",\"2015-07-18T00:00:00\",\"2015-07-19T00:00:00\",\"2015-07-20T00:00:00\",\"2015-07-21T00:00:00\",\"2015-07-22T00:00:00\",\"2015-07-23T00:00:00\",\"2015-07-24T00:00:00\",\"2015-07-25T00:00:00\",\"2015-07-26T00:00:00\",\"2015-07-27T00:00:00\",\"2015-07-28T00:00:00\",\"2015-07-29T00:00:00\",\"2015-07-30T00:00:00\",\"2015-07-31T00:00:00\",\"2015-08-01T00:00:00\",\"2015-08-02T00:00:00\",\"2015-08-03T00:00:00\",\"2015-08-04T00:00:00\",\"2015-08-05T00:00:00\",\"2015-08-06T00:00:00\",\"2015-08-07T00:00:00\",\"2015-08-08T00:00:00\",\"2015-08-09T00:00:00\",\"2015-08-10T00:00:00\",\"2015-08-11T00:00:00\",\"2015-08-12T00:00:00\",\"2015-08-13T00:00:00\",\"2015-08-14T00:00:00\",\"2015-08-15T00:00:00\",\"2015-08-16T00:00:00\",\"2015-08-17T00:00:00\",\"2015-08-18T00:00:00\",\"2015-08-19T00:00:00\",\"2015-08-20T00:00:00\",\"2015-08-21T00:00:00\",\"2015-08-22T00:00:00\",\"2015-08-23T00:00:00\",\"2015-08-24T00:00:00\",\"2015-08-25T00:00:00\",\"2015-08-26T00:00:00\",\"2015-08-27T00:00:00\",\"2015-08-28T00:00:00\",\"2015-08-29T00:00:00\",\"2015-08-30T00:00:00\",\"2015-08-31T00:00:00\",\"2015-09-01T00:00:00\",\"2015-09-02T00:00:00\",\"2015-09-03T00:00:00\",\"2015-09-04T00:00:00\",\"2015-09-05T00:00:00\",\"2015-09-06T00:00:00\",\"2015-09-07T00:00:00\",\"2015-09-08T00:00:00\",\"2015-09-09T00:00:00\",\"2015-09-10T00:00:00\",\"2015-09-11T00:00:00\",\"2015-09-12T00:00:00\",\"2015-09-13T00:00:00\",\"2015-09-14T00:00:00\",\"2015-09-15T00:00:00\",\"2015-09-16T00:00:00\",\"2015-09-17T00:00:00\",\"2015-09-18T00:00:00\",\"2015-09-19T00:00:00\",\"2015-09-20T00:00:00\",\"2015-09-21T00:00:00\",\"2015-09-22T00:00:00\",\"2015-09-23T00:00:00\",\"2015-09-24T00:00:00\",\"2015-09-25T00:00:00\",\"2015-09-26T00:00:00\",\"2015-09-27T00:00:00\",\"2015-09-28T00:00:00\",\"2015-09-29T00:00:00\",\"2015-09-30T00:00:00\",\"2015-10-01T00:00:00\",\"2015-10-02T00:00:00\",\"2015-10-03T00:00:00\",\"2015-10-04T00:00:00\",\"2015-10-05T00:00:00\",\"2015-10-06T00:00:00\",\"2015-10-07T00:00:00\",\"2015-10-08T00:00:00\",\"2015-10-09T00:00:00\",\"2015-10-10T00:00:00\",\"2015-10-11T00:00:00\",\"2015-10-12T00:00:00\",\"2015-10-13T00:00:00\",\"2015-10-14T00:00:00\",\"2015-10-15T00:00:00\",\"2015-10-16T00:00:00\",\"2015-10-17T00:00:00\",\"2015-10-18T00:00:00\",\"2015-10-19T00:00:00\",\"2015-10-20T00:00:00\",\"2015-10-21T00:00:00\",\"2015-10-22T00:00:00\",\"2015-10-23T00:00:00\",\"2015-10-24T00:00:00\",\"2015-10-25T00:00:00\",\"2015-10-26T00:00:00\",\"2015-10-27T00:00:00\",\"2015-10-28T00:00:00\",\"2015-10-29T00:00:00\",\"2015-10-30T00:00:00\",\"2015-10-31T00:00:00\",\"2015-11-01T00:00:00\",\"2015-11-02T00:00:00\",\"2015-11-03T00:00:00\",\"2015-11-04T00:00:00\",\"2015-11-05T00:00:00\",\"2015-11-06T00:00:00\",\"2015-11-07T00:00:00\",\"2015-11-08T00:00:00\",\"2015-11-09T00:00:00\",\"2015-11-10T00:00:00\",\"2015-11-11T00:00:00\",\"2015-11-12T00:00:00\",\"2015-11-13T00:00:00\",\"2015-11-14T00:00:00\",\"2015-11-15T00:00:00\",\"2015-11-16T00:00:00\",\"2015-11-17T00:00:00\",\"2015-11-18T00:00:00\",\"2015-11-19T00:00:00\",\"2015-11-20T00:00:00\",\"2015-11-21T00:00:00\",\"2015-11-22T00:00:00\",\"2015-11-23T00:00:00\",\"2015-11-24T00:00:00\",\"2015-11-25T00:00:00\",\"2015-11-26T00:00:00\",\"2015-11-27T00:00:00\",\"2015-11-28T00:00:00\",\"2015-11-29T00:00:00\",\"2015-11-30T00:00:00\",\"2015-12-01T00:00:00\",\"2015-12-02T00:00:00\",\"2015-12-03T00:00:00\",\"2015-12-04T00:00:00\",\"2015-12-05T00:00:00\",\"2015-12-06T00:00:00\",\"2015-12-07T00:00:00\",\"2015-12-08T00:00:00\",\"2015-12-09T00:00:00\",\"2015-12-10T00:00:00\",\"2015-12-11T00:00:00\",\"2015-12-12T00:00:00\",\"2015-12-13T00:00:00\",\"2015-12-14T00:00:00\",\"2015-12-15T00:00:00\",\"2015-12-16T00:00:00\",\"2015-12-17T00:00:00\",\"2015-12-18T00:00:00\",\"2015-12-19T00:00:00\",\"2015-12-20T00:00:00\",\"2015-12-21T00:00:00\",\"2015-12-22T00:00:00\",\"2015-12-23T00:00:00\",\"2015-12-24T00:00:00\",\"2015-12-25T00:00:00\",\"2015-12-26T00:00:00\",\"2015-12-27T00:00:00\",\"2015-12-28T00:00:00\",\"2015-12-29T00:00:00\",\"2015-12-30T00:00:00\",\"2015-12-31T00:00:00\",\"2016-01-01T00:00:00\",\"2016-01-02T00:00:00\",\"2016-01-03T00:00:00\",\"2016-01-04T00:00:00\",\"2016-01-05T00:00:00\",\"2016-01-06T00:00:00\",\"2016-01-07T00:00:00\",\"2016-01-08T00:00:00\",\"2016-01-09T00:00:00\",\"2016-01-10T00:00:00\",\"2016-01-11T00:00:00\",\"2016-01-12T00:00:00\",\"2016-01-13T00:00:00\",\"2016-01-14T00:00:00\",\"2016-01-15T00:00:00\",\"2016-01-16T00:00:00\",\"2016-01-17T00:00:00\",\"2016-01-18T00:00:00\",\"2016-01-19T00:00:00\",\"2016-01-20T00:00:00\",\"2016-01-21T00:00:00\",\"2016-01-22T00:00:00\",\"2016-01-23T00:00:00\",\"2016-01-24T00:00:00\",\"2016-01-25T00:00:00\",\"2016-01-26T00:00:00\",\"2016-01-27T00:00:00\",\"2016-01-28T00:00:00\",\"2016-01-29T00:00:00\",\"2016-01-30T00:00:00\",\"2016-01-31T00:00:00\",\"2016-02-01T00:00:00\",\"2016-02-02T00:00:00\",\"2016-02-03T00:00:00\",\"2016-02-04T00:00:00\",\"2016-02-05T00:00:00\",\"2016-02-06T00:00:00\",\"2016-02-07T00:00:00\",\"2016-02-08T00:00:00\",\"2016-02-09T00:00:00\",\"2016-02-10T00:00:00\",\"2016-02-11T00:00:00\",\"2016-02-12T00:00:00\",\"2016-02-13T00:00:00\",\"2016-02-14T00:00:00\",\"2016-02-15T00:00:00\",\"2016-02-16T00:00:00\",\"2016-02-17T00:00:00\",\"2016-02-18T00:00:00\",\"2016-02-19T00:00:00\",\"2016-02-20T00:00:00\",\"2016-02-21T00:00:00\",\"2016-02-22T00:00:00\",\"2016-02-23T00:00:00\",\"2016-02-24T00:00:00\",\"2016-02-25T00:00:00\",\"2016-02-26T00:00:00\",\"2016-02-27T00:00:00\",\"2016-02-28T00:00:00\",\"2016-02-29T00:00:00\",\"2016-03-01T00:00:00\",\"2016-03-02T00:00:00\",\"2016-03-03T00:00:00\",\"2016-03-04T00:00:00\",\"2016-03-05T00:00:00\",\"2016-03-06T00:00:00\",\"2016-03-07T00:00:00\",\"2016-03-08T00:00:00\",\"2016-03-09T00:00:00\",\"2016-03-10T00:00:00\",\"2016-03-11T00:00:00\",\"2016-03-12T00:00:00\",\"2016-03-13T00:00:00\",\"2016-03-14T00:00:00\",\"2016-03-15T00:00:00\",\"2016-03-16T00:00:00\",\"2016-03-17T00:00:00\",\"2016-03-18T00:00:00\",\"2016-03-19T00:00:00\",\"2016-03-20T00:00:00\",\"2016-03-21T00:00:00\",\"2016-03-22T00:00:00\",\"2016-03-23T00:00:00\",\"2016-03-24T00:00:00\",\"2016-03-25T00:00:00\",\"2016-03-26T00:00:00\",\"2016-03-27T00:00:00\",\"2016-03-28T00:00:00\",\"2016-03-29T00:00:00\",\"2016-03-30T00:00:00\",\"2016-03-31T00:00:00\",\"2016-04-01T00:00:00\",\"2016-04-02T00:00:00\",\"2016-04-03T00:00:00\",\"2016-04-04T00:00:00\",\"2016-04-05T00:00:00\",\"2016-04-06T00:00:00\",\"2016-04-07T00:00:00\",\"2016-04-08T00:00:00\",\"2016-04-09T00:00:00\",\"2016-04-10T00:00:00\",\"2016-04-11T00:00:00\",\"2016-04-12T00:00:00\",\"2016-04-13T00:00:00\",\"2016-04-14T00:00:00\",\"2016-04-15T00:00:00\",\"2016-04-16T00:00:00\",\"2016-04-17T00:00:00\",\"2016-04-18T00:00:00\",\"2016-04-19T00:00:00\",\"2016-04-20T00:00:00\",\"2016-04-21T00:00:00\",\"2016-04-22T00:00:00\",\"2016-04-23T00:00:00\",\"2016-04-24T00:00:00\",\"2016-04-25T00:00:00\",\"2016-04-26T00:00:00\",\"2016-04-27T00:00:00\",\"2016-04-28T00:00:00\",\"2016-04-29T00:00:00\",\"2016-04-30T00:00:00\",\"2016-05-01T00:00:00\",\"2016-05-02T00:00:00\",\"2016-05-03T00:00:00\",\"2016-05-04T00:00:00\",\"2016-05-05T00:00:00\",\"2016-05-06T00:00:00\",\"2016-05-07T00:00:00\",\"2016-05-08T00:00:00\",\"2016-05-09T00:00:00\",\"2016-05-10T00:00:00\",\"2016-05-11T00:00:00\",\"2016-05-12T00:00:00\",\"2016-05-13T00:00:00\",\"2016-05-14T00:00:00\",\"2016-05-15T00:00:00\",\"2016-05-16T00:00:00\",\"2016-05-17T00:00:00\",\"2016-05-18T00:00:00\",\"2016-05-19T00:00:00\",\"2016-05-20T00:00:00\",\"2016-05-21T00:00:00\",\"2016-05-22T00:00:00\",\"2016-05-23T00:00:00\",\"2016-05-24T00:00:00\",\"2016-05-25T00:00:00\",\"2016-05-26T00:00:00\",\"2016-05-27T00:00:00\",\"2016-05-28T00:00:00\",\"2016-05-29T00:00:00\",\"2016-05-30T00:00:00\",\"2016-05-31T00:00:00\",\"2016-06-01T00:00:00\",\"2016-06-02T00:00:00\",\"2016-06-03T00:00:00\",\"2016-06-04T00:00:00\",\"2016-06-05T00:00:00\",\"2016-06-06T00:00:00\",\"2016-06-07T00:00:00\",\"2016-06-08T00:00:00\",\"2016-06-09T00:00:00\",\"2016-06-10T00:00:00\",\"2016-06-11T00:00:00\",\"2016-06-12T00:00:00\",\"2016-06-13T00:00:00\",\"2016-06-14T00:00:00\",\"2016-06-15T00:00:00\",\"2016-06-16T00:00:00\",\"2016-06-17T00:00:00\",\"2016-06-18T00:00:00\",\"2016-06-19T00:00:00\",\"2016-06-20T00:00:00\",\"2016-06-21T00:00:00\",\"2016-06-22T00:00:00\",\"2016-06-23T00:00:00\",\"2016-06-24T00:00:00\",\"2016-06-25T00:00:00\",\"2016-06-26T00:00:00\",\"2016-06-27T00:00:00\",\"2016-06-28T00:00:00\",\"2016-06-29T00:00:00\",\"2016-06-30T00:00:00\",\"2016-07-01T00:00:00\",\"2016-07-02T00:00:00\",\"2016-07-03T00:00:00\",\"2016-07-04T00:00:00\",\"2016-07-05T00:00:00\",\"2016-07-06T00:00:00\",\"2016-07-07T00:00:00\",\"2016-07-08T00:00:00\",\"2016-07-09T00:00:00\",\"2016-07-10T00:00:00\",\"2016-07-11T00:00:00\",\"2016-07-12T00:00:00\",\"2016-07-13T00:00:00\",\"2016-07-14T00:00:00\",\"2016-07-15T00:00:00\",\"2016-07-16T00:00:00\",\"2016-07-17T00:00:00\",\"2016-07-18T00:00:00\",\"2016-07-19T00:00:00\",\"2016-07-20T00:00:00\",\"2016-07-21T00:00:00\",\"2016-07-22T00:00:00\",\"2016-07-23T00:00:00\",\"2016-07-24T00:00:00\",\"2016-07-25T00:00:00\",\"2016-07-26T00:00:00\",\"2016-07-27T00:00:00\",\"2016-07-28T00:00:00\",\"2016-07-29T00:00:00\",\"2016-07-30T00:00:00\",\"2016-07-31T00:00:00\",\"2016-08-01T00:00:00\",\"2016-08-02T00:00:00\",\"2016-08-03T00:00:00\",\"2016-08-04T00:00:00\",\"2016-08-05T00:00:00\",\"2016-08-06T00:00:00\",\"2016-08-07T00:00:00\",\"2016-08-08T00:00:00\",\"2016-08-09T00:00:00\",\"2016-08-10T00:00:00\",\"2016-08-11T00:00:00\",\"2016-08-12T00:00:00\",\"2016-08-13T00:00:00\",\"2016-08-14T00:00:00\",\"2016-08-15T00:00:00\",\"2016-08-16T00:00:00\",\"2016-08-17T00:00:00\",\"2016-08-18T00:00:00\",\"2016-08-19T00:00:00\",\"2016-08-20T00:00:00\",\"2016-08-21T00:00:00\",\"2016-08-22T00:00:00\",\"2016-08-23T00:00:00\",\"2016-08-24T00:00:00\",\"2016-08-25T00:00:00\",\"2016-08-26T00:00:00\",\"2016-08-27T00:00:00\",\"2016-08-28T00:00:00\",\"2016-08-29T00:00:00\",\"2016-08-30T00:00:00\",\"2016-08-31T00:00:00\",\"2016-09-01T00:00:00\",\"2016-09-02T00:00:00\",\"2016-09-03T00:00:00\",\"2016-09-04T00:00:00\",\"2016-09-05T00:00:00\",\"2016-09-06T00:00:00\",\"2016-09-07T00:00:00\",\"2016-09-08T00:00:00\",\"2016-09-09T00:00:00\",\"2016-09-10T00:00:00\",\"2016-09-11T00:00:00\",\"2016-09-12T00:00:00\",\"2016-09-13T00:00:00\",\"2016-09-14T00:00:00\",\"2016-09-15T00:00:00\",\"2016-09-16T00:00:00\",\"2016-09-17T00:00:00\",\"2016-09-18T00:00:00\",\"2016-09-19T00:00:00\",\"2016-09-20T00:00:00\",\"2016-09-21T00:00:00\",\"2016-09-22T00:00:00\",\"2016-09-23T00:00:00\",\"2016-09-24T00:00:00\",\"2016-09-25T00:00:00\",\"2016-09-26T00:00:00\",\"2016-09-27T00:00:00\",\"2016-09-28T00:00:00\",\"2016-09-29T00:00:00\",\"2016-09-30T00:00:00\",\"2016-10-01T00:00:00\",\"2016-10-02T00:00:00\",\"2016-10-03T00:00:00\",\"2016-10-04T00:00:00\",\"2016-10-05T00:00:00\",\"2016-10-06T00:00:00\",\"2016-10-07T00:00:00\",\"2016-10-08T00:00:00\",\"2016-10-09T00:00:00\",\"2016-10-10T00:00:00\",\"2016-10-11T00:00:00\",\"2016-10-12T00:00:00\",\"2016-10-13T00:00:00\",\"2016-10-14T00:00:00\",\"2016-10-15T00:00:00\",\"2016-10-16T00:00:00\",\"2016-10-17T00:00:00\",\"2016-10-18T00:00:00\",\"2016-10-19T00:00:00\",\"2016-10-20T00:00:00\",\"2016-10-21T00:00:00\",\"2016-10-22T00:00:00\",\"2016-10-23T00:00:00\",\"2016-10-24T00:00:00\",\"2016-10-25T00:00:00\",\"2016-10-26T00:00:00\",\"2016-10-27T00:00:00\",\"2016-10-28T00:00:00\",\"2016-10-29T00:00:00\",\"2016-10-30T00:00:00\",\"2016-10-31T00:00:00\",\"2016-11-01T00:00:00\",\"2016-11-02T00:00:00\",\"2016-11-03T00:00:00\",\"2016-11-04T00:00:00\",\"2016-11-05T00:00:00\",\"2016-11-06T00:00:00\",\"2016-11-07T00:00:00\",\"2016-11-08T00:00:00\",\"2016-11-09T00:00:00\",\"2016-11-10T00:00:00\",\"2016-11-11T00:00:00\",\"2016-11-12T00:00:00\",\"2016-11-13T00:00:00\",\"2016-11-14T00:00:00\",\"2016-11-15T00:00:00\",\"2016-11-16T00:00:00\",\"2016-11-17T00:00:00\",\"2016-11-18T00:00:00\",\"2016-11-19T00:00:00\",\"2016-11-20T00:00:00\",\"2016-11-21T00:00:00\",\"2016-11-22T00:00:00\",\"2016-11-23T00:00:00\",\"2016-11-24T00:00:00\",\"2016-11-25T00:00:00\",\"2016-11-26T00:00:00\",\"2016-11-27T00:00:00\",\"2016-11-28T00:00:00\",\"2016-11-29T00:00:00\",\"2016-11-30T00:00:00\",\"2016-12-01T00:00:00\",\"2016-12-02T00:00:00\",\"2016-12-03T00:00:00\",\"2016-12-04T00:00:00\",\"2016-12-05T00:00:00\",\"2016-12-06T00:00:00\",\"2016-12-07T00:00:00\",\"2016-12-08T00:00:00\",\"2016-12-09T00:00:00\",\"2016-12-10T00:00:00\",\"2016-12-11T00:00:00\",\"2016-12-12T00:00:00\",\"2016-12-13T00:00:00\",\"2016-12-14T00:00:00\",\"2016-12-15T00:00:00\",\"2016-12-16T00:00:00\",\"2016-12-17T00:00:00\",\"2016-12-18T00:00:00\",\"2016-12-19T00:00:00\",\"2016-12-20T00:00:00\",\"2016-12-21T00:00:00\",\"2016-12-22T00:00:00\",\"2016-12-23T00:00:00\",\"2016-12-24T00:00:00\",\"2016-12-25T00:00:00\",\"2016-12-26T00:00:00\",\"2016-12-27T00:00:00\",\"2016-12-28T00:00:00\",\"2016-12-29T00:00:00\",\"2016-12-30T00:00:00\",\"2016-12-31T00:00:00\",\"2017-01-01T00:00:00\",\"2017-01-02T00:00:00\",\"2017-01-03T00:00:00\",\"2017-01-04T00:00:00\",\"2017-01-05T00:00:00\",\"2017-01-06T00:00:00\",\"2017-01-07T00:00:00\",\"2017-01-08T00:00:00\",\"2017-01-09T00:00:00\",\"2017-01-10T00:00:00\",\"2017-01-11T00:00:00\",\"2017-01-12T00:00:00\",\"2017-01-13T00:00:00\",\"2017-01-14T00:00:00\",\"2017-01-15T00:00:00\",\"2017-01-16T00:00:00\",\"2017-01-17T00:00:00\",\"2017-01-18T00:00:00\",\"2017-01-19T00:00:00\",\"2017-01-20T00:00:00\",\"2017-01-21T00:00:00\",\"2017-01-22T00:00:00\",\"2017-01-23T00:00:00\",\"2017-01-24T00:00:00\",\"2017-01-25T00:00:00\",\"2017-01-26T00:00:00\",\"2017-01-27T00:00:00\",\"2017-01-28T00:00:00\",\"2017-01-29T00:00:00\",\"2017-01-30T00:00:00\",\"2017-01-31T00:00:00\",\"2017-02-01T00:00:00\",\"2017-02-02T00:00:00\",\"2017-02-03T00:00:00\",\"2017-02-04T00:00:00\",\"2017-02-05T00:00:00\",\"2017-02-06T00:00:00\",\"2017-02-07T00:00:00\",\"2017-02-08T00:00:00\",\"2017-02-09T00:00:00\",\"2017-02-10T00:00:00\",\"2017-02-11T00:00:00\",\"2017-02-12T00:00:00\",\"2017-02-13T00:00:00\",\"2017-02-14T00:00:00\",\"2017-02-15T00:00:00\",\"2017-02-16T00:00:00\",\"2017-02-17T00:00:00\",\"2017-02-18T00:00:00\",\"2017-02-19T00:00:00\",\"2017-02-20T00:00:00\",\"2017-02-21T00:00:00\",\"2017-02-22T00:00:00\",\"2017-02-23T00:00:00\",\"2017-02-24T00:00:00\",\"2017-02-25T00:00:00\",\"2017-02-26T00:00:00\",\"2017-02-27T00:00:00\",\"2017-02-28T00:00:00\",\"2017-03-01T00:00:00\",\"2017-03-02T00:00:00\",\"2017-03-03T00:00:00\",\"2017-03-04T00:00:00\",\"2017-03-05T00:00:00\",\"2017-03-06T00:00:00\",\"2017-03-07T00:00:00\",\"2017-03-08T00:00:00\",\"2017-03-09T00:00:00\",\"2017-03-10T00:00:00\",\"2017-03-11T00:00:00\",\"2017-03-12T00:00:00\",\"2017-03-13T00:00:00\",\"2017-03-14T00:00:00\",\"2017-03-15T00:00:00\",\"2017-03-16T00:00:00\",\"2017-03-17T00:00:00\",\"2017-03-18T00:00:00\",\"2017-03-19T00:00:00\",\"2017-03-20T00:00:00\",\"2017-03-21T00:00:00\",\"2017-03-22T00:00:00\",\"2017-03-23T00:00:00\",\"2017-03-24T00:00:00\",\"2017-03-25T00:00:00\",\"2017-03-26T00:00:00\",\"2017-03-27T00:00:00\",\"2017-03-28T00:00:00\",\"2017-03-29T00:00:00\",\"2017-03-30T00:00:00\",\"2017-03-31T00:00:00\",\"2017-04-01T00:00:00\",\"2017-04-02T00:00:00\",\"2017-04-03T00:00:00\",\"2017-04-04T00:00:00\",\"2017-04-05T00:00:00\",\"2017-04-06T00:00:00\",\"2017-04-07T00:00:00\",\"2017-04-08T00:00:00\",\"2017-04-09T00:00:00\",\"2017-04-10T00:00:00\",\"2017-04-11T00:00:00\",\"2017-04-12T00:00:00\",\"2017-04-13T00:00:00\",\"2017-04-14T00:00:00\",\"2017-04-15T00:00:00\",\"2017-04-16T00:00:00\",\"2017-04-17T00:00:00\",\"2017-04-18T00:00:00\",\"2017-04-19T00:00:00\",\"2017-04-20T00:00:00\",\"2017-04-21T00:00:00\",\"2017-04-22T00:00:00\",\"2017-04-23T00:00:00\",\"2017-04-24T00:00:00\",\"2017-04-25T00:00:00\",\"2017-04-26T00:00:00\",\"2017-04-27T00:00:00\",\"2017-04-28T00:00:00\",\"2017-04-29T00:00:00\",\"2017-04-30T00:00:00\",\"2017-05-01T00:00:00\",\"2017-05-02T00:00:00\",\"2017-05-03T00:00:00\",\"2017-05-04T00:00:00\",\"2017-05-05T00:00:00\",\"2017-05-06T00:00:00\",\"2017-05-07T00:00:00\",\"2017-05-08T00:00:00\",\"2017-05-09T00:00:00\",\"2017-05-10T00:00:00\",\"2017-05-11T00:00:00\",\"2017-05-12T00:00:00\",\"2017-05-13T00:00:00\",\"2017-05-14T00:00:00\",\"2017-05-15T00:00:00\",\"2017-05-16T00:00:00\",\"2017-05-17T00:00:00\",\"2017-05-18T00:00:00\",\"2017-05-19T00:00:00\",\"2017-05-20T00:00:00\",\"2017-05-21T00:00:00\",\"2017-05-22T00:00:00\",\"2017-05-23T00:00:00\",\"2017-05-24T00:00:00\",\"2017-05-25T00:00:00\",\"2017-05-26T00:00:00\",\"2017-05-27T00:00:00\",\"2017-05-28T00:00:00\",\"2017-05-29T00:00:00\",\"2017-05-30T00:00:00\",\"2017-05-31T00:00:00\",\"2017-06-01T00:00:00\",\"2017-06-02T00:00:00\",\"2017-06-03T00:00:00\",\"2017-06-04T00:00:00\",\"2017-06-05T00:00:00\",\"2017-06-06T00:00:00\",\"2017-06-07T00:00:00\",\"2017-06-08T00:00:00\",\"2017-06-09T00:00:00\",\"2017-06-10T00:00:00\",\"2017-06-11T00:00:00\",\"2017-06-12T00:00:00\",\"2017-06-13T00:00:00\",\"2017-06-14T00:00:00\",\"2017-06-15T00:00:00\",\"2017-06-16T00:00:00\",\"2017-06-17T00:00:00\",\"2017-06-18T00:00:00\",\"2017-06-19T00:00:00\",\"2017-06-20T00:00:00\",\"2017-06-21T00:00:00\",\"2017-06-22T00:00:00\",\"2017-06-23T00:00:00\",\"2017-06-24T00:00:00\",\"2017-06-25T00:00:00\",\"2017-06-26T00:00:00\",\"2017-06-27T00:00:00\",\"2017-06-28T00:00:00\",\"2017-06-29T00:00:00\",\"2017-06-30T00:00:00\",\"2017-07-01T00:00:00\",\"2017-07-02T00:00:00\",\"2017-07-03T00:00:00\",\"2017-07-04T00:00:00\",\"2017-07-05T00:00:00\",\"2017-07-06T00:00:00\",\"2017-07-07T00:00:00\",\"2017-07-08T00:00:00\",\"2017-07-09T00:00:00\",\"2017-07-10T00:00:00\",\"2017-07-11T00:00:00\",\"2017-07-12T00:00:00\",\"2017-07-13T00:00:00\",\"2017-07-14T00:00:00\",\"2017-07-15T00:00:00\",\"2017-07-16T00:00:00\",\"2017-07-17T00:00:00\",\"2017-07-18T00:00:00\",\"2017-07-19T00:00:00\",\"2017-07-20T00:00:00\",\"2017-07-21T00:00:00\",\"2017-07-22T00:00:00\",\"2017-07-23T00:00:00\",\"2017-07-24T00:00:00\",\"2017-07-25T00:00:00\",\"2017-07-26T00:00:00\",\"2017-07-27T00:00:00\",\"2017-07-28T00:00:00\",\"2017-07-29T00:00:00\",\"2017-07-30T00:00:00\",\"2017-07-31T00:00:00\",\"2017-08-01T00:00:00\",\"2017-08-02T00:00:00\",\"2017-08-03T00:00:00\",\"2017-08-04T00:00:00\",\"2017-08-05T00:00:00\",\"2017-08-06T00:00:00\",\"2017-08-07T00:00:00\",\"2017-08-08T00:00:00\",\"2017-08-09T00:00:00\",\"2017-08-10T00:00:00\",\"2017-08-11T00:00:00\",\"2017-08-12T00:00:00\",\"2017-08-13T00:00:00\",\"2017-08-14T00:00:00\",\"2017-08-15T00:00:00\",\"2017-08-16T00:00:00\",\"2017-08-17T00:00:00\",\"2017-08-18T00:00:00\",\"2017-08-19T00:00:00\",\"2017-08-20T00:00:00\",\"2017-08-21T00:00:00\",\"2017-08-22T00:00:00\",\"2017-08-23T00:00:00\",\"2017-08-24T00:00:00\",\"2017-08-25T00:00:00\",\"2017-08-26T00:00:00\",\"2017-08-27T00:00:00\",\"2017-08-28T00:00:00\",\"2017-08-29T00:00:00\",\"2017-08-30T00:00:00\",\"2017-08-31T00:00:00\",\"2017-09-01T00:00:00\",\"2017-09-02T00:00:00\",\"2017-09-03T00:00:00\",\"2017-09-04T00:00:00\",\"2017-09-05T00:00:00\",\"2017-09-06T00:00:00\",\"2017-09-07T00:00:00\",\"2017-09-08T00:00:00\",\"2017-09-09T00:00:00\",\"2017-09-10T00:00:00\",\"2017-09-11T00:00:00\",\"2017-09-12T00:00:00\",\"2017-09-13T00:00:00\",\"2017-09-14T00:00:00\",\"2017-09-15T00:00:00\",\"2017-09-16T00:00:00\",\"2017-09-17T00:00:00\",\"2017-09-18T00:00:00\",\"2017-09-19T00:00:00\",\"2017-09-20T00:00:00\",\"2017-09-21T00:00:00\",\"2017-09-22T00:00:00\",\"2017-09-23T00:00:00\",\"2017-09-24T00:00:00\",\"2017-09-25T00:00:00\",\"2017-09-26T00:00:00\",\"2017-09-27T00:00:00\",\"2017-09-28T00:00:00\",\"2017-09-29T00:00:00\",\"2017-09-30T00:00:00\",\"2017-10-01T00:00:00\",\"2017-10-02T00:00:00\",\"2017-10-03T00:00:00\",\"2017-10-04T00:00:00\",\"2017-10-05T00:00:00\",\"2017-10-06T00:00:00\",\"2017-10-07T00:00:00\",\"2017-10-08T00:00:00\",\"2017-10-09T00:00:00\",\"2017-10-10T00:00:00\",\"2017-10-11T00:00:00\",\"2017-10-12T00:00:00\",\"2017-10-13T00:00:00\",\"2017-10-14T00:00:00\",\"2017-10-15T00:00:00\",\"2017-10-16T00:00:00\",\"2017-10-17T00:00:00\",\"2017-10-18T00:00:00\",\"2017-10-19T00:00:00\",\"2017-10-20T00:00:00\",\"2017-10-21T00:00:00\",\"2017-10-22T00:00:00\",\"2017-10-23T00:00:00\",\"2017-10-24T00:00:00\",\"2017-10-25T00:00:00\",\"2017-10-26T00:00:00\",\"2017-10-27T00:00:00\",\"2017-10-28T00:00:00\",\"2017-10-29T00:00:00\",\"2017-10-30T00:00:00\",\"2017-10-31T00:00:00\",\"2017-11-01T00:00:00\",\"2017-11-02T00:00:00\",\"2017-11-03T00:00:00\",\"2017-11-04T00:00:00\",\"2017-11-05T00:00:00\",\"2017-11-06T00:00:00\",\"2017-11-07T00:00:00\",\"2017-11-08T00:00:00\",\"2017-11-09T00:00:00\",\"2017-11-10T00:00:00\",\"2017-11-11T00:00:00\",\"2017-11-12T00:00:00\",\"2017-11-13T00:00:00\",\"2017-11-14T00:00:00\",\"2017-11-15T00:00:00\",\"2017-11-16T00:00:00\",\"2017-11-17T00:00:00\",\"2017-11-18T00:00:00\",\"2017-11-19T00:00:00\",\"2017-11-20T00:00:00\",\"2017-11-21T00:00:00\",\"2017-11-22T00:00:00\",\"2017-11-23T00:00:00\",\"2017-11-24T00:00:00\",\"2017-11-25T00:00:00\",\"2017-11-26T00:00:00\",\"2017-11-27T00:00:00\",\"2017-11-28T00:00:00\",\"2017-11-29T00:00:00\",\"2017-11-30T00:00:00\",\"2017-12-01T00:00:00\",\"2017-12-02T00:00:00\",\"2017-12-03T00:00:00\",\"2017-12-04T00:00:00\",\"2017-12-05T00:00:00\",\"2017-12-06T00:00:00\",\"2017-12-07T00:00:00\",\"2017-12-08T00:00:00\",\"2017-12-09T00:00:00\",\"2017-12-10T00:00:00\",\"2017-12-11T00:00:00\",\"2017-12-12T00:00:00\",\"2017-12-13T00:00:00\",\"2017-12-14T00:00:00\",\"2017-12-15T00:00:00\",\"2017-12-16T00:00:00\",\"2017-12-17T00:00:00\",\"2017-12-18T00:00:00\",\"2017-12-19T00:00:00\",\"2017-12-20T00:00:00\",\"2017-12-21T00:00:00\",\"2017-12-22T00:00:00\",\"2017-12-23T00:00:00\",\"2017-12-24T00:00:00\",\"2017-12-25T00:00:00\",\"2017-12-26T00:00:00\",\"2017-12-27T00:00:00\",\"2017-12-28T00:00:00\",\"2017-12-29T00:00:00\",\"2017-12-30T00:00:00\",\"2017-12-31T00:00:00\"],\"y\":[1506.6666666666665,1954.6666666666665,2300.0,2000.0,2637.333333333333,3377.333333333333,2517.333333333333,2706.6666666666665,3066.6666666666665,2157.333333333333,2790.6666666666665,2172.0,2009.3333333333333,1338.6666666666665,1610.6666666666665,1469.3333333333333,1706.6666666666665,1800.0,1794.6666666666665,2078.6666666666665,1237.3333333333333,1514.6666666666665,1484.0,1661.3333333333333,1772.0,1825.3333333333333,2010.6666666666665,1264.0,1565.3333333333333,1514.6666666666665,1642.6666666666665,1486.6666666666665,2120.0,2580.0,2477.333333333333,2854.6666666666665,3606.6666666666665,2862.6666666666665,3025.333333333333,2092.0,2334.6666666666665,2974.6666666666665,1502.6666666666665,1733.3333333333333,1809.3333333333333,1960.0,2100.0,2274.6666666666665,1472.0,1724.0,1729.3333333333333,1886.6666666666665,1918.6666666666665,2178.6666666666665,2261.333333333333,1446.6666666666665,1697.3333333333333,1748.0,1917.3333333333333,1566.6666666666665,2180.0,2605.333333333333,2434.6666666666665,2905.333333333333,2336.0,2949.333333333333,3185.333333333333,2356.0,2424.0,3094.6666666666665,1710.6666666666665,2042.6666666666665,2144.0,2338.6666666666665,2542.6666666666665,2594.6666666666665,1842.6666666666665,2065.333333333333,1982.6666666666665,2318.6666666666665,2337.333333333333,2486.6666666666665,2581.333333333333,1758.6666666666665,2080.0,2006.6666666666665,2205.333333333333,2356.0,2537.333333333333,2669.333333333333,1796.0,1524.0,1838.6666666666665,2588.0,3116.0,2757.333333333333,3049.333333333333,3262.6666666666665,2298.6666666666665,2618.6666666666665,2064.0,1758.6666666666665,3016.0,3158.6666666666665,2106.6666666666665,2342.6666666666665,2316.0,2516.0,2724.0,2889.333333333333,3106.6666666666665,1978.6666666666665,2326.6666666666665,2357.333333333333,2536.0,2754.6666666666665,2837.333333333333,3129.333333333333,2018.6666666666665,2478.6666666666665,1824.0,1716.0,2073.333333333333,2737.333333333333,3256.0,2812.0,3332.0,2177.333333333333,2618.6666666666665,2716.0,2429.333333333333,1913.3333333333333,2256.0,2556.0,2673.333333333333,2741.333333333333,2956.0,3088.0,3277.333333333333,2153.333333333333,2538.6666666666665,2584.0,2698.6666666666665,2897.333333333333,3144.0,3324.0,2276.0,2645.333333333333,2630.6666666666665,2752.0,2930.6666666666665,1968.0,1702.6666666666665,2022.6666666666665,2840.0,2161.333333333333,2970.6666666666665,3490.6666666666665,2630.6666666666665,2825.333333333333,2808.0,2310.6666666666665,1930.6666666666665,2878.6666666666665,3077.333333333333,3429.333333333333,3520.0,2397.333333333333,2708.0,2644.0,2922.6666666666665,3058.6666666666665,3208.0,3565.333333333333,2434.6666666666665,2700.0,2708.0,3020.0,3201.333333333333,3306.6666666666665,3501.333333333333,1281.3333333333333,1918.6666666666665,2305.333333333333,3070.6666666666665,2617.333333333333,3086.6666666666665,3731.9999999999995,2537.333333333333,2898.6666666666665,1930.6666666666665,2530.6666666666665,2133.3333333333335,3481.333333333333,3626.6666666666665,2596.0,2944.0,2918.6666666666665,3212.0,3294.6666666666665,3544.0,3724.0,2493.333333333333,2837.333333333333,2920.0,3154.6666666666665,3328.0,3581.333333333333,3642.6666666666665,2562.6666666666665,2797.333333333333,2800.0,1488.0,1929.3333333333333,2314.6666666666665,2045.3333333333333,2592.0,3417.333333333333,2501.333333333333,2752.0,3092.0,2282.6666666666665,2802.6666666666665,2190.6666666666665,2522.6666666666665,2670.6666666666665,2806.6666666666665,2840.0,3173.333333333333,3253.333333333333,2293.333333333333,2557.333333333333,2672.0,2788.0,2966.6666666666665,3082.6666666666665,3194.6666666666665,2221.333333333333,2590.6666666666665,2649.333333333333,2677.333333333333,2962.6666666666665,3160.0,1521.3333333333333,2065.333333333333,2517.333333333333,2297.333333333333,2738.6666666666665,3606.6666666666665,2949.333333333333,2952.0,2101.333333333333,2237.333333333333,2997.333333333333,1478.6666666666665,2725.333333333333,2881.333333333333,3018.6666666666665,2049.333333333333,2297.333333333333,2374.6666666666665,2561.333333333333,2633.333333333333,3000.0,3120.0,2006.6666666666665,2442.6666666666665,2489.333333333333,2464.0,2668.0,2953.333333333333,3068.0,2028.0,1621.3333333333333,2181.333333333333,2578.6666666666665,2398.6666666666665,2896.0,2428.0,2953.333333333333,3221.333333333333,2397.333333333333,2502.6666666666665,3157.333333333333,1728.0,2806.6666666666665,1890.6666666666665,2249.333333333333,2120.0,2378.6666666666665,2544.0,2748.0,2820.0,1946.6666666666665,2228.0,2302.6666666666665,2378.6666666666665,2528.0,2730.6666666666665,2737.333333333333,1897.3333333333333,2193.333333333333,2224.0,2404.0,1781.3333333333333,1450.6666666666665,1762.6666666666665,2577.333333333333,3065.333333333333,2781.333333333333,3170.6666666666665,3229.333333333333,2485.333333333333,2518.6666666666665,2070.6666666666665,1650.6666666666665,2418.6666666666665,2598.6666666666665,2733.333333333333,2832.0,3136.0,2106.6666666666665,2418.6666666666665,2405.333333333333,2610.6666666666665,2741.333333333333,2965.333333333333,3090.6666666666665,2150.6666666666665,2440.0,2485.333333333333,2561.333333333333,2686.6666666666665,2929.333333333333,1904.0,1682.6666666666665,2009.3333333333333,2772.0,3197.333333333333,2744.0,3404.0,2237.333333333333,2614.6666666666665,2700.0,2389.333333333333,1706.6666666666665,2029.3333333333333,2092.0,2178.6666666666665,1490.6666666666665,1654.6666666666665,1734.6666666666665,1858.6666666666665,1905.3333333333333,2106.6666666666665,2248.0,1488.0,1652.0,1777.3333333333333,1749.3333333333333,1877.3333333333333,2045.3333333333333,2154.6666666666665,1410.6666666666665,1693.3333333333333,1765.3333333333333,2356.0,2762.6666666666665,2622.6666666666665,3057.333333333333,4037.333333333333,3265.333333333333,3301.333333333333,2360.0,2469.333333333333,3173.333333333333,1629.3333333333333,1453.3333333333333,1709.3333333333333,1654.6666666666665,1869.3333333333333,1965.3333333333333,2084.0,2260.0,1488.0,1672.0,1733.3333333333333,1849.3333333333333,2078.6666666666665,2026.6666666666665,2221.333333333333,1344.0,1698.6666666666665,1794.6666666666665,1953.3333333333333,1910.6666666666665,1869.3333333333333,2548.0,2998.6666666666665,2636.0,3332.0,2570.6666666666665,3204.0,3590.6666666666665,2681.333333333333,2716.0,3470.6666666666665,2013.3333333333333,1989.3333333333333,2253.333333333333,2288.0,2401.333333333333,1664.0,1881.3333333333333,1946.6666666666665,2110.6666666666665,2137.333333333333,2313.333333333333,2414.6666666666665,1628.0,1896.0,1969.3333333333333,2077.333333333333,2198.6666666666665,1984.0,1652.0,2126.6666666666665,2796.0,3505.333333333333,3121.333333333333,3489.333333333333,3713.333333333333,2656.0,2869.333333333333,2337.333333333333,1938.6666666666665,2506.6666666666665,2594.6666666666665,2885.333333333333,2858.6666666666665,1953.3333333333333,2308.0,2364.0,2421.333333333333,2626.6666666666665,2820.0,2952.0,2029.3333333333333,2320.0,2365.333333333333,2429.333333333333,2600.0,2810.6666666666665,2981.333333333333,1895.9999999999998,2041.3333333333333,1928.0,2312.0,3034.6666666666665,3782.6666666666665,3082.6666666666665,3744.0,2513.333333333333,2905.333333333333,2954.6666666666665,2689.333333333333,2048.0,3526.6666666666665,2237.333333333333,2717.333333333333,2746.6666666666665,2850.6666666666665,3040.0,3446.6666666666665,3601.333333333333,2302.6666666666665,2746.6666666666665,2676.0,2893.333333333333,3110.6666666666665,3277.333333333333,3413.333333333333,2293.333333333333,2705.333333333333,2701.333333333333,2220.0,1968.0,2361.333333333333,3197.333333333333,2436.0,3276.0,3929.333333333333,2916.0,3140.0,3148.0,2670.6666666666665,2278.6666666666665,2880.0,2900.0,3065.333333333333,3286.6666666666665,3613.333333333333,3716.0,2418.6666666666665,2944.0,2992.0,3028.0,3209.333333333333,3493.333333333333,3640.0,2426.6666666666665,2899.9999999999995,2916.0,3209.333333333333,3253.333333333333,3553.333333333333,1514.6666666666665,2114.6666666666665,2429.333333333333,3590.6666666666665,2992.0,3630.6666666666665,4214.666666666666,2986.6666666666665,3249.333333333333,2105.333333333333,2956.0,2342.6666666666665,3441.333333333333,3772.0,3982.6666666666665,2544.0,3158.6666666666665,3172.0,3330.6666666666665,3592.0,3781.333333333333,3888.0,2606.6666666666665,3056.0,3109.333333333333,3306.6666666666665,3573.333333333333,3777.333333333333,3996.0,2566.6666666666665,1744.0,2177.333333333333,2710.6666666666665,2202.6666666666665,2776.0,3686.6666666666665,2792.0,3084.0,3456.0,2497.333333333333,3144.0,2454.6666666666665,4156.0,2724.0,3332.0,3212.0,3530.6666666666665,3888.0,3865.333333333333,4288.0,2832.0,3353.333333333333,3333.333333333333,3557.333333333333,3909.333333333333,3957.333333333333,4250.666666666666,2790.6666666666665,3154.6666666666665,3218.6666666666665,3564.0,1785.3333333333333,2357.333333333333,2776.0,2709.333333333333,3056.0,3902.6666666666665,3230.6666666666665,3196.0,2352.0,2550.6666666666665,3298.6666666666665,1717.3333333333333,2854.6666666666665,3062.6666666666665,3305.333333333333,3360.0,3786.6666666666665,2474.6666666666665,2798.6666666666665,2893.333333333333,3016.0,3282.6666666666665,3477.333333333333,3784.0,2512.0,2912.0,2937.333333333333,3049.333333333333,3193.333333333333,3478.6666666666665,3709.333333333333,1778.6666666666665,2506.6666666666665,2926.6666666666665,2706.6666666666665,3336.0,2732.0,3228.0,3482.6666666666665,2725.333333333333,2694.6666666666665,3444.0,1926.6666666666665,3269.333333333333,3470.6666666666665,2342.6666666666665,2654.6666666666665,2756.0,2837.333333333333,3184.0,3294.6666666666665,3346.6666666666665,2237.333333333333,2652.0,2752.0,2881.333333333333,3069.333333333333,3201.333333333333,3369.333333333333,2245.333333333333,2729.333333333333,1941.3333333333333,1689.3333333333333,1950.6666666666665,2921.333333333333,3330.6666666666665,3157.333333333333,3525.333333333333,3586.6666666666665,2782.6666666666665,2886.6666666666665,2237.333333333333,2001.3333333333333,2229.333333333333,2460.0,2530.6666666666665,2656.0,2772.0,2980.0,3153.333333333333,2194.6666666666665,2480.0,2488.0,2649.333333333333,2846.6666666666665,3097.333333333333,3208.0,2097.333333333333,2486.6666666666665,2528.0,2593.333333333333,2932.0,2078.6666666666665,1841.3333333333333,2193.333333333333,3045.333333333333,3710.6666666666665,3174.6666666666665,3609.333333333333,2488.0,2781.333333333333,2873.333333333333,2686.6666666666665,2069.333333333333,2804.0,3090.6666666666665,3266.6666666666665,3483.9999999999995,2297.333333333333,2726.6666666666665,2697.333333333333,2889.333333333333,3085.333333333333,3046.6666666666665,3429.333333333333,2318.6666666666665,2665.333333333333,2716.0,2837.333333333333,3149.333333333333,3184.0,3469.333333333333,2209.333333333333,1870.6666666666665,2398.6666666666665,3312.0,2518.6666666666665,3260.0,4046.6666666666665,2834.6666666666665,3001.333333333333,3176.0,2658.6666666666665,2226.6666666666665,2358.6666666666665,2445.333333333333,1641.3333333333333,1954.6666666666665,1975.9999999999998,2094.6666666666665,2109.333333333333,2382.6666666666665,2481.333333333333,1558.6666666666665,1986.6666666666665,1902.6666666666665,2129.333333333333,2201.333333333333,2374.6666666666665,2438.6666666666665,1698.6666666666665,1933.3333333333333,1913.3333333333333,1956.0,2634.6666666666665,3140.0,2725.333333333333,3480.0,2718.6666666666665,3352.0,3566.6666666666665,2868.0,2692.0,3566.6666666666665,1965.3333333333333,1785.3333333333333,1850.6666666666665,1874.6666666666665,2019.9999999999998,2169.333333333333,2368.0,1577.3333333333333,1818.6666666666665,1840.0,1881.3333333333333,2052.0,2168.0,2382.6666666666665,1684.0,1825.3333333333333,1828.0,1898.6666666666665,2069.333333333333,2152.0,2054.6666666666665,1711.9999999999998,2084.0,2936.0,3643.9999999999995,3212.0,3606.6666666666665,3906.6666666666665,2790.6666666666665,3004.0,2401.333333333333,2032.0,2148.0,2457.333333333333,2616.0,1720.0,2036.0,1898.6666666666665,2176.0,2265.333333333333,2434.6666666666665,2566.6666666666665,1748.0,1998.6666666666665,1992.0,2120.0,2350.6666666666665,2234.6666666666665,2190.6666666666665,2069.333333333333,2368.0,3353.333333333333,3833.333333333333,3282.6666666666665,3909.333333333333,2705.333333333333,2980.0,3161.333333333333,2844.0,2150.6666666666665,2793.333333333333,2834.6666666666665,3130.6666666666665,2004.0,2288.0,2406.6666666666665,2429.333333333333,2801.333333333333,2872.0,3189.333333333333,2066.6666666666665,2380.0,2377.333333333333,2537.333333333333,2721.333333333333,2938.6666666666665,3112.0,1961.3333333333333,2449.333333333333,2436.0,2010.6666666666665,2384.0,3521.333333333333,2621.333333333333,3602.6666666666665,4184.0,2880.0,3233.333333333333,3289.333333333333,2784.0,2241.333333333333,2380.0,2894.6666666666665,2746.6666666666665,3052.0,3250.6666666666665,3412.0,3673.333333333333,2372.0,2796.0,2776.0,2989.333333333333,3193.333333333333,3530.6666666666665,3640.0,2394.6666666666665,2830.6666666666665,2716.0,3037.333333333333,1504.0,2186.6666666666665,2666.6666666666665,3601.333333333333,2880.0,3717.333333333333,4296.0,3114.6666666666665,3457.333333333333,2261.333333333333,2906.6666666666665,2536.0,2938.6666666666665,3264.0,3516.0,3634.6666666666665,3941.333333333333,2621.333333333333,3052.0,3041.333333333333,3202.6666666666665,3419.9999999999995,3697.333333333333,3812.0,2561.333333333333,3041.333333333333,2902.6666666666665,3232.0,3458.6666666666665,3677.333333333333,3918.6666666666665,1772.0,2308.0,2833.333333333333,2432.0,2944.0,3952.0,2922.6666666666665,3226.6666666666665,3688.0,2593.333333333333,3172.0,2596.0,3900.0,4253.333333333333,2749.333333333333,3168.0,3192.0,3493.333333333333,3744.0,3842.6666666666665,4083.9999999999995,2757.333333333333,3258.6666666666665,3313.333333333333,3534.6666666666665,3676.0,3832.0,4121.333333333333,2869.333333333333,3126.6666666666665,1838.6666666666665,2413.333333333333,2972.0,2846.6666666666665,3338.6666666666665,4030.6666666666665,3326.6666666666665,3486.6666666666665,2484.0,2560.0,3473.333333333333,1742.6666666666665,2905.333333333333,3351.9999999999995,3390.6666666666665,3720.0,3955.9999999999995,4050.6666666666665,4357.333333333333,2957.333333333333,3426.6666666666665,3390.6666666666665,3569.333333333333,3888.0,4077.333333333333,4342.666666666666,2936.0,3376.0,3405.333333333333,3656.0,3798.6666666666665,2021.3333333333333,2561.333333333333,3180.0,2790.6666666666665,3418.6666666666665,2749.333333333333,3336.0,3713.333333333333,2880.0,2690.6666666666665,3560.0,1994.6666666666665,3326.6666666666665,3376.0,3672.0,3996.0,2614.6666666666665,3120.0,2994.6666666666665,3136.0,3569.333333333333,3610.6666666666665,4012.0,2593.333333333333,2966.6666666666665,2920.0,3345.333333333333,3526.6666666666665,3625.333333333333,3973.333333333333,2610.6666666666665,2058.6666666666665,1780.0,2050.6666666666665,2984.0,3657.333333333333,3268.0,3616.0,3926.6666666666665,2698.6666666666665,2946.6666666666665,2234.6666666666665,2008.0,3693.333333333333,2496.0,2762.6666666666665,2800.0,3020.0,3236.0,3378.6666666666665,3633.333333333333,2482.6666666666665,2776.0,2858.6666666666665,2914.6666666666665,3186.6666666666665,3437.333333333333,3674.6666666666665,2457.333333333333,2765.333333333333,2873.333333333333,2266.6666666666665,2062.6666666666665,2429.333333333333,3228.0,3969.333333333333,3209.333333333333,3937.333333333333,2526.6666666666665,3001.333333333333,3138.6666666666665,2736.0,2168.0,2709.333333333333,2589.333333333333,2686.6666666666665,2878.6666666666665,3144.0,3321.333333333333,2174.6666666666665,2686.6666666666665,2664.0,2900.0,3016.0,3094.6666666666665,3394.6666666666665,2173.333333333333,2686.6666666666665,2656.0,2785.333333333333,3026.6666666666665,3166.6666666666665,2348.0,2005.3333333333333,2430.6666666666665,3570.6666666666665,2592.0,3506.6666666666665,4149.333333333333,2958.6666666666665,3090.6666666666665,3376.0,2922.6666666666665,2332.0,3162.6666666666665,3356.0,3698.6666666666665,2460.0,2942.6666666666665,2733.333333333333,2998.6666666666665,3237.333333333333,3414.6666666666665,3625.333333333333,2358.6666666666665,2809.333333333333,2836.0,3026.6666666666665,3256.0,3505.333333333333,3686.6666666666665,2381.333333333333,1514.6666666666665,2117.333333333333,2585.333333333333,3572.0,3010.6666666666665,3640.0,4389.333333333333,3069.333333333333,3465.333333333333,2176.0,3124.0,2537.333333333333,2504.0,1661.3333333333333,2045.3333333333333,2032.0,2033.3333333333333,2346.6666666666665,2452.0,2450.6666666666665,1661.3333333333333,1944.0,1997.3333333333333,2190.6666666666665,2304.0,2490.6666666666665,2550.6666666666665,1765.3333333333333,1990.6666666666665,1970.6666666666665,2104.0,2248.0,1808.0,2601.333333333333,3590.6666666666665,4236.0,3558.6666666666665,4313.333333333333,2900.0,3262.6666666666665,3469.333333333333,3045.333333333333,2276.0,2009.3333333333333,2126.6666666666665,2245.333333333333,2325.333333333333,2458.6666666666665,1661.3333333333333,1920.0,2021.3333333333333,2041.3333333333333,2194.6666666666665,2380.0,2497.333333333333,1774.6666666666665,1938.6666666666665,1964.0,2085.333333333333,2250.6666666666665,2346.6666666666665,2517.333333333333,2366.6666666666665,2153.333333333333,2528.0,3625.333333333333,2801.333333333333,3847.9999999999995,4413.333333333333,3240.0,3529.333333333333,3642.6666666666665,3126.6666666666665,2460.0,2625.333333333333,2772.0,1874.6666666666665,2141.333333333333,2189.333333333333,2397.333333333333,2421.333333333333,2748.0,2842.6666666666665,1852.0,2221.333333333333,2130.6666666666665,2286.6666666666665,2484.0,2685.333333333333,2765.333333333333,1845.3333333333333,2592.0,2292.0,2928.0,3889.333333333333,3325.333333333333,3978.6666666666665,4838.666666666666,3098.6666666666665,3765.333333333333,2389.333333333333,3250.6666666666665,2618.6666666666665,3270.6666666666665,2213.333333333333,2637.333333333333,2665.333333333333,2801.333333333333,3057.333333333333,3229.333333333333,3230.6666666666665,2146.6666666666665,2693.333333333333,2613.333333333333,2700.0,3101.333333333333,3202.6666666666665,3409.333333333333,2324.0,2576.0,2570.6666666666665,2629.333333333333,1664.0,2384.0,3025.333333333333,2620.0,3237.333333333333,4197.333333333333,3240.0,3402.6666666666665,3777.333333333333,2813.333333333333,3442.6666666666665,2832.0,3018.6666666666665,3346.6666666666665,3465.333333333333,3582.6666666666665,3902.6666666666665,2570.6666666666665,3053.333333333333,3064.0,3286.6666666666665,3464.0,3630.6666666666665,3885.333333333333,2545.333333333333,3046.6666666666665,2965.333333333333,3360.0,3480.0,3769.333333333333,1945.3333333333333,2593.333333333333,3326.6666666666665,3060.0,3532.0,4625.333333333333,3685.333333333333,3738.6666666666665,2612.0,2812.0,3748.0,1962.6666666666665,3679.9999999999995,4000.0,4277.333333333333,2805.333333333333,3244.0,3174.6666666666665,3561.333333333333,3730.6666666666665,3892.0,4085.333333333333,2806.6666666666665,3264.0,3176.0,3504.0,3722.6666666666665,3922.6666666666665,4296.0,2666.6666666666665,3137.333333333333,1920.0,2614.6666666666665,3349.333333333333,3002.6666666666665,3762.6666666666665,3001.333333333333,3738.6666666666665,4104.0,3048.0,3097.333333333333,3944.0,2185.333333333333,2941.333333333333,3382.6666666666665,3451.9999999999995,3705.333333333333,4117.333333333333,4180.0,4362.666666666666,3004.0,3473.333333333333,3426.6666666666665,3716.0,4061.333333333333,4229.333333333333,4342.666666666666,2925.333333333333,3446.6666666666665,3521.333333333333,3838.6666666666665,2074.6666666666665,2678.6666666666665,2225.333333333333,3270.6666666666665,3969.333333333333,3492.0,3985.333333333333,4116.0,2905.333333333333,3178.6666666666665,2594.6666666666665,2178.6666666666665,3642.6666666666665,4034.6666666666665,4226.666666666666,4416.0,4754.666666666666,3122.6666666666665,3848.0,3816.0,3981.333333333333,4250.666666666666,4440.0,4684.0,3120.0,3726.6666666666665,3677.333333333333,3910.6666666666665,4237.333333333333,4500.0,4786.666666666666,2249.333333333333,1828.0,2564.0,3502.6666666666665,4217.333333333333,3585.333333333333,4386.666666666666,2902.6666666666665,3272.0,3522.6666666666665,2994.6666666666665,2402.6666666666665,4018.6666666666665,4250.666666666666,2729.333333333333,3261.333333333333,3220.0,3576.0,3638.6666666666665,3934.6666666666665,4161.333333333333,2778.6666666666665,3285.333333333333,3343.9999999999995,3473.333333333333,3929.333333333333,3861.333333333333,4302.666666666666,2884.0,3165.333333333333,3318.6666666666665,2322.6666666666665,2276.0,2702.6666666666665,3706.6666666666665,2782.6666666666665,3713.333333333333,4490.666666666666,3253.333333333333,3436.0,3600.0,3049.333333333333,2476.0,3096.0,3050.6666666666665,3268.0,3502.6666666666665,3622.6666666666665,3966.6666666666665,2541.333333333333,3050.6666666666665,3124.0,3349.333333333333,3514.6666666666665,3692.0,3924.0,2640.0,3024.0,3073.333333333333,3285.333333333333,3453.333333333333,2570.6666666666665,2160.0,2796.0,4009.333333333333,3345.333333333333,4018.6666666666665,4773.333333333333,3192.0,3702.6666666666665,2482.6666666666665,3329.333333333333,2616.0,3052.0,3248.0,3496.0,3661.333333333333,2368.0,2818.6666666666665,2881.333333333333,3038.6666666666665,3205.333333333333,3446.6666666666665,3585.333333333333,2457.333333333333,2841.333333333333,2798.6666666666665,3020.0,3214.6666666666665,3453.333333333333,3540.0,2468.0,1738.6666666666665,2310.6666666666665,3032.0,2582.6666666666665,3225.333333333333,4241.333333333333,3114.6666666666665,3533.333333333333,3817.333333333333,2885.333333333333,3494.6666666666665,2797.333333333333,3946.6666666666665,2684.0,3074.6666666666665,3062.6666666666665,3206.6666666666665,3406.6666666666665,3800.0,3856.0,2586.6666666666665,3080.0,2998.6666666666665,3205.333333333333,3484.0,3697.333333333333,3825.333333333333,2585.333333333333,3214.6666666666665,3121.333333333333,1983.9999999999998,2466.6666666666665,3197.333333333333,3053.333333333333,3658.6666666666665,4513.333333333333,3626.6666666666665,3722.6666666666665,2569.333333333333,2804.0,3575.9999999999995,1897.3333333333333,2173.333333333333,2125.333333333333,2181.333333333333,2512.0,2705.333333333333,2744.0,1845.3333333333333,2274.6666666666665,2098.6666666666665,2336.0,2436.0,2717.333333333333,2781.333333333333,1807.9999999999998,2102.6666666666665,2152.0,2317.333333333333,2509.333333333333,2762.6666666666665,2598.6666666666665,2308.0,2740.0,3754.6666666666665,2821.333333333333,4002.6666666666665,4673.333333333333,3305.333333333333,3666.6666666666665,3693.333333333333,3061.333333333333,2609.333333333333,2352.0,2444.0,2650.6666666666665,1665.3333333333333,2022.6666666666665,2126.6666666666665,2169.333333333333,2461.333333333333,2426.6666666666665,2648.0,1741.3333333333333,2069.333333333333,1962.6666666666665,2138.6666666666665,2345.333333333333,2426.6666666666665,2597.333333333333,1738.6666666666665,1988.0,1773.3333333333333,2436.0,2861.333333333333,4076.0,3380.0,4066.6666666666665,5012.0,3289.333333333333,3738.6666666666665,2617.333333333333,3370.6666666666665,2793.333333333333,1968.0,2248.0,2288.0,2393.333333333333,2604.0,2838.6666666666665,2996.0,1826.6666666666665,2237.333333333333,2162.6666666666665,2480.0,2562.6666666666665,2814.6666666666665,2902.6666666666665,1957.3333333333333,2229.333333333333,1961.3333333333333,2553.333333333333,3160.0,2760.0,3365.333333333333,4324.0,3237.333333333333,3534.6666666666665,4010.6666666666665,2968.0,3485.333333333333,2874.6666666666665,2338.6666666666665,2728.0,2621.333333333333,2816.0,3044.0,3342.6666666666665,3575.9999999999995,2281.333333333333,2724.0,2665.333333333333,2929.333333333333,3062.6666666666665,3270.6666666666665,3489.333333333333,2221.333333333333,2678.6666666666665,2606.6666666666665,2877.333333333333,2993.333333333333,2016.0,2680.0,3318.6666666666665,3117.333333333333,3553.333333333333,4797.333333333333,3864.0,3875.9999999999995,2734.6666666666665,2976.0,3805.333333333333,1909.3333333333333,3390.6666666666665,3581.333333333333,4066.6666666666665,3870.6666666666665,2713.333333333333,3161.333333333333,3297.333333333333,3385.333333333333,3602.6666666666665,3922.6666666666665,4164.0,2673.333333333333,3188.0,3224.0,3317.333333333333,3711.9999999999995,3848.0,4042.6666666666665,2177.333333333333,2890.6666666666665,3380.0,3188.0,3976.0,3068.0,3908.0,4086.6666666666665,3166.6666666666665,3041.333333333333,4033.333333333333,2265.333333333333,4067.9999999999995,4328.0,2936.0,3370.6666666666665,3405.333333333333,3688.0,4030.6666666666665,4188.0,4612.0,2892.0,3408.0,3284.0,3565.333333333333,3894.6666666666665,4261.333333333333,4298.666666666666,2853.333333333333,3374.6666666666665,3372.0,2241.333333333333,1889.3333333333333,2234.6666666666665,3309.333333333333,4224.0,3600.0,4152.0,4346.666666666666,3156.0,3309.333333333333,2808.0,2350.6666666666665,3596.0,3528.0,3985.333333333333,4109.333333333333,4573.333333333333,4606.666666666666,3040.0,3632.0,3749.333333333333,3826.6666666666665,4086.6666666666665,4268.0,4549.333333333333,3069.333333333333,3608.0,3700.0,3940.0,4043.9999999999995,2486.6666666666665,2292.0,2640.0,3573.333333333333,4378.666666666666,3758.6666666666665,4397.333333333333,2920.0,3278.6666666666665,3537.333333333333,3148.0,2398.6666666666665,4061.333333333333,4509.333333333333,4777.333333333333,4934.666666666666,3313.333333333333,3770.6666666666665,3905.333333333333,4126.666666666666,4377.333333333333,4470.666666666666,4926.666666666666,3345.333333333333,3866.6666666666665,3925.333333333333,4073.333333333333,4388.0,4617.333333333333,4917.333333333333,3236.0,2606.6666666666665,2182.6666666666665,2752.0,3961.333333333333,2833.333333333333,3891.9999999999995,4514.666666666666,3370.6666666666665,3661.333333333333,3766.6666666666665,3117.333333333333,2634.6666666666665,4280.0,2904.0,3484.0,3377.333333333333,3570.6666666666665,3778.6666666666665,4228.0,4286.666666666666,2930.6666666666665,3398.6666666666665,3342.6666666666665,3694.6666666666665,3874.6666666666665,4177.333333333333,4368.0,2977.333333333333,3398.6666666666665,3334.6666666666665,3569.333333333333,1810.6666666666665,2446.6666666666665,2864.0,4077.333333333333,3329.333333333333,4221.333333333333,4968.0,3389.333333333333,3744.0,2460.0,3449.333333333333,2858.6666666666665,3086.6666666666665,3482.6666666666665,3568.0,3724.0,4100.0,2709.333333333333,3205.333333333333,3221.333333333333,3442.6666666666665,3561.333333333333,3889.333333333333,4087.9999999999995,2800.0,3169.333333333333,3282.6666666666665,3300.0,3502.6666666666665,3768.0,2113.333333333333,2548.0,3154.6666666666665,2697.333333333333,3278.6666666666665,4464.0,3161.333333333333,3634.6666666666665,4070.6666666666665,2964.0,3536.0,2950.6666666666665,3312.0,3558.6666666666665,3889.333333333333,2500.0,2908.0,2970.6666666666665,3060.0,3273.333333333333,3701.333333333333,3760.0,2506.6666666666665,3000.0,3001.333333333333,3006.6666666666665,3314.6666666666665,3500.0,3682.6666666666665,2504.0,2877.333333333333,2078.6666666666665,2774.6666666666665,3213.333333333333,3206.6666666666665,3502.6666666666665,4616.0,3857.333333333333,3873.333333333333,2696.0,3004.0,3786.6666666666665,1982.6666666666665,2761.333333333333,3185.333333333333,3084.0,3394.6666666666665,3622.6666666666665,3934.6666666666665,4001.333333333333,2653.333333333333,3282.6666666666665,3081.333333333333,3437.333333333333,3577.333333333333,3846.6666666666665,4122.666666666666,2680.0,3178.6666666666665,3233.333333333333,3409.333333333333,2176.0,2986.6666666666665,3413.333333333333,3161.333333333333,3917.333333333333,3074.6666666666665,3860.0,4125.333333333333,3149.333333333333,3041.333333333333,4028.0,2264.0,2345.333333333333,2480.0,2622.6666666666665,2785.333333333333,2862.6666666666665,1973.3333333333333,2249.333333333333,2214.6666666666665,2524.0,2598.6666666666665,2704.0,2768.0,1937.3333333333333,2281.333333333333,2216.0,2432.0,2604.0,2709.333333333333,2992.0],\"type\":\"scatter\"}],                        {\"title\":{\"text\":\"Daily sales\"},\"xaxis\":{\"title\":{\"text\":\"Date\"}},\"yaxis\":{\"title\":{\"text\":\"Sales\"}},\"template\":{\"data\":{\"histogram2dcontour\":[{\"type\":\"histogram2dcontour\",\"colorbar\":{\"outlinewidth\":0,\"ticks\":\"\"},\"colorscale\":[[0.0,\"#0d0887\"],[0.1111111111111111,\"#46039f\"],[0.2222222222222222,\"#7201a8\"],[0.3333333333333333,\"#9c179e\"],[0.4444444444444444,\"#bd3786\"],[0.5555555555555556,\"#d8576b\"],[0.6666666666666666,\"#ed7953\"],[0.7777777777777778,\"#fb9f3a\"],[0.8888888888888888,\"#fdca26\"],[1.0,\"#f0f921\"]]}],\"choropleth\":[{\"type\":\"choropleth\",\"colorbar\":{\"outlinewidth\":0,\"ticks\":\"\"}}],\"histogram2d\":[{\"type\":\"histogram2d\",\"colorbar\":{\"outlinewidth\":0,\"ticks\":\"\"},\"colorscale\":[[0.0,\"#0d0887\"],[0.1111111111111111,\"#46039f\"],[0.2222222222222222,\"#7201a8\"],[0.3333333333333333,\"#9c179e\"],[0.4444444444444444,\"#bd3786\"],[0.5555555555555556,\"#d8576b\"],[0.6666666666666666,\"#ed7953\"],[0.7777777777777778,\"#fb9f3a\"],[0.8888888888888888,\"#fdca26\"],[1.0,\"#f0f921\"]]}],\"heatmap\":[{\"type\":\"heatmap\",\"colorbar\":{\"outlinewidth\":0,\"ticks\":\"\"},\"colorscale\":[[0.0,\"#0d0887\"],[0.1111111111111111,\"#46039f\"],[0.2222222222222222,\"#7201a8\"],[0.3333333333333333,\"#9c179e\"],[0.4444444444444444,\"#bd3786\"],[0.5555555555555556,\"#d8576b\"],[0.6666666666666666,\"#ed7953\"],[0.7777777777777778,\"#fb9f3a\"],[0.8888888888888888,\"#fdca26\"],[1.0,\"#f0f921\"]]}],\"heatmapgl\":[{\"type\":\"heatmapgl\",\"colorbar\":{\"outlinewidth\":0,\"ticks\":\"\"},\"colorscale\":[[0.0,\"#0d0887\"],[0.1111111111111111,\"#46039f\"],[0.2222222222222222,\"#7201a8\"],[0.3333333333333333,\"#9c179e\"],[0.4444444444444444,\"#bd3786\"],[0.5555555555555556,\"#d8576b\"],[0.6666666666666666,\"#ed7953\"],[0.7777777777777778,\"#fb9f3a\"],[0.8888888888888888,\"#fdca26\"],[1.0,\"#f0f921\"]]}],\"contourcarpet\":[{\"type\":\"contourcarpet\",\"colorbar\":{\"outlinewidth\":0,\"ticks\":\"\"}}],\"contour\":[{\"type\":\"contour\",\"colorbar\":{\"outlinewidth\":0,\"ticks\":\"\"},\"colorscale\":[[0.0,\"#0d0887\"],[0.1111111111111111,\"#46039f\"],[0.2222222222222222,\"#7201a8\"],[0.3333333333333333,\"#9c179e\"],[0.4444444444444444,\"#bd3786\"],[0.5555555555555556,\"#d8576b\"],[0.6666666666666666,\"#ed7953\"],[0.7777777777777778,\"#fb9f3a\"],[0.8888888888888888,\"#fdca26\"],[1.0,\"#f0f921\"]]}],\"surface\":[{\"type\":\"surface\",\"colorbar\":{\"outlinewidth\":0,\"ticks\":\"\"},\"colorscale\":[[0.0,\"#0d0887\"],[0.1111111111111111,\"#46039f\"],[0.2222222222222222,\"#7201a8\"],[0.3333333333333333,\"#9c179e\"],[0.4444444444444444,\"#bd3786\"],[0.5555555555555556,\"#d8576b\"],[0.6666666666666666,\"#ed7953\"],[0.7777777777777778,\"#fb9f3a\"],[0.8888888888888888,\"#fdca26\"],[1.0,\"#f0f921\"]]}],\"mesh3d\":[{\"type\":\"mesh3d\",\"colorbar\":{\"outlinewidth\":0,\"ticks\":\"\"}}],\"scatter\":[{\"fillpattern\":{\"fillmode\":\"overlay\",\"size\":10,\"solidity\":0.2},\"type\":\"scatter\"}],\"parcoords\":[{\"type\":\"parcoords\",\"line\":{\"colorbar\":{\"outlinewidth\":0,\"ticks\":\"\"}}}],\"scatterpolargl\":[{\"type\":\"scatterpolargl\",\"marker\":{\"colorbar\":{\"outlinewidth\":0,\"ticks\":\"\"}}}],\"bar\":[{\"error_x\":{\"color\":\"#2a3f5f\"},\"error_y\":{\"color\":\"#2a3f5f\"},\"marker\":{\"line\":{\"color\":\"#E5ECF6\",\"width\":0.5},\"pattern\":{\"fillmode\":\"overlay\",\"size\":10,\"solidity\":0.2}},\"type\":\"bar\"}],\"scattergeo\":[{\"type\":\"scattergeo\",\"marker\":{\"colorbar\":{\"outlinewidth\":0,\"ticks\":\"\"}}}],\"scatterpolar\":[{\"type\":\"scatterpolar\",\"marker\":{\"colorbar\":{\"outlinewidth\":0,\"ticks\":\"\"}}}],\"histogram\":[{\"marker\":{\"pattern\":{\"fillmode\":\"overlay\",\"size\":10,\"solidity\":0.2}},\"type\":\"histogram\"}],\"scattergl\":[{\"type\":\"scattergl\",\"marker\":{\"colorbar\":{\"outlinewidth\":0,\"ticks\":\"\"}}}],\"scatter3d\":[{\"type\":\"scatter3d\",\"line\":{\"colorbar\":{\"outlinewidth\":0,\"ticks\":\"\"}},\"marker\":{\"colorbar\":{\"outlinewidth\":0,\"ticks\":\"\"}}}],\"scattermapbox\":[{\"type\":\"scattermapbox\",\"marker\":{\"colorbar\":{\"outlinewidth\":0,\"ticks\":\"\"}}}],\"scatterternary\":[{\"type\":\"scatterternary\",\"marker\":{\"colorbar\":{\"outlinewidth\":0,\"ticks\":\"\"}}}],\"scattercarpet\":[{\"type\":\"scattercarpet\",\"marker\":{\"colorbar\":{\"outlinewidth\":0,\"ticks\":\"\"}}}],\"carpet\":[{\"aaxis\":{\"endlinecolor\":\"#2a3f5f\",\"gridcolor\":\"white\",\"linecolor\":\"white\",\"minorgridcolor\":\"white\",\"startlinecolor\":\"#2a3f5f\"},\"baxis\":{\"endlinecolor\":\"#2a3f5f\",\"gridcolor\":\"white\",\"linecolor\":\"white\",\"minorgridcolor\":\"white\",\"startlinecolor\":\"#2a3f5f\"},\"type\":\"carpet\"}],\"table\":[{\"cells\":{\"fill\":{\"color\":\"#EBF0F8\"},\"line\":{\"color\":\"white\"}},\"header\":{\"fill\":{\"color\":\"#C8D4E3\"},\"line\":{\"color\":\"white\"}},\"type\":\"table\"}],\"barpolar\":[{\"marker\":{\"line\":{\"color\":\"#E5ECF6\",\"width\":0.5},\"pattern\":{\"fillmode\":\"overlay\",\"size\":10,\"solidity\":0.2}},\"type\":\"barpolar\"}],\"pie\":[{\"automargin\":true,\"type\":\"pie\"}]},\"layout\":{\"autotypenumbers\":\"strict\",\"colorway\":[\"#636efa\",\"#EF553B\",\"#00cc96\",\"#ab63fa\",\"#FFA15A\",\"#19d3f3\",\"#FF6692\",\"#B6E880\",\"#FF97FF\",\"#FECB52\"],\"font\":{\"color\":\"#2a3f5f\"},\"hovermode\":\"closest\",\"hoverlabel\":{\"align\":\"left\"},\"paper_bgcolor\":\"white\",\"plot_bgcolor\":\"#E5ECF6\",\"polar\":{\"bgcolor\":\"#E5ECF6\",\"angularaxis\":{\"gridcolor\":\"white\",\"linecolor\":\"white\",\"ticks\":\"\"},\"radialaxis\":{\"gridcolor\":\"white\",\"linecolor\":\"white\",\"ticks\":\"\"}},\"ternary\":{\"bgcolor\":\"#E5ECF6\",\"aaxis\":{\"gridcolor\":\"white\",\"linecolor\":\"white\",\"ticks\":\"\"},\"baxis\":{\"gridcolor\":\"white\",\"linecolor\":\"white\",\"ticks\":\"\"},\"caxis\":{\"gridcolor\":\"white\",\"linecolor\":\"white\",\"ticks\":\"\"}},\"coloraxis\":{\"colorbar\":{\"outlinewidth\":0,\"ticks\":\"\"}},\"colorscale\":{\"sequential\":[[0.0,\"#0d0887\"],[0.1111111111111111,\"#46039f\"],[0.2222222222222222,\"#7201a8\"],[0.3333333333333333,\"#9c179e\"],[0.4444444444444444,\"#bd3786\"],[0.5555555555555556,\"#d8576b\"],[0.6666666666666666,\"#ed7953\"],[0.7777777777777778,\"#fb9f3a\"],[0.8888888888888888,\"#fdca26\"],[1.0,\"#f0f921\"]],\"sequentialminus\":[[0.0,\"#0d0887\"],[0.1111111111111111,\"#46039f\"],[0.2222222222222222,\"#7201a8\"],[0.3333333333333333,\"#9c179e\"],[0.4444444444444444,\"#bd3786\"],[0.5555555555555556,\"#d8576b\"],[0.6666666666666666,\"#ed7953\"],[0.7777777777777778,\"#fb9f3a\"],[0.8888888888888888,\"#fdca26\"],[1.0,\"#f0f921\"]],\"diverging\":[[0,\"#8e0152\"],[0.1,\"#c51b7d\"],[0.2,\"#de77ae\"],[0.3,\"#f1b6da\"],[0.4,\"#fde0ef\"],[0.5,\"#f7f7f7\"],[0.6,\"#e6f5d0\"],[0.7,\"#b8e186\"],[0.8,\"#7fbc41\"],[0.9,\"#4d9221\"],[1,\"#276419\"]]},\"xaxis\":{\"gridcolor\":\"white\",\"linecolor\":\"white\",\"ticks\":\"\",\"title\":{\"standoff\":15},\"zerolinecolor\":\"white\",\"automargin\":true,\"zerolinewidth\":2},\"yaxis\":{\"gridcolor\":\"white\",\"linecolor\":\"white\",\"ticks\":\"\",\"title\":{\"standoff\":15},\"zerolinecolor\":\"white\",\"automargin\":true,\"zerolinewidth\":2},\"scene\":{\"xaxis\":{\"backgroundcolor\":\"#E5ECF6\",\"gridcolor\":\"white\",\"linecolor\":\"white\",\"showbackground\":true,\"ticks\":\"\",\"zerolinecolor\":\"white\",\"gridwidth\":2},\"yaxis\":{\"backgroundcolor\":\"#E5ECF6\",\"gridcolor\":\"white\",\"linecolor\":\"white\",\"showbackground\":true,\"ticks\":\"\",\"zerolinecolor\":\"white\",\"gridwidth\":2},\"zaxis\":{\"backgroundcolor\":\"#E5ECF6\",\"gridcolor\":\"white\",\"linecolor\":\"white\",\"showbackground\":true,\"ticks\":\"\",\"zerolinecolor\":\"white\",\"gridwidth\":2}},\"shapedefaults\":{\"line\":{\"color\":\"#2a3f5f\"}},\"annotationdefaults\":{\"arrowcolor\":\"#2a3f5f\",\"arrowhead\":0,\"arrowwidth\":1},\"geo\":{\"bgcolor\":\"white\",\"landcolor\":\"#E5ECF6\",\"subunitcolor\":\"white\",\"showland\":true,\"showlakes\":true,\"lakecolor\":\"white\"},\"title\":{\"x\":0.05},\"mapbox\":{\"style\":\"light\"}}}},                        {\"responsive\": true}                    ).then(function(){\n",
              "                            \n",
              "var gd = document.getElementById('f6997113-bc2c-47f4-8b0c-d50a92076431');\n",
              "var x = new MutationObserver(function (mutations, observer) {{\n",
              "        var display = window.getComputedStyle(gd).display;\n",
              "        if (!display || display === 'none') {{\n",
              "            console.log([gd, 'removed!']);\n",
              "            Plotly.purge(gd);\n",
              "            observer.disconnect();\n",
              "        }}\n",
              "}});\n",
              "\n",
              "// Listen for the removal of the full notebook cells\n",
              "var notebookContainer = gd.closest('#notebook-container');\n",
              "if (notebookContainer) {{\n",
              "    x.observe(notebookContainer, {childList: true});\n",
              "}}\n",
              "\n",
              "// Listen for the clearing of the current output cell\n",
              "var outputEl = gd.closest('.output');\n",
              "if (outputEl) {{\n",
              "    x.observe(outputEl, {childList: true});\n",
              "}}\n",
              "\n",
              "                        })                };                            </script>        </div>\n",
              "</body>\n",
              "</html>"
            ]
          },
          "metadata": {}
        }
      ],
      "source": [
        "daily_sales_sc = go.Scatter(x=daily_sales['date'], y=daily_sales['sales'])\n",
        "layout = go.Layout(title='Daily sales', xaxis=dict(title='Date'), yaxis=dict(title='Sales'))\n",
        "fig = go.Figure(data=[daily_sales_sc], layout=layout)\n",
        "fig = go.Figure(data=[daily_sales_sc],layout=layout)\n",
        "fig.show(renderer=\"colab\")"
      ]
    },
    {
      "cell_type": "code",
      "execution_count": null,
      "metadata": {
        "id": "mWvEi5760qhO"
      },
      "outputs": [],
      "source": [
        "import plotly.io as pio\n",
        "pio.renderers.default='notebook'"
      ]
    },
    {
      "cell_type": "markdown",
      "metadata": {
        "id": "MQvB2lnV1YOX"
      },
      "source": [
        "Reduce training set with the last year alone"
      ]
    },
    {
      "cell_type": "code",
      "execution_count": null,
      "metadata": {
        "id": "cudPwEdH1ioO",
        "colab": {
          "base_uri": "https://localhost:8080/"
        },
        "outputId": "6d9159bd-3e47-49b7-c907-a4a6ba707dc0"
      },
      "outputs": [
        {
          "output_type": "stream",
          "name": "stdout",
          "text": [
            "             date  store  item      sales weekday_weekend\n",
            "109195 2017-01-01     10     6  84.000000         weekend\n",
            "96413  2017-01-01      3     6  73.333333         weekend\n",
            "36155  2017-01-01     10     2  57.333333         weekend\n",
            "28851  2017-01-01      6     2  45.333333         weekend\n",
            "8765   2017-01-01      5     1  14.666667         weekend\n"
          ]
        }
      ],
      "source": [
        "train = train[(train['date'] >= '2017-01-01')]\n",
        "print(train.head())"
      ]
    },
    {
      "cell_type": "markdown",
      "metadata": {
        "id": "LhY0fm7S1nwO"
      },
      "source": [
        "Rearrange datasets to apply shift methods\n"
      ]
    },
    {
      "cell_type": "code",
      "execution_count": null,
      "metadata": {
        "id": "u1Ca3ACn1tJN",
        "colab": {
          "base_uri": "https://localhost:8080/",
          "height": 206
        },
        "outputId": "323517ab-12c9-456b-a36f-b021b0560b7a"
      },
      "outputs": [
        {
          "output_type": "execute_result",
          "data": {
            "text/plain": [
              "   item  store       date      sales\n",
              "0     1      1 2017-01-01  25.333333\n",
              "1     1      1 2017-01-02  20.000000\n",
              "2     1      1 2017-01-03  21.333333\n",
              "3     1      1 2017-01-04  34.666667\n",
              "4     1      1 2017-01-05  20.000000"
            ],
            "text/html": [
              "\n",
              "  <div id=\"df-15f281bd-d6db-4d7a-8494-243fb2e7bae5\">\n",
              "    <div class=\"colab-df-container\">\n",
              "      <div>\n",
              "<style scoped>\n",
              "    .dataframe tbody tr th:only-of-type {\n",
              "        vertical-align: middle;\n",
              "    }\n",
              "\n",
              "    .dataframe tbody tr th {\n",
              "        vertical-align: top;\n",
              "    }\n",
              "\n",
              "    .dataframe thead th {\n",
              "        text-align: right;\n",
              "    }\n",
              "</style>\n",
              "<table border=\"1\" class=\"dataframe\">\n",
              "  <thead>\n",
              "    <tr style=\"text-align: right;\">\n",
              "      <th></th>\n",
              "      <th>item</th>\n",
              "      <th>store</th>\n",
              "      <th>date</th>\n",
              "      <th>sales</th>\n",
              "    </tr>\n",
              "  </thead>\n",
              "  <tbody>\n",
              "    <tr>\n",
              "      <th>0</th>\n",
              "      <td>1</td>\n",
              "      <td>1</td>\n",
              "      <td>2017-01-01</td>\n",
              "      <td>25.333333</td>\n",
              "    </tr>\n",
              "    <tr>\n",
              "      <th>1</th>\n",
              "      <td>1</td>\n",
              "      <td>1</td>\n",
              "      <td>2017-01-02</td>\n",
              "      <td>20.000000</td>\n",
              "    </tr>\n",
              "    <tr>\n",
              "      <th>2</th>\n",
              "      <td>1</td>\n",
              "      <td>1</td>\n",
              "      <td>2017-01-03</td>\n",
              "      <td>21.333333</td>\n",
              "    </tr>\n",
              "    <tr>\n",
              "      <th>3</th>\n",
              "      <td>1</td>\n",
              "      <td>1</td>\n",
              "      <td>2017-01-04</td>\n",
              "      <td>34.666667</td>\n",
              "    </tr>\n",
              "    <tr>\n",
              "      <th>4</th>\n",
              "      <td>1</td>\n",
              "      <td>1</td>\n",
              "      <td>2017-01-05</td>\n",
              "      <td>20.000000</td>\n",
              "    </tr>\n",
              "  </tbody>\n",
              "</table>\n",
              "</div>\n",
              "      <button class=\"colab-df-convert\" onclick=\"convertToInteractive('df-15f281bd-d6db-4d7a-8494-243fb2e7bae5')\"\n",
              "              title=\"Convert this dataframe to an interactive table.\"\n",
              "              style=\"display:none;\">\n",
              "        \n",
              "  <svg xmlns=\"http://www.w3.org/2000/svg\" height=\"24px\"viewBox=\"0 0 24 24\"\n",
              "       width=\"24px\">\n",
              "    <path d=\"M0 0h24v24H0V0z\" fill=\"none\"/>\n",
              "    <path d=\"M18.56 5.44l.94 2.06.94-2.06 2.06-.94-2.06-.94-.94-2.06-.94 2.06-2.06.94zm-11 1L8.5 8.5l.94-2.06 2.06-.94-2.06-.94L8.5 2.5l-.94 2.06-2.06.94zm10 10l.94 2.06.94-2.06 2.06-.94-2.06-.94-.94-2.06-.94 2.06-2.06.94z\"/><path d=\"M17.41 7.96l-1.37-1.37c-.4-.4-.92-.59-1.43-.59-.52 0-1.04.2-1.43.59L10.3 9.45l-7.72 7.72c-.78.78-.78 2.05 0 2.83L4 21.41c.39.39.9.59 1.41.59.51 0 1.02-.2 1.41-.59l7.78-7.78 2.81-2.81c.8-.78.8-2.07 0-2.86zM5.41 20L4 18.59l7.72-7.72 1.47 1.35L5.41 20z\"/>\n",
              "  </svg>\n",
              "      </button>\n",
              "      \n",
              "  <style>\n",
              "    .colab-df-container {\n",
              "      display:flex;\n",
              "      flex-wrap:wrap;\n",
              "      gap: 12px;\n",
              "    }\n",
              "\n",
              "    .colab-df-convert {\n",
              "      background-color: #E8F0FE;\n",
              "      border: none;\n",
              "      border-radius: 50%;\n",
              "      cursor: pointer;\n",
              "      display: none;\n",
              "      fill: #1967D2;\n",
              "      height: 32px;\n",
              "      padding: 0 0 0 0;\n",
              "      width: 32px;\n",
              "    }\n",
              "\n",
              "    .colab-df-convert:hover {\n",
              "      background-color: #E2EBFA;\n",
              "      box-shadow: 0px 1px 2px rgba(60, 64, 67, 0.3), 0px 1px 3px 1px rgba(60, 64, 67, 0.15);\n",
              "      fill: #174EA6;\n",
              "    }\n",
              "\n",
              "    [theme=dark] .colab-df-convert {\n",
              "      background-color: #3B4455;\n",
              "      fill: #D2E3FC;\n",
              "    }\n",
              "\n",
              "    [theme=dark] .colab-df-convert:hover {\n",
              "      background-color: #434B5C;\n",
              "      box-shadow: 0px 1px 3px 1px rgba(0, 0, 0, 0.15);\n",
              "      filter: drop-shadow(0px 1px 2px rgba(0, 0, 0, 0.3));\n",
              "      fill: #FFFFFF;\n",
              "    }\n",
              "  </style>\n",
              "\n",
              "      <script>\n",
              "        const buttonEl =\n",
              "          document.querySelector('#df-15f281bd-d6db-4d7a-8494-243fb2e7bae5 button.colab-df-convert');\n",
              "        buttonEl.style.display =\n",
              "          google.colab.kernel.accessAllowed ? 'block' : 'none';\n",
              "\n",
              "        async function convertToInteractive(key) {\n",
              "          const element = document.querySelector('#df-15f281bd-d6db-4d7a-8494-243fb2e7bae5');\n",
              "          const dataTable =\n",
              "            await google.colab.kernel.invokeFunction('convertToInteractive',\n",
              "                                                     [key], {});\n",
              "          if (!dataTable) return;\n",
              "\n",
              "          const docLinkHtml = 'Like what you see? Visit the ' +\n",
              "            '<a target=\"_blank\" href=https://colab.research.google.com/notebooks/data_table.ipynb>data table notebook</a>'\n",
              "            + ' to learn more about interactive tables.';\n",
              "          element.innerHTML = '';\n",
              "          dataTable['output_type'] = 'display_data';\n",
              "          await google.colab.output.renderOutput(dataTable, element);\n",
              "          const docLink = document.createElement('div');\n",
              "          docLink.innerHTML = docLinkHtml;\n",
              "          element.appendChild(docLink);\n",
              "        }\n",
              "      </script>\n",
              "    </div>\n",
              "  </div>\n",
              "  "
            ]
          },
          "metadata": {},
          "execution_count": 17
        }
      ],
      "source": [
        "train_gp = train.sort_values('date').groupby(['item', 'store', 'date'], as_index=False)\n",
        "train_gp = train_gp.agg({'sales':['mean']})\n",
        "train_gp.columns = ['item', 'store', 'date', 'sales']\n",
        "train_gp.head()"
      ]
    },
    {
      "cell_type": "markdown",
      "metadata": {
        "id": "SXoZ7S6K10xe"
      },
      "source": [
        "Conversion of pandas data into supervised data"
      ]
    },
    {
      "cell_type": "code",
      "execution_count": null,
      "metadata": {
        "id": "PME5Nj_D15f0"
      },
      "outputs": [],
      "source": [
        "def series_to_supervised(data, window=1, lag=1, dropnan=True):\n",
        "    cols, names = list(), list()\n",
        "    # Input sequence (t-n, ... t-1)\n",
        "    for i in range(window, 0, -1):\n",
        "        cols.append(data.shift(i))\n",
        "        names += [('%s(t-%d)' % (col, i)) for col in data.columns]\n",
        "    # Current timestep (t=0)\n",
        "    cols.append(data)\n",
        "    names += [('%s(t)' % (col)) for col in data.columns]\n",
        "    # Target timestep (t=lag)\n",
        "    cols.append(data.shift(-lag))\n",
        "    names += [('%s(t+%d)' % (col, lag)) for col in data.columns]\n",
        "    # Put it all together\n",
        "    agg = pd.concat(cols, axis=1)\n",
        "    agg.columns = names\n",
        "    # Drop rows with NaN values\n",
        "    if dropnan:\n",
        "        agg.dropna(inplace=True)\n",
        "    return agg"
      ]
    },
    {
      "cell_type": "markdown",
      "metadata": {
        "id": "FJNDXz1K2BPO"
      },
      "source": [
        "forecast 90 days with current timesteps\n"
      ]
    },
    {
      "cell_type": "code",
      "execution_count": null,
      "metadata": {
        "id": "ojhmEPiaVttq",
        "colab": {
          "base_uri": "https://localhost:8080/",
          "height": 317
        },
        "outputId": "d421e951-32a3-4f97-efa2-5b04fec276e2"
      },
      "outputs": [
        {
          "output_type": "execute_result",
          "data": {
            "text/plain": [
              "    item(t-29)  store(t-29)  sales(t-29)  item(t-28)  store(t-28)  \\\n",
              "29         1.0          1.0    25.333333         1.0          1.0   \n",
              "30         1.0          1.0    20.000000         1.0          1.0   \n",
              "31         1.0          1.0    21.333333         1.0          1.0   \n",
              "32         1.0          1.0    34.666667         1.0          1.0   \n",
              "33         1.0          1.0    20.000000         1.0          1.0   \n",
              "\n",
              "    sales(t-28)  item(t-27)  store(t-27)  sales(t-27)  item(t-26)  ...  \\\n",
              "29    20.000000         1.0          1.0    21.333333         1.0  ...   \n",
              "30    21.333333         1.0          1.0    34.666667         1.0  ...   \n",
              "31    34.666667         1.0          1.0    20.000000         1.0  ...   \n",
              "32    20.000000         1.0          1.0    38.666667         1.0  ...   \n",
              "33    38.666667         1.0          1.0    41.333333         1.0  ...   \n",
              "\n",
              "    sales(t-2)  item(t-1)  store(t-1)  sales(t-1)  item(t)  store(t)  \\\n",
              "29   21.333333        1.0         1.0   32.000000        1         1   \n",
              "30   32.000000        1.0         1.0   12.000000        1         1   \n",
              "31   12.000000        1.0         1.0   22.666667        1         1   \n",
              "32   22.666667        1.0         1.0   20.000000        1         1   \n",
              "33   20.000000        1.0         1.0   22.666667        1         1   \n",
              "\n",
              "     sales(t)  item(t+337)  store(t+337)  sales(t+337)  \n",
              "29  12.000000          1.0           2.0     29.333333  \n",
              "30  22.666667          1.0           2.0     42.666667  \n",
              "31  20.000000          1.0           2.0     54.666667  \n",
              "32  22.666667          1.0           2.0     33.333333  \n",
              "33  30.666667          1.0           2.0     54.666667  \n",
              "\n",
              "[5 rows x 93 columns]"
            ],
            "text/html": [
              "\n",
              "  <div id=\"df-a5676855-7d1f-4dd4-9010-71b7263f5186\">\n",
              "    <div class=\"colab-df-container\">\n",
              "      <div>\n",
              "<style scoped>\n",
              "    .dataframe tbody tr th:only-of-type {\n",
              "        vertical-align: middle;\n",
              "    }\n",
              "\n",
              "    .dataframe tbody tr th {\n",
              "        vertical-align: top;\n",
              "    }\n",
              "\n",
              "    .dataframe thead th {\n",
              "        text-align: right;\n",
              "    }\n",
              "</style>\n",
              "<table border=\"1\" class=\"dataframe\">\n",
              "  <thead>\n",
              "    <tr style=\"text-align: right;\">\n",
              "      <th></th>\n",
              "      <th>item(t-29)</th>\n",
              "      <th>store(t-29)</th>\n",
              "      <th>sales(t-29)</th>\n",
              "      <th>item(t-28)</th>\n",
              "      <th>store(t-28)</th>\n",
              "      <th>sales(t-28)</th>\n",
              "      <th>item(t-27)</th>\n",
              "      <th>store(t-27)</th>\n",
              "      <th>sales(t-27)</th>\n",
              "      <th>item(t-26)</th>\n",
              "      <th>...</th>\n",
              "      <th>sales(t-2)</th>\n",
              "      <th>item(t-1)</th>\n",
              "      <th>store(t-1)</th>\n",
              "      <th>sales(t-1)</th>\n",
              "      <th>item(t)</th>\n",
              "      <th>store(t)</th>\n",
              "      <th>sales(t)</th>\n",
              "      <th>item(t+337)</th>\n",
              "      <th>store(t+337)</th>\n",
              "      <th>sales(t+337)</th>\n",
              "    </tr>\n",
              "  </thead>\n",
              "  <tbody>\n",
              "    <tr>\n",
              "      <th>29</th>\n",
              "      <td>1.0</td>\n",
              "      <td>1.0</td>\n",
              "      <td>25.333333</td>\n",
              "      <td>1.0</td>\n",
              "      <td>1.0</td>\n",
              "      <td>20.000000</td>\n",
              "      <td>1.0</td>\n",
              "      <td>1.0</td>\n",
              "      <td>21.333333</td>\n",
              "      <td>1.0</td>\n",
              "      <td>...</td>\n",
              "      <td>21.333333</td>\n",
              "      <td>1.0</td>\n",
              "      <td>1.0</td>\n",
              "      <td>32.000000</td>\n",
              "      <td>1</td>\n",
              "      <td>1</td>\n",
              "      <td>12.000000</td>\n",
              "      <td>1.0</td>\n",
              "      <td>2.0</td>\n",
              "      <td>29.333333</td>\n",
              "    </tr>\n",
              "    <tr>\n",
              "      <th>30</th>\n",
              "      <td>1.0</td>\n",
              "      <td>1.0</td>\n",
              "      <td>20.000000</td>\n",
              "      <td>1.0</td>\n",
              "      <td>1.0</td>\n",
              "      <td>21.333333</td>\n",
              "      <td>1.0</td>\n",
              "      <td>1.0</td>\n",
              "      <td>34.666667</td>\n",
              "      <td>1.0</td>\n",
              "      <td>...</td>\n",
              "      <td>32.000000</td>\n",
              "      <td>1.0</td>\n",
              "      <td>1.0</td>\n",
              "      <td>12.000000</td>\n",
              "      <td>1</td>\n",
              "      <td>1</td>\n",
              "      <td>22.666667</td>\n",
              "      <td>1.0</td>\n",
              "      <td>2.0</td>\n",
              "      <td>42.666667</td>\n",
              "    </tr>\n",
              "    <tr>\n",
              "      <th>31</th>\n",
              "      <td>1.0</td>\n",
              "      <td>1.0</td>\n",
              "      <td>21.333333</td>\n",
              "      <td>1.0</td>\n",
              "      <td>1.0</td>\n",
              "      <td>34.666667</td>\n",
              "      <td>1.0</td>\n",
              "      <td>1.0</td>\n",
              "      <td>20.000000</td>\n",
              "      <td>1.0</td>\n",
              "      <td>...</td>\n",
              "      <td>12.000000</td>\n",
              "      <td>1.0</td>\n",
              "      <td>1.0</td>\n",
              "      <td>22.666667</td>\n",
              "      <td>1</td>\n",
              "      <td>1</td>\n",
              "      <td>20.000000</td>\n",
              "      <td>1.0</td>\n",
              "      <td>2.0</td>\n",
              "      <td>54.666667</td>\n",
              "    </tr>\n",
              "    <tr>\n",
              "      <th>32</th>\n",
              "      <td>1.0</td>\n",
              "      <td>1.0</td>\n",
              "      <td>34.666667</td>\n",
              "      <td>1.0</td>\n",
              "      <td>1.0</td>\n",
              "      <td>20.000000</td>\n",
              "      <td>1.0</td>\n",
              "      <td>1.0</td>\n",
              "      <td>38.666667</td>\n",
              "      <td>1.0</td>\n",
              "      <td>...</td>\n",
              "      <td>22.666667</td>\n",
              "      <td>1.0</td>\n",
              "      <td>1.0</td>\n",
              "      <td>20.000000</td>\n",
              "      <td>1</td>\n",
              "      <td>1</td>\n",
              "      <td>22.666667</td>\n",
              "      <td>1.0</td>\n",
              "      <td>2.0</td>\n",
              "      <td>33.333333</td>\n",
              "    </tr>\n",
              "    <tr>\n",
              "      <th>33</th>\n",
              "      <td>1.0</td>\n",
              "      <td>1.0</td>\n",
              "      <td>20.000000</td>\n",
              "      <td>1.0</td>\n",
              "      <td>1.0</td>\n",
              "      <td>38.666667</td>\n",
              "      <td>1.0</td>\n",
              "      <td>1.0</td>\n",
              "      <td>41.333333</td>\n",
              "      <td>1.0</td>\n",
              "      <td>...</td>\n",
              "      <td>20.000000</td>\n",
              "      <td>1.0</td>\n",
              "      <td>1.0</td>\n",
              "      <td>22.666667</td>\n",
              "      <td>1</td>\n",
              "      <td>1</td>\n",
              "      <td>30.666667</td>\n",
              "      <td>1.0</td>\n",
              "      <td>2.0</td>\n",
              "      <td>54.666667</td>\n",
              "    </tr>\n",
              "  </tbody>\n",
              "</table>\n",
              "<p>5 rows × 93 columns</p>\n",
              "</div>\n",
              "      <button class=\"colab-df-convert\" onclick=\"convertToInteractive('df-a5676855-7d1f-4dd4-9010-71b7263f5186')\"\n",
              "              title=\"Convert this dataframe to an interactive table.\"\n",
              "              style=\"display:none;\">\n",
              "        \n",
              "  <svg xmlns=\"http://www.w3.org/2000/svg\" height=\"24px\"viewBox=\"0 0 24 24\"\n",
              "       width=\"24px\">\n",
              "    <path d=\"M0 0h24v24H0V0z\" fill=\"none\"/>\n",
              "    <path d=\"M18.56 5.44l.94 2.06.94-2.06 2.06-.94-2.06-.94-.94-2.06-.94 2.06-2.06.94zm-11 1L8.5 8.5l.94-2.06 2.06-.94-2.06-.94L8.5 2.5l-.94 2.06-2.06.94zm10 10l.94 2.06.94-2.06 2.06-.94-2.06-.94-.94-2.06-.94 2.06-2.06.94z\"/><path d=\"M17.41 7.96l-1.37-1.37c-.4-.4-.92-.59-1.43-.59-.52 0-1.04.2-1.43.59L10.3 9.45l-7.72 7.72c-.78.78-.78 2.05 0 2.83L4 21.41c.39.39.9.59 1.41.59.51 0 1.02-.2 1.41-.59l7.78-7.78 2.81-2.81c.8-.78.8-2.07 0-2.86zM5.41 20L4 18.59l7.72-7.72 1.47 1.35L5.41 20z\"/>\n",
              "  </svg>\n",
              "      </button>\n",
              "      \n",
              "  <style>\n",
              "    .colab-df-container {\n",
              "      display:flex;\n",
              "      flex-wrap:wrap;\n",
              "      gap: 12px;\n",
              "    }\n",
              "\n",
              "    .colab-df-convert {\n",
              "      background-color: #E8F0FE;\n",
              "      border: none;\n",
              "      border-radius: 50%;\n",
              "      cursor: pointer;\n",
              "      display: none;\n",
              "      fill: #1967D2;\n",
              "      height: 32px;\n",
              "      padding: 0 0 0 0;\n",
              "      width: 32px;\n",
              "    }\n",
              "\n",
              "    .colab-df-convert:hover {\n",
              "      background-color: #E2EBFA;\n",
              "      box-shadow: 0px 1px 2px rgba(60, 64, 67, 0.3), 0px 1px 3px 1px rgba(60, 64, 67, 0.15);\n",
              "      fill: #174EA6;\n",
              "    }\n",
              "\n",
              "    [theme=dark] .colab-df-convert {\n",
              "      background-color: #3B4455;\n",
              "      fill: #D2E3FC;\n",
              "    }\n",
              "\n",
              "    [theme=dark] .colab-df-convert:hover {\n",
              "      background-color: #434B5C;\n",
              "      box-shadow: 0px 1px 3px 1px rgba(0, 0, 0, 0.15);\n",
              "      filter: drop-shadow(0px 1px 2px rgba(0, 0, 0, 0.3));\n",
              "      fill: #FFFFFF;\n",
              "    }\n",
              "  </style>\n",
              "\n",
              "      <script>\n",
              "        const buttonEl =\n",
              "          document.querySelector('#df-a5676855-7d1f-4dd4-9010-71b7263f5186 button.colab-df-convert');\n",
              "        buttonEl.style.display =\n",
              "          google.colab.kernel.accessAllowed ? 'block' : 'none';\n",
              "\n",
              "        async function convertToInteractive(key) {\n",
              "          const element = document.querySelector('#df-a5676855-7d1f-4dd4-9010-71b7263f5186');\n",
              "          const dataTable =\n",
              "            await google.colab.kernel.invokeFunction('convertToInteractive',\n",
              "                                                     [key], {});\n",
              "          if (!dataTable) return;\n",
              "\n",
              "          const docLinkHtml = 'Like what you see? Visit the ' +\n",
              "            '<a target=\"_blank\" href=https://colab.research.google.com/notebooks/data_table.ipynb>data table notebook</a>'\n",
              "            + ' to learn more about interactive tables.';\n",
              "          element.innerHTML = '';\n",
              "          dataTable['output_type'] = 'display_data';\n",
              "          await google.colab.output.renderOutput(dataTable, element);\n",
              "          const docLink = document.createElement('div');\n",
              "          docLink.innerHTML = docLinkHtml;\n",
              "          element.appendChild(docLink);\n",
              "        }\n",
              "      </script>\n",
              "    </div>\n",
              "  </div>\n",
              "  "
            ]
          },
          "metadata": {},
          "execution_count": 19
        }
      ],
      "source": [
        "window = 29\n",
        "lag = lag_size\n",
        "series = series_to_supervised(train_gp.drop('date', axis=1), window=window, lag=lag)\n",
        "series.head()"
      ]
    },
    {
      "cell_type": "markdown",
      "metadata": {
        "id": "1fhDqYv_2SEP"
      },
      "source": [
        "drop items other than the shifted"
      ]
    },
    {
      "cell_type": "code",
      "execution_count": null,
      "metadata": {
        "id": "x7E0_xmc2UhV"
      },
      "outputs": [],
      "source": [
        "last_item = 'item(t-%d)' % window\n",
        "last_store = 'store(t-%d)' % window\n",
        "series = series[(series['store(t)'] == series[last_store])]\n",
        "series = series[(series['item(t)'] == series[last_item])]"
      ]
    },
    {
      "cell_type": "markdown",
      "metadata": {
        "id": "jf3xvHdi2ZrS"
      },
      "source": [
        "Remove unwanted columns\n"
      ]
    },
    {
      "cell_type": "code",
      "execution_count": null,
      "metadata": {
        "id": "cKTKWEnt2csR"
      },
      "outputs": [],
      "source": [
        "columns_to_drop = [('%s(t+%d)' % (col, lag)) for col in ['item', 'store']]\n",
        "for i in range(window, 0, -1):\n",
        "    columns_to_drop += [('%s(t-%d)' % (col, i)) for col in ['item', 'store']]\n",
        "series.drop(columns_to_drop, axis=1, inplace=True)\n",
        "series.drop(['item(t)', 'store(t)'], axis=1, inplace=True)"
      ]
    },
    {
      "cell_type": "markdown",
      "metadata": {
        "id": "DneoROeb2iNC"
      },
      "source": [
        "train validation split"
      ]
    },
    {
      "cell_type": "code",
      "execution_count": null,
      "metadata": {
        "id": "VXaXzOcp2kJh",
        "colab": {
          "base_uri": "https://localhost:8080/",
          "height": 351
        },
        "outputId": "59a20bf9-3edc-4cf2-a2eb-f78fdf33a5b0"
      },
      "outputs": [
        {
          "output_type": "stream",
          "name": "stdout",
          "text": [
            "Train set shape (11894, 30)\n",
            "Validation set shape (7930, 30)\n"
          ]
        },
        {
          "output_type": "execute_result",
          "data": {
            "text/plain": [
              "       sales(t-29)  sales(t-28)  sales(t-27)  sales(t-26)  sales(t-25)  \\\n",
              "12450    14.666667    22.666667    20.000000    18.666667    18.666667   \n",
              "9903     52.000000    44.000000    49.333333    41.333333    37.333333   \n",
              "9944     44.000000    69.333333    64.000000    64.000000    93.333333   \n",
              "21442    46.666667    73.333333    84.000000   120.000000    77.333333   \n",
              "7056    122.666667    92.000000   117.333333   156.000000   112.000000   \n",
              "\n",
              "       sales(t-24)  sales(t-23)  sales(t-22)  sales(t-21)  sales(t-20)  ...  \\\n",
              "12450    14.666667    17.333333    13.333333    16.000000    13.333333  ...   \n",
              "9903     26.666667    45.333333    56.000000    57.333333    56.000000  ...   \n",
              "9944     66.666667    64.000000    77.333333    54.666667    76.000000  ...   \n",
              "21442   129.333333   166.666667    93.333333    97.333333    56.000000  ...   \n",
              "7056    132.000000    58.666667    88.000000   116.000000    53.333333  ...   \n",
              "\n",
              "       sales(t-9)  sales(t-8)  sales(t-7)  sales(t-6)  sales(t-5)  sales(t-4)  \\\n",
              "12450   18.666667   21.333333   28.000000   37.333333   18.666667   30.666667   \n",
              "9903   105.333333   50.666667   73.333333   60.000000   46.666667   40.000000   \n",
              "9944    46.666667   73.333333   64.000000   72.000000  104.000000   36.000000   \n",
              "21442   88.000000  113.333333   98.666667  112.000000   72.000000   86.666667   \n",
              "7056   133.333333   61.333333  109.333333  129.333333   90.666667  101.333333   \n",
              "\n",
              "       sales(t-3)  sales(t-2)  sales(t-1)    sales(t)  \n",
              "12450   36.000000   25.333333   24.000000   18.666667  \n",
              "9903    40.000000   40.000000   61.333333   68.000000  \n",
              "9944    54.666667   57.333333   56.000000   53.333333  \n",
              "21442  108.000000  105.333333  113.333333  104.000000  \n",
              "7056   108.000000  117.333333   54.666667   92.000000  \n",
              "\n",
              "[5 rows x 30 columns]"
            ],
            "text/html": [
              "\n",
              "  <div id=\"df-f32ed8aa-75f9-4599-85ba-14a3b55a7760\">\n",
              "    <div class=\"colab-df-container\">\n",
              "      <div>\n",
              "<style scoped>\n",
              "    .dataframe tbody tr th:only-of-type {\n",
              "        vertical-align: middle;\n",
              "    }\n",
              "\n",
              "    .dataframe tbody tr th {\n",
              "        vertical-align: top;\n",
              "    }\n",
              "\n",
              "    .dataframe thead th {\n",
              "        text-align: right;\n",
              "    }\n",
              "</style>\n",
              "<table border=\"1\" class=\"dataframe\">\n",
              "  <thead>\n",
              "    <tr style=\"text-align: right;\">\n",
              "      <th></th>\n",
              "      <th>sales(t-29)</th>\n",
              "      <th>sales(t-28)</th>\n",
              "      <th>sales(t-27)</th>\n",
              "      <th>sales(t-26)</th>\n",
              "      <th>sales(t-25)</th>\n",
              "      <th>sales(t-24)</th>\n",
              "      <th>sales(t-23)</th>\n",
              "      <th>sales(t-22)</th>\n",
              "      <th>sales(t-21)</th>\n",
              "      <th>sales(t-20)</th>\n",
              "      <th>...</th>\n",
              "      <th>sales(t-9)</th>\n",
              "      <th>sales(t-8)</th>\n",
              "      <th>sales(t-7)</th>\n",
              "      <th>sales(t-6)</th>\n",
              "      <th>sales(t-5)</th>\n",
              "      <th>sales(t-4)</th>\n",
              "      <th>sales(t-3)</th>\n",
              "      <th>sales(t-2)</th>\n",
              "      <th>sales(t-1)</th>\n",
              "      <th>sales(t)</th>\n",
              "    </tr>\n",
              "  </thead>\n",
              "  <tbody>\n",
              "    <tr>\n",
              "      <th>12450</th>\n",
              "      <td>14.666667</td>\n",
              "      <td>22.666667</td>\n",
              "      <td>20.000000</td>\n",
              "      <td>18.666667</td>\n",
              "      <td>18.666667</td>\n",
              "      <td>14.666667</td>\n",
              "      <td>17.333333</td>\n",
              "      <td>13.333333</td>\n",
              "      <td>16.000000</td>\n",
              "      <td>13.333333</td>\n",
              "      <td>...</td>\n",
              "      <td>18.666667</td>\n",
              "      <td>21.333333</td>\n",
              "      <td>28.000000</td>\n",
              "      <td>37.333333</td>\n",
              "      <td>18.666667</td>\n",
              "      <td>30.666667</td>\n",
              "      <td>36.000000</td>\n",
              "      <td>25.333333</td>\n",
              "      <td>24.000000</td>\n",
              "      <td>18.666667</td>\n",
              "    </tr>\n",
              "    <tr>\n",
              "      <th>9903</th>\n",
              "      <td>52.000000</td>\n",
              "      <td>44.000000</td>\n",
              "      <td>49.333333</td>\n",
              "      <td>41.333333</td>\n",
              "      <td>37.333333</td>\n",
              "      <td>26.666667</td>\n",
              "      <td>45.333333</td>\n",
              "      <td>56.000000</td>\n",
              "      <td>57.333333</td>\n",
              "      <td>56.000000</td>\n",
              "      <td>...</td>\n",
              "      <td>105.333333</td>\n",
              "      <td>50.666667</td>\n",
              "      <td>73.333333</td>\n",
              "      <td>60.000000</td>\n",
              "      <td>46.666667</td>\n",
              "      <td>40.000000</td>\n",
              "      <td>40.000000</td>\n",
              "      <td>40.000000</td>\n",
              "      <td>61.333333</td>\n",
              "      <td>68.000000</td>\n",
              "    </tr>\n",
              "    <tr>\n",
              "      <th>9944</th>\n",
              "      <td>44.000000</td>\n",
              "      <td>69.333333</td>\n",
              "      <td>64.000000</td>\n",
              "      <td>64.000000</td>\n",
              "      <td>93.333333</td>\n",
              "      <td>66.666667</td>\n",
              "      <td>64.000000</td>\n",
              "      <td>77.333333</td>\n",
              "      <td>54.666667</td>\n",
              "      <td>76.000000</td>\n",
              "      <td>...</td>\n",
              "      <td>46.666667</td>\n",
              "      <td>73.333333</td>\n",
              "      <td>64.000000</td>\n",
              "      <td>72.000000</td>\n",
              "      <td>104.000000</td>\n",
              "      <td>36.000000</td>\n",
              "      <td>54.666667</td>\n",
              "      <td>57.333333</td>\n",
              "      <td>56.000000</td>\n",
              "      <td>53.333333</td>\n",
              "    </tr>\n",
              "    <tr>\n",
              "      <th>21442</th>\n",
              "      <td>46.666667</td>\n",
              "      <td>73.333333</td>\n",
              "      <td>84.000000</td>\n",
              "      <td>120.000000</td>\n",
              "      <td>77.333333</td>\n",
              "      <td>129.333333</td>\n",
              "      <td>166.666667</td>\n",
              "      <td>93.333333</td>\n",
              "      <td>97.333333</td>\n",
              "      <td>56.000000</td>\n",
              "      <td>...</td>\n",
              "      <td>88.000000</td>\n",
              "      <td>113.333333</td>\n",
              "      <td>98.666667</td>\n",
              "      <td>112.000000</td>\n",
              "      <td>72.000000</td>\n",
              "      <td>86.666667</td>\n",
              "      <td>108.000000</td>\n",
              "      <td>105.333333</td>\n",
              "      <td>113.333333</td>\n",
              "      <td>104.000000</td>\n",
              "    </tr>\n",
              "    <tr>\n",
              "      <th>7056</th>\n",
              "      <td>122.666667</td>\n",
              "      <td>92.000000</td>\n",
              "      <td>117.333333</td>\n",
              "      <td>156.000000</td>\n",
              "      <td>112.000000</td>\n",
              "      <td>132.000000</td>\n",
              "      <td>58.666667</td>\n",
              "      <td>88.000000</td>\n",
              "      <td>116.000000</td>\n",
              "      <td>53.333333</td>\n",
              "      <td>...</td>\n",
              "      <td>133.333333</td>\n",
              "      <td>61.333333</td>\n",
              "      <td>109.333333</td>\n",
              "      <td>129.333333</td>\n",
              "      <td>90.666667</td>\n",
              "      <td>101.333333</td>\n",
              "      <td>108.000000</td>\n",
              "      <td>117.333333</td>\n",
              "      <td>54.666667</td>\n",
              "      <td>92.000000</td>\n",
              "    </tr>\n",
              "  </tbody>\n",
              "</table>\n",
              "<p>5 rows × 30 columns</p>\n",
              "</div>\n",
              "      <button class=\"colab-df-convert\" onclick=\"convertToInteractive('df-f32ed8aa-75f9-4599-85ba-14a3b55a7760')\"\n",
              "              title=\"Convert this dataframe to an interactive table.\"\n",
              "              style=\"display:none;\">\n",
              "        \n",
              "  <svg xmlns=\"http://www.w3.org/2000/svg\" height=\"24px\"viewBox=\"0 0 24 24\"\n",
              "       width=\"24px\">\n",
              "    <path d=\"M0 0h24v24H0V0z\" fill=\"none\"/>\n",
              "    <path d=\"M18.56 5.44l.94 2.06.94-2.06 2.06-.94-2.06-.94-.94-2.06-.94 2.06-2.06.94zm-11 1L8.5 8.5l.94-2.06 2.06-.94-2.06-.94L8.5 2.5l-.94 2.06-2.06.94zm10 10l.94 2.06.94-2.06 2.06-.94-2.06-.94-.94-2.06-.94 2.06-2.06.94z\"/><path d=\"M17.41 7.96l-1.37-1.37c-.4-.4-.92-.59-1.43-.59-.52 0-1.04.2-1.43.59L10.3 9.45l-7.72 7.72c-.78.78-.78 2.05 0 2.83L4 21.41c.39.39.9.59 1.41.59.51 0 1.02-.2 1.41-.59l7.78-7.78 2.81-2.81c.8-.78.8-2.07 0-2.86zM5.41 20L4 18.59l7.72-7.72 1.47 1.35L5.41 20z\"/>\n",
              "  </svg>\n",
              "      </button>\n",
              "      \n",
              "  <style>\n",
              "    .colab-df-container {\n",
              "      display:flex;\n",
              "      flex-wrap:wrap;\n",
              "      gap: 12px;\n",
              "    }\n",
              "\n",
              "    .colab-df-convert {\n",
              "      background-color: #E8F0FE;\n",
              "      border: none;\n",
              "      border-radius: 50%;\n",
              "      cursor: pointer;\n",
              "      display: none;\n",
              "      fill: #1967D2;\n",
              "      height: 32px;\n",
              "      padding: 0 0 0 0;\n",
              "      width: 32px;\n",
              "    }\n",
              "\n",
              "    .colab-df-convert:hover {\n",
              "      background-color: #E2EBFA;\n",
              "      box-shadow: 0px 1px 2px rgba(60, 64, 67, 0.3), 0px 1px 3px 1px rgba(60, 64, 67, 0.15);\n",
              "      fill: #174EA6;\n",
              "    }\n",
              "\n",
              "    [theme=dark] .colab-df-convert {\n",
              "      background-color: #3B4455;\n",
              "      fill: #D2E3FC;\n",
              "    }\n",
              "\n",
              "    [theme=dark] .colab-df-convert:hover {\n",
              "      background-color: #434B5C;\n",
              "      box-shadow: 0px 1px 3px 1px rgba(0, 0, 0, 0.15);\n",
              "      filter: drop-shadow(0px 1px 2px rgba(0, 0, 0, 0.3));\n",
              "      fill: #FFFFFF;\n",
              "    }\n",
              "  </style>\n",
              "\n",
              "      <script>\n",
              "        const buttonEl =\n",
              "          document.querySelector('#df-f32ed8aa-75f9-4599-85ba-14a3b55a7760 button.colab-df-convert');\n",
              "        buttonEl.style.display =\n",
              "          google.colab.kernel.accessAllowed ? 'block' : 'none';\n",
              "\n",
              "        async function convertToInteractive(key) {\n",
              "          const element = document.querySelector('#df-f32ed8aa-75f9-4599-85ba-14a3b55a7760');\n",
              "          const dataTable =\n",
              "            await google.colab.kernel.invokeFunction('convertToInteractive',\n",
              "                                                     [key], {});\n",
              "          if (!dataTable) return;\n",
              "\n",
              "          const docLinkHtml = 'Like what you see? Visit the ' +\n",
              "            '<a target=\"_blank\" href=https://colab.research.google.com/notebooks/data_table.ipynb>data table notebook</a>'\n",
              "            + ' to learn more about interactive tables.';\n",
              "          element.innerHTML = '';\n",
              "          dataTable['output_type'] = 'display_data';\n",
              "          await google.colab.output.renderOutput(dataTable, element);\n",
              "          const docLink = document.createElement('div');\n",
              "          docLink.innerHTML = docLinkHtml;\n",
              "          element.appendChild(docLink);\n",
              "        }\n",
              "      </script>\n",
              "    </div>\n",
              "  </div>\n",
              "  "
            ]
          },
          "metadata": {},
          "execution_count": 22
        }
      ],
      "source": [
        "labels_col = 'sales(t+%d)' % lag_size\n",
        "labels = series[labels_col]\n",
        "series = series.drop(labels_col, axis=1)\n",
        "\n",
        "X_train, X_valid, Y_train, Y_valid = train_test_split(series, labels.values, test_size=0.4, random_state=0)\n",
        "print('Train set shape', X_train.shape)\n",
        "print('Validation set shape', X_valid.shape)\n",
        "X_train.head()"
      ]
    },
    {
      "cell_type": "code",
      "execution_count": null,
      "metadata": {
        "id": "3faEtpfz2klh"
      },
      "outputs": [],
      "source": [
        "from keras import optimizers\n",
        "epochs = 200\n",
        "batch = 32\n",
        "lr = 0.01"
      ]
    },
    {
      "cell_type": "markdown",
      "metadata": {
        "id": "bBQ6LqMF2r12"
      },
      "source": [
        "For CNN parameters(samples,timesteps,features)"
      ]
    },
    {
      "cell_type": "code",
      "execution_count": null,
      "metadata": {
        "id": "NWe28gtK2sv1",
        "colab": {
          "base_uri": "https://localhost:8080/"
        },
        "outputId": "c9784e34-5a94-4cbc-9c63-447f7240702e"
      },
      "outputs": [
        {
          "output_type": "stream",
          "name": "stdout",
          "text": [
            "Train set shape (11894, 30, 1)\n",
            "Validation set shape (7930, 30, 1)\n"
          ]
        }
      ],
      "source": [
        "X_train_series = X_train.values.reshape((X_train.shape[0], X_train.shape[1], 1))\n",
        "X_valid_series = X_valid.values.reshape((X_valid.shape[0], X_valid.shape[1], 1))\n",
        "print('Train set shape', X_train_series.shape)\n",
        "print('Validation set shape', X_valid_series.shape)"
      ]
    },
    {
      "cell_type": "code",
      "execution_count": null,
      "metadata": {
        "id": "_eE3X8jk2teF",
        "colab": {
          "base_uri": "https://localhost:8080/"
        },
        "outputId": "eef3e4c5-a46e-4064-bcbe-76dd021b6eaf"
      },
      "outputs": [
        {
          "output_type": "stream",
          "name": "stdout",
          "text": [
            "Model: \"sequential\"\n",
            "_________________________________________________________________\n",
            " Layer (type)                Output Shape              Param #   \n",
            "=================================================================\n",
            " conv1d (Conv1D)             (None, 29, 32)            96        \n",
            "                                                                 \n",
            " max_pooling1d (MaxPooling1D  (None, 14, 32)           0         \n",
            " )                                                               \n",
            "                                                                 \n",
            " flatten (Flatten)           (None, 448)               0         \n",
            "                                                                 \n",
            " dense (Dense)               (None, 50)                22450     \n",
            "                                                                 \n",
            " dropout (Dropout)           (None, 50)                0         \n",
            "                                                                 \n",
            " dense_1 (Dense)             (None, 1)                 51        \n",
            "                                                                 \n",
            "=================================================================\n",
            "Total params: 22,597\n",
            "Trainable params: 22,597\n",
            "Non-trainable params: 0\n",
            "_________________________________________________________________\n"
          ]
        }
      ],
      "source": [
        "from keras.layers import Conv1D, MaxPooling1D, Flatten, Dense, LSTM, Dropout, Reshape, TimeDistributed\n",
        "from keras import optimizers\n",
        "model_cnn = Sequential()\n",
        "model_cnn.add(Conv1D(filters=32, kernel_size=2, activation='swish', input_shape=(X_train_series.shape[1], X_train_series.shape[2])))\n",
        "model_cnn.add(MaxPooling1D(pool_size=2))\n",
        "model_cnn.add(Flatten())\n",
        "model_cnn.add(Dense(50, activation='swish'))\n",
        "model_cnn.add(Dropout(0.5))\n",
        "model_cnn.add(Dense(1))\n",
        "from tensorflow_addons.optimizers import LazyAdam\n",
        "opt = LazyAdam(lr)\n",
        "model_cnn.compile(loss='mse', optimizer=opt)\n",
        "model_cnn.summary()"
      ]
    },
    {
      "cell_type": "markdown",
      "metadata": {
        "id": "P-syH7Iw2_Pu"
      },
      "source": [
        "BiLstm"
      ]
    },
    {
      "cell_type": "code",
      "execution_count": null,
      "metadata": {
        "id": "EPdmdn5d3AId",
        "colab": {
          "base_uri": "https://localhost:8080/"
        },
        "outputId": "e6db5b4f-bbe9-43b5-cee5-8a61a1cf0ca6"
      },
      "outputs": [
        {
          "output_type": "stream",
          "name": "stderr",
          "text": [
            "WARNING:tensorflow:Layer lstm will not use cuDNN kernels since it doesn't meet the criteria. It will use a generic GPU kernel as fallback when running on GPU.\n",
            "WARNING:tensorflow:Layer lstm will not use cuDNN kernels since it doesn't meet the criteria. It will use a generic GPU kernel as fallback when running on GPU.\n",
            "WARNING:tensorflow:Layer lstm will not use cuDNN kernels since it doesn't meet the criteria. It will use a generic GPU kernel as fallback when running on GPU.\n"
          ]
        },
        {
          "output_type": "stream",
          "name": "stdout",
          "text": [
            "Model: \"sequential_1\"\n",
            "_________________________________________________________________\n",
            " Layer (type)                Output Shape              Param #   \n",
            "=================================================================\n",
            " bidirectional (Bidirectiona  (None, 64)               8704      \n",
            " l)                                                              \n",
            "                                                                 \n",
            " dense_2 (Dense)             (None, 1)                 65        \n",
            "                                                                 \n",
            "=================================================================\n",
            "Total params: 8,769\n",
            "Trainable params: 8,769\n",
            "Non-trainable params: 0\n",
            "_________________________________________________________________\n"
          ]
        }
      ],
      "source": [
        "from tensorflow.keras.models import Sequential\n",
        "from tensorflow.keras.layers import LSTM, Bidirectional, Dense\n",
        "\n",
        "model_bilstm = Sequential()\n",
        "model_bilstm.add(Bidirectional(LSTM(32, activation='swish'), input_shape=(X_train_series.shape[1], X_train_series.shape[2])))\n",
        "model_bilstm.add(Dense(1))\n",
        "from tensorflow_addons.optimizers import LazyAdam\n",
        "opt = LazyAdam(lr)\n",
        "model_bilstm.compile(loss='mse', optimizer=opt)\n",
        "model_bilstm.summary()\n"
      ]
    },
    {
      "cell_type": "markdown",
      "metadata": {
        "id": "YIwL_O933Dy2"
      },
      "source": [
        "CNN-BiLSTM [sample,subsequences,timesteps,features]"
      ]
    },
    {
      "cell_type": "code",
      "execution_count": null,
      "metadata": {
        "id": "6M9HIsAo3NGs",
        "colab": {
          "base_uri": "https://localhost:8080/"
        },
        "outputId": "b8bd5be0-4b3b-49cd-be80-5bd7c8ca62c6"
      },
      "outputs": [
        {
          "output_type": "stream",
          "name": "stdout",
          "text": [
            "Train set shape (11894, 2, 15, 1)\n",
            "Validation set shape (7930, 2, 15, 1)\n"
          ]
        }
      ],
      "source": [
        "subsequences = 2\n",
        "timesteps = X_train_series.shape[1]//subsequences\n",
        "X_train_series_sub = X_train_series.reshape((X_train_series.shape[0], subsequences, timesteps, 1))\n",
        "X_valid_series_sub = X_valid_series.reshape((X_valid_series.shape[0], subsequences, timesteps, 1))\n",
        "print('Train set shape', X_train_series_sub.shape)\n",
        "print('Validation set shape', X_valid_series_sub.shape)"
      ]
    },
    {
      "cell_type": "code",
      "execution_count": null,
      "metadata": {
        "id": "kHnfLtxx3Qot",
        "colab": {
          "base_uri": "https://localhost:8080/"
        },
        "outputId": "2d12f49d-3df4-4924-d9a5-b2dae56c5730"
      },
      "outputs": [
        {
          "output_type": "stream",
          "name": "stderr",
          "text": [
            "WARNING:tensorflow:Layer lstm_1 will not use cuDNN kernels since it doesn't meet the criteria. It will use a generic GPU kernel as fallback when running on GPU.\n",
            "WARNING:tensorflow:Layer lstm_1 will not use cuDNN kernels since it doesn't meet the criteria. It will use a generic GPU kernel as fallback when running on GPU.\n",
            "WARNING:tensorflow:Layer lstm_1 will not use cuDNN kernels since it doesn't meet the criteria. It will use a generic GPU kernel as fallback when running on GPU.\n"
          ]
        },
        {
          "output_type": "stream",
          "name": "stdout",
          "text": [
            "Model: \"sequential_2\"\n",
            "_________________________________________________________________\n",
            " Layer (type)                Output Shape              Param #   \n",
            "=================================================================\n",
            " time_distributed (TimeDistr  (None, None, 15, 32)     64        \n",
            " ibuted)                                                         \n",
            "                                                                 \n",
            " time_distributed_1 (TimeDis  (None, None, 7, 32)      0         \n",
            " tributed)                                                       \n",
            "                                                                 \n",
            " time_distributed_2 (TimeDis  (None, None, 224)        0         \n",
            " tributed)                                                       \n",
            "                                                                 \n",
            " bidirectional_1 (Bidirectio  (None, 64)               65792     \n",
            " nal)                                                            \n",
            "                                                                 \n",
            " dropout_1 (Dropout)         (None, 64)                0         \n",
            "                                                                 \n",
            " dense_3 (Dense)             (None, 1)                 65        \n",
            "                                                                 \n",
            "=================================================================\n",
            "Total params: 65,921\n",
            "Trainable params: 65,921\n",
            "Non-trainable params: 0\n",
            "_________________________________________________________________\n"
          ]
        }
      ],
      "source": [
        "\n",
        "from tensorflow.keras.models import Sequential\n",
        "from tensorflow.keras.layers import Conv1D, MaxPooling1D, Flatten, TimeDistributed, Bidirectional, LSTM, Dense\n",
        "\n",
        "model_cnn_bilstm = Sequential()\n",
        "model_cnn_bilstm.add(TimeDistributed(Conv1D(filters=32, kernel_size=1, activation='swish'), input_shape=(None, X_train_series_sub.shape[2], X_train_series_sub.shape[3])))\n",
        "model_cnn_bilstm.add(TimeDistributed(MaxPooling1D(pool_size=2)))\n",
        "model_cnn_bilstm.add(TimeDistributed(Flatten()))\n",
        "model_cnn_bilstm.add(Bidirectional(LSTM(32, activation='swish')))\n",
        "model_cnn_bilstm.add(Dropout(0.5))\n",
        "model_cnn_bilstm.add(Dense(1))\n",
        "model_cnn_bilstm.compile(loss='mse', optimizer= tfa.optimizers.LazyAdam())\n",
        "model_cnn_bilstm.summary()"
      ]
    },
    {
      "cell_type": "code",
      "execution_count": null,
      "metadata": {
        "id": "uVKZdXqh3UuM",
        "colab": {
          "base_uri": "https://localhost:8080/"
        },
        "outputId": "f3e472bb-e9b5-47b0-c37e-4e3118701dad"
      },
      "outputs": [
        {
          "output_type": "stream",
          "name": "stdout",
          "text": [
            "Epoch 1/200\n",
            "372/372 - 22s - loss: 825.2521 - val_loss: 510.4774 - 22s/epoch - 60ms/step\n",
            "Epoch 2/200\n",
            "372/372 - 6s - loss: 768.3219 - val_loss: 586.6039 - 6s/epoch - 15ms/step\n",
            "Epoch 3/200\n",
            "372/372 - 5s - loss: 754.5824 - val_loss: 511.6716 - 5s/epoch - 15ms/step\n",
            "Epoch 4/200\n",
            "372/372 - 5s - loss: 734.4312 - val_loss: 505.0944 - 5s/epoch - 13ms/step\n",
            "Epoch 5/200\n",
            "372/372 - 6s - loss: 714.9130 - val_loss: 507.3337 - 6s/epoch - 16ms/step\n",
            "Epoch 6/200\n",
            "372/372 - 5s - loss: 717.6580 - val_loss: 493.6631 - 5s/epoch - 13ms/step\n",
            "Epoch 7/200\n",
            "372/372 - 6s - loss: 715.8431 - val_loss: 563.3133 - 6s/epoch - 17ms/step\n",
            "Epoch 8/200\n",
            "372/372 - 5s - loss: 730.7555 - val_loss: 497.2011 - 5s/epoch - 13ms/step\n",
            "Epoch 9/200\n",
            "372/372 - 6s - loss: 732.3395 - val_loss: 515.7310 - 6s/epoch - 16ms/step\n",
            "Epoch 10/200\n",
            "372/372 - 5s - loss: 713.4568 - val_loss: 494.1480 - 5s/epoch - 13ms/step\n",
            "Epoch 11/200\n",
            "372/372 - 6s - loss: 699.5738 - val_loss: 550.9177 - 6s/epoch - 15ms/step\n",
            "Epoch 12/200\n",
            "372/372 - 6s - loss: 710.5250 - val_loss: 509.1622 - 6s/epoch - 15ms/step\n",
            "Epoch 13/200\n",
            "372/372 - 5s - loss: 705.2399 - val_loss: 499.7335 - 5s/epoch - 13ms/step\n",
            "Epoch 14/200\n",
            "372/372 - 6s - loss: 705.1709 - val_loss: 502.6554 - 6s/epoch - 17ms/step\n",
            "Epoch 15/200\n",
            "372/372 - 5s - loss: 680.4214 - val_loss: 508.1981 - 5s/epoch - 13ms/step\n",
            "Epoch 16/200\n",
            "372/372 - 6s - loss: 682.1083 - val_loss: 499.2922 - 6s/epoch - 17ms/step\n",
            "Epoch 17/200\n",
            "372/372 - 6s - loss: 711.8069 - val_loss: 552.0959 - 6s/epoch - 17ms/step\n",
            "Epoch 18/200\n",
            "372/372 - 6s - loss: 684.1823 - val_loss: 507.5830 - 6s/epoch - 17ms/step\n",
            "Epoch 19/200\n",
            "372/372 - 5s - loss: 682.1907 - val_loss: 524.1817 - 5s/epoch - 13ms/step\n",
            "Epoch 20/200\n",
            "372/372 - 6s - loss: 690.3833 - val_loss: 490.0913 - 6s/epoch - 17ms/step\n",
            "Epoch 21/200\n",
            "372/372 - 5s - loss: 693.0676 - val_loss: 502.7770 - 5s/epoch - 13ms/step\n",
            "Epoch 22/200\n",
            "372/372 - 5s - loss: 690.2981 - val_loss: 495.6725 - 5s/epoch - 13ms/step\n",
            "Epoch 23/200\n",
            "372/372 - 6s - loss: 694.5344 - val_loss: 510.4346 - 6s/epoch - 15ms/step\n",
            "Epoch 24/200\n",
            "372/372 - 5s - loss: 692.9574 - val_loss: 529.2610 - 5s/epoch - 13ms/step\n",
            "Epoch 25/200\n",
            "372/372 - 6s - loss: 688.1782 - val_loss: 528.7916 - 6s/epoch - 17ms/step\n",
            "Epoch 26/200\n",
            "372/372 - 5s - loss: 681.2319 - val_loss: 512.3689 - 5s/epoch - 13ms/step\n",
            "Epoch 27/200\n",
            "372/372 - 6s - loss: 692.2889 - val_loss: 574.4631 - 6s/epoch - 16ms/step\n",
            "Epoch 28/200\n",
            "372/372 - 5s - loss: 695.2343 - val_loss: 494.0928 - 5s/epoch - 13ms/step\n",
            "Epoch 29/200\n",
            "372/372 - 6s - loss: 672.7479 - val_loss: 486.0948 - 6s/epoch - 17ms/step\n",
            "Epoch 30/200\n",
            "372/372 - 5s - loss: 668.0812 - val_loss: 509.3590 - 5s/epoch - 13ms/step\n",
            "Epoch 31/200\n",
            "372/372 - 5s - loss: 674.2333 - val_loss: 544.7243 - 5s/epoch - 13ms/step\n",
            "Epoch 32/200\n",
            "372/372 - 6s - loss: 681.7667 - val_loss: 494.5412 - 6s/epoch - 17ms/step\n",
            "Epoch 33/200\n",
            "372/372 - 5s - loss: 680.4513 - val_loss: 514.3749 - 5s/epoch - 13ms/step\n",
            "Epoch 34/200\n",
            "372/372 - 6s - loss: 677.0746 - val_loss: 526.5414 - 6s/epoch - 17ms/step\n",
            "Epoch 35/200\n",
            "372/372 - 5s - loss: 656.7191 - val_loss: 508.4637 - 5s/epoch - 13ms/step\n",
            "Epoch 36/200\n",
            "372/372 - 6s - loss: 668.3647 - val_loss: 501.1231 - 6s/epoch - 17ms/step\n",
            "Epoch 37/200\n",
            "372/372 - 5s - loss: 658.2675 - val_loss: 522.3801 - 5s/epoch - 13ms/step\n",
            "Epoch 38/200\n",
            "372/372 - 6s - loss: 665.4666 - val_loss: 499.4904 - 6s/epoch - 16ms/step\n",
            "Epoch 39/200\n",
            "372/372 - 5s - loss: 657.0463 - val_loss: 524.7747 - 5s/epoch - 13ms/step\n",
            "Epoch 40/200\n",
            "372/372 - 5s - loss: 664.3241 - val_loss: 490.1810 - 5s/epoch - 13ms/step\n",
            "Epoch 41/200\n",
            "372/372 - 6s - loss: 652.1807 - val_loss: 508.0936 - 6s/epoch - 17ms/step\n",
            "Epoch 42/200\n",
            "372/372 - 5s - loss: 646.3351 - val_loss: 493.2729 - 5s/epoch - 13ms/step\n",
            "Epoch 43/200\n",
            "372/372 - 6s - loss: 648.3862 - val_loss: 483.3571 - 6s/epoch - 17ms/step\n",
            "Epoch 44/200\n",
            "372/372 - 5s - loss: 632.9145 - val_loss: 521.1180 - 5s/epoch - 13ms/step\n",
            "Epoch 45/200\n",
            "372/372 - 6s - loss: 628.4839 - val_loss: 485.0776 - 6s/epoch - 16ms/step\n",
            "Epoch 46/200\n",
            "372/372 - 5s - loss: 604.5115 - val_loss: 481.8317 - 5s/epoch - 13ms/step\n",
            "Epoch 47/200\n",
            "372/372 - 6s - loss: 607.8840 - val_loss: 489.3112 - 6s/epoch - 15ms/step\n",
            "Epoch 48/200\n",
            "372/372 - 5s - loss: 606.0165 - val_loss: 491.7346 - 5s/epoch - 14ms/step\n",
            "Epoch 49/200\n",
            "372/372 - 5s - loss: 598.6342 - val_loss: 485.7066 - 5s/epoch - 13ms/step\n",
            "Epoch 50/200\n",
            "372/372 - 6s - loss: 603.6967 - val_loss: 478.1172 - 6s/epoch - 16ms/step\n",
            "Epoch 51/200\n",
            "372/372 - 5s - loss: 579.6511 - val_loss: 476.4729 - 5s/epoch - 13ms/step\n",
            "Epoch 52/200\n",
            "372/372 - 6s - loss: 577.1395 - val_loss: 479.8966 - 6s/epoch - 16ms/step\n",
            "Epoch 53/200\n",
            "372/372 - 5s - loss: 568.6569 - val_loss: 486.1486 - 5s/epoch - 13ms/step\n",
            "Epoch 54/200\n",
            "372/372 - 6s - loss: 572.0370 - val_loss: 488.6867 - 6s/epoch - 17ms/step\n",
            "Epoch 55/200\n",
            "372/372 - 5s - loss: 565.4119 - val_loss: 472.8968 - 5s/epoch - 13ms/step\n",
            "Epoch 56/200\n",
            "372/372 - 5s - loss: 560.9070 - val_loss: 477.5997 - 5s/epoch - 15ms/step\n",
            "Epoch 57/200\n",
            "372/372 - 5s - loss: 560.3755 - val_loss: 470.0811 - 5s/epoch - 14ms/step\n",
            "Epoch 58/200\n",
            "372/372 - 5s - loss: 548.2057 - val_loss: 468.8111 - 5s/epoch - 13ms/step\n",
            "Epoch 59/200\n",
            "372/372 - 6s - loss: 549.5559 - val_loss: 469.7112 - 6s/epoch - 16ms/step\n",
            "Epoch 60/200\n",
            "372/372 - 5s - loss: 541.0248 - val_loss: 466.8348 - 5s/epoch - 13ms/step\n",
            "Epoch 61/200\n",
            "372/372 - 6s - loss: 536.0312 - val_loss: 496.3033 - 6s/epoch - 16ms/step\n",
            "Epoch 62/200\n",
            "372/372 - 5s - loss: 541.7247 - val_loss: 474.3179 - 5s/epoch - 13ms/step\n",
            "Epoch 63/200\n",
            "372/372 - 6s - loss: 528.8602 - val_loss: 479.7023 - 6s/epoch - 16ms/step\n",
            "Epoch 64/200\n",
            "372/372 - 5s - loss: 527.2506 - val_loss: 476.4073 - 5s/epoch - 13ms/step\n",
            "Epoch 65/200\n",
            "372/372 - 5s - loss: 531.0437 - val_loss: 469.5397 - 5s/epoch - 13ms/step\n",
            "Epoch 66/200\n",
            "372/372 - 6s - loss: 523.9463 - val_loss: 465.7866 - 6s/epoch - 17ms/step\n",
            "Epoch 67/200\n",
            "372/372 - 5s - loss: 517.5173 - val_loss: 462.7820 - 5s/epoch - 13ms/step\n",
            "Epoch 68/200\n",
            "372/372 - 6s - loss: 521.7060 - val_loss: 483.0685 - 6s/epoch - 16ms/step\n",
            "Epoch 69/200\n",
            "372/372 - 5s - loss: 524.7922 - val_loss: 476.6560 - 5s/epoch - 13ms/step\n",
            "Epoch 70/200\n",
            "372/372 - 6s - loss: 519.6371 - val_loss: 465.2737 - 6s/epoch - 16ms/step\n",
            "Epoch 71/200\n",
            "372/372 - 5s - loss: 517.2253 - val_loss: 485.6378 - 5s/epoch - 13ms/step\n",
            "Epoch 72/200\n",
            "372/372 - 5s - loss: 519.9518 - val_loss: 468.1017 - 5s/epoch - 15ms/step\n",
            "Epoch 73/200\n",
            "372/372 - 5s - loss: 507.3242 - val_loss: 464.8180 - 5s/epoch - 14ms/step\n",
            "Epoch 74/200\n",
            "372/372 - 5s - loss: 520.2167 - val_loss: 466.9692 - 5s/epoch - 13ms/step\n",
            "Epoch 75/200\n",
            "372/372 - 6s - loss: 515.2202 - val_loss: 465.0168 - 6s/epoch - 17ms/step\n",
            "Epoch 76/200\n",
            "372/372 - 5s - loss: 508.7701 - val_loss: 461.7995 - 5s/epoch - 13ms/step\n",
            "Epoch 77/200\n",
            "372/372 - 6s - loss: 516.6429 - val_loss: 463.3014 - 6s/epoch - 17ms/step\n",
            "Epoch 78/200\n",
            "372/372 - 5s - loss: 509.8267 - val_loss: 462.6911 - 5s/epoch - 13ms/step\n",
            "Epoch 79/200\n",
            "372/372 - 6s - loss: 511.0315 - val_loss: 467.6163 - 6s/epoch - 17ms/step\n",
            "Epoch 80/200\n",
            "372/372 - 5s - loss: 513.6643 - val_loss: 470.2885 - 5s/epoch - 13ms/step\n",
            "Epoch 81/200\n",
            "372/372 - 5s - loss: 504.2659 - val_loss: 488.5714 - 5s/epoch - 14ms/step\n",
            "Epoch 82/200\n",
            "372/372 - 6s - loss: 502.5882 - val_loss: 467.8206 - 6s/epoch - 15ms/step\n",
            "Epoch 83/200\n",
            "372/372 - 5s - loss: 501.5193 - val_loss: 462.1631 - 5s/epoch - 13ms/step\n",
            "Epoch 84/200\n",
            "372/372 - 6s - loss: 507.9072 - val_loss: 462.4876 - 6s/epoch - 16ms/step\n",
            "Epoch 85/200\n",
            "372/372 - 5s - loss: 505.7340 - val_loss: 463.4390 - 5s/epoch - 13ms/step\n",
            "Epoch 86/200\n",
            "372/372 - 6s - loss: 498.9056 - val_loss: 472.6119 - 6s/epoch - 16ms/step\n",
            "Epoch 87/200\n",
            "372/372 - 5s - loss: 498.1866 - val_loss: 468.8788 - 5s/epoch - 13ms/step\n",
            "Epoch 88/200\n",
            "372/372 - 5s - loss: 500.0568 - val_loss: 465.1208 - 5s/epoch - 14ms/step\n",
            "Epoch 89/200\n",
            "372/372 - 6s - loss: 483.4804 - val_loss: 464.8835 - 6s/epoch - 15ms/step\n",
            "Epoch 90/200\n",
            "372/372 - 5s - loss: 493.9599 - val_loss: 470.8250 - 5s/epoch - 13ms/step\n",
            "Epoch 91/200\n",
            "372/372 - 6s - loss: 500.9435 - val_loss: 470.5209 - 6s/epoch - 16ms/step\n",
            "Epoch 92/200\n",
            "372/372 - 5s - loss: 497.2430 - val_loss: 480.8783 - 5s/epoch - 13ms/step\n",
            "Epoch 93/200\n",
            "372/372 - 6s - loss: 495.5863 - val_loss: 485.0981 - 6s/epoch - 16ms/step\n",
            "Epoch 94/200\n",
            "372/372 - 5s - loss: 493.3380 - val_loss: 464.5120 - 5s/epoch - 13ms/step\n",
            "Epoch 95/200\n",
            "372/372 - 6s - loss: 492.9748 - val_loss: 463.1755 - 6s/epoch - 16ms/step\n",
            "Epoch 96/200\n",
            "372/372 - 5s - loss: 493.1716 - val_loss: 465.8547 - 5s/epoch - 13ms/step\n",
            "Epoch 97/200\n",
            "372/372 - 5s - loss: 483.9646 - val_loss: 478.4981 - 5s/epoch - 13ms/step\n",
            "Epoch 98/200\n",
            "372/372 - 6s - loss: 494.9092 - val_loss: 488.8410 - 6s/epoch - 16ms/step\n",
            "Epoch 99/200\n",
            "372/372 - 5s - loss: 485.1440 - val_loss: 482.0504 - 5s/epoch - 13ms/step\n",
            "Epoch 100/200\n",
            "372/372 - 6s - loss: 482.6695 - val_loss: 466.7111 - 6s/epoch - 16ms/step\n",
            "Epoch 101/200\n",
            "372/372 - 5s - loss: 487.8795 - val_loss: 466.0345 - 5s/epoch - 13ms/step\n",
            "Epoch 102/200\n",
            "372/372 - 6s - loss: 484.9029 - val_loss: 462.0732 - 6s/epoch - 16ms/step\n",
            "Epoch 103/200\n",
            "372/372 - 5s - loss: 478.7652 - val_loss: 463.2354 - 5s/epoch - 13ms/step\n",
            "Epoch 104/200\n",
            "372/372 - 5s - loss: 479.0663 - val_loss: 462.7284 - 5s/epoch - 13ms/step\n",
            "Epoch 105/200\n",
            "372/372 - 6s - loss: 489.0010 - val_loss: 470.8041 - 6s/epoch - 17ms/step\n",
            "Epoch 106/200\n",
            "372/372 - 5s - loss: 475.8633 - val_loss: 461.1006 - 5s/epoch - 13ms/step\n",
            "Epoch 107/200\n",
            "372/372 - 6s - loss: 480.0671 - val_loss: 464.1586 - 6s/epoch - 16ms/step\n",
            "Epoch 108/200\n",
            "372/372 - 5s - loss: 481.0319 - val_loss: 465.2242 - 5s/epoch - 13ms/step\n",
            "Epoch 109/200\n",
            "372/372 - 6s - loss: 477.1079 - val_loss: 464.9075 - 6s/epoch - 17ms/step\n",
            "Epoch 110/200\n",
            "372/372 - 5s - loss: 479.0390 - val_loss: 465.1422 - 5s/epoch - 13ms/step\n",
            "Epoch 111/200\n",
            "372/372 - 5s - loss: 482.9449 - val_loss: 471.4951 - 5s/epoch - 14ms/step\n",
            "Epoch 112/200\n",
            "372/372 - 6s - loss: 480.4456 - val_loss: 464.8918 - 6s/epoch - 15ms/step\n",
            "Epoch 113/200\n",
            "372/372 - 5s - loss: 477.9157 - val_loss: 462.5508 - 5s/epoch - 13ms/step\n",
            "Epoch 114/200\n",
            "372/372 - 6s - loss: 478.8251 - val_loss: 468.0132 - 6s/epoch - 16ms/step\n",
            "Epoch 115/200\n",
            "372/372 - 5s - loss: 474.2878 - val_loss: 517.2442 - 5s/epoch - 13ms/step\n",
            "Epoch 116/200\n",
            "372/372 - 6s - loss: 479.5258 - val_loss: 471.8216 - 6s/epoch - 16ms/step\n",
            "Epoch 117/200\n",
            "372/372 - 5s - loss: 477.0407 - val_loss: 466.4830 - 5s/epoch - 13ms/step\n",
            "Epoch 118/200\n",
            "372/372 - 6s - loss: 473.8142 - val_loss: 463.2796 - 6s/epoch - 15ms/step\n",
            "Epoch 119/200\n",
            "372/372 - 5s - loss: 470.7549 - val_loss: 462.8319 - 5s/epoch - 13ms/step\n",
            "Epoch 120/200\n",
            "372/372 - 5s - loss: 472.1352 - val_loss: 461.6975 - 5s/epoch - 13ms/step\n",
            "Epoch 121/200\n",
            "372/372 - 6s - loss: 471.3694 - val_loss: 475.6389 - 6s/epoch - 16ms/step\n",
            "Epoch 122/200\n",
            "372/372 - 5s - loss: 478.4331 - val_loss: 473.5425 - 5s/epoch - 13ms/step\n",
            "Epoch 123/200\n",
            "372/372 - 6s - loss: 474.7808 - val_loss: 466.2723 - 6s/epoch - 16ms/step\n",
            "Epoch 124/200\n",
            "372/372 - 5s - loss: 466.0739 - val_loss: 466.1448 - 5s/epoch - 13ms/step\n",
            "Epoch 125/200\n",
            "372/372 - 7s - loss: 476.5424 - val_loss: 471.1910 - 7s/epoch - 18ms/step\n",
            "Epoch 126/200\n",
            "372/372 - 5s - loss: 467.0631 - val_loss: 463.6385 - 5s/epoch - 13ms/step\n",
            "Epoch 127/200\n",
            "372/372 - 5s - loss: 469.8904 - val_loss: 465.1729 - 5s/epoch - 13ms/step\n",
            "Epoch 128/200\n",
            "372/372 - 6s - loss: 467.2323 - val_loss: 468.5734 - 6s/epoch - 15ms/step\n",
            "Epoch 129/200\n",
            "372/372 - 5s - loss: 470.7798 - val_loss: 470.2184 - 5s/epoch - 13ms/step\n",
            "Epoch 130/200\n",
            "372/372 - 6s - loss: 467.6501 - val_loss: 467.5313 - 6s/epoch - 16ms/step\n",
            "Epoch 131/200\n",
            "372/372 - 5s - loss: 463.2549 - val_loss: 465.7945 - 5s/epoch - 13ms/step\n",
            "Epoch 132/200\n",
            "372/372 - 6s - loss: 471.7502 - val_loss: 465.6994 - 6s/epoch - 16ms/step\n",
            "Epoch 133/200\n",
            "372/372 - 5s - loss: 463.5209 - val_loss: 462.7405 - 5s/epoch - 13ms/step\n",
            "Epoch 134/200\n",
            "372/372 - 6s - loss: 465.5511 - val_loss: 465.3362 - 6s/epoch - 17ms/step\n",
            "Epoch 135/200\n",
            "372/372 - 5s - loss: 470.7346 - val_loss: 463.1483 - 5s/epoch - 13ms/step\n",
            "Epoch 136/200\n",
            "372/372 - 5s - loss: 460.2333 - val_loss: 464.2660 - 5s/epoch - 13ms/step\n",
            "Epoch 137/200\n",
            "372/372 - 6s - loss: 462.1875 - val_loss: 473.8390 - 6s/epoch - 16ms/step\n",
            "Epoch 138/200\n",
            "372/372 - 5s - loss: 457.7421 - val_loss: 464.0048 - 5s/epoch - 13ms/step\n",
            "Epoch 139/200\n",
            "372/372 - 6s - loss: 461.3929 - val_loss: 466.3739 - 6s/epoch - 16ms/step\n",
            "Epoch 140/200\n",
            "372/372 - 5s - loss: 458.9286 - val_loss: 468.8570 - 5s/epoch - 13ms/step\n",
            "Epoch 141/200\n",
            "372/372 - 6s - loss: 457.1500 - val_loss: 464.5940 - 6s/epoch - 17ms/step\n",
            "Epoch 142/200\n",
            "372/372 - 5s - loss: 460.7164 - val_loss: 465.4635 - 5s/epoch - 13ms/step\n",
            "Epoch 143/200\n",
            "372/372 - 6s - loss: 462.5002 - val_loss: 462.3965 - 6s/epoch - 15ms/step\n",
            "Epoch 144/200\n",
            "372/372 - 5s - loss: 457.4364 - val_loss: 464.0316 - 5s/epoch - 14ms/step\n",
            "Epoch 145/200\n",
            "372/372 - 5s - loss: 458.2994 - val_loss: 464.6593 - 5s/epoch - 13ms/step\n",
            "Epoch 146/200\n",
            "372/372 - 6s - loss: 460.2648 - val_loss: 475.9629 - 6s/epoch - 16ms/step\n",
            "Epoch 147/200\n",
            "372/372 - 5s - loss: 459.6451 - val_loss: 463.6564 - 5s/epoch - 13ms/step\n",
            "Epoch 148/200\n",
            "372/372 - 6s - loss: 454.9124 - val_loss: 466.5317 - 6s/epoch - 17ms/step\n",
            "Epoch 149/200\n",
            "372/372 - 5s - loss: 454.9037 - val_loss: 473.2661 - 5s/epoch - 13ms/step\n",
            "Epoch 150/200\n",
            "372/372 - 6s - loss: 454.2499 - val_loss: 462.6180 - 6s/epoch - 17ms/step\n",
            "Epoch 151/200\n",
            "372/372 - 5s - loss: 453.7870 - val_loss: 461.9090 - 5s/epoch - 13ms/step\n",
            "Epoch 152/200\n",
            "372/372 - 5s - loss: 452.0647 - val_loss: 462.8840 - 5s/epoch - 13ms/step\n",
            "Epoch 153/200\n",
            "372/372 - 6s - loss: 456.4160 - val_loss: 463.3140 - 6s/epoch - 15ms/step\n",
            "Epoch 154/200\n",
            "372/372 - 5s - loss: 448.9140 - val_loss: 469.1307 - 5s/epoch - 13ms/step\n",
            "Epoch 155/200\n",
            "372/372 - 6s - loss: 449.6748 - val_loss: 466.7796 - 6s/epoch - 16ms/step\n",
            "Epoch 156/200\n",
            "372/372 - 5s - loss: 453.6963 - val_loss: 462.1342 - 5s/epoch - 13ms/step\n",
            "Epoch 157/200\n",
            "372/372 - 6s - loss: 451.3922 - val_loss: 466.0923 - 6s/epoch - 16ms/step\n",
            "Epoch 158/200\n",
            "372/372 - 5s - loss: 454.7928 - val_loss: 480.8702 - 5s/epoch - 13ms/step\n",
            "Epoch 159/200\n",
            "372/372 - 5s - loss: 449.3186 - val_loss: 468.0710 - 5s/epoch - 14ms/step\n",
            "Epoch 160/200\n",
            "372/372 - 5s - loss: 447.7525 - val_loss: 464.2017 - 5s/epoch - 15ms/step\n",
            "Epoch 161/200\n",
            "372/372 - 5s - loss: 453.2982 - val_loss: 462.6495 - 5s/epoch - 13ms/step\n",
            "Epoch 162/200\n",
            "372/372 - 6s - loss: 444.2796 - val_loss: 464.4456 - 6s/epoch - 16ms/step\n",
            "Epoch 163/200\n",
            "372/372 - 5s - loss: 446.2445 - val_loss: 462.1726 - 5s/epoch - 13ms/step\n",
            "Epoch 164/200\n",
            "372/372 - 6s - loss: 443.0626 - val_loss: 465.3907 - 6s/epoch - 17ms/step\n",
            "Epoch 165/200\n",
            "372/372 - 5s - loss: 443.2179 - val_loss: 468.0089 - 5s/epoch - 13ms/step\n",
            "Epoch 166/200\n",
            "372/372 - 6s - loss: 444.8083 - val_loss: 468.8769 - 6s/epoch - 16ms/step\n",
            "Epoch 167/200\n",
            "372/372 - 5s - loss: 440.7015 - val_loss: 467.5816 - 5s/epoch - 13ms/step\n",
            "Epoch 168/200\n",
            "372/372 - 5s - loss: 440.7257 - val_loss: 468.4544 - 5s/epoch - 13ms/step\n",
            "Epoch 169/200\n",
            "372/372 - 6s - loss: 439.4346 - val_loss: 465.8556 - 6s/epoch - 16ms/step\n",
            "Epoch 170/200\n",
            "372/372 - 5s - loss: 437.5901 - val_loss: 489.3856 - 5s/epoch - 13ms/step\n",
            "Epoch 171/200\n",
            "372/372 - 6s - loss: 443.5092 - val_loss: 468.7100 - 6s/epoch - 16ms/step\n",
            "Epoch 172/200\n",
            "372/372 - 5s - loss: 436.5010 - val_loss: 477.6574 - 5s/epoch - 13ms/step\n",
            "Epoch 173/200\n",
            "372/372 - 6s - loss: 438.2955 - val_loss: 468.0236 - 6s/epoch - 16ms/step\n",
            "Epoch 174/200\n",
            "372/372 - 5s - loss: 434.7203 - val_loss: 465.4556 - 5s/epoch - 13ms/step\n",
            "Epoch 175/200\n",
            "372/372 - 5s - loss: 436.8604 - val_loss: 464.8674 - 5s/epoch - 13ms/step\n",
            "Epoch 176/200\n",
            "372/372 - 6s - loss: 434.0067 - val_loss: 467.1432 - 6s/epoch - 15ms/step\n",
            "Epoch 177/200\n",
            "372/372 - 5s - loss: 441.7859 - val_loss: 469.0654 - 5s/epoch - 13ms/step\n",
            "Epoch 178/200\n",
            "372/372 - 6s - loss: 436.8209 - val_loss: 466.1248 - 6s/epoch - 16ms/step\n",
            "Epoch 179/200\n",
            "372/372 - 5s - loss: 432.6925 - val_loss: 465.1033 - 5s/epoch - 13ms/step\n",
            "Epoch 180/200\n",
            "372/372 - 6s - loss: 434.6883 - val_loss: 467.3778 - 6s/epoch - 16ms/step\n",
            "Epoch 181/200\n",
            "372/372 - 5s - loss: 434.4326 - val_loss: 466.4972 - 5s/epoch - 13ms/step\n",
            "Epoch 182/200\n",
            "372/372 - 5s - loss: 432.1135 - val_loss: 465.4679 - 5s/epoch - 15ms/step\n",
            "Epoch 183/200\n",
            "372/372 - 5s - loss: 434.3303 - val_loss: 467.9390 - 5s/epoch - 14ms/step\n",
            "Epoch 184/200\n",
            "372/372 - 5s - loss: 435.4844 - val_loss: 471.1686 - 5s/epoch - 13ms/step\n",
            "Epoch 185/200\n",
            "372/372 - 6s - loss: 427.7855 - val_loss: 470.2931 - 6s/epoch - 16ms/step\n",
            "Epoch 186/200\n",
            "372/372 - 5s - loss: 433.3895 - val_loss: 467.1490 - 5s/epoch - 13ms/step\n",
            "Epoch 187/200\n",
            "372/372 - 6s - loss: 430.3960 - val_loss: 466.9394 - 6s/epoch - 16ms/step\n",
            "Epoch 188/200\n",
            "372/372 - 5s - loss: 422.3455 - val_loss: 477.5170 - 5s/epoch - 13ms/step\n",
            "Epoch 189/200\n",
            "372/372 - 7s - loss: 431.8539 - val_loss: 466.8549 - 7s/epoch - 18ms/step\n",
            "Epoch 190/200\n",
            "372/372 - 5s - loss: 432.6183 - val_loss: 471.0011 - 5s/epoch - 13ms/step\n",
            "Epoch 191/200\n",
            "372/372 - 6s - loss: 431.5925 - val_loss: 468.6597 - 6s/epoch - 15ms/step\n",
            "Epoch 192/200\n",
            "372/372 - 5s - loss: 427.2464 - val_loss: 464.7802 - 5s/epoch - 14ms/step\n",
            "Epoch 193/200\n",
            "372/372 - 5s - loss: 425.6222 - val_loss: 470.1230 - 5s/epoch - 13ms/step\n",
            "Epoch 194/200\n",
            "372/372 - 6s - loss: 424.1628 - val_loss: 477.7787 - 6s/epoch - 16ms/step\n",
            "Epoch 195/200\n",
            "372/372 - 5s - loss: 425.9806 - val_loss: 473.6151 - 5s/epoch - 13ms/step\n",
            "Epoch 196/200\n",
            "372/372 - 6s - loss: 420.8945 - val_loss: 467.7897 - 6s/epoch - 16ms/step\n",
            "Epoch 197/200\n",
            "372/372 - 5s - loss: 422.2593 - val_loss: 468.2600 - 5s/epoch - 13ms/step\n",
            "Epoch 198/200\n",
            "372/372 - 6s - loss: 422.0781 - val_loss: 474.3521 - 6s/epoch - 16ms/step\n",
            "Epoch 199/200\n",
            "372/372 - 5s - loss: 420.0937 - val_loss: 469.8444 - 5s/epoch - 13ms/step\n",
            "Epoch 200/200\n",
            "372/372 - 5s - loss: 426.2500 - val_loss: 469.2738 - 5s/epoch - 13ms/step\n"
          ]
        }
      ],
      "source": [
        "cnn_bilstm_history = model_cnn_bilstm.fit(X_train_series_sub, Y_train, validation_data=(X_valid_series_sub, Y_valid), epochs=epochs, verbose=2)"
      ]
    },
    {
      "cell_type": "code",
      "source": [
        "import pandas as pd\n",
        "import numpy as np\n",
        "pd.DataFrame(Y_train).to_csv('s3.csv')\n",
        "\n",
        "import pandas as pd\n",
        "import numpy as np\n",
        "pd.DataFrame(cnn_bilstm_train_pred).to_csv('s4.csv')"
      ],
      "metadata": {
        "id": "NLVS-U2FSGpJ"
      },
      "execution_count": null,
      "outputs": []
    },
    {
      "cell_type": "code",
      "execution_count": null,
      "metadata": {
        "id": "pLgqSJuS3ZCs",
        "colab": {
          "base_uri": "https://localhost:8080/",
          "height": 648
        },
        "outputId": "7d2ca623-7d01-4e56-f413-2bd59c6313fe"
      },
      "outputs": [
        {
          "output_type": "display_data",
          "data": {
            "text/plain": [
              "<Figure size 2200x1200 with 1 Axes>"
            ],
            "image/png": "[encoded data removed]"
          },
          "metadata": {}
        }
      ],
      "source": [
        "fig, ax4 = plt.subplots(1, 1, sharex=True, sharey=True,figsize=(22,12))\n",
        "\n",
        "ax4.plot(cnn_bilstm_history.history['loss'], label='Train loss')\n",
        "ax4.plot(cnn_bilstm_history.history['val_loss'], label='Validation loss')\n",
        "ax4.legend(loc='best')\n",
        "ax4.set_title('CNN-BiLSTM')\n",
        "ax4.set_xlabel('Epochs')\n",
        "ax4.set_ylabel('MSE')\n",
        "\n",
        "plt.show()"
      ]
    },
    {
      "cell_type": "code",
      "execution_count": null,
      "metadata": {
        "id": "3NUSuVUB4tLO",
        "colab": {
          "base_uri": "https://localhost:8080/"
        },
        "outputId": "b4f1d682-e523-4968-ae12-35c0e136227c"
      },
      "outputs": [
        {
          "output_type": "stream",
          "name": "stdout",
          "text": [
            "372/372 [==============================] - 2s 4ms/step\n",
            "248/248 [==============================] - 1s 2ms/step\n",
            "Train rmse: 19.326606470514857\n",
            "Validation rmse: 21.662729750763468\n"
          ]
        }
      ],
      "source": [
        "cnn_bilstm_train_pred = model_cnn_bilstm.predict(X_train_series_sub)\n",
        "cnn_bilstm_valid_pred = model_cnn_bilstm.predict(X_valid_series_sub)\n",
        "end_time=time.time()\n",
        "\n",
        "print('Train rmse:', np.sqrt(mean_squared_error(Y_train, cnn_bilstm_train_pred)))\n",
        "print('Validation rmse:', np.sqrt(mean_squared_error(Y_valid, cnn_bilstm_valid_pred)))"
      ]
    },
    {
      "cell_type": "markdown",
      "source": [
        "Calculating Performance measures"
      ],
      "metadata": {
        "id": "oKPWKOSQhWoI"
      }
    },
    {
      "cell_type": "code",
      "execution_count": null,
      "metadata": {
        "id": "nB6RMYoQ49dW",
        "colab": {
          "base_uri": "https://localhost:8080/"
        },
        "outputId": "5c9be694-9492-4b6f-9329-3966ef94de4b"
      },
      "outputs": [
        {
          "output_type": "stream",
          "name": "stdout",
          "text": [
            "MAE: 14.3131\n",
            "MAPE: 32.41%\n",
            "R-squared: 0.6497\n",
            "Execution time 1126.885648727417\n"
          ]
        }
      ],
      "source": [
        "from sklearn.metrics import mean_absolute_error, mean_absolute_percentage_error, r2_score\n",
        "mae = mean_absolute_error(Y_train, cnn_bilstm_train_pred)\n",
        "mape = mean_absolute_percentage_error(Y_train, cnn_bilstm_train_pred) * 100\n",
        "r2 = r2_score(Y_train, cnn_bilstm_train_pred)\n",
        "execution_time=end_time-start_time\n",
        "\n",
        "# Print the results\n",
        "print(\"MAE: {:.4f}\".format(mae))\n",
        "print(\"MAPE: {:.2f}%\".format(mape))\n",
        "print(\"R-squared: {:.4f}\".format(r2))\n",
        "print(\"Execution time\",execution_time)"
      ]
    }
  ]
}